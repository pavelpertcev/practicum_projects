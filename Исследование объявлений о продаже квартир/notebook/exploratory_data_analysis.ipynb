{
 "cells": [
  {
   "cell_type": "markdown",
   "metadata": {
    "id": "-VFbjcb3Awb7"
   },
   "source": [
    "# Исследование объявлений о продаже квартир\n",
    "\n",
    "В нашем распоряжении данные сервиса Яндекс Недвижимость — архив объявлений о продаже квартир в Санкт-Петербурге и соседних населённых пунктах за несколько лет. Мы будем определять рыночную стоимость объектов недвижимости. Для этого проведем исследовательский анализ данных и установим параметры, влияющие на цену объектов. Это позволит построить автоматизированную систему: она отследит аномалии и мошенническую деятельность.\n",
    "\n",
    "По каждой квартире на продажу доступны два вида данных. Первые вписаны пользователем, вторые — получены автоматически на основе картографических данных. Например, расстояние до центра, аэропорта и других объектов — эти данные автоматически получены из геосервисов. Количество парков и водоёмов также заполняется без участия пользователя."
   ]
  },
  {
   "cell_type": "markdown",
   "metadata": {},
   "source": [
    "Для начала мы изучим данные в таблице: какие колонки содержит, какого типа данные в колонках, какие значения преобладают. Далее посмотрим на пропуски в данных и разберемся с ними: выясним почему они могли появиться и как их можно убрать, если можно. Потом по возможности изменим типы данных на более удобные для нас и удалим явные и неявные дубликаты. Далее добавим в таблицу новые колонки: цену за 1 м^2; день недели, месяц и год публикации; тип этажа квартиры; расстояние до центра. Следующим этапом мы изучим параметры:общая площадь, жилая площадь, площадь кухни, цена объекта, количество комнат, высота потолков, тип этажа квартиры («первый», «последний», «другой»), общее количество этажей в доме, расстояние до центра города в метрах, расстояние до ближайшего парка. Найдем в них аномалии и удалим им, чтобы результаты были менее искаженными. Далее, по подготовленным данным мы изучим как быстро продавались квартиры и какие параметры больше всего повлияли на стоимость. Найдем населённые пункты с самой высокой и низкой стоимостью квадратного метра. Выясним как удаленность от центра влияет на стоимость квартир. И сделаем вывод исходя из получившейся информации.\n"
   ]
  },
  {
   "cell_type": "markdown",
   "metadata": {
    "id": "aeFLH07FAwb9"
   },
   "source": [
    "### Загрузка данных"
   ]
  },
  {
   "cell_type": "code",
   "execution_count": 1,
   "metadata": {
    "id": "7MZxY65pAwb9",
    "scrolled": true
   },
   "outputs": [
    {
     "data": {
      "text/html": [
       "<div>\n",
       "<style scoped>\n",
       "    .dataframe tbody tr th:only-of-type {\n",
       "        vertical-align: middle;\n",
       "    }\n",
       "\n",
       "    .dataframe tbody tr th {\n",
       "        vertical-align: top;\n",
       "    }\n",
       "\n",
       "    .dataframe thead th {\n",
       "        text-align: right;\n",
       "    }\n",
       "</style>\n",
       "<table border=\"1\" class=\"dataframe\">\n",
       "  <thead>\n",
       "    <tr style=\"text-align: right;\">\n",
       "      <th></th>\n",
       "      <th>total_images</th>\n",
       "      <th>last_price</th>\n",
       "      <th>total_area</th>\n",
       "      <th>first_day_exposition</th>\n",
       "      <th>rooms</th>\n",
       "      <th>ceiling_height</th>\n",
       "      <th>floors_total</th>\n",
       "      <th>living_area</th>\n",
       "      <th>floor</th>\n",
       "      <th>is_apartment</th>\n",
       "      <th>...</th>\n",
       "      <th>kitchen_area</th>\n",
       "      <th>balcony</th>\n",
       "      <th>locality_name</th>\n",
       "      <th>airports_nearest</th>\n",
       "      <th>cityCenters_nearest</th>\n",
       "      <th>parks_around3000</th>\n",
       "      <th>parks_nearest</th>\n",
       "      <th>ponds_around3000</th>\n",
       "      <th>ponds_nearest</th>\n",
       "      <th>days_exposition</th>\n",
       "    </tr>\n",
       "  </thead>\n",
       "  <tbody>\n",
       "    <tr>\n",
       "      <th>0</th>\n",
       "      <td>20</td>\n",
       "      <td>13000000.0</td>\n",
       "      <td>108.00</td>\n",
       "      <td>2019-03-07T00:00:00</td>\n",
       "      <td>3</td>\n",
       "      <td>2.70</td>\n",
       "      <td>16.0</td>\n",
       "      <td>51.0</td>\n",
       "      <td>8</td>\n",
       "      <td>NaN</td>\n",
       "      <td>...</td>\n",
       "      <td>25.00</td>\n",
       "      <td>NaN</td>\n",
       "      <td>Санкт-Петербург</td>\n",
       "      <td>18863.0</td>\n",
       "      <td>16028.0</td>\n",
       "      <td>1.0</td>\n",
       "      <td>482.0</td>\n",
       "      <td>2.0</td>\n",
       "      <td>755.0</td>\n",
       "      <td>NaN</td>\n",
       "    </tr>\n",
       "    <tr>\n",
       "      <th>1</th>\n",
       "      <td>7</td>\n",
       "      <td>3350000.0</td>\n",
       "      <td>40.40</td>\n",
       "      <td>2018-12-04T00:00:00</td>\n",
       "      <td>1</td>\n",
       "      <td>NaN</td>\n",
       "      <td>11.0</td>\n",
       "      <td>18.6</td>\n",
       "      <td>1</td>\n",
       "      <td>NaN</td>\n",
       "      <td>...</td>\n",
       "      <td>11.00</td>\n",
       "      <td>2.0</td>\n",
       "      <td>посёлок Шушары</td>\n",
       "      <td>12817.0</td>\n",
       "      <td>18603.0</td>\n",
       "      <td>0.0</td>\n",
       "      <td>NaN</td>\n",
       "      <td>0.0</td>\n",
       "      <td>NaN</td>\n",
       "      <td>81.0</td>\n",
       "    </tr>\n",
       "    <tr>\n",
       "      <th>2</th>\n",
       "      <td>10</td>\n",
       "      <td>5196000.0</td>\n",
       "      <td>56.00</td>\n",
       "      <td>2015-08-20T00:00:00</td>\n",
       "      <td>2</td>\n",
       "      <td>NaN</td>\n",
       "      <td>5.0</td>\n",
       "      <td>34.3</td>\n",
       "      <td>4</td>\n",
       "      <td>NaN</td>\n",
       "      <td>...</td>\n",
       "      <td>8.30</td>\n",
       "      <td>0.0</td>\n",
       "      <td>Санкт-Петербург</td>\n",
       "      <td>21741.0</td>\n",
       "      <td>13933.0</td>\n",
       "      <td>1.0</td>\n",
       "      <td>90.0</td>\n",
       "      <td>2.0</td>\n",
       "      <td>574.0</td>\n",
       "      <td>558.0</td>\n",
       "    </tr>\n",
       "    <tr>\n",
       "      <th>3</th>\n",
       "      <td>0</td>\n",
       "      <td>64900000.0</td>\n",
       "      <td>159.00</td>\n",
       "      <td>2015-07-24T00:00:00</td>\n",
       "      <td>3</td>\n",
       "      <td>NaN</td>\n",
       "      <td>14.0</td>\n",
       "      <td>NaN</td>\n",
       "      <td>9</td>\n",
       "      <td>NaN</td>\n",
       "      <td>...</td>\n",
       "      <td>NaN</td>\n",
       "      <td>0.0</td>\n",
       "      <td>Санкт-Петербург</td>\n",
       "      <td>28098.0</td>\n",
       "      <td>6800.0</td>\n",
       "      <td>2.0</td>\n",
       "      <td>84.0</td>\n",
       "      <td>3.0</td>\n",
       "      <td>234.0</td>\n",
       "      <td>424.0</td>\n",
       "    </tr>\n",
       "    <tr>\n",
       "      <th>4</th>\n",
       "      <td>2</td>\n",
       "      <td>10000000.0</td>\n",
       "      <td>100.00</td>\n",
       "      <td>2018-06-19T00:00:00</td>\n",
       "      <td>2</td>\n",
       "      <td>3.03</td>\n",
       "      <td>14.0</td>\n",
       "      <td>32.0</td>\n",
       "      <td>13</td>\n",
       "      <td>NaN</td>\n",
       "      <td>...</td>\n",
       "      <td>41.00</td>\n",
       "      <td>NaN</td>\n",
       "      <td>Санкт-Петербург</td>\n",
       "      <td>31856.0</td>\n",
       "      <td>8098.0</td>\n",
       "      <td>2.0</td>\n",
       "      <td>112.0</td>\n",
       "      <td>1.0</td>\n",
       "      <td>48.0</td>\n",
       "      <td>121.0</td>\n",
       "    </tr>\n",
       "    <tr>\n",
       "      <th>...</th>\n",
       "      <td>...</td>\n",
       "      <td>...</td>\n",
       "      <td>...</td>\n",
       "      <td>...</td>\n",
       "      <td>...</td>\n",
       "      <td>...</td>\n",
       "      <td>...</td>\n",
       "      <td>...</td>\n",
       "      <td>...</td>\n",
       "      <td>...</td>\n",
       "      <td>...</td>\n",
       "      <td>...</td>\n",
       "      <td>...</td>\n",
       "      <td>...</td>\n",
       "      <td>...</td>\n",
       "      <td>...</td>\n",
       "      <td>...</td>\n",
       "      <td>...</td>\n",
       "      <td>...</td>\n",
       "      <td>...</td>\n",
       "      <td>...</td>\n",
       "    </tr>\n",
       "    <tr>\n",
       "      <th>23694</th>\n",
       "      <td>9</td>\n",
       "      <td>9700000.0</td>\n",
       "      <td>133.81</td>\n",
       "      <td>2017-03-21T00:00:00</td>\n",
       "      <td>3</td>\n",
       "      <td>3.70</td>\n",
       "      <td>5.0</td>\n",
       "      <td>73.3</td>\n",
       "      <td>3</td>\n",
       "      <td>NaN</td>\n",
       "      <td>...</td>\n",
       "      <td>13.83</td>\n",
       "      <td>NaN</td>\n",
       "      <td>Санкт-Петербург</td>\n",
       "      <td>24665.0</td>\n",
       "      <td>4232.0</td>\n",
       "      <td>1.0</td>\n",
       "      <td>796.0</td>\n",
       "      <td>3.0</td>\n",
       "      <td>381.0</td>\n",
       "      <td>NaN</td>\n",
       "    </tr>\n",
       "    <tr>\n",
       "      <th>23695</th>\n",
       "      <td>14</td>\n",
       "      <td>3100000.0</td>\n",
       "      <td>59.00</td>\n",
       "      <td>2018-01-15T00:00:00</td>\n",
       "      <td>3</td>\n",
       "      <td>NaN</td>\n",
       "      <td>5.0</td>\n",
       "      <td>38.0</td>\n",
       "      <td>4</td>\n",
       "      <td>NaN</td>\n",
       "      <td>...</td>\n",
       "      <td>8.50</td>\n",
       "      <td>NaN</td>\n",
       "      <td>Тосно</td>\n",
       "      <td>NaN</td>\n",
       "      <td>NaN</td>\n",
       "      <td>NaN</td>\n",
       "      <td>NaN</td>\n",
       "      <td>NaN</td>\n",
       "      <td>NaN</td>\n",
       "      <td>45.0</td>\n",
       "    </tr>\n",
       "    <tr>\n",
       "      <th>23696</th>\n",
       "      <td>18</td>\n",
       "      <td>2500000.0</td>\n",
       "      <td>56.70</td>\n",
       "      <td>2018-02-11T00:00:00</td>\n",
       "      <td>2</td>\n",
       "      <td>NaN</td>\n",
       "      <td>3.0</td>\n",
       "      <td>29.7</td>\n",
       "      <td>1</td>\n",
       "      <td>NaN</td>\n",
       "      <td>...</td>\n",
       "      <td>NaN</td>\n",
       "      <td>NaN</td>\n",
       "      <td>село Рождествено</td>\n",
       "      <td>NaN</td>\n",
       "      <td>NaN</td>\n",
       "      <td>NaN</td>\n",
       "      <td>NaN</td>\n",
       "      <td>NaN</td>\n",
       "      <td>NaN</td>\n",
       "      <td>NaN</td>\n",
       "    </tr>\n",
       "    <tr>\n",
       "      <th>23697</th>\n",
       "      <td>13</td>\n",
       "      <td>11475000.0</td>\n",
       "      <td>76.75</td>\n",
       "      <td>2017-03-28T00:00:00</td>\n",
       "      <td>2</td>\n",
       "      <td>3.00</td>\n",
       "      <td>17.0</td>\n",
       "      <td>NaN</td>\n",
       "      <td>12</td>\n",
       "      <td>NaN</td>\n",
       "      <td>...</td>\n",
       "      <td>23.30</td>\n",
       "      <td>2.0</td>\n",
       "      <td>Санкт-Петербург</td>\n",
       "      <td>39140.0</td>\n",
       "      <td>10364.0</td>\n",
       "      <td>2.0</td>\n",
       "      <td>173.0</td>\n",
       "      <td>3.0</td>\n",
       "      <td>196.0</td>\n",
       "      <td>602.0</td>\n",
       "    </tr>\n",
       "    <tr>\n",
       "      <th>23698</th>\n",
       "      <td>4</td>\n",
       "      <td>1350000.0</td>\n",
       "      <td>32.30</td>\n",
       "      <td>2017-07-21T00:00:00</td>\n",
       "      <td>1</td>\n",
       "      <td>2.50</td>\n",
       "      <td>5.0</td>\n",
       "      <td>12.3</td>\n",
       "      <td>1</td>\n",
       "      <td>NaN</td>\n",
       "      <td>...</td>\n",
       "      <td>9.00</td>\n",
       "      <td>NaN</td>\n",
       "      <td>поселок Новый Учхоз</td>\n",
       "      <td>NaN</td>\n",
       "      <td>NaN</td>\n",
       "      <td>NaN</td>\n",
       "      <td>NaN</td>\n",
       "      <td>NaN</td>\n",
       "      <td>NaN</td>\n",
       "      <td>NaN</td>\n",
       "    </tr>\n",
       "  </tbody>\n",
       "</table>\n",
       "<p>23699 rows × 22 columns</p>\n",
       "</div>"
      ],
      "text/plain": [
       "       total_images  last_price  total_area first_day_exposition  rooms  \\\n",
       "0                20  13000000.0      108.00  2019-03-07T00:00:00      3   \n",
       "1                 7   3350000.0       40.40  2018-12-04T00:00:00      1   \n",
       "2                10   5196000.0       56.00  2015-08-20T00:00:00      2   \n",
       "3                 0  64900000.0      159.00  2015-07-24T00:00:00      3   \n",
       "4                 2  10000000.0      100.00  2018-06-19T00:00:00      2   \n",
       "...             ...         ...         ...                  ...    ...   \n",
       "23694             9   9700000.0      133.81  2017-03-21T00:00:00      3   \n",
       "23695            14   3100000.0       59.00  2018-01-15T00:00:00      3   \n",
       "23696            18   2500000.0       56.70  2018-02-11T00:00:00      2   \n",
       "23697            13  11475000.0       76.75  2017-03-28T00:00:00      2   \n",
       "23698             4   1350000.0       32.30  2017-07-21T00:00:00      1   \n",
       "\n",
       "       ceiling_height  floors_total  living_area  floor is_apartment  ...  \\\n",
       "0                2.70          16.0         51.0      8          NaN  ...   \n",
       "1                 NaN          11.0         18.6      1          NaN  ...   \n",
       "2                 NaN           5.0         34.3      4          NaN  ...   \n",
       "3                 NaN          14.0          NaN      9          NaN  ...   \n",
       "4                3.03          14.0         32.0     13          NaN  ...   \n",
       "...               ...           ...          ...    ...          ...  ...   \n",
       "23694            3.70           5.0         73.3      3          NaN  ...   \n",
       "23695             NaN           5.0         38.0      4          NaN  ...   \n",
       "23696             NaN           3.0         29.7      1          NaN  ...   \n",
       "23697            3.00          17.0          NaN     12          NaN  ...   \n",
       "23698            2.50           5.0         12.3      1          NaN  ...   \n",
       "\n",
       "       kitchen_area  balcony        locality_name  airports_nearest  \\\n",
       "0             25.00      NaN      Санкт-Петербург           18863.0   \n",
       "1             11.00      2.0       посёлок Шушары           12817.0   \n",
       "2              8.30      0.0      Санкт-Петербург           21741.0   \n",
       "3               NaN      0.0      Санкт-Петербург           28098.0   \n",
       "4             41.00      NaN      Санкт-Петербург           31856.0   \n",
       "...             ...      ...                  ...               ...   \n",
       "23694         13.83      NaN      Санкт-Петербург           24665.0   \n",
       "23695          8.50      NaN                Тосно               NaN   \n",
       "23696           NaN      NaN     село Рождествено               NaN   \n",
       "23697         23.30      2.0      Санкт-Петербург           39140.0   \n",
       "23698          9.00      NaN  поселок Новый Учхоз               NaN   \n",
       "\n",
       "      cityCenters_nearest  parks_around3000  parks_nearest  ponds_around3000  \\\n",
       "0                 16028.0               1.0          482.0               2.0   \n",
       "1                 18603.0               0.0            NaN               0.0   \n",
       "2                 13933.0               1.0           90.0               2.0   \n",
       "3                  6800.0               2.0           84.0               3.0   \n",
       "4                  8098.0               2.0          112.0               1.0   \n",
       "...                   ...               ...            ...               ...   \n",
       "23694              4232.0               1.0          796.0               3.0   \n",
       "23695                 NaN               NaN            NaN               NaN   \n",
       "23696                 NaN               NaN            NaN               NaN   \n",
       "23697             10364.0               2.0          173.0               3.0   \n",
       "23698                 NaN               NaN            NaN               NaN   \n",
       "\n",
       "       ponds_nearest  days_exposition  \n",
       "0              755.0              NaN  \n",
       "1                NaN             81.0  \n",
       "2              574.0            558.0  \n",
       "3              234.0            424.0  \n",
       "4               48.0            121.0  \n",
       "...              ...              ...  \n",
       "23694          381.0              NaN  \n",
       "23695            NaN             45.0  \n",
       "23696            NaN              NaN  \n",
       "23697          196.0            602.0  \n",
       "23698            NaN              NaN  \n",
       "\n",
       "[23699 rows x 22 columns]"
      ]
     },
     "execution_count": 1,
     "metadata": {},
     "output_type": "execute_result"
    }
   ],
   "source": [
    "import pandas as pd\n",
    "data = pd.read_csv('/datasets/real_estate_data.csv', sep='\\t')\n",
    "data"
   ]
  },
  {
   "cell_type": "code",
   "execution_count": 2,
   "metadata": {},
   "outputs": [
    {
     "name": "stdout",
     "output_type": "stream",
     "text": [
      "<class 'pandas.core.frame.DataFrame'>\n",
      "RangeIndex: 23699 entries, 0 to 23698\n",
      "Data columns (total 22 columns):\n",
      " #   Column                Non-Null Count  Dtype  \n",
      "---  ------                --------------  -----  \n",
      " 0   total_images          23699 non-null  int64  \n",
      " 1   last_price            23699 non-null  float64\n",
      " 2   total_area            23699 non-null  float64\n",
      " 3   first_day_exposition  23699 non-null  object \n",
      " 4   rooms                 23699 non-null  int64  \n",
      " 5   ceiling_height        14504 non-null  float64\n",
      " 6   floors_total          23613 non-null  float64\n",
      " 7   living_area           21796 non-null  float64\n",
      " 8   floor                 23699 non-null  int64  \n",
      " 9   is_apartment          2775 non-null   object \n",
      " 10  studio                23699 non-null  bool   \n",
      " 11  open_plan             23699 non-null  bool   \n",
      " 12  kitchen_area          21421 non-null  float64\n",
      " 13  balcony               12180 non-null  float64\n",
      " 14  locality_name         23650 non-null  object \n",
      " 15  airports_nearest      18157 non-null  float64\n",
      " 16  cityCenters_nearest   18180 non-null  float64\n",
      " 17  parks_around3000      18181 non-null  float64\n",
      " 18  parks_nearest         8079 non-null   float64\n",
      " 19  ponds_around3000      18181 non-null  float64\n",
      " 20  ponds_nearest         9110 non-null   float64\n",
      " 21  days_exposition       20518 non-null  float64\n",
      "dtypes: bool(2), float64(14), int64(3), object(3)\n",
      "memory usage: 3.7+ MB\n"
     ]
    }
   ],
   "source": [
    "data.info() #смотрим информацию о датафрейме"
   ]
  },
  {
   "cell_type": "code",
   "execution_count": 3,
   "metadata": {},
   "outputs": [
    {
     "data": {
      "text/plain": [
       "array([[<AxesSubplot:title={'center':'total_images'}>,\n",
       "        <AxesSubplot:title={'center':'last_price'}>,\n",
       "        <AxesSubplot:title={'center':'total_area'}>,\n",
       "        <AxesSubplot:title={'center':'rooms'}>],\n",
       "       [<AxesSubplot:title={'center':'ceiling_height'}>,\n",
       "        <AxesSubplot:title={'center':'floors_total'}>,\n",
       "        <AxesSubplot:title={'center':'living_area'}>,\n",
       "        <AxesSubplot:title={'center':'floor'}>],\n",
       "       [<AxesSubplot:title={'center':'kitchen_area'}>,\n",
       "        <AxesSubplot:title={'center':'balcony'}>,\n",
       "        <AxesSubplot:title={'center':'airports_nearest'}>,\n",
       "        <AxesSubplot:title={'center':'cityCenters_nearest'}>],\n",
       "       [<AxesSubplot:title={'center':'parks_around3000'}>,\n",
       "        <AxesSubplot:title={'center':'parks_nearest'}>,\n",
       "        <AxesSubplot:title={'center':'ponds_around3000'}>,\n",
       "        <AxesSubplot:title={'center':'ponds_nearest'}>],\n",
       "       [<AxesSubplot:title={'center':'days_exposition'}>, <AxesSubplot:>,\n",
       "        <AxesSubplot:>, <AxesSubplot:>]], dtype=object)"
      ]
     },
     "execution_count": 3,
     "metadata": {},
     "output_type": "execute_result"
    },
    {
     "data": {
      "image/png": "[encoded data removed]",
      "text/plain": [
       "<Figure size 1080x1440 with 20 Axes>"
      ]
     },
     "metadata": {
      "needs_background": "light"
     },
     "output_type": "display_data"
    }
   ],
   "source": [
    "data.hist(bins=20, figsize=(15, 20)) #строим гистограммы числовых зачений"
   ]
  },
  {
   "cell_type": "markdown",
   "metadata": {},
   "source": [
    "#### Вывод"
   ]
  },
  {
   "cell_type": "markdown",
   "metadata": {},
   "source": [
    "В датафрейме в основном преобладают объявления с ~10 фотографиями. Самая встречающаяся этажность дома - 9 этажей. Самая популярная общая площадь - около 50 или чуть меньше метров, 1-2 комнаты. Этаж квартиры в основном - 1-5. Время с момента публикации объявления в основном порядка 50 дней. "
   ]
  },
  {
   "cell_type": "markdown",
   "metadata": {
    "id": "-O5NtivEAwb9"
   },
   "source": [
    "### Предобработка данных"
   ]
  },
  {
   "cell_type": "markdown",
   "metadata": {},
   "source": [
    "#### Изучение и заполнение пропусков"
   ]
  },
  {
   "cell_type": "code",
   "execution_count": 4,
   "metadata": {
    "id": "7v3vAeTuAwb-"
   },
   "outputs": [
    {
     "data": {
      "text/plain": [
       "is_apartment            88.290645\n",
       "parks_nearest           65.909954\n",
       "ponds_nearest           61.559559\n",
       "balcony                 48.605426\n",
       "ceiling_height          38.799105\n",
       "airports_nearest        23.384953\n",
       "cityCenters_nearest     23.287902\n",
       "ponds_around3000        23.283683\n",
       "parks_around3000        23.283683\n",
       "days_exposition         13.422507\n",
       "kitchen_area             9.612220\n",
       "living_area              8.029875\n",
       "floors_total             0.362885\n",
       "locality_name            0.206760\n",
       "total_images             0.000000\n",
       "last_price               0.000000\n",
       "studio                   0.000000\n",
       "floor                    0.000000\n",
       "rooms                    0.000000\n",
       "first_day_exposition     0.000000\n",
       "total_area               0.000000\n",
       "open_plan                0.000000\n",
       "dtype: float64"
      ]
     },
     "execution_count": 4,
     "metadata": {},
     "output_type": "execute_result"
    }
   ],
   "source": [
    "#смотрим на пропуски в данных в процентах\n",
    "(data.isna().sum() / len(data) * 100).sort_values(ascending=False)"
   ]
  },
  {
   "cell_type": "markdown",
   "metadata": {},
   "source": [
    "Практически во всех объявлениях не указано - апартаменты это или нет. В ~60% случаев не указано расстояние до ближайшего парка и водоема. В половине объявлений отсуствует информация о наличии балкона. В ~40% не указана высота потолков.В четверти объявлений не указана информация о расстоянии до аэропорта, до центра города, количество водоемов и парков в 3 км от дома (у этих данных процент одинаковый, а данные заполнялись автоматически,  видимо произошла ошибка в момент заполения). В 10% случаев не указано время размещения объявления, площадь кухни и жилая площадь."
   ]
  },
  {
   "cell_type": "code",
   "execution_count": 5,
   "metadata": {},
   "outputs": [
    {
     "data": {
      "text/plain": [
       "1.8018018018018018"
      ]
     },
     "execution_count": 5,
     "metadata": {},
     "output_type": "execute_result"
    }
   ],
   "source": [
    "#начнем со столбца is_apartment\n",
    "data['is_apartment'].sum() / data['is_apartment'].count() * 100"
   ]
  },
  {
   "cell_type": "code",
   "execution_count": 6,
   "metadata": {},
   "outputs": [
    {
     "data": {
      "text/plain": [
       "3113       NaN\n",
       "17467      NaN\n",
       "9218       NaN\n",
       "15015      NaN\n",
       "2845       NaN\n",
       "4983       NaN\n",
       "4482       NaN\n",
       "14054      NaN\n",
       "937        NaN\n",
       "18157      NaN\n",
       "1721       NaN\n",
       "23330      NaN\n",
       "2729     False\n",
       "14805      NaN\n",
       "16453      NaN\n",
       "15186      NaN\n",
       "12284      NaN\n",
       "1361       NaN\n",
       "19523      NaN\n",
       "18751      NaN\n",
       "Name: is_apartment, dtype: object"
      ]
     },
     "execution_count": 6,
     "metadata": {},
     "output_type": "execute_result"
    }
   ],
   "source": [
    "# Код ревьюера\n",
    "data['is_apartment'].sample(20)"
   ]
  },
  {
   "cell_type": "code",
   "execution_count": 7,
   "metadata": {},
   "outputs": [],
   "source": [
    "# так как из заполненных значений (около 3000), процент апартаментов состовляет меньше 2, то можно предположить, что\n",
    "# пропуски в столбце означают, что жилье не является апартаментами, поэтому заполним пропущенные зачения False.\n",
    "data['is_apartment'].fillna(False, inplace=True)"
   ]
  },
  {
   "cell_type": "code",
   "execution_count": 8,
   "metadata": {},
   "outputs": [],
   "source": [
    "#переходим к балконам. если не указано количество балконов, можно преположить, что их нет в принципе, поэтому заполним\n",
    "#пропущенные значения нулями.\n",
    "data['balcony'].fillna(0, inplace=True)"
   ]
  },
  {
   "cell_type": "code",
   "execution_count": 9,
   "metadata": {},
   "outputs": [],
   "source": [
    "#много, где не записана высота потолков. можно предположить, что она будет средней, как у других квартир. возьмем медианное\n",
    "#значение, и заполним им пропуски.\n",
    "data['ceiling_height'].fillna(data['ceiling_height'].median(), inplace=True)"
   ]
  },
  {
   "cell_type": "code",
   "execution_count": 10,
   "metadata": {},
   "outputs": [],
   "source": [
    "#найдем отношение мединнанной общей площади к медианной жилой\n",
    "median_living_ratio = data['total_area'].median() / data['living_area'].median() \n",
    "#найдем отношение мединнанной общей площади к медианной куханной\n",
    "median_kitchen_ratio = data['total_area'].median() / data['kitchen_area'].median()\n",
    "\n",
    "#заполним пропуски, поделив общую площадь на найденные выше коэффиценты\n",
    "data['kitchen_area'] = data['kitchen_area'].where(~data['kitchen_area'].isna(), data['total_area'] / median_kitchen_ratio)\n",
    "data['living_area'] = data['living_area'].where(~data['living_area'].isna(), data['total_area'] / median_living_ratio)"
   ]
  },
  {
   "cell_type": "code",
   "execution_count": 11,
   "metadata": {},
   "outputs": [],
   "source": [
    "data = data.dropna(subset=['floors_total', 'locality_name']) #удалим строки, где не указано количество этажей в доме и где не\n",
    "#указана локация(таких строк 0,4% и 0.2% соответсвенно,поэтому они не сыграют особой роли, но упрастят нам работу с данынми)"
   ]
  },
  {
   "cell_type": "code",
   "execution_count": 12,
   "metadata": {
    "scrolled": true
   },
   "outputs": [
    {
     "data": {
      "text/plain": [
       "parks_nearest           65.924040\n",
       "ponds_nearest           61.654997\n",
       "airports_nearest        23.441545\n",
       "cityCenters_nearest     23.343942\n",
       "ponds_around3000        23.339699\n",
       "parks_around3000        23.339699\n",
       "days_exposition         13.456397\n",
       "last_price               0.000000\n",
       "locality_name            0.000000\n",
       "balcony                  0.000000\n",
       "kitchen_area             0.000000\n",
       "total_images             0.000000\n",
       "studio                   0.000000\n",
       "is_apartment             0.000000\n",
       "floor                    0.000000\n",
       "living_area              0.000000\n",
       "floors_total             0.000000\n",
       "ceiling_height           0.000000\n",
       "rooms                    0.000000\n",
       "first_day_exposition     0.000000\n",
       "total_area               0.000000\n",
       "open_plan                0.000000\n",
       "dtype: float64"
      ]
     },
     "execution_count": 12,
     "metadata": {},
     "output_type": "execute_result"
    }
   ],
   "source": [
    "#посмотрим на обновленные данные\n",
    "(data.isna().sum() / len(data) * 100).sort_values(ascending=False)"
   ]
  },
  {
   "cell_type": "markdown",
   "metadata": {},
   "source": [
    "Некоторые пропуски возникли в процессе ручного ввода данных, а некоторые в процессе автоматического.\n",
    "Пользователь как правило ничего не указывал в колонке \"is_apartment\", так как подрозумевал, если у него не аппартаменты, то ничего писать не нужно. Аналогичего с колонкой \"balcony\" - если балкона не было, то он зачастую оставял пропуск. Были пропуски в разделах \"kitchen_area\" и \"living_area\". Они были возможно потому что пользователь не знал частичные площади, а знал только полную, либо потому что просто решил пропустить этот момент.\n",
    "Пропуски в колонках, заполненных автоматически тоже присуствуют. Они связаны с работой программы. Возможно, если программа не обнаруживала водоем / парк центр в ближайшие несколько километров, то программа вставляла пустое значение (порядка 60% таких пропусков от всей таблицы). Так же есть 23% у колонок \"airports_nearest\", \"cityCenters_nearest\", \"ponds_around3000\", \"parks_around3000\", это может быть связано с тем, что программа не смогла определить адрес, указанный в объявлении.\n"
   ]
  },
  {
   "cell_type": "markdown",
   "metadata": {},
   "source": [
    "#### Типы данных в таблице"
   ]
  },
  {
   "cell_type": "code",
   "execution_count": 13,
   "metadata": {},
   "outputs": [
    {
     "name": "stdout",
     "output_type": "stream",
     "text": [
      "<class 'pandas.core.frame.DataFrame'>\n",
      "Int64Index: 23565 entries, 0 to 23698\n",
      "Data columns (total 22 columns):\n",
      " #   Column                Non-Null Count  Dtype  \n",
      "---  ------                --------------  -----  \n",
      " 0   total_images          23565 non-null  int64  \n",
      " 1   last_price            23565 non-null  float64\n",
      " 2   total_area            23565 non-null  float64\n",
      " 3   first_day_exposition  23565 non-null  object \n",
      " 4   rooms                 23565 non-null  int64  \n",
      " 5   ceiling_height        23565 non-null  float64\n",
      " 6   floors_total          23565 non-null  float64\n",
      " 7   living_area           23565 non-null  float64\n",
      " 8   floor                 23565 non-null  int64  \n",
      " 9   is_apartment          23565 non-null  bool   \n",
      " 10  studio                23565 non-null  bool   \n",
      " 11  open_plan             23565 non-null  bool   \n",
      " 12  kitchen_area          23565 non-null  float64\n",
      " 13  balcony               23565 non-null  float64\n",
      " 14  locality_name         23565 non-null  object \n",
      " 15  airports_nearest      18041 non-null  float64\n",
      " 16  cityCenters_nearest   18064 non-null  float64\n",
      " 17  parks_around3000      18065 non-null  float64\n",
      " 18  parks_nearest         8030 non-null   float64\n",
      " 19  ponds_around3000      18065 non-null  float64\n",
      " 20  ponds_nearest         9036 non-null   float64\n",
      " 21  days_exposition       20394 non-null  float64\n",
      "dtypes: bool(3), float64(14), int64(3), object(2)\n",
      "memory usage: 3.7+ MB\n"
     ]
    }
   ],
   "source": [
    "data.info()"
   ]
  },
  {
   "cell_type": "code",
   "execution_count": 14,
   "metadata": {},
   "outputs": [
    {
     "name": "stderr",
     "output_type": "stream",
     "text": [
      "/tmp/ipykernel_389/3946253177.py:2: SettingWithCopyWarning: \n",
      "A value is trying to be set on a copy of a slice from a DataFrame.\n",
      "Try using .loc[row_indexer,col_indexer] = value instead\n",
      "\n",
      "See the caveats in the documentation: https://pandas.pydata.org/pandas-docs/stable/user_guide/indexing.html#returning-a-view-versus-a-copy\n",
      "  data['last_price'] = data['last_price'].astype('int')\n",
      "/tmp/ipykernel_389/3946253177.py:3: SettingWithCopyWarning: \n",
      "A value is trying to be set on a copy of a slice from a DataFrame.\n",
      "Try using .loc[row_indexer,col_indexer] = value instead\n",
      "\n",
      "See the caveats in the documentation: https://pandas.pydata.org/pandas-docs/stable/user_guide/indexing.html#returning-a-view-versus-a-copy\n",
      "  data['floors_total'] = data['floors_total'].astype('Int64')\n",
      "/tmp/ipykernel_389/3946253177.py:4: SettingWithCopyWarning: \n",
      "A value is trying to be set on a copy of a slice from a DataFrame.\n",
      "Try using .loc[row_indexer,col_indexer] = value instead\n",
      "\n",
      "See the caveats in the documentation: https://pandas.pydata.org/pandas-docs/stable/user_guide/indexing.html#returning-a-view-versus-a-copy\n",
      "  data['balcony'] = data['balcony'].astype('int')\n",
      "/tmp/ipykernel_389/3946253177.py:5: SettingWithCopyWarning: \n",
      "A value is trying to be set on a copy of a slice from a DataFrame.\n",
      "Try using .loc[row_indexer,col_indexer] = value instead\n",
      "\n",
      "See the caveats in the documentation: https://pandas.pydata.org/pandas-docs/stable/user_guide/indexing.html#returning-a-view-versus-a-copy\n",
      "  data['airports_nearest'] = data['airports_nearest'].astype('Int64')\n",
      "/tmp/ipykernel_389/3946253177.py:6: SettingWithCopyWarning: \n",
      "A value is trying to be set on a copy of a slice from a DataFrame.\n",
      "Try using .loc[row_indexer,col_indexer] = value instead\n",
      "\n",
      "See the caveats in the documentation: https://pandas.pydata.org/pandas-docs/stable/user_guide/indexing.html#returning-a-view-versus-a-copy\n",
      "  data['cityCenters_nearest'] = data['cityCenters_nearest'].astype('Int64')\n",
      "/tmp/ipykernel_389/3946253177.py:7: SettingWithCopyWarning: \n",
      "A value is trying to be set on a copy of a slice from a DataFrame.\n",
      "Try using .loc[row_indexer,col_indexer] = value instead\n",
      "\n",
      "See the caveats in the documentation: https://pandas.pydata.org/pandas-docs/stable/user_guide/indexing.html#returning-a-view-versus-a-copy\n",
      "  data['parks_around3000'] = data['parks_around3000'].astype('Int64')\n",
      "/tmp/ipykernel_389/3946253177.py:8: SettingWithCopyWarning: \n",
      "A value is trying to be set on a copy of a slice from a DataFrame.\n",
      "Try using .loc[row_indexer,col_indexer] = value instead\n",
      "\n",
      "See the caveats in the documentation: https://pandas.pydata.org/pandas-docs/stable/user_guide/indexing.html#returning-a-view-versus-a-copy\n",
      "  data['parks_nearest'] = data['parks_nearest'].astype('Int64')\n",
      "/tmp/ipykernel_389/3946253177.py:9: SettingWithCopyWarning: \n",
      "A value is trying to be set on a copy of a slice from a DataFrame.\n",
      "Try using .loc[row_indexer,col_indexer] = value instead\n",
      "\n",
      "See the caveats in the documentation: https://pandas.pydata.org/pandas-docs/stable/user_guide/indexing.html#returning-a-view-versus-a-copy\n",
      "  data['ponds_nearest'] = data['ponds_nearest'].astype('Int64')\n",
      "/tmp/ipykernel_389/3946253177.py:10: SettingWithCopyWarning: \n",
      "A value is trying to be set on a copy of a slice from a DataFrame.\n",
      "Try using .loc[row_indexer,col_indexer] = value instead\n",
      "\n",
      "See the caveats in the documentation: https://pandas.pydata.org/pandas-docs/stable/user_guide/indexing.html#returning-a-view-versus-a-copy\n",
      "  data['ponds_around3000'] = data['ponds_around3000'].astype('Int64')\n",
      "/tmp/ipykernel_389/3946253177.py:11: SettingWithCopyWarning: \n",
      "A value is trying to be set on a copy of a slice from a DataFrame.\n",
      "Try using .loc[row_indexer,col_indexer] = value instead\n",
      "\n",
      "See the caveats in the documentation: https://pandas.pydata.org/pandas-docs/stable/user_guide/indexing.html#returning-a-view-versus-a-copy\n",
      "  data['days_exposition'] = data['days_exposition'].round(0).astype('Int64')\n"
     ]
    }
   ],
   "source": [
    "#переведем некоторые колонки из float в int\n",
    "data['last_price'] = data['last_price'].astype('int')\n",
    "data['floors_total'] = data['floors_total'].astype('Int64')\n",
    "data['balcony'] = data['balcony'].astype('int')\n",
    "data['airports_nearest'] = data['airports_nearest'].astype('Int64')\n",
    "data['cityCenters_nearest'] = data['cityCenters_nearest'].astype('Int64')\n",
    "data['parks_around3000'] = data['parks_around3000'].astype('Int64')\n",
    "data['parks_nearest'] = data['parks_nearest'].astype('Int64')\n",
    "data['ponds_nearest'] = data['ponds_nearest'].astype('Int64')\n",
    "data['ponds_around3000'] = data['ponds_around3000'].astype('Int64')\n",
    "data['days_exposition'] = data['days_exposition'].round(0).astype('Int64')\n"
   ]
  },
  {
   "cell_type": "code",
   "execution_count": 15,
   "metadata": {},
   "outputs": [
    {
     "name": "stdout",
     "output_type": "stream",
     "text": [
      "<class 'pandas.core.frame.DataFrame'>\n",
      "Int64Index: 23565 entries, 0 to 23698\n",
      "Data columns (total 22 columns):\n",
      " #   Column                Non-Null Count  Dtype  \n",
      "---  ------                --------------  -----  \n",
      " 0   total_images          23565 non-null  int64  \n",
      " 1   last_price            23565 non-null  int64  \n",
      " 2   total_area            23565 non-null  float64\n",
      " 3   first_day_exposition  23565 non-null  object \n",
      " 4   rooms                 23565 non-null  int64  \n",
      " 5   ceiling_height        23565 non-null  float64\n",
      " 6   floors_total          23565 non-null  Int64  \n",
      " 7   living_area           23565 non-null  float64\n",
      " 8   floor                 23565 non-null  int64  \n",
      " 9   is_apartment          23565 non-null  bool   \n",
      " 10  studio                23565 non-null  bool   \n",
      " 11  open_plan             23565 non-null  bool   \n",
      " 12  kitchen_area          23565 non-null  float64\n",
      " 13  balcony               23565 non-null  int64  \n",
      " 14  locality_name         23565 non-null  object \n",
      " 15  airports_nearest      18041 non-null  Int64  \n",
      " 16  cityCenters_nearest   18064 non-null  Int64  \n",
      " 17  parks_around3000      18065 non-null  Int64  \n",
      " 18  parks_nearest         8030 non-null   Int64  \n",
      " 19  ponds_around3000      18065 non-null  Int64  \n",
      " 20  ponds_nearest         9036 non-null   Int64  \n",
      " 21  days_exposition       20394 non-null  Int64  \n",
      "dtypes: Int64(8), bool(3), float64(4), int64(5), object(2)\n",
      "memory usage: 3.8+ MB\n"
     ]
    }
   ],
   "source": [
    "data.info() #посмотрим что получилось"
   ]
  },
  {
   "cell_type": "markdown",
   "metadata": {},
   "source": [
    "Мы перевели типа данных в некоторые столбцах их float в int. Затронули следующие столбы 'floors_total', 'balcony'- так как количество этажей и количество балконов- это целые числа.\n",
    "Также заменили тип в столбцах 'airports_nearest', 'cityCenters_nearest', 'parks_nearest', 'ponds_nearest' - так как тут расстояние указанное в метрах - это целое число. И еще заменили тип в колонках 'parks_around3000', 'ponds_around3000', 'days_exposition' так как количество прудов/парков и время размещения объявления - целые числа."
   ]
  },
  {
   "cell_type": "markdown",
   "metadata": {},
   "source": [
    "#### Уникальные значения в столбце 'locality_name'"
   ]
  },
  {
   "cell_type": "code",
   "execution_count": 16,
   "metadata": {},
   "outputs": [
    {
     "data": {
      "text/plain": [
       "364"
      ]
     },
     "execution_count": 16,
     "metadata": {},
     "output_type": "execute_result"
    }
   ],
   "source": [
    "uniq1 = len(data['locality_name'].unique())# посмотрим кол-во уникальных значений\n",
    "uniq1"
   ]
  },
  {
   "cell_type": "code",
   "execution_count": 17,
   "metadata": {},
   "outputs": [
    {
     "data": {
      "text/plain": [
       "array(['Санкт-Петербург', 'посёлок Шушары', 'городской посёлок Янино-1',\n",
       "       'посёлок Парголово', 'посёлок Мурино', 'Ломоносов', 'Сертолово',\n",
       "       'Петергоф', 'Пушкин', 'деревня Кудрово', 'Коммунар', 'Колпино',\n",
       "       'поселок городского типа Красный Бор', 'Гатчина', 'поселок Мурино',\n",
       "       'деревня Фёдоровское', 'Выборг', 'Кронштадт', 'Кировск',\n",
       "       'деревня Новое Девяткино', 'посёлок Металлострой',\n",
       "       'посёлок городского типа Лебяжье',\n",
       "       'посёлок городского типа Сиверский', 'поселок Молодцово',\n",
       "       'поселок городского типа Кузьмоловский',\n",
       "       'садовое товарищество Новая Ропша', 'Павловск',\n",
       "       'деревня Пикколово', 'Всеволожск', 'Волхов', 'Кингисепп',\n",
       "       'Приозерск', 'Сестрорецк', 'деревня Куттузи', 'посёлок Аннино',\n",
       "       'поселок городского типа Ефимовский', 'посёлок Плодовое',\n",
       "       'деревня Заклинье', 'поселок Торковичи', 'поселок Первомайское',\n",
       "       'Красное Село', 'посёлок Понтонный', 'Сясьстрой', 'деревня Старая',\n",
       "       'деревня Лесколово', 'посёлок Новый Свет', 'Сланцы',\n",
       "       'село Путилово', 'Ивангород', 'Мурино', 'Шлиссельбург',\n",
       "       'Никольское', 'Зеленогорск', 'Сосновый Бор', 'поселок Новый Свет',\n",
       "       'деревня Оржицы', 'деревня Кальтино', 'Кудрово',\n",
       "       'поселок Романовка', 'посёлок Бугры', 'поселок Бугры',\n",
       "       'поселок городского типа Рощино', 'Кириши', 'Луга', 'Волосово',\n",
       "       'Отрадное', 'село Павлово', 'поселок Оредеж', 'село Копорье',\n",
       "       'посёлок городского типа Красный Бор', 'посёлок Молодёжное',\n",
       "       'Тихвин', 'посёлок Победа', 'деревня Нурма',\n",
       "       'поселок городского типа Синявино', 'Тосно',\n",
       "       'посёлок городского типа Кузьмоловский', 'посёлок Стрельна',\n",
       "       'Бокситогорск', 'посёлок Александровская', 'деревня Лопухинка',\n",
       "       'Пикалёво', 'поселок Терволово',\n",
       "       'поселок городского типа Советский', 'Подпорожье',\n",
       "       'посёлок Петровское', 'посёлок городского типа Токсово',\n",
       "       'поселок Сельцо', 'посёлок городского типа Вырица',\n",
       "       'деревня Кипень', 'деревня Келози', 'деревня Вартемяги',\n",
       "       'посёлок Тельмана', 'поселок Севастьяново',\n",
       "       'городской поселок Большая Ижора', 'городской посёлок Павлово',\n",
       "       'деревня Агалатово', 'посёлок Новогорелово',\n",
       "       'городской посёлок Лесогорский', 'деревня Лаголово',\n",
       "       'поселок Цвелодубово', 'поселок городского типа Рахья',\n",
       "       'поселок городского типа Вырица', 'деревня Белогорка',\n",
       "       'поселок Заводской', 'городской посёлок Новоселье',\n",
       "       'деревня Большие Колпаны', 'деревня Горбунки', 'деревня Батово',\n",
       "       'деревня Заневка', 'деревня Иссад', 'Приморск',\n",
       "       'городской посёлок Фёдоровское', 'деревня Мистолово',\n",
       "       'Новая Ладога', 'поселок Зимитицы', 'поселок Барышево',\n",
       "       'деревня Разметелево', 'поселок городского типа имени Свердлова',\n",
       "       'деревня Пеники', 'поселок Рябово', 'деревня Пудомяги',\n",
       "       'поселок станции Корнево', 'деревня Низино', 'деревня Бегуницы',\n",
       "       'посёлок Поляны', 'городской посёлок Мга', 'поселок Елизаветино',\n",
       "       'посёлок городского типа Кузнечное', 'деревня Колтуши',\n",
       "       'поселок Запорожское', 'посёлок городского типа Рощино',\n",
       "       'деревня Гостилицы', 'деревня Малое Карлино',\n",
       "       'посёлок Мичуринское', 'посёлок городского типа имени Морозова',\n",
       "       'посёлок Песочный', 'посёлок Сосново', 'деревня Аро',\n",
       "       'поселок Ильичёво', 'посёлок городского типа Тайцы',\n",
       "       'деревня Малое Верево', 'деревня Извара', 'поселок станции Вещево',\n",
       "       'село Паша', 'деревня Калитино',\n",
       "       'посёлок городского типа Ульяновка', 'деревня Чудской Бор',\n",
       "       'поселок городского типа Дубровка', 'деревня Мины',\n",
       "       'поселок Войсковицы', 'посёлок городского типа имени Свердлова',\n",
       "       'деревня Коркино', 'посёлок Ропша',\n",
       "       'поселок городского типа Приладожский', 'посёлок Щеглово',\n",
       "       'посёлок Гаврилово', 'Лодейное Поле', 'деревня Рабитицы',\n",
       "       'поселок городского типа Никольский', 'деревня Кузьмолово',\n",
       "       'деревня Малые Колпаны', 'поселок Тельмана',\n",
       "       'посёлок Петро-Славянка', 'городской посёлок Назия',\n",
       "       'посёлок Репино', 'посёлок Ильичёво', 'поселок Углово',\n",
       "       'поселок Старая Малукса', 'садовое товарищество Рахья',\n",
       "       'поселок Аннино', 'поселок Победа', 'деревня Меньково',\n",
       "       'деревня Старые Бегуницы', 'посёлок Сапёрный', 'поселок Семрино',\n",
       "       'поселок Гаврилово', 'поселок Глажево', 'поселок Кобринское',\n",
       "       'деревня Гарболово', 'деревня Юкки',\n",
       "       'поселок станции Приветнинское', 'деревня Мануйлово',\n",
       "       'деревня Пчева', 'поселок Поляны', 'поселок Цвылёво',\n",
       "       'поселок Мельниково', 'посёлок Пудость', 'посёлок Усть-Луга',\n",
       "       'Светогорск', 'Любань', 'поселок Селезнёво',\n",
       "       'поселок городского типа Рябово', 'Каменногорск', 'деревня Кривко',\n",
       "       'поселок Глебычево', 'деревня Парицы', 'поселок Жилпосёлок',\n",
       "       'посёлок городского типа Мга', 'городской поселок Янино-1',\n",
       "       'посёлок Войскорово', 'село Никольское', 'посёлок Терволово',\n",
       "       'поселок Стеклянный', 'посёлок городского типа Важины',\n",
       "       'посёлок Мыза-Ивановка', 'село Русско-Высоцкое',\n",
       "       'поселок городского типа Лебяжье',\n",
       "       'поселок городского типа Форносово', 'село Старая Ладога',\n",
       "       'поселок Житково', 'городской посёлок Виллози', 'деревня Лампово',\n",
       "       'деревня Шпаньково', 'деревня Лаврики', 'посёлок Сумино',\n",
       "       'посёлок Возрождение', 'деревня Старосиверская',\n",
       "       'посёлок Кикерино', 'поселок Возрождение',\n",
       "       'деревня Старое Хинколово', 'посёлок Пригородный',\n",
       "       'посёлок Торфяное', 'городской посёлок Будогощь',\n",
       "       'поселок Суходолье', 'поселок Красная Долина', 'деревня Хапо-Ое',\n",
       "       'поселок городского типа Дружная Горка', 'поселок Лисий Нос',\n",
       "       'деревня Яльгелево', 'посёлок Стеклянный', 'село Рождествено',\n",
       "       'деревня Старополье', 'посёлок Левашово', 'деревня Сяськелево',\n",
       "       'деревня Камышовка',\n",
       "       'садоводческое некоммерческое товарищество Лесная Поляна',\n",
       "       'деревня Хязельки', 'поселок Жилгородок',\n",
       "       'посёлок городского типа Павлово', 'деревня Ялгино',\n",
       "       'поселок Новый Учхоз', 'городской посёлок Рощино',\n",
       "       'поселок Гончарово', 'поселок Почап', 'посёлок Сапёрное',\n",
       "       'посёлок Платформа 69-й километр', 'поселок Каложицы',\n",
       "       'деревня Фалилеево', 'деревня Пельгора',\n",
       "       'поселок городского типа Лесогорский', 'деревня Торошковичи',\n",
       "       'посёлок Белоостров', 'посёлок Алексеевка', 'поселок Серебрянский',\n",
       "       'поселок Лукаши', 'поселок Петровское', 'деревня Щеглово',\n",
       "       'поселок Мичуринское', 'деревня Тарасово', 'поселок Кингисеппский',\n",
       "       'посёлок при железнодорожной станции Вещево', 'поселок Ушаки',\n",
       "       'деревня Котлы', 'деревня Сижно', 'деревня Торосово',\n",
       "       'посёлок Форт Красная Горка', 'деревня Новолисино',\n",
       "       'посёлок станции Громово', 'деревня Глинка', 'посёлок Мельниково',\n",
       "       'поселок городского типа Назия', 'деревня Старая Пустошь',\n",
       "       'поселок Коммунары', 'поселок Починок',\n",
       "       'посёлок городского типа Вознесенье', 'деревня Разбегаево',\n",
       "       'посёлок городского типа Рябово', 'поселок Гладкое',\n",
       "       'посёлок при железнодорожной станции Приветнинское',\n",
       "       'поселок Тёсово-4', 'посёлок Жилгородок', 'деревня Бор',\n",
       "       'посёлок Коробицыно', 'деревня Большая Вруда', 'деревня Курковицы',\n",
       "       'посёлок Лисий Нос', 'городской посёлок Советский',\n",
       "       'посёлок Кобралово', 'деревня Суоранда', 'поселок Кобралово',\n",
       "       'поселок городского типа Кондратьево',\n",
       "       'коттеджный поселок Счастье', 'поселок Любань', 'деревня Реброво',\n",
       "       'деревня Зимитицы', 'деревня Тойворово', 'поселок Семиозерье',\n",
       "       'поселок Лесное', 'поселок Совхозный', 'поселок Усть-Луга',\n",
       "       'посёлок Ленинское', 'посёлок Суйда',\n",
       "       'посёлок городского типа Форносово', 'деревня Нижние Осельки',\n",
       "       'посёлок станции Свирь', 'поселок Перово', 'Высоцк',\n",
       "       'поселок Гарболово', 'село Шум', 'поселок Котельский',\n",
       "       'поселок станции Лужайка', 'деревня Большая Пустомержа',\n",
       "       'поселок Красносельское', 'деревня Вахнова Кара', 'деревня Пижма',\n",
       "       'коттеджный поселок Кивеннапа Север', 'поселок Коробицыно',\n",
       "       'поселок Ромашки', 'посёлок Перово', 'деревня Каськово',\n",
       "       'деревня Куровицы', 'посёлок Плоское', 'поселок Сумино',\n",
       "       'поселок городского типа Большая Ижора', 'поселок Кирпичное',\n",
       "       'деревня Ям-Тесово', 'деревня Раздолье', 'деревня Терпилицы',\n",
       "       'поселок городского типа Токсово', 'посёлок Шугозеро',\n",
       "       'деревня Ваганово', 'поселок Пушное', 'садовое товарищество Садко',\n",
       "       'посёлок Усть-Ижора', 'деревня Выскатка',\n",
       "       'городской посёлок Свирьстрой', 'поселок Громово',\n",
       "       'деревня Кисельня', 'посёлок Старая Малукса',\n",
       "       'деревня Трубников Бор', 'поселок Калитино',\n",
       "       'посёлок Высокоключевой', 'садовое товарищество Приладожский',\n",
       "       'посёлок Пансионат Зелёный Бор', 'деревня Ненимяки',\n",
       "       'поселок Пансионат Зелёный Бор', 'деревня Снегирёвка',\n",
       "       'деревня Рапполово', 'деревня Пустынка', 'поселок Рабитицы',\n",
       "       'деревня Большой Сабск', 'деревня Русско', 'деревня Лупполово',\n",
       "       'деревня Большое Рейзино', 'деревня Малая Романовка',\n",
       "       'поселок Дружноселье', 'поселок Пчевжа', 'поселок Володарское',\n",
       "       'деревня Нижняя', 'коттеджный посёлок Лесное', 'деревня Тихковицы',\n",
       "       'деревня Борисова Грива', 'посёлок Дзержинского'], dtype=object)"
      ]
     },
     "execution_count": 17,
     "metadata": {},
     "output_type": "execute_result"
    }
   ],
   "source": [
    "data['locality_name'].unique() #посмотрим сами уникальные значения"
   ]
  },
  {
   "cell_type": "code",
   "execution_count": 18,
   "metadata": {},
   "outputs": [
    {
     "name": "stderr",
     "output_type": "stream",
     "text": [
      "/tmp/ipykernel_389/214449458.py:2: SettingWithCopyWarning: \n",
      "A value is trying to be set on a copy of a slice from a DataFrame.\n",
      "Try using .loc[row_indexer,col_indexer] = value instead\n",
      "\n",
      "See the caveats in the documentation: https://pandas.pydata.org/pandas-docs/stable/user_guide/indexing.html#returning-a-view-versus-a-copy\n",
      "  data['locality_name'] = data['locality_name'].str.replace('ё', 'e') #заменили все 'ё' на 'е'\n",
      "/tmp/ipykernel_389/214449458.py:5: SettingWithCopyWarning: \n",
      "A value is trying to be set on a copy of a slice from a DataFrame.\n",
      "Try using .loc[row_indexer,col_indexer] = value instead\n",
      "\n",
      "See the caveats in the documentation: https://pandas.pydata.org/pandas-docs/stable/user_guide/indexing.html#returning-a-view-versus-a-copy\n",
      "  data['locality_name'] = data['locality_name'].replace(type_of_place, '', regex=True).replace('село', '', regex=True).str.strip()\n"
     ]
    }
   ],
   "source": [
    "#уберем в названиях мест приставки (типа 'поселок', 'село' и тп), оставив только имена\n",
    "data['locality_name'] = data['locality_name'].str.replace('ё', 'e') #заменили все 'ё' на 'е'\n",
    "#заменяем все приставки на ''. село меняем  в конце, тк оно может навредить нам, если код заменит село на '' в слове 'поселок'\n",
    "type_of_place = ['поселок', 'посeлок', 'городского', 'типа', 'коттеджный', 'городской', 'деревня', 'садоводческое', 'некоммерческое' 'товарищество', 'товарищество', 'садовое', 'станции', 'при', 'железнодорожной']\n",
    "data['locality_name'] = data['locality_name'].replace(type_of_place, '', regex=True).replace('село', '', regex=True).str.strip()"
   ]
  },
  {
   "cell_type": "code",
   "execution_count": 19,
   "metadata": {},
   "outputs": [
    {
     "data": {
      "text/plain": [
       "305"
      ]
     },
     "execution_count": 19,
     "metadata": {},
     "output_type": "execute_result"
    }
   ],
   "source": [
    "#смотрим сейчас количество уникальных значений\n",
    "uniq2 = len(data['locality_name'].unique()) \n",
    "uniq2"
   ]
  },
  {
   "cell_type": "code",
   "execution_count": 20,
   "metadata": {},
   "outputs": [
    {
     "data": {
      "text/plain": [
       "16"
      ]
     },
     "execution_count": 20,
     "metadata": {},
     "output_type": "execute_result"
    }
   ],
   "source": [
    "round((1 - uniq2 / uniq1) * 100) # посмотрим насколько процентов убавилось количество уникальных значений"
   ]
  },
  {
   "cell_type": "markdown",
   "metadata": {},
   "source": [
    "Мы посмотрели список уникальных значений в столбце 'locality_name' и увидели, что есть дубилкаты из-за разных обозначений одних и тех же мест: где-то используются приставки 'поселок', 'поселок городского типа' и тп, а где-то их нет. Поэтому мы убрали все эти приставки, оставив только имена мест. Таким образом количество уникальных мест сократилось на 16%."
   ]
  },
  {
   "cell_type": "markdown",
   "metadata": {
    "id": "QCcvyY6YAwb-"
   },
   "source": [
    "### Добавление в таблицу новых столбцов"
   ]
  },
  {
   "cell_type": "code",
   "execution_count": 21,
   "metadata": {},
   "outputs": [
    {
     "name": "stderr",
     "output_type": "stream",
     "text": [
      "/tmp/ipykernel_389/2073027449.py:1: SettingWithCopyWarning: \n",
      "A value is trying to be set on a copy of a slice from a DataFrame.\n",
      "Try using .loc[row_indexer,col_indexer] = value instead\n",
      "\n",
      "See the caveats in the documentation: https://pandas.pydata.org/pandas-docs/stable/user_guide/indexing.html#returning-a-view-versus-a-copy\n",
      "  data['price_per_square_meter'] = round(data['last_price'] / data['total_area'], 2) #посчтиаем стоимость квадртного метра и добавим ее в новую колонку\n",
      "/tmp/ipykernel_389/2073027449.py:2: SettingWithCopyWarning: \n",
      "A value is trying to be set on a copy of a slice from a DataFrame.\n",
      "Try using .loc[row_indexer,col_indexer] = value instead\n",
      "\n",
      "See the caveats in the documentation: https://pandas.pydata.org/pandas-docs/stable/user_guide/indexing.html#returning-a-view-versus-a-copy\n",
      "  data['first_day_exposition'] = pd.to_datetime(data['first_day_exposition'], format='%Y-%m-%dT%H:%M:%S') #переведем столбец с датой публикации из object в datetime для дальнейщей работы с ним\n",
      "/tmp/ipykernel_389/2073027449.py:3: SettingWithCopyWarning: \n",
      "A value is trying to be set on a copy of a slice from a DataFrame.\n",
      "Try using .loc[row_indexer,col_indexer] = value instead\n",
      "\n",
      "See the caveats in the documentation: https://pandas.pydata.org/pandas-docs/stable/user_guide/indexing.html#returning-a-view-versus-a-copy\n",
      "  data['day_number'] =  data['first_day_exposition'].dt.weekday #создаем новую колонку с номером дня недели, где 0 - это пн\n",
      "/tmp/ipykernel_389/2073027449.py:4: SettingWithCopyWarning: \n",
      "A value is trying to be set on a copy of a slice from a DataFrame.\n",
      "Try using .loc[row_indexer,col_indexer] = value instead\n",
      "\n",
      "See the caveats in the documentation: https://pandas.pydata.org/pandas-docs/stable/user_guide/indexing.html#returning-a-view-versus-a-copy\n",
      "  data['month_number'] = (data['first_day_exposition']).dt.month #создаем колонку с номером месяца\n",
      "/tmp/ipykernel_389/2073027449.py:5: SettingWithCopyWarning: \n",
      "A value is trying to be set on a copy of a slice from a DataFrame.\n",
      "Try using .loc[row_indexer,col_indexer] = value instead\n",
      "\n",
      "See the caveats in the documentation: https://pandas.pydata.org/pandas-docs/stable/user_guide/indexing.html#returning-a-view-versus-a-copy\n",
      "  data['year_number'] =  (data['first_day_exposition']).dt.year #создаем колонку с номером года\n"
     ]
    }
   ],
   "source": [
    "data['price_per_square_meter'] = round(data['last_price'] / data['total_area'], 2) #посчтиаем стоимость квадртного метра и добавим ее в новую колонку\n",
    "data['first_day_exposition'] = pd.to_datetime(data['first_day_exposition'], format='%Y-%m-%dT%H:%M:%S') #переведем столбец с датой публикации из object в datetime для дальнейщей работы с ним\n",
    "data['day_number'] =  data['first_day_exposition'].dt.weekday #создаем новую колонку с номером дня недели, где 0 - это пн\n",
    "data['month_number'] = (data['first_day_exposition']).dt.month #создаем колонку с номером месяца\n",
    "data['year_number'] =  (data['first_day_exposition']).dt.year #создаем колонку с номером года"
   ]
  },
  {
   "cell_type": "code",
   "execution_count": 22,
   "metadata": {},
   "outputs": [
    {
     "name": "stderr",
     "output_type": "stream",
     "text": [
      "/tmp/ipykernel_389/1213010166.py:10: SettingWithCopyWarning: \n",
      "A value is trying to be set on a copy of a slice from a DataFrame.\n",
      "Try using .loc[row_indexer,col_indexer] = value instead\n",
      "\n",
      "See the caveats in the documentation: https://pandas.pydata.org/pandas-docs/stable/user_guide/indexing.html#returning-a-view-versus-a-copy\n",
      "  data['floor_type'] = data.apply(floor_type, axis=1)\n"
     ]
    }
   ],
   "source": [
    "#создадим функцию для котегоризации по этажам и поместим значения каждого объявления в новую колонку 'floor_type'\n",
    "def floor_type(arg):\n",
    "    total = arg['floors_total']\n",
    "    floor = arg['floor']\n",
    "    if floor == total:\n",
    "        return 'последний'\n",
    "    if floor == 1:\n",
    "        return 'первый'\n",
    "    return 'другой'\n",
    "data['floor_type'] = data.apply(floor_type, axis=1)"
   ]
  },
  {
   "cell_type": "code",
   "execution_count": 23,
   "metadata": {},
   "outputs": [
    {
     "name": "stderr",
     "output_type": "stream",
     "text": [
      "/tmp/ipykernel_389/2757730405.py:2: SettingWithCopyWarning: \n",
      "A value is trying to be set on a copy of a slice from a DataFrame.\n",
      "Try using .loc[row_indexer,col_indexer] = value instead\n",
      "\n",
      "See the caveats in the documentation: https://pandas.pydata.org/pandas-docs/stable/user_guide/indexing.html#returning-a-view-versus-a-copy\n",
      "  data['distance_to_centr_in_km'] = (data['cityCenters_nearest'] / 1000).astype('Int64')\n"
     ]
    }
   ],
   "source": [
    "#создадим колонку с расстоянием до центра в км. для этого поделем на 1000 колонку с расстоянием в метрах и сделаем новый тип Int64, чтобы значения получились целами и можно было проигнорировать пустые строки не вызвав ошибку\n",
    "data['distance_to_centr_in_km'] = (data['cityCenters_nearest'] / 1000).astype('Int64')"
   ]
  },
  {
   "cell_type": "code",
   "execution_count": 24,
   "metadata": {
    "id": "Z8eJek3IAwb-"
   },
   "outputs": [
    {
     "data": {
      "text/html": [
       "<div>\n",
       "<style scoped>\n",
       "    .dataframe tbody tr th:only-of-type {\n",
       "        vertical-align: middle;\n",
       "    }\n",
       "\n",
       "    .dataframe tbody tr th {\n",
       "        vertical-align: top;\n",
       "    }\n",
       "\n",
       "    .dataframe thead th {\n",
       "        text-align: right;\n",
       "    }\n",
       "</style>\n",
       "<table border=\"1\" class=\"dataframe\">\n",
       "  <thead>\n",
       "    <tr style=\"text-align: right;\">\n",
       "      <th></th>\n",
       "      <th>total_images</th>\n",
       "      <th>last_price</th>\n",
       "      <th>total_area</th>\n",
       "      <th>first_day_exposition</th>\n",
       "      <th>rooms</th>\n",
       "      <th>ceiling_height</th>\n",
       "      <th>floors_total</th>\n",
       "      <th>living_area</th>\n",
       "      <th>floor</th>\n",
       "      <th>is_apartment</th>\n",
       "      <th>studio</th>\n",
       "      <th>open_plan</th>\n",
       "      <th>kitchen_area</th>\n",
       "      <th>balcony</th>\n",
       "      <th>locality_name</th>\n",
       "      <th>airports_nearest</th>\n",
       "      <th>cityCenters_nearest</th>\n",
       "      <th>parks_around3000</th>\n",
       "      <th>parks_nearest</th>\n",
       "      <th>ponds_around3000</th>\n",
       "      <th>ponds_nearest</th>\n",
       "      <th>days_exposition</th>\n",
       "      <th>price_per_square_meter</th>\n",
       "      <th>day_number</th>\n",
       "      <th>month_number</th>\n",
       "      <th>year_number</th>\n",
       "      <th>floor_type</th>\n",
       "      <th>distance_to_centr_in_km</th>\n",
       "    </tr>\n",
       "  </thead>\n",
       "  <tbody>\n",
       "    <tr>\n",
       "      <th>0</th>\n",
       "      <td>20</td>\n",
       "      <td>13000000</td>\n",
       "      <td>108.0</td>\n",
       "      <td>2019-03-07</td>\n",
       "      <td>3</td>\n",
       "      <td>2.70</td>\n",
       "      <td>16</td>\n",
       "      <td>51.000000</td>\n",
       "      <td>8</td>\n",
       "      <td>False</td>\n",
       "      <td>False</td>\n",
       "      <td>False</td>\n",
       "      <td>25.000</td>\n",
       "      <td>0</td>\n",
       "      <td>Санкт-Петербург</td>\n",
       "      <td>18863</td>\n",
       "      <td>16028</td>\n",
       "      <td>1</td>\n",
       "      <td>482</td>\n",
       "      <td>2</td>\n",
       "      <td>755</td>\n",
       "      <td>&lt;NA&gt;</td>\n",
       "      <td>120370.37</td>\n",
       "      <td>3</td>\n",
       "      <td>3</td>\n",
       "      <td>2019</td>\n",
       "      <td>другой</td>\n",
       "      <td>16</td>\n",
       "    </tr>\n",
       "    <tr>\n",
       "      <th>1</th>\n",
       "      <td>7</td>\n",
       "      <td>3350000</td>\n",
       "      <td>40.4</td>\n",
       "      <td>2018-12-04</td>\n",
       "      <td>1</td>\n",
       "      <td>2.65</td>\n",
       "      <td>11</td>\n",
       "      <td>18.600000</td>\n",
       "      <td>1</td>\n",
       "      <td>False</td>\n",
       "      <td>False</td>\n",
       "      <td>False</td>\n",
       "      <td>11.000</td>\n",
       "      <td>2</td>\n",
       "      <td>Шушары</td>\n",
       "      <td>12817</td>\n",
       "      <td>18603</td>\n",
       "      <td>0</td>\n",
       "      <td>&lt;NA&gt;</td>\n",
       "      <td>0</td>\n",
       "      <td>&lt;NA&gt;</td>\n",
       "      <td>81</td>\n",
       "      <td>82920.79</td>\n",
       "      <td>1</td>\n",
       "      <td>12</td>\n",
       "      <td>2018</td>\n",
       "      <td>первый</td>\n",
       "      <td>18</td>\n",
       "    </tr>\n",
       "    <tr>\n",
       "      <th>2</th>\n",
       "      <td>10</td>\n",
       "      <td>5196000</td>\n",
       "      <td>56.0</td>\n",
       "      <td>2015-08-20</td>\n",
       "      <td>2</td>\n",
       "      <td>2.65</td>\n",
       "      <td>5</td>\n",
       "      <td>34.300000</td>\n",
       "      <td>4</td>\n",
       "      <td>False</td>\n",
       "      <td>False</td>\n",
       "      <td>False</td>\n",
       "      <td>8.300</td>\n",
       "      <td>0</td>\n",
       "      <td>Санкт-Петербург</td>\n",
       "      <td>21741</td>\n",
       "      <td>13933</td>\n",
       "      <td>1</td>\n",
       "      <td>90</td>\n",
       "      <td>2</td>\n",
       "      <td>574</td>\n",
       "      <td>558</td>\n",
       "      <td>92785.71</td>\n",
       "      <td>3</td>\n",
       "      <td>8</td>\n",
       "      <td>2015</td>\n",
       "      <td>другой</td>\n",
       "      <td>13</td>\n",
       "    </tr>\n",
       "    <tr>\n",
       "      <th>3</th>\n",
       "      <td>0</td>\n",
       "      <td>64900000</td>\n",
       "      <td>159.0</td>\n",
       "      <td>2015-07-24</td>\n",
       "      <td>3</td>\n",
       "      <td>2.65</td>\n",
       "      <td>14</td>\n",
       "      <td>91.730769</td>\n",
       "      <td>9</td>\n",
       "      <td>False</td>\n",
       "      <td>False</td>\n",
       "      <td>False</td>\n",
       "      <td>27.825</td>\n",
       "      <td>0</td>\n",
       "      <td>Санкт-Петербург</td>\n",
       "      <td>28098</td>\n",
       "      <td>6800</td>\n",
       "      <td>2</td>\n",
       "      <td>84</td>\n",
       "      <td>3</td>\n",
       "      <td>234</td>\n",
       "      <td>424</td>\n",
       "      <td>408176.10</td>\n",
       "      <td>4</td>\n",
       "      <td>7</td>\n",
       "      <td>2015</td>\n",
       "      <td>другой</td>\n",
       "      <td>6</td>\n",
       "    </tr>\n",
       "    <tr>\n",
       "      <th>4</th>\n",
       "      <td>2</td>\n",
       "      <td>10000000</td>\n",
       "      <td>100.0</td>\n",
       "      <td>2018-06-19</td>\n",
       "      <td>2</td>\n",
       "      <td>3.03</td>\n",
       "      <td>14</td>\n",
       "      <td>32.000000</td>\n",
       "      <td>13</td>\n",
       "      <td>False</td>\n",
       "      <td>False</td>\n",
       "      <td>False</td>\n",
       "      <td>41.000</td>\n",
       "      <td>0</td>\n",
       "      <td>Санкт-Петербург</td>\n",
       "      <td>31856</td>\n",
       "      <td>8098</td>\n",
       "      <td>2</td>\n",
       "      <td>112</td>\n",
       "      <td>1</td>\n",
       "      <td>48</td>\n",
       "      <td>121</td>\n",
       "      <td>100000.00</td>\n",
       "      <td>1</td>\n",
       "      <td>6</td>\n",
       "      <td>2018</td>\n",
       "      <td>другой</td>\n",
       "      <td>8</td>\n",
       "    </tr>\n",
       "  </tbody>\n",
       "</table>\n",
       "</div>"
      ],
      "text/plain": [
       "   total_images  last_price  total_area first_day_exposition  rooms  \\\n",
       "0            20    13000000       108.0           2019-03-07      3   \n",
       "1             7     3350000        40.4           2018-12-04      1   \n",
       "2            10     5196000        56.0           2015-08-20      2   \n",
       "3             0    64900000       159.0           2015-07-24      3   \n",
       "4             2    10000000       100.0           2018-06-19      2   \n",
       "\n",
       "   ceiling_height  floors_total  living_area  floor  is_apartment  studio  \\\n",
       "0            2.70            16    51.000000      8         False   False   \n",
       "1            2.65            11    18.600000      1         False   False   \n",
       "2            2.65             5    34.300000      4         False   False   \n",
       "3            2.65            14    91.730769      9         False   False   \n",
       "4            3.03            14    32.000000     13         False   False   \n",
       "\n",
       "   open_plan  kitchen_area  balcony    locality_name  airports_nearest  \\\n",
       "0      False        25.000        0  Санкт-Петербург             18863   \n",
       "1      False        11.000        2           Шушары             12817   \n",
       "2      False         8.300        0  Санкт-Петербург             21741   \n",
       "3      False        27.825        0  Санкт-Петербург             28098   \n",
       "4      False        41.000        0  Санкт-Петербург             31856   \n",
       "\n",
       "   cityCenters_nearest  parks_around3000  parks_nearest  ponds_around3000  \\\n",
       "0                16028                 1            482                 2   \n",
       "1                18603                 0           <NA>                 0   \n",
       "2                13933                 1             90                 2   \n",
       "3                 6800                 2             84                 3   \n",
       "4                 8098                 2            112                 1   \n",
       "\n",
       "   ponds_nearest  days_exposition  price_per_square_meter  day_number  \\\n",
       "0            755             <NA>               120370.37           3   \n",
       "1           <NA>               81                82920.79           1   \n",
       "2            574              558                92785.71           3   \n",
       "3            234              424               408176.10           4   \n",
       "4             48              121               100000.00           1   \n",
       "\n",
       "   month_number  year_number floor_type  distance_to_centr_in_km  \n",
       "0             3         2019     другой                       16  \n",
       "1            12         2018     первый                       18  \n",
       "2             8         2015     другой                       13  \n",
       "3             7         2015     другой                        6  \n",
       "4             6         2018     другой                        8  "
      ]
     },
     "execution_count": 24,
     "metadata": {},
     "output_type": "execute_result"
    }
   ],
   "source": [
    "#посмотрим, что у нас получилось\n",
    "pd.set_option('max_columns', None)\n",
    "data.head()"
   ]
  },
  {
   "cell_type": "markdown",
   "metadata": {
    "id": "pPyxrKWTAwb-"
   },
   "source": [
    "### Исследовательский анализ данных"
   ]
  },
  {
   "cell_type": "markdown",
   "metadata": {
    "id": "V2f0D3kLAwb-"
   },
   "source": [
    "#### Изучение различных параметров и их гистограммы"
   ]
  },
  {
   "cell_type": "code",
   "execution_count": 25,
   "metadata": {},
   "outputs": [
    {
     "data": {
      "text/html": [
       "<div>\n",
       "<style scoped>\n",
       "    .dataframe tbody tr th:only-of-type {\n",
       "        vertical-align: middle;\n",
       "    }\n",
       "\n",
       "    .dataframe tbody tr th {\n",
       "        vertical-align: top;\n",
       "    }\n",
       "\n",
       "    .dataframe thead th {\n",
       "        text-align: right;\n",
       "    }\n",
       "</style>\n",
       "<table border=\"1\" class=\"dataframe\">\n",
       "  <thead>\n",
       "    <tr style=\"text-align: right;\">\n",
       "      <th></th>\n",
       "      <th>total_area</th>\n",
       "      <th>living_area</th>\n",
       "      <th>kitchen_area</th>\n",
       "      <th>last_price</th>\n",
       "      <th>rooms</th>\n",
       "      <th>ceiling_height</th>\n",
       "      <th>floors_total</th>\n",
       "      <th>cityCenters_nearest</th>\n",
       "      <th>parks_nearest</th>\n",
       "    </tr>\n",
       "  </thead>\n",
       "  <tbody>\n",
       "    <tr>\n",
       "      <th>count</th>\n",
       "      <td>23565.000000</td>\n",
       "      <td>23565.000000</td>\n",
       "      <td>23565.000000</td>\n",
       "      <td>2.356500e+04</td>\n",
       "      <td>23565.000000</td>\n",
       "      <td>23565.000000</td>\n",
       "      <td>23565.000000</td>\n",
       "      <td>18064.000000</td>\n",
       "      <td>8030.000000</td>\n",
       "    </tr>\n",
       "    <tr>\n",
       "      <th>mean</th>\n",
       "      <td>60.322824</td>\n",
       "      <td>34.621108</td>\n",
       "      <td>10.499499</td>\n",
       "      <td>6.540058e+06</td>\n",
       "      <td>2.070656</td>\n",
       "      <td>2.724530</td>\n",
       "      <td>10.675875</td>\n",
       "      <td>14192.656056</td>\n",
       "      <td>490.580448</td>\n",
       "    </tr>\n",
       "    <tr>\n",
       "      <th>std</th>\n",
       "      <td>35.657060</td>\n",
       "      <td>22.399827</td>\n",
       "      <td>6.037444</td>\n",
       "      <td>1.091093e+07</td>\n",
       "      <td>1.078591</td>\n",
       "      <td>0.991026</td>\n",
       "      <td>6.594823</td>\n",
       "      <td>8613.348153</td>\n",
       "      <td>341.572956</td>\n",
       "    </tr>\n",
       "    <tr>\n",
       "      <th>min</th>\n",
       "      <td>12.000000</td>\n",
       "      <td>2.000000</td>\n",
       "      <td>1.300000</td>\n",
       "      <td>1.219000e+04</td>\n",
       "      <td>0.000000</td>\n",
       "      <td>1.000000</td>\n",
       "      <td>1.000000</td>\n",
       "      <td>181.000000</td>\n",
       "      <td>1.000000</td>\n",
       "    </tr>\n",
       "    <tr>\n",
       "      <th>25%</th>\n",
       "      <td>40.000000</td>\n",
       "      <td>19.000000</td>\n",
       "      <td>7.000000</td>\n",
       "      <td>3.400000e+06</td>\n",
       "      <td>1.000000</td>\n",
       "      <td>2.600000</td>\n",
       "      <td>5.000000</td>\n",
       "      <td>9238.000000</td>\n",
       "      <td>288.000000</td>\n",
       "    </tr>\n",
       "    <tr>\n",
       "      <th>50%</th>\n",
       "      <td>52.000000</td>\n",
       "      <td>30.000000</td>\n",
       "      <td>9.000000</td>\n",
       "      <td>4.646000e+06</td>\n",
       "      <td>2.000000</td>\n",
       "      <td>2.650000</td>\n",
       "      <td>9.000000</td>\n",
       "      <td>13096.500000</td>\n",
       "      <td>455.000000</td>\n",
       "    </tr>\n",
       "    <tr>\n",
       "      <th>75%</th>\n",
       "      <td>69.700000</td>\n",
       "      <td>42.115385</td>\n",
       "      <td>12.000000</td>\n",
       "      <td>6.790000e+06</td>\n",
       "      <td>3.000000</td>\n",
       "      <td>2.700000</td>\n",
       "      <td>16.000000</td>\n",
       "      <td>16285.000000</td>\n",
       "      <td>612.000000</td>\n",
       "    </tr>\n",
       "    <tr>\n",
       "      <th>max</th>\n",
       "      <td>900.000000</td>\n",
       "      <td>409.700000</td>\n",
       "      <td>112.000000</td>\n",
       "      <td>7.630000e+08</td>\n",
       "      <td>19.000000</td>\n",
       "      <td>100.000000</td>\n",
       "      <td>60.000000</td>\n",
       "      <td>65968.000000</td>\n",
       "      <td>3190.000000</td>\n",
       "    </tr>\n",
       "  </tbody>\n",
       "</table>\n",
       "</div>"
      ],
      "text/plain": [
       "         total_area   living_area  kitchen_area    last_price         rooms  \\\n",
       "count  23565.000000  23565.000000  23565.000000  2.356500e+04  23565.000000   \n",
       "mean      60.322824     34.621108     10.499499  6.540058e+06      2.070656   \n",
       "std       35.657060     22.399827      6.037444  1.091093e+07      1.078591   \n",
       "min       12.000000      2.000000      1.300000  1.219000e+04      0.000000   \n",
       "25%       40.000000     19.000000      7.000000  3.400000e+06      1.000000   \n",
       "50%       52.000000     30.000000      9.000000  4.646000e+06      2.000000   \n",
       "75%       69.700000     42.115385     12.000000  6.790000e+06      3.000000   \n",
       "max      900.000000    409.700000    112.000000  7.630000e+08     19.000000   \n",
       "\n",
       "       ceiling_height  floors_total  cityCenters_nearest  parks_nearest  \n",
       "count    23565.000000  23565.000000         18064.000000    8030.000000  \n",
       "mean         2.724530     10.675875         14192.656056     490.580448  \n",
       "std          0.991026      6.594823          8613.348153     341.572956  \n",
       "min          1.000000      1.000000           181.000000       1.000000  \n",
       "25%          2.600000      5.000000          9238.000000     288.000000  \n",
       "50%          2.650000      9.000000         13096.500000     455.000000  \n",
       "75%          2.700000     16.000000         16285.000000     612.000000  \n",
       "max        100.000000     60.000000         65968.000000    3190.000000  "
      ]
     },
     "execution_count": 25,
     "metadata": {},
     "output_type": "execute_result"
    }
   ],
   "source": [
    "start = data.shape[0] #зафиксируем начальное количество объявлений\n",
    "#посмотрим информацию о различных числовых параметрах\n",
    "parameters = ['total_area', 'living_area', 'kitchen_area', 'last_price', 'rooms', 'ceiling_height', 'floors_total', 'cityCenters_nearest', 'parks_nearest']\n",
    "data[parameters].describe()"
   ]
  },
  {
   "cell_type": "code",
   "execution_count": 26,
   "metadata": {},
   "outputs": [
    {
     "data": {
      "text/plain": [
       "другой       17326\n",
       "последний     3355\n",
       "первый        2884\n",
       "Name: floor_type, dtype: int64"
      ]
     },
     "execution_count": 26,
     "metadata": {},
     "output_type": "execute_result"
    }
   ],
   "source": [
    "#посмтрим информаицю о категориальном параметре\n",
    "data['floor_type'].value_counts()"
   ]
  },
  {
   "cell_type": "code",
   "execution_count": 27,
   "metadata": {},
   "outputs": [
    {
     "data": {
      "text/plain": [
       "<AxesSubplot:title={'center':'parks_nearest'}, xlabel='m'>"
      ]
     },
     "execution_count": 27,
     "metadata": {},
     "output_type": "execute_result"
    },
    {
     "data": {
      "image/png": "[encoded data removed]",
      "text/plain": [
       "<Figure size 1152x864 with 10 Axes>"
      ]
     },
     "metadata": {
      "needs_background": "light"
     },
     "output_type": "display_data"
    }
   ],
   "source": [
    "import matplotlib.pyplot as plt\n",
    "plt.figure(figsize=(16, 12)) #cоздаем общее полотно\n",
    "#настраиваем расстояние между графиками, чтобы названия одних графиков и названия осей других графиков не накладывались\n",
    "plt.subplots_adjust(left=0.13, \n",
    "                    right=0.93, \n",
    "                    top=1.0, \n",
    "                    bottom= 0.27, \n",
    "                    wspace= 0.3, \n",
    "                    hspace=0.3)\n",
    "\n",
    "plt.subplot(3, 4, 1)\n",
    "data = data[data['total_area'] < 200]\n",
    "plt.ylabel('amount')\n",
    "plt.xlabel('m^2')\n",
    "plt.title('total_area')\n",
    "data['total_area'].hist(bins=30)\n",
    "\n",
    "plt.subplot(3, 4, 2)\n",
    "data = data[data['living_area'] < 130]\n",
    "plt.xlabel('m^2')\n",
    "plt.title('living_area')\n",
    "data['living_area'].hist(bins=30, range=(0, 130))\n",
    "\n",
    "plt.subplot(3, 4, 3)\n",
    "data = data[data['kitchen_area'] < 30]\n",
    "plt.xlabel('m^2')\n",
    "plt.title('kitchen_area')\n",
    "data['kitchen_area'].hist(bins=30, range=(0, 30))\n",
    "\n",
    "plt.subplot(3, 4, 4)\n",
    "data = data[data['last_price'] < 30000000]\n",
    "plt.xlabel('rubles')\n",
    "plt.title('last_price')\n",
    "data['last_price'].hist(bins=30, range=(1000000, 30000000))\n",
    "\n",
    "plt.subplot(3, 4, 5)\n",
    "data = data[data['rooms'] < 6]\n",
    "plt.xlabel('pieces')\n",
    "plt.ylabel('amount')\n",
    "plt.title('rooms')\n",
    "data['rooms'].hist(bins=10, range=(0, 5))\n",
    "\n",
    "plt.subplot(3, 4, 6)\n",
    "data = data[(data['ceiling_height'] >= 2) & (data['ceiling_height'] <= 4)]\n",
    "plt.xlabel('m')\n",
    "plt.title('ceiling_height')\n",
    "data['ceiling_height'].hist(bins=30, range=(2, 4))\n",
    "\n",
    "plt.subplot(3, 4, 7)\n",
    "plt.title('floor_type')\n",
    "data['floor_type'].hist(bins=3)\n",
    "\n",
    "plt.subplot(3, 4, 8)\n",
    "data= data[data['floors_total'] < 30]\n",
    "plt.xlabel('floors')\n",
    "plt.title('floors_total')\n",
    "data['floors_total'].hist(bins=30)\n",
    "\n",
    "plt.subplot(3, 4, 9)\n",
    "plt.xlabel('m')\n",
    "plt.ylabel('amount')\n",
    "plt.title('cityCenters_nearest')\n",
    "data['cityCenters_nearest'].hist(bins=30, range=(0, 60000))\n",
    "\n",
    "plt.subplot(3, 4, 10)\n",
    "plt.xlabel('m')\n",
    "plt.title('parks_nearest')\n",
    "data['parks_nearest'].hist(bins=30, range=(0, 2500))"
   ]
  },
  {
   "cell_type": "code",
   "execution_count": 28,
   "metadata": {},
   "outputs": [
    {
     "name": "stdout",
     "output_type": "stream",
     "text": [
      "На сколько процентов уменьшилась наша база, после выброса необычных значений: 3.6706980691703706\n"
     ]
    }
   ],
   "source": [
    "finish = data.shape[0]\n",
    "print('На сколько процентов уменьшилась наша база, после выброса необычных значений:', 100 - finish /start * 100)"
   ]
  },
  {
   "cell_type": "markdown",
   "metadata": {},
   "source": [
    "Мы изучили различные параметры и нашли выделяющиеся значения (либо исключительные объекты, либо неверно занесена информация). Поэтому были исключены некоторые объявления. Были исключены квартиры с площадью больше 200 м^2, жилой площадью > 130 м^2, кухней больше 30 м^2, стоимостью выше 30000000 рублей и с количеством комнат больше 5 - так как объекты по этим условиям редкие, и могут искажать общие данные. Были удалены обьяъвления с неккоректными высотами потолков - объекты, где высота потолков больше 4 метров или меньше 2 метров.\n",
    "Получилось, что наиболее популярны квартиры плозадью около 50 м^2, жилой площадью 30 м^2, площадью кухни 10 м^2, высотой потолков 2.65 метра и стоимостью около 50000000 рублей.\n",
    "По количеству комнат наиболее распространены объявления о продаже 1 и 2 комнатных квартир (примерно по 7000 объявлений), немного реже 3 комнатные квартиры (порядка 5000 объявлений).\n",
    "По высоте домов чаще всего встречаются 5 этажные дома, немного реже 9 этажные, еще реже 16 этажные и  25 этажные. Квартиры в большинстве случаев находятся не на первом и на последнем этаже (около 16000 объявлений). На первом и последнем - встречаются примерно одинаково (по 3000 случаев).\n",
    "Квартиры в большисве своем удалены от центра на расстояние порядка 15км, а рассстояние до ближайшего парка около 500 метров."
   ]
  },
  {
   "cell_type": "markdown",
   "metadata": {},
   "source": [
    "#### Как быстро продавались квартиры"
   ]
  },
  {
   "cell_type": "code",
   "execution_count": 29,
   "metadata": {},
   "outputs": [
    {
     "data": {
      "text/plain": [
       "count    19752.000000\n",
       "mean       177.461270\n",
       "std        215.865105\n",
       "min          1.000000\n",
       "25%         44.000000\n",
       "50%         93.000000\n",
       "75%        226.000000\n",
       "max       1580.000000\n",
       "Name: days_exposition, dtype: float64"
      ]
     },
     "execution_count": 29,
     "metadata": {},
     "output_type": "execute_result"
    }
   ],
   "source": [
    "data['days_exposition'].describe()"
   ]
  },
  {
   "cell_type": "code",
   "execution_count": 30,
   "metadata": {},
   "outputs": [
    {
     "data": {
      "text/plain": [
       "<AxesSubplot:>"
      ]
     },
     "execution_count": 30,
     "metadata": {},
     "output_type": "execute_result"
    },
    {
     "data": {
      "image/png": "[encoded data removed]",
      "text/plain": [
       "<Figure size 432x288 with 1 Axes>"
      ]
     },
     "metadata": {
      "needs_background": "light"
     },
     "output_type": "display_data"
    }
   ],
   "source": [
    "data['days_exposition'].hist(bins=30, range=(1, 800))"
   ]
  },
  {
   "cell_type": "code",
   "execution_count": 31,
   "metadata": {},
   "outputs": [
    {
     "data": {
      "text/plain": [
       "177"
      ]
     },
     "execution_count": 31,
     "metadata": {},
     "output_type": "execute_result"
    }
   ],
   "source": [
    "round(data['days_exposition'].mean())"
   ]
  },
  {
   "cell_type": "code",
   "execution_count": 32,
   "metadata": {},
   "outputs": [
    {
     "data": {
      "text/plain": [
       "93.0"
      ]
     },
     "execution_count": 32,
     "metadata": {},
     "output_type": "execute_result"
    }
   ],
   "source": [
    "data['days_exposition'].median()"
   ]
  },
  {
   "cell_type": "markdown",
   "metadata": {},
   "source": [
    "Среднее время продажи квартиру составило 177 день, а медианное - 93 дня. Быстрыми продажами можно считать продажи за менее 50 дней, а необычно долгими за более 230 дней."
   ]
  },
  {
   "cell_type": "code",
   "execution_count": 33,
   "metadata": {},
   "outputs": [
    {
     "data": {
      "text/plain": [
       "<AxesSubplot:>"
      ]
     },
     "execution_count": 33,
     "metadata": {},
     "output_type": "execute_result"
    },
    {
     "data": {
      "image/png": "[encoded data removed]",
      "text/plain": [
       "<Figure size 864x504 with 1 Axes>"
      ]
     },
     "metadata": {
      "needs_background": "light"
     },
     "output_type": "display_data"
    }
   ],
   "source": [
    "# Код ревьюера\n",
    "data['days_exposition'].hist(bins=50, range=(0,100), figsize=(12, 7))"
   ]
  },
  {
   "cell_type": "markdown",
   "metadata": {},
   "source": [
    "#### Факторы, влияющие на стоимость объекта"
   ]
  },
  {
   "cell_type": "code",
   "execution_count": 34,
   "metadata": {
    "scrolled": true
   },
   "outputs": [
    {
     "data": {
      "image/png": "[encoded data removed]",
      "text/plain": [
       "<Figure size 432x288 with 1 Axes>"
      ]
     },
     "metadata": {
      "needs_background": "light"
     },
     "output_type": "display_data"
    },
    {
     "data": {
      "image/png": "[encoded data removed]",
      "text/plain": [
       "<Figure size 432x288 with 1 Axes>"
      ]
     },
     "metadata": {
      "needs_background": "light"
     },
     "output_type": "display_data"
    },
    {
     "data": {
      "image/png": "[encoded data removed]",
      "text/plain": [
       "<Figure size 432x288 with 1 Axes>"
      ]
     },
     "metadata": {
      "needs_background": "light"
     },
     "output_type": "display_data"
    },
    {
     "data": {
      "image/png": "[encoded data removed]",
      "text/plain": [
       "<Figure size 432x288 with 1 Axes>"
      ]
     },
     "metadata": {
      "needs_background": "light"
     },
     "output_type": "display_data"
    },
    {
     "data": {
      "image/png": "[encoded data removed]",
      "text/plain": [
       "<Figure size 432x288 with 1 Axes>"
      ]
     },
     "metadata": {
      "needs_background": "light"
     },
     "output_type": "display_data"
    },
    {
     "data": {
      "image/png": "[encoded data removed]",
      "text/plain": [
       "<Figure size 432x288 with 1 Axes>"
      ]
     },
     "metadata": {
      "needs_background": "light"
     },
     "output_type": "display_data"
    },
    {
     "data": {
      "image/png": "[encoded data removed]",
      "text/plain": [
       "<Figure size 432x288 with 1 Axes>"
      ]
     },
     "metadata": {
      "needs_background": "light"
     },
     "output_type": "display_data"
    },
    {
     "data": {
      "image/png": "[encoded data removed]",
      "text/plain": [
       "<Figure size 432x288 with 1 Axes>"
      ]
     },
     "metadata": {
      "needs_background": "light"
     },
     "output_type": "display_data"
    }
   ],
   "source": [
    "#построим графики, в которых отражена зависимость стоимости объекта от различных параметров\n",
    "for i in ['total_area', 'living_area', 'kitchen_area', 'rooms', 'floor_type', 'day_number', 'month_number', 'year_number']:\n",
    "    data.pivot_table(index=i, values='last_price').plot()"
   ]
  },
  {
   "cell_type": "code",
   "execution_count": 35,
   "metadata": {},
   "outputs": [
    {
     "data": {
      "text/html": [
       "<div>\n",
       "<style scoped>\n",
       "    .dataframe tbody tr th:only-of-type {\n",
       "        vertical-align: middle;\n",
       "    }\n",
       "\n",
       "    .dataframe tbody tr th {\n",
       "        vertical-align: top;\n",
       "    }\n",
       "\n",
       "    .dataframe thead th {\n",
       "        text-align: right;\n",
       "    }\n",
       "</style>\n",
       "<table border=\"1\" class=\"dataframe\">\n",
       "  <thead>\n",
       "    <tr style=\"text-align: right;\">\n",
       "      <th></th>\n",
       "      <th>total_area</th>\n",
       "      <th>living_area</th>\n",
       "      <th>kitchen_area</th>\n",
       "      <th>rooms</th>\n",
       "      <th>last_price</th>\n",
       "    </tr>\n",
       "  </thead>\n",
       "  <tbody>\n",
       "    <tr>\n",
       "      <th>total_area</th>\n",
       "      <td>1.000000</td>\n",
       "      <td>0.933438</td>\n",
       "      <td>0.580808</td>\n",
       "      <td>0.791525</td>\n",
       "      <td>0.769191</td>\n",
       "    </tr>\n",
       "    <tr>\n",
       "      <th>living_area</th>\n",
       "      <td>0.933438</td>\n",
       "      <td>1.000000</td>\n",
       "      <td>0.367591</td>\n",
       "      <td>0.866107</td>\n",
       "      <td>0.672673</td>\n",
       "    </tr>\n",
       "    <tr>\n",
       "      <th>kitchen_area</th>\n",
       "      <td>0.580808</td>\n",
       "      <td>0.367591</td>\n",
       "      <td>1.000000</td>\n",
       "      <td>0.223146</td>\n",
       "      <td>0.584470</td>\n",
       "    </tr>\n",
       "    <tr>\n",
       "      <th>rooms</th>\n",
       "      <td>0.791525</td>\n",
       "      <td>0.866107</td>\n",
       "      <td>0.223146</td>\n",
       "      <td>1.000000</td>\n",
       "      <td>0.478071</td>\n",
       "    </tr>\n",
       "    <tr>\n",
       "      <th>last_price</th>\n",
       "      <td>0.769191</td>\n",
       "      <td>0.672673</td>\n",
       "      <td>0.584470</td>\n",
       "      <td>0.478071</td>\n",
       "      <td>1.000000</td>\n",
       "    </tr>\n",
       "  </tbody>\n",
       "</table>\n",
       "</div>"
      ],
      "text/plain": [
       "              total_area  living_area  kitchen_area     rooms  last_price\n",
       "total_area      1.000000     0.933438      0.580808  0.791525    0.769191\n",
       "living_area     0.933438     1.000000      0.367591  0.866107    0.672673\n",
       "kitchen_area    0.580808     0.367591      1.000000  0.223146    0.584470\n",
       "rooms           0.791525     0.866107      0.223146  1.000000    0.478071\n",
       "last_price      0.769191     0.672673      0.584470  0.478071    1.000000"
      ]
     },
     "execution_count": 35,
     "metadata": {},
     "output_type": "execute_result"
    }
   ],
   "source": [
    "data[['total_area', 'living_area', 'kitchen_area', 'rooms', 'last_price']].corr()"
   ]
  },
  {
   "cell_type": "markdown",
   "metadata": {},
   "source": [
    "Стоимость квартиры зависит от общей площади, жилой площади, количества комнат и чуть меньше от площали кухни. Со всеми этими параметрами у стоимости прямая корреляция. \n",
    "Этаж также играет свою роль: квартиры находящиеся на 1 этаже, стоят дешевле всего, квартиры находящиеся на последнем этаже, стоят дороже, но самые дорогие квартиры в среднем - это квартиры, находящиеся на иных этажах.\n",
    "С днем публикации объявления тоже есть взаимосвязь: как правило в будние дни выкладываются более дорогие квартиры, а начиная с пятницы и до вс, средняя стоимость квартир в объявлениях падает. Возможно это связано с тем, что в будние дни объявляения выкладывают риелторы (и там более дорогие квартиры), а в выходные дни хозяива напрямую это делают (чтобы не нанимать риелторов), и как правило такие квартиры дешевле. \n",
    "Также есть некая сезонность: ближе к концу году, начиная с осени продают более дорогие квартиры.\n",
    "Есть тенденция по годам: начиная с 2014 года средняя стоимость продаваемых квартиры снижается. К 2019 годду она упала с 9000000 рублей до 6000000 рублей. Исходя из матрицы корреляций видно, что стоимость сильно коррелирует c общем площадью (0.77). Поэтому можно сделать вывод о том, что с 2014 по 2019 года падает средняя площадь продаваемых объектов, больших по площади квартир все меньше, а малениких все больше. "
   ]
  },
  {
   "cell_type": "markdown",
   "metadata": {},
   "source": [
    "#### Средняя стоимость 1 м^2 в самых популярных локациях"
   ]
  },
  {
   "cell_type": "code",
   "execution_count": 36,
   "metadata": {},
   "outputs": [
    {
     "data": {
      "text/html": [
       "<div>\n",
       "<style scoped>\n",
       "    .dataframe tbody tr th:only-of-type {\n",
       "        vertical-align: middle;\n",
       "    }\n",
       "\n",
       "    .dataframe tbody tr th {\n",
       "        vertical-align: top;\n",
       "    }\n",
       "\n",
       "    .dataframe thead th {\n",
       "        text-align: right;\n",
       "    }\n",
       "</style>\n",
       "<table border=\"1\" class=\"dataframe\">\n",
       "  <thead>\n",
       "    <tr style=\"text-align: right;\">\n",
       "      <th></th>\n",
       "      <th>amount</th>\n",
       "      <th>values</th>\n",
       "    </tr>\n",
       "    <tr>\n",
       "      <th>locality_name</th>\n",
       "      <th></th>\n",
       "      <th></th>\n",
       "    </tr>\n",
       "  </thead>\n",
       "  <tbody>\n",
       "    <tr>\n",
       "      <th>Выборг</th>\n",
       "      <td>233</td>\n",
       "      <td>57894.740</td>\n",
       "    </tr>\n",
       "    <tr>\n",
       "      <th>Всеволожск</th>\n",
       "      <td>394</td>\n",
       "      <td>65737.870</td>\n",
       "    </tr>\n",
       "    <tr>\n",
       "      <th>Гатчина</th>\n",
       "      <td>305</td>\n",
       "      <td>67796.610</td>\n",
       "    </tr>\n",
       "    <tr>\n",
       "      <th>Колпино</th>\n",
       "      <td>337</td>\n",
       "      <td>74722.220</td>\n",
       "    </tr>\n",
       "    <tr>\n",
       "      <th>Шушары</th>\n",
       "      <td>437</td>\n",
       "      <td>76923.080</td>\n",
       "    </tr>\n",
       "    <tr>\n",
       "      <th>Мурино</th>\n",
       "      <td>583</td>\n",
       "      <td>86268.870</td>\n",
       "    </tr>\n",
       "    <tr>\n",
       "      <th>Парголово</th>\n",
       "      <td>326</td>\n",
       "      <td>91780.225</td>\n",
       "    </tr>\n",
       "    <tr>\n",
       "      <th>Кудрово</th>\n",
       "      <td>468</td>\n",
       "      <td>95675.475</td>\n",
       "    </tr>\n",
       "    <tr>\n",
       "      <th>Пушкин</th>\n",
       "      <td>354</td>\n",
       "      <td>99678.545</td>\n",
       "    </tr>\n",
       "    <tr>\n",
       "      <th>Санкт-Петербург</th>\n",
       "      <td>14854</td>\n",
       "      <td>103906.250</td>\n",
       "    </tr>\n",
       "  </tbody>\n",
       "</table>\n",
       "</div>"
      ],
      "text/plain": [
       "                 amount      values\n",
       "locality_name                      \n",
       "Выборг              233   57894.740\n",
       "Всеволожск          394   65737.870\n",
       "Гатчина             305   67796.610\n",
       "Колпино             337   74722.220\n",
       "Шушары              437   76923.080\n",
       "Мурино              583   86268.870\n",
       "Парголово           326   91780.225\n",
       "Кудрово             468   95675.475\n",
       "Пушкин              354   99678.545\n",
       "Санкт-Петербург   14854  103906.250"
      ]
     },
     "execution_count": 36,
     "metadata": {},
     "output_type": "execute_result"
    }
   ],
   "source": [
    "#создаем сводную таблицу по 'locality_name' с двумя колонками общим количеством объявлений по каждому названию и \n",
    "#медианным значением по каждому названию. потом сортируем таблицу по убыванию по количество объявлений и делаем\n",
    "#срез 10 самых популярных\n",
    "svodnya_table = data.pivot_table(index='locality_name', values='price_per_square_meter', aggfunc=['count', 'median']).sort_values(('count', 'price_per_square_meter'), ascending=False)[:10]\n",
    "#переименовываем мультииндексы в обычные более понятные\n",
    "svodnya_table.columns = ['amount', 'values'] \n",
    "#отсортируем таблицу по возрастанию стоимости 1 м^2\n",
    "svodnya_table.sort_values('values')                                  "
   ]
  },
  {
   "cell_type": "markdown",
   "metadata": {},
   "source": [
    "Самое дорогое жилье находится в Санкт-Петербурге, а самое дешевое в Выборге."
   ]
  },
  {
   "cell_type": "markdown",
   "metadata": {},
   "source": [
    "#### Зависимость стоимости квартир в Санкт-Петербурге от расстояния до центра"
   ]
  },
  {
   "cell_type": "code",
   "execution_count": 37,
   "metadata": {},
   "outputs": [
    {
     "data": {
      "text/html": [
       "<div>\n",
       "<style scoped>\n",
       "    .dataframe tbody tr th:only-of-type {\n",
       "        vertical-align: middle;\n",
       "    }\n",
       "\n",
       "    .dataframe tbody tr th {\n",
       "        vertical-align: top;\n",
       "    }\n",
       "\n",
       "    .dataframe thead th {\n",
       "        text-align: right;\n",
       "    }\n",
       "</style>\n",
       "<table border=\"1\" class=\"dataframe\">\n",
       "  <thead>\n",
       "    <tr style=\"text-align: right;\">\n",
       "      <th></th>\n",
       "      <th>last_price</th>\n",
       "    </tr>\n",
       "    <tr>\n",
       "      <th>distance_to_centr_in_km</th>\n",
       "      <th></th>\n",
       "    </tr>\n",
       "  </thead>\n",
       "  <tbody>\n",
       "    <tr>\n",
       "      <th>0</th>\n",
       "      <td>1.086195e+07</td>\n",
       "    </tr>\n",
       "    <tr>\n",
       "      <th>1</th>\n",
       "      <td>1.078119e+07</td>\n",
       "    </tr>\n",
       "    <tr>\n",
       "      <th>2</th>\n",
       "      <td>9.704811e+06</td>\n",
       "    </tr>\n",
       "    <tr>\n",
       "      <th>3</th>\n",
       "      <td>9.275963e+06</td>\n",
       "    </tr>\n",
       "    <tr>\n",
       "      <th>4</th>\n",
       "      <td>1.026191e+07</td>\n",
       "    </tr>\n",
       "    <tr>\n",
       "      <th>5</th>\n",
       "      <td>9.562219e+06</td>\n",
       "    </tr>\n",
       "    <tr>\n",
       "      <th>6</th>\n",
       "      <td>9.138158e+06</td>\n",
       "    </tr>\n",
       "    <tr>\n",
       "      <th>7</th>\n",
       "      <td>8.404993e+06</td>\n",
       "    </tr>\n",
       "    <tr>\n",
       "      <th>8</th>\n",
       "      <td>7.865306e+06</td>\n",
       "    </tr>\n",
       "    <tr>\n",
       "      <th>9</th>\n",
       "      <td>6.153046e+06</td>\n",
       "    </tr>\n",
       "    <tr>\n",
       "      <th>10</th>\n",
       "      <td>6.026850e+06</td>\n",
       "    </tr>\n",
       "    <tr>\n",
       "      <th>11</th>\n",
       "      <td>5.797368e+06</td>\n",
       "    </tr>\n",
       "    <tr>\n",
       "      <th>12</th>\n",
       "      <td>5.892912e+06</td>\n",
       "    </tr>\n",
       "    <tr>\n",
       "      <th>13</th>\n",
       "      <td>5.859700e+06</td>\n",
       "    </tr>\n",
       "    <tr>\n",
       "      <th>14</th>\n",
       "      <td>5.551909e+06</td>\n",
       "    </tr>\n",
       "    <tr>\n",
       "      <th>15</th>\n",
       "      <td>5.373474e+06</td>\n",
       "    </tr>\n",
       "    <tr>\n",
       "      <th>16</th>\n",
       "      <td>5.374815e+06</td>\n",
       "    </tr>\n",
       "    <tr>\n",
       "      <th>17</th>\n",
       "      <td>4.799378e+06</td>\n",
       "    </tr>\n",
       "    <tr>\n",
       "      <th>18</th>\n",
       "      <td>5.014898e+06</td>\n",
       "    </tr>\n",
       "    <tr>\n",
       "      <th>19</th>\n",
       "      <td>4.678756e+06</td>\n",
       "    </tr>\n",
       "    <tr>\n",
       "      <th>20</th>\n",
       "      <td>5.949036e+06</td>\n",
       "    </tr>\n",
       "    <tr>\n",
       "      <th>21</th>\n",
       "      <td>5.136433e+06</td>\n",
       "    </tr>\n",
       "    <tr>\n",
       "      <th>22</th>\n",
       "      <td>5.252893e+06</td>\n",
       "    </tr>\n",
       "    <tr>\n",
       "      <th>23</th>\n",
       "      <td>4.126867e+06</td>\n",
       "    </tr>\n",
       "    <tr>\n",
       "      <th>24</th>\n",
       "      <td>3.862235e+06</td>\n",
       "    </tr>\n",
       "    <tr>\n",
       "      <th>25</th>\n",
       "      <td>4.048664e+06</td>\n",
       "    </tr>\n",
       "    <tr>\n",
       "      <th>26</th>\n",
       "      <td>3.575000e+06</td>\n",
       "    </tr>\n",
       "    <tr>\n",
       "      <th>27</th>\n",
       "      <td>8.300000e+06</td>\n",
       "    </tr>\n",
       "    <tr>\n",
       "      <th>28</th>\n",
       "      <td>4.910500e+06</td>\n",
       "    </tr>\n",
       "    <tr>\n",
       "      <th>29</th>\n",
       "      <td>3.833333e+06</td>\n",
       "    </tr>\n",
       "  </tbody>\n",
       "</table>\n",
       "</div>"
      ],
      "text/plain": [
       "                           last_price\n",
       "distance_to_centr_in_km              \n",
       "0                        1.086195e+07\n",
       "1                        1.078119e+07\n",
       "2                        9.704811e+06\n",
       "3                        9.275963e+06\n",
       "4                        1.026191e+07\n",
       "5                        9.562219e+06\n",
       "6                        9.138158e+06\n",
       "7                        8.404993e+06\n",
       "8                        7.865306e+06\n",
       "9                        6.153046e+06\n",
       "10                       6.026850e+06\n",
       "11                       5.797368e+06\n",
       "12                       5.892912e+06\n",
       "13                       5.859700e+06\n",
       "14                       5.551909e+06\n",
       "15                       5.373474e+06\n",
       "16                       5.374815e+06\n",
       "17                       4.799378e+06\n",
       "18                       5.014898e+06\n",
       "19                       4.678756e+06\n",
       "20                       5.949036e+06\n",
       "21                       5.136433e+06\n",
       "22                       5.252893e+06\n",
       "23                       4.126867e+06\n",
       "24                       3.862235e+06\n",
       "25                       4.048664e+06\n",
       "26                       3.575000e+06\n",
       "27                       8.300000e+06\n",
       "28                       4.910500e+06\n",
       "29                       3.833333e+06"
      ]
     },
     "execution_count": 37,
     "metadata": {},
     "output_type": "execute_result"
    }
   ],
   "source": [
    "#делаем срез данных, чтобы был только Санкт-Петербург и строим сводную таблицу, где индексами является расстояние от центра,\n",
    "#а значениями - стоимость объекта\n",
    "svodnaya_table2 = data.query('locality_name == \"Санкт-Петербург\"').pivot_table(index='distance_to_centr_in_km', values='last_price', aggfunc='mean')\n",
    "svodnaya_table2"
   ]
  },
  {
   "cell_type": "code",
   "execution_count": 38,
   "metadata": {},
   "outputs": [
    {
     "data": {
      "text/plain": [
       "<AxesSubplot:xlabel='distance_to_centr_in_km'>"
      ]
     },
     "execution_count": 38,
     "metadata": {},
     "output_type": "execute_result"
    },
    {
     "data": {
      "image/png": "[encoded data removed]",
      "text/plain": [
       "<Figure size 432x288 with 1 Axes>"
      ]
     },
     "metadata": {
      "needs_background": "light"
     },
     "output_type": "display_data"
    }
   ],
   "source": [
    "svodnaya_table2.plot()"
   ]
  },
  {
   "cell_type": "markdown",
   "metadata": {},
   "source": [
    "Квартиры, находящиеся на расстоянии до 3х км до центра - имеют наибольшую среднюю стоимость. Дальше происходит спад по стоимости в зависимости от удаления от центра, так происходит до 10км от центра. Стоимость квартир на расстонии от 10 км до 20 км примерно равная. а дальше слабо убывает. Присутсвует повышенная стоимость квартир в области 27км  от центра. Это может быть связано с тем, что там есть опредленная инфраструктура,  которая повышает стоимость квартир,  либо там построен примиальный комплекс с повышенной средней стоимостью квартир."
   ]
  },
  {
   "cell_type": "markdown",
   "metadata": {
    "id": "h7VpzkIDAwb-"
   },
   "source": [
    "### Вывод"
   ]
  },
  {
   "cell_type": "markdown",
   "metadata": {},
   "source": [
    "Был проведен исследовательских анализ данных и установлены параметры, влияющие на стоимость квартиры.\n",
    "Во-первых, это локация: в Санкт-Петербурге квартиры стоят дороже, чем в других городах из области, и чем ближе к центру, тем дороже. Средняя стомость квадратного метра в Санкт-Петербурге составляет порядка 104000 рублей, что является самой дорогой в области. Чуть меньше стоимость в Пушкино (около 100000 рублей) и Кудрово (около 96000 рублей). Самая низкая стоимость за 1 квадратный метр держится в Выборге и состовляет 58000 рублей. Стоимость имеет прямую корреляцию с расстоянием до центра. В Санкт-Петербурге квартиры на расстоянии до 5 км от центра продаются по 10000000 рублей, на расстоянии от 5 км до 10 км - примерно 7000000 рублей, на расстоянии от 10 км до 25 км стомость снижается но не сильно - от 6000000 рублей до 5000000 рублей. Присуствует локальный пик стоимости на растоянии 27 км от центра - там стоимость квартир поднимается свыше 8000000 рублей. Это может быть связано с тем, что там постоили дорогой комплекс, либо это особенный район с хорошими условиями проживания. \n",
    "Во-вторых, это площадь, как общая, так и жилая: чем больше, тем дороже. Корреляция между площадью и стомости составляет порядка 0.77. Большиство продаваемых квартир имееют площадь около 50 метров, а самыми популярные по количеству комнат - 1 и 2 комантные квартиры (таких объявлений примерно по 8000), менее популярные - 3 комантные (порядка 5000 объявлений).\n",
    "Также на стоимость влияет этаж, как правило квартиры находящиеся на первом или последнем этаже стоят дешевле, чем другие кваритры.\n",
    "С течением времени с 2014 по 2019 наблюдается тенденция снижения площади продаваемых объектов, и как следствие цены стоимости объявлений. В 2014 году стоимость продажи были порядка 8000000-9000000 рублей, что говорит нам о квартирах порядка 100 м^2, а к 2019 снизилась до 6000000, что характеризиует кварты порядка 50-70 м^2. То есть стало продаваться больше однокомнтаных и двухкомнатных квартир, чем трехкомантных. Это может быть связано с постройкой новых домов, где присуствует много небольших квартир.\n",
    "Среднее время продажи квартиры составляет порядка 90 дней с момента публикации объявления. Быстрыми продажами можно назвать продажи сделанные примерно за 50 дней, а долгими - продажи за 230 дней."
   ]
  }
 ],
 "metadata": {
  "ExecuteTimeLog": [
   {
    "duration": 72,
    "start_time": "2024-09-20T15:16:31.847Z"
   },
   {
    "duration": 549,
    "start_time": "2024-09-20T15:16:39.503Z"
   },
   {
    "duration": 60,
    "start_time": "2024-09-20T15:16:58.471Z"
   },
   {
    "duration": 95,
    "start_time": "2024-09-20T15:17:17.190Z"
   },
   {
    "duration": 92,
    "start_time": "2024-09-20T15:17:23.654Z"
   },
   {
    "duration": 94,
    "start_time": "2024-09-20T15:17:31.511Z"
   },
   {
    "duration": 95,
    "start_time": "2024-09-20T15:17:45.583Z"
   },
   {
    "duration": 122,
    "start_time": "2024-09-20T15:17:59.542Z"
   },
   {
    "duration": 521,
    "start_time": "2024-09-20T15:18:25.680Z"
   },
   {
    "duration": 96,
    "start_time": "2024-09-20T15:18:51.134Z"
   },
   {
    "duration": 1233,
    "start_time": "2024-09-20T15:19:16.543Z"
   },
   {
    "duration": 59,
    "start_time": "2024-09-20T15:22:11.983Z"
   },
   {
    "duration": 90,
    "start_time": "2024-09-20T15:22:13.774Z"
   },
   {
    "duration": 70,
    "start_time": "2024-09-20T15:22:27.622Z"
   },
   {
    "duration": 94,
    "start_time": "2024-09-20T15:22:29.950Z"
   },
   {
    "duration": 106,
    "start_time": "2024-09-20T15:22:37.342Z"
   },
   {
    "duration": 94,
    "start_time": "2024-09-20T15:27:19.566Z"
   },
   {
    "duration": 785,
    "start_time": "2024-09-21T06:15:15.209Z"
   },
   {
    "duration": 153,
    "start_time": "2024-09-21T06:20:30.703Z"
   },
   {
    "duration": 17,
    "start_time": "2024-09-21T06:20:49.006Z"
   },
   {
    "duration": 2625,
    "start_time": "2024-09-21T06:22:47.609Z"
   },
   {
    "duration": 2155,
    "start_time": "2024-09-21T06:24:16.005Z"
   },
   {
    "duration": 2109,
    "start_time": "2024-09-21T06:24:29.422Z"
   },
   {
    "duration": 2122,
    "start_time": "2024-09-21T06:24:41.979Z"
   },
   {
    "duration": 2258,
    "start_time": "2024-09-21T06:27:04.823Z"
   },
   {
    "duration": 78,
    "start_time": "2024-09-21T06:31:46.407Z"
   },
   {
    "duration": 30,
    "start_time": "2024-09-21T06:43:48.671Z"
   },
   {
    "duration": 99,
    "start_time": "2024-09-21T06:43:59.891Z"
   },
   {
    "duration": 10,
    "start_time": "2024-09-21T06:44:08.359Z"
   },
   {
    "duration": 229,
    "start_time": "2024-09-21T06:44:58.693Z"
   },
   {
    "duration": 3,
    "start_time": "2024-09-21T06:45:34.174Z"
   },
   {
    "duration": 11,
    "start_time": "2024-09-21T06:45:47.254Z"
   },
   {
    "duration": 11,
    "start_time": "2024-09-21T06:45:55.411Z"
   },
   {
    "duration": 11,
    "start_time": "2024-09-21T06:48:36.750Z"
   },
   {
    "duration": 11,
    "start_time": "2024-09-21T06:48:43.609Z"
   },
   {
    "duration": 3,
    "start_time": "2024-09-21T07:00:45.265Z"
   },
   {
    "duration": 6,
    "start_time": "2024-09-21T07:01:42.470Z"
   },
   {
    "duration": 14,
    "start_time": "2024-09-21T07:02:02.262Z"
   },
   {
    "duration": 5,
    "start_time": "2024-09-21T07:02:29.330Z"
   },
   {
    "duration": 53,
    "start_time": "2024-09-21T07:03:27.234Z"
   },
   {
    "duration": 7,
    "start_time": "2024-09-21T07:03:44.118Z"
   },
   {
    "duration": 7,
    "start_time": "2024-09-21T07:03:56.857Z"
   },
   {
    "duration": 8,
    "start_time": "2024-09-21T07:04:04.277Z"
   },
   {
    "duration": 12,
    "start_time": "2024-09-21T07:04:20.315Z"
   },
   {
    "duration": 9,
    "start_time": "2024-09-21T07:04:31.703Z"
   },
   {
    "duration": 5,
    "start_time": "2024-09-21T07:04:42.326Z"
   },
   {
    "duration": 9,
    "start_time": "2024-09-21T07:04:51.721Z"
   },
   {
    "duration": 10,
    "start_time": "2024-09-21T07:04:58.937Z"
   },
   {
    "duration": 9,
    "start_time": "2024-09-21T07:05:08.354Z"
   },
   {
    "duration": 8,
    "start_time": "2024-09-21T07:05:29.448Z"
   },
   {
    "duration": 8,
    "start_time": "2024-09-21T07:05:38.705Z"
   },
   {
    "duration": 17,
    "start_time": "2024-09-21T07:10:05.849Z"
   },
   {
    "duration": 21,
    "start_time": "2024-09-21T07:10:36.457Z"
   },
   {
    "duration": 139,
    "start_time": "2024-09-21T07:11:11.110Z"
   },
   {
    "duration": 15,
    "start_time": "2024-09-21T07:11:11.251Z"
   },
   {
    "duration": 2158,
    "start_time": "2024-09-21T07:11:11.268Z"
   },
   {
    "duration": 11,
    "start_time": "2024-09-21T07:11:13.428Z"
   },
   {
    "duration": 9,
    "start_time": "2024-09-21T07:11:13.441Z"
   },
   {
    "duration": 28,
    "start_time": "2024-09-21T07:11:13.451Z"
   },
   {
    "duration": 24,
    "start_time": "2024-09-21T07:11:24.963Z"
   },
   {
    "duration": 17,
    "start_time": "2024-09-21T07:11:44.493Z"
   },
   {
    "duration": 15,
    "start_time": "2024-09-21T07:11:56.601Z"
   },
   {
    "duration": 13,
    "start_time": "2024-09-21T07:12:03.841Z"
   },
   {
    "duration": 4,
    "start_time": "2024-09-21T07:14:06.412Z"
   },
   {
    "duration": 18,
    "start_time": "2024-09-21T07:19:21.686Z"
   },
   {
    "duration": 12,
    "start_time": "2024-09-21T07:19:39.710Z"
   },
   {
    "duration": 146,
    "start_time": "2024-09-21T07:27:48.593Z"
   },
   {
    "duration": 17,
    "start_time": "2024-09-21T07:27:48.741Z"
   },
   {
    "duration": 2431,
    "start_time": "2024-09-21T07:27:48.760Z"
   },
   {
    "duration": 14,
    "start_time": "2024-09-21T07:27:51.192Z"
   },
   {
    "duration": 8,
    "start_time": "2024-09-21T07:27:51.208Z"
   },
   {
    "duration": 28,
    "start_time": "2024-09-21T07:27:51.217Z"
   },
   {
    "duration": 11,
    "start_time": "2024-09-21T07:27:51.247Z"
   },
   {
    "duration": 150,
    "start_time": "2024-09-21T07:28:53.984Z"
   },
   {
    "duration": 139,
    "start_time": "2024-09-21T07:29:08.516Z"
   },
   {
    "duration": 8,
    "start_time": "2024-09-21T07:32:33.332Z"
   },
   {
    "duration": 7,
    "start_time": "2024-09-21T07:32:46.006Z"
   },
   {
    "duration": 5,
    "start_time": "2024-09-21T07:33:13.236Z"
   },
   {
    "duration": 13,
    "start_time": "2024-09-21T07:33:21.532Z"
   },
   {
    "duration": 4,
    "start_time": "2024-09-21T07:33:32.801Z"
   },
   {
    "duration": 13,
    "start_time": "2024-09-21T07:51:01.222Z"
   },
   {
    "duration": 19,
    "start_time": "2024-09-21T07:51:12.266Z"
   },
   {
    "duration": 16,
    "start_time": "2024-09-21T07:51:47.626Z"
   },
   {
    "duration": 17,
    "start_time": "2024-09-21T07:52:25.538Z"
   },
   {
    "duration": 17,
    "start_time": "2024-09-21T07:52:44.035Z"
   },
   {
    "duration": 16,
    "start_time": "2024-09-21T07:53:38.138Z"
   },
   {
    "duration": 978,
    "start_time": "2024-09-21T07:57:51.328Z"
   },
   {
    "duration": 923,
    "start_time": "2024-09-21T07:58:00.322Z"
   },
   {
    "duration": 912,
    "start_time": "2024-09-21T07:58:06.938Z"
   },
   {
    "duration": 7,
    "start_time": "2024-09-21T07:58:24.462Z"
   },
   {
    "duration": 10,
    "start_time": "2024-09-21T07:58:31.122Z"
   },
   {
    "duration": 18,
    "start_time": "2024-09-21T08:00:55.322Z"
   },
   {
    "duration": 6,
    "start_time": "2024-09-21T08:01:23.593Z"
   },
   {
    "duration": 769,
    "start_time": "2024-09-23T15:47:18.914Z"
   },
   {
    "duration": 16,
    "start_time": "2024-09-23T15:47:22.101Z"
   },
   {
    "duration": 2452,
    "start_time": "2024-09-23T15:47:23.949Z"
   },
   {
    "duration": 13,
    "start_time": "2024-09-23T15:47:27.197Z"
   },
   {
    "duration": 7,
    "start_time": "2024-09-23T15:47:31.517Z"
   },
   {
    "duration": 13,
    "start_time": "2024-09-23T15:47:32.053Z"
   },
   {
    "duration": 4,
    "start_time": "2024-09-23T15:47:34.910Z"
   },
   {
    "duration": 5,
    "start_time": "2024-09-23T15:47:35.941Z"
   },
   {
    "duration": 94,
    "start_time": "2024-09-23T15:56:15.278Z"
   },
   {
    "duration": 6,
    "start_time": "2024-09-23T15:57:13.158Z"
   },
   {
    "duration": 11,
    "start_time": "2024-09-23T15:57:30.317Z"
   },
   {
    "duration": 8,
    "start_time": "2024-09-23T16:00:45.759Z"
   },
   {
    "duration": 11,
    "start_time": "2024-09-23T16:00:55.708Z"
   },
   {
    "duration": 10,
    "start_time": "2024-09-23T16:02:40.909Z"
   },
   {
    "duration": 11,
    "start_time": "2024-09-23T16:06:51.020Z"
   },
   {
    "duration": 15,
    "start_time": "2024-09-23T16:10:06.828Z"
   },
   {
    "duration": 5,
    "start_time": "2024-09-23T16:12:32.317Z"
   },
   {
    "duration": 6,
    "start_time": "2024-09-23T16:12:57.787Z"
   },
   {
    "duration": 6,
    "start_time": "2024-09-23T16:13:24.067Z"
   },
   {
    "duration": 5,
    "start_time": "2024-09-23T16:13:58.660Z"
   },
   {
    "duration": 8,
    "start_time": "2024-09-23T16:16:05.428Z"
   },
   {
    "duration": 5,
    "start_time": "2024-09-23T16:16:51.187Z"
   },
   {
    "duration": 5,
    "start_time": "2024-09-23T16:18:06.555Z"
   },
   {
    "duration": 916,
    "start_time": "2024-09-23T16:18:19.419Z"
   },
   {
    "duration": 16,
    "start_time": "2024-09-23T16:18:37.555Z"
   },
   {
    "duration": 13,
    "start_time": "2024-09-23T16:18:45.676Z"
   },
   {
    "duration": 15,
    "start_time": "2024-09-23T16:19:40.915Z"
   },
   {
    "duration": 12,
    "start_time": "2024-09-23T16:22:58.564Z"
   },
   {
    "duration": 4,
    "start_time": "2024-09-23T16:23:05.348Z"
   },
   {
    "duration": 14,
    "start_time": "2024-09-23T16:23:07.859Z"
   },
   {
    "duration": 13,
    "start_time": "2024-09-23T16:23:35.203Z"
   },
   {
    "duration": 14,
    "start_time": "2024-09-23T16:23:54.411Z"
   },
   {
    "duration": 51,
    "start_time": "2024-09-23T16:26:26.723Z"
   },
   {
    "duration": 63,
    "start_time": "2024-09-23T16:26:39.354Z"
   },
   {
    "duration": 53,
    "start_time": "2024-09-23T16:27:40.083Z"
   },
   {
    "duration": 5,
    "start_time": "2024-09-23T16:31:26.451Z"
   },
   {
    "duration": 5,
    "start_time": "2024-09-23T16:31:49.738Z"
   },
   {
    "duration": 16,
    "start_time": "2024-09-23T16:32:00.282Z"
   },
   {
    "duration": 61,
    "start_time": "2024-09-23T16:38:31.546Z"
   },
   {
    "duration": 13,
    "start_time": "2024-09-23T16:38:36.866Z"
   },
   {
    "duration": 949,
    "start_time": "2024-09-23T16:48:23.129Z"
   },
   {
    "duration": 922,
    "start_time": "2024-09-23T16:48:31.120Z"
   },
   {
    "duration": 8,
    "start_time": "2024-09-23T16:48:36.777Z"
   },
   {
    "duration": 9,
    "start_time": "2024-09-23T16:48:45.477Z"
   },
   {
    "duration": 7,
    "start_time": "2024-09-23T16:48:50.393Z"
   },
   {
    "duration": 5,
    "start_time": "2024-09-23T16:48:58.240Z"
   },
   {
    "duration": 4,
    "start_time": "2024-09-23T16:49:33.944Z"
   },
   {
    "duration": 5,
    "start_time": "2024-09-23T16:50:14.673Z"
   },
   {
    "duration": 6,
    "start_time": "2024-09-23T16:50:28.249Z"
   },
   {
    "duration": 6,
    "start_time": "2024-09-23T16:50:47.528Z"
   },
   {
    "duration": 4,
    "start_time": "2024-09-23T16:50:52.849Z"
   },
   {
    "duration": 44,
    "start_time": "2024-09-23T16:52:07.147Z"
   },
   {
    "duration": 12,
    "start_time": "2024-09-23T16:58:20.338Z"
   },
   {
    "duration": 898,
    "start_time": "2024-09-23T17:04:32.449Z"
   },
   {
    "duration": 7,
    "start_time": "2024-09-23T17:04:41.208Z"
   },
   {
    "duration": 16,
    "start_time": "2024-09-23T17:04:45.623Z"
   },
   {
    "duration": 7,
    "start_time": "2024-09-23T17:05:11.057Z"
   },
   {
    "duration": 7,
    "start_time": "2024-09-23T17:05:14.401Z"
   },
   {
    "duration": 15,
    "start_time": "2024-09-23T17:05:15.119Z"
   },
   {
    "duration": 8,
    "start_time": "2024-09-23T17:05:28.657Z"
   },
   {
    "duration": 8,
    "start_time": "2024-09-23T17:05:39.601Z"
   },
   {
    "duration": 15,
    "start_time": "2024-09-23T17:05:40.447Z"
   },
   {
    "duration": 3,
    "start_time": "2024-09-23T17:06:45.880Z"
   },
   {
    "duration": 4,
    "start_time": "2024-09-23T17:06:50.239Z"
   },
   {
    "duration": 4,
    "start_time": "2024-09-23T17:06:55.288Z"
   },
   {
    "duration": 4,
    "start_time": "2024-09-23T17:07:02.514Z"
   },
   {
    "duration": 8,
    "start_time": "2024-09-23T17:07:18.008Z"
   },
   {
    "duration": 4,
    "start_time": "2024-09-23T17:07:20.168Z"
   },
   {
    "duration": 4,
    "start_time": "2024-09-23T17:07:22.823Z"
   },
   {
    "duration": 8,
    "start_time": "2024-09-23T17:07:24.647Z"
   },
   {
    "duration": 6,
    "start_time": "2024-09-23T17:12:37.799Z"
   },
   {
    "duration": 4,
    "start_time": "2024-09-23T17:12:39.907Z"
   },
   {
    "duration": 14,
    "start_time": "2024-09-23T17:12:51.136Z"
   },
   {
    "duration": 12,
    "start_time": "2024-09-23T17:15:13.104Z"
   },
   {
    "duration": 8,
    "start_time": "2024-09-23T17:15:23.160Z"
   },
   {
    "duration": 4,
    "start_time": "2024-09-23T17:15:26.800Z"
   },
   {
    "duration": 8,
    "start_time": "2024-09-23T17:15:44.088Z"
   },
   {
    "duration": 21,
    "start_time": "2024-09-23T17:16:06.528Z"
   },
   {
    "duration": 6,
    "start_time": "2024-09-23T17:16:35.424Z"
   },
   {
    "duration": 6,
    "start_time": "2024-09-23T17:16:38.295Z"
   },
   {
    "duration": 6,
    "start_time": "2024-09-23T17:16:40.776Z"
   },
   {
    "duration": 18,
    "start_time": "2024-09-23T17:16:43.288Z"
   },
   {
    "duration": 5,
    "start_time": "2024-09-23T17:16:54.360Z"
   },
   {
    "duration": 26,
    "start_time": "2024-09-23T17:17:44.409Z"
   },
   {
    "duration": 62,
    "start_time": "2024-09-23T17:18:26.616Z"
   },
   {
    "duration": 19,
    "start_time": "2024-09-23T17:18:52.351Z"
   },
   {
    "duration": 18,
    "start_time": "2024-09-23T17:20:30.448Z"
   },
   {
    "duration": 4,
    "start_time": "2024-09-23T17:21:00.567Z"
   },
   {
    "duration": 9,
    "start_time": "2024-09-23T17:21:10.927Z"
   },
   {
    "duration": 18,
    "start_time": "2024-09-23T17:21:32.744Z"
   },
   {
    "duration": 15,
    "start_time": "2024-09-23T17:21:37.048Z"
   },
   {
    "duration": 14,
    "start_time": "2024-09-23T17:21:43.992Z"
   },
   {
    "duration": 20,
    "start_time": "2024-09-23T17:21:51.967Z"
   },
   {
    "duration": 7,
    "start_time": "2024-09-23T17:22:47.817Z"
   },
   {
    "duration": 15,
    "start_time": "2024-09-23T17:22:59.960Z"
   },
   {
    "duration": 14,
    "start_time": "2024-09-23T17:23:39.111Z"
   },
   {
    "duration": 14,
    "start_time": "2024-09-23T17:23:43.823Z"
   },
   {
    "duration": 11,
    "start_time": "2024-09-23T17:23:45.879Z"
   },
   {
    "duration": 143,
    "start_time": "2024-09-23T17:23:59.066Z"
   },
   {
    "duration": 13,
    "start_time": "2024-09-23T17:23:59.211Z"
   },
   {
    "duration": 2036,
    "start_time": "2024-09-23T17:23:59.226Z"
   },
   {
    "duration": 10,
    "start_time": "2024-09-23T17:24:01.263Z"
   },
   {
    "duration": 121,
    "start_time": "2024-09-23T17:24:01.275Z"
   },
   {
    "duration": 34,
    "start_time": "2024-09-23T17:24:01.398Z"
   },
   {
    "duration": 47,
    "start_time": "2024-09-23T17:24:01.433Z"
   },
   {
    "duration": 24,
    "start_time": "2024-09-23T17:24:01.482Z"
   },
   {
    "duration": 29,
    "start_time": "2024-09-23T17:24:01.508Z"
   },
   {
    "duration": 16,
    "start_time": "2024-09-23T17:24:01.540Z"
   },
   {
    "duration": 57,
    "start_time": "2024-09-23T17:24:01.558Z"
   },
   {
    "duration": 46,
    "start_time": "2024-09-23T17:24:01.617Z"
   },
   {
    "duration": 14,
    "start_time": "2024-09-23T17:24:01.665Z"
   },
   {
    "duration": 39,
    "start_time": "2024-09-23T17:24:01.681Z"
   },
   {
    "duration": 8,
    "start_time": "2024-09-23T17:24:51.464Z"
   },
   {
    "duration": 15,
    "start_time": "2024-09-23T17:25:27.879Z"
   },
   {
    "duration": 6,
    "start_time": "2024-09-23T17:33:28.519Z"
   },
   {
    "duration": 9,
    "start_time": "2024-09-23T17:33:41.246Z"
   },
   {
    "duration": 10,
    "start_time": "2024-09-23T17:33:57.870Z"
   },
   {
    "duration": 10,
    "start_time": "2024-09-23T17:34:05.126Z"
   },
   {
    "duration": 5,
    "start_time": "2024-09-23T17:34:16.358Z"
   },
   {
    "duration": 6,
    "start_time": "2024-09-23T17:34:40.983Z"
   },
   {
    "duration": 50,
    "start_time": "2024-09-23T17:44:13.470Z"
   },
   {
    "duration": 7,
    "start_time": "2024-09-23T17:44:21.997Z"
   },
   {
    "duration": 5,
    "start_time": "2024-09-23T17:44:34.117Z"
   },
   {
    "duration": 48,
    "start_time": "2024-09-23T17:45:08.478Z"
   },
   {
    "duration": 5,
    "start_time": "2024-09-23T17:45:09.070Z"
   },
   {
    "duration": 51,
    "start_time": "2024-09-23T17:45:32.966Z"
   },
   {
    "duration": 6,
    "start_time": "2024-09-23T17:45:33.510Z"
   },
   {
    "duration": 54,
    "start_time": "2024-09-23T17:46:46.910Z"
   },
   {
    "duration": 5,
    "start_time": "2024-09-23T17:46:47.469Z"
   },
   {
    "duration": 56,
    "start_time": "2024-09-23T17:49:17.829Z"
   },
   {
    "duration": 50,
    "start_time": "2024-09-23T17:49:26.197Z"
   },
   {
    "duration": 52,
    "start_time": "2024-09-23T17:49:40.350Z"
   },
   {
    "duration": 5,
    "start_time": "2024-09-23T17:49:40.901Z"
   },
   {
    "duration": 47,
    "start_time": "2024-09-23T17:49:47.589Z"
   },
   {
    "duration": 68,
    "start_time": "2024-09-23T17:50:08.390Z"
   },
   {
    "duration": 47,
    "start_time": "2024-09-23T17:50:23.661Z"
   },
   {
    "duration": 5,
    "start_time": "2024-09-23T17:50:26.069Z"
   },
   {
    "duration": 22,
    "start_time": "2024-09-23T17:50:32.807Z"
   },
   {
    "duration": 18,
    "start_time": "2024-09-23T17:50:42.462Z"
   },
   {
    "duration": 47,
    "start_time": "2024-09-23T17:51:04.086Z"
   },
   {
    "duration": 6,
    "start_time": "2024-09-23T17:51:27.230Z"
   },
   {
    "duration": 7,
    "start_time": "2024-09-23T17:52:28.405Z"
   },
   {
    "duration": 7,
    "start_time": "2024-09-23T17:52:47.877Z"
   },
   {
    "duration": 8,
    "start_time": "2024-09-23T17:53:02.677Z"
   },
   {
    "duration": 8,
    "start_time": "2024-09-23T17:53:21.749Z"
   },
   {
    "duration": 8,
    "start_time": "2024-09-23T17:53:48.100Z"
   },
   {
    "duration": 7,
    "start_time": "2024-09-23T17:53:52.047Z"
   },
   {
    "duration": 12,
    "start_time": "2024-09-23T17:53:55.797Z"
   },
   {
    "duration": 31,
    "start_time": "2024-09-23T17:55:12.733Z"
   },
   {
    "duration": 8,
    "start_time": "2024-09-23T17:55:16.701Z"
   },
   {
    "duration": 3,
    "start_time": "2024-09-23T17:55:32.925Z"
   },
   {
    "duration": 4,
    "start_time": "2024-09-23T17:55:39.997Z"
   },
   {
    "duration": 8,
    "start_time": "2024-09-23T17:56:36.117Z"
   },
   {
    "duration": 8,
    "start_time": "2024-09-23T17:57:10.453Z"
   },
   {
    "duration": 8,
    "start_time": "2024-09-23T17:57:27.645Z"
   },
   {
    "duration": 7,
    "start_time": "2024-09-23T17:57:41.341Z"
   },
   {
    "duration": 57,
    "start_time": "2024-09-23T18:02:54.445Z"
   },
   {
    "duration": 35,
    "start_time": "2024-09-23T18:03:00.732Z"
   },
   {
    "duration": 7,
    "start_time": "2024-09-23T18:03:01.652Z"
   },
   {
    "duration": 5,
    "start_time": "2024-09-23T18:03:04.396Z"
   },
   {
    "duration": 4,
    "start_time": "2024-09-23T18:03:08.821Z"
   },
   {
    "duration": 22,
    "start_time": "2024-09-23T18:04:08.965Z"
   },
   {
    "duration": 5,
    "start_time": "2024-09-23T18:04:09.772Z"
   },
   {
    "duration": 676,
    "start_time": "2024-09-25T19:23:44.761Z"
   },
   {
    "duration": 18,
    "start_time": "2024-09-25T19:23:45.440Z"
   },
   {
    "duration": 2704,
    "start_time": "2024-09-25T19:23:45.460Z"
   },
   {
    "duration": 14,
    "start_time": "2024-09-25T19:23:48.167Z"
   },
   {
    "duration": 49,
    "start_time": "2024-09-25T19:23:48.184Z"
   },
   {
    "duration": 15,
    "start_time": "2024-09-25T19:23:48.235Z"
   },
   {
    "duration": 4,
    "start_time": "2024-09-25T19:23:48.251Z"
   },
   {
    "duration": 6,
    "start_time": "2024-09-25T19:23:48.257Z"
   },
   {
    "duration": 10,
    "start_time": "2024-09-25T19:23:48.264Z"
   },
   {
    "duration": 18,
    "start_time": "2024-09-25T19:23:48.275Z"
   },
   {
    "duration": 64,
    "start_time": "2024-09-25T19:23:48.295Z"
   },
   {
    "duration": 15,
    "start_time": "2024-09-25T19:23:48.361Z"
   },
   {
    "duration": 35,
    "start_time": "2024-09-25T19:23:48.378Z"
   },
   {
    "duration": 16,
    "start_time": "2024-09-25T19:23:48.416Z"
   },
   {
    "duration": 16,
    "start_time": "2024-09-25T19:23:48.433Z"
   },
   {
    "duration": 32,
    "start_time": "2024-09-25T19:23:48.450Z"
   },
   {
    "duration": 66,
    "start_time": "2024-09-25T19:23:48.484Z"
   },
   {
    "duration": 0,
    "start_time": "2024-09-25T19:23:48.552Z"
   },
   {
    "duration": 0,
    "start_time": "2024-09-25T19:23:48.553Z"
   },
   {
    "duration": 74,
    "start_time": "2024-09-25T19:24:11.604Z"
   },
   {
    "duration": 11,
    "start_time": "2024-09-25T19:24:20.218Z"
   },
   {
    "duration": 8,
    "start_time": "2024-09-25T19:24:30.974Z"
   },
   {
    "duration": 11,
    "start_time": "2024-09-25T19:24:37.556Z"
   },
   {
    "duration": 59,
    "start_time": "2024-09-25T19:24:54.644Z"
   },
   {
    "duration": 11,
    "start_time": "2024-09-25T19:25:01.922Z"
   },
   {
    "duration": 6,
    "start_time": "2024-09-25T19:25:19.574Z"
   },
   {
    "duration": 4,
    "start_time": "2024-09-25T19:25:27.719Z"
   },
   {
    "duration": 16,
    "start_time": "2024-09-25T19:25:35.751Z"
   },
   {
    "duration": 9,
    "start_time": "2024-09-25T19:25:44.437Z"
   },
   {
    "duration": 9,
    "start_time": "2024-09-25T19:25:55.821Z"
   },
   {
    "duration": 74,
    "start_time": "2024-09-25T19:30:12.013Z"
   },
   {
    "duration": 38,
    "start_time": "2024-09-25T19:30:27.415Z"
   },
   {
    "duration": 42,
    "start_time": "2024-09-25T19:30:36.112Z"
   },
   {
    "duration": 36,
    "start_time": "2024-09-25T19:32:05.709Z"
   },
   {
    "duration": 11,
    "start_time": "2024-09-25T19:32:07.093Z"
   },
   {
    "duration": 37,
    "start_time": "2024-09-25T19:32:09.095Z"
   },
   {
    "duration": 37,
    "start_time": "2024-09-25T19:33:48.919Z"
   },
   {
    "duration": 40,
    "start_time": "2024-09-25T19:33:59.967Z"
   },
   {
    "duration": 60,
    "start_time": "2024-09-25T19:34:25.392Z"
   },
   {
    "duration": 59,
    "start_time": "2024-09-25T19:35:01.853Z"
   },
   {
    "duration": 9,
    "start_time": "2024-09-25T19:40:44.375Z"
   },
   {
    "duration": 6,
    "start_time": "2024-09-25T19:41:04.424Z"
   },
   {
    "duration": 56,
    "start_time": "2024-09-25T19:41:43.742Z"
   },
   {
    "duration": 63,
    "start_time": "2024-09-25T19:41:56.184Z"
   },
   {
    "duration": 11,
    "start_time": "2024-09-25T19:42:11.293Z"
   },
   {
    "duration": 14,
    "start_time": "2024-09-25T19:42:27.179Z"
   },
   {
    "duration": 145,
    "start_time": "2024-09-25T19:42:32.254Z"
   },
   {
    "duration": 15,
    "start_time": "2024-09-25T19:42:32.401Z"
   },
   {
    "duration": 2270,
    "start_time": "2024-09-25T19:42:32.418Z"
   },
   {
    "duration": 12,
    "start_time": "2024-09-25T19:42:34.690Z"
   },
   {
    "duration": 17,
    "start_time": "2024-09-25T19:42:34.704Z"
   },
   {
    "duration": 17,
    "start_time": "2024-09-25T19:42:34.723Z"
   },
   {
    "duration": 24,
    "start_time": "2024-09-25T19:42:34.742Z"
   },
   {
    "duration": 12,
    "start_time": "2024-09-25T19:42:34.767Z"
   },
   {
    "duration": 10,
    "start_time": "2024-09-25T19:42:34.781Z"
   },
   {
    "duration": 26,
    "start_time": "2024-09-25T19:42:34.793Z"
   },
   {
    "duration": 62,
    "start_time": "2024-09-25T19:42:34.821Z"
   },
   {
    "duration": 36,
    "start_time": "2024-09-25T19:42:34.885Z"
   },
   {
    "duration": 16,
    "start_time": "2024-09-25T19:42:34.923Z"
   },
   {
    "duration": 39,
    "start_time": "2024-09-25T19:42:34.942Z"
   },
   {
    "duration": 47,
    "start_time": "2024-09-25T19:42:34.983Z"
   },
   {
    "duration": 30,
    "start_time": "2024-09-25T19:42:35.031Z"
   },
   {
    "duration": 96,
    "start_time": "2024-09-25T19:42:35.063Z"
   },
   {
    "duration": 7,
    "start_time": "2024-09-25T19:42:35.161Z"
   },
   {
    "duration": 57,
    "start_time": "2024-09-25T19:42:35.170Z"
   },
   {
    "duration": 33,
    "start_time": "2024-09-25T19:42:35.229Z"
   },
   {
    "duration": 60,
    "start_time": "2024-09-25T19:42:59.793Z"
   },
   {
    "duration": 97,
    "start_time": "2024-09-25T19:43:33.960Z"
   },
   {
    "duration": 7,
    "start_time": "2024-09-25T19:43:56.843Z"
   },
   {
    "duration": 61,
    "start_time": "2024-09-25T19:44:49.955Z"
   },
   {
    "duration": 103,
    "start_time": "2024-09-25T19:44:55.490Z"
   },
   {
    "duration": 7,
    "start_time": "2024-09-25T19:45:03.770Z"
   },
   {
    "duration": 142,
    "start_time": "2024-09-25T19:45:34.809Z"
   },
   {
    "duration": 142,
    "start_time": "2024-09-25T19:45:39.287Z"
   },
   {
    "duration": 7,
    "start_time": "2024-09-25T19:45:41.672Z"
   },
   {
    "duration": 7,
    "start_time": "2024-09-25T19:45:51.380Z"
   },
   {
    "duration": 7,
    "start_time": "2024-09-25T19:46:38.867Z"
   },
   {
    "duration": 151,
    "start_time": "2024-09-25T19:46:40.206Z"
   },
   {
    "duration": 141,
    "start_time": "2024-09-25T19:47:12.057Z"
   },
   {
    "duration": 16,
    "start_time": "2024-09-25T19:47:12.200Z"
   },
   {
    "duration": 2287,
    "start_time": "2024-09-25T19:47:12.218Z"
   },
   {
    "duration": 11,
    "start_time": "2024-09-25T19:47:14.507Z"
   },
   {
    "duration": 7,
    "start_time": "2024-09-25T19:47:14.520Z"
   },
   {
    "duration": 34,
    "start_time": "2024-09-25T19:47:14.529Z"
   },
   {
    "duration": 4,
    "start_time": "2024-09-25T19:47:14.565Z"
   },
   {
    "duration": 16,
    "start_time": "2024-09-25T19:47:14.571Z"
   },
   {
    "duration": 13,
    "start_time": "2024-09-25T19:47:14.588Z"
   },
   {
    "duration": 28,
    "start_time": "2024-09-25T19:47:14.603Z"
   },
   {
    "duration": 50,
    "start_time": "2024-09-25T19:47:14.633Z"
   },
   {
    "duration": 42,
    "start_time": "2024-09-25T19:47:14.685Z"
   },
   {
    "duration": 16,
    "start_time": "2024-09-25T19:47:14.728Z"
   },
   {
    "duration": 19,
    "start_time": "2024-09-25T19:47:14.747Z"
   },
   {
    "duration": 5,
    "start_time": "2024-09-25T19:47:14.768Z"
   },
   {
    "duration": 38,
    "start_time": "2024-09-25T19:47:14.775Z"
   },
   {
    "duration": 157,
    "start_time": "2024-09-25T19:47:14.815Z"
   },
   {
    "duration": 6,
    "start_time": "2024-09-25T19:47:14.974Z"
   },
   {
    "duration": 27,
    "start_time": "2024-09-25T19:47:14.982Z"
   },
   {
    "duration": 91,
    "start_time": "2024-09-25T19:47:15.011Z"
   },
   {
    "duration": 143,
    "start_time": "2024-09-25T19:47:58.957Z"
   },
   {
    "duration": 7,
    "start_time": "2024-09-25T19:48:01.319Z"
   },
   {
    "duration": 153,
    "start_time": "2024-09-25T19:48:21.525Z"
   },
   {
    "duration": 7,
    "start_time": "2024-09-25T19:48:30.919Z"
   },
   {
    "duration": 140,
    "start_time": "2024-09-25T19:48:46.905Z"
   },
   {
    "duration": 12,
    "start_time": "2024-09-25T19:48:59.707Z"
   },
   {
    "duration": 163,
    "start_time": "2024-09-25T19:49:48.713Z"
   },
   {
    "duration": 163,
    "start_time": "2024-09-25T19:50:04.542Z"
   },
   {
    "duration": 192,
    "start_time": "2024-09-25T19:50:17.288Z"
   },
   {
    "duration": 6,
    "start_time": "2024-09-25T19:50:19.606Z"
   },
   {
    "duration": 198,
    "start_time": "2024-09-25T19:50:53.805Z"
   },
   {
    "duration": 7,
    "start_time": "2024-09-25T19:50:55.853Z"
   },
   {
    "duration": 216,
    "start_time": "2024-09-25T19:51:16.475Z"
   },
   {
    "duration": 7,
    "start_time": "2024-09-25T19:51:17.914Z"
   },
   {
    "duration": 234,
    "start_time": "2024-09-25T19:51:45.556Z"
   },
   {
    "duration": 7,
    "start_time": "2024-09-25T19:51:46.162Z"
   },
   {
    "duration": 282,
    "start_time": "2024-09-25T19:53:30.283Z"
   },
   {
    "duration": 7,
    "start_time": "2024-09-25T19:53:31.689Z"
   },
   {
    "duration": 7,
    "start_time": "2024-09-25T19:54:12.055Z"
   },
   {
    "duration": 161,
    "start_time": "2024-09-25T19:57:03.400Z"
   },
   {
    "duration": 16,
    "start_time": "2024-09-25T19:57:03.564Z"
   },
   {
    "duration": 2386,
    "start_time": "2024-09-25T19:57:03.581Z"
   },
   {
    "duration": 12,
    "start_time": "2024-09-25T19:57:05.968Z"
   },
   {
    "duration": 45,
    "start_time": "2024-09-25T19:57:05.983Z"
   },
   {
    "duration": 32,
    "start_time": "2024-09-25T19:57:06.030Z"
   },
   {
    "duration": 25,
    "start_time": "2024-09-25T19:57:06.063Z"
   },
   {
    "duration": 11,
    "start_time": "2024-09-25T19:57:06.090Z"
   },
   {
    "duration": 20,
    "start_time": "2024-09-25T19:57:06.103Z"
   },
   {
    "duration": 12,
    "start_time": "2024-09-25T19:57:06.125Z"
   },
   {
    "duration": 51,
    "start_time": "2024-09-25T19:57:06.139Z"
   },
   {
    "duration": 45,
    "start_time": "2024-09-25T19:57:06.191Z"
   },
   {
    "duration": 17,
    "start_time": "2024-09-25T19:57:06.238Z"
   },
   {
    "duration": 34,
    "start_time": "2024-09-25T19:57:06.258Z"
   },
   {
    "duration": 6,
    "start_time": "2024-09-25T19:57:06.294Z"
   },
   {
    "duration": 17,
    "start_time": "2024-09-25T19:57:06.302Z"
   },
   {
    "duration": 363,
    "start_time": "2024-09-25T19:57:06.321Z"
   },
   {
    "duration": 7,
    "start_time": "2024-09-25T19:57:06.686Z"
   },
   {
    "duration": 26,
    "start_time": "2024-09-25T19:57:06.694Z"
   },
   {
    "duration": 155,
    "start_time": "2024-09-25T19:58:24.445Z"
   },
   {
    "duration": 22,
    "start_time": "2024-09-25T19:58:24.602Z"
   },
   {
    "duration": 2343,
    "start_time": "2024-09-25T19:58:24.626Z"
   },
   {
    "duration": 12,
    "start_time": "2024-09-25T19:58:26.971Z"
   },
   {
    "duration": 7,
    "start_time": "2024-09-25T19:58:26.987Z"
   },
   {
    "duration": 19,
    "start_time": "2024-09-25T19:58:26.996Z"
   },
   {
    "duration": 22,
    "start_time": "2024-09-25T19:58:27.016Z"
   },
   {
    "duration": 16,
    "start_time": "2024-09-25T19:58:27.040Z"
   },
   {
    "duration": 49,
    "start_time": "2024-09-25T19:58:27.058Z"
   },
   {
    "duration": 17,
    "start_time": "2024-09-25T19:58:27.109Z"
   },
   {
    "duration": 77,
    "start_time": "2024-09-25T19:58:27.128Z"
   },
   {
    "duration": 23,
    "start_time": "2024-09-25T19:58:27.207Z"
   },
   {
    "duration": 38,
    "start_time": "2024-09-25T19:58:27.232Z"
   },
   {
    "duration": 16,
    "start_time": "2024-09-25T19:58:27.274Z"
   },
   {
    "duration": 6,
    "start_time": "2024-09-25T19:58:27.292Z"
   },
   {
    "duration": 9,
    "start_time": "2024-09-25T19:58:27.301Z"
   },
   {
    "duration": 3,
    "start_time": "2024-09-25T19:58:27.312Z"
   },
   {
    "duration": 44,
    "start_time": "2024-09-25T19:58:27.316Z"
   },
   {
    "duration": 11,
    "start_time": "2024-09-25T19:58:27.363Z"
   },
   {
    "duration": 22,
    "start_time": "2024-09-25T19:58:39.844Z"
   },
   {
    "duration": 7,
    "start_time": "2024-09-25T19:58:40.845Z"
   },
   {
    "duration": 385,
    "start_time": "2024-09-25T19:59:48.188Z"
   },
   {
    "duration": 7,
    "start_time": "2024-09-25T19:59:49.370Z"
   },
   {
    "duration": 9,
    "start_time": "2024-09-25T19:59:56.198Z"
   },
   {
    "duration": 160,
    "start_time": "2024-09-25T20:02:36.923Z"
   },
   {
    "duration": 16,
    "start_time": "2024-09-25T20:02:37.086Z"
   },
   {
    "duration": 2611,
    "start_time": "2024-09-25T20:02:37.103Z"
   },
   {
    "duration": 12,
    "start_time": "2024-09-25T20:02:39.716Z"
   },
   {
    "duration": 27,
    "start_time": "2024-09-25T20:02:39.731Z"
   },
   {
    "duration": 16,
    "start_time": "2024-09-25T20:02:39.759Z"
   },
   {
    "duration": 10,
    "start_time": "2024-09-25T20:02:39.777Z"
   },
   {
    "duration": 24,
    "start_time": "2024-09-25T20:02:39.788Z"
   },
   {
    "duration": 9,
    "start_time": "2024-09-25T20:02:39.814Z"
   },
   {
    "duration": 14,
    "start_time": "2024-09-25T20:02:39.825Z"
   },
   {
    "duration": 56,
    "start_time": "2024-09-25T20:02:39.841Z"
   },
   {
    "duration": 88,
    "start_time": "2024-09-25T20:02:39.899Z"
   },
   {
    "duration": 15,
    "start_time": "2024-09-25T20:02:39.989Z"
   },
   {
    "duration": 18,
    "start_time": "2024-09-25T20:02:40.007Z"
   },
   {
    "duration": 5,
    "start_time": "2024-09-25T20:02:40.027Z"
   },
   {
    "duration": 30,
    "start_time": "2024-09-25T20:02:40.034Z"
   },
   {
    "duration": 67,
    "start_time": "2024-09-25T20:02:40.066Z"
   },
   {
    "duration": 0,
    "start_time": "2024-09-25T20:02:40.135Z"
   },
   {
    "duration": 0,
    "start_time": "2024-09-25T20:02:40.137Z"
   },
   {
    "duration": 309,
    "start_time": "2024-09-25T20:03:28.074Z"
   },
   {
    "duration": 7,
    "start_time": "2024-09-25T20:03:33.238Z"
   },
   {
    "duration": 279,
    "start_time": "2024-09-25T20:03:44.510Z"
   },
   {
    "duration": 10,
    "start_time": "2024-09-25T20:03:45.513Z"
   },
   {
    "duration": 142,
    "start_time": "2024-09-25T20:03:48.947Z"
   },
   {
    "duration": 14,
    "start_time": "2024-09-25T20:03:49.091Z"
   },
   {
    "duration": 2526,
    "start_time": "2024-09-25T20:03:49.107Z"
   },
   {
    "duration": 24,
    "start_time": "2024-09-25T20:03:51.634Z"
   },
   {
    "duration": 8,
    "start_time": "2024-09-25T20:03:51.660Z"
   },
   {
    "duration": 16,
    "start_time": "2024-09-25T20:03:51.670Z"
   },
   {
    "duration": 9,
    "start_time": "2024-09-25T20:03:51.688Z"
   },
   {
    "duration": 5,
    "start_time": "2024-09-25T20:03:51.699Z"
   },
   {
    "duration": 16,
    "start_time": "2024-09-25T20:03:51.705Z"
   },
   {
    "duration": 40,
    "start_time": "2024-09-25T20:03:51.723Z"
   },
   {
    "duration": 65,
    "start_time": "2024-09-25T20:03:51.765Z"
   },
   {
    "duration": 35,
    "start_time": "2024-09-25T20:03:51.833Z"
   },
   {
    "duration": 32,
    "start_time": "2024-09-25T20:03:51.870Z"
   },
   {
    "duration": 16,
    "start_time": "2024-09-25T20:03:51.905Z"
   },
   {
    "duration": 60,
    "start_time": "2024-09-25T20:03:51.923Z"
   },
   {
    "duration": 45,
    "start_time": "2024-09-25T20:03:51.984Z"
   },
   {
    "duration": 312,
    "start_time": "2024-09-25T20:03:52.031Z"
   },
   {
    "duration": 11,
    "start_time": "2024-09-25T20:03:52.345Z"
   },
   {
    "duration": 83,
    "start_time": "2024-09-25T20:03:52.357Z"
   },
   {
    "duration": 157,
    "start_time": "2024-09-25T20:04:57.852Z"
   },
   {
    "duration": 17,
    "start_time": "2024-09-25T20:04:58.011Z"
   },
   {
    "duration": 2215,
    "start_time": "2024-09-25T20:04:58.030Z"
   },
   {
    "duration": 18,
    "start_time": "2024-09-25T20:05:00.247Z"
   },
   {
    "duration": 70,
    "start_time": "2024-09-25T20:05:00.269Z"
   },
   {
    "duration": 108,
    "start_time": "2024-09-25T20:05:00.341Z"
   },
   {
    "duration": 20,
    "start_time": "2024-09-25T20:05:00.451Z"
   },
   {
    "duration": 42,
    "start_time": "2024-09-25T20:05:00.472Z"
   },
   {
    "duration": 34,
    "start_time": "2024-09-25T20:05:00.516Z"
   },
   {
    "duration": 75,
    "start_time": "2024-09-25T20:05:00.552Z"
   },
   {
    "duration": 75,
    "start_time": "2024-09-25T20:05:00.629Z"
   },
   {
    "duration": 18,
    "start_time": "2024-09-25T20:05:00.706Z"
   },
   {
    "duration": 39,
    "start_time": "2024-09-25T20:05:00.726Z"
   },
   {
    "duration": 19,
    "start_time": "2024-09-25T20:05:00.768Z"
   },
   {
    "duration": 24,
    "start_time": "2024-09-25T20:05:00.789Z"
   },
   {
    "duration": 31,
    "start_time": "2024-09-25T20:05:00.814Z"
   },
   {
    "duration": 315,
    "start_time": "2024-09-25T20:05:00.847Z"
   },
   {
    "duration": 10,
    "start_time": "2024-09-25T20:05:01.164Z"
   },
   {
    "duration": 24,
    "start_time": "2024-09-25T20:05:01.176Z"
   },
   {
    "duration": 155,
    "start_time": "2024-09-25T20:05:18.271Z"
   },
   {
    "duration": 29,
    "start_time": "2024-09-25T20:05:18.429Z"
   },
   {
    "duration": 2480,
    "start_time": "2024-09-25T20:05:18.460Z"
   },
   {
    "duration": 14,
    "start_time": "2024-09-25T20:05:20.942Z"
   },
   {
    "duration": 29,
    "start_time": "2024-09-25T20:05:20.958Z"
   },
   {
    "duration": 26,
    "start_time": "2024-09-25T20:05:20.988Z"
   },
   {
    "duration": 6,
    "start_time": "2024-09-25T20:05:21.015Z"
   },
   {
    "duration": 24,
    "start_time": "2024-09-25T20:05:21.023Z"
   },
   {
    "duration": 31,
    "start_time": "2024-09-25T20:05:21.048Z"
   },
   {
    "duration": 17,
    "start_time": "2024-09-25T20:05:21.082Z"
   },
   {
    "duration": 96,
    "start_time": "2024-09-25T20:05:21.102Z"
   },
   {
    "duration": 18,
    "start_time": "2024-09-25T20:05:21.201Z"
   },
   {
    "duration": 40,
    "start_time": "2024-09-25T20:05:21.221Z"
   },
   {
    "duration": 27,
    "start_time": "2024-09-25T20:05:21.265Z"
   },
   {
    "duration": 8,
    "start_time": "2024-09-25T20:05:21.294Z"
   },
   {
    "duration": 18,
    "start_time": "2024-09-25T20:05:21.304Z"
   },
   {
    "duration": 354,
    "start_time": "2024-09-25T20:05:21.324Z"
   },
   {
    "duration": 6,
    "start_time": "2024-09-25T20:05:21.679Z"
   },
   {
    "duration": 13,
    "start_time": "2024-09-25T20:05:21.687Z"
   },
   {
    "duration": 279,
    "start_time": "2024-09-25T20:05:34.728Z"
   },
   {
    "duration": 7,
    "start_time": "2024-09-25T20:05:35.471Z"
   },
   {
    "duration": 151,
    "start_time": "2024-09-25T20:05:44.883Z"
   },
   {
    "duration": 24,
    "start_time": "2024-09-25T20:05:45.036Z"
   },
   {
    "duration": 2250,
    "start_time": "2024-09-25T20:05:45.062Z"
   },
   {
    "duration": 11,
    "start_time": "2024-09-25T20:05:47.314Z"
   },
   {
    "duration": 8,
    "start_time": "2024-09-25T20:05:47.327Z"
   },
   {
    "duration": 32,
    "start_time": "2024-09-25T20:05:47.337Z"
   },
   {
    "duration": 6,
    "start_time": "2024-09-25T20:05:47.371Z"
   },
   {
    "duration": 9,
    "start_time": "2024-09-25T20:05:47.379Z"
   },
   {
    "duration": 18,
    "start_time": "2024-09-25T20:05:47.389Z"
   },
   {
    "duration": 11,
    "start_time": "2024-09-25T20:05:47.410Z"
   },
   {
    "duration": 65,
    "start_time": "2024-09-25T20:05:47.423Z"
   },
   {
    "duration": 17,
    "start_time": "2024-09-25T20:05:47.489Z"
   },
   {
    "duration": 16,
    "start_time": "2024-09-25T20:05:47.507Z"
   },
   {
    "duration": 44,
    "start_time": "2024-09-25T20:05:47.525Z"
   },
   {
    "duration": 7,
    "start_time": "2024-09-25T20:05:47.571Z"
   },
   {
    "duration": 8,
    "start_time": "2024-09-25T20:05:47.581Z"
   },
   {
    "duration": 311,
    "start_time": "2024-09-25T20:05:47.592Z"
   },
   {
    "duration": 9,
    "start_time": "2024-09-25T20:05:47.905Z"
   },
   {
    "duration": 75,
    "start_time": "2024-09-25T20:05:47.916Z"
   },
   {
    "duration": 144,
    "start_time": "2024-09-25T20:06:24.242Z"
   },
   {
    "duration": 16,
    "start_time": "2024-09-25T20:06:24.387Z"
   },
   {
    "duration": 2542,
    "start_time": "2024-09-25T20:06:24.405Z"
   },
   {
    "duration": 16,
    "start_time": "2024-09-25T20:06:26.949Z"
   },
   {
    "duration": 7,
    "start_time": "2024-09-25T20:06:26.967Z"
   },
   {
    "duration": 13,
    "start_time": "2024-09-25T20:06:26.976Z"
   },
   {
    "duration": 6,
    "start_time": "2024-09-25T20:06:26.991Z"
   },
   {
    "duration": 5,
    "start_time": "2024-09-25T20:06:26.999Z"
   },
   {
    "duration": 10,
    "start_time": "2024-09-25T20:06:27.005Z"
   },
   {
    "duration": 48,
    "start_time": "2024-09-25T20:06:27.017Z"
   },
   {
    "duration": 67,
    "start_time": "2024-09-25T20:06:27.066Z"
   },
   {
    "duration": 38,
    "start_time": "2024-09-25T20:06:27.135Z"
   },
   {
    "duration": 16,
    "start_time": "2024-09-25T20:06:27.177Z"
   },
   {
    "duration": 21,
    "start_time": "2024-09-25T20:06:27.195Z"
   },
   {
    "duration": 5,
    "start_time": "2024-09-25T20:06:27.217Z"
   },
   {
    "duration": 7,
    "start_time": "2024-09-25T20:06:27.224Z"
   },
   {
    "duration": 324,
    "start_time": "2024-09-25T20:06:27.233Z"
   },
   {
    "duration": 7,
    "start_time": "2024-09-25T20:06:27.559Z"
   },
   {
    "duration": 11,
    "start_time": "2024-09-25T20:06:27.567Z"
   },
   {
    "duration": 139,
    "start_time": "2024-09-25T20:07:09.524Z"
   },
   {
    "duration": 18,
    "start_time": "2024-09-25T20:07:09.665Z"
   },
   {
    "duration": 2246,
    "start_time": "2024-09-25T20:07:09.685Z"
   },
   {
    "duration": 24,
    "start_time": "2024-09-25T20:07:11.933Z"
   },
   {
    "duration": 24,
    "start_time": "2024-09-25T20:07:11.959Z"
   },
   {
    "duration": 17,
    "start_time": "2024-09-25T20:07:11.985Z"
   },
   {
    "duration": 9,
    "start_time": "2024-09-25T20:07:12.005Z"
   },
   {
    "duration": 26,
    "start_time": "2024-09-25T20:07:12.016Z"
   },
   {
    "duration": 12,
    "start_time": "2024-09-25T20:07:12.044Z"
   },
   {
    "duration": 17,
    "start_time": "2024-09-25T20:07:12.058Z"
   },
   {
    "duration": 49,
    "start_time": "2024-09-25T20:07:12.077Z"
   },
   {
    "duration": 33,
    "start_time": "2024-09-25T20:07:12.129Z"
   },
   {
    "duration": 17,
    "start_time": "2024-09-25T20:07:12.163Z"
   },
   {
    "duration": 16,
    "start_time": "2024-09-25T20:07:12.183Z"
   },
   {
    "duration": 6,
    "start_time": "2024-09-25T20:07:12.201Z"
   },
   {
    "duration": 36,
    "start_time": "2024-09-25T20:07:12.209Z"
   },
   {
    "duration": 352,
    "start_time": "2024-09-25T20:07:12.246Z"
   },
   {
    "duration": 7,
    "start_time": "2024-09-25T20:07:12.600Z"
   },
   {
    "duration": 14,
    "start_time": "2024-09-25T20:07:12.609Z"
   },
   {
    "duration": 136,
    "start_time": "2024-09-25T20:07:37.356Z"
   },
   {
    "duration": 15,
    "start_time": "2024-09-25T20:07:37.494Z"
   },
   {
    "duration": 2262,
    "start_time": "2024-09-25T20:07:37.511Z"
   },
   {
    "duration": 17,
    "start_time": "2024-09-25T20:07:39.775Z"
   },
   {
    "duration": 12,
    "start_time": "2024-09-25T20:07:39.795Z"
   },
   {
    "duration": 24,
    "start_time": "2024-09-25T20:07:39.809Z"
   },
   {
    "duration": 4,
    "start_time": "2024-09-25T20:07:39.856Z"
   },
   {
    "duration": 6,
    "start_time": "2024-09-25T20:07:39.862Z"
   },
   {
    "duration": 11,
    "start_time": "2024-09-25T20:07:39.870Z"
   },
   {
    "duration": 20,
    "start_time": "2024-09-25T20:07:39.883Z"
   },
   {
    "duration": 85,
    "start_time": "2024-09-25T20:07:39.905Z"
   },
   {
    "duration": 40,
    "start_time": "2024-09-25T20:07:39.991Z"
   },
   {
    "duration": 422,
    "start_time": "2024-09-25T20:07:40.033Z"
   },
   {
    "duration": 17,
    "start_time": "2024-09-25T20:07:40.458Z"
   },
   {
    "duration": 5,
    "start_time": "2024-09-25T20:07:40.477Z"
   },
   {
    "duration": 9,
    "start_time": "2024-09-25T20:07:40.484Z"
   },
   {
    "duration": 352,
    "start_time": "2024-09-25T20:07:40.495Z"
   },
   {
    "duration": 10,
    "start_time": "2024-09-25T20:07:40.849Z"
   },
   {
    "duration": 11,
    "start_time": "2024-09-25T20:07:40.861Z"
   },
   {
    "duration": 142,
    "start_time": "2024-09-25T20:09:42.584Z"
   },
   {
    "duration": 16,
    "start_time": "2024-09-25T20:09:42.728Z"
   },
   {
    "duration": 2232,
    "start_time": "2024-09-25T20:09:42.745Z"
   },
   {
    "duration": 13,
    "start_time": "2024-09-25T20:09:44.978Z"
   },
   {
    "duration": 41,
    "start_time": "2024-09-25T20:09:44.994Z"
   },
   {
    "duration": 83,
    "start_time": "2024-09-25T20:09:45.037Z"
   },
   {
    "duration": 25,
    "start_time": "2024-09-25T20:09:45.122Z"
   },
   {
    "duration": 29,
    "start_time": "2024-09-25T20:09:45.148Z"
   },
   {
    "duration": 37,
    "start_time": "2024-09-25T20:09:45.179Z"
   },
   {
    "duration": 27,
    "start_time": "2024-09-25T20:09:45.217Z"
   },
   {
    "duration": 71,
    "start_time": "2024-09-25T20:09:45.246Z"
   },
   {
    "duration": 37,
    "start_time": "2024-09-25T20:09:45.319Z"
   },
   {
    "duration": 25,
    "start_time": "2024-09-25T20:09:45.358Z"
   },
   {
    "duration": 46,
    "start_time": "2024-09-25T20:09:45.386Z"
   },
   {
    "duration": 22,
    "start_time": "2024-09-25T20:09:45.434Z"
   },
   {
    "duration": 36,
    "start_time": "2024-09-25T20:09:45.457Z"
   },
   {
    "duration": 553,
    "start_time": "2024-09-25T20:09:45.495Z"
   },
   {
    "duration": 10,
    "start_time": "2024-09-25T20:09:46.049Z"
   },
   {
    "duration": 30,
    "start_time": "2024-09-25T20:09:46.061Z"
   },
   {
    "duration": 144,
    "start_time": "2024-09-25T20:10:21.282Z"
   },
   {
    "duration": 16,
    "start_time": "2024-09-25T20:10:21.428Z"
   },
   {
    "duration": 2227,
    "start_time": "2024-09-25T20:10:21.455Z"
   },
   {
    "duration": 18,
    "start_time": "2024-09-25T20:10:23.684Z"
   },
   {
    "duration": 9,
    "start_time": "2024-09-25T20:10:23.705Z"
   },
   {
    "duration": 44,
    "start_time": "2024-09-25T20:10:23.716Z"
   },
   {
    "duration": 15,
    "start_time": "2024-09-25T20:10:23.761Z"
   },
   {
    "duration": 5,
    "start_time": "2024-09-25T20:10:23.778Z"
   },
   {
    "duration": 9,
    "start_time": "2024-09-25T20:10:23.785Z"
   },
   {
    "duration": 12,
    "start_time": "2024-09-25T20:10:23.795Z"
   },
   {
    "duration": 74,
    "start_time": "2024-09-25T20:10:23.809Z"
   },
   {
    "duration": 16,
    "start_time": "2024-09-25T20:10:23.885Z"
   },
   {
    "duration": 15,
    "start_time": "2024-09-25T20:10:23.903Z"
   },
   {
    "duration": 76,
    "start_time": "2024-09-25T20:10:23.921Z"
   },
   {
    "duration": 6,
    "start_time": "2024-09-25T20:10:23.999Z"
   },
   {
    "duration": 22,
    "start_time": "2024-09-25T20:10:24.007Z"
   },
   {
    "duration": 334,
    "start_time": "2024-09-25T20:10:24.031Z"
   },
   {
    "duration": 6,
    "start_time": "2024-09-25T20:10:24.367Z"
   },
   {
    "duration": 79,
    "start_time": "2024-09-25T20:10:24.375Z"
   },
   {
    "duration": 138,
    "start_time": "2024-09-25T20:10:55.663Z"
   },
   {
    "duration": 15,
    "start_time": "2024-09-25T20:10:55.803Z"
   },
   {
    "duration": 2727,
    "start_time": "2024-09-25T20:10:55.820Z"
   },
   {
    "duration": 15,
    "start_time": "2024-09-25T20:10:58.549Z"
   },
   {
    "duration": 8,
    "start_time": "2024-09-25T20:10:58.567Z"
   },
   {
    "duration": 14,
    "start_time": "2024-09-25T20:10:58.577Z"
   },
   {
    "duration": 6,
    "start_time": "2024-09-25T20:10:58.593Z"
   },
   {
    "duration": 5,
    "start_time": "2024-09-25T20:10:58.600Z"
   },
   {
    "duration": 9,
    "start_time": "2024-09-25T20:10:58.606Z"
   },
   {
    "duration": 49,
    "start_time": "2024-09-25T20:10:58.616Z"
   },
   {
    "duration": 50,
    "start_time": "2024-09-25T20:10:58.667Z"
   },
   {
    "duration": 38,
    "start_time": "2024-09-25T20:10:58.718Z"
   },
   {
    "duration": 15,
    "start_time": "2024-09-25T20:10:58.758Z"
   },
   {
    "duration": 16,
    "start_time": "2024-09-25T20:10:58.775Z"
   },
   {
    "duration": 18,
    "start_time": "2024-09-25T20:10:58.793Z"
   },
   {
    "duration": 9,
    "start_time": "2024-09-25T20:10:58.813Z"
   },
   {
    "duration": 381,
    "start_time": "2024-09-25T20:10:58.824Z"
   },
   {
    "duration": 7,
    "start_time": "2024-09-25T20:10:59.207Z"
   },
   {
    "duration": 20,
    "start_time": "2024-09-25T20:10:59.216Z"
   },
   {
    "duration": 141,
    "start_time": "2024-09-25T20:11:20.816Z"
   },
   {
    "duration": 17,
    "start_time": "2024-09-25T20:11:20.959Z"
   },
   {
    "duration": 2160,
    "start_time": "2024-09-25T20:11:20.978Z"
   },
   {
    "duration": 19,
    "start_time": "2024-09-25T20:11:23.141Z"
   },
   {
    "duration": 51,
    "start_time": "2024-09-25T20:11:23.162Z"
   },
   {
    "duration": 14,
    "start_time": "2024-09-25T20:11:23.215Z"
   },
   {
    "duration": 18,
    "start_time": "2024-09-25T20:11:23.231Z"
   },
   {
    "duration": 8,
    "start_time": "2024-09-25T20:11:23.251Z"
   },
   {
    "duration": 10,
    "start_time": "2024-09-25T20:11:23.261Z"
   },
   {
    "duration": 29,
    "start_time": "2024-09-25T20:11:23.274Z"
   },
   {
    "duration": 58,
    "start_time": "2024-09-25T20:11:23.305Z"
   },
   {
    "duration": 25,
    "start_time": "2024-09-25T20:11:23.365Z"
   },
   {
    "duration": 18,
    "start_time": "2024-09-25T20:11:23.392Z"
   },
   {
    "duration": 18,
    "start_time": "2024-09-25T20:11:23.412Z"
   },
   {
    "duration": 26,
    "start_time": "2024-09-25T20:11:23.432Z"
   },
   {
    "duration": 12,
    "start_time": "2024-09-25T20:11:23.460Z"
   },
   {
    "duration": 352,
    "start_time": "2024-09-25T20:11:23.474Z"
   },
   {
    "duration": 7,
    "start_time": "2024-09-25T20:11:23.828Z"
   },
   {
    "duration": 20,
    "start_time": "2024-09-25T20:11:23.837Z"
   },
   {
    "duration": 141,
    "start_time": "2024-09-25T20:12:10.025Z"
   },
   {
    "duration": 16,
    "start_time": "2024-09-25T20:12:10.168Z"
   },
   {
    "duration": 2213,
    "start_time": "2024-09-25T20:12:10.185Z"
   },
   {
    "duration": 11,
    "start_time": "2024-09-25T20:12:12.400Z"
   },
   {
    "duration": 44,
    "start_time": "2024-09-25T20:12:12.414Z"
   },
   {
    "duration": 25,
    "start_time": "2024-09-25T20:12:12.460Z"
   },
   {
    "duration": 23,
    "start_time": "2024-09-25T20:12:12.486Z"
   },
   {
    "duration": 22,
    "start_time": "2024-09-25T20:12:12.511Z"
   },
   {
    "duration": 8,
    "start_time": "2024-09-25T20:12:12.535Z"
   },
   {
    "duration": 12,
    "start_time": "2024-09-25T20:12:12.545Z"
   },
   {
    "duration": 50,
    "start_time": "2024-09-25T20:12:12.558Z"
   },
   {
    "duration": 16,
    "start_time": "2024-09-25T20:12:12.610Z"
   },
   {
    "duration": 36,
    "start_time": "2024-09-25T20:12:12.628Z"
   },
   {
    "duration": 16,
    "start_time": "2024-09-25T20:12:12.667Z"
   },
   {
    "duration": 5,
    "start_time": "2024-09-25T20:12:12.685Z"
   },
   {
    "duration": 13,
    "start_time": "2024-09-25T20:12:12.692Z"
   },
   {
    "duration": 358,
    "start_time": "2024-09-25T20:12:12.707Z"
   },
   {
    "duration": 6,
    "start_time": "2024-09-25T20:12:13.067Z"
   },
   {
    "duration": 10,
    "start_time": "2024-09-25T20:12:13.075Z"
   },
   {
    "duration": 160,
    "start_time": "2024-09-25T20:15:41.059Z"
   },
   {
    "duration": 16,
    "start_time": "2024-09-25T20:15:41.221Z"
   },
   {
    "duration": 2192,
    "start_time": "2024-09-25T20:15:41.239Z"
   },
   {
    "duration": 11,
    "start_time": "2024-09-25T20:15:43.433Z"
   },
   {
    "duration": 7,
    "start_time": "2024-09-25T20:15:43.455Z"
   },
   {
    "duration": 21,
    "start_time": "2024-09-25T20:15:43.464Z"
   },
   {
    "duration": 4,
    "start_time": "2024-09-25T20:15:43.487Z"
   },
   {
    "duration": 9,
    "start_time": "2024-09-25T20:15:43.493Z"
   },
   {
    "duration": 9,
    "start_time": "2024-09-25T20:15:43.504Z"
   },
   {
    "duration": 15,
    "start_time": "2024-09-25T20:15:43.514Z"
   },
   {
    "duration": 82,
    "start_time": "2024-09-25T20:15:43.531Z"
   },
   {
    "duration": 15,
    "start_time": "2024-09-25T20:15:43.615Z"
   },
   {
    "duration": 35,
    "start_time": "2024-09-25T20:15:43.632Z"
   },
   {
    "duration": 17,
    "start_time": "2024-09-25T20:15:43.670Z"
   },
   {
    "duration": 4,
    "start_time": "2024-09-25T20:15:43.689Z"
   },
   {
    "duration": 8,
    "start_time": "2024-09-25T20:15:43.695Z"
   },
   {
    "duration": 384,
    "start_time": "2024-09-25T20:15:43.705Z"
   },
   {
    "duration": 4,
    "start_time": "2024-09-25T20:15:44.091Z"
   },
   {
    "duration": 16,
    "start_time": "2024-09-25T20:15:44.097Z"
   },
   {
    "duration": 141,
    "start_time": "2024-09-25T20:16:06.778Z"
   },
   {
    "duration": 19,
    "start_time": "2024-09-25T20:16:06.922Z"
   },
   {
    "duration": 2762,
    "start_time": "2024-09-25T20:16:06.955Z"
   },
   {
    "duration": 12,
    "start_time": "2024-09-25T20:16:09.718Z"
   },
   {
    "duration": 25,
    "start_time": "2024-09-25T20:16:09.732Z"
   },
   {
    "duration": 15,
    "start_time": "2024-09-25T20:16:09.759Z"
   },
   {
    "duration": 24,
    "start_time": "2024-09-25T20:16:09.776Z"
   },
   {
    "duration": 5,
    "start_time": "2024-09-25T20:16:09.802Z"
   },
   {
    "duration": 9,
    "start_time": "2024-09-25T20:16:09.808Z"
   },
   {
    "duration": 12,
    "start_time": "2024-09-25T20:16:09.818Z"
   },
   {
    "duration": 60,
    "start_time": "2024-09-25T20:16:09.832Z"
   },
   {
    "duration": 16,
    "start_time": "2024-09-25T20:16:09.894Z"
   },
   {
    "duration": 17,
    "start_time": "2024-09-25T20:16:09.912Z"
   },
   {
    "duration": 17,
    "start_time": "2024-09-25T20:16:09.955Z"
   },
   {
    "duration": 14,
    "start_time": "2024-09-25T20:16:09.973Z"
   },
   {
    "duration": 7,
    "start_time": "2024-09-25T20:16:09.989Z"
   },
   {
    "duration": 395,
    "start_time": "2024-09-25T20:16:09.998Z"
   },
   {
    "duration": 7,
    "start_time": "2024-09-25T20:16:10.395Z"
   },
   {
    "duration": 9,
    "start_time": "2024-09-25T20:16:10.404Z"
   },
   {
    "duration": 4,
    "start_time": "2024-09-25T20:16:33.461Z"
   },
   {
    "duration": 4,
    "start_time": "2024-09-25T20:16:41.348Z"
   },
   {
    "duration": 4,
    "start_time": "2024-09-25T20:16:56.051Z"
   },
   {
    "duration": 5,
    "start_time": "2024-09-25T20:17:14.546Z"
   },
   {
    "duration": 4,
    "start_time": "2024-09-25T20:17:20.486Z"
   },
   {
    "duration": 143,
    "start_time": "2024-09-25T20:20:28.721Z"
   },
   {
    "duration": 16,
    "start_time": "2024-09-25T20:20:28.866Z"
   },
   {
    "duration": 2225,
    "start_time": "2024-09-25T20:20:28.884Z"
   },
   {
    "duration": 17,
    "start_time": "2024-09-25T20:20:31.112Z"
   },
   {
    "duration": 24,
    "start_time": "2024-09-25T20:20:31.133Z"
   },
   {
    "duration": 15,
    "start_time": "2024-09-25T20:20:31.159Z"
   },
   {
    "duration": 26,
    "start_time": "2024-09-25T20:20:31.176Z"
   },
   {
    "duration": 6,
    "start_time": "2024-09-25T20:20:31.204Z"
   },
   {
    "duration": 19,
    "start_time": "2024-09-25T20:20:31.213Z"
   },
   {
    "duration": 28,
    "start_time": "2024-09-25T20:20:31.234Z"
   },
   {
    "duration": 93,
    "start_time": "2024-09-25T20:20:31.264Z"
   },
   {
    "duration": 26,
    "start_time": "2024-09-25T20:20:31.360Z"
   },
   {
    "duration": 18,
    "start_time": "2024-09-25T20:20:31.389Z"
   },
   {
    "duration": 18,
    "start_time": "2024-09-25T20:20:31.410Z"
   },
   {
    "duration": 32,
    "start_time": "2024-09-25T20:20:31.430Z"
   },
   {
    "duration": 33,
    "start_time": "2024-09-25T20:20:31.465Z"
   },
   {
    "duration": 359,
    "start_time": "2024-09-25T20:20:31.501Z"
   },
   {
    "duration": 5,
    "start_time": "2024-09-25T20:20:31.862Z"
   },
   {
    "duration": 34,
    "start_time": "2024-09-25T20:20:31.869Z"
   },
   {
    "duration": 26,
    "start_time": "2024-09-25T20:24:20.260Z"
   },
   {
    "duration": 5,
    "start_time": "2024-09-25T20:24:52.593Z"
   },
   {
    "duration": 24,
    "start_time": "2024-09-25T20:24:54.674Z"
   },
   {
    "duration": 4,
    "start_time": "2024-09-25T20:25:10.605Z"
   },
   {
    "duration": 27,
    "start_time": "2024-09-25T20:25:11.279Z"
   },
   {
    "duration": 5,
    "start_time": "2024-09-25T20:27:48.264Z"
   },
   {
    "duration": 5,
    "start_time": "2024-09-25T20:27:51.177Z"
   },
   {
    "duration": 12,
    "start_time": "2024-09-25T20:27:56.578Z"
   },
   {
    "duration": 4,
    "start_time": "2024-09-25T20:28:05.150Z"
   },
   {
    "duration": 6,
    "start_time": "2024-09-25T20:28:13.498Z"
   },
   {
    "duration": 24,
    "start_time": "2024-09-25T20:34:34.399Z"
   },
   {
    "duration": 14,
    "start_time": "2024-09-25T20:34:43.376Z"
   },
   {
    "duration": 25,
    "start_time": "2024-09-25T20:35:14.989Z"
   },
   {
    "duration": 33,
    "start_time": "2024-09-25T20:35:15.517Z"
   },
   {
    "duration": 21,
    "start_time": "2024-09-25T20:35:56.773Z"
   },
   {
    "duration": 31,
    "start_time": "2024-09-25T20:35:58.043Z"
   },
   {
    "duration": 23,
    "start_time": "2024-09-25T20:36:48.826Z"
   },
   {
    "duration": 25,
    "start_time": "2024-09-25T20:36:49.692Z"
   },
   {
    "duration": 28,
    "start_time": "2024-09-25T20:38:00.320Z"
   },
   {
    "duration": 37,
    "start_time": "2024-09-25T20:38:09.152Z"
   },
   {
    "duration": 21,
    "start_time": "2024-09-25T20:38:22.731Z"
   },
   {
    "duration": 65,
    "start_time": "2024-09-25T20:38:29.381Z"
   },
   {
    "duration": 23,
    "start_time": "2024-09-25T20:39:43.720Z"
   },
   {
    "duration": 22,
    "start_time": "2024-09-25T20:39:47.219Z"
   },
   {
    "duration": 25,
    "start_time": "2024-09-25T20:39:52.304Z"
   },
   {
    "duration": 26,
    "start_time": "2024-09-25T20:39:56.398Z"
   },
   {
    "duration": 25,
    "start_time": "2024-09-25T20:39:57.208Z"
   },
   {
    "duration": 42,
    "start_time": "2024-09-25T20:40:06.681Z"
   },
   {
    "duration": 24,
    "start_time": "2024-09-25T20:40:52.604Z"
   },
   {
    "duration": 44,
    "start_time": "2024-09-25T20:40:59.422Z"
   },
   {
    "duration": 149,
    "start_time": "2024-09-25T20:41:25.470Z"
   },
   {
    "duration": 16,
    "start_time": "2024-09-25T20:41:25.621Z"
   },
   {
    "duration": 2343,
    "start_time": "2024-09-25T20:41:25.638Z"
   },
   {
    "duration": 12,
    "start_time": "2024-09-25T20:41:27.983Z"
   },
   {
    "duration": 13,
    "start_time": "2024-09-25T20:41:27.997Z"
   },
   {
    "duration": 34,
    "start_time": "2024-09-25T20:41:28.012Z"
   },
   {
    "duration": 23,
    "start_time": "2024-09-25T20:41:28.048Z"
   },
   {
    "duration": 27,
    "start_time": "2024-09-25T20:41:28.075Z"
   },
   {
    "duration": 12,
    "start_time": "2024-09-25T20:41:28.104Z"
   },
   {
    "duration": 12,
    "start_time": "2024-09-25T20:41:28.118Z"
   },
   {
    "duration": 56,
    "start_time": "2024-09-25T20:41:28.132Z"
   },
   {
    "duration": 28,
    "start_time": "2024-09-25T20:41:28.189Z"
   },
   {
    "duration": 16,
    "start_time": "2024-09-25T20:41:28.219Z"
   },
   {
    "duration": 23,
    "start_time": "2024-09-25T20:41:28.258Z"
   },
   {
    "duration": 5,
    "start_time": "2024-09-25T20:41:28.283Z"
   },
   {
    "duration": 7,
    "start_time": "2024-09-25T20:41:28.290Z"
   },
   {
    "duration": 419,
    "start_time": "2024-09-25T20:41:28.299Z"
   },
   {
    "duration": 5,
    "start_time": "2024-09-25T20:41:28.720Z"
   },
   {
    "duration": 15,
    "start_time": "2024-09-25T20:41:28.727Z"
   },
   {
    "duration": 39,
    "start_time": "2024-09-25T20:41:28.743Z"
   },
   {
    "duration": 25,
    "start_time": "2024-09-25T20:41:28.784Z"
   },
   {
    "duration": 156,
    "start_time": "2024-09-25T20:45:35.143Z"
   },
   {
    "duration": 16,
    "start_time": "2024-09-25T20:45:35.302Z"
   },
   {
    "duration": 3204,
    "start_time": "2024-09-25T20:45:35.320Z"
   },
   {
    "duration": 12,
    "start_time": "2024-09-25T20:45:38.526Z"
   },
   {
    "duration": 46,
    "start_time": "2024-09-25T20:45:38.541Z"
   },
   {
    "duration": 12,
    "start_time": "2024-09-25T20:45:38.589Z"
   },
   {
    "duration": 7,
    "start_time": "2024-09-25T20:45:38.603Z"
   },
   {
    "duration": 21,
    "start_time": "2024-09-25T20:45:38.612Z"
   },
   {
    "duration": 9,
    "start_time": "2024-09-25T20:45:38.635Z"
   },
   {
    "duration": 20,
    "start_time": "2024-09-25T20:45:38.646Z"
   },
   {
    "duration": 64,
    "start_time": "2024-09-25T20:45:38.673Z"
   },
   {
    "duration": 37,
    "start_time": "2024-09-25T20:45:38.738Z"
   },
   {
    "duration": 17,
    "start_time": "2024-09-25T20:45:38.777Z"
   },
   {
    "duration": 16,
    "start_time": "2024-09-25T20:45:38.797Z"
   },
   {
    "duration": 6,
    "start_time": "2024-09-25T20:45:38.815Z"
   },
   {
    "duration": 38,
    "start_time": "2024-09-25T20:45:38.822Z"
   },
   {
    "duration": 380,
    "start_time": "2024-09-25T20:45:38.864Z"
   },
   {
    "duration": 17,
    "start_time": "2024-09-25T20:45:39.246Z"
   },
   {
    "duration": 90,
    "start_time": "2024-09-25T20:45:39.265Z"
   },
   {
    "duration": 74,
    "start_time": "2024-09-25T20:45:39.364Z"
   },
   {
    "duration": 0,
    "start_time": "2024-09-25T20:45:39.440Z"
   },
   {
    "duration": 0,
    "start_time": "2024-09-25T20:45:39.441Z"
   },
   {
    "duration": 22,
    "start_time": "2024-09-25T20:45:45.683Z"
   },
   {
    "duration": 34,
    "start_time": "2024-09-25T20:45:48.338Z"
   },
   {
    "duration": 155,
    "start_time": "2024-09-25T20:46:26.976Z"
   },
   {
    "duration": 26,
    "start_time": "2024-09-25T20:46:27.133Z"
   },
   {
    "duration": 2356,
    "start_time": "2024-09-25T20:46:27.161Z"
   },
   {
    "duration": 13,
    "start_time": "2024-09-25T20:46:29.519Z"
   },
   {
    "duration": 25,
    "start_time": "2024-09-25T20:46:29.535Z"
   },
   {
    "duration": 15,
    "start_time": "2024-09-25T20:46:29.570Z"
   },
   {
    "duration": 13,
    "start_time": "2024-09-25T20:46:29.586Z"
   },
   {
    "duration": 5,
    "start_time": "2024-09-25T20:46:29.601Z"
   },
   {
    "duration": 9,
    "start_time": "2024-09-25T20:46:29.608Z"
   },
   {
    "duration": 11,
    "start_time": "2024-09-25T20:46:29.619Z"
   },
   {
    "duration": 76,
    "start_time": "2024-09-25T20:46:29.632Z"
   },
   {
    "duration": 15,
    "start_time": "2024-09-25T20:46:29.710Z"
   },
   {
    "duration": 49,
    "start_time": "2024-09-25T20:46:29.727Z"
   },
   {
    "duration": 16,
    "start_time": "2024-09-25T20:46:29.778Z"
   },
   {
    "duration": 9,
    "start_time": "2024-09-25T20:46:29.796Z"
   },
   {
    "duration": 8,
    "start_time": "2024-09-25T20:46:29.806Z"
   },
   {
    "duration": 399,
    "start_time": "2024-09-25T20:46:29.816Z"
   },
   {
    "duration": 6,
    "start_time": "2024-09-25T20:46:30.217Z"
   },
   {
    "duration": 13,
    "start_time": "2024-09-25T20:46:30.224Z"
   },
   {
    "duration": 53,
    "start_time": "2024-09-25T20:46:30.239Z"
   },
   {
    "duration": 64,
    "start_time": "2024-09-25T20:46:30.294Z"
   },
   {
    "duration": 0,
    "start_time": "2024-09-25T20:46:30.360Z"
   },
   {
    "duration": 39,
    "start_time": "2024-09-25T20:46:38.434Z"
   },
   {
    "duration": 21,
    "start_time": "2024-09-25T20:52:29.680Z"
   },
   {
    "duration": 19,
    "start_time": "2024-09-25T20:53:15.017Z"
   },
   {
    "duration": 19,
    "start_time": "2024-09-25T20:55:46.121Z"
   },
   {
    "duration": 333,
    "start_time": "2024-09-25T20:55:56.797Z"
   },
   {
    "duration": 26,
    "start_time": "2024-09-25T20:58:06.264Z"
   },
   {
    "duration": 13,
    "start_time": "2024-09-25T20:58:26.030Z"
   },
   {
    "duration": 15,
    "start_time": "2024-09-25T21:00:35.037Z"
   },
   {
    "duration": 12,
    "start_time": "2024-09-25T21:00:56.479Z"
   },
   {
    "duration": 338,
    "start_time": "2024-09-25T21:00:59.640Z"
   },
   {
    "duration": 69,
    "start_time": "2024-09-25T21:01:35.214Z"
   },
   {
    "duration": 26,
    "start_time": "2024-09-25T21:01:37.711Z"
   },
   {
    "duration": 30,
    "start_time": "2024-09-25T21:02:02.203Z"
   },
   {
    "duration": 144,
    "start_time": "2024-09-25T21:04:35.378Z"
   },
   {
    "duration": 31,
    "start_time": "2024-09-25T21:04:35.525Z"
   },
   {
    "duration": 2320,
    "start_time": "2024-09-25T21:04:35.558Z"
   },
   {
    "duration": 12,
    "start_time": "2024-09-25T21:04:37.880Z"
   },
   {
    "duration": 22,
    "start_time": "2024-09-25T21:04:37.894Z"
   },
   {
    "duration": 25,
    "start_time": "2024-09-25T21:04:37.918Z"
   },
   {
    "duration": 25,
    "start_time": "2024-09-25T21:04:37.944Z"
   },
   {
    "duration": 22,
    "start_time": "2024-09-25T21:04:37.970Z"
   },
   {
    "duration": 37,
    "start_time": "2024-09-25T21:04:37.994Z"
   },
   {
    "duration": 37,
    "start_time": "2024-09-25T21:04:38.033Z"
   },
   {
    "duration": 80,
    "start_time": "2024-09-25T21:04:38.071Z"
   },
   {
    "duration": 52,
    "start_time": "2024-09-25T21:04:38.153Z"
   },
   {
    "duration": 22,
    "start_time": "2024-09-25T21:04:38.206Z"
   },
   {
    "duration": 44,
    "start_time": "2024-09-25T21:04:38.232Z"
   },
   {
    "duration": 38,
    "start_time": "2024-09-25T21:04:38.278Z"
   },
   {
    "duration": 8,
    "start_time": "2024-09-25T21:04:38.319Z"
   },
   {
    "duration": 14,
    "start_time": "2024-09-25T21:04:38.329Z"
   },
   {
    "duration": 375,
    "start_time": "2024-09-25T21:04:38.344Z"
   },
   {
    "duration": 5,
    "start_time": "2024-09-25T21:04:38.721Z"
   },
   {
    "duration": 25,
    "start_time": "2024-09-25T21:04:38.728Z"
   },
   {
    "duration": 34,
    "start_time": "2024-09-25T21:04:38.755Z"
   },
   {
    "duration": 302,
    "start_time": "2024-09-25T21:04:38.790Z"
   },
   {
    "duration": 69,
    "start_time": "2024-09-25T21:04:39.094Z"
   },
   {
    "duration": 0,
    "start_time": "2024-09-25T21:04:39.166Z"
   },
   {
    "duration": 139,
    "start_time": "2024-09-25T21:08:39.956Z"
   },
   {
    "duration": 15,
    "start_time": "2024-09-25T21:08:40.097Z"
   },
   {
    "duration": 2231,
    "start_time": "2024-09-25T21:08:40.114Z"
   },
   {
    "duration": 19,
    "start_time": "2024-09-25T21:08:42.346Z"
   },
   {
    "duration": 7,
    "start_time": "2024-09-25T21:08:42.367Z"
   },
   {
    "duration": 16,
    "start_time": "2024-09-25T21:08:42.376Z"
   },
   {
    "duration": 4,
    "start_time": "2024-09-25T21:08:42.394Z"
   },
   {
    "duration": 10,
    "start_time": "2024-09-25T21:08:42.400Z"
   },
   {
    "duration": 50,
    "start_time": "2024-09-25T21:08:42.412Z"
   },
   {
    "duration": 9,
    "start_time": "2024-09-25T21:08:42.464Z"
   },
   {
    "duration": 18,
    "start_time": "2024-09-25T21:08:42.475Z"
   },
   {
    "duration": 91,
    "start_time": "2024-09-25T21:08:42.496Z"
   },
   {
    "duration": 17,
    "start_time": "2024-09-25T21:08:42.588Z"
   },
   {
    "duration": 55,
    "start_time": "2024-09-25T21:08:42.609Z"
   },
   {
    "duration": 35,
    "start_time": "2024-09-25T21:08:42.667Z"
   },
   {
    "duration": 8,
    "start_time": "2024-09-25T21:08:42.704Z"
   },
   {
    "duration": 19,
    "start_time": "2024-09-25T21:08:42.714Z"
   },
   {
    "duration": 360,
    "start_time": "2024-09-25T21:08:42.735Z"
   },
   {
    "duration": 6,
    "start_time": "2024-09-25T21:08:43.097Z"
   },
   {
    "duration": 6,
    "start_time": "2024-09-25T21:08:43.104Z"
   },
   {
    "duration": 46,
    "start_time": "2024-09-25T21:08:43.112Z"
   },
   {
    "duration": 310,
    "start_time": "2024-09-25T21:08:43.159Z"
   },
   {
    "duration": 65,
    "start_time": "2024-09-25T21:08:43.471Z"
   },
   {
    "duration": 0,
    "start_time": "2024-09-25T21:08:43.538Z"
   },
   {
    "duration": 26,
    "start_time": "2024-09-25T21:09:39.310Z"
   },
   {
    "duration": 6,
    "start_time": "2024-09-25T21:10:40.082Z"
   },
   {
    "duration": 11,
    "start_time": "2024-09-25T21:12:24.170Z"
   },
   {
    "duration": 10,
    "start_time": "2024-09-25T21:12:48.346Z"
   },
   {
    "duration": 4,
    "start_time": "2024-09-25T21:13:05.840Z"
   },
   {
    "duration": 9,
    "start_time": "2024-09-25T21:13:11.488Z"
   },
   {
    "duration": 5,
    "start_time": "2024-09-25T21:13:18.778Z"
   },
   {
    "duration": 33,
    "start_time": "2024-09-25T21:13:28.891Z"
   },
   {
    "duration": 14,
    "start_time": "2024-09-25T21:13:49.220Z"
   },
   {
    "duration": 15,
    "start_time": "2024-09-25T21:14:03.721Z"
   },
   {
    "duration": 18,
    "start_time": "2024-09-25T21:14:10.820Z"
   },
   {
    "duration": 5,
    "start_time": "2024-09-25T21:14:23.714Z"
   },
   {
    "duration": 29,
    "start_time": "2024-09-25T21:14:27.132Z"
   },
   {
    "duration": 26,
    "start_time": "2024-09-25T21:16:12.504Z"
   },
   {
    "duration": 155,
    "start_time": "2024-09-25T21:16:19.593Z"
   },
   {
    "duration": 18,
    "start_time": "2024-09-25T21:16:19.750Z"
   },
   {
    "duration": 3119,
    "start_time": "2024-09-25T21:16:19.770Z"
   },
   {
    "duration": 12,
    "start_time": "2024-09-25T21:16:22.891Z"
   },
   {
    "duration": 13,
    "start_time": "2024-09-25T21:16:22.905Z"
   },
   {
    "duration": 37,
    "start_time": "2024-09-25T21:16:22.920Z"
   },
   {
    "duration": 23,
    "start_time": "2024-09-25T21:16:22.959Z"
   },
   {
    "duration": 21,
    "start_time": "2024-09-25T21:16:22.984Z"
   },
   {
    "duration": 49,
    "start_time": "2024-09-25T21:16:23.007Z"
   },
   {
    "duration": 28,
    "start_time": "2024-09-25T21:16:23.058Z"
   },
   {
    "duration": 12,
    "start_time": "2024-09-25T21:16:23.088Z"
   },
   {
    "duration": 60,
    "start_time": "2024-09-25T21:16:23.102Z"
   },
   {
    "duration": 21,
    "start_time": "2024-09-25T21:16:23.165Z"
   },
   {
    "duration": 26,
    "start_time": "2024-09-25T21:16:23.190Z"
   },
   {
    "duration": 51,
    "start_time": "2024-09-25T21:16:23.218Z"
   },
   {
    "duration": 7,
    "start_time": "2024-09-25T21:16:23.271Z"
   },
   {
    "duration": 9,
    "start_time": "2024-09-25T21:16:23.280Z"
   },
   {
    "duration": 376,
    "start_time": "2024-09-25T21:16:23.291Z"
   },
   {
    "duration": 6,
    "start_time": "2024-09-25T21:16:23.669Z"
   },
   {
    "duration": 17,
    "start_time": "2024-09-25T21:16:23.677Z"
   },
   {
    "duration": 32,
    "start_time": "2024-09-25T21:16:23.696Z"
   },
   {
    "duration": 310,
    "start_time": "2024-09-25T21:16:23.730Z"
   },
   {
    "duration": 14,
    "start_time": "2024-09-25T21:16:24.042Z"
   },
   {
    "duration": 45,
    "start_time": "2024-09-25T21:16:24.057Z"
   },
   {
    "duration": 7,
    "start_time": "2024-09-25T21:21:12.391Z"
   },
   {
    "duration": 5,
    "start_time": "2024-09-25T21:21:15.575Z"
   },
   {
    "duration": 136,
    "start_time": "2024-09-25T21:27:09.029Z"
   },
   {
    "duration": 167,
    "start_time": "2024-09-25T21:27:26.658Z"
   },
   {
    "duration": 6,
    "start_time": "2024-09-25T21:28:02.254Z"
   },
   {
    "duration": 138,
    "start_time": "2024-09-25T21:29:59.045Z"
   },
   {
    "duration": 10,
    "start_time": "2024-09-25T21:34:27.938Z"
   },
   {
    "duration": 280,
    "start_time": "2024-09-25T21:38:05.384Z"
   },
   {
    "duration": 141,
    "start_time": "2024-09-25T21:38:08.872Z"
   },
   {
    "duration": 155,
    "start_time": "2024-09-25T21:38:34.859Z"
   },
   {
    "duration": 179,
    "start_time": "2024-09-25T21:41:14.647Z"
   },
   {
    "duration": 11,
    "start_time": "2024-09-25T21:42:07.027Z"
   },
   {
    "duration": 10,
    "start_time": "2024-09-25T21:42:37.087Z"
   },
   {
    "duration": 146,
    "start_time": "2024-09-25T21:42:48.270Z"
   },
   {
    "duration": 161,
    "start_time": "2024-09-25T21:43:21.784Z"
   },
   {
    "duration": 9,
    "start_time": "2024-09-25T21:44:39.692Z"
   },
   {
    "duration": 143,
    "start_time": "2024-09-25T21:45:15.647Z"
   },
   {
    "duration": 146,
    "start_time": "2024-09-25T21:45:38.642Z"
   },
   {
    "duration": 9,
    "start_time": "2024-09-25T21:46:47.009Z"
   },
   {
    "duration": 9,
    "start_time": "2024-09-25T21:46:56.133Z"
   },
   {
    "duration": 180,
    "start_time": "2024-09-25T21:47:55.016Z"
   },
   {
    "duration": 242,
    "start_time": "2024-09-25T21:48:36.080Z"
   },
   {
    "duration": 261,
    "start_time": "2024-09-25T21:48:44.113Z"
   },
   {
    "duration": 269,
    "start_time": "2024-09-25T21:48:51.525Z"
   },
   {
    "duration": 175,
    "start_time": "2024-09-25T21:48:57.476Z"
   },
   {
    "duration": 175,
    "start_time": "2024-09-25T21:49:15.401Z"
   },
   {
    "duration": 158,
    "start_time": "2024-09-25T21:49:20.854Z"
   },
   {
    "duration": 8,
    "start_time": "2024-09-25T21:49:59.421Z"
   },
   {
    "duration": 168,
    "start_time": "2024-09-25T21:51:34.777Z"
   },
   {
    "duration": 137,
    "start_time": "2024-09-25T21:51:41.707Z"
   },
   {
    "duration": 142,
    "start_time": "2024-09-25T21:51:47.119Z"
   },
   {
    "duration": 169,
    "start_time": "2024-09-25T21:52:02.870Z"
   },
   {
    "duration": 165,
    "start_time": "2024-09-25T21:52:08.584Z"
   },
   {
    "duration": 164,
    "start_time": "2024-09-25T21:52:17.201Z"
   },
   {
    "duration": 152,
    "start_time": "2024-09-25T21:52:22.804Z"
   },
   {
    "duration": 153,
    "start_time": "2024-09-25T22:04:40.308Z"
   },
   {
    "duration": 18,
    "start_time": "2024-09-25T22:05:11.797Z"
   },
   {
    "duration": 171,
    "start_time": "2024-09-25T22:05:15.689Z"
   },
   {
    "duration": 12,
    "start_time": "2024-09-25T22:05:49.124Z"
   },
   {
    "duration": 173,
    "start_time": "2024-09-25T22:06:03.986Z"
   },
   {
    "duration": 12,
    "start_time": "2024-09-25T22:06:08.012Z"
   },
   {
    "duration": 189,
    "start_time": "2024-09-25T22:06:16.743Z"
   },
   {
    "duration": 10,
    "start_time": "2024-09-25T22:06:19.791Z"
   },
   {
    "duration": 145,
    "start_time": "2024-09-25T22:06:22.966Z"
   },
   {
    "duration": 18,
    "start_time": "2024-09-25T22:06:23.113Z"
   },
   {
    "duration": 2176,
    "start_time": "2024-09-25T22:06:23.133Z"
   },
   {
    "duration": 12,
    "start_time": "2024-09-25T22:06:25.311Z"
   },
   {
    "duration": 9,
    "start_time": "2024-09-25T22:06:25.325Z"
   },
   {
    "duration": 28,
    "start_time": "2024-09-25T22:06:25.336Z"
   },
   {
    "duration": 4,
    "start_time": "2024-09-25T22:06:25.367Z"
   },
   {
    "duration": 6,
    "start_time": "2024-09-25T22:06:25.373Z"
   },
   {
    "duration": 10,
    "start_time": "2024-09-25T22:06:25.380Z"
   },
   {
    "duration": 8,
    "start_time": "2024-09-25T22:06:25.392Z"
   },
   {
    "duration": 54,
    "start_time": "2024-09-25T22:06:25.402Z"
   },
   {
    "duration": 60,
    "start_time": "2024-09-25T22:06:25.458Z"
   },
   {
    "duration": 42,
    "start_time": "2024-09-25T22:06:25.520Z"
   },
   {
    "duration": 22,
    "start_time": "2024-09-25T22:06:25.567Z"
   },
   {
    "duration": 16,
    "start_time": "2024-09-25T22:06:25.591Z"
   },
   {
    "duration": 5,
    "start_time": "2024-09-25T22:06:25.609Z"
   },
   {
    "duration": 39,
    "start_time": "2024-09-25T22:06:25.615Z"
   },
   {
    "duration": 338,
    "start_time": "2024-09-25T22:06:25.656Z"
   },
   {
    "duration": 5,
    "start_time": "2024-09-25T22:06:25.996Z"
   },
   {
    "duration": 12,
    "start_time": "2024-09-25T22:06:26.002Z"
   },
   {
    "duration": 23,
    "start_time": "2024-09-25T22:06:26.015Z"
   },
   {
    "duration": 297,
    "start_time": "2024-09-25T22:06:26.055Z"
   },
   {
    "duration": 5,
    "start_time": "2024-09-25T22:06:26.354Z"
   },
   {
    "duration": 32,
    "start_time": "2024-09-25T22:06:26.361Z"
   },
   {
    "duration": 93,
    "start_time": "2024-09-25T22:06:26.395Z"
   },
   {
    "duration": 0,
    "start_time": "2024-09-25T22:06:26.490Z"
   },
   {
    "duration": 0,
    "start_time": "2024-09-25T22:06:26.491Z"
   },
   {
    "duration": 0,
    "start_time": "2024-09-25T22:06:26.492Z"
   },
   {
    "duration": 0,
    "start_time": "2024-09-25T22:06:26.493Z"
   },
   {
    "duration": 0,
    "start_time": "2024-09-25T22:06:26.495Z"
   },
   {
    "duration": 0,
    "start_time": "2024-09-25T22:06:26.496Z"
   },
   {
    "duration": 0,
    "start_time": "2024-09-25T22:06:26.497Z"
   },
   {
    "duration": 0,
    "start_time": "2024-09-25T22:06:26.498Z"
   },
   {
    "duration": 0,
    "start_time": "2024-09-25T22:06:26.499Z"
   },
   {
    "duration": 0,
    "start_time": "2024-09-25T22:06:26.500Z"
   },
   {
    "duration": 0,
    "start_time": "2024-09-25T22:06:26.501Z"
   },
   {
    "duration": 5,
    "start_time": "2024-09-25T22:06:39.906Z"
   },
   {
    "duration": 11,
    "start_time": "2024-09-25T22:06:40.536Z"
   },
   {
    "duration": 172,
    "start_time": "2024-09-25T22:06:44.845Z"
   },
   {
    "duration": 166,
    "start_time": "2024-09-25T22:07:08.899Z"
   },
   {
    "duration": 11,
    "start_time": "2024-09-25T22:07:19.956Z"
   },
   {
    "duration": 163,
    "start_time": "2024-09-25T22:08:18.614Z"
   },
   {
    "duration": 193,
    "start_time": "2024-09-25T22:08:37.064Z"
   },
   {
    "duration": 192,
    "start_time": "2024-09-25T22:08:59.024Z"
   },
   {
    "duration": 10,
    "start_time": "2024-09-25T22:09:41.864Z"
   },
   {
    "duration": 158,
    "start_time": "2024-09-25T22:10:05.816Z"
   },
   {
    "duration": 160,
    "start_time": "2024-09-25T22:10:19.845Z"
   },
   {
    "duration": 158,
    "start_time": "2024-09-25T22:10:27.686Z"
   },
   {
    "duration": 173,
    "start_time": "2024-09-25T22:10:31.909Z"
   },
   {
    "duration": 151,
    "start_time": "2024-09-25T22:10:47.385Z"
   },
   {
    "duration": 171,
    "start_time": "2024-09-25T22:10:51.244Z"
   },
   {
    "duration": 11,
    "start_time": "2024-09-25T22:10:59.681Z"
   },
   {
    "duration": 159,
    "start_time": "2024-09-25T22:11:26.119Z"
   },
   {
    "duration": 175,
    "start_time": "2024-09-25T22:11:54.222Z"
   },
   {
    "duration": 11,
    "start_time": "2024-09-25T22:12:25.846Z"
   },
   {
    "duration": 171,
    "start_time": "2024-09-25T22:12:37.152Z"
   },
   {
    "duration": 9,
    "start_time": "2024-09-25T22:12:42.833Z"
   },
   {
    "duration": 134,
    "start_time": "2024-09-25T22:13:01.643Z"
   },
   {
    "duration": 556,
    "start_time": "2024-09-26T06:35:35.437Z"
   },
   {
    "duration": 13,
    "start_time": "2024-09-26T06:35:35.995Z"
   },
   {
    "duration": 2236,
    "start_time": "2024-09-26T06:35:36.009Z"
   },
   {
    "duration": 10,
    "start_time": "2024-09-26T06:35:38.247Z"
   },
   {
    "duration": 6,
    "start_time": "2024-09-26T06:35:38.259Z"
   },
   {
    "duration": 13,
    "start_time": "2024-09-26T06:35:38.266Z"
   },
   {
    "duration": 17,
    "start_time": "2024-09-26T06:35:38.280Z"
   },
   {
    "duration": 42,
    "start_time": "2024-09-26T06:35:38.298Z"
   },
   {
    "duration": 16,
    "start_time": "2024-09-26T06:35:38.341Z"
   },
   {
    "duration": 11,
    "start_time": "2024-09-26T06:35:38.359Z"
   },
   {
    "duration": 25,
    "start_time": "2024-09-26T06:35:38.371Z"
   },
   {
    "duration": 40,
    "start_time": "2024-09-26T06:35:38.398Z"
   },
   {
    "duration": 21,
    "start_time": "2024-09-26T06:35:38.440Z"
   },
   {
    "duration": 20,
    "start_time": "2024-09-26T06:35:38.465Z"
   },
   {
    "duration": 27,
    "start_time": "2024-09-26T06:35:38.486Z"
   },
   {
    "duration": 4,
    "start_time": "2024-09-26T06:35:38.515Z"
   },
   {
    "duration": 19,
    "start_time": "2024-09-26T06:35:38.520Z"
   },
   {
    "duration": 306,
    "start_time": "2024-09-26T06:35:38.540Z"
   },
   {
    "duration": 5,
    "start_time": "2024-09-26T06:35:38.848Z"
   },
   {
    "duration": 14,
    "start_time": "2024-09-26T06:35:38.854Z"
   },
   {
    "duration": 16,
    "start_time": "2024-09-26T06:35:38.870Z"
   },
   {
    "duration": 268,
    "start_time": "2024-09-26T06:35:38.888Z"
   },
   {
    "duration": 4,
    "start_time": "2024-09-26T06:35:39.157Z"
   },
   {
    "duration": 20,
    "start_time": "2024-09-26T06:35:39.163Z"
   },
   {
    "duration": 4,
    "start_time": "2024-09-26T06:35:39.184Z"
   },
   {
    "duration": 24,
    "start_time": "2024-09-26T06:35:39.189Z"
   },
   {
    "duration": 139,
    "start_time": "2024-09-26T06:35:39.214Z"
   },
   {
    "duration": 7,
    "start_time": "2024-09-26T06:35:39.354Z"
   },
   {
    "duration": 191,
    "start_time": "2024-09-26T06:35:39.362Z"
   },
   {
    "duration": 7,
    "start_time": "2024-09-26T06:35:39.554Z"
   },
   {
    "duration": 146,
    "start_time": "2024-09-26T06:35:39.562Z"
   },
   {
    "duration": 7,
    "start_time": "2024-09-26T06:35:39.709Z"
   },
   {
    "duration": 131,
    "start_time": "2024-09-26T06:35:39.717Z"
   },
   {
    "duration": 7,
    "start_time": "2024-09-26T06:35:39.849Z"
   },
   {
    "duration": 121,
    "start_time": "2024-09-26T06:35:39.857Z"
   },
   {
    "duration": 125,
    "start_time": "2024-09-26T06:39:04.460Z"
   },
   {
    "duration": 7,
    "start_time": "2024-09-26T06:39:18.056Z"
   },
   {
    "duration": 8,
    "start_time": "2024-09-26T06:39:47.468Z"
   },
   {
    "duration": 126,
    "start_time": "2024-09-26T06:39:53.008Z"
   },
   {
    "duration": 16,
    "start_time": "2024-09-26T06:39:53.137Z"
   },
   {
    "duration": 1821,
    "start_time": "2024-09-26T06:39:53.154Z"
   },
   {
    "duration": 10,
    "start_time": "2024-09-26T06:39:54.977Z"
   },
   {
    "duration": 25,
    "start_time": "2024-09-26T06:39:54.989Z"
   },
   {
    "duration": 70,
    "start_time": "2024-09-26T06:39:55.016Z"
   },
   {
    "duration": 120,
    "start_time": "2024-09-26T06:39:55.087Z"
   },
   {
    "duration": 12,
    "start_time": "2024-09-26T06:39:55.208Z"
   },
   {
    "duration": 8,
    "start_time": "2024-09-26T06:39:55.221Z"
   },
   {
    "duration": 7,
    "start_time": "2024-09-26T06:39:55.231Z"
   },
   {
    "duration": 13,
    "start_time": "2024-09-26T06:39:55.240Z"
   },
   {
    "duration": 54,
    "start_time": "2024-09-26T06:39:55.254Z"
   },
   {
    "duration": 13,
    "start_time": "2024-09-26T06:39:55.309Z"
   },
   {
    "duration": 15,
    "start_time": "2024-09-26T06:39:55.325Z"
   },
   {
    "duration": 13,
    "start_time": "2024-09-26T06:39:55.342Z"
   },
   {
    "duration": 5,
    "start_time": "2024-09-26T06:39:55.357Z"
   },
   {
    "duration": 9,
    "start_time": "2024-09-26T06:39:55.364Z"
   },
   {
    "duration": 345,
    "start_time": "2024-09-26T06:39:55.374Z"
   },
   {
    "duration": 5,
    "start_time": "2024-09-26T06:39:55.721Z"
   },
   {
    "duration": 15,
    "start_time": "2024-09-26T06:39:55.727Z"
   },
   {
    "duration": 19,
    "start_time": "2024-09-26T06:39:55.744Z"
   },
   {
    "duration": 293,
    "start_time": "2024-09-26T06:39:55.764Z"
   },
   {
    "duration": 5,
    "start_time": "2024-09-26T06:39:56.059Z"
   },
   {
    "duration": 73,
    "start_time": "2024-09-26T06:39:56.066Z"
   },
   {
    "duration": 4,
    "start_time": "2024-09-26T06:39:56.141Z"
   },
   {
    "duration": 13,
    "start_time": "2024-09-26T06:39:56.146Z"
   },
   {
    "duration": 142,
    "start_time": "2024-09-26T06:39:56.160Z"
   },
   {
    "duration": 12,
    "start_time": "2024-09-26T06:39:56.303Z"
   },
   {
    "duration": 147,
    "start_time": "2024-09-26T06:39:56.316Z"
   },
   {
    "duration": 8,
    "start_time": "2024-09-26T06:39:56.464Z"
   },
   {
    "duration": 175,
    "start_time": "2024-09-26T06:39:56.474Z"
   },
   {
    "duration": 7,
    "start_time": "2024-09-26T06:39:56.650Z"
   },
   {
    "duration": 237,
    "start_time": "2024-09-26T06:39:56.658Z"
   },
   {
    "duration": 15,
    "start_time": "2024-09-26T06:39:56.896Z"
   },
   {
    "duration": 138,
    "start_time": "2024-09-26T06:39:56.913Z"
   },
   {
    "duration": 3,
    "start_time": "2024-09-26T06:41:54.023Z"
   },
   {
    "duration": 116,
    "start_time": "2024-09-26T06:42:40.924Z"
   },
   {
    "duration": 12,
    "start_time": "2024-09-26T06:42:41.042Z"
   },
   {
    "duration": 1892,
    "start_time": "2024-09-26T06:42:41.055Z"
   },
   {
    "duration": 10,
    "start_time": "2024-09-26T06:42:42.948Z"
   },
   {
    "duration": 7,
    "start_time": "2024-09-26T06:42:42.960Z"
   },
   {
    "duration": 20,
    "start_time": "2024-09-26T06:42:42.968Z"
   },
   {
    "duration": 8,
    "start_time": "2024-09-26T06:42:42.989Z"
   },
   {
    "duration": 7,
    "start_time": "2024-09-26T06:42:43.006Z"
   },
   {
    "duration": 8,
    "start_time": "2024-09-26T06:42:43.015Z"
   },
   {
    "duration": 10,
    "start_time": "2024-09-26T06:42:43.025Z"
   },
   {
    "duration": 27,
    "start_time": "2024-09-26T06:42:43.037Z"
   },
   {
    "duration": 40,
    "start_time": "2024-09-26T06:42:43.065Z"
   },
   {
    "duration": 41,
    "start_time": "2024-09-26T06:42:43.106Z"
   },
   {
    "duration": 15,
    "start_time": "2024-09-26T06:42:43.150Z"
   },
   {
    "duration": 40,
    "start_time": "2024-09-26T06:42:43.166Z"
   },
   {
    "duration": 60,
    "start_time": "2024-09-26T06:42:43.208Z"
   },
   {
    "duration": 35,
    "start_time": "2024-09-26T06:42:43.269Z"
   },
   {
    "duration": 355,
    "start_time": "2024-09-26T06:42:43.305Z"
   },
   {
    "duration": 5,
    "start_time": "2024-09-26T06:42:43.661Z"
   },
   {
    "duration": 49,
    "start_time": "2024-09-26T06:42:43.667Z"
   },
   {
    "duration": 24,
    "start_time": "2024-09-26T06:42:43.717Z"
   },
   {
    "duration": 276,
    "start_time": "2024-09-26T06:42:43.742Z"
   },
   {
    "duration": 5,
    "start_time": "2024-09-26T06:42:44.019Z"
   },
   {
    "duration": 28,
    "start_time": "2024-09-26T06:42:44.026Z"
   },
   {
    "duration": 74,
    "start_time": "2024-09-26T06:42:44.055Z"
   },
   {
    "duration": 4,
    "start_time": "2024-09-26T06:42:56.572Z"
   },
   {
    "duration": 8,
    "start_time": "2024-09-26T06:42:58.684Z"
   },
   {
    "duration": 136,
    "start_time": "2024-09-26T06:43:05.254Z"
   },
   {
    "duration": 8,
    "start_time": "2024-09-26T06:43:09.203Z"
   },
   {
    "duration": 143,
    "start_time": "2024-09-26T06:43:55.071Z"
   },
   {
    "duration": 6,
    "start_time": "2024-09-26T06:43:56.490Z"
   },
   {
    "duration": 127,
    "start_time": "2024-09-26T06:44:16.441Z"
   },
   {
    "duration": 8,
    "start_time": "2024-09-26T06:44:24.681Z"
   },
   {
    "duration": 7,
    "start_time": "2024-09-26T06:45:17.366Z"
   },
   {
    "duration": 143,
    "start_time": "2024-09-26T06:45:21.170Z"
   },
   {
    "duration": 7,
    "start_time": "2024-09-26T06:45:26.301Z"
   },
   {
    "duration": 111,
    "start_time": "2024-09-26T06:45:42.866Z"
   },
   {
    "duration": 11,
    "start_time": "2024-09-26T06:45:42.979Z"
   },
   {
    "duration": 1816,
    "start_time": "2024-09-26T06:45:42.991Z"
   },
   {
    "duration": 10,
    "start_time": "2024-09-26T06:45:44.808Z"
   },
   {
    "duration": 7,
    "start_time": "2024-09-26T06:45:44.820Z"
   },
   {
    "duration": 12,
    "start_time": "2024-09-26T06:45:44.829Z"
   },
   {
    "duration": 5,
    "start_time": "2024-09-26T06:45:44.842Z"
   },
   {
    "duration": 6,
    "start_time": "2024-09-26T06:45:44.849Z"
   },
   {
    "duration": 8,
    "start_time": "2024-09-26T06:45:44.856Z"
   },
   {
    "duration": 8,
    "start_time": "2024-09-26T06:45:44.866Z"
   },
   {
    "duration": 39,
    "start_time": "2024-09-26T06:45:44.875Z"
   },
   {
    "duration": 44,
    "start_time": "2024-09-26T06:45:44.916Z"
   },
   {
    "duration": 14,
    "start_time": "2024-09-26T06:45:44.962Z"
   },
   {
    "duration": 38,
    "start_time": "2024-09-26T06:45:44.980Z"
   },
   {
    "duration": 67,
    "start_time": "2024-09-26T06:45:45.020Z"
   },
   {
    "duration": 65,
    "start_time": "2024-09-26T06:45:45.089Z"
   },
   {
    "duration": 15,
    "start_time": "2024-09-26T06:45:45.156Z"
   },
   {
    "duration": 402,
    "start_time": "2024-09-26T06:45:45.172Z"
   },
   {
    "duration": 5,
    "start_time": "2024-09-26T06:45:45.576Z"
   },
   {
    "duration": 10,
    "start_time": "2024-09-26T06:45:45.583Z"
   },
   {
    "duration": 23,
    "start_time": "2024-09-26T06:45:45.594Z"
   },
   {
    "duration": 306,
    "start_time": "2024-09-26T06:45:45.619Z"
   },
   {
    "duration": 5,
    "start_time": "2024-09-26T06:45:45.927Z"
   },
   {
    "duration": 23,
    "start_time": "2024-09-26T06:45:45.934Z"
   },
   {
    "duration": 4,
    "start_time": "2024-09-26T06:45:45.958Z"
   },
   {
    "duration": 20,
    "start_time": "2024-09-26T06:45:45.964Z"
   },
   {
    "duration": 154,
    "start_time": "2024-09-26T06:45:45.985Z"
   },
   {
    "duration": 9,
    "start_time": "2024-09-26T06:45:46.141Z"
   },
   {
    "duration": 156,
    "start_time": "2024-09-26T06:45:46.151Z"
   },
   {
    "duration": 8,
    "start_time": "2024-09-26T06:45:46.308Z"
   },
   {
    "duration": 145,
    "start_time": "2024-09-26T06:45:46.317Z"
   },
   {
    "duration": 7,
    "start_time": "2024-09-26T06:45:51.150Z"
   },
   {
    "duration": 137,
    "start_time": "2024-09-26T06:45:54.281Z"
   },
   {
    "duration": 116,
    "start_time": "2024-09-26T06:46:17.402Z"
   },
   {
    "duration": 12,
    "start_time": "2024-09-26T06:46:17.520Z"
   },
   {
    "duration": 1909,
    "start_time": "2024-09-26T06:46:17.533Z"
   },
   {
    "duration": 9,
    "start_time": "2024-09-26T06:46:19.444Z"
   },
   {
    "duration": 10,
    "start_time": "2024-09-26T06:46:19.455Z"
   },
   {
    "duration": 17,
    "start_time": "2024-09-26T06:46:19.466Z"
   },
   {
    "duration": 15,
    "start_time": "2024-09-26T06:46:19.484Z"
   },
   {
    "duration": 100,
    "start_time": "2024-09-26T06:46:19.500Z"
   },
   {
    "duration": 7,
    "start_time": "2024-09-26T06:46:19.601Z"
   },
   {
    "duration": 6,
    "start_time": "2024-09-26T06:46:19.609Z"
   },
   {
    "duration": 15,
    "start_time": "2024-09-26T06:46:19.616Z"
   },
   {
    "duration": 41,
    "start_time": "2024-09-26T06:46:19.632Z"
   },
   {
    "duration": 77,
    "start_time": "2024-09-26T06:46:19.674Z"
   },
   {
    "duration": 14,
    "start_time": "2024-09-26T06:46:19.755Z"
   },
   {
    "duration": 13,
    "start_time": "2024-09-26T06:46:19.770Z"
   },
   {
    "duration": 4,
    "start_time": "2024-09-26T06:46:19.785Z"
   },
   {
    "duration": 6,
    "start_time": "2024-09-26T06:46:19.790Z"
   },
   {
    "duration": 307,
    "start_time": "2024-09-26T06:46:19.797Z"
   },
   {
    "duration": 5,
    "start_time": "2024-09-26T06:46:20.107Z"
   },
   {
    "duration": 43,
    "start_time": "2024-09-26T06:46:20.113Z"
   },
   {
    "duration": 41,
    "start_time": "2024-09-26T06:46:20.157Z"
   },
   {
    "duration": 272,
    "start_time": "2024-09-26T06:46:20.200Z"
   },
   {
    "duration": 5,
    "start_time": "2024-09-26T06:46:20.474Z"
   },
   {
    "duration": 38,
    "start_time": "2024-09-26T06:46:20.480Z"
   },
   {
    "duration": 4,
    "start_time": "2024-09-26T06:46:20.520Z"
   },
   {
    "duration": 12,
    "start_time": "2024-09-26T06:46:20.526Z"
   },
   {
    "duration": 186,
    "start_time": "2024-09-26T06:46:20.540Z"
   },
   {
    "duration": 8,
    "start_time": "2024-09-26T06:46:20.727Z"
   },
   {
    "duration": 172,
    "start_time": "2024-09-26T06:46:20.736Z"
   },
   {
    "duration": 7,
    "start_time": "2024-09-26T06:46:20.910Z"
   },
   {
    "duration": 150,
    "start_time": "2024-09-26T06:46:20.918Z"
   },
   {
    "duration": 6,
    "start_time": "2024-09-26T06:46:21.069Z"
   },
   {
    "duration": 129,
    "start_time": "2024-09-26T06:46:29.844Z"
   },
   {
    "duration": 8,
    "start_time": "2024-09-26T06:46:38.009Z"
   },
   {
    "duration": 118,
    "start_time": "2024-09-26T06:46:53.742Z"
   },
   {
    "duration": 12,
    "start_time": "2024-09-26T06:46:53.862Z"
   },
   {
    "duration": 1971,
    "start_time": "2024-09-26T06:46:53.876Z"
   },
   {
    "duration": 13,
    "start_time": "2024-09-26T06:46:55.849Z"
   },
   {
    "duration": 19,
    "start_time": "2024-09-26T06:46:55.865Z"
   },
   {
    "duration": 21,
    "start_time": "2024-09-26T06:46:55.885Z"
   },
   {
    "duration": 25,
    "start_time": "2024-09-26T06:46:55.908Z"
   },
   {
    "duration": 5,
    "start_time": "2024-09-26T06:46:55.934Z"
   },
   {
    "duration": 7,
    "start_time": "2024-09-26T06:46:55.941Z"
   },
   {
    "duration": 7,
    "start_time": "2024-09-26T06:46:55.949Z"
   },
   {
    "duration": 13,
    "start_time": "2024-09-26T06:46:55.957Z"
   },
   {
    "duration": 47,
    "start_time": "2024-09-26T06:46:55.972Z"
   },
   {
    "duration": 11,
    "start_time": "2024-09-26T06:46:56.021Z"
   },
   {
    "duration": 14,
    "start_time": "2024-09-26T06:46:56.035Z"
   },
   {
    "duration": 15,
    "start_time": "2024-09-26T06:46:56.050Z"
   },
   {
    "duration": 98,
    "start_time": "2024-09-26T06:46:56.067Z"
   },
   {
    "duration": 57,
    "start_time": "2024-09-26T06:46:56.167Z"
   },
   {
    "duration": 323,
    "start_time": "2024-09-26T06:46:56.225Z"
   },
   {
    "duration": 4,
    "start_time": "2024-09-26T06:46:56.550Z"
   },
   {
    "duration": 15,
    "start_time": "2024-09-26T06:46:56.555Z"
   },
   {
    "duration": 28,
    "start_time": "2024-09-26T06:46:56.573Z"
   },
   {
    "duration": 278,
    "start_time": "2024-09-26T06:46:56.603Z"
   },
   {
    "duration": 4,
    "start_time": "2024-09-26T06:46:56.883Z"
   },
   {
    "duration": 30,
    "start_time": "2024-09-26T06:46:56.889Z"
   },
   {
    "duration": 13,
    "start_time": "2024-09-26T06:46:56.920Z"
   },
   {
    "duration": 15,
    "start_time": "2024-09-26T06:46:56.934Z"
   },
   {
    "duration": 162,
    "start_time": "2024-09-26T06:46:56.950Z"
   },
   {
    "duration": 8,
    "start_time": "2024-09-26T06:46:57.113Z"
   },
   {
    "duration": 245,
    "start_time": "2024-09-26T06:46:57.122Z"
   },
   {
    "duration": 9,
    "start_time": "2024-09-26T06:46:57.369Z"
   },
   {
    "duration": 154,
    "start_time": "2024-09-26T06:46:57.380Z"
   },
   {
    "duration": 7,
    "start_time": "2024-09-26T06:46:57.536Z"
   },
   {
    "duration": 140,
    "start_time": "2024-09-26T06:47:07.867Z"
   },
   {
    "duration": 117,
    "start_time": "2024-09-26T06:48:14.839Z"
   },
   {
    "duration": 12,
    "start_time": "2024-09-26T06:48:14.957Z"
   },
   {
    "duration": 1858,
    "start_time": "2024-09-26T06:48:14.970Z"
   },
   {
    "duration": 9,
    "start_time": "2024-09-26T06:48:16.829Z"
   },
   {
    "duration": 11,
    "start_time": "2024-09-26T06:48:16.840Z"
   },
   {
    "duration": 13,
    "start_time": "2024-09-26T06:48:16.852Z"
   },
   {
    "duration": 17,
    "start_time": "2024-09-26T06:48:16.866Z"
   },
   {
    "duration": 22,
    "start_time": "2024-09-26T06:48:16.885Z"
   },
   {
    "duration": 9,
    "start_time": "2024-09-26T06:48:16.908Z"
   },
   {
    "duration": 8,
    "start_time": "2024-09-26T06:48:16.918Z"
   },
   {
    "duration": 9,
    "start_time": "2024-09-26T06:48:16.927Z"
   },
   {
    "duration": 46,
    "start_time": "2024-09-26T06:48:16.938Z"
   },
   {
    "duration": 30,
    "start_time": "2024-09-26T06:48:16.986Z"
   },
   {
    "duration": 14,
    "start_time": "2024-09-26T06:48:17.018Z"
   },
   {
    "duration": 24,
    "start_time": "2024-09-26T06:48:17.034Z"
   },
   {
    "duration": 5,
    "start_time": "2024-09-26T06:48:17.059Z"
   },
   {
    "duration": 62,
    "start_time": "2024-09-26T06:48:17.065Z"
   },
   {
    "duration": 341,
    "start_time": "2024-09-26T06:48:17.129Z"
   },
   {
    "duration": 4,
    "start_time": "2024-09-26T06:48:17.472Z"
   },
   {
    "duration": 21,
    "start_time": "2024-09-26T06:48:17.478Z"
   },
   {
    "duration": 34,
    "start_time": "2024-09-26T06:48:17.501Z"
   },
   {
    "duration": 311,
    "start_time": "2024-09-26T06:48:17.537Z"
   },
   {
    "duration": 4,
    "start_time": "2024-09-26T06:48:17.849Z"
   },
   {
    "duration": 46,
    "start_time": "2024-09-26T06:48:17.854Z"
   },
   {
    "duration": 3,
    "start_time": "2024-09-26T06:48:17.902Z"
   },
   {
    "duration": 17,
    "start_time": "2024-09-26T06:48:17.906Z"
   },
   {
    "duration": 133,
    "start_time": "2024-09-26T06:48:17.925Z"
   },
   {
    "duration": 8,
    "start_time": "2024-09-26T06:48:18.059Z"
   },
   {
    "duration": 218,
    "start_time": "2024-09-26T06:48:18.068Z"
   },
   {
    "duration": 7,
    "start_time": "2024-09-26T06:48:18.287Z"
   },
   {
    "duration": 157,
    "start_time": "2024-09-26T06:48:18.295Z"
   },
   {
    "duration": 7,
    "start_time": "2024-09-26T06:48:18.454Z"
   },
   {
    "duration": 137,
    "start_time": "2024-09-26T06:49:31.577Z"
   },
   {
    "duration": 7,
    "start_time": "2024-09-26T06:49:44.711Z"
   },
   {
    "duration": 115,
    "start_time": "2024-09-26T06:50:09.784Z"
   },
   {
    "duration": 14,
    "start_time": "2024-09-26T06:50:09.901Z"
   },
   {
    "duration": 1894,
    "start_time": "2024-09-26T06:50:09.917Z"
   },
   {
    "duration": 8,
    "start_time": "2024-09-26T06:50:11.813Z"
   },
   {
    "duration": 30,
    "start_time": "2024-09-26T06:50:11.823Z"
   },
   {
    "duration": 32,
    "start_time": "2024-09-26T06:50:11.855Z"
   },
   {
    "duration": 40,
    "start_time": "2024-09-26T06:50:11.888Z"
   },
   {
    "duration": 17,
    "start_time": "2024-09-26T06:50:11.929Z"
   },
   {
    "duration": 33,
    "start_time": "2024-09-26T06:50:11.948Z"
   },
   {
    "duration": 45,
    "start_time": "2024-09-26T06:50:11.982Z"
   },
   {
    "duration": 22,
    "start_time": "2024-09-26T06:50:12.028Z"
   },
   {
    "duration": 78,
    "start_time": "2024-09-26T06:50:12.051Z"
   },
   {
    "duration": 49,
    "start_time": "2024-09-26T06:50:12.131Z"
   },
   {
    "duration": 15,
    "start_time": "2024-09-26T06:50:12.183Z"
   },
   {
    "duration": 44,
    "start_time": "2024-09-26T06:50:12.199Z"
   },
   {
    "duration": 4,
    "start_time": "2024-09-26T06:50:12.244Z"
   },
   {
    "duration": 25,
    "start_time": "2024-09-26T06:50:12.250Z"
   },
   {
    "duration": 300,
    "start_time": "2024-09-26T06:50:12.277Z"
   },
   {
    "duration": 5,
    "start_time": "2024-09-26T06:50:12.578Z"
   },
   {
    "duration": 7,
    "start_time": "2024-09-26T06:50:12.585Z"
   },
   {
    "duration": 21,
    "start_time": "2024-09-26T06:50:12.607Z"
   },
   {
    "duration": 311,
    "start_time": "2024-09-26T06:50:12.630Z"
   },
   {
    "duration": 4,
    "start_time": "2024-09-26T06:50:12.943Z"
   },
   {
    "duration": 20,
    "start_time": "2024-09-26T06:50:12.949Z"
   },
   {
    "duration": 4,
    "start_time": "2024-09-26T06:50:12.970Z"
   },
   {
    "duration": 7,
    "start_time": "2024-09-26T06:50:12.975Z"
   },
   {
    "duration": 153,
    "start_time": "2024-09-26T06:50:12.983Z"
   },
   {
    "duration": 8,
    "start_time": "2024-09-26T06:50:13.137Z"
   },
   {
    "duration": 205,
    "start_time": "2024-09-26T06:50:13.146Z"
   },
   {
    "duration": 7,
    "start_time": "2024-09-26T06:50:13.353Z"
   },
   {
    "duration": 137,
    "start_time": "2024-09-26T06:50:13.361Z"
   },
   {
    "duration": 12,
    "start_time": "2024-09-26T06:50:13.499Z"
   },
   {
    "duration": 219,
    "start_time": "2024-09-26T06:50:13.512Z"
   },
   {
    "duration": 7,
    "start_time": "2024-09-26T06:50:13.732Z"
   },
   {
    "duration": 117,
    "start_time": "2024-09-26T06:50:13.740Z"
   },
   {
    "duration": 4,
    "start_time": "2024-09-26T06:50:13.858Z"
   },
   {
    "duration": 114,
    "start_time": "2024-09-26T06:51:03.564Z"
   },
   {
    "duration": 117,
    "start_time": "2024-09-26T06:52:32.701Z"
   },
   {
    "duration": 3,
    "start_time": "2024-09-26T06:52:45.642Z"
   },
   {
    "duration": 109,
    "start_time": "2024-09-26T06:52:55.841Z"
   },
   {
    "duration": 32,
    "start_time": "2024-09-26T06:53:38.353Z"
   },
   {
    "duration": 7,
    "start_time": "2024-09-26T06:54:00.668Z"
   },
   {
    "duration": 986,
    "start_time": "2024-09-26T06:55:06.671Z"
   },
   {
    "duration": 11,
    "start_time": "2024-09-26T06:55:19.886Z"
   },
   {
    "duration": 9,
    "start_time": "2024-09-26T06:55:34.144Z"
   },
   {
    "duration": 7,
    "start_time": "2024-09-26T06:57:01.150Z"
   },
   {
    "duration": 127,
    "start_time": "2024-09-26T06:59:27.582Z"
   },
   {
    "duration": 161,
    "start_time": "2024-09-26T06:59:45.182Z"
   },
   {
    "duration": 4,
    "start_time": "2024-09-26T06:59:50.952Z"
   },
   {
    "duration": 7,
    "start_time": "2024-09-26T07:01:40.218Z"
   },
   {
    "duration": 98,
    "start_time": "2024-09-26T07:01:57.838Z"
   },
   {
    "duration": 31,
    "start_time": "2024-09-26T07:02:34.522Z"
   },
   {
    "duration": 15,
    "start_time": "2024-09-26T07:03:05.868Z"
   },
   {
    "duration": 142,
    "start_time": "2024-09-26T07:03:47.696Z"
   },
   {
    "duration": 130,
    "start_time": "2024-09-26T07:04:32.086Z"
   },
   {
    "duration": 38,
    "start_time": "2024-09-26T07:04:42.792Z"
   },
   {
    "duration": 4,
    "start_time": "2024-09-26T07:07:18.088Z"
   },
   {
    "duration": 14,
    "start_time": "2024-09-26T07:08:04.121Z"
   },
   {
    "duration": 135,
    "start_time": "2024-09-26T07:08:43.375Z"
   },
   {
    "duration": 21,
    "start_time": "2024-09-26T07:13:35.424Z"
   },
   {
    "duration": 134,
    "start_time": "2024-09-26T07:13:35.447Z"
   },
   {
    "duration": 3,
    "start_time": "2024-09-26T07:14:15.234Z"
   },
   {
    "duration": 12,
    "start_time": "2024-09-26T07:15:20.395Z"
   },
   {
    "duration": 153,
    "start_time": "2024-09-26T07:15:32.337Z"
   },
   {
    "duration": 128,
    "start_time": "2024-09-26T07:16:23.953Z"
   },
   {
    "duration": 120,
    "start_time": "2024-09-26T07:22:06.248Z"
   },
   {
    "duration": 12,
    "start_time": "2024-09-26T07:22:06.370Z"
   },
   {
    "duration": 1712,
    "start_time": "2024-09-26T07:22:06.383Z"
   },
   {
    "duration": 16,
    "start_time": "2024-09-26T07:22:08.097Z"
   },
   {
    "duration": 20,
    "start_time": "2024-09-26T07:22:08.114Z"
   },
   {
    "duration": 31,
    "start_time": "2024-09-26T07:22:08.135Z"
   },
   {
    "duration": 28,
    "start_time": "2024-09-26T07:22:08.167Z"
   },
   {
    "duration": 129,
    "start_time": "2024-09-26T07:22:08.197Z"
   },
   {
    "duration": 15,
    "start_time": "2024-09-26T07:22:08.327Z"
   },
   {
    "duration": 12,
    "start_time": "2024-09-26T07:22:08.343Z"
   },
   {
    "duration": 9,
    "start_time": "2024-09-26T07:22:08.356Z"
   },
   {
    "duration": 60,
    "start_time": "2024-09-26T07:22:08.367Z"
   },
   {
    "duration": 13,
    "start_time": "2024-09-26T07:22:08.428Z"
   },
   {
    "duration": 15,
    "start_time": "2024-09-26T07:22:08.443Z"
   },
   {
    "duration": 14,
    "start_time": "2024-09-26T07:22:08.459Z"
   },
   {
    "duration": 24,
    "start_time": "2024-09-26T07:22:08.475Z"
   },
   {
    "duration": 26,
    "start_time": "2024-09-26T07:22:08.500Z"
   },
   {
    "duration": 346,
    "start_time": "2024-09-26T07:22:08.528Z"
   },
   {
    "duration": 5,
    "start_time": "2024-09-26T07:22:08.876Z"
   },
   {
    "duration": 15,
    "start_time": "2024-09-26T07:22:08.884Z"
   },
   {
    "duration": 27,
    "start_time": "2024-09-26T07:22:08.900Z"
   },
   {
    "duration": 555,
    "start_time": "2024-09-26T07:22:08.929Z"
   },
   {
    "duration": 3,
    "start_time": "2024-09-26T07:22:09.486Z"
   },
   {
    "duration": 35,
    "start_time": "2024-09-26T07:22:09.490Z"
   },
   {
    "duration": 7,
    "start_time": "2024-09-26T07:22:09.526Z"
   },
   {
    "duration": 148,
    "start_time": "2024-09-26T07:22:09.534Z"
   },
   {
    "duration": 7,
    "start_time": "2024-09-26T07:22:09.684Z"
   },
   {
    "duration": 8,
    "start_time": "2024-09-26T07:22:26.329Z"
   },
   {
    "duration": 144,
    "start_time": "2024-09-26T07:22:26.355Z"
   },
   {
    "duration": 156,
    "start_time": "2024-09-26T07:22:49.966Z"
   },
   {
    "duration": 171,
    "start_time": "2024-09-26T07:23:13.688Z"
   },
   {
    "duration": 10,
    "start_time": "2024-09-26T07:23:23.546Z"
   },
   {
    "duration": 124,
    "start_time": "2024-09-26T07:23:24.164Z"
   },
   {
    "duration": 8,
    "start_time": "2024-09-26T07:23:25.014Z"
   },
   {
    "duration": 146,
    "start_time": "2024-09-26T07:23:28.344Z"
   },
   {
    "duration": 8,
    "start_time": "2024-09-26T07:23:30.906Z"
   },
   {
    "duration": 155,
    "start_time": "2024-09-26T07:23:31.955Z"
   },
   {
    "duration": 7,
    "start_time": "2024-09-26T07:23:34.038Z"
   },
   {
    "duration": 112,
    "start_time": "2024-09-26T07:23:38.098Z"
   },
   {
    "duration": 7,
    "start_time": "2024-09-26T07:23:39.897Z"
   },
   {
    "duration": 127,
    "start_time": "2024-09-26T07:23:48.565Z"
   },
   {
    "duration": 6,
    "start_time": "2024-09-26T07:23:58.730Z"
   },
   {
    "duration": 94,
    "start_time": "2024-09-26T07:24:01.451Z"
   },
   {
    "duration": 15,
    "start_time": "2024-09-26T07:24:02.722Z"
   },
   {
    "duration": 128,
    "start_time": "2024-09-26T07:24:07.180Z"
   },
   {
    "duration": 21,
    "start_time": "2024-09-26T07:24:27.221Z"
   },
   {
    "duration": 123,
    "start_time": "2024-09-26T07:24:27.972Z"
   },
   {
    "duration": 11,
    "start_time": "2024-09-26T07:24:29.711Z"
   },
   {
    "duration": 129,
    "start_time": "2024-09-26T07:25:33.691Z"
   },
   {
    "duration": 18,
    "start_time": "2024-09-26T07:49:55.058Z"
   },
   {
    "duration": 122,
    "start_time": "2024-09-26T07:50:24.583Z"
   },
   {
    "duration": 3,
    "start_time": "2024-09-26T07:51:10.037Z"
   },
   {
    "duration": 4,
    "start_time": "2024-09-26T07:51:11.848Z"
   },
   {
    "duration": 4,
    "start_time": "2024-09-26T07:51:41.155Z"
   },
   {
    "duration": 5,
    "start_time": "2024-09-26T07:51:42.004Z"
   },
   {
    "duration": 131,
    "start_time": "2024-09-26T07:54:40.480Z"
   },
   {
    "duration": 136,
    "start_time": "2024-09-26T07:55:16.563Z"
   },
   {
    "duration": 854,
    "start_time": "2024-09-26T18:12:17.395Z"
   },
   {
    "duration": 19,
    "start_time": "2024-09-26T18:12:18.251Z"
   },
   {
    "duration": 2994,
    "start_time": "2024-09-26T18:12:18.272Z"
   },
   {
    "duration": 13,
    "start_time": "2024-09-26T18:12:21.268Z"
   },
   {
    "duration": 8,
    "start_time": "2024-09-26T18:12:21.283Z"
   },
   {
    "duration": 14,
    "start_time": "2024-09-26T18:12:21.293Z"
   },
   {
    "duration": 13,
    "start_time": "2024-09-26T18:12:21.309Z"
   },
   {
    "duration": 6,
    "start_time": "2024-09-26T18:12:21.324Z"
   },
   {
    "duration": 11,
    "start_time": "2024-09-26T18:12:21.332Z"
   },
   {
    "duration": 10,
    "start_time": "2024-09-26T18:12:21.345Z"
   },
   {
    "duration": 14,
    "start_time": "2024-09-26T18:12:21.357Z"
   },
   {
    "duration": 83,
    "start_time": "2024-09-26T18:12:21.373Z"
   },
   {
    "duration": 18,
    "start_time": "2024-09-26T18:12:21.458Z"
   },
   {
    "duration": 47,
    "start_time": "2024-09-26T18:12:21.480Z"
   },
   {
    "duration": 16,
    "start_time": "2024-09-26T18:12:21.529Z"
   },
   {
    "duration": 59,
    "start_time": "2024-09-26T18:12:21.547Z"
   },
   {
    "duration": 46,
    "start_time": "2024-09-26T18:12:21.608Z"
   },
   {
    "duration": 370,
    "start_time": "2024-09-26T18:12:21.655Z"
   },
   {
    "duration": 6,
    "start_time": "2024-09-26T18:12:22.027Z"
   },
   {
    "duration": 18,
    "start_time": "2024-09-26T18:12:22.035Z"
   },
   {
    "duration": 24,
    "start_time": "2024-09-26T18:12:22.055Z"
   },
   {
    "duration": 345,
    "start_time": "2024-09-26T18:12:22.080Z"
   },
   {
    "duration": 7,
    "start_time": "2024-09-26T18:12:22.427Z"
   },
   {
    "duration": 30,
    "start_time": "2024-09-26T18:12:22.436Z"
   },
   {
    "duration": 10,
    "start_time": "2024-09-26T18:12:22.468Z"
   },
   {
    "duration": 227,
    "start_time": "2024-09-26T18:12:22.480Z"
   },
   {
    "duration": 22,
    "start_time": "2024-09-26T18:12:22.709Z"
   },
   {
    "duration": 360,
    "start_time": "2024-09-26T18:12:22.732Z"
   },
   {
    "duration": 12,
    "start_time": "2024-09-26T18:12:23.094Z"
   },
   {
    "duration": 206,
    "start_time": "2024-09-26T18:12:23.108Z"
   },
   {
    "duration": 14,
    "start_time": "2024-09-26T18:12:23.315Z"
   },
   {
    "duration": 214,
    "start_time": "2024-09-26T18:12:23.330Z"
   },
   {
    "duration": 9,
    "start_time": "2024-09-26T18:12:23.545Z"
   },
   {
    "duration": 197,
    "start_time": "2024-09-26T18:12:23.555Z"
   },
   {
    "duration": 9,
    "start_time": "2024-09-26T18:12:23.754Z"
   },
   {
    "duration": 210,
    "start_time": "2024-09-26T18:12:23.764Z"
   },
   {
    "duration": 8,
    "start_time": "2024-09-26T18:12:23.976Z"
   },
   {
    "duration": 169,
    "start_time": "2024-09-26T18:12:23.986Z"
   },
   {
    "duration": 22,
    "start_time": "2024-09-26T18:12:24.157Z"
   },
   {
    "duration": 197,
    "start_time": "2024-09-26T18:12:24.181Z"
   },
   {
    "duration": 20,
    "start_time": "2024-09-26T18:12:24.381Z"
   },
   {
    "duration": 188,
    "start_time": "2024-09-26T18:12:24.403Z"
   },
   {
    "duration": 14,
    "start_time": "2024-09-26T18:12:24.592Z"
   },
   {
    "duration": 175,
    "start_time": "2024-09-26T18:12:24.608Z"
   },
   {
    "duration": 20,
    "start_time": "2024-09-26T18:12:24.785Z"
   },
   {
    "duration": 198,
    "start_time": "2024-09-26T18:12:24.807Z"
   },
   {
    "duration": 5,
    "start_time": "2024-09-26T18:12:25.007Z"
   },
   {
    "duration": 6,
    "start_time": "2024-09-26T18:12:25.026Z"
   },
   {
    "duration": 155,
    "start_time": "2024-09-26T18:18:30.630Z"
   },
   {
    "duration": 16,
    "start_time": "2024-09-26T18:18:30.787Z"
   },
   {
    "duration": 2311,
    "start_time": "2024-09-26T18:18:30.805Z"
   },
   {
    "duration": 16,
    "start_time": "2024-09-26T18:18:33.118Z"
   },
   {
    "duration": 15,
    "start_time": "2024-09-26T18:18:33.135Z"
   },
   {
    "duration": 23,
    "start_time": "2024-09-26T18:18:33.152Z"
   },
   {
    "duration": 5,
    "start_time": "2024-09-26T18:18:33.176Z"
   },
   {
    "duration": 6,
    "start_time": "2024-09-26T18:18:33.183Z"
   },
   {
    "duration": 8,
    "start_time": "2024-09-26T18:18:33.192Z"
   },
   {
    "duration": 30,
    "start_time": "2024-09-26T18:18:33.203Z"
   },
   {
    "duration": 13,
    "start_time": "2024-09-26T18:18:33.235Z"
   },
   {
    "duration": 79,
    "start_time": "2024-09-26T18:18:33.250Z"
   },
   {
    "duration": 17,
    "start_time": "2024-09-26T18:18:33.331Z"
   },
   {
    "duration": 20,
    "start_time": "2024-09-26T18:18:33.350Z"
   },
   {
    "duration": 18,
    "start_time": "2024-09-26T18:18:33.371Z"
   },
   {
    "duration": 36,
    "start_time": "2024-09-26T18:18:33.391Z"
   },
   {
    "duration": 26,
    "start_time": "2024-09-26T18:18:33.429Z"
   },
   {
    "duration": 361,
    "start_time": "2024-09-26T18:18:33.457Z"
   },
   {
    "duration": 6,
    "start_time": "2024-09-26T18:18:33.826Z"
   },
   {
    "duration": 8,
    "start_time": "2024-09-26T18:18:33.834Z"
   },
   {
    "duration": 37,
    "start_time": "2024-09-26T18:18:33.843Z"
   },
   {
    "duration": 435,
    "start_time": "2024-09-26T18:18:33.882Z"
   },
   {
    "duration": 10,
    "start_time": "2024-09-26T18:18:34.319Z"
   },
   {
    "duration": 56,
    "start_time": "2024-09-26T18:18:34.331Z"
   },
   {
    "duration": 9,
    "start_time": "2024-09-26T18:18:34.389Z"
   },
   {
    "duration": 200,
    "start_time": "2024-09-26T18:18:34.400Z"
   },
   {
    "duration": 9,
    "start_time": "2024-09-26T18:18:34.602Z"
   },
   {
    "duration": 184,
    "start_time": "2024-09-26T18:18:34.625Z"
   },
   {
    "duration": 19,
    "start_time": "2024-09-26T18:18:34.810Z"
   },
   {
    "duration": 179,
    "start_time": "2024-09-26T18:18:34.830Z"
   },
   {
    "duration": 18,
    "start_time": "2024-09-26T18:18:35.011Z"
   },
   {
    "duration": 202,
    "start_time": "2024-09-26T18:18:35.030Z"
   },
   {
    "duration": 8,
    "start_time": "2024-09-26T18:18:35.234Z"
   },
   {
    "duration": 166,
    "start_time": "2024-09-26T18:18:35.244Z"
   },
   {
    "duration": 18,
    "start_time": "2024-09-26T18:18:35.412Z"
   },
   {
    "duration": 199,
    "start_time": "2024-09-26T18:18:35.431Z"
   },
   {
    "duration": 7,
    "start_time": "2024-09-26T18:18:35.632Z"
   },
   {
    "duration": 155,
    "start_time": "2024-09-26T18:18:35.641Z"
   },
   {
    "duration": 31,
    "start_time": "2024-09-26T18:18:35.798Z"
   },
   {
    "duration": 181,
    "start_time": "2024-09-26T18:18:35.831Z"
   },
   {
    "duration": 23,
    "start_time": "2024-09-26T18:18:36.014Z"
   },
   {
    "duration": 178,
    "start_time": "2024-09-26T18:18:36.039Z"
   },
   {
    "duration": 20,
    "start_time": "2024-09-26T18:18:36.219Z"
   },
   {
    "duration": 179,
    "start_time": "2024-09-26T18:18:36.240Z"
   },
   {
    "duration": 21,
    "start_time": "2024-09-26T18:18:36.421Z"
   },
   {
    "duration": 198,
    "start_time": "2024-09-26T18:18:36.444Z"
   },
   {
    "duration": 6,
    "start_time": "2024-09-26T18:18:36.644Z"
   },
   {
    "duration": 7,
    "start_time": "2024-09-26T18:18:36.652Z"
   },
   {
    "duration": 216,
    "start_time": "2024-09-26T18:19:25.528Z"
   },
   {
    "duration": 220,
    "start_time": "2024-09-26T18:19:35.348Z"
   },
   {
    "duration": 19,
    "start_time": "2024-09-26T18:20:59.841Z"
   },
   {
    "duration": 1022,
    "start_time": "2024-09-26T18:21:40.781Z"
   },
   {
    "duration": 928,
    "start_time": "2024-09-26T18:21:51.918Z"
   },
   {
    "duration": 241,
    "start_time": "2024-09-26T18:23:58.323Z"
   },
   {
    "duration": 231,
    "start_time": "2024-09-26T18:24:04.511Z"
   },
   {
    "duration": 5,
    "start_time": "2024-09-26T18:25:50.738Z"
   },
   {
    "duration": 164,
    "start_time": "2024-09-26T18:29:16.292Z"
   },
   {
    "duration": 348,
    "start_time": "2024-09-26T18:29:55.520Z"
   },
   {
    "duration": 190,
    "start_time": "2024-09-26T18:30:01.393Z"
   },
   {
    "duration": 188,
    "start_time": "2024-09-26T18:30:06.501Z"
   },
   {
    "duration": 352,
    "start_time": "2024-09-26T18:30:15.440Z"
   },
   {
    "duration": 4,
    "start_time": "2024-09-26T18:32:36.490Z"
   },
   {
    "duration": 896,
    "start_time": "2024-09-26T18:33:46.321Z"
   },
   {
    "duration": 887,
    "start_time": "2024-09-26T18:34:05.581Z"
   },
   {
    "duration": 912,
    "start_time": "2024-09-26T18:34:29.678Z"
   },
   {
    "duration": 643,
    "start_time": "2024-09-26T18:35:39.791Z"
   },
   {
    "duration": 302,
    "start_time": "2024-09-26T18:36:43.142Z"
   },
   {
    "duration": 939,
    "start_time": "2024-09-26T18:37:03.223Z"
   },
   {
    "duration": 752,
    "start_time": "2024-09-26T18:39:35.511Z"
   },
   {
    "duration": 849,
    "start_time": "2024-09-26T18:39:53.522Z"
   },
   {
    "duration": 1214,
    "start_time": "2024-09-26T18:40:21.445Z"
   },
   {
    "duration": 1213,
    "start_time": "2024-09-26T18:42:00.403Z"
   },
   {
    "duration": 1140,
    "start_time": "2024-09-26T18:42:07.681Z"
   },
   {
    "duration": 62,
    "start_time": "2024-09-26T18:42:16.523Z"
   },
   {
    "duration": 54,
    "start_time": "2024-09-26T18:42:23.848Z"
   },
   {
    "duration": 53,
    "start_time": "2024-09-26T18:42:30.532Z"
   },
   {
    "duration": 58,
    "start_time": "2024-09-26T18:42:46.663Z"
   },
   {
    "duration": 54,
    "start_time": "2024-09-26T18:43:03.437Z"
   },
   {
    "duration": 51,
    "start_time": "2024-09-26T18:43:19.749Z"
   },
   {
    "duration": 1419,
    "start_time": "2024-09-26T18:43:27.534Z"
   },
   {
    "duration": 5,
    "start_time": "2024-09-26T18:57:44.316Z"
   },
   {
    "duration": 18,
    "start_time": "2024-09-26T18:58:00.077Z"
   },
   {
    "duration": 976,
    "start_time": "2024-09-26T19:02:44.911Z"
   },
   {
    "duration": 7,
    "start_time": "2024-09-26T19:03:08.356Z"
   },
   {
    "duration": 5,
    "start_time": "2024-09-26T19:03:25.625Z"
   },
   {
    "duration": 15,
    "start_time": "2024-09-26T19:03:40.397Z"
   },
   {
    "duration": 14,
    "start_time": "2024-09-26T19:03:43.738Z"
   },
   {
    "duration": 14,
    "start_time": "2024-09-26T19:03:46.787Z"
   },
   {
    "duration": 67,
    "start_time": "2024-09-26T19:03:59.916Z"
   },
   {
    "duration": 53,
    "start_time": "2024-09-26T19:04:27.796Z"
   },
   {
    "duration": 8,
    "start_time": "2024-09-26T19:04:45.165Z"
   },
   {
    "duration": 12,
    "start_time": "2024-09-26T19:05:07.064Z"
   },
   {
    "duration": 9,
    "start_time": "2024-09-26T19:05:17.127Z"
   },
   {
    "duration": 9,
    "start_time": "2024-09-26T19:05:22.730Z"
   },
   {
    "duration": 9,
    "start_time": "2024-09-26T19:05:33.474Z"
   },
   {
    "duration": 20,
    "start_time": "2024-09-26T19:05:50.957Z"
   },
   {
    "duration": 15,
    "start_time": "2024-09-26T19:06:04.705Z"
   },
   {
    "duration": 16,
    "start_time": "2024-09-26T19:06:19.658Z"
   },
   {
    "duration": 15,
    "start_time": "2024-09-26T19:06:33.371Z"
   },
   {
    "duration": 33,
    "start_time": "2024-09-26T19:16:34.832Z"
   },
   {
    "duration": 23,
    "start_time": "2024-09-26T19:16:47.973Z"
   },
   {
    "duration": 25,
    "start_time": "2024-09-26T19:16:57.097Z"
   },
   {
    "duration": 26,
    "start_time": "2024-09-26T19:17:32.738Z"
   },
   {
    "duration": 25,
    "start_time": "2024-09-26T19:17:53.729Z"
   },
   {
    "duration": 25,
    "start_time": "2024-09-26T19:18:03.585Z"
   },
   {
    "duration": 8,
    "start_time": "2024-09-26T19:18:17.400Z"
   },
   {
    "duration": 38,
    "start_time": "2024-09-26T19:18:31.992Z"
   },
   {
    "duration": 34,
    "start_time": "2024-09-26T19:18:41.318Z"
   },
   {
    "duration": 28,
    "start_time": "2024-09-26T19:22:09.663Z"
   },
   {
    "duration": 27,
    "start_time": "2024-09-26T19:22:16.437Z"
   },
   {
    "duration": 27,
    "start_time": "2024-09-26T19:22:46.577Z"
   },
   {
    "duration": 26,
    "start_time": "2024-09-26T19:23:33.275Z"
   },
   {
    "duration": 29,
    "start_time": "2024-09-26T19:23:52.772Z"
   },
   {
    "duration": 62,
    "start_time": "2024-09-26T19:35:46.611Z"
   },
   {
    "duration": 31,
    "start_time": "2024-09-26T19:35:58.153Z"
   },
   {
    "duration": 24,
    "start_time": "2024-09-26T19:36:17.436Z"
   },
   {
    "duration": 34,
    "start_time": "2024-09-26T19:38:49.566Z"
   },
   {
    "duration": 24,
    "start_time": "2024-09-26T19:40:01.772Z"
   },
   {
    "duration": 25,
    "start_time": "2024-09-26T19:40:45.501Z"
   },
   {
    "duration": 4,
    "start_time": "2024-09-26T19:43:32.344Z"
   },
   {
    "duration": 19,
    "start_time": "2024-09-26T19:44:41.185Z"
   },
   {
    "duration": 25,
    "start_time": "2024-09-26T19:44:56.923Z"
   },
   {
    "duration": 12,
    "start_time": "2024-09-26T19:45:07.227Z"
   },
   {
    "duration": 16,
    "start_time": "2024-09-26T19:45:16.514Z"
   },
   {
    "duration": 28,
    "start_time": "2024-09-26T19:45:26.322Z"
   },
   {
    "duration": 17,
    "start_time": "2024-09-26T19:45:38.470Z"
   },
   {
    "duration": 16,
    "start_time": "2024-09-26T19:45:44.410Z"
   },
   {
    "duration": 22,
    "start_time": "2024-09-26T19:45:50.203Z"
   },
   {
    "duration": 35,
    "start_time": "2024-09-26T19:46:59.293Z"
   },
   {
    "duration": 31,
    "start_time": "2024-09-26T19:47:21.940Z"
   },
   {
    "duration": 42,
    "start_time": "2024-09-26T19:47:53.205Z"
   },
   {
    "duration": 31,
    "start_time": "2024-09-26T19:48:05.815Z"
   },
   {
    "duration": 23,
    "start_time": "2024-09-26T19:49:03.237Z"
   },
   {
    "duration": 23,
    "start_time": "2024-09-26T19:49:15.994Z"
   },
   {
    "duration": 21,
    "start_time": "2024-09-26T19:49:44.199Z"
   },
   {
    "duration": 158,
    "start_time": "2024-09-26T19:50:33.756Z"
   },
   {
    "duration": 159,
    "start_time": "2024-09-26T20:04:44.778Z"
   },
   {
    "duration": 24,
    "start_time": "2024-09-26T20:04:44.942Z"
   },
   {
    "duration": 2288,
    "start_time": "2024-09-26T20:04:44.968Z"
   },
   {
    "duration": 12,
    "start_time": "2024-09-26T20:04:47.257Z"
   },
   {
    "duration": 7,
    "start_time": "2024-09-26T20:04:47.271Z"
   },
   {
    "duration": 13,
    "start_time": "2024-09-26T20:04:47.280Z"
   },
   {
    "duration": 42,
    "start_time": "2024-09-26T20:04:47.295Z"
   },
   {
    "duration": 5,
    "start_time": "2024-09-26T20:04:47.339Z"
   },
   {
    "duration": 10,
    "start_time": "2024-09-26T20:04:47.346Z"
   },
   {
    "duration": 7,
    "start_time": "2024-09-26T20:04:47.358Z"
   },
   {
    "duration": 12,
    "start_time": "2024-09-26T20:04:47.367Z"
   },
   {
    "duration": 81,
    "start_time": "2024-09-26T20:04:47.380Z"
   },
   {
    "duration": 233,
    "start_time": "2024-09-26T20:04:47.463Z"
   },
   {
    "duration": 41,
    "start_time": "2024-09-26T20:04:47.700Z"
   },
   {
    "duration": 16,
    "start_time": "2024-09-26T20:04:47.743Z"
   },
   {
    "duration": 5,
    "start_time": "2024-09-26T20:04:47.761Z"
   },
   {
    "duration": 79,
    "start_time": "2024-09-26T20:04:47.767Z"
   },
   {
    "duration": 353,
    "start_time": "2024-09-26T20:04:47.847Z"
   },
   {
    "duration": 6,
    "start_time": "2024-09-26T20:04:48.202Z"
   },
   {
    "duration": 8,
    "start_time": "2024-09-26T20:04:48.209Z"
   },
   {
    "duration": 28,
    "start_time": "2024-09-26T20:04:48.228Z"
   },
   {
    "duration": 326,
    "start_time": "2024-09-26T20:04:48.258Z"
   },
   {
    "duration": 5,
    "start_time": "2024-09-26T20:04:48.585Z"
   },
   {
    "duration": 50,
    "start_time": "2024-09-26T20:04:48.592Z"
   },
   {
    "duration": 9,
    "start_time": "2024-09-26T20:04:48.644Z"
   },
   {
    "duration": 222,
    "start_time": "2024-09-26T20:04:48.654Z"
   },
   {
    "duration": 9,
    "start_time": "2024-09-26T20:04:48.878Z"
   },
   {
    "duration": 202,
    "start_time": "2024-09-26T20:04:48.889Z"
   },
   {
    "duration": 12,
    "start_time": "2024-09-26T20:04:49.093Z"
   },
   {
    "duration": 196,
    "start_time": "2024-09-26T20:04:49.108Z"
   },
   {
    "duration": 9,
    "start_time": "2024-09-26T20:04:49.306Z"
   },
   {
    "duration": 197,
    "start_time": "2024-09-26T20:04:49.325Z"
   },
   {
    "duration": 18,
    "start_time": "2024-09-26T20:04:49.525Z"
   },
   {
    "duration": 180,
    "start_time": "2024-09-26T20:04:49.544Z"
   },
   {
    "duration": 11,
    "start_time": "2024-09-26T20:04:49.730Z"
   },
   {
    "duration": 199,
    "start_time": "2024-09-26T20:04:49.743Z"
   },
   {
    "duration": 8,
    "start_time": "2024-09-26T20:04:49.944Z"
   },
   {
    "duration": 150,
    "start_time": "2024-09-26T20:04:49.954Z"
   },
   {
    "duration": 30,
    "start_time": "2024-09-26T20:04:50.105Z"
   },
   {
    "duration": 206,
    "start_time": "2024-09-26T20:04:50.137Z"
   },
   {
    "duration": 19,
    "start_time": "2024-09-26T20:04:50.347Z"
   },
   {
    "duration": 193,
    "start_time": "2024-09-26T20:04:50.368Z"
   },
   {
    "duration": 14,
    "start_time": "2024-09-26T20:04:50.563Z"
   },
   {
    "duration": 184,
    "start_time": "2024-09-26T20:04:50.578Z"
   },
   {
    "duration": 19,
    "start_time": "2024-09-26T20:04:50.764Z"
   },
   {
    "duration": 213,
    "start_time": "2024-09-26T20:04:50.785Z"
   },
   {
    "duration": 6,
    "start_time": "2024-09-26T20:04:51.000Z"
   },
   {
    "duration": 62,
    "start_time": "2024-09-26T20:04:51.007Z"
   },
   {
    "duration": 1240,
    "start_time": "2024-09-26T20:04:51.070Z"
   },
   {
    "duration": 38,
    "start_time": "2024-09-26T20:04:52.311Z"
   },
   {
    "duration": 22,
    "start_time": "2024-09-26T20:04:52.351Z"
   },
   {
    "duration": 179,
    "start_time": "2024-09-26T20:04:52.375Z"
   },
   {
    "duration": 137,
    "start_time": "2024-09-26T20:17:01.114Z"
   },
   {
    "duration": 16,
    "start_time": "2024-09-26T20:17:01.253Z"
   },
   {
    "duration": 2404,
    "start_time": "2024-09-26T20:17:01.271Z"
   },
   {
    "duration": 12,
    "start_time": "2024-09-26T20:17:03.677Z"
   },
   {
    "duration": 7,
    "start_time": "2024-09-26T20:17:03.691Z"
   },
   {
    "duration": 47,
    "start_time": "2024-09-26T20:17:03.699Z"
   },
   {
    "duration": 3,
    "start_time": "2024-09-26T20:17:03.748Z"
   },
   {
    "duration": 12,
    "start_time": "2024-09-26T20:17:03.753Z"
   },
   {
    "duration": 9,
    "start_time": "2024-09-26T20:17:03.766Z"
   },
   {
    "duration": 8,
    "start_time": "2024-09-26T20:17:03.776Z"
   },
   {
    "duration": 11,
    "start_time": "2024-09-26T20:17:03.786Z"
   },
   {
    "duration": 44,
    "start_time": "2024-09-26T20:17:03.798Z"
   },
   {
    "duration": 45,
    "start_time": "2024-09-26T20:17:03.844Z"
   },
   {
    "duration": 16,
    "start_time": "2024-09-26T20:17:03.892Z"
   },
   {
    "duration": 8,
    "start_time": "2024-09-26T20:17:03.910Z"
   },
   {
    "duration": 20,
    "start_time": "2024-09-26T20:17:03.919Z"
   },
   {
    "duration": 352,
    "start_time": "2024-09-26T20:17:03.941Z"
   },
   {
    "duration": 4,
    "start_time": "2024-09-26T20:17:04.295Z"
   },
   {
    "duration": 17,
    "start_time": "2024-09-26T20:17:04.301Z"
   },
   {
    "duration": 28,
    "start_time": "2024-09-26T20:17:04.320Z"
   },
   {
    "duration": 317,
    "start_time": "2024-09-26T20:17:04.350Z"
   },
   {
    "duration": 5,
    "start_time": "2024-09-26T20:17:04.669Z"
   },
   {
    "duration": 24,
    "start_time": "2024-09-26T20:17:04.675Z"
   },
   {
    "duration": 37,
    "start_time": "2024-09-26T20:17:04.701Z"
   },
   {
    "duration": 200,
    "start_time": "2024-09-26T20:17:04.740Z"
   },
   {
    "duration": 9,
    "start_time": "2024-09-26T20:17:04.941Z"
   },
   {
    "duration": 188,
    "start_time": "2024-09-26T20:17:04.952Z"
   },
   {
    "duration": 10,
    "start_time": "2024-09-26T20:17:05.142Z"
   },
   {
    "duration": 213,
    "start_time": "2024-09-26T20:17:05.154Z"
   },
   {
    "duration": 8,
    "start_time": "2024-09-26T20:17:05.369Z"
   },
   {
    "duration": 192,
    "start_time": "2024-09-26T20:17:05.379Z"
   },
   {
    "duration": 9,
    "start_time": "2024-09-26T20:17:05.573Z"
   },
   {
    "duration": 167,
    "start_time": "2024-09-26T20:17:05.583Z"
   },
   {
    "duration": 9,
    "start_time": "2024-09-26T20:17:05.751Z"
   },
   {
    "duration": 189,
    "start_time": "2024-09-26T20:17:05.762Z"
   },
   {
    "duration": 7,
    "start_time": "2024-09-26T20:17:05.953Z"
   },
   {
    "duration": 149,
    "start_time": "2024-09-26T20:17:05.962Z"
   },
   {
    "duration": 32,
    "start_time": "2024-09-26T20:17:06.113Z"
   },
   {
    "duration": 434,
    "start_time": "2024-09-26T20:17:06.146Z"
   },
   {
    "duration": 19,
    "start_time": "2024-09-26T20:17:06.581Z"
   },
   {
    "duration": 184,
    "start_time": "2024-09-26T20:17:06.604Z"
   },
   {
    "duration": 741,
    "start_time": "2024-09-27T06:22:15.429Z"
   },
   {
    "duration": 19,
    "start_time": "2024-09-27T06:22:16.172Z"
   },
   {
    "duration": 2933,
    "start_time": "2024-09-27T06:22:16.192Z"
   },
   {
    "duration": 14,
    "start_time": "2024-09-27T06:22:19.127Z"
   },
   {
    "duration": 8,
    "start_time": "2024-09-27T06:22:19.142Z"
   },
   {
    "duration": 26,
    "start_time": "2024-09-27T06:22:19.152Z"
   },
   {
    "duration": 5,
    "start_time": "2024-09-27T06:22:19.181Z"
   },
   {
    "duration": 10,
    "start_time": "2024-09-27T06:22:19.188Z"
   },
   {
    "duration": 18,
    "start_time": "2024-09-27T06:22:19.200Z"
   },
   {
    "duration": 12,
    "start_time": "2024-09-27T06:22:19.222Z"
   },
   {
    "duration": 30,
    "start_time": "2024-09-27T06:22:19.255Z"
   },
   {
    "duration": 19,
    "start_time": "2024-09-27T06:22:19.287Z"
   },
   {
    "duration": 21,
    "start_time": "2024-09-27T06:22:19.307Z"
   },
   {
    "duration": 40,
    "start_time": "2024-09-27T06:22:19.330Z"
   },
   {
    "duration": 7,
    "start_time": "2024-09-27T06:22:19.372Z"
   },
   {
    "duration": 16,
    "start_time": "2024-09-27T06:22:19.381Z"
   },
   {
    "duration": 374,
    "start_time": "2024-09-27T06:22:19.399Z"
   },
   {
    "duration": 7,
    "start_time": "2024-09-27T06:22:19.774Z"
   },
   {
    "duration": 20,
    "start_time": "2024-09-27T06:22:19.782Z"
   },
   {
    "duration": 36,
    "start_time": "2024-09-27T06:22:19.804Z"
   },
   {
    "duration": 348,
    "start_time": "2024-09-27T06:22:19.842Z"
   },
   {
    "duration": 6,
    "start_time": "2024-09-27T06:22:20.192Z"
   },
   {
    "duration": 55,
    "start_time": "2024-09-27T06:22:20.201Z"
   },
   {
    "duration": 12,
    "start_time": "2024-09-27T06:22:20.262Z"
   },
   {
    "duration": 205,
    "start_time": "2024-09-27T06:22:20.276Z"
   },
   {
    "duration": 10,
    "start_time": "2024-09-27T06:22:20.483Z"
   },
   {
    "duration": 294,
    "start_time": "2024-09-27T06:22:20.495Z"
   },
   {
    "duration": 9,
    "start_time": "2024-09-27T06:22:20.793Z"
   },
   {
    "duration": 237,
    "start_time": "2024-09-27T06:22:20.804Z"
   },
   {
    "duration": 16,
    "start_time": "2024-09-27T06:22:21.043Z"
   },
   {
    "duration": 216,
    "start_time": "2024-09-27T06:22:21.065Z"
   },
   {
    "duration": 9,
    "start_time": "2024-09-27T06:22:21.282Z"
   },
   {
    "duration": 180,
    "start_time": "2024-09-27T06:22:21.293Z"
   },
   {
    "duration": 11,
    "start_time": "2024-09-27T06:22:21.476Z"
   },
   {
    "duration": 217,
    "start_time": "2024-09-27T06:22:21.489Z"
   },
   {
    "duration": 9,
    "start_time": "2024-09-27T06:22:21.708Z"
   },
   {
    "duration": 178,
    "start_time": "2024-09-27T06:22:21.719Z"
   },
   {
    "duration": 19,
    "start_time": "2024-09-27T06:22:21.899Z"
   },
   {
    "duration": 208,
    "start_time": "2024-09-27T06:22:21.920Z"
   },
   {
    "duration": 39,
    "start_time": "2024-09-27T06:22:22.130Z"
   },
   {
    "duration": 175,
    "start_time": "2024-09-27T06:22:22.171Z"
   },
   {
    "duration": 26,
    "start_time": "2024-09-27T06:22:22.347Z"
   },
   {
    "duration": 192,
    "start_time": "2024-09-27T06:22:22.374Z"
   },
   {
    "duration": 20,
    "start_time": "2024-09-27T06:22:22.568Z"
   },
   {
    "duration": 201,
    "start_time": "2024-09-27T06:22:22.589Z"
   },
   {
    "duration": 5,
    "start_time": "2024-09-27T06:22:22.792Z"
   },
   {
    "duration": 32,
    "start_time": "2024-09-27T06:22:22.798Z"
   },
   {
    "duration": 1448,
    "start_time": "2024-09-27T06:22:22.831Z"
   },
   {
    "duration": 27,
    "start_time": "2024-09-27T06:22:24.281Z"
   },
   {
    "duration": 26,
    "start_time": "2024-09-27T06:22:24.310Z"
   },
   {
    "duration": 209,
    "start_time": "2024-09-27T06:22:24.355Z"
   },
   {
    "duration": 671,
    "start_time": "2024-09-27T06:24:00.530Z"
   },
   {
    "duration": 25,
    "start_time": "2024-09-27T06:24:01.203Z"
   },
   {
    "duration": 2779,
    "start_time": "2024-09-27T06:24:01.230Z"
   },
   {
    "duration": 12,
    "start_time": "2024-09-27T06:24:04.012Z"
   },
   {
    "duration": 17,
    "start_time": "2024-09-27T06:24:04.026Z"
   },
   {
    "duration": 24,
    "start_time": "2024-09-27T06:24:04.045Z"
   },
   {
    "duration": 25,
    "start_time": "2024-09-27T06:24:04.071Z"
   },
   {
    "duration": 23,
    "start_time": "2024-09-27T06:24:04.097Z"
   },
   {
    "duration": 19,
    "start_time": "2024-09-27T06:24:04.122Z"
   },
   {
    "duration": 38,
    "start_time": "2024-09-27T06:24:04.144Z"
   },
   {
    "duration": 16,
    "start_time": "2024-09-27T06:24:04.184Z"
   },
   {
    "duration": 43,
    "start_time": "2024-09-27T06:24:04.201Z"
   },
   {
    "duration": 26,
    "start_time": "2024-09-27T06:24:04.246Z"
   },
   {
    "duration": 21,
    "start_time": "2024-09-27T06:24:04.274Z"
   },
   {
    "duration": 27,
    "start_time": "2024-09-27T06:24:04.297Z"
   },
   {
    "duration": 6,
    "start_time": "2024-09-27T06:24:04.326Z"
   },
   {
    "duration": 22,
    "start_time": "2024-09-27T06:24:04.333Z"
   },
   {
    "duration": 382,
    "start_time": "2024-09-27T06:24:04.360Z"
   },
   {
    "duration": 16,
    "start_time": "2024-09-27T06:24:04.743Z"
   },
   {
    "duration": 12,
    "start_time": "2024-09-27T06:24:04.760Z"
   },
   {
    "duration": 31,
    "start_time": "2024-09-27T06:24:04.774Z"
   },
   {
    "duration": 315,
    "start_time": "2024-09-27T06:24:04.806Z"
   },
   {
    "duration": 5,
    "start_time": "2024-09-27T06:24:05.123Z"
   },
   {
    "duration": 44,
    "start_time": "2024-09-27T06:24:05.130Z"
   },
   {
    "duration": 18,
    "start_time": "2024-09-27T06:24:05.176Z"
   },
   {
    "duration": 196,
    "start_time": "2024-09-27T06:24:05.196Z"
   },
   {
    "duration": 10,
    "start_time": "2024-09-27T06:24:05.393Z"
   },
   {
    "duration": 203,
    "start_time": "2024-09-27T06:24:05.407Z"
   },
   {
    "duration": 10,
    "start_time": "2024-09-27T06:24:05.612Z"
   },
   {
    "duration": 308,
    "start_time": "2024-09-27T06:24:05.624Z"
   },
   {
    "duration": 10,
    "start_time": "2024-09-27T06:24:05.934Z"
   },
   {
    "duration": 231,
    "start_time": "2024-09-27T06:24:05.958Z"
   },
   {
    "duration": 9,
    "start_time": "2024-09-27T06:24:06.190Z"
   },
   {
    "duration": 188,
    "start_time": "2024-09-27T06:24:06.200Z"
   },
   {
    "duration": 11,
    "start_time": "2024-09-27T06:24:06.390Z"
   },
   {
    "duration": 202,
    "start_time": "2024-09-27T06:24:06.403Z"
   },
   {
    "duration": 8,
    "start_time": "2024-09-27T06:24:06.606Z"
   },
   {
    "duration": 164,
    "start_time": "2024-09-27T06:24:06.615Z"
   },
   {
    "duration": 19,
    "start_time": "2024-09-27T06:24:06.781Z"
   },
   {
    "duration": 213,
    "start_time": "2024-09-27T06:24:06.801Z"
   },
   {
    "duration": 19,
    "start_time": "2024-09-27T06:24:07.016Z"
   },
   {
    "duration": 216,
    "start_time": "2024-09-27T06:24:07.037Z"
   },
   {
    "duration": 26,
    "start_time": "2024-09-27T06:24:07.257Z"
   },
   {
    "duration": 189,
    "start_time": "2024-09-27T06:24:07.285Z"
   },
   {
    "duration": 19,
    "start_time": "2024-09-27T06:24:07.476Z"
   },
   {
    "duration": 254,
    "start_time": "2024-09-27T06:24:07.496Z"
   },
   {
    "duration": 15,
    "start_time": "2024-09-27T06:24:07.754Z"
   },
   {
    "duration": 6,
    "start_time": "2024-09-27T06:24:07.770Z"
   },
   {
    "duration": 1436,
    "start_time": "2024-09-27T06:24:07.778Z"
   },
   {
    "duration": 26,
    "start_time": "2024-09-27T06:24:09.216Z"
   },
   {
    "duration": 41,
    "start_time": "2024-09-27T06:24:09.243Z"
   },
   {
    "duration": 184,
    "start_time": "2024-09-27T06:24:09.286Z"
   },
   {
    "duration": 232,
    "start_time": "2024-09-27T06:31:03.274Z"
   },
   {
    "duration": 783,
    "start_time": "2024-09-27T18:05:24.229Z"
   },
   {
    "duration": 149,
    "start_time": "2024-09-27T18:05:28.161Z"
   },
   {
    "duration": 16,
    "start_time": "2024-09-27T18:05:28.312Z"
   },
   {
    "duration": 2538,
    "start_time": "2024-09-27T18:05:28.329Z"
   },
   {
    "duration": 17,
    "start_time": "2024-09-27T18:05:30.869Z"
   },
   {
    "duration": 11,
    "start_time": "2024-09-27T18:05:30.889Z"
   },
   {
    "duration": 7,
    "start_time": "2024-09-27T18:05:30.901Z"
   },
   {
    "duration": 46,
    "start_time": "2024-09-27T18:05:30.909Z"
   },
   {
    "duration": 13,
    "start_time": "2024-09-27T18:05:30.956Z"
   },
   {
    "duration": 5,
    "start_time": "2024-09-27T18:05:30.970Z"
   },
   {
    "duration": 12,
    "start_time": "2024-09-27T18:05:30.977Z"
   },
   {
    "duration": 18,
    "start_time": "2024-09-27T18:05:30.990Z"
   },
   {
    "duration": 17,
    "start_time": "2024-09-27T18:05:31.010Z"
   },
   {
    "duration": 17,
    "start_time": "2024-09-27T18:05:31.028Z"
   },
   {
    "duration": 38,
    "start_time": "2024-09-27T18:05:31.049Z"
   },
   {
    "duration": 15,
    "start_time": "2024-09-27T18:05:31.088Z"
   },
   {
    "duration": 5,
    "start_time": "2024-09-27T18:05:31.105Z"
   },
   {
    "duration": 30,
    "start_time": "2024-09-27T18:05:31.111Z"
   },
   {
    "duration": 337,
    "start_time": "2024-09-27T18:05:31.142Z"
   },
   {
    "duration": 5,
    "start_time": "2024-09-27T18:05:31.481Z"
   },
   {
    "duration": 9,
    "start_time": "2024-09-27T18:05:31.487Z"
   },
   {
    "duration": 23,
    "start_time": "2024-09-27T18:05:31.497Z"
   },
   {
    "duration": 317,
    "start_time": "2024-09-27T18:05:31.522Z"
   },
   {
    "duration": 6,
    "start_time": "2024-09-27T18:05:31.841Z"
   },
   {
    "duration": 43,
    "start_time": "2024-09-27T18:05:31.849Z"
   },
   {
    "duration": 11,
    "start_time": "2024-09-27T18:05:31.894Z"
   },
   {
    "duration": 200,
    "start_time": "2024-09-27T18:05:31.908Z"
   },
   {
    "duration": 11,
    "start_time": "2024-09-27T18:05:32.110Z"
   },
   {
    "duration": 262,
    "start_time": "2024-09-27T18:05:32.123Z"
   },
   {
    "duration": 10,
    "start_time": "2024-09-27T18:05:32.387Z"
   },
   {
    "duration": 190,
    "start_time": "2024-09-27T18:05:32.399Z"
   },
   {
    "duration": 10,
    "start_time": "2024-09-27T18:05:32.591Z"
   },
   {
    "duration": 188,
    "start_time": "2024-09-27T18:05:32.603Z"
   },
   {
    "duration": 10,
    "start_time": "2024-09-27T18:05:32.793Z"
   },
   {
    "duration": 170,
    "start_time": "2024-09-27T18:05:32.805Z"
   },
   {
    "duration": 11,
    "start_time": "2024-09-27T18:05:32.977Z"
   },
   {
    "duration": 188,
    "start_time": "2024-09-27T18:05:32.990Z"
   },
   {
    "duration": 8,
    "start_time": "2024-09-27T18:05:33.180Z"
   },
   {
    "duration": 140,
    "start_time": "2024-09-27T18:05:33.190Z"
   },
   {
    "duration": 17,
    "start_time": "2024-09-27T18:05:33.332Z"
   },
   {
    "duration": 178,
    "start_time": "2024-09-27T18:05:33.351Z"
   },
   {
    "duration": 18,
    "start_time": "2024-09-27T18:05:33.533Z"
   },
   {
    "duration": 182,
    "start_time": "2024-09-27T18:05:33.552Z"
   },
   {
    "duration": 13,
    "start_time": "2024-09-27T18:05:33.736Z"
   },
   {
    "duration": 168,
    "start_time": "2024-09-27T18:05:33.750Z"
   },
   {
    "duration": 18,
    "start_time": "2024-09-27T18:05:33.920Z"
   },
   {
    "duration": 264,
    "start_time": "2024-09-27T18:05:33.939Z"
   },
   {
    "duration": 4,
    "start_time": "2024-09-27T18:05:34.205Z"
   },
   {
    "duration": 23,
    "start_time": "2024-09-27T18:05:34.211Z"
   },
   {
    "duration": 205,
    "start_time": "2024-09-27T18:05:34.236Z"
   },
   {
    "duration": 1238,
    "start_time": "2024-09-27T18:05:34.443Z"
   },
   {
    "duration": 23,
    "start_time": "2024-09-27T18:05:35.683Z"
   },
   {
    "duration": 22,
    "start_time": "2024-09-27T18:05:35.708Z"
   },
   {
    "duration": 173,
    "start_time": "2024-09-27T18:05:35.732Z"
   },
   {
    "duration": 139,
    "start_time": "2024-09-27T18:06:14.810Z"
   },
   {
    "duration": 5,
    "start_time": "2024-09-27T18:06:14.951Z"
   },
   {
    "duration": 30,
    "start_time": "2024-09-27T18:06:14.958Z"
   },
   {
    "duration": 2131,
    "start_time": "2024-09-27T18:06:14.990Z"
   },
   {
    "duration": 11,
    "start_time": "2024-09-27T18:06:17.123Z"
   },
   {
    "duration": 6,
    "start_time": "2024-09-27T18:06:17.136Z"
   },
   {
    "duration": 33,
    "start_time": "2024-09-27T18:06:17.143Z"
   },
   {
    "duration": 13,
    "start_time": "2024-09-27T18:06:17.178Z"
   },
   {
    "duration": 5,
    "start_time": "2024-09-27T18:06:17.192Z"
   },
   {
    "duration": 4,
    "start_time": "2024-09-27T18:06:17.198Z"
   },
   {
    "duration": 7,
    "start_time": "2024-09-27T18:06:17.204Z"
   },
   {
    "duration": 6,
    "start_time": "2024-09-27T18:06:17.213Z"
   },
   {
    "duration": 12,
    "start_time": "2024-09-27T18:06:17.220Z"
   },
   {
    "duration": 51,
    "start_time": "2024-09-27T18:06:17.235Z"
   },
   {
    "duration": 17,
    "start_time": "2024-09-27T18:06:17.288Z"
   },
   {
    "duration": 15,
    "start_time": "2024-09-27T18:06:17.307Z"
   },
   {
    "duration": 5,
    "start_time": "2024-09-27T18:06:17.323Z"
   },
   {
    "duration": 7,
    "start_time": "2024-09-27T18:06:17.330Z"
   },
   {
    "duration": 365,
    "start_time": "2024-09-27T18:06:17.338Z"
   },
   {
    "duration": 5,
    "start_time": "2024-09-27T18:06:17.705Z"
   },
   {
    "duration": 6,
    "start_time": "2024-09-27T18:06:17.711Z"
   },
   {
    "duration": 20,
    "start_time": "2024-09-27T18:06:17.718Z"
   },
   {
    "duration": 309,
    "start_time": "2024-09-27T18:06:17.739Z"
   },
   {
    "duration": 5,
    "start_time": "2024-09-27T18:06:18.049Z"
   },
   {
    "duration": 37,
    "start_time": "2024-09-27T18:06:18.055Z"
   },
   {
    "duration": 8,
    "start_time": "2024-09-27T18:06:18.093Z"
   },
   {
    "duration": 194,
    "start_time": "2024-09-27T18:06:18.102Z"
   },
   {
    "duration": 9,
    "start_time": "2024-09-27T18:06:18.297Z"
   },
   {
    "duration": 180,
    "start_time": "2024-09-27T18:06:18.307Z"
   },
   {
    "duration": 8,
    "start_time": "2024-09-27T18:06:18.489Z"
   },
   {
    "duration": 177,
    "start_time": "2024-09-27T18:06:18.499Z"
   },
   {
    "duration": 8,
    "start_time": "2024-09-27T18:06:18.677Z"
   },
   {
    "duration": 310,
    "start_time": "2024-09-27T18:06:18.687Z"
   },
   {
    "duration": 8,
    "start_time": "2024-09-27T18:06:18.999Z"
   },
   {
    "duration": 148,
    "start_time": "2024-09-27T18:06:19.008Z"
   },
   {
    "duration": 21,
    "start_time": "2024-09-27T18:06:19.157Z"
   },
   {
    "duration": 177,
    "start_time": "2024-09-27T18:06:19.179Z"
   },
   {
    "duration": 6,
    "start_time": "2024-09-27T18:06:19.358Z"
   },
   {
    "duration": 138,
    "start_time": "2024-09-27T18:06:19.366Z"
   },
   {
    "duration": 19,
    "start_time": "2024-09-27T18:06:19.506Z"
   },
   {
    "duration": 182,
    "start_time": "2024-09-27T18:06:19.530Z"
   },
   {
    "duration": 19,
    "start_time": "2024-09-27T18:06:19.714Z"
   },
   {
    "duration": 181,
    "start_time": "2024-09-27T18:06:19.735Z"
   },
   {
    "duration": 14,
    "start_time": "2024-09-27T18:06:19.918Z"
   },
   {
    "duration": 183,
    "start_time": "2024-09-27T18:06:19.934Z"
   },
   {
    "duration": 21,
    "start_time": "2024-09-27T18:06:20.119Z"
   },
   {
    "duration": 213,
    "start_time": "2024-09-27T18:06:20.142Z"
   },
   {
    "duration": 6,
    "start_time": "2024-09-27T18:06:20.357Z"
   },
   {
    "duration": 20,
    "start_time": "2024-09-27T18:06:20.377Z"
   },
   {
    "duration": 216,
    "start_time": "2024-09-27T18:06:20.399Z"
   },
   {
    "duration": 1160,
    "start_time": "2024-09-27T18:06:20.617Z"
   },
   {
    "duration": 25,
    "start_time": "2024-09-27T18:06:21.779Z"
   },
   {
    "duration": 26,
    "start_time": "2024-09-27T18:06:21.806Z"
   },
   {
    "duration": 188,
    "start_time": "2024-09-27T18:06:21.834Z"
   },
   {
    "duration": 136,
    "start_time": "2024-09-27T18:09:38.004Z"
   },
   {
    "duration": 14,
    "start_time": "2024-09-27T18:09:39.949Z"
   },
   {
    "duration": 2160,
    "start_time": "2024-09-27T18:09:41.176Z"
   },
   {
    "duration": 11,
    "start_time": "2024-09-27T18:09:47.707Z"
   },
   {
    "duration": 7,
    "start_time": "2024-09-27T18:09:50.821Z"
   },
   {
    "duration": 6,
    "start_time": "2024-09-27T18:09:51.659Z"
   },
   {
    "duration": 5,
    "start_time": "2024-09-27T18:09:53.819Z"
   },
   {
    "duration": 3,
    "start_time": "2024-09-27T18:09:56.556Z"
   },
   {
    "duration": 4,
    "start_time": "2024-09-27T18:09:57.927Z"
   },
   {
    "duration": 7,
    "start_time": "2024-09-27T18:12:57.514Z"
   },
   {
    "duration": 7,
    "start_time": "2024-09-27T18:14:56.148Z"
   },
   {
    "duration": 135,
    "start_time": "2024-09-27T19:00:52.892Z"
   },
   {
    "duration": 15,
    "start_time": "2024-09-27T19:00:53.028Z"
   },
   {
    "duration": 2196,
    "start_time": "2024-09-27T19:00:53.045Z"
   },
   {
    "duration": 11,
    "start_time": "2024-09-27T19:00:55.243Z"
   },
   {
    "duration": 24,
    "start_time": "2024-09-27T19:00:55.256Z"
   },
   {
    "duration": 12,
    "start_time": "2024-09-27T19:00:55.281Z"
   },
   {
    "duration": 8,
    "start_time": "2024-09-27T19:00:55.295Z"
   },
   {
    "duration": 3,
    "start_time": "2024-09-27T19:00:55.304Z"
   },
   {
    "duration": 5,
    "start_time": "2024-09-27T19:00:55.309Z"
   },
   {
    "duration": 5,
    "start_time": "2024-09-27T19:00:59.707Z"
   },
   {
    "duration": 11,
    "start_time": "2024-09-27T19:01:02.660Z"
   },
   {
    "duration": 77,
    "start_time": "2024-09-27T19:02:28.013Z"
   },
   {
    "duration": 5,
    "start_time": "2024-09-27T19:04:41.630Z"
   },
   {
    "duration": 11,
    "start_time": "2024-09-27T19:04:42.370Z"
   },
   {
    "duration": 8,
    "start_time": "2024-09-27T19:05:29.793Z"
   },
   {
    "duration": 9,
    "start_time": "2024-09-27T19:08:20.176Z"
   },
   {
    "duration": 10,
    "start_time": "2024-09-27T19:08:32.575Z"
   },
   {
    "duration": 133,
    "start_time": "2024-09-27T19:14:54.440Z"
   },
   {
    "duration": 15,
    "start_time": "2024-09-27T19:14:54.575Z"
   },
   {
    "duration": 2171,
    "start_time": "2024-09-27T19:14:54.591Z"
   },
   {
    "duration": 19,
    "start_time": "2024-09-27T19:14:56.763Z"
   },
   {
    "duration": 6,
    "start_time": "2024-09-27T19:14:56.784Z"
   },
   {
    "duration": 7,
    "start_time": "2024-09-27T19:14:56.792Z"
   },
   {
    "duration": 5,
    "start_time": "2024-09-27T19:14:56.801Z"
   },
   {
    "duration": 3,
    "start_time": "2024-09-27T19:14:56.808Z"
   },
   {
    "duration": 4,
    "start_time": "2024-09-27T19:14:56.812Z"
   },
   {
    "duration": 17,
    "start_time": "2024-09-27T19:14:56.818Z"
   },
   {
    "duration": 42,
    "start_time": "2024-09-27T19:14:56.836Z"
   },
   {
    "duration": 10,
    "start_time": "2024-09-27T19:14:56.880Z"
   },
   {
    "duration": 13,
    "start_time": "2024-09-27T19:14:56.891Z"
   },
   {
    "duration": 18,
    "start_time": "2024-09-27T19:14:56.906Z"
   },
   {
    "duration": 50,
    "start_time": "2024-09-27T19:14:56.926Z"
   },
   {
    "duration": 5,
    "start_time": "2024-09-27T19:14:56.978Z"
   },
   {
    "duration": 6,
    "start_time": "2024-09-27T19:14:58.296Z"
   },
   {
    "duration": 6,
    "start_time": "2024-09-27T19:14:59.424Z"
   },
   {
    "duration": 850,
    "start_time": "2024-09-27T19:15:24.735Z"
   },
   {
    "duration": 142,
    "start_time": "2024-09-27T19:17:21.441Z"
   },
   {
    "duration": 15,
    "start_time": "2024-09-27T19:17:21.585Z"
   },
   {
    "duration": 2295,
    "start_time": "2024-09-27T19:17:21.601Z"
   },
   {
    "duration": 11,
    "start_time": "2024-09-27T19:17:23.898Z"
   },
   {
    "duration": 6,
    "start_time": "2024-09-27T19:17:23.911Z"
   },
   {
    "duration": 19,
    "start_time": "2024-09-27T19:17:23.919Z"
   },
   {
    "duration": 5,
    "start_time": "2024-09-27T19:17:23.940Z"
   },
   {
    "duration": 30,
    "start_time": "2024-09-27T19:17:23.947Z"
   },
   {
    "duration": 4,
    "start_time": "2024-09-27T19:17:23.978Z"
   },
   {
    "duration": 21,
    "start_time": "2024-09-27T19:17:23.984Z"
   },
   {
    "duration": 13,
    "start_time": "2024-09-27T19:17:24.007Z"
   },
   {
    "duration": 10,
    "start_time": "2024-09-27T19:17:24.022Z"
   },
   {
    "duration": 14,
    "start_time": "2024-09-27T19:17:24.033Z"
   },
   {
    "duration": 19,
    "start_time": "2024-09-27T19:17:24.075Z"
   },
   {
    "duration": 14,
    "start_time": "2024-09-27T19:17:24.096Z"
   },
   {
    "duration": 6,
    "start_time": "2024-09-27T19:17:24.111Z"
   },
   {
    "duration": 7,
    "start_time": "2024-09-27T19:17:24.118Z"
   },
   {
    "duration": 359,
    "start_time": "2024-09-27T19:17:24.127Z"
   },
   {
    "duration": 5,
    "start_time": "2024-09-27T19:17:24.488Z"
   },
   {
    "duration": 4,
    "start_time": "2024-09-27T19:17:24.495Z"
   },
   {
    "duration": 27,
    "start_time": "2024-09-27T19:17:24.500Z"
   },
   {
    "duration": 327,
    "start_time": "2024-09-27T19:17:24.528Z"
   },
   {
    "duration": 4,
    "start_time": "2024-09-27T19:17:24.857Z"
   },
   {
    "duration": 31,
    "start_time": "2024-09-27T19:17:24.862Z"
   },
   {
    "duration": 8,
    "start_time": "2024-09-27T19:17:24.895Z"
   },
   {
    "duration": 196,
    "start_time": "2024-09-27T19:17:24.904Z"
   },
   {
    "duration": 10,
    "start_time": "2024-09-27T19:17:25.102Z"
   },
   {
    "duration": 189,
    "start_time": "2024-09-27T19:17:25.114Z"
   },
   {
    "duration": 12,
    "start_time": "2024-09-27T19:17:25.305Z"
   },
   {
    "duration": 194,
    "start_time": "2024-09-27T19:17:25.319Z"
   },
   {
    "duration": 10,
    "start_time": "2024-09-27T19:17:25.514Z"
   },
   {
    "duration": 171,
    "start_time": "2024-09-27T19:17:25.525Z"
   },
   {
    "duration": 8,
    "start_time": "2024-09-27T19:17:25.698Z"
   },
   {
    "duration": 157,
    "start_time": "2024-09-27T19:17:25.707Z"
   },
   {
    "duration": 13,
    "start_time": "2024-09-27T19:17:25.866Z"
   },
   {
    "duration": 187,
    "start_time": "2024-09-27T19:17:25.880Z"
   },
   {
    "duration": 10,
    "start_time": "2024-09-27T19:17:26.068Z"
   },
   {
    "duration": 133,
    "start_time": "2024-09-27T19:17:26.080Z"
   },
   {
    "duration": 19,
    "start_time": "2024-09-27T19:17:26.215Z"
   },
   {
    "duration": 180,
    "start_time": "2024-09-27T19:17:26.235Z"
   },
   {
    "duration": 20,
    "start_time": "2024-09-27T19:17:26.419Z"
   },
   {
    "duration": 187,
    "start_time": "2024-09-27T19:17:26.441Z"
   },
   {
    "duration": 15,
    "start_time": "2024-09-27T19:17:26.629Z"
   },
   {
    "duration": 167,
    "start_time": "2024-09-27T19:17:26.645Z"
   },
   {
    "duration": 142,
    "start_time": "2024-09-28T06:59:30.051Z"
   },
   {
    "duration": 14,
    "start_time": "2024-09-28T06:59:30.195Z"
   },
   {
    "duration": 2254,
    "start_time": "2024-09-28T06:59:30.211Z"
   },
   {
    "duration": 18,
    "start_time": "2024-09-28T06:59:32.466Z"
   },
   {
    "duration": 81,
    "start_time": "2024-09-28T06:59:32.485Z"
   },
   {
    "duration": 12,
    "start_time": "2024-09-28T06:59:32.567Z"
   },
   {
    "duration": 16,
    "start_time": "2024-09-28T06:59:32.580Z"
   },
   {
    "duration": 19,
    "start_time": "2024-09-28T06:59:32.598Z"
   },
   {
    "duration": 8,
    "start_time": "2024-09-28T06:59:32.619Z"
   },
   {
    "duration": 11,
    "start_time": "2024-09-28T06:59:32.628Z"
   },
   {
    "duration": 9,
    "start_time": "2024-09-28T06:59:32.640Z"
   },
   {
    "duration": 11,
    "start_time": "2024-09-28T06:59:32.650Z"
   },
   {
    "duration": 24,
    "start_time": "2024-09-28T06:59:32.663Z"
   },
   {
    "duration": 19,
    "start_time": "2024-09-28T06:59:32.689Z"
   },
   {
    "duration": 15,
    "start_time": "2024-09-28T06:59:32.709Z"
   },
   {
    "duration": 9,
    "start_time": "2024-09-28T06:59:32.725Z"
   },
   {
    "duration": 40,
    "start_time": "2024-09-28T06:59:32.736Z"
   },
   {
    "duration": 317,
    "start_time": "2024-09-28T06:59:32.777Z"
   },
   {
    "duration": 6,
    "start_time": "2024-09-28T06:59:33.095Z"
   },
   {
    "duration": 16,
    "start_time": "2024-09-28T06:59:33.102Z"
   },
   {
    "duration": 20,
    "start_time": "2024-09-28T06:59:33.119Z"
   },
   {
    "duration": 288,
    "start_time": "2024-09-28T06:59:33.141Z"
   },
   {
    "duration": 5,
    "start_time": "2024-09-28T06:59:38.358Z"
   },
   {
    "duration": 22,
    "start_time": "2024-09-28T06:59:52.187Z"
   },
   {
    "duration": 69,
    "start_time": "2024-09-28T07:05:39.225Z"
   },
   {
    "duration": 2,
    "start_time": "2024-09-28T07:07:33.924Z"
   },
   {
    "duration": 4,
    "start_time": "2024-09-28T07:07:40.035Z"
   },
   {
    "duration": 4,
    "start_time": "2024-09-28T07:07:43.637Z"
   },
   {
    "duration": 62,
    "start_time": "2024-09-28T07:08:39.460Z"
   },
   {
    "duration": 120,
    "start_time": "2024-09-28T07:10:53.102Z"
   },
   {
    "duration": 6,
    "start_time": "2024-09-28T07:11:08.706Z"
   },
   {
    "duration": 6,
    "start_time": "2024-09-28T07:11:16.725Z"
   },
   {
    "duration": 157,
    "start_time": "2024-09-28T07:12:39.449Z"
   },
   {
    "duration": 8,
    "start_time": "2024-09-28T07:14:36.400Z"
   },
   {
    "duration": 190,
    "start_time": "2024-09-28T07:15:09.693Z"
   },
   {
    "duration": 152,
    "start_time": "2024-09-28T07:15:18.691Z"
   },
   {
    "duration": 59,
    "start_time": "2024-09-28T07:23:09.564Z"
   },
   {
    "duration": 358,
    "start_time": "2024-09-28T07:23:14.383Z"
   },
   {
    "duration": 143,
    "start_time": "2024-09-28T07:24:07.065Z"
   },
   {
    "duration": 278,
    "start_time": "2024-09-28T07:24:57.846Z"
   },
   {
    "duration": 273,
    "start_time": "2024-09-28T07:25:07.738Z"
   },
   {
    "duration": 403,
    "start_time": "2024-09-28T07:25:48.133Z"
   },
   {
    "duration": 624,
    "start_time": "2024-09-28T07:26:41.015Z"
   },
   {
    "duration": 869,
    "start_time": "2024-09-28T07:27:32.122Z"
   },
   {
    "duration": 1665,
    "start_time": "2024-09-28T07:28:48.094Z"
   },
   {
    "duration": 1298,
    "start_time": "2024-09-28T07:30:53.943Z"
   },
   {
    "duration": 1266,
    "start_time": "2024-09-28T07:32:27.739Z"
   },
   {
    "duration": 1298,
    "start_time": "2024-09-28T07:32:47.312Z"
   },
   {
    "duration": 1795,
    "start_time": "2024-09-28T07:33:56.457Z"
   },
   {
    "duration": 1309,
    "start_time": "2024-09-28T07:36:04.660Z"
   },
   {
    "duration": 1315,
    "start_time": "2024-09-28T07:37:44.668Z"
   },
   {
    "duration": 1278,
    "start_time": "2024-09-28T07:38:43.132Z"
   },
   {
    "duration": 1284,
    "start_time": "2024-09-28T07:38:57.845Z"
   },
   {
    "duration": 1317,
    "start_time": "2024-09-28T07:39:20.609Z"
   },
   {
    "duration": 1870,
    "start_time": "2024-09-28T07:40:16.937Z"
   },
   {
    "duration": 1315,
    "start_time": "2024-09-28T07:40:33.329Z"
   },
   {
    "duration": 1279,
    "start_time": "2024-09-28T07:41:25.956Z"
   },
   {
    "duration": 1315,
    "start_time": "2024-09-28T07:42:29.646Z"
   },
   {
    "duration": 61,
    "start_time": "2024-09-28T07:45:26.373Z"
   },
   {
    "duration": 1327,
    "start_time": "2024-09-28T07:45:38.898Z"
   },
   {
    "duration": 1350,
    "start_time": "2024-09-28T07:46:35.242Z"
   },
   {
    "duration": 2190,
    "start_time": "2024-09-28T07:48:00.390Z"
   },
   {
    "duration": 1392,
    "start_time": "2024-09-28T07:50:15.467Z"
   },
   {
    "duration": 1358,
    "start_time": "2024-09-28T07:51:34.611Z"
   },
   {
    "duration": 4,
    "start_time": "2024-09-28T07:53:50.486Z"
   },
   {
    "duration": 4,
    "start_time": "2024-09-28T07:53:58.466Z"
   },
   {
    "duration": 3,
    "start_time": "2024-09-28T07:54:20.037Z"
   },
   {
    "duration": 4,
    "start_time": "2024-09-28T07:54:32.382Z"
   },
   {
    "duration": 3,
    "start_time": "2024-09-28T07:55:46.038Z"
   },
   {
    "duration": 10,
    "start_time": "2024-09-28T08:12:58.499Z"
   },
   {
    "duration": 9,
    "start_time": "2024-09-28T08:13:08.061Z"
   },
   {
    "duration": 948,
    "start_time": "2024-09-28T08:13:16.261Z"
   },
   {
    "duration": 942,
    "start_time": "2024-09-28T08:13:32.092Z"
   },
   {
    "duration": 5,
    "start_time": "2024-09-28T08:14:08.019Z"
   },
   {
    "duration": 935,
    "start_time": "2024-09-28T08:18:51.618Z"
   },
   {
    "duration": 960,
    "start_time": "2024-09-28T08:19:06.415Z"
   },
   {
    "duration": 954,
    "start_time": "2024-09-28T08:20:29.842Z"
   },
   {
    "duration": 941,
    "start_time": "2024-09-28T08:20:36.908Z"
   },
   {
    "duration": 945,
    "start_time": "2024-09-30T15:02:37.187Z"
   },
   {
    "duration": 15,
    "start_time": "2024-09-30T15:02:57.844Z"
   },
   {
    "duration": 12,
    "start_time": "2024-09-30T15:03:07.639Z"
   },
   {
    "duration": 57,
    "start_time": "2024-09-30T15:11:28.139Z"
   },
   {
    "duration": 15,
    "start_time": "2024-09-30T15:18:29.874Z"
   },
   {
    "duration": 157,
    "start_time": "2024-09-30T15:51:00.332Z"
   },
   {
    "duration": 15,
    "start_time": "2024-09-30T15:51:00.491Z"
   },
   {
    "duration": 2131,
    "start_time": "2024-09-30T15:51:00.507Z"
   },
   {
    "duration": 12,
    "start_time": "2024-09-30T15:51:02.640Z"
   },
   {
    "duration": 26,
    "start_time": "2024-09-30T15:51:02.654Z"
   },
   {
    "duration": 74,
    "start_time": "2024-09-30T15:51:02.681Z"
   },
   {
    "duration": 28,
    "start_time": "2024-09-30T15:51:02.757Z"
   },
   {
    "duration": 12,
    "start_time": "2024-09-30T15:51:02.787Z"
   },
   {
    "duration": 21,
    "start_time": "2024-09-30T15:51:02.800Z"
   },
   {
    "duration": 21,
    "start_time": "2024-09-30T15:51:02.825Z"
   },
   {
    "duration": 33,
    "start_time": "2024-09-30T15:51:02.848Z"
   },
   {
    "duration": 14,
    "start_time": "2024-09-30T15:51:02.883Z"
   },
   {
    "duration": 15,
    "start_time": "2024-09-30T15:51:02.898Z"
   },
   {
    "duration": 27,
    "start_time": "2024-09-30T15:51:02.914Z"
   },
   {
    "duration": 79,
    "start_time": "2024-09-30T15:51:02.943Z"
   },
   {
    "duration": 18,
    "start_time": "2024-09-30T15:51:03.023Z"
   },
   {
    "duration": 29,
    "start_time": "2024-09-30T15:51:03.043Z"
   },
   {
    "duration": 342,
    "start_time": "2024-09-30T15:51:03.074Z"
   },
   {
    "duration": 5,
    "start_time": "2024-09-30T15:51:03.418Z"
   },
   {
    "duration": 27,
    "start_time": "2024-09-30T15:51:03.425Z"
   },
   {
    "duration": 33,
    "start_time": "2024-09-30T15:51:03.454Z"
   },
   {
    "duration": 303,
    "start_time": "2024-09-30T15:51:03.489Z"
   },
   {
    "duration": 5,
    "start_time": "2024-09-30T15:51:03.793Z"
   },
   {
    "duration": 30,
    "start_time": "2024-09-30T15:51:03.800Z"
   },
   {
    "duration": 94,
    "start_time": "2024-09-30T15:51:03.832Z"
   },
   {
    "duration": 7,
    "start_time": "2024-09-30T15:51:03.927Z"
   },
   {
    "duration": 1476,
    "start_time": "2024-09-30T15:51:03.936Z"
   },
   {
    "duration": 3,
    "start_time": "2024-09-30T15:51:05.416Z"
   },
   {
    "duration": 56,
    "start_time": "2024-09-30T15:51:05.421Z"
   },
   {
    "duration": 185,
    "start_time": "2024-09-30T15:51:05.479Z"
   },
   {
    "duration": 5,
    "start_time": "2024-09-30T15:51:05.665Z"
   },
   {
    "duration": 5,
    "start_time": "2024-09-30T15:51:05.676Z"
   },
   {
    "duration": 219,
    "start_time": "2024-09-30T15:51:05.682Z"
   },
   {
    "duration": 1177,
    "start_time": "2024-09-30T15:51:05.903Z"
   },
   {
    "duration": 14,
    "start_time": "2024-09-30T15:51:07.081Z"
   },
   {
    "duration": 25,
    "start_time": "2024-09-30T15:51:07.096Z"
   },
   {
    "duration": 59,
    "start_time": "2024-09-30T15:51:07.123Z"
   },
   {
    "duration": 170,
    "start_time": "2024-09-30T15:51:07.183Z"
   },
   {
    "duration": 142,
    "start_time": "2024-09-30T15:54:38.704Z"
   },
   {
    "duration": 40,
    "start_time": "2024-09-30T15:54:38.848Z"
   },
   {
    "duration": 3166,
    "start_time": "2024-09-30T15:54:38.890Z"
   },
   {
    "duration": 24,
    "start_time": "2024-09-30T15:54:42.058Z"
   },
   {
    "duration": 7,
    "start_time": "2024-09-30T15:54:42.083Z"
   },
   {
    "duration": 5,
    "start_time": "2024-09-30T15:54:42.092Z"
   },
   {
    "duration": 6,
    "start_time": "2024-09-30T15:54:42.099Z"
   },
   {
    "duration": 5,
    "start_time": "2024-09-30T15:54:42.107Z"
   },
   {
    "duration": 5,
    "start_time": "2024-09-30T15:54:42.113Z"
   },
   {
    "duration": 65,
    "start_time": "2024-09-30T15:54:42.122Z"
   },
   {
    "duration": 11,
    "start_time": "2024-09-30T15:54:42.189Z"
   },
   {
    "duration": 11,
    "start_time": "2024-09-30T15:54:42.201Z"
   },
   {
    "duration": 14,
    "start_time": "2024-09-30T15:54:42.213Z"
   },
   {
    "duration": 61,
    "start_time": "2024-09-30T15:54:42.229Z"
   },
   {
    "duration": 33,
    "start_time": "2024-09-30T15:54:42.291Z"
   },
   {
    "duration": 6,
    "start_time": "2024-09-30T15:54:42.326Z"
   },
   {
    "duration": 68,
    "start_time": "2024-09-30T15:54:42.333Z"
   },
   {
    "duration": 330,
    "start_time": "2024-09-30T15:54:42.402Z"
   },
   {
    "duration": 5,
    "start_time": "2024-09-30T15:54:42.734Z"
   },
   {
    "duration": 5,
    "start_time": "2024-09-30T15:54:42.741Z"
   },
   {
    "duration": 41,
    "start_time": "2024-09-30T15:54:42.748Z"
   },
   {
    "duration": 321,
    "start_time": "2024-09-30T15:54:42.791Z"
   },
   {
    "duration": 6,
    "start_time": "2024-09-30T15:54:43.114Z"
   },
   {
    "duration": 34,
    "start_time": "2024-09-30T15:54:43.122Z"
   },
   {
    "duration": 81,
    "start_time": "2024-09-30T15:54:43.158Z"
   },
   {
    "duration": 8,
    "start_time": "2024-09-30T15:54:43.241Z"
   },
   {
    "duration": 1566,
    "start_time": "2024-09-30T15:54:43.251Z"
   },
   {
    "duration": 4,
    "start_time": "2024-09-30T15:54:44.821Z"
   },
   {
    "duration": 23,
    "start_time": "2024-09-30T15:54:44.826Z"
   },
   {
    "duration": 213,
    "start_time": "2024-09-30T15:54:44.851Z"
   },
   {
    "duration": 13,
    "start_time": "2024-09-30T15:54:45.066Z"
   },
   {
    "duration": 6,
    "start_time": "2024-09-30T15:54:45.080Z"
   },
   {
    "duration": 235,
    "start_time": "2024-09-30T15:54:45.087Z"
   },
   {
    "duration": 1214,
    "start_time": "2024-09-30T15:54:45.324Z"
   },
   {
    "duration": 15,
    "start_time": "2024-09-30T15:54:46.539Z"
   },
   {
    "duration": 42,
    "start_time": "2024-09-30T15:54:46.555Z"
   },
   {
    "duration": 25,
    "start_time": "2024-09-30T15:54:46.598Z"
   },
   {
    "duration": 185,
    "start_time": "2024-09-30T15:54:46.625Z"
   },
   {
    "duration": 589,
    "start_time": "2024-09-30T17:14:00.357Z"
   },
   {
    "duration": 16,
    "start_time": "2024-09-30T17:14:00.949Z"
   },
   {
    "duration": 2760,
    "start_time": "2024-09-30T17:14:00.967Z"
   },
   {
    "duration": 20,
    "start_time": "2024-09-30T17:14:03.731Z"
   },
   {
    "duration": 31,
    "start_time": "2024-09-30T17:14:03.753Z"
   },
   {
    "duration": 44,
    "start_time": "2024-09-30T17:14:03.787Z"
   },
   {
    "duration": 24,
    "start_time": "2024-09-30T17:14:03.833Z"
   },
   {
    "duration": 45,
    "start_time": "2024-09-30T17:14:03.859Z"
   },
   {
    "duration": 51,
    "start_time": "2024-09-30T17:14:03.906Z"
   },
   {
    "duration": 42,
    "start_time": "2024-09-30T17:14:03.960Z"
   },
   {
    "duration": 40,
    "start_time": "2024-09-30T17:14:04.004Z"
   },
   {
    "duration": 77,
    "start_time": "2024-09-30T17:14:04.046Z"
   },
   {
    "duration": 81,
    "start_time": "2024-09-30T17:14:04.126Z"
   },
   {
    "duration": 52,
    "start_time": "2024-09-30T17:14:04.208Z"
   },
   {
    "duration": 69,
    "start_time": "2024-09-30T17:14:04.261Z"
   },
   {
    "duration": 26,
    "start_time": "2024-09-30T17:14:04.333Z"
   },
   {
    "duration": 33,
    "start_time": "2024-09-30T17:14:04.361Z"
   },
   {
    "duration": 424,
    "start_time": "2024-09-30T17:14:04.397Z"
   },
   {
    "duration": 16,
    "start_time": "2024-09-30T17:14:04.824Z"
   },
   {
    "duration": 5,
    "start_time": "2024-09-30T17:14:04.843Z"
   },
   {
    "duration": 31,
    "start_time": "2024-09-30T17:14:04.850Z"
   },
   {
    "duration": 388,
    "start_time": "2024-09-30T17:14:04.883Z"
   },
   {
    "duration": 5,
    "start_time": "2024-09-30T17:14:05.273Z"
   },
   {
    "duration": 80,
    "start_time": "2024-09-30T17:14:05.279Z"
   },
   {
    "duration": 96,
    "start_time": "2024-09-30T17:14:05.361Z"
   },
   {
    "duration": 8,
    "start_time": "2024-09-30T17:14:05.458Z"
   },
   {
    "duration": 1758,
    "start_time": "2024-09-30T17:14:05.468Z"
   },
   {
    "duration": 4,
    "start_time": "2024-09-30T17:14:07.229Z"
   },
   {
    "duration": 30,
    "start_time": "2024-09-30T17:14:07.235Z"
   },
   {
    "duration": 201,
    "start_time": "2024-09-30T17:14:07.267Z"
   },
   {
    "duration": 4,
    "start_time": "2024-09-30T17:14:07.470Z"
   },
   {
    "duration": 17,
    "start_time": "2024-09-30T17:14:07.476Z"
   },
   {
    "duration": 227,
    "start_time": "2024-09-30T17:14:07.495Z"
   },
   {
    "duration": 1408,
    "start_time": "2024-09-30T17:14:07.724Z"
   },
   {
    "duration": 20,
    "start_time": "2024-09-30T17:14:09.134Z"
   },
   {
    "duration": 52,
    "start_time": "2024-09-30T17:14:09.156Z"
   },
   {
    "duration": 158,
    "start_time": "2024-09-30T17:14:09.210Z"
   },
   {
    "duration": 169,
    "start_time": "2024-09-30T17:14:09.370Z"
   },
   {
    "duration": 603,
    "start_time": "2024-09-30T18:51:11.381Z"
   },
   {
    "duration": 22,
    "start_time": "2024-09-30T18:51:11.986Z"
   },
   {
    "duration": 2501,
    "start_time": "2024-09-30T18:51:12.010Z"
   },
   {
    "duration": 18,
    "start_time": "2024-09-30T18:51:14.513Z"
   },
   {
    "duration": 12,
    "start_time": "2024-09-30T18:51:14.533Z"
   },
   {
    "duration": 40,
    "start_time": "2024-09-30T18:51:14.547Z"
   },
   {
    "duration": 5,
    "start_time": "2024-09-30T18:51:14.589Z"
   },
   {
    "duration": 4,
    "start_time": "2024-09-30T18:51:14.596Z"
   },
   {
    "duration": 27,
    "start_time": "2024-09-30T18:51:14.602Z"
   },
   {
    "duration": 21,
    "start_time": "2024-09-30T18:51:14.631Z"
   },
   {
    "duration": 12,
    "start_time": "2024-09-30T18:51:14.653Z"
   },
   {
    "duration": 19,
    "start_time": "2024-09-30T18:51:14.667Z"
   },
   {
    "duration": 15,
    "start_time": "2024-09-30T18:51:14.687Z"
   },
   {
    "duration": 32,
    "start_time": "2024-09-30T18:51:14.703Z"
   },
   {
    "duration": 25,
    "start_time": "2024-09-30T18:51:14.738Z"
   },
   {
    "duration": 8,
    "start_time": "2024-09-30T18:51:14.765Z"
   },
   {
    "duration": 19,
    "start_time": "2024-09-30T18:51:14.774Z"
   },
   {
    "duration": 461,
    "start_time": "2024-09-30T18:51:14.795Z"
   },
   {
    "duration": 8,
    "start_time": "2024-09-30T18:51:15.258Z"
   },
   {
    "duration": 18,
    "start_time": "2024-09-30T18:51:15.268Z"
   },
   {
    "duration": 34,
    "start_time": "2024-09-30T18:51:15.287Z"
   },
   {
    "duration": 322,
    "start_time": "2024-09-30T18:51:15.323Z"
   },
   {
    "duration": 6,
    "start_time": "2024-09-30T18:51:15.646Z"
   },
   {
    "duration": 25,
    "start_time": "2024-09-30T18:51:15.655Z"
   },
   {
    "duration": 88,
    "start_time": "2024-09-30T18:51:15.682Z"
   },
   {
    "duration": 8,
    "start_time": "2024-09-30T18:51:15.772Z"
   },
   {
    "duration": 1627,
    "start_time": "2024-09-30T18:51:15.781Z"
   },
   {
    "duration": 4,
    "start_time": "2024-09-30T18:51:17.420Z"
   },
   {
    "duration": 38,
    "start_time": "2024-09-30T18:51:17.426Z"
   },
   {
    "duration": 183,
    "start_time": "2024-09-30T18:51:17.466Z"
   },
   {
    "duration": 6,
    "start_time": "2024-09-30T18:51:17.651Z"
   },
   {
    "duration": 5,
    "start_time": "2024-09-30T18:51:17.659Z"
   },
   {
    "duration": 263,
    "start_time": "2024-09-30T18:51:17.666Z"
   },
   {
    "duration": 1239,
    "start_time": "2024-09-30T18:51:17.932Z"
   },
   {
    "duration": 14,
    "start_time": "2024-09-30T18:51:19.173Z"
   },
   {
    "duration": 43,
    "start_time": "2024-09-30T18:51:19.188Z"
   },
   {
    "duration": 138,
    "start_time": "2024-09-30T18:51:19.232Z"
   },
   {
    "duration": 185,
    "start_time": "2024-09-30T18:51:19.372Z"
   }
  ],
  "colab": {
   "provenance": []
  },
  "kernelspec": {
   "display_name": "Python 3 (ipykernel)",
   "language": "python",
   "name": "python3"
  },
  "language_info": {
   "codemirror_mode": {
    "name": "ipython",
    "version": 3
   },
   "file_extension": ".py",
   "mimetype": "text/x-python",
   "name": "python",
   "nbconvert_exporter": "python",
   "pygments_lexer": "ipython3",
   "version": "3.12.4"
  },
  "toc": {
   "base_numbering": 1,
   "nav_menu": {},
   "number_sections": true,
   "sideBar": true,
   "skip_h1_title": true,
   "title_cell": "Table of Contents",
   "title_sidebar": "Contents",
   "toc_cell": false,
   "toc_position": {},
   "toc_section_display": true,
   "toc_window_display": false
  }
 },
 "nbformat": 4,
 "nbformat_minor": 4
}
