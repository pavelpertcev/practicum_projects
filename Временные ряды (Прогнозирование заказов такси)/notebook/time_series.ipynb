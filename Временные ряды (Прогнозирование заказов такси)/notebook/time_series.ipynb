{
 "cells": [
  {
   "cell_type": "markdown",
   "metadata": {
    "toc": true
   },
   "source": [
    "<h1>Содержание<span class=\"tocSkip\"></span></h1>\n",
    "<div class=\"toc\"><ul class=\"toc-item\"><li><span><a href=\"#Подготовка\" data-toc-modified-id=\"Подготовка-1\"><span class=\"toc-item-num\">1&nbsp;&nbsp;</span>Подготовка</a></span><ul class=\"toc-item\"><li><span><a href=\"#Загрузка-данных\" data-toc-modified-id=\"Загрузка-данных-1.1\"><span class=\"toc-item-num\">1.1&nbsp;&nbsp;</span>Загрузка данных</a></span></li><li><span><a href=\"#Предобработка-данных\" data-toc-modified-id=\"Предобработка-данных-1.2\"><span class=\"toc-item-num\">1.2&nbsp;&nbsp;</span>Предобработка данных</a></span><ul class=\"toc-item\"><li><span><a href=\"#Работа-с-индексами\" data-toc-modified-id=\"Работа-с-индексами-1.2.1\"><span class=\"toc-item-num\">1.2.1&nbsp;&nbsp;</span>Работа с индексами</a></span></li><li><span><a href=\"#Создание-новых-признаков\" data-toc-modified-id=\"Создание-новых-признаков-1.2.2\"><span class=\"toc-item-num\">1.2.2&nbsp;&nbsp;</span>Создание новых признаков</a></span></li><li><span><a href=\"#Вывод\" data-toc-modified-id=\"Вывод-1.2.3\"><span class=\"toc-item-num\">1.2.3&nbsp;&nbsp;</span>Вывод</a></span></li></ul></li></ul></li><li><span><a href=\"#Анализ\" data-toc-modified-id=\"Анализ-2\"><span class=\"toc-item-num\">2&nbsp;&nbsp;</span>Анализ</a></span><ul class=\"toc-item\"><li><span><a href=\"#Тренды-и-сезонность\" data-toc-modified-id=\"Тренды-и-сезонность-2.1\"><span class=\"toc-item-num\">2.1&nbsp;&nbsp;</span>Тренды и сезонность</a></span></li><li><span><a href=\"#Вывод\" data-toc-modified-id=\"Вывод-2.2\"><span class=\"toc-item-num\">2.2&nbsp;&nbsp;</span>Вывод</a></span></li></ul></li><li><span><a href=\"#Обучение\" data-toc-modified-id=\"Обучение-3\"><span class=\"toc-item-num\">3&nbsp;&nbsp;</span>Обучение</a></span></li><li><span><a href=\"#Тестирование\" data-toc-modified-id=\"Тестирование-4\"><span class=\"toc-item-num\">4&nbsp;&nbsp;</span>Тестирование</a></span><ul class=\"toc-item\"><li><span><a href=\"#Вывод\" data-toc-modified-id=\"Вывод-4.1\"><span class=\"toc-item-num\">4.1&nbsp;&nbsp;</span>Вывод</a></span></li></ul></li><li><span><a href=\"#Чек-лист-проверки\" data-toc-modified-id=\"Чек-лист-проверки-5\"><span class=\"toc-item-num\">5&nbsp;&nbsp;</span>Чек-лист проверки</a></span></li></ul></div>"
   ]
  },
  {
   "cell_type": "markdown",
   "metadata": {},
   "source": [
    "#  Прогнозирование заказов такси"
   ]
  },
  {
   "cell_type": "markdown",
   "metadata": {},
   "source": [
    "В данном проекте нам предстоит помочь компании «Чётенькое такси» спрогнозировать количество заказов такси на следующий час. \n",
    "\n",
    "Мы будем работать с датафреймом в котором содержится информация о количистве заказов в каждый момент времени\n",
    "\n",
    "Для начала изучим данные и проведем их подготовку: проверим на пропуски и дубликаты, и при необходимости исправим. Так же проверим, что данные отсортированы по времени, и в случае чего, сами их отсортируем.\n",
    "\n",
    "После этого проанализируем данные, выявим аномалии и удалим, если такие будут.\n",
    "\n",
    "Далее мы разобьем наши данные на тренировочную и тестовую выборки в отношении 90/10. И с помощью моделей регрессии с различными гиперпараметрами проведем моделирование.\n",
    "\n",
    "После всех расчетов, сравним показатели моделей, а именно - качество предсказания по метрике RMSE и выберем лучшую модель. С помощью нее сделаем прогноз на тестовых данных и посмотрим на точность (метрика RMSE должна быть <= 48).й."
   ]
  },
  {
   "cell_type": "code",
   "execution_count": 1,
   "metadata": {},
   "outputs": [
    {
     "name": "stdout",
     "output_type": "stream",
     "text": [
      "Requirement already satisfied: scikit-learn==1.2.2 in /opt/conda/lib/python3.9/site-packages (1.2.2)\n",
      "Requirement already satisfied: threadpoolctl>=2.0.0 in /opt/conda/lib/python3.9/site-packages (from scikit-learn==1.2.2) (3.1.0)\n",
      "Requirement already satisfied: numpy>=1.17.3 in /opt/conda/lib/python3.9/site-packages (from scikit-learn==1.2.2) (1.21.1)\n",
      "Requirement already satisfied: joblib>=1.1.1 in /opt/conda/lib/python3.9/site-packages (from scikit-learn==1.2.2) (1.4.2)\n",
      "Requirement already satisfied: scipy>=1.3.2 in /opt/conda/lib/python3.9/site-packages (from scikit-learn==1.2.2) (1.9.1)\n"
     ]
    }
   ],
   "source": [
    "!pip install --upgrade scikit-learn==1.2.2 \n"
   ]
  },
  {
   "cell_type": "code",
   "execution_count": 2,
   "metadata": {},
   "outputs": [],
   "source": [
    "import pandas as pd\n",
    "import matplotlib.pyplot as plt\n",
    "import seaborn as sns\n",
    "import numpy as np\n",
    "\n",
    "from sklearn.model_selection import train_test_split, RandomizedSearchCV, TimeSeriesSplit\n",
    "from sklearn.preprocessing import OneHotEncoder, StandardScaler, MinMaxScaler\n",
    "\n",
    "from sklearn.linear_model import LinearRegression, Ridge\n",
    "from sklearn.ensemble import RandomForestRegressor\n",
    "\n",
    "from sklearn.metrics import mean_squared_error\n",
    "\n",
    "from sklearn.pipeline import Pipeline\n",
    "from sklearn.compose import ColumnTransformer\n",
    "from sklearn.impute import SimpleImputer\n",
    "\n",
    "from statsmodels.tsa.seasonal import seasonal_decompose\n",
    "\n",
    "import warnings\n",
    "warnings.filterwarnings('ignore')"
   ]
  },
  {
   "cell_type": "code",
   "execution_count": 3,
   "metadata": {},
   "outputs": [],
   "source": [
    "RANDOM_STATE = 42"
   ]
  },
  {
   "cell_type": "markdown",
   "metadata": {},
   "source": [
    "## Подготовка"
   ]
  },
  {
   "cell_type": "markdown",
   "metadata": {},
   "source": [
    "### Загрузка данных"
   ]
  },
  {
   "cell_type": "code",
   "execution_count": 4,
   "metadata": {},
   "outputs": [],
   "source": [
    "try:\n",
    "    taxi_0 = pd.read_csv('/datasets/taxi.csv', index_col=[0], parse_dates=[0])\n",
    "except:\n",
    "    taxi_0 = pd.read_csv('C/datasets/taxi.csv', index_col=[0], parse_dates=[0])"
   ]
  },
  {
   "cell_type": "code",
   "execution_count": 5,
   "metadata": {},
   "outputs": [
    {
     "name": "stdout",
     "output_type": "stream",
     "text": [
      "<class 'pandas.core.frame.DataFrame'>\n",
      "DatetimeIndex: 26496 entries, 2018-03-01 00:00:00 to 2018-08-31 23:50:00\n",
      "Data columns (total 1 columns):\n",
      " #   Column      Non-Null Count  Dtype\n",
      "---  ------      --------------  -----\n",
      " 0   num_orders  26496 non-null  int64\n",
      "dtypes: int64(1)\n",
      "memory usage: 414.0 KB\n"
     ]
    }
   ],
   "source": [
    "taxi_0.info()"
   ]
  },
  {
   "cell_type": "code",
   "execution_count": 6,
   "metadata": {},
   "outputs": [
    {
     "data": {
      "text/html": [
       "<div>\n",
       "<style scoped>\n",
       "    .dataframe tbody tr th:only-of-type {\n",
       "        vertical-align: middle;\n",
       "    }\n",
       "\n",
       "    .dataframe tbody tr th {\n",
       "        vertical-align: top;\n",
       "    }\n",
       "\n",
       "    .dataframe thead th {\n",
       "        text-align: right;\n",
       "    }\n",
       "</style>\n",
       "<table border=\"1\" class=\"dataframe\">\n",
       "  <thead>\n",
       "    <tr style=\"text-align: right;\">\n",
       "      <th></th>\n",
       "      <th>num_orders</th>\n",
       "    </tr>\n",
       "    <tr>\n",
       "      <th>datetime</th>\n",
       "      <th></th>\n",
       "    </tr>\n",
       "  </thead>\n",
       "  <tbody>\n",
       "    <tr>\n",
       "      <th>2018-03-01 00:00:00</th>\n",
       "      <td>9</td>\n",
       "    </tr>\n",
       "    <tr>\n",
       "      <th>2018-03-01 00:10:00</th>\n",
       "      <td>14</td>\n",
       "    </tr>\n",
       "    <tr>\n",
       "      <th>2018-03-01 00:20:00</th>\n",
       "      <td>28</td>\n",
       "    </tr>\n",
       "    <tr>\n",
       "      <th>2018-03-01 00:30:00</th>\n",
       "      <td>20</td>\n",
       "    </tr>\n",
       "    <tr>\n",
       "      <th>2018-03-01 00:40:00</th>\n",
       "      <td>32</td>\n",
       "    </tr>\n",
       "  </tbody>\n",
       "</table>\n",
       "</div>"
      ],
      "text/plain": [
       "                     num_orders\n",
       "datetime                       \n",
       "2018-03-01 00:00:00           9\n",
       "2018-03-01 00:10:00          14\n",
       "2018-03-01 00:20:00          28\n",
       "2018-03-01 00:30:00          20\n",
       "2018-03-01 00:40:00          32"
      ]
     },
     "execution_count": 6,
     "metadata": {},
     "output_type": "execute_result"
    }
   ],
   "source": [
    "taxi_0.head()"
   ]
  },
  {
   "cell_type": "markdown",
   "metadata": {},
   "source": [
    "Данные в датафрейме представлены в нужном виде: колонка-индекс имеет тип datetime, количество заказов тип int. Названия столбцов записаны в змеином регистре, пропуски отсутствуют."
   ]
  },
  {
   "cell_type": "markdown",
   "metadata": {},
   "source": [
    "### Предобработка данных"
   ]
  },
  {
   "cell_type": "markdown",
   "metadata": {},
   "source": [
    "####  Работа с индексами"
   ]
  },
  {
   "cell_type": "markdown",
   "metadata": {},
   "source": [
    "Для начала отсортируем наши данные по возрастанию времени (по индексу). Это пригодится нам в дальнейшем, когда придется делить данные на выборки для анализа."
   ]
  },
  {
   "cell_type": "code",
   "execution_count": 7,
   "metadata": {},
   "outputs": [],
   "source": [
    "taxi_0.sort_index(inplace=True)"
   ]
  },
  {
   "cell_type": "markdown",
   "metadata": {},
   "source": [
    "Так как мы будем прогнозировать количество заказов за час, то сделаем ресемплирование данных по 1 часу (вместо каждых 10 минут)."
   ]
  },
  {
   "cell_type": "code",
   "execution_count": 8,
   "metadata": {},
   "outputs": [],
   "source": [
    "taxi_0 = taxi_0.resample('1h').sum()"
   ]
  },
  {
   "cell_type": "code",
   "execution_count": 9,
   "metadata": {},
   "outputs": [
    {
     "data": {
      "text/html": [
       "<div>\n",
       "<style scoped>\n",
       "    .dataframe tbody tr th:only-of-type {\n",
       "        vertical-align: middle;\n",
       "    }\n",
       "\n",
       "    .dataframe tbody tr th {\n",
       "        vertical-align: top;\n",
       "    }\n",
       "\n",
       "    .dataframe thead th {\n",
       "        text-align: right;\n",
       "    }\n",
       "</style>\n",
       "<table border=\"1\" class=\"dataframe\">\n",
       "  <thead>\n",
       "    <tr style=\"text-align: right;\">\n",
       "      <th></th>\n",
       "      <th>num_orders</th>\n",
       "    </tr>\n",
       "    <tr>\n",
       "      <th>datetime</th>\n",
       "      <th></th>\n",
       "    </tr>\n",
       "  </thead>\n",
       "  <tbody>\n",
       "    <tr>\n",
       "      <th>2018-03-01 00:00:00</th>\n",
       "      <td>124</td>\n",
       "    </tr>\n",
       "    <tr>\n",
       "      <th>2018-03-01 01:00:00</th>\n",
       "      <td>85</td>\n",
       "    </tr>\n",
       "    <tr>\n",
       "      <th>2018-03-01 02:00:00</th>\n",
       "      <td>71</td>\n",
       "    </tr>\n",
       "    <tr>\n",
       "      <th>2018-03-01 03:00:00</th>\n",
       "      <td>66</td>\n",
       "    </tr>\n",
       "    <tr>\n",
       "      <th>2018-03-01 04:00:00</th>\n",
       "      <td>43</td>\n",
       "    </tr>\n",
       "  </tbody>\n",
       "</table>\n",
       "</div>"
      ],
      "text/plain": [
       "                     num_orders\n",
       "datetime                       \n",
       "2018-03-01 00:00:00         124\n",
       "2018-03-01 01:00:00          85\n",
       "2018-03-01 02:00:00          71\n",
       "2018-03-01 03:00:00          66\n",
       "2018-03-01 04:00:00          43"
      ]
     },
     "execution_count": 9,
     "metadata": {},
     "output_type": "execute_result"
    }
   ],
   "source": [
    "taxi_0.head()"
   ]
  },
  {
   "cell_type": "markdown",
   "metadata": {},
   "source": [
    "####  Создание новых признаков"
   ]
  },
  {
   "cell_type": "markdown",
   "metadata": {},
   "source": [
    "Для наилучшего прогноза добавим в наш датафрейм новые признаки. Для этого напишем функцию make_features(). Добавим колонки с годом, месяцем, днем, днем недели, часом. А также лаги и скользящее среднее."
   ]
  },
  {
   "cell_type": "code",
   "execution_count": 10,
   "metadata": {},
   "outputs": [],
   "source": [
    "def make_features(df, max_lag, rolling_mean_size):\n",
    "    data = df.copy()\n",
    "    data['year'] = data.index.year\n",
    "    data['month'] = data.index.month\n",
    "    data['day'] = data.index.day\n",
    "    data['dayofweek'] = data.index.dayofweek\n",
    "    data['hour'] = data.index.hour\n",
    "    \n",
    "    for lag in range(1, max_lag + 1):\n",
    "        data['lag_{}'.format(lag)] = data['num_orders'].shift(lag)\n",
    "\n",
    "    data['rolling_mean']  = data['num_orders'].shift().rolling(rolling_mean_size).mean()\n",
    "    \n",
    "    return data\n",
    "\n",
    "taxi = make_features(taxi_0, 24, 24)"
   ]
  },
  {
   "cell_type": "code",
   "execution_count": 11,
   "metadata": {},
   "outputs": [
    {
     "data": {
      "text/html": [
       "<div>\n",
       "<style scoped>\n",
       "    .dataframe tbody tr th:only-of-type {\n",
       "        vertical-align: middle;\n",
       "    }\n",
       "\n",
       "    .dataframe tbody tr th {\n",
       "        vertical-align: top;\n",
       "    }\n",
       "\n",
       "    .dataframe thead th {\n",
       "        text-align: right;\n",
       "    }\n",
       "</style>\n",
       "<table border=\"1\" class=\"dataframe\">\n",
       "  <thead>\n",
       "    <tr style=\"text-align: right;\">\n",
       "      <th></th>\n",
       "      <th>num_orders</th>\n",
       "      <th>year</th>\n",
       "      <th>month</th>\n",
       "      <th>day</th>\n",
       "      <th>dayofweek</th>\n",
       "      <th>hour</th>\n",
       "      <th>lag_1</th>\n",
       "      <th>lag_2</th>\n",
       "      <th>lag_3</th>\n",
       "      <th>lag_4</th>\n",
       "      <th>...</th>\n",
       "      <th>lag_16</th>\n",
       "      <th>lag_17</th>\n",
       "      <th>lag_18</th>\n",
       "      <th>lag_19</th>\n",
       "      <th>lag_20</th>\n",
       "      <th>lag_21</th>\n",
       "      <th>lag_22</th>\n",
       "      <th>lag_23</th>\n",
       "      <th>lag_24</th>\n",
       "      <th>rolling_mean</th>\n",
       "    </tr>\n",
       "    <tr>\n",
       "      <th>datetime</th>\n",
       "      <th></th>\n",
       "      <th></th>\n",
       "      <th></th>\n",
       "      <th></th>\n",
       "      <th></th>\n",
       "      <th></th>\n",
       "      <th></th>\n",
       "      <th></th>\n",
       "      <th></th>\n",
       "      <th></th>\n",
       "      <th></th>\n",
       "      <th></th>\n",
       "      <th></th>\n",
       "      <th></th>\n",
       "      <th></th>\n",
       "      <th></th>\n",
       "      <th></th>\n",
       "      <th></th>\n",
       "      <th></th>\n",
       "      <th></th>\n",
       "      <th></th>\n",
       "    </tr>\n",
       "  </thead>\n",
       "  <tbody>\n",
       "    <tr>\n",
       "      <th>2018-03-01 00:00:00</th>\n",
       "      <td>124</td>\n",
       "      <td>2018</td>\n",
       "      <td>3</td>\n",
       "      <td>1</td>\n",
       "      <td>3</td>\n",
       "      <td>0</td>\n",
       "      <td>NaN</td>\n",
       "      <td>NaN</td>\n",
       "      <td>NaN</td>\n",
       "      <td>NaN</td>\n",
       "      <td>...</td>\n",
       "      <td>NaN</td>\n",
       "      <td>NaN</td>\n",
       "      <td>NaN</td>\n",
       "      <td>NaN</td>\n",
       "      <td>NaN</td>\n",
       "      <td>NaN</td>\n",
       "      <td>NaN</td>\n",
       "      <td>NaN</td>\n",
       "      <td>NaN</td>\n",
       "      <td>NaN</td>\n",
       "    </tr>\n",
       "    <tr>\n",
       "      <th>2018-03-01 01:00:00</th>\n",
       "      <td>85</td>\n",
       "      <td>2018</td>\n",
       "      <td>3</td>\n",
       "      <td>1</td>\n",
       "      <td>3</td>\n",
       "      <td>1</td>\n",
       "      <td>124.0</td>\n",
       "      <td>NaN</td>\n",
       "      <td>NaN</td>\n",
       "      <td>NaN</td>\n",
       "      <td>...</td>\n",
       "      <td>NaN</td>\n",
       "      <td>NaN</td>\n",
       "      <td>NaN</td>\n",
       "      <td>NaN</td>\n",
       "      <td>NaN</td>\n",
       "      <td>NaN</td>\n",
       "      <td>NaN</td>\n",
       "      <td>NaN</td>\n",
       "      <td>NaN</td>\n",
       "      <td>NaN</td>\n",
       "    </tr>\n",
       "    <tr>\n",
       "      <th>2018-03-01 02:00:00</th>\n",
       "      <td>71</td>\n",
       "      <td>2018</td>\n",
       "      <td>3</td>\n",
       "      <td>1</td>\n",
       "      <td>3</td>\n",
       "      <td>2</td>\n",
       "      <td>85.0</td>\n",
       "      <td>124.0</td>\n",
       "      <td>NaN</td>\n",
       "      <td>NaN</td>\n",
       "      <td>...</td>\n",
       "      <td>NaN</td>\n",
       "      <td>NaN</td>\n",
       "      <td>NaN</td>\n",
       "      <td>NaN</td>\n",
       "      <td>NaN</td>\n",
       "      <td>NaN</td>\n",
       "      <td>NaN</td>\n",
       "      <td>NaN</td>\n",
       "      <td>NaN</td>\n",
       "      <td>NaN</td>\n",
       "    </tr>\n",
       "    <tr>\n",
       "      <th>2018-03-01 03:00:00</th>\n",
       "      <td>66</td>\n",
       "      <td>2018</td>\n",
       "      <td>3</td>\n",
       "      <td>1</td>\n",
       "      <td>3</td>\n",
       "      <td>3</td>\n",
       "      <td>71.0</td>\n",
       "      <td>85.0</td>\n",
       "      <td>124.0</td>\n",
       "      <td>NaN</td>\n",
       "      <td>...</td>\n",
       "      <td>NaN</td>\n",
       "      <td>NaN</td>\n",
       "      <td>NaN</td>\n",
       "      <td>NaN</td>\n",
       "      <td>NaN</td>\n",
       "      <td>NaN</td>\n",
       "      <td>NaN</td>\n",
       "      <td>NaN</td>\n",
       "      <td>NaN</td>\n",
       "      <td>NaN</td>\n",
       "    </tr>\n",
       "    <tr>\n",
       "      <th>2018-03-01 04:00:00</th>\n",
       "      <td>43</td>\n",
       "      <td>2018</td>\n",
       "      <td>3</td>\n",
       "      <td>1</td>\n",
       "      <td>3</td>\n",
       "      <td>4</td>\n",
       "      <td>66.0</td>\n",
       "      <td>71.0</td>\n",
       "      <td>85.0</td>\n",
       "      <td>124.0</td>\n",
       "      <td>...</td>\n",
       "      <td>NaN</td>\n",
       "      <td>NaN</td>\n",
       "      <td>NaN</td>\n",
       "      <td>NaN</td>\n",
       "      <td>NaN</td>\n",
       "      <td>NaN</td>\n",
       "      <td>NaN</td>\n",
       "      <td>NaN</td>\n",
       "      <td>NaN</td>\n",
       "      <td>NaN</td>\n",
       "    </tr>\n",
       "  </tbody>\n",
       "</table>\n",
       "<p>5 rows × 31 columns</p>\n",
       "</div>"
      ],
      "text/plain": [
       "                     num_orders  year  month  day  dayofweek  hour  lag_1  \\\n",
       "datetime                                                                    \n",
       "2018-03-01 00:00:00         124  2018      3    1          3     0    NaN   \n",
       "2018-03-01 01:00:00          85  2018      3    1          3     1  124.0   \n",
       "2018-03-01 02:00:00          71  2018      3    1          3     2   85.0   \n",
       "2018-03-01 03:00:00          66  2018      3    1          3     3   71.0   \n",
       "2018-03-01 04:00:00          43  2018      3    1          3     4   66.0   \n",
       "\n",
       "                     lag_2  lag_3  lag_4  ...  lag_16  lag_17  lag_18  lag_19  \\\n",
       "datetime                                  ...                                   \n",
       "2018-03-01 00:00:00    NaN    NaN    NaN  ...     NaN     NaN     NaN     NaN   \n",
       "2018-03-01 01:00:00    NaN    NaN    NaN  ...     NaN     NaN     NaN     NaN   \n",
       "2018-03-01 02:00:00  124.0    NaN    NaN  ...     NaN     NaN     NaN     NaN   \n",
       "2018-03-01 03:00:00   85.0  124.0    NaN  ...     NaN     NaN     NaN     NaN   \n",
       "2018-03-01 04:00:00   71.0   85.0  124.0  ...     NaN     NaN     NaN     NaN   \n",
       "\n",
       "                     lag_20  lag_21  lag_22  lag_23  lag_24  rolling_mean  \n",
       "datetime                                                                   \n",
       "2018-03-01 00:00:00     NaN     NaN     NaN     NaN     NaN           NaN  \n",
       "2018-03-01 01:00:00     NaN     NaN     NaN     NaN     NaN           NaN  \n",
       "2018-03-01 02:00:00     NaN     NaN     NaN     NaN     NaN           NaN  \n",
       "2018-03-01 03:00:00     NaN     NaN     NaN     NaN     NaN           NaN  \n",
       "2018-03-01 04:00:00     NaN     NaN     NaN     NaN     NaN           NaN  \n",
       "\n",
       "[5 rows x 31 columns]"
      ]
     },
     "execution_count": 11,
     "metadata": {},
     "output_type": "execute_result"
    }
   ],
   "source": [
    "taxi.head()"
   ]
  },
  {
   "cell_type": "markdown",
   "metadata": {},
   "source": [
    "####  Вывод"
   ]
  },
  {
   "cell_type": "markdown",
   "metadata": {},
   "source": [
    "Индексы отсортированы и данные ресемплерованы по 1 часу. По мимо этого, были добавлены новые признаки, такие как год, месяц, лаги, скользящее среднее и другие. Предобработка данных успешно завершена."
   ]
  },
  {
   "cell_type": "markdown",
   "metadata": {},
   "source": [
    "## Анализ"
   ]
  },
  {
   "cell_type": "markdown",
   "metadata": {},
   "source": [
    "Проанализруем наши данные. Для этого напишем функцию num_feature_plot(), которая будет отрисовывать наши признаки."
   ]
  },
  {
   "cell_type": "code",
   "execution_count": 12,
   "metadata": {},
   "outputs": [],
   "source": [
    "def num_feature_plot(df, num_col):\n",
    "    '''\n",
    "    ФУНКЦИЯ ДЛЯ ОТРИСОВКИ ЧИСЛОВЫХ ПРИЗНАКОВ\n",
    "    на вход получает датафрейм и список числовых колонок\n",
    "    и для каждой колонки строит график boxplot()\n",
    "    '''\n",
    "    plt.figure(figsize=(16, 12))\n",
    "    plt.suptitle('Распределение числовых признаков таблицы', fontsize=14)\n",
    "    plt.subplots_adjust(left=0.13, \n",
    "                    right=0.93, \n",
    "                    top=0.93, \n",
    "                    bottom= 0.27, \n",
    "                    wspace= 0.3, \n",
    "                    hspace=0.3)\n",
    "    c = 1\n",
    "    for column in num_col:\n",
    "        plt.subplot(2, 3, c)\n",
    "        sns.boxplot(data=df, x=column)\n",
    "        c+=1\n",
    "    plt.show() "
   ]
  },
  {
   "cell_type": "code",
   "execution_count": 13,
   "metadata": {},
   "outputs": [
    {
     "data": {
      "text/html": [
       "<div>\n",
       "<style scoped>\n",
       "    .dataframe tbody tr th:only-of-type {\n",
       "        vertical-align: middle;\n",
       "    }\n",
       "\n",
       "    .dataframe tbody tr th {\n",
       "        vertical-align: top;\n",
       "    }\n",
       "\n",
       "    .dataframe thead th {\n",
       "        text-align: right;\n",
       "    }\n",
       "</style>\n",
       "<table border=\"1\" class=\"dataframe\">\n",
       "  <thead>\n",
       "    <tr style=\"text-align: right;\">\n",
       "      <th></th>\n",
       "      <th>num_orders</th>\n",
       "      <th>year</th>\n",
       "      <th>month</th>\n",
       "      <th>day</th>\n",
       "      <th>dayofweek</th>\n",
       "      <th>hour</th>\n",
       "    </tr>\n",
       "  </thead>\n",
       "  <tbody>\n",
       "    <tr>\n",
       "      <th>count</th>\n",
       "      <td>4416.000000</td>\n",
       "      <td>4416.0</td>\n",
       "      <td>4416.000000</td>\n",
       "      <td>4416.000000</td>\n",
       "      <td>4416.000000</td>\n",
       "      <td>4416.00000</td>\n",
       "    </tr>\n",
       "    <tr>\n",
       "      <th>mean</th>\n",
       "      <td>84.422781</td>\n",
       "      <td>2018.0</td>\n",
       "      <td>5.505435</td>\n",
       "      <td>15.836957</td>\n",
       "      <td>3.005435</td>\n",
       "      <td>11.50000</td>\n",
       "    </tr>\n",
       "    <tr>\n",
       "      <th>std</th>\n",
       "      <td>45.023853</td>\n",
       "      <td>0.0</td>\n",
       "      <td>1.713306</td>\n",
       "      <td>8.855229</td>\n",
       "      <td>1.990684</td>\n",
       "      <td>6.92297</td>\n",
       "    </tr>\n",
       "    <tr>\n",
       "      <th>min</th>\n",
       "      <td>0.000000</td>\n",
       "      <td>2018.0</td>\n",
       "      <td>3.000000</td>\n",
       "      <td>1.000000</td>\n",
       "      <td>0.000000</td>\n",
       "      <td>0.00000</td>\n",
       "    </tr>\n",
       "    <tr>\n",
       "      <th>25%</th>\n",
       "      <td>54.000000</td>\n",
       "      <td>2018.0</td>\n",
       "      <td>4.000000</td>\n",
       "      <td>8.000000</td>\n",
       "      <td>1.000000</td>\n",
       "      <td>5.75000</td>\n",
       "    </tr>\n",
       "    <tr>\n",
       "      <th>50%</th>\n",
       "      <td>78.000000</td>\n",
       "      <td>2018.0</td>\n",
       "      <td>5.500000</td>\n",
       "      <td>16.000000</td>\n",
       "      <td>3.000000</td>\n",
       "      <td>11.50000</td>\n",
       "    </tr>\n",
       "    <tr>\n",
       "      <th>75%</th>\n",
       "      <td>107.000000</td>\n",
       "      <td>2018.0</td>\n",
       "      <td>7.000000</td>\n",
       "      <td>23.250000</td>\n",
       "      <td>5.000000</td>\n",
       "      <td>17.25000</td>\n",
       "    </tr>\n",
       "    <tr>\n",
       "      <th>max</th>\n",
       "      <td>462.000000</td>\n",
       "      <td>2018.0</td>\n",
       "      <td>8.000000</td>\n",
       "      <td>31.000000</td>\n",
       "      <td>6.000000</td>\n",
       "      <td>23.00000</td>\n",
       "    </tr>\n",
       "  </tbody>\n",
       "</table>\n",
       "</div>"
      ],
      "text/plain": [
       "        num_orders    year        month          day    dayofweek        hour\n",
       "count  4416.000000  4416.0  4416.000000  4416.000000  4416.000000  4416.00000\n",
       "mean     84.422781  2018.0     5.505435    15.836957     3.005435    11.50000\n",
       "std      45.023853     0.0     1.713306     8.855229     1.990684     6.92297\n",
       "min       0.000000  2018.0     3.000000     1.000000     0.000000     0.00000\n",
       "25%      54.000000  2018.0     4.000000     8.000000     1.000000     5.75000\n",
       "50%      78.000000  2018.0     5.500000    16.000000     3.000000    11.50000\n",
       "75%     107.000000  2018.0     7.000000    23.250000     5.000000    17.25000\n",
       "max     462.000000  2018.0     8.000000    31.000000     6.000000    23.00000"
      ]
     },
     "execution_count": 13,
     "metadata": {},
     "output_type": "execute_result"
    }
   ],
   "source": [
    "taxi[['num_orders', 'year', 'month', 'day', 'dayofweek', 'hour']].describe()"
   ]
  },
  {
   "cell_type": "code",
   "execution_count": 14,
   "metadata": {},
   "outputs": [
    {
     "data": {
      "image/png": "[encoded data removed]",
      "text/plain": [
       "<Figure size 1152x864 with 6 Axes>"
      ]
     },
     "metadata": {
      "needs_background": "light"
     },
     "output_type": "display_data"
    }
   ],
   "source": [
    "num_feature_plot(taxi, ['num_orders', 'year', 'month', 'day', 'dayofweek', 'hour'])"
   ]
  },
  {
   "cell_type": "markdown",
   "metadata": {},
   "source": [
    "Видим, что в среднем на 1 час приходится около 80 заказов. Но встречаются необычные дни, когда заказов 200 и больше. Возможно это праздничные дни, когда люди возвращаются домой, или начало/конец лета, когда люди уезжают/приезжают из отпусков. \n",
    "\n",
    "Данные представлены за только за 2018 год. Поэтому колонку с годом можно удалить, тк она не будет являться инофрмативной для нас. \n",
    "\n",
    "Что касается месяца, то данные находятся в интервале с марта по август.\n",
    "\n",
    "В остальном, у нас присутсвуют все дни месяцев, а так же все часы."
   ]
  },
  {
   "cell_type": "code",
   "execution_count": 15,
   "metadata": {},
   "outputs": [],
   "source": [
    "taxi = taxi.drop('year', axis=1)"
   ]
  },
  {
   "cell_type": "markdown",
   "metadata": {},
   "source": [
    "Теперь нарисуем графики, которые отображают изменение нашего целового признака (количества заказов) от времени (по часу, по дню недели, по дню и по месяцу)"
   ]
  },
  {
   "cell_type": "code",
   "execution_count": 16,
   "metadata": {},
   "outputs": [
    {
     "data": {
      "image/png": "[encoded data removed]",
      "text/plain": [
       "<Figure size 576x576 with 4 Axes>"
      ]
     },
     "metadata": {
      "needs_background": "light"
     },
     "output_type": "display_data"
    }
   ],
   "source": [
    "plt.figure(figsize=(8, 8))\n",
    "plt.suptitle('Зависимость количество заказов от различных признаков', fontsize=14)\n",
    "plt.subplots_adjust(left=0.13, \n",
    "                    right=0.93, \n",
    "                    top=0.93, \n",
    "                    bottom= 0.27, \n",
    "                    wspace= 0.3, \n",
    "                    hspace=0.4)\n",
    "\n",
    "c = 1\n",
    "features = ['hour', 'day', 'month', 'dayofweek']\n",
    "x = ['час', 'день', 'месяц', 'номер дня недели']\n",
    "\n",
    "for feature in features:\n",
    "    plt.subplot(2, 2, c)\n",
    "    sns.lineplot(data=taxi, x =feature, y='num_orders')\n",
    "    plt.ylabel('количество заказов')\n",
    "    plt.xlabel(x[c-1])\n",
    "    c+=1\n",
    "plt.show()    "
   ]
  },
  {
   "cell_type": "markdown",
   "metadata": {},
   "source": [
    "### Тренды и сезонность"
   ]
  },
  {
   "cell_type": "markdown",
   "metadata": {},
   "source": [
    "Также проведем анализ наших данных при помощи модуля statsmodels.tsa.seasonal. Посмотрим на сезонность и тренд."
   ]
  },
  {
   "cell_type": "code",
   "execution_count": 17,
   "metadata": {},
   "outputs": [],
   "source": [
    "decomposed = seasonal_decompose(taxi['num_orders'])"
   ]
  },
  {
   "cell_type": "code",
   "execution_count": 18,
   "metadata": {},
   "outputs": [
    {
     "data": {
      "text/plain": [
       "<AxesSubplot:xlabel='datetime'>"
      ]
     },
     "execution_count": 18,
     "metadata": {},
     "output_type": "execute_result"
    },
    {
     "data": {
      "image/png": "[encoded data removed]",
      "text/plain": [
       "<Figure size 432x288 with 1 Axes>"
      ]
     },
     "metadata": {
      "needs_background": "light"
     },
     "output_type": "display_data"
    }
   ],
   "source": [
    "decomposed.trend['2018-03-01':'2018-08-31'].plot()"
   ]
  },
  {
   "cell_type": "markdown",
   "metadata": {},
   "source": [
    "Присутствует тренд на увелечение числа поездок от марта к августу.\n",
    "\n",
    "Теперь посмотрим на сезонность. Для этого проведем ресемплирование по дню."
   ]
  },
  {
   "cell_type": "code",
   "execution_count": 19,
   "metadata": {},
   "outputs": [],
   "source": [
    "taxi_1d = taxi_0.resample('1d').sum()\n",
    "decomposed_1d = seasonal_decompose(taxi_1d['num_orders'])"
   ]
  },
  {
   "cell_type": "code",
   "execution_count": 20,
   "metadata": {},
   "outputs": [
    {
     "data": {
      "image/png": "[encoded data removed]",
      "text/plain": [
       "<Figure size 1152x288 with 1 Axes>"
      ]
     },
     "metadata": {
      "needs_background": "light"
     },
     "output_type": "display_data"
    }
   ],
   "source": [
    "plt.figure(figsize=(16, 4))\n",
    "decomposed_1d.seasonal.plot()\n",
    "plt.show()"
   ]
  },
  {
   "cell_type": "markdown",
   "metadata": {},
   "source": [
    "Видно, что сезонность меняется внутри месяца, поэтому стоит рассмотреть 1 месяц для лучшего понимания. Возьмем самый последний месяц, тк в это время было самое большое количество  поездок."
   ]
  },
  {
   "cell_type": "code",
   "execution_count": 21,
   "metadata": {
    "scrolled": true
   },
   "outputs": [
    {
     "data": {
      "image/png": "[encoded data removed]",
      "text/plain": [
       "<Figure size 1152x288 with 1 Axes>"
      ]
     },
     "metadata": {
      "needs_background": "light"
     },
     "output_type": "display_data"
    }
   ],
   "source": [
    "plt.figure(figsize=(16, 4))\n",
    "decomposed_1d.seasonal['2018-08-01':'2018-08-31'].plot()\n",
    "plt.show()"
   ]
  },
  {
   "cell_type": "markdown",
   "metadata": {},
   "source": [
    "Присутствует сезонность внутри недели К понедельнику максмальная плотность заказов, потом она падает и снова выходит на пик к пятнице."
   ]
  },
  {
   "cell_type": "markdown",
   "metadata": {},
   "source": [
    "### Вывод"
   ]
  },
  {
   "cell_type": "markdown",
   "metadata": {},
   "source": [
    "Видим, что наибольшее количество заказов приходится на время от 22 до 4. Это ночные заказы. На общественном транспорте добраться сложнее в такое время и альтернатив как правило не остается, поэтому наблюдается повышенный спрос на такси. Самый низкий спрос находится в промежутке с 5 до 7 утра. Возможно в это время меньше рейсов.\n",
    "\n",
    "Количество заказов увеличивается от начала к концу месяца. Если в начале месяца заказов в среднем около 75, то к концу месяца их порядка 95.\n",
    "\n",
    "Также видна зависимость от месяца. С каждым месяцем количество заказов возрастало: от 60 в среднем в марте, до 120 в августе. Это может быть связано с тем, что летом люди чаще летают на самолетах (многие летают в отпуска), а пик приходится на конец лета - август. \n",
    "\n",
    "Касательно дня недели, наибольшее количество заказов приходится на понедельник и пятницу. Это дни можно сапоставить с рабочим графиком. В начале рабочей недели люди улетают в командировки, а в конце недели возвращаются домой.\n"
   ]
  },
  {
   "cell_type": "markdown",
   "metadata": {},
   "source": [
    "## Обучение"
   ]
  },
  {
   "cell_type": "markdown",
   "metadata": {},
   "source": [
    "Для начала разобьем наши данные на обучающую и тестовую выборку в пропорции 90/10."
   ]
  },
  {
   "cell_type": "code",
   "execution_count": 22,
   "metadata": {},
   "outputs": [],
   "source": [
    "train, test = train_test_split(taxi, shuffle=False, test_size=0.1)\n",
    "train = train.dropna()\n",
    "\n",
    "X_train = train.drop(['num_orders'], axis=1)\n",
    "y_train = train['num_orders']\n",
    "X_test = test.drop(['num_orders'], axis=1)\n",
    "y_test = test['num_orders']"
   ]
  },
  {
   "cell_type": "markdown",
   "metadata": {},
   "source": [
    "Создадим пайплайн для кодирования наших признаков. Для этого разделим наши колонки на непрерывные и категориальные."
   ]
  },
  {
   "cell_type": "code",
   "execution_count": 23,
   "metadata": {},
   "outputs": [],
   "source": [
    "# создаём списки с названиями признаков\n",
    "ohe_columns = ['month', 'day', 'dayofweek', 'hour']\n",
    "num_columns = ['lag_1', 'lag_2', 'lag_3', 'lag_4', 'lag_5', 'lag_6', 'rolling_mean']\n",
    "\n",
    "# создаём пайплайн для подготовки признаков из списка ohe_columns: заполнение пропусков и OHE-кодирование\n",
    "# SimpleImputer + OHE\n",
    "ohe_pipe = Pipeline(\n",
    "    [('simpleImputer_ohe', SimpleImputer(missing_values=np.nan, strategy='most_frequent')),\n",
    "     ('ohe', OneHotEncoder(drop='first', handle_unknown='ignore', sparse_output=False))\n",
    "    ]\n",
    "    )\n",
    "\n",
    "# создаём общий пайплайн для подготовки данных\n",
    "data_preprocessor = ColumnTransformer(\n",
    "    [('ohe', ohe_pipe, ohe_columns),   \n",
    "     ('num', MinMaxScaler(), num_columns)\n",
    "    ], \n",
    "    remainder='passthrough'\n",
    ")"
   ]
  },
  {
   "cell_type": "markdown",
   "metadata": {},
   "source": [
    "Теперь создадим пайплайн 'pipe_final', который будет включать в себя пайплайн 'data_preprocessor' по предобработке входных признаков и этап моделирования. А дальше при помощи RandomSearchCV() найдем наиболее подходящую модель с лучшими гиперпараметрами, и высчитаем лучшую метрику RMSE.\n",
    "\n",
    "В качестве моделей будем использовать модели регрессии LinearRegression, RandomForestRegressor, Ridge."
   ]
  },
  {
   "cell_type": "code",
   "execution_count": 24,
   "metadata": {},
   "outputs": [
    {
     "name": "stdout",
     "output_type": "stream",
     "text": [
      "Лучшая модель и её параметры:\n",
      "\n",
      " Pipeline(steps=[('preprocessor',\n",
      "                 ColumnTransformer(remainder='passthrough',\n",
      "                                   transformers=[('ohe',\n",
      "                                                  Pipeline(steps=[('simpleImputer_ohe',\n",
      "                                                                   SimpleImputer(strategy='most_frequent')),\n",
      "                                                                  ('ohe',\n",
      "                                                                   OneHotEncoder(drop='first',\n",
      "                                                                                 handle_unknown='ignore',\n",
      "                                                                                 sparse_output=False))]),\n",
      "                                                  ['month', 'day', 'dayofweek',\n",
      "                                                   'hour']),\n",
      "                                                 ('num', MinMaxScaler(),\n",
      "                                                  ['lag_1', 'lag_2', 'lag_3',\n",
      "                                                   'lag_4', 'lag_5', 'lag_6',\n",
      "                                                   'rolling_mean'])])),\n",
      "                ('models',\n",
      "                 RandomForestRegressor(max_depth=16, max_features=18,\n",
      "                                       min_samples_split=3, n_estimators=77,\n",
      "                                       random_state=42))])\n",
      "\n",
      "Метрика лучшей модели на тренировочной выборке: 25.298864445363094\n"
     ]
    }
   ],
   "source": [
    "pipe_final = Pipeline([\n",
    "    ('preprocessor', data_preprocessor),\n",
    "    ('models',  LinearRegression()\n",
    "    )\n",
    "])\n",
    "param_grid = [\n",
    "  \n",
    "    # словарь для модели LinearRegression()\n",
    "    {\n",
    "        'models': [LinearRegression()],\n",
    "        'preprocessor__num': [StandardScaler(), MinMaxScaler(), 'passthrough']  \n",
    "    },\n",
    "    # словарь для модели  RandomForestRegressor()\n",
    "    {\n",
    "        'models': [RandomForestRegressor(random_state=RANDOM_STATE)],\n",
    "        'models__min_samples_split' : range(2, 20),\n",
    "        'models__max_depth': range(2, 20),\n",
    "        'models__max_features': range(2, 20),\n",
    "        'models__n_estimators': range(1, 100),\n",
    "        'preprocessor__num': [StandardScaler(), MinMaxScaler(), 'passthrough']\n",
    "    },\n",
    "\n",
    "        # словарь для модели Ridge()\n",
    "    {\n",
    "        'models': [Ridge(random_state=RANDOM_STATE)],\n",
    "        'models__alpha' : [1e-15,1e-10,1e-8,1e-3,1e-2,1,5,10,20,30,35,40,45,50,55,100],\n",
    "        'preprocessor__num': [StandardScaler(), MinMaxScaler(), 'passthrough']\n",
    "    }\n",
    "]\n",
    "randomized_search = RandomizedSearchCV(\n",
    "    pipe_final, \n",
    "    param_grid, \n",
    "    cv=TimeSeriesSplit(n_splits=5),\n",
    "    n_iter=40,\n",
    "    scoring='neg_root_mean_squared_error',\n",
    "    random_state=RANDOM_STATE,\n",
    "    n_jobs=-1\n",
    ")\n",
    "randomized_search.fit(X_train, y_train)\n",
    "\n",
    "print('Лучшая модель и её параметры:\\n\\n', randomized_search.best_estimator_)\n",
    "print()\n",
    "print ('Метрика лучшей модели на тренировочной выборке:', np.abs(randomized_search.best_score_))"
   ]
  },
  {
   "cell_type": "markdown",
   "metadata": {},
   "source": [
    "## Тестирование"
   ]
  },
  {
   "cell_type": "markdown",
   "metadata": {},
   "source": [
    "Теперь, когда лучшая модель найдена, сделаем прогноз на тестовых данных и посмотрим на метрику RMSE"
   ]
  },
  {
   "cell_type": "code",
   "execution_count": 25,
   "metadata": {},
   "outputs": [
    {
     "name": "stdout",
     "output_type": "stream",
     "text": [
      "Метрика RMSE на тестовой выборке: 43.00104379247978\n"
     ]
    }
   ],
   "source": [
    "y_test_pred = randomized_search.predict(X_test)\n",
    "\n",
    "print(f'Метрика RMSE на тестовой выборке: {mean_squared_error(y_test, y_test_pred)**0.5}')"
   ]
  },
  {
   "cell_type": "markdown",
   "metadata": {},
   "source": [
    "Метрика получилось 43, что является хорошим результатом. Для наглядности визиуализируем наши предсказанные значения и тестовые, чтобы понимать точность модели.\n",
    "\n",
    "Для этого создадим датафрейм, в котором будут тестовые данные и предсказанные."
   ]
  },
  {
   "cell_type": "code",
   "execution_count": 26,
   "metadata": {},
   "outputs": [],
   "source": [
    "data_pred = pd.DataFrame({'test': np.array(y_test), \n",
    "                   'pred': np.array(y_test_pred)\n",
    "                   }, index=y_test.index)"
   ]
  },
  {
   "cell_type": "code",
   "execution_count": 27,
   "metadata": {},
   "outputs": [
    {
     "data": {
      "image/png": "[encoded data removed]",
      "text/plain": [
       "<Figure size 1152x576 with 1 Axes>"
      ]
     },
     "metadata": {
      "needs_background": "light"
     },
     "output_type": "display_data"
    }
   ],
   "source": [
    "plt.figure(figsize=(16, 8))\n",
    "sns.lineplot(data=data_pred)\n",
    "plt.title('Предсказанные и тестовые значения количества заказов в час')\n",
    "plt.show()"
   ]
  },
  {
   "cell_type": "markdown",
   "metadata": {},
   "source": [
    "Видно, что модель близка к истинным значениям, но немного занижает их. Это связанно с тем, что модель обучалась на данных преыдущих месяцев, где количество заказов было меньше. И мы наблюдали тренд роста по месяцам. Соответсвенно в последнем месяце самые высокие значения."
   ]
  },
  {
   "cell_type": "markdown",
   "metadata": {},
   "source": [
    "###  Вывод"
   ]
  },
  {
   "cell_type": "markdown",
   "metadata": {},
   "source": [
    "Мы успешно создали модель для прогнозирования заказов на следующий час. Метрика RMSE составила около 43, что является допуском от заказчика (<=48).\n",
    "Лучше всего с данной задачей справился RandomForestRegressor, так как в признаках присутсвуют не только непрерывные, но и категориальные."
   ]
  }
 ],
 "metadata": {
  "ExecuteTimeLog": [
   {
    "duration": 7275,
    "start_time": "2025-02-19T19:08:47.315Z"
   },
   {
    "duration": 1738,
    "start_time": "2025-02-19T19:08:54.592Z"
   },
   {
    "duration": 0,
    "start_time": "2025-02-19T19:08:56.331Z"
   },
   {
    "duration": 0,
    "start_time": "2025-02-19T19:08:56.333Z"
   },
   {
    "duration": 0,
    "start_time": "2025-02-19T19:08:56.334Z"
   },
   {
    "duration": 0,
    "start_time": "2025-02-19T19:08:56.335Z"
   },
   {
    "duration": 0,
    "start_time": "2025-02-19T19:08:56.336Z"
   },
   {
    "duration": 0,
    "start_time": "2025-02-19T19:08:56.337Z"
   },
   {
    "duration": 0,
    "start_time": "2025-02-19T19:08:56.338Z"
   },
   {
    "duration": 0,
    "start_time": "2025-02-19T19:08:56.339Z"
   },
   {
    "duration": 0,
    "start_time": "2025-02-19T19:08:56.340Z"
   },
   {
    "duration": 0,
    "start_time": "2025-02-19T19:08:56.341Z"
   },
   {
    "duration": 0,
    "start_time": "2025-02-19T19:08:56.342Z"
   },
   {
    "duration": 0,
    "start_time": "2025-02-19T19:08:56.343Z"
   },
   {
    "duration": 0,
    "start_time": "2025-02-19T19:08:56.344Z"
   },
   {
    "duration": 0,
    "start_time": "2025-02-19T19:08:56.345Z"
   },
   {
    "duration": 0,
    "start_time": "2025-02-19T19:08:56.346Z"
   },
   {
    "duration": 0,
    "start_time": "2025-02-19T19:08:56.347Z"
   },
   {
    "duration": 0,
    "start_time": "2025-02-19T19:08:56.348Z"
   },
   {
    "duration": 1,
    "start_time": "2025-02-19T19:08:56.349Z"
   },
   {
    "duration": 4574,
    "start_time": "2025-02-19T19:09:02.539Z"
   },
   {
    "duration": 1455,
    "start_time": "2025-02-19T19:09:07.116Z"
   },
   {
    "duration": 0,
    "start_time": "2025-02-19T19:09:08.574Z"
   },
   {
    "duration": 0,
    "start_time": "2025-02-19T19:09:08.575Z"
   },
   {
    "duration": 0,
    "start_time": "2025-02-19T19:09:08.577Z"
   },
   {
    "duration": 0,
    "start_time": "2025-02-19T19:09:08.578Z"
   },
   {
    "duration": 0,
    "start_time": "2025-02-19T19:09:08.579Z"
   },
   {
    "duration": 0,
    "start_time": "2025-02-19T19:09:08.581Z"
   },
   {
    "duration": 0,
    "start_time": "2025-02-19T19:09:08.582Z"
   },
   {
    "duration": 0,
    "start_time": "2025-02-19T19:09:08.583Z"
   },
   {
    "duration": 0,
    "start_time": "2025-02-19T19:09:08.584Z"
   },
   {
    "duration": 0,
    "start_time": "2025-02-19T19:09:08.585Z"
   },
   {
    "duration": 0,
    "start_time": "2025-02-19T19:09:08.586Z"
   },
   {
    "duration": 0,
    "start_time": "2025-02-19T19:09:08.587Z"
   },
   {
    "duration": 0,
    "start_time": "2025-02-19T19:09:08.610Z"
   },
   {
    "duration": 1,
    "start_time": "2025-02-19T19:09:08.611Z"
   },
   {
    "duration": 0,
    "start_time": "2025-02-19T19:09:08.614Z"
   },
   {
    "duration": 1,
    "start_time": "2025-02-19T19:09:08.616Z"
   },
   {
    "duration": 0,
    "start_time": "2025-02-19T19:09:08.618Z"
   },
   {
    "duration": 0,
    "start_time": "2025-02-19T19:09:08.620Z"
   },
   {
    "duration": 3152,
    "start_time": "2025-02-19T19:09:14.612Z"
   },
   {
    "duration": 1420,
    "start_time": "2025-02-19T19:09:17.766Z"
   },
   {
    "duration": 0,
    "start_time": "2025-02-19T19:09:19.188Z"
   },
   {
    "duration": 0,
    "start_time": "2025-02-19T19:09:19.189Z"
   },
   {
    "duration": 0,
    "start_time": "2025-02-19T19:09:19.191Z"
   },
   {
    "duration": 0,
    "start_time": "2025-02-19T19:09:19.192Z"
   },
   {
    "duration": 0,
    "start_time": "2025-02-19T19:09:19.194Z"
   },
   {
    "duration": 1,
    "start_time": "2025-02-19T19:09:19.209Z"
   },
   {
    "duration": 0,
    "start_time": "2025-02-19T19:09:19.211Z"
   },
   {
    "duration": 0,
    "start_time": "2025-02-19T19:09:19.212Z"
   },
   {
    "duration": 0,
    "start_time": "2025-02-19T19:09:19.214Z"
   },
   {
    "duration": 0,
    "start_time": "2025-02-19T19:09:19.215Z"
   },
   {
    "duration": 0,
    "start_time": "2025-02-19T19:09:19.216Z"
   },
   {
    "duration": 0,
    "start_time": "2025-02-19T19:09:19.218Z"
   },
   {
    "duration": 0,
    "start_time": "2025-02-19T19:09:19.220Z"
   },
   {
    "duration": 0,
    "start_time": "2025-02-19T19:09:19.221Z"
   },
   {
    "duration": 0,
    "start_time": "2025-02-19T19:09:19.222Z"
   },
   {
    "duration": 1,
    "start_time": "2025-02-19T19:09:19.223Z"
   },
   {
    "duration": 0,
    "start_time": "2025-02-19T19:09:19.225Z"
   },
   {
    "duration": 0,
    "start_time": "2025-02-19T19:09:19.226Z"
   },
   {
    "duration": 3366,
    "start_time": "2025-02-19T19:09:43.683Z"
   },
   {
    "duration": 1280,
    "start_time": "2025-02-19T19:09:47.051Z"
   },
   {
    "duration": 3,
    "start_time": "2025-02-19T19:09:48.333Z"
   },
   {
    "duration": 159,
    "start_time": "2025-02-19T19:09:48.337Z"
   },
   {
    "duration": 10,
    "start_time": "2025-02-19T19:09:48.498Z"
   },
   {
    "duration": 14,
    "start_time": "2025-02-19T19:09:48.510Z"
   },
   {
    "duration": 3,
    "start_time": "2025-02-19T19:09:48.526Z"
   },
   {
    "duration": 13,
    "start_time": "2025-02-19T19:09:48.530Z"
   },
   {
    "duration": 123,
    "start_time": "2025-02-19T19:09:48.545Z"
   },
   {
    "duration": 35,
    "start_time": "2025-02-19T19:09:48.669Z"
   },
   {
    "duration": 21,
    "start_time": "2025-02-19T19:09:48.706Z"
   },
   {
    "duration": 6,
    "start_time": "2025-02-19T19:09:48.729Z"
   },
   {
    "duration": 33,
    "start_time": "2025-02-19T19:09:48.737Z"
   },
   {
    "duration": 540,
    "start_time": "2025-02-19T19:09:48.773Z"
   },
   {
    "duration": 6,
    "start_time": "2025-02-19T19:09:49.315Z"
   },
   {
    "duration": 271,
    "start_time": "2025-02-19T19:09:49.323Z"
   },
   {
    "duration": 0,
    "start_time": "2025-02-19T19:09:49.595Z"
   },
   {
    "duration": 0,
    "start_time": "2025-02-19T19:09:49.596Z"
   },
   {
    "duration": 0,
    "start_time": "2025-02-19T19:09:49.597Z"
   },
   {
    "duration": 0,
    "start_time": "2025-02-19T19:09:49.598Z"
   },
   {
    "duration": 1863,
    "start_time": "2025-02-19T19:10:17.599Z"
   },
   {
    "duration": 3570,
    "start_time": "2025-02-19T19:10:24.396Z"
   },
   {
    "duration": 1308,
    "start_time": "2025-02-19T19:10:27.969Z"
   },
   {
    "duration": 2,
    "start_time": "2025-02-19T19:10:29.279Z"
   },
   {
    "duration": 48,
    "start_time": "2025-02-19T19:10:29.283Z"
   },
   {
    "duration": 10,
    "start_time": "2025-02-19T19:10:29.333Z"
   },
   {
    "duration": 10,
    "start_time": "2025-02-19T19:10:29.345Z"
   },
   {
    "duration": 3,
    "start_time": "2025-02-19T19:10:29.357Z"
   },
   {
    "duration": 21,
    "start_time": "2025-02-19T19:10:29.361Z"
   },
   {
    "duration": 28,
    "start_time": "2025-02-19T19:10:29.384Z"
   },
   {
    "duration": 24,
    "start_time": "2025-02-19T19:10:29.415Z"
   },
   {
    "duration": 14,
    "start_time": "2025-02-19T19:10:29.440Z"
   },
   {
    "duration": 5,
    "start_time": "2025-02-19T19:10:29.455Z"
   },
   {
    "duration": 50,
    "start_time": "2025-02-19T19:10:29.461Z"
   },
   {
    "duration": 537,
    "start_time": "2025-02-19T19:10:29.514Z"
   },
   {
    "duration": 4,
    "start_time": "2025-02-19T19:10:30.053Z"
   },
   {
    "duration": 1865,
    "start_time": "2025-02-19T19:10:30.059Z"
   },
   {
    "duration": 10,
    "start_time": "2025-02-19T19:10:31.927Z"
   },
   {
    "duration": 20,
    "start_time": "2025-02-19T19:10:31.939Z"
   },
   {
    "duration": 46743,
    "start_time": "2025-02-19T19:10:31.961Z"
   },
   {
    "duration": 178,
    "start_time": "2025-02-19T19:11:18.709Z"
   },
   {
    "duration": 19,
    "start_time": "2025-02-19T19:11:27.283Z"
   },
   {
    "duration": 3072,
    "start_time": "2025-02-19T19:12:49.591Z"
   },
   {
    "duration": 1275,
    "start_time": "2025-02-19T19:12:52.666Z"
   },
   {
    "duration": 3,
    "start_time": "2025-02-19T19:12:53.943Z"
   },
   {
    "duration": 41,
    "start_time": "2025-02-19T19:12:53.947Z"
   },
   {
    "duration": 19,
    "start_time": "2025-02-19T19:12:53.991Z"
   },
   {
    "duration": 11,
    "start_time": "2025-02-19T19:12:54.012Z"
   },
   {
    "duration": 3,
    "start_time": "2025-02-19T19:12:54.025Z"
   },
   {
    "duration": 12,
    "start_time": "2025-02-19T19:12:54.030Z"
   },
   {
    "duration": 7,
    "start_time": "2025-02-19T19:12:54.043Z"
   },
   {
    "duration": 16,
    "start_time": "2025-02-19T19:12:54.051Z"
   },
   {
    "duration": 53,
    "start_time": "2025-02-19T19:12:54.069Z"
   },
   {
    "duration": 5,
    "start_time": "2025-02-19T19:12:54.125Z"
   },
   {
    "duration": 39,
    "start_time": "2025-02-19T19:12:54.132Z"
   },
   {
    "duration": 530,
    "start_time": "2025-02-19T19:12:54.174Z"
   },
   {
    "duration": 4,
    "start_time": "2025-02-19T19:12:54.709Z"
   },
   {
    "duration": 1787,
    "start_time": "2025-02-19T19:12:54.715Z"
   },
   {
    "duration": 12,
    "start_time": "2025-02-19T19:12:56.504Z"
   },
   {
    "duration": 6,
    "start_time": "2025-02-19T19:12:56.518Z"
   },
   {
    "duration": 43601,
    "start_time": "2025-02-19T19:12:56.526Z"
   },
   {
    "duration": 20,
    "start_time": "2025-02-19T19:13:40.128Z"
   },
   {
    "duration": 51,
    "start_time": "2025-02-20T06:39:54.711Z"
   },
   {
    "duration": 1881,
    "start_time": "2025-02-20T06:42:19.408Z"
   },
   {
    "duration": 87,
    "start_time": "2025-02-20T06:43:38.960Z"
   },
   {
    "duration": 8,
    "start_time": "2025-02-20T06:43:50.432Z"
   },
   {
    "duration": 7398,
    "start_time": "2025-02-20T06:43:58.578Z"
   },
   {
    "duration": 1431,
    "start_time": "2025-02-20T06:44:05.979Z"
   },
   {
    "duration": 3,
    "start_time": "2025-02-20T06:44:07.412Z"
   },
   {
    "duration": 54,
    "start_time": "2025-02-20T06:44:07.417Z"
   },
   {
    "duration": 12,
    "start_time": "2025-02-20T06:44:07.473Z"
   },
   {
    "duration": 11,
    "start_time": "2025-02-20T06:44:07.487Z"
   },
   {
    "duration": 6,
    "start_time": "2025-02-20T06:44:07.500Z"
   },
   {
    "duration": 18,
    "start_time": "2025-02-20T06:44:07.508Z"
   },
   {
    "duration": 8,
    "start_time": "2025-02-20T06:44:07.528Z"
   },
   {
    "duration": 79,
    "start_time": "2025-02-20T06:44:07.538Z"
   },
   {
    "duration": 11,
    "start_time": "2025-02-20T06:44:07.619Z"
   },
   {
    "duration": 6,
    "start_time": "2025-02-20T06:44:07.631Z"
   },
   {
    "duration": 142,
    "start_time": "2025-02-20T06:44:07.638Z"
   },
   {
    "duration": 0,
    "start_time": "2025-02-20T06:44:07.782Z"
   },
   {
    "duration": 0,
    "start_time": "2025-02-20T06:44:07.783Z"
   },
   {
    "duration": 0,
    "start_time": "2025-02-20T06:44:07.785Z"
   },
   {
    "duration": 0,
    "start_time": "2025-02-20T06:44:07.786Z"
   },
   {
    "duration": 0,
    "start_time": "2025-02-20T06:44:07.787Z"
   },
   {
    "duration": 0,
    "start_time": "2025-02-20T06:44:07.788Z"
   },
   {
    "duration": 0,
    "start_time": "2025-02-20T06:44:07.789Z"
   },
   {
    "duration": 0,
    "start_time": "2025-02-20T06:44:07.790Z"
   },
   {
    "duration": 3257,
    "start_time": "2025-02-20T06:46:14.331Z"
   },
   {
    "duration": 1357,
    "start_time": "2025-02-20T06:46:17.591Z"
   },
   {
    "duration": 3,
    "start_time": "2025-02-20T06:46:18.950Z"
   },
   {
    "duration": 46,
    "start_time": "2025-02-20T06:46:18.956Z"
   },
   {
    "duration": 11,
    "start_time": "2025-02-20T06:46:19.003Z"
   },
   {
    "duration": 17,
    "start_time": "2025-02-20T06:46:19.015Z"
   },
   {
    "duration": 80,
    "start_time": "2025-02-20T06:46:19.034Z"
   },
   {
    "duration": 27,
    "start_time": "2025-02-20T06:46:19.116Z"
   },
   {
    "duration": 8,
    "start_time": "2025-02-20T06:46:19.145Z"
   },
   {
    "duration": 28,
    "start_time": "2025-02-20T06:46:19.156Z"
   },
   {
    "duration": 28,
    "start_time": "2025-02-20T06:46:19.186Z"
   },
   {
    "duration": 5,
    "start_time": "2025-02-20T06:46:19.215Z"
   },
   {
    "duration": 35,
    "start_time": "2025-02-20T06:46:19.222Z"
   },
   {
    "duration": 511,
    "start_time": "2025-02-20T06:46:19.259Z"
   },
   {
    "duration": 5,
    "start_time": "2025-02-20T06:46:19.771Z"
   },
   {
    "duration": 2005,
    "start_time": "2025-02-20T06:46:19.777Z"
   },
   {
    "duration": 129,
    "start_time": "2025-02-20T06:46:21.784Z"
   },
   {
    "duration": 0,
    "start_time": "2025-02-20T06:46:21.915Z"
   },
   {
    "duration": 0,
    "start_time": "2025-02-20T06:46:21.916Z"
   },
   {
    "duration": 0,
    "start_time": "2025-02-20T06:46:21.918Z"
   },
   {
    "duration": 0,
    "start_time": "2025-02-20T06:46:21.919Z"
   },
   {
    "duration": 6,
    "start_time": "2025-02-20T06:46:48.465Z"
   },
   {
    "duration": 229,
    "start_time": "2025-02-20T06:47:04.601Z"
   },
   {
    "duration": 212,
    "start_time": "2025-02-20T06:47:18.065Z"
   },
   {
    "duration": 244,
    "start_time": "2025-02-20T06:48:10.712Z"
   },
   {
    "duration": 151,
    "start_time": "2025-02-20T06:48:41.745Z"
   },
   {
    "duration": 155,
    "start_time": "2025-02-20T06:53:04.179Z"
   },
   {
    "duration": 152,
    "start_time": "2025-02-20T06:53:14.706Z"
   },
   {
    "duration": 213,
    "start_time": "2025-02-20T06:54:11.251Z"
   },
   {
    "duration": 304,
    "start_time": "2025-02-20T06:56:01.894Z"
   },
   {
    "duration": 3635,
    "start_time": "2025-02-20T06:56:22.251Z"
   },
   {
    "duration": 29,
    "start_time": "2025-02-20T06:56:54.667Z"
   },
   {
    "duration": 28,
    "start_time": "2025-02-20T06:57:21.411Z"
   },
   {
    "duration": 206,
    "start_time": "2025-02-20T06:57:42.867Z"
   },
   {
    "duration": 208,
    "start_time": "2025-02-20T06:58:14.499Z"
   },
   {
    "duration": 204,
    "start_time": "2025-02-20T07:01:26.590Z"
   },
   {
    "duration": 322,
    "start_time": "2025-02-20T07:01:56.195Z"
   },
   {
    "duration": 234,
    "start_time": "2025-02-20T07:02:02.701Z"
   },
   {
    "duration": 155,
    "start_time": "2025-02-20T07:02:42.191Z"
   },
   {
    "duration": 231,
    "start_time": "2025-02-20T07:02:58.028Z"
   },
   {
    "duration": 17,
    "start_time": "2025-02-20T07:04:26.693Z"
   },
   {
    "duration": 27,
    "start_time": "2025-02-20T07:04:50.565Z"
   },
   {
    "duration": 173,
    "start_time": "2025-02-20T07:05:19.229Z"
   },
   {
    "duration": 220,
    "start_time": "2025-02-20T07:05:44.302Z"
   },
   {
    "duration": 8,
    "start_time": "2025-02-20T07:07:22.470Z"
   },
   {
    "duration": 8,
    "start_time": "2025-02-20T07:07:37.694Z"
   },
   {
    "duration": 229,
    "start_time": "2025-02-20T07:07:42.941Z"
   },
   {
    "duration": 248,
    "start_time": "2025-02-20T07:08:25.998Z"
   },
   {
    "duration": 210,
    "start_time": "2025-02-20T07:36:29.480Z"
   },
   {
    "duration": 12,
    "start_time": "2025-02-20T07:45:04.901Z"
   },
   {
    "duration": 13,
    "start_time": "2025-02-20T07:45:15.988Z"
   },
   {
    "duration": 5,
    "start_time": "2025-02-20T07:45:30.074Z"
   },
   {
    "duration": 3227,
    "start_time": "2025-02-20T07:52:05.691Z"
   },
   {
    "duration": 1394,
    "start_time": "2025-02-20T07:52:08.920Z"
   },
   {
    "duration": 3,
    "start_time": "2025-02-20T07:52:10.316Z"
   },
   {
    "duration": 44,
    "start_time": "2025-02-20T07:52:10.321Z"
   },
   {
    "duration": 13,
    "start_time": "2025-02-20T07:52:10.367Z"
   },
   {
    "duration": 39,
    "start_time": "2025-02-20T07:52:10.382Z"
   },
   {
    "duration": 43,
    "start_time": "2025-02-20T07:52:10.423Z"
   },
   {
    "duration": 9,
    "start_time": "2025-02-20T07:52:10.468Z"
   },
   {
    "duration": 8,
    "start_time": "2025-02-20T07:52:10.479Z"
   },
   {
    "duration": 30,
    "start_time": "2025-02-20T07:52:10.489Z"
   },
   {
    "duration": 27,
    "start_time": "2025-02-20T07:52:10.521Z"
   },
   {
    "duration": 5,
    "start_time": "2025-02-20T07:52:10.551Z"
   },
   {
    "duration": 34,
    "start_time": "2025-02-20T07:52:10.558Z"
   },
   {
    "duration": 538,
    "start_time": "2025-02-20T07:52:10.617Z"
   },
   {
    "duration": 6,
    "start_time": "2025-02-20T07:52:11.157Z"
   },
   {
    "duration": 1994,
    "start_time": "2025-02-20T07:52:11.165Z"
   },
   {
    "duration": 10,
    "start_time": "2025-02-20T07:52:13.161Z"
   },
   {
    "duration": 252,
    "start_time": "2025-02-20T07:52:13.173Z"
   },
   {
    "duration": 10,
    "start_time": "2025-02-20T07:52:13.427Z"
   },
   {
    "duration": 258,
    "start_time": "2025-02-20T07:52:13.439Z"
   },
   {
    "duration": 239,
    "start_time": "2025-02-20T07:52:13.699Z"
   },
   {
    "duration": 11,
    "start_time": "2025-02-20T07:52:13.940Z"
   },
   {
    "duration": 5,
    "start_time": "2025-02-20T07:52:13.952Z"
   },
   {
    "duration": 47837,
    "start_time": "2025-02-20T07:52:13.959Z"
   },
   {
    "duration": 30,
    "start_time": "2025-02-20T07:53:01.798Z"
   },
   {
    "duration": 7,
    "start_time": "2025-02-20T08:02:05.024Z"
   },
   {
    "duration": 9,
    "start_time": "2025-02-20T08:02:21.153Z"
   },
   {
    "duration": 136,
    "start_time": "2025-02-20T08:02:50.561Z"
   },
   {
    "duration": 1849,
    "start_time": "2025-02-20T08:03:46.674Z"
   },
   {
    "duration": 1673,
    "start_time": "2025-02-20T08:04:02.713Z"
   },
   {
    "duration": 6,
    "start_time": "2025-02-20T08:04:07.266Z"
   },
   {
    "duration": 5,
    "start_time": "2025-02-20T08:04:19.290Z"
   },
   {
    "duration": 1979,
    "start_time": "2025-02-20T08:04:30.234Z"
   },
   {
    "duration": 158,
    "start_time": "2025-02-20T08:04:59.682Z"
   },
   {
    "duration": 117,
    "start_time": "2025-02-20T08:05:11.427Z"
   },
   {
    "duration": 144,
    "start_time": "2025-02-20T08:05:19.354Z"
   },
   {
    "duration": 5,
    "start_time": "2025-02-20T08:17:43.066Z"
   },
   {
    "duration": 386,
    "start_time": "2025-02-20T08:17:57.015Z"
   },
   {
    "duration": 231,
    "start_time": "2025-02-20T08:25:50.968Z"
   },
   {
    "duration": 275,
    "start_time": "2025-02-20T08:25:53.953Z"
   },
   {
    "duration": 4,
    "start_time": "2025-02-20T08:36:34.012Z"
   },
   {
    "duration": 10,
    "start_time": "2025-02-20T08:36:40.483Z"
   },
   {
    "duration": 5,
    "start_time": "2025-02-20T08:36:57.589Z"
   },
   {
    "duration": 15,
    "start_time": "2025-02-20T08:36:59.590Z"
   },
   {
    "duration": 20,
    "start_time": "2025-02-20T08:38:03.725Z"
   },
   {
    "duration": 358,
    "start_time": "2025-02-20T08:38:11.989Z"
   },
   {
    "duration": 396,
    "start_time": "2025-02-20T08:43:17.278Z"
   },
   {
    "duration": 12,
    "start_time": "2025-02-20T08:49:50.904Z"
   },
   {
    "duration": 4,
    "start_time": "2025-02-20T08:50:00.240Z"
   },
   {
    "duration": 314,
    "start_time": "2025-02-20T08:50:01.128Z"
   },
   {
    "duration": 3021,
    "start_time": "2025-02-20T09:25:17.762Z"
   },
   {
    "duration": 1307,
    "start_time": "2025-02-20T09:25:20.785Z"
   },
   {
    "duration": 3,
    "start_time": "2025-02-20T09:25:22.094Z"
   },
   {
    "duration": 91,
    "start_time": "2025-02-20T09:25:22.099Z"
   },
   {
    "duration": 10,
    "start_time": "2025-02-20T09:25:22.192Z"
   },
   {
    "duration": 11,
    "start_time": "2025-02-20T09:25:22.204Z"
   },
   {
    "duration": 2,
    "start_time": "2025-02-20T09:25:22.217Z"
   },
   {
    "duration": 8,
    "start_time": "2025-02-20T09:25:22.221Z"
   },
   {
    "duration": 6,
    "start_time": "2025-02-20T09:25:22.231Z"
   },
   {
    "duration": 173,
    "start_time": "2025-02-20T09:25:22.239Z"
   },
   {
    "duration": 21,
    "start_time": "2025-02-20T09:25:22.414Z"
   },
   {
    "duration": 4,
    "start_time": "2025-02-20T09:25:22.437Z"
   },
   {
    "duration": 25,
    "start_time": "2025-02-20T09:25:22.442Z"
   },
   {
    "duration": 486,
    "start_time": "2025-02-20T09:25:22.469Z"
   },
   {
    "duration": 4,
    "start_time": "2025-02-20T09:25:22.957Z"
   },
   {
    "duration": 1834,
    "start_time": "2025-02-20T09:25:22.963Z"
   },
   {
    "duration": 14,
    "start_time": "2025-02-20T09:25:24.799Z"
   },
   {
    "duration": 223,
    "start_time": "2025-02-20T09:25:24.815Z"
   },
   {
    "duration": 8,
    "start_time": "2025-02-20T09:25:25.041Z"
   },
   {
    "duration": 265,
    "start_time": "2025-02-20T09:25:25.051Z"
   },
   {
    "duration": 206,
    "start_time": "2025-02-20T09:25:25.318Z"
   },
   {
    "duration": 10,
    "start_time": "2025-02-20T09:25:25.526Z"
   },
   {
    "duration": 4,
    "start_time": "2025-02-20T09:25:25.538Z"
   },
   {
    "duration": 47482,
    "start_time": "2025-02-20T09:25:25.543Z"
   },
   {
    "duration": 20,
    "start_time": "2025-02-20T09:26:13.027Z"
   },
   {
    "duration": 70,
    "start_time": "2025-02-20T09:26:13.049Z"
   },
   {
    "duration": 411,
    "start_time": "2025-02-20T09:26:13.122Z"
   },
   {
    "duration": 3149,
    "start_time": "2025-02-20T09:27:39.625Z"
   },
   {
    "duration": 1297,
    "start_time": "2025-02-20T09:27:42.777Z"
   },
   {
    "duration": 3,
    "start_time": "2025-02-20T09:27:44.076Z"
   },
   {
    "duration": 90,
    "start_time": "2025-02-20T09:27:44.082Z"
   },
   {
    "duration": 12,
    "start_time": "2025-02-20T09:27:44.173Z"
   },
   {
    "duration": 10,
    "start_time": "2025-02-20T09:27:44.186Z"
   },
   {
    "duration": 3,
    "start_time": "2025-02-20T09:27:44.197Z"
   },
   {
    "duration": 10,
    "start_time": "2025-02-20T09:27:44.202Z"
   },
   {
    "duration": 7,
    "start_time": "2025-02-20T09:27:44.213Z"
   },
   {
    "duration": 27,
    "start_time": "2025-02-20T09:27:44.222Z"
   },
   {
    "duration": 22,
    "start_time": "2025-02-20T09:27:44.250Z"
   },
   {
    "duration": 91,
    "start_time": "2025-02-20T09:27:44.274Z"
   },
   {
    "duration": 29,
    "start_time": "2025-02-20T09:27:44.366Z"
   },
   {
    "duration": 473,
    "start_time": "2025-02-20T09:27:44.396Z"
   },
   {
    "duration": 4,
    "start_time": "2025-02-20T09:27:44.871Z"
   },
   {
    "duration": 1883,
    "start_time": "2025-02-20T09:27:44.877Z"
   },
   {
    "duration": 6,
    "start_time": "2025-02-20T09:27:46.762Z"
   },
   {
    "duration": 236,
    "start_time": "2025-02-20T09:27:46.769Z"
   },
   {
    "duration": 13,
    "start_time": "2025-02-20T09:27:47.007Z"
   },
   {
    "duration": 226,
    "start_time": "2025-02-20T09:27:47.021Z"
   },
   {
    "duration": 227,
    "start_time": "2025-02-20T09:27:47.249Z"
   },
   {
    "duration": 9,
    "start_time": "2025-02-20T09:27:47.477Z"
   },
   {
    "duration": 4,
    "start_time": "2025-02-20T09:27:47.488Z"
   },
   {
    "duration": 47278,
    "start_time": "2025-02-20T09:27:47.493Z"
   },
   {
    "duration": 21,
    "start_time": "2025-02-20T09:28:34.773Z"
   },
   {
    "duration": 20,
    "start_time": "2025-02-20T09:28:34.796Z"
   },
   {
    "duration": 405,
    "start_time": "2025-02-20T09:28:34.818Z"
   }
  ],
  "kernelspec": {
   "display_name": "Python 3 (ipykernel)",
   "language": "python",
   "name": "python3"
  },
  "language_info": {
   "codemirror_mode": {
    "name": "ipython",
    "version": 3
   },
   "file_extension": ".py",
   "mimetype": "text/x-python",
   "name": "python",
   "nbconvert_exporter": "python",
   "pygments_lexer": "ipython3",
   "version": "3.12.4"
  },
  "toc": {
   "base_numbering": 1,
   "nav_menu": {},
   "number_sections": true,
   "sideBar": true,
   "skip_h1_title": true,
   "title_cell": "Содержание",
   "title_sidebar": "Contents",
   "toc_cell": true,
   "toc_position": {},
   "toc_section_display": true,
   "toc_window_display": true
  }
 },
 "nbformat": 4,
 "nbformat_minor": 4
}
