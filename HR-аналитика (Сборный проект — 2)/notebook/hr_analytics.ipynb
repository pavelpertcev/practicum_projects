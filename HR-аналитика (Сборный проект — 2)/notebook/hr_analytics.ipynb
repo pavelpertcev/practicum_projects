{
 "cells": [
  {
   "cell_type": "markdown",
   "id": "8eb38163-6090-491e-b8d8-9f4b7a146c11",
   "metadata": {},
   "source": [
    "# HR-аналитика (Сборный проект — 2)"
   ]
  },
  {
   "cell_type": "markdown",
   "id": "bc46d62a-1279-49b8-827b-a88751b9901f",
   "metadata": {},
   "source": [
    "В данном проекте мы поможем компании на основе предоставленных данных определить уровень удовлетворенности сотрудников, а также предсказать: уволится сотрудник или нет. Благодаря этому компания будет понимать, что происходит и будет готова к уволнению определенных сотрудников.\n",
    "\n",
    "Задачи будем решать поэтапно. Сначала предскажем уровень удовлетворенности работой сотрудников. А потом решим задачу определения статуса сотрудника: уволится или нет.\n",
    "\n",
    "Шаги по решению будут схожими для обеих задач.\n",
    "\n",
    "Для начала мы изучим данные, предоставленные компанией. Стандартизируем их, удалим дубликаты, разберемся с пропусками.\n",
    "\n",
    "Далее проведем исследовательских анализ данных. Построим графики по всем признакам, чтобы увидеть, есть ли какие-то аномалии в данных, и если есть, то удалим их.\n",
    "\n",
    "После этого проведем корреляционный анализ признаков в данных, изучим взаимосвязь между признаками: линейная или нелинейная, присутсвтует ли мультиколлинеарность.\n",
    "\n",
    "В первой задаче мы будем создавать модель для непрерывного признака - рейтинга удовлетворенности сотрудника. Создавать модель мы будем при помощи пайплайна, используя различные гиперпараметры, такие как различные модели, а также различные гиперпараметры внутри каждой модели. Таким образом мы найдем оптимальную модель для предсказания.\n",
    "\n",
    "Во второй задаче мы будем создавать модель для прогноза категориального признака - уволится сотрудник или нет. Опять же при помощи пайплайна, используя различные гиперпараметры, такие как различные модели, а также различные гиперпараметры внутри каждой модели. Таким образом мы найдем оптимальную модель для предсказания.\n",
    "\n",
    "После того, как будут найдены наилучшие модели, мы сделаем предсказания на тестовых данных и передадим их клиенту, а также дадим дополнительные рекомендации.\n"
   ]
  },
  {
   "cell_type": "code",
   "execution_count": 1,
   "id": "f27c3ac3",
   "metadata": {},
   "outputs": [
    {
     "name": "stdout",
     "output_type": "stream",
     "text": [
      "Requirement already satisfied: phik in /opt/conda/lib/python3.9/site-packages (0.12.4)\n",
      "Requirement already satisfied: joblib>=0.14.1 in /opt/conda/lib/python3.9/site-packages (from phik) (1.4.2)\n",
      "Requirement already satisfied: scipy>=1.5.2 in /opt/conda/lib/python3.9/site-packages (from phik) (1.9.1)\n",
      "Requirement already satisfied: matplotlib>=2.2.3 in /opt/conda/lib/python3.9/site-packages (from phik) (3.5.0)\n",
      "Requirement already satisfied: pandas>=0.25.1 in /opt/conda/lib/python3.9/site-packages (from phik) (1.2.4)\n",
      "Requirement already satisfied: numpy>=1.18.0 in /opt/conda/lib/python3.9/site-packages (from phik) (1.21.1)\n",
      "Requirement already satisfied: python-dateutil>=2.7 in /opt/conda/lib/python3.9/site-packages (from matplotlib>=2.2.3->phik) (2.8.1)\n",
      "Requirement already satisfied: packaging>=20.0 in /opt/conda/lib/python3.9/site-packages (from matplotlib>=2.2.3->phik) (21.3)\n",
      "Requirement already satisfied: pillow>=6.2.0 in /opt/conda/lib/python3.9/site-packages (from matplotlib>=2.2.3->phik) (8.4.0)\n",
      "Requirement already satisfied: setuptools-scm>=4 in /opt/conda/lib/python3.9/site-packages (from matplotlib>=2.2.3->phik) (8.1.0)\n",
      "Requirement already satisfied: fonttools>=4.22.0 in /opt/conda/lib/python3.9/site-packages (from matplotlib>=2.2.3->phik) (4.55.2)\n",
      "Requirement already satisfied: kiwisolver>=1.0.1 in /opt/conda/lib/python3.9/site-packages (from matplotlib>=2.2.3->phik) (1.4.4)\n",
      "Requirement already satisfied: pyparsing>=2.2.1 in /opt/conda/lib/python3.9/site-packages (from matplotlib>=2.2.3->phik) (2.4.7)\n",
      "Requirement already satisfied: cycler>=0.10 in /opt/conda/lib/python3.9/site-packages (from matplotlib>=2.2.3->phik) (0.11.0)\n",
      "Requirement already satisfied: pytz>=2017.3 in /opt/conda/lib/python3.9/site-packages (from pandas>=0.25.1->phik) (2021.1)\n",
      "Requirement already satisfied: six>=1.5 in /opt/conda/lib/python3.9/site-packages (from python-dateutil>=2.7->matplotlib>=2.2.3->phik) (1.16.0)\n",
      "Requirement already satisfied: typing-extensions in /opt/conda/lib/python3.9/site-packages (from setuptools-scm>=4->matplotlib>=2.2.3->phik) (4.12.2)\n",
      "Requirement already satisfied: setuptools in /opt/conda/lib/python3.9/site-packages (from setuptools-scm>=4->matplotlib>=2.2.3->phik) (49.6.0.post20210108)\n",
      "Requirement already satisfied: tomli>=1 in /opt/conda/lib/python3.9/site-packages (from setuptools-scm>=4->matplotlib>=2.2.3->phik) (2.2.1)\n",
      "Requirement already satisfied: shap in /opt/conda/lib/python3.9/site-packages (0.46.0)\n",
      "Requirement already satisfied: cloudpickle in /opt/conda/lib/python3.9/site-packages (from shap) (3.1.0)\n",
      "Requirement already satisfied: numba in /opt/conda/lib/python3.9/site-packages (from shap) (0.56.0)\n",
      "Requirement already satisfied: slicer==0.0.8 in /opt/conda/lib/python3.9/site-packages (from shap) (0.0.8)\n",
      "Requirement already satisfied: scipy in /opt/conda/lib/python3.9/site-packages (from shap) (1.9.1)\n",
      "Requirement already satisfied: packaging>20.9 in /opt/conda/lib/python3.9/site-packages (from shap) (21.3)\n",
      "Requirement already satisfied: scikit-learn in /opt/conda/lib/python3.9/site-packages (from shap) (1.2.2)\n",
      "Requirement already satisfied: tqdm>=4.27.0 in /opt/conda/lib/python3.9/site-packages (from shap) (4.61.2)\n",
      "Requirement already satisfied: numpy in /opt/conda/lib/python3.9/site-packages (from shap) (1.21.1)\n",
      "Requirement already satisfied: pandas in /opt/conda/lib/python3.9/site-packages (from shap) (1.2.4)\n",
      "Requirement already satisfied: pyparsing!=3.0.5,>=2.0.2 in /opt/conda/lib/python3.9/site-packages (from packaging>20.9->shap) (2.4.7)\n",
      "Requirement already satisfied: setuptools in /opt/conda/lib/python3.9/site-packages (from numba->shap) (49.6.0.post20210108)\n",
      "Requirement already satisfied: llvmlite<0.40,>=0.39.0dev0 in /opt/conda/lib/python3.9/site-packages (from numba->shap) (0.39.0)\n",
      "Requirement already satisfied: python-dateutil>=2.7.3 in /opt/conda/lib/python3.9/site-packages (from pandas->shap) (2.8.1)\n",
      "Requirement already satisfied: pytz>=2017.3 in /opt/conda/lib/python3.9/site-packages (from pandas->shap) (2021.1)\n",
      "Requirement already satisfied: six>=1.5 in /opt/conda/lib/python3.9/site-packages (from python-dateutil>=2.7.3->pandas->shap) (1.16.0)\n",
      "Requirement already satisfied: threadpoolctl>=2.0.0 in /opt/conda/lib/python3.9/site-packages (from scikit-learn->shap) (3.1.0)\n",
      "Requirement already satisfied: joblib>=1.1.1 in /opt/conda/lib/python3.9/site-packages (from scikit-learn->shap) (1.4.2)\n",
      "Requirement already satisfied: matplotlib==3.5.0 in /opt/conda/lib/python3.9/site-packages (3.5.0)\n",
      "Requirement already satisfied: numpy>=1.17 in /opt/conda/lib/python3.9/site-packages (from matplotlib==3.5.0) (1.21.1)\n",
      "Requirement already satisfied: packaging>=20.0 in /opt/conda/lib/python3.9/site-packages (from matplotlib==3.5.0) (21.3)\n",
      "Requirement already satisfied: pyparsing>=2.2.1 in /opt/conda/lib/python3.9/site-packages (from matplotlib==3.5.0) (2.4.7)\n",
      "Requirement already satisfied: python-dateutil>=2.7 in /opt/conda/lib/python3.9/site-packages (from matplotlib==3.5.0) (2.8.1)\n",
      "Requirement already satisfied: setuptools-scm>=4 in /opt/conda/lib/python3.9/site-packages (from matplotlib==3.5.0) (8.1.0)\n",
      "Requirement already satisfied: fonttools>=4.22.0 in /opt/conda/lib/python3.9/site-packages (from matplotlib==3.5.0) (4.55.2)\n",
      "Requirement already satisfied: cycler>=0.10 in /opt/conda/lib/python3.9/site-packages (from matplotlib==3.5.0) (0.11.0)\n",
      "Requirement already satisfied: pillow>=6.2.0 in /opt/conda/lib/python3.9/site-packages (from matplotlib==3.5.0) (8.4.0)\n",
      "Requirement already satisfied: kiwisolver>=1.0.1 in /opt/conda/lib/python3.9/site-packages (from matplotlib==3.5.0) (1.4.4)\n",
      "Requirement already satisfied: six>=1.5 in /opt/conda/lib/python3.9/site-packages (from python-dateutil>=2.7->matplotlib==3.5.0) (1.16.0)\n",
      "Requirement already satisfied: setuptools in /opt/conda/lib/python3.9/site-packages (from setuptools-scm>=4->matplotlib==3.5.0) (49.6.0.post20210108)\n",
      "Requirement already satisfied: tomli>=1 in /opt/conda/lib/python3.9/site-packages (from setuptools-scm>=4->matplotlib==3.5.0) (2.2.1)\n",
      "Requirement already satisfied: typing-extensions in /opt/conda/lib/python3.9/site-packages (from setuptools-scm>=4->matplotlib==3.5.0) (4.12.2)\n",
      "Requirement already satisfied: scikit-learn==1.2.2 in /opt/conda/lib/python3.9/site-packages (1.2.2)\n",
      "Requirement already satisfied: numpy>=1.17.3 in /opt/conda/lib/python3.9/site-packages (from scikit-learn==1.2.2) (1.21.1)\n",
      "Requirement already satisfied: scipy>=1.3.2 in /opt/conda/lib/python3.9/site-packages (from scikit-learn==1.2.2) (1.9.1)\n",
      "Requirement already satisfied: threadpoolctl>=2.0.0 in /opt/conda/lib/python3.9/site-packages (from scikit-learn==1.2.2) (3.1.0)\n",
      "Requirement already satisfied: joblib>=1.1.1 in /opt/conda/lib/python3.9/site-packages (from scikit-learn==1.2.2) (1.4.2)\n"
     ]
    }
   ],
   "source": [
    "!pip install phik\n",
    "!pip install shap\n",
    "!pip install --upgrade matplotlib==3.5.0\n",
    "!pip install --upgrade scikit-learn==1.2.2"
   ]
  },
  {
   "cell_type": "code",
   "execution_count": 2,
   "id": "ec27e581-3f2c-45e3-bde5-c3426ca143a0",
   "metadata": {},
   "outputs": [],
   "source": [
    "import pandas as pd\n",
    "import numpy as np\n",
    "import matplotlib.pyplot as plt\n",
    "import seaborn as sns\n",
    "\n",
    "from sklearn.pipeline import Pipeline\n",
    "from sklearn.compose import ColumnTransformer\n",
    "\n",
    "from sklearn.preprocessing import OneHotEncoder, OrdinalEncoder, StandardScaler, MinMaxScaler, RobustScaler\n",
    "from sklearn.impute import SimpleImputer \n",
    "from sklearn.model_selection import train_test_split, RandomizedSearchCV\n",
    "from sklearn.metrics import make_scorer, roc_auc_score\n",
    "\n",
    "from sklearn.svm import SVC\n",
    "from sklearn.ensemble import RandomForestRegressor\n",
    "\n",
    "from sklearn.linear_model import LinearRegression, LogisticRegression\n",
    "from sklearn.neighbors import KNeighborsClassifier\n",
    "from sklearn.tree import DecisionTreeClassifier\n",
    "\n",
    "import phik\n",
    "import shap\n",
    "from phik.report import plot_correlation_matrix"
   ]
  },
  {
   "cell_type": "code",
   "execution_count": 3,
   "id": "13ddeb2f-40db-4fb7-80bd-7c328edf9dad",
   "metadata": {},
   "outputs": [],
   "source": [
    "TEST_SIZE = 0.25\n",
    "RANDOM_STATE = 42"
   ]
  },
  {
   "cell_type": "markdown",
   "id": "0abf2b20-3611-4823-86c3-04d38d92c902",
   "metadata": {},
   "source": [
    "# Задача 1: предсказание уровня удовлетворённости сотрудника"
   ]
  },
  {
   "cell_type": "markdown",
   "id": "ff079b95-09a2-4434-ad64-aa281f959e03",
   "metadata": {},
   "source": [
    "## 1. Загрузка данных"
   ]
  },
  {
   "cell_type": "code",
   "execution_count": 4,
   "id": "83b30b41-cafa-4682-bb2d-70abf7979327",
   "metadata": {},
   "outputs": [],
   "source": [
    "try:\n",
    "    train_job_satisfaction_rate = pd.read_csv('/datasets/train_job_satisfaction_rate.csv')\n",
    "    test_features = pd.read_csv('/datasets/test_features.csv')\n",
    "    test_target_job_satisfaction_rate = pd.read_csv('/datasets/test_target_job_satisfaction_rate.csv')\n",
    "except:\n",
    "    train_job_satisfaction_rate = pd.read_csv('C/datasets/train_job_satisfaction_rate.csv')\n",
    "    test_features = pd.read_csv('C/datasets/test_features.csv')\n",
    "    test_target_job_satisfaction_rate = pd.read_csv('C/datasets/test_target_job_satisfaction_rate.csv')"
   ]
  },
  {
   "cell_type": "markdown",
   "id": "7332c390-4191-4b3e-bca2-c69523ec2e2c",
   "metadata": {},
   "source": [
    "Посмотрим на наши датафреймы."
   ]
  },
  {
   "cell_type": "code",
   "execution_count": 5,
   "id": "a93754ac-0479-4251-9e52-27d26d18d3b6",
   "metadata": {},
   "outputs": [
    {
     "name": "stdout",
     "output_type": "stream",
     "text": [
      "<class 'pandas.core.frame.DataFrame'>\n",
      "RangeIndex: 4000 entries, 0 to 3999\n",
      "Data columns (total 10 columns):\n",
      " #   Column                 Non-Null Count  Dtype  \n",
      "---  ------                 --------------  -----  \n",
      " 0   id                     4000 non-null   int64  \n",
      " 1   dept                   3994 non-null   object \n",
      " 2   level                  3996 non-null   object \n",
      " 3   workload               4000 non-null   object \n",
      " 4   employment_years       4000 non-null   int64  \n",
      " 5   last_year_promo        4000 non-null   object \n",
      " 6   last_year_violations   4000 non-null   object \n",
      " 7   supervisor_evaluation  4000 non-null   int64  \n",
      " 8   salary                 4000 non-null   int64  \n",
      " 9   job_satisfaction_rate  4000 non-null   float64\n",
      "dtypes: float64(1), int64(4), object(5)\n",
      "memory usage: 312.6+ KB\n"
     ]
    }
   ],
   "source": [
    "train_job_satisfaction_rate.info()"
   ]
  },
  {
   "cell_type": "code",
   "execution_count": 6,
   "id": "0206dc7b-5e7f-4b84-92b7-dab1b2322967",
   "metadata": {},
   "outputs": [
    {
     "data": {
      "text/html": [
       "<div>\n",
       "<style scoped>\n",
       "    .dataframe tbody tr th:only-of-type {\n",
       "        vertical-align: middle;\n",
       "    }\n",
       "\n",
       "    .dataframe tbody tr th {\n",
       "        vertical-align: top;\n",
       "    }\n",
       "\n",
       "    .dataframe thead th {\n",
       "        text-align: right;\n",
       "    }\n",
       "</style>\n",
       "<table border=\"1\" class=\"dataframe\">\n",
       "  <thead>\n",
       "    <tr style=\"text-align: right;\">\n",
       "      <th></th>\n",
       "      <th>id</th>\n",
       "      <th>dept</th>\n",
       "      <th>level</th>\n",
       "      <th>workload</th>\n",
       "      <th>employment_years</th>\n",
       "      <th>last_year_promo</th>\n",
       "      <th>last_year_violations</th>\n",
       "      <th>supervisor_evaluation</th>\n",
       "      <th>salary</th>\n",
       "      <th>job_satisfaction_rate</th>\n",
       "    </tr>\n",
       "  </thead>\n",
       "  <tbody>\n",
       "    <tr>\n",
       "      <th>0</th>\n",
       "      <td>155278</td>\n",
       "      <td>sales</td>\n",
       "      <td>junior</td>\n",
       "      <td>medium</td>\n",
       "      <td>2</td>\n",
       "      <td>no</td>\n",
       "      <td>no</td>\n",
       "      <td>1</td>\n",
       "      <td>24000</td>\n",
       "      <td>0.58</td>\n",
       "    </tr>\n",
       "    <tr>\n",
       "      <th>1</th>\n",
       "      <td>653870</td>\n",
       "      <td>hr</td>\n",
       "      <td>junior</td>\n",
       "      <td>high</td>\n",
       "      <td>2</td>\n",
       "      <td>no</td>\n",
       "      <td>no</td>\n",
       "      <td>5</td>\n",
       "      <td>38400</td>\n",
       "      <td>0.76</td>\n",
       "    </tr>\n",
       "    <tr>\n",
       "      <th>2</th>\n",
       "      <td>184592</td>\n",
       "      <td>sales</td>\n",
       "      <td>junior</td>\n",
       "      <td>low</td>\n",
       "      <td>1</td>\n",
       "      <td>no</td>\n",
       "      <td>no</td>\n",
       "      <td>2</td>\n",
       "      <td>12000</td>\n",
       "      <td>0.11</td>\n",
       "    </tr>\n",
       "    <tr>\n",
       "      <th>3</th>\n",
       "      <td>171431</td>\n",
       "      <td>technology</td>\n",
       "      <td>junior</td>\n",
       "      <td>low</td>\n",
       "      <td>4</td>\n",
       "      <td>no</td>\n",
       "      <td>no</td>\n",
       "      <td>2</td>\n",
       "      <td>18000</td>\n",
       "      <td>0.37</td>\n",
       "    </tr>\n",
       "    <tr>\n",
       "      <th>4</th>\n",
       "      <td>693419</td>\n",
       "      <td>hr</td>\n",
       "      <td>junior</td>\n",
       "      <td>medium</td>\n",
       "      <td>1</td>\n",
       "      <td>no</td>\n",
       "      <td>no</td>\n",
       "      <td>3</td>\n",
       "      <td>22800</td>\n",
       "      <td>0.20</td>\n",
       "    </tr>\n",
       "  </tbody>\n",
       "</table>\n",
       "</div>"
      ],
      "text/plain": [
       "       id        dept   level workload  employment_years last_year_promo  \\\n",
       "0  155278       sales  junior   medium                 2              no   \n",
       "1  653870          hr  junior     high                 2              no   \n",
       "2  184592       sales  junior      low                 1              no   \n",
       "3  171431  technology  junior      low                 4              no   \n",
       "4  693419          hr  junior   medium                 1              no   \n",
       "\n",
       "  last_year_violations  supervisor_evaluation  salary  job_satisfaction_rate  \n",
       "0                   no                      1   24000                   0.58  \n",
       "1                   no                      5   38400                   0.76  \n",
       "2                   no                      2   12000                   0.11  \n",
       "3                   no                      2   18000                   0.37  \n",
       "4                   no                      3   22800                   0.20  "
      ]
     },
     "execution_count": 6,
     "metadata": {},
     "output_type": "execute_result"
    }
   ],
   "source": [
    "train_job_satisfaction_rate.head()"
   ]
  },
  {
   "cell_type": "code",
   "execution_count": 7,
   "id": "6b8a6057-efaa-4767-bfee-f2e047279e9c",
   "metadata": {},
   "outputs": [
    {
     "name": "stdout",
     "output_type": "stream",
     "text": [
      "<class 'pandas.core.frame.DataFrame'>\n",
      "RangeIndex: 2000 entries, 0 to 1999\n",
      "Data columns (total 9 columns):\n",
      " #   Column                 Non-Null Count  Dtype \n",
      "---  ------                 --------------  ----- \n",
      " 0   id                     2000 non-null   int64 \n",
      " 1   dept                   1998 non-null   object\n",
      " 2   level                  1999 non-null   object\n",
      " 3   workload               2000 non-null   object\n",
      " 4   employment_years       2000 non-null   int64 \n",
      " 5   last_year_promo        2000 non-null   object\n",
      " 6   last_year_violations   2000 non-null   object\n",
      " 7   supervisor_evaluation  2000 non-null   int64 \n",
      " 8   salary                 2000 non-null   int64 \n",
      "dtypes: int64(4), object(5)\n",
      "memory usage: 140.8+ KB\n"
     ]
    }
   ],
   "source": [
    "test_features.info()"
   ]
  },
  {
   "cell_type": "code",
   "execution_count": 8,
   "id": "7c153c24-e164-4506-8f33-eef4e0aab670",
   "metadata": {},
   "outputs": [
    {
     "data": {
      "text/html": [
       "<div>\n",
       "<style scoped>\n",
       "    .dataframe tbody tr th:only-of-type {\n",
       "        vertical-align: middle;\n",
       "    }\n",
       "\n",
       "    .dataframe tbody tr th {\n",
       "        vertical-align: top;\n",
       "    }\n",
       "\n",
       "    .dataframe thead th {\n",
       "        text-align: right;\n",
       "    }\n",
       "</style>\n",
       "<table border=\"1\" class=\"dataframe\">\n",
       "  <thead>\n",
       "    <tr style=\"text-align: right;\">\n",
       "      <th></th>\n",
       "      <th>id</th>\n",
       "      <th>dept</th>\n",
       "      <th>level</th>\n",
       "      <th>workload</th>\n",
       "      <th>employment_years</th>\n",
       "      <th>last_year_promo</th>\n",
       "      <th>last_year_violations</th>\n",
       "      <th>supervisor_evaluation</th>\n",
       "      <th>salary</th>\n",
       "    </tr>\n",
       "  </thead>\n",
       "  <tbody>\n",
       "    <tr>\n",
       "      <th>0</th>\n",
       "      <td>485046</td>\n",
       "      <td>marketing</td>\n",
       "      <td>junior</td>\n",
       "      <td>medium</td>\n",
       "      <td>2</td>\n",
       "      <td>no</td>\n",
       "      <td>no</td>\n",
       "      <td>5</td>\n",
       "      <td>28800</td>\n",
       "    </tr>\n",
       "    <tr>\n",
       "      <th>1</th>\n",
       "      <td>686555</td>\n",
       "      <td>hr</td>\n",
       "      <td>junior</td>\n",
       "      <td>medium</td>\n",
       "      <td>1</td>\n",
       "      <td>no</td>\n",
       "      <td>no</td>\n",
       "      <td>4</td>\n",
       "      <td>30000</td>\n",
       "    </tr>\n",
       "    <tr>\n",
       "      <th>2</th>\n",
       "      <td>467458</td>\n",
       "      <td>sales</td>\n",
       "      <td>middle</td>\n",
       "      <td>low</td>\n",
       "      <td>5</td>\n",
       "      <td>no</td>\n",
       "      <td>no</td>\n",
       "      <td>4</td>\n",
       "      <td>19200</td>\n",
       "    </tr>\n",
       "    <tr>\n",
       "      <th>3</th>\n",
       "      <td>418655</td>\n",
       "      <td>sales</td>\n",
       "      <td>middle</td>\n",
       "      <td>low</td>\n",
       "      <td>6</td>\n",
       "      <td>no</td>\n",
       "      <td>no</td>\n",
       "      <td>4</td>\n",
       "      <td>19200</td>\n",
       "    </tr>\n",
       "    <tr>\n",
       "      <th>4</th>\n",
       "      <td>789145</td>\n",
       "      <td>hr</td>\n",
       "      <td>middle</td>\n",
       "      <td>medium</td>\n",
       "      <td>5</td>\n",
       "      <td>no</td>\n",
       "      <td>no</td>\n",
       "      <td>5</td>\n",
       "      <td>40800</td>\n",
       "    </tr>\n",
       "  </tbody>\n",
       "</table>\n",
       "</div>"
      ],
      "text/plain": [
       "       id       dept   level workload  employment_years last_year_promo  \\\n",
       "0  485046  marketing  junior   medium                 2              no   \n",
       "1  686555         hr  junior   medium                 1              no   \n",
       "2  467458      sales  middle      low                 5              no   \n",
       "3  418655      sales  middle      low                 6              no   \n",
       "4  789145         hr  middle   medium                 5              no   \n",
       "\n",
       "  last_year_violations  supervisor_evaluation  salary  \n",
       "0                   no                      5   28800  \n",
       "1                   no                      4   30000  \n",
       "2                   no                      4   19200  \n",
       "3                   no                      4   19200  \n",
       "4                   no                      5   40800  "
      ]
     },
     "execution_count": 8,
     "metadata": {},
     "output_type": "execute_result"
    }
   ],
   "source": [
    "test_features.head()"
   ]
  },
  {
   "cell_type": "code",
   "execution_count": 9,
   "id": "b1a26d8b-9cb7-414a-b7c0-911ae6282abb",
   "metadata": {},
   "outputs": [
    {
     "name": "stdout",
     "output_type": "stream",
     "text": [
      "<class 'pandas.core.frame.DataFrame'>\n",
      "RangeIndex: 2000 entries, 0 to 1999\n",
      "Data columns (total 2 columns):\n",
      " #   Column                 Non-Null Count  Dtype  \n",
      "---  ------                 --------------  -----  \n",
      " 0   id                     2000 non-null   int64  \n",
      " 1   job_satisfaction_rate  2000 non-null   float64\n",
      "dtypes: float64(1), int64(1)\n",
      "memory usage: 31.4 KB\n"
     ]
    }
   ],
   "source": [
    "test_target_job_satisfaction_rate.info()"
   ]
  },
  {
   "cell_type": "code",
   "execution_count": 10,
   "id": "85c32289-9aa0-4c16-b8e7-4ab5fc97274d",
   "metadata": {},
   "outputs": [
    {
     "data": {
      "text/html": [
       "<div>\n",
       "<style scoped>\n",
       "    .dataframe tbody tr th:only-of-type {\n",
       "        vertical-align: middle;\n",
       "    }\n",
       "\n",
       "    .dataframe tbody tr th {\n",
       "        vertical-align: top;\n",
       "    }\n",
       "\n",
       "    .dataframe thead th {\n",
       "        text-align: right;\n",
       "    }\n",
       "</style>\n",
       "<table border=\"1\" class=\"dataframe\">\n",
       "  <thead>\n",
       "    <tr style=\"text-align: right;\">\n",
       "      <th></th>\n",
       "      <th>id</th>\n",
       "      <th>job_satisfaction_rate</th>\n",
       "    </tr>\n",
       "  </thead>\n",
       "  <tbody>\n",
       "    <tr>\n",
       "      <th>0</th>\n",
       "      <td>130604</td>\n",
       "      <td>0.74</td>\n",
       "    </tr>\n",
       "    <tr>\n",
       "      <th>1</th>\n",
       "      <td>825977</td>\n",
       "      <td>0.75</td>\n",
       "    </tr>\n",
       "    <tr>\n",
       "      <th>2</th>\n",
       "      <td>418490</td>\n",
       "      <td>0.60</td>\n",
       "    </tr>\n",
       "    <tr>\n",
       "      <th>3</th>\n",
       "      <td>555320</td>\n",
       "      <td>0.72</td>\n",
       "    </tr>\n",
       "    <tr>\n",
       "      <th>4</th>\n",
       "      <td>826430</td>\n",
       "      <td>0.08</td>\n",
       "    </tr>\n",
       "  </tbody>\n",
       "</table>\n",
       "</div>"
      ],
      "text/plain": [
       "       id  job_satisfaction_rate\n",
       "0  130604                   0.74\n",
       "1  825977                   0.75\n",
       "2  418490                   0.60\n",
       "3  555320                   0.72\n",
       "4  826430                   0.08"
      ]
     },
     "execution_count": 10,
     "metadata": {},
     "output_type": "execute_result"
    }
   ],
   "source": [
    "test_target_job_satisfaction_rate.head()"
   ]
  },
  {
   "cell_type": "markdown",
   "id": "91a875e6-2dc1-4a0f-a764-3f99775f0c9c",
   "metadata": {},
   "source": [
    "Данные в таблицах соответствуют описанию. Колонки в датафреймах правильно разделены, разделитель у числовых значений '.', имена колонок приведены к змеиному регистру. Значения в колонках представлены подходящими типами данных."
   ]
  },
  {
   "cell_type": "markdown",
   "id": "51febe77-fd6b-4139-b542-79f1b0299708",
   "metadata": {},
   "source": [
    "## 2. Предобработка данных"
   ]
  },
  {
   "cell_type": "markdown",
   "id": "3ff8a782-df17-4ac7-a920-8cbfe3bdc81c",
   "metadata": {},
   "source": [
    "### 2.1 Пропуски и дубликаты"
   ]
  },
  {
   "cell_type": "markdown",
   "id": "0e160541-d7f6-441e-97b3-c79c4960a98c",
   "metadata": {},
   "source": [
    "Изучим информацию по каждому датафрейму и внесем изменения, если это нужно."
   ]
  },
  {
   "cell_type": "markdown",
   "id": "02fb5a55-bf6a-4993-8f87-cfffafbe09a3",
   "metadata": {},
   "source": [
    "#### 2.1.1 Датафрейм 'train_job_satisfaction_rate'"
   ]
  },
  {
   "cell_type": "markdown",
   "id": "62cb105c-0298-4743-aa05-cb74bb5c151b",
   "metadata": {},
   "source": [
    "Посмотрим на количество пропусков в колонках."
   ]
  },
  {
   "cell_type": "code",
   "execution_count": 11,
   "id": "e652a2d1-979c-44f8-9a09-788c3ef08089",
   "metadata": {},
   "outputs": [
    {
     "data": {
      "text/plain": [
       "id                       0\n",
       "dept                     6\n",
       "level                    4\n",
       "workload                 0\n",
       "employment_years         0\n",
       "last_year_promo          0\n",
       "last_year_violations     0\n",
       "supervisor_evaluation    0\n",
       "salary                   0\n",
       "job_satisfaction_rate    0\n",
       "dtype: int64"
      ]
     },
     "execution_count": 11,
     "metadata": {},
     "output_type": "execute_result"
    }
   ],
   "source": [
    "train_job_satisfaction_rate.isna().sum()"
   ]
  },
  {
   "cell_type": "markdown",
   "id": "c1756093-c7d6-410f-ad12-b7b2ee001a2f",
   "metadata": {},
   "source": [
    "Присутсвуют 6 пропусков в колонке 'dept' и 4 пропуска в колонке 'level. С учетом того, что в датафрейме 4000 строк, это не критично. Но тем не менее ниже, при создании пайплайна, мы их заполним при помощи SimpleImputer(). Так как пропуски в категориальных столбцах, то замених их модами значений в этих колонках. "
   ]
  },
  {
   "cell_type": "markdown",
   "id": "aac5a4e1-68fa-4e0b-bfdf-9e352cb01027",
   "metadata": {},
   "source": [
    "Теперь посмотрим на значения в категориальных колонках, возоможно там есть опечатки, и из-за этого создались новые классы. Создадим список из колонок со строковыми значениями и выведем уникальные значения для каждой колонки."
   ]
  },
  {
   "cell_type": "code",
   "execution_count": 12,
   "id": "48796ba9-5baa-4c9f-87de-1e96e6a17f32",
   "metadata": {},
   "outputs": [
    {
     "name": "stdout",
     "output_type": "stream",
     "text": [
      "dept : ['sales' 'hr' 'technology' 'purchasing' 'marketing' nan]\n",
      "level : ['junior' 'middle' 'sinior' nan]\n",
      "workload : ['medium' 'high' 'low']\n",
      "last_year_promo : ['no' 'yes']\n",
      "last_year_violations : ['no' 'yes']\n"
     ]
    }
   ],
   "source": [
    "columns = train_job_satisfaction_rate.select_dtypes(include='object').columns.tolist()\n",
    "for column in columns:\n",
    "    print(column, ':', train_job_satisfaction_rate[column].unique())"
   ]
  },
  {
   "cell_type": "markdown",
   "id": "7097ade7-d275-4fb2-897c-0876543c7873",
   "metadata": {},
   "source": [
    "Опечаток нет. Проверим датафрейм на наличие дубликатов."
   ]
  },
  {
   "cell_type": "code",
   "execution_count": 13,
   "id": "7cd5a7b2-1912-412a-b297-df701a482ba4",
   "metadata": {},
   "outputs": [
    {
     "data": {
      "text/plain": [
       "0"
      ]
     },
     "execution_count": 13,
     "metadata": {},
     "output_type": "execute_result"
    }
   ],
   "source": [
    "train_job_satisfaction_rate.duplicated().sum()"
   ]
  },
  {
   "cell_type": "markdown",
   "id": "dd597cde-7ff2-412f-8dfb-6fadb074f2fc",
   "metadata": {},
   "source": [
    "Дубликатов нет."
   ]
  },
  {
   "cell_type": "markdown",
   "id": "d26a93cc-729e-4865-a091-e14692dbe258",
   "metadata": {},
   "source": [
    "#### 2.1.2 Датафрейм 'test_features'"
   ]
  },
  {
   "cell_type": "code",
   "execution_count": 14,
   "id": "363cc442-47c9-4604-9461-21a2f68e161a",
   "metadata": {},
   "outputs": [
    {
     "data": {
      "text/plain": [
       "id                       0\n",
       "dept                     2\n",
       "level                    1\n",
       "workload                 0\n",
       "employment_years         0\n",
       "last_year_promo          0\n",
       "last_year_violations     0\n",
       "supervisor_evaluation    0\n",
       "salary                   0\n",
       "dtype: int64"
      ]
     },
     "execution_count": 14,
     "metadata": {},
     "output_type": "execute_result"
    }
   ],
   "source": [
    "test_features.isna().sum()"
   ]
  },
  {
   "cell_type": "markdown",
   "id": "6b1dee73-14a7-4075-a7f6-16a9130d260c",
   "metadata": {},
   "source": [
    "Присутсвуют 2 пропуска в колонке 'dept' и 1 пропуск в колонке 'level'. С учетом того, что в датафрейме 2000 строк, это не критично. Но тем не менее ниже, при создании пайплайна, мы их заполним при помощи SimpleImputer(). Так как пропуски в категориальных столбцах, то замених их модами значений в этих колонках. "
   ]
  },
  {
   "cell_type": "markdown",
   "id": "3bfbd86f-149f-49aa-b2c7-f20f07c465ab",
   "metadata": {},
   "source": [
    "Теперь посмотрим на значения в категориальных колонках, возможно там есть опечатки, и из-за этого создались новые классы. Создадим список из колонок со строковыми значениями и выведем уникальные значения для каждой колонки."
   ]
  },
  {
   "cell_type": "code",
   "execution_count": 15,
   "id": "e212b4b2-6991-4ba9-a05f-7ee35add7253",
   "metadata": {},
   "outputs": [
    {
     "name": "stdout",
     "output_type": "stream",
     "text": [
      "dept : ['marketing' 'hr' 'sales' 'purchasing' 'technology' nan ' ']\n",
      "level : ['junior' 'middle' 'sinior' nan]\n",
      "workload : ['medium' 'low' 'high' ' ']\n",
      "last_year_promo : ['no' 'yes']\n",
      "last_year_violations : ['no' 'yes']\n"
     ]
    }
   ],
   "source": [
    "columns = test_features.select_dtypes(include='object').columns.tolist()\n",
    "for column in columns:\n",
    "    print(column, ':', test_features[column].unique())"
   ]
  },
  {
   "cell_type": "markdown",
   "id": "750362b1-deb1-4f61-9aaf-1da155b6b679",
   "metadata": {},
   "source": [
    "Видим, что в колонках 'dept' и 'workload' есть пропуски, которые представлены не значениями NaN, а пробелами. Посмотрим, сколько их и заменим эти значения на NaN, для удобства в дальнейшей работе."
   ]
  },
  {
   "cell_type": "code",
   "execution_count": 16,
   "id": "1548ba91-b138-4e59-ab5c-404a23c3148b",
   "metadata": {},
   "outputs": [
    {
     "data": {
      "text/plain": [
       "1"
      ]
     },
     "execution_count": 16,
     "metadata": {},
     "output_type": "execute_result"
    }
   ],
   "source": [
    "len(test_features[test_features['dept'] == ' '])"
   ]
  },
  {
   "cell_type": "code",
   "execution_count": 17,
   "id": "59a45969-c22c-4791-9fc5-2a6cf074eb12",
   "metadata": {},
   "outputs": [
    {
     "data": {
      "text/plain": [
       "1"
      ]
     },
     "execution_count": 17,
     "metadata": {},
     "output_type": "execute_result"
    }
   ],
   "source": [
    "len(test_features[test_features['workload'] == ' '])"
   ]
  },
  {
   "cell_type": "code",
   "execution_count": 18,
   "id": "c0a00228-f0de-41e1-bfaa-d78cc7ec774a",
   "metadata": {},
   "outputs": [],
   "source": [
    "test_features.loc[test_features['dept'] == ' ', 'dept'] = np.nan\n",
    "test_features.loc[test_features['workload'] == ' ', 'workload'] = np.nan"
   ]
  },
  {
   "cell_type": "markdown",
   "id": "23f41536-e6c0-4b4c-a6c0-efea81c82045",
   "metadata": {},
   "source": [
    "Добавилось 2 пропуска, но ничего страшного, позже с ними разберемся. И теперь проверим наши данные на наличие дубликатов."
   ]
  },
  {
   "cell_type": "code",
   "execution_count": 19,
   "id": "a61ce791-dd89-44f0-888a-e030dca482eb",
   "metadata": {},
   "outputs": [
    {
     "data": {
      "text/plain": [
       "0"
      ]
     },
     "execution_count": 19,
     "metadata": {},
     "output_type": "execute_result"
    }
   ],
   "source": [
    "test_features.duplicated().sum()"
   ]
  },
  {
   "cell_type": "markdown",
   "id": "0f74256c-2165-47cb-9ab1-6954147127d4",
   "metadata": {},
   "source": [
    "Дубликаты отсутствуют."
   ]
  },
  {
   "cell_type": "markdown",
   "id": "27761ae8-60ac-4e7e-b28f-5758ee5fab9f",
   "metadata": {},
   "source": [
    "#### 2.1.3 Датафрейм 'test_target_job_satisfaction_rate'"
   ]
  },
  {
   "cell_type": "code",
   "execution_count": 20,
   "id": "a5ad2c44-63b2-430c-b349-350f3eacb0fb",
   "metadata": {},
   "outputs": [
    {
     "data": {
      "text/plain": [
       "id                       0\n",
       "job_satisfaction_rate    0\n",
       "dtype: int64"
      ]
     },
     "execution_count": 20,
     "metadata": {},
     "output_type": "execute_result"
    }
   ],
   "source": [
    "test_target_job_satisfaction_rate.isna().sum()"
   ]
  },
  {
   "cell_type": "code",
   "execution_count": 21,
   "id": "aa332b33-a6fb-4f68-83cb-0f5270afb6bd",
   "metadata": {},
   "outputs": [
    {
     "data": {
      "text/plain": [
       "0"
      ]
     },
     "execution_count": 21,
     "metadata": {},
     "output_type": "execute_result"
    }
   ],
   "source": [
    "test_target_job_satisfaction_rate.duplicated().sum()"
   ]
  },
  {
   "cell_type": "markdown",
   "id": "387f95e5-ae69-4b30-b1d2-4fb0f8e52c93",
   "metadata": {},
   "source": [
    "Пропуски и дубликаты отсутствуют."
   ]
  },
  {
   "cell_type": "markdown",
   "id": "debd4593-ae42-4b4c-b51d-d3d9f58626e6",
   "metadata": {},
   "source": [
    "Получилось, что у нас присутсвуют пропуски в датафрейме 'train_job_satisfaction_rate' в колонках 'dept', 'level', а также в датафрейме 'test_features' в колонках 'dept', 'level' и 'workload'. На этапе подготовки данных мы создадим пайплайн, в который включим SimpleImputer() для замены пропусков в колонках на моды этих колонок."
   ]
  },
  {
   "cell_type": "markdown",
   "id": "f7287f1e-09b0-4bf5-b540-1fbdf5671829",
   "metadata": {},
   "source": [
    "### 2.2 Смена индексов"
   ]
  },
  {
   "cell_type": "markdown",
   "id": "4273a7a2-42ec-4170-a0f7-0223e1f85955",
   "metadata": {},
   "source": [
    "Для удобства в дальнейшей работе сделаем колонку 'id' индексом в датафреймах. И отсортируем датафреймы по индексу в порядке возрастания."
   ]
  },
  {
   "cell_type": "code",
   "execution_count": 22,
   "id": "f721003c-4474-40d1-81f8-aebe44daf8ba",
   "metadata": {},
   "outputs": [],
   "source": [
    "train_job_satisfaction_rate = train_job_satisfaction_rate.set_index('id').sort_values(by='id')\n",
    "test_features = test_features.set_index('id').sort_values(by='id')\n",
    "test_target_job_satisfaction_rate = test_target_job_satisfaction_rate.set_index('id').sort_values(by='id')"
   ]
  },
  {
   "cell_type": "markdown",
   "id": "f2b28799-a16c-4b3b-9883-792c01bc0362",
   "metadata": {},
   "source": [
    "### 2.3 Вывод"
   ]
  },
  {
   "cell_type": "markdown",
   "id": "8506aeae-bf09-4bc8-8863-fa59a7ae49e6",
   "metadata": {},
   "source": [
    "Предобработка данных выполнена. Дубликаты в датафреймах отсутствуют. В датафрейме 'train_job_satisfaction_rate' присутсвовало 10 пропусков в категориальных колонках, которые мы заменили на моды при помощи пайплайна, содержащего SimpleImputer(). В датафрейме 'test_features' присутсвовало 5 пропусков, которые также были заменены на моды."
   ]
  },
  {
   "cell_type": "markdown",
   "id": "742dad53-2f7b-4960-bf31-056776585d8c",
   "metadata": {},
   "source": [
    "## 3. Исследовательский анализ данных"
   ]
  },
  {
   "cell_type": "markdown",
   "id": "5a7a8fdd-5bdc-4681-9528-bdb80dc81d7a",
   "metadata": {},
   "source": [
    "### 3.1 Статистический анализ данных"
   ]
  },
  {
   "cell_type": "markdown",
   "id": "a145a079-4abc-470e-8849-84190e52ee20",
   "metadata": {},
   "source": [
    "Данные делятся на числовые и категориальные. Анализ числовых данных мы проведем при помощи функции describe(). А на категориальные посмотрим при помощи value_counts()."
   ]
  },
  {
   "cell_type": "markdown",
   "id": "53bcf5ba-4fa7-489d-ab20-a0eaa5aaa918",
   "metadata": {},
   "source": [
    "#### 3.1.1 Датафрейм 'train_job_satisfaction_rate'"
   ]
  },
  {
   "cell_type": "code",
   "execution_count": 23,
   "id": "ca54bd24-09ae-4de2-96a2-34a7a1b32f1a",
   "metadata": {},
   "outputs": [],
   "source": [
    "num_col_train = ['employment_years', 'salary', 'job_satisfaction_rate']\n",
    "cat_col_train = ['dept', 'level', 'workload', 'last_year_promo', 'last_year_violations', 'supervisor_evaluation']"
   ]
  },
  {
   "cell_type": "code",
   "execution_count": 24,
   "id": "480703bc-1dff-4e90-a6fd-5ca77812f431",
   "metadata": {},
   "outputs": [
    {
     "data": {
      "text/html": [
       "<div>\n",
       "<style scoped>\n",
       "    .dataframe tbody tr th:only-of-type {\n",
       "        vertical-align: middle;\n",
       "    }\n",
       "\n",
       "    .dataframe tbody tr th {\n",
       "        vertical-align: top;\n",
       "    }\n",
       "\n",
       "    .dataframe thead th {\n",
       "        text-align: right;\n",
       "    }\n",
       "</style>\n",
       "<table border=\"1\" class=\"dataframe\">\n",
       "  <thead>\n",
       "    <tr style=\"text-align: right;\">\n",
       "      <th></th>\n",
       "      <th>employment_years</th>\n",
       "      <th>salary</th>\n",
       "      <th>job_satisfaction_rate</th>\n",
       "    </tr>\n",
       "  </thead>\n",
       "  <tbody>\n",
       "    <tr>\n",
       "      <th>count</th>\n",
       "      <td>4000.000000</td>\n",
       "      <td>4000.000000</td>\n",
       "      <td>4000.000000</td>\n",
       "    </tr>\n",
       "    <tr>\n",
       "      <th>mean</th>\n",
       "      <td>3.718500</td>\n",
       "      <td>33926.700000</td>\n",
       "      <td>0.533995</td>\n",
       "    </tr>\n",
       "    <tr>\n",
       "      <th>std</th>\n",
       "      <td>2.542513</td>\n",
       "      <td>14900.703838</td>\n",
       "      <td>0.225327</td>\n",
       "    </tr>\n",
       "    <tr>\n",
       "      <th>min</th>\n",
       "      <td>1.000000</td>\n",
       "      <td>12000.000000</td>\n",
       "      <td>0.030000</td>\n",
       "    </tr>\n",
       "    <tr>\n",
       "      <th>25%</th>\n",
       "      <td>2.000000</td>\n",
       "      <td>22800.000000</td>\n",
       "      <td>0.360000</td>\n",
       "    </tr>\n",
       "    <tr>\n",
       "      <th>50%</th>\n",
       "      <td>3.000000</td>\n",
       "      <td>30000.000000</td>\n",
       "      <td>0.560000</td>\n",
       "    </tr>\n",
       "    <tr>\n",
       "      <th>75%</th>\n",
       "      <td>6.000000</td>\n",
       "      <td>43200.000000</td>\n",
       "      <td>0.710000</td>\n",
       "    </tr>\n",
       "    <tr>\n",
       "      <th>max</th>\n",
       "      <td>10.000000</td>\n",
       "      <td>98400.000000</td>\n",
       "      <td>1.000000</td>\n",
       "    </tr>\n",
       "  </tbody>\n",
       "</table>\n",
       "</div>"
      ],
      "text/plain": [
       "       employment_years        salary  job_satisfaction_rate\n",
       "count       4000.000000   4000.000000            4000.000000\n",
       "mean           3.718500  33926.700000               0.533995\n",
       "std            2.542513  14900.703838               0.225327\n",
       "min            1.000000  12000.000000               0.030000\n",
       "25%            2.000000  22800.000000               0.360000\n",
       "50%            3.000000  30000.000000               0.560000\n",
       "75%            6.000000  43200.000000               0.710000\n",
       "max           10.000000  98400.000000               1.000000"
      ]
     },
     "execution_count": 24,
     "metadata": {},
     "output_type": "execute_result"
    }
   ],
   "source": [
    "train_job_satisfaction_rate[num_col_train].describe()"
   ]
  },
  {
   "cell_type": "code",
   "execution_count": 25,
   "id": "bdebe6f7-b5d5-41da-b412-7f4b3a8d632d",
   "metadata": {},
   "outputs": [
    {
     "name": "stdout",
     "output_type": "stream",
     "text": [
      "sales         0.378568\n",
      "technology    0.216825\n",
      "purchasing    0.152729\n",
      "marketing     0.137707\n",
      "hr            0.114171\n",
      "Name: dept, dtype: float64\n",
      "\n",
      "junior    0.473974\n",
      "middle    0.436436\n",
      "sinior    0.089590\n",
      "Name: level, dtype: float64\n",
      "\n",
      "medium    0.5165\n",
      "low       0.3000\n",
      "high      0.1835\n",
      "Name: workload, dtype: float64\n",
      "\n",
      "no     0.97\n",
      "yes    0.03\n",
      "Name: last_year_promo, dtype: float64\n",
      "\n",
      "no     0.86025\n",
      "yes    0.13975\n",
      "Name: last_year_violations, dtype: float64\n",
      "\n",
      "4    0.40075\n",
      "3    0.31575\n",
      "5    0.13650\n",
      "2    0.09675\n",
      "1    0.05025\n",
      "Name: supervisor_evaluation, dtype: float64\n",
      "\n"
     ]
    }
   ],
   "source": [
    "for column in cat_col_train:\n",
    "    print(train_job_satisfaction_rate[column].value_counts(normalize=True))\n",
    "    print()"
   ]
  },
  {
   "cell_type": "markdown",
   "id": "1b93b53a-c3c9-4968-9dbe-38dffde4a907",
   "metadata": {},
   "source": [
    "Получилось, что медианное время работы в компании - 3 года, самая часто встречаемая зарплата - 30000 рублей, а средняя оценка работы - 0.53. По депортаментам распределение выглядит следующим образом: самым популярным департаментом является 'sales' (37%), за ним идет 'technology' (21%), а на остальные департменты приходится от 11 до 15 процентов. По уровню сотрудников: примерно равное количество джуниоров (47%) и миддлов (43%). Сеньоры составляют меньшую часть (около 9%). По загруженности - большинсво сотрудников имеют среднюю (51%) или низкую (30%). Высокую имеет 18%. За последний год зарплата повышалась лишь у 3% сотрудников. Трудовой договор нарушало около 14% сотрудников. Самая частовстречаемая оценка сотрудников - 4."
   ]
  },
  {
   "cell_type": "markdown",
   "id": "060d1a6c-09a9-4a8f-97c0-9734f16fab27",
   "metadata": {},
   "source": [
    "#### 3.1.2 Датафрейм 'test_features'"
   ]
  },
  {
   "cell_type": "code",
   "execution_count": 26,
   "id": "b577b6e7-6357-40d9-b4da-deb8d9d6c67a",
   "metadata": {},
   "outputs": [],
   "source": [
    "num_col_test = ['employment_years', 'salary']\n",
    "cat_col_test = ['dept', 'level', 'workload', 'last_year_promo', 'last_year_violations', 'supervisor_evaluation']"
   ]
  },
  {
   "cell_type": "code",
   "execution_count": 27,
   "id": "b15e6c9e-abc4-4f1b-8088-b3e2f97e6609",
   "metadata": {},
   "outputs": [
    {
     "data": {
      "text/html": [
       "<div>\n",
       "<style scoped>\n",
       "    .dataframe tbody tr th:only-of-type {\n",
       "        vertical-align: middle;\n",
       "    }\n",
       "\n",
       "    .dataframe tbody tr th {\n",
       "        vertical-align: top;\n",
       "    }\n",
       "\n",
       "    .dataframe thead th {\n",
       "        text-align: right;\n",
       "    }\n",
       "</style>\n",
       "<table border=\"1\" class=\"dataframe\">\n",
       "  <thead>\n",
       "    <tr style=\"text-align: right;\">\n",
       "      <th></th>\n",
       "      <th>employment_years</th>\n",
       "      <th>salary</th>\n",
       "    </tr>\n",
       "  </thead>\n",
       "  <tbody>\n",
       "    <tr>\n",
       "      <th>count</th>\n",
       "      <td>2000.000000</td>\n",
       "      <td>2000.000000</td>\n",
       "    </tr>\n",
       "    <tr>\n",
       "      <th>mean</th>\n",
       "      <td>3.666500</td>\n",
       "      <td>34066.800000</td>\n",
       "    </tr>\n",
       "    <tr>\n",
       "      <th>std</th>\n",
       "      <td>2.537222</td>\n",
       "      <td>15398.436729</td>\n",
       "    </tr>\n",
       "    <tr>\n",
       "      <th>min</th>\n",
       "      <td>1.000000</td>\n",
       "      <td>12000.000000</td>\n",
       "    </tr>\n",
       "    <tr>\n",
       "      <th>25%</th>\n",
       "      <td>1.000000</td>\n",
       "      <td>22800.000000</td>\n",
       "    </tr>\n",
       "    <tr>\n",
       "      <th>50%</th>\n",
       "      <td>3.000000</td>\n",
       "      <td>30000.000000</td>\n",
       "    </tr>\n",
       "    <tr>\n",
       "      <th>75%</th>\n",
       "      <td>6.000000</td>\n",
       "      <td>43200.000000</td>\n",
       "    </tr>\n",
       "    <tr>\n",
       "      <th>max</th>\n",
       "      <td>10.000000</td>\n",
       "      <td>96000.000000</td>\n",
       "    </tr>\n",
       "  </tbody>\n",
       "</table>\n",
       "</div>"
      ],
      "text/plain": [
       "       employment_years        salary\n",
       "count       2000.000000   2000.000000\n",
       "mean           3.666500  34066.800000\n",
       "std            2.537222  15398.436729\n",
       "min            1.000000  12000.000000\n",
       "25%            1.000000  22800.000000\n",
       "50%            3.000000  30000.000000\n",
       "75%            6.000000  43200.000000\n",
       "max           10.000000  96000.000000"
      ]
     },
     "execution_count": 27,
     "metadata": {},
     "output_type": "execute_result"
    }
   ],
   "source": [
    "test_features[num_col_test].describe()"
   ]
  },
  {
   "cell_type": "code",
   "execution_count": 28,
   "id": "d37a246c-283b-4aa7-84a7-b2c931f24381",
   "metadata": {},
   "outputs": [
    {
     "name": "stdout",
     "output_type": "stream",
     "text": [
      "sales         0.382073\n",
      "technology    0.227842\n",
      "marketing     0.139710\n",
      "purchasing    0.136705\n",
      "hr            0.113671\n",
      "Name: dept, dtype: float64\n",
      "\n",
      "junior    0.487244\n",
      "middle    0.427214\n",
      "sinior    0.085543\n",
      "Name: level, dtype: float64\n",
      "\n",
      "medium    0.521761\n",
      "low       0.296648\n",
      "high      0.181591\n",
      "Name: workload, dtype: float64\n",
      "\n",
      "no     0.9685\n",
      "yes    0.0315\n",
      "Name: last_year_promo, dtype: float64\n",
      "\n",
      "no     0.869\n",
      "yes    0.131\n",
      "Name: last_year_violations, dtype: float64\n",
      "\n",
      "4    0.4285\n",
      "3    0.2875\n",
      "5    0.1420\n",
      "2    0.0980\n",
      "1    0.0440\n",
      "Name: supervisor_evaluation, dtype: float64\n",
      "\n"
     ]
    }
   ],
   "source": [
    "for column in cat_col_test:\n",
    "    print(test_features[column].value_counts(normalize=True))\n",
    "    print()"
   ]
  },
  {
   "cell_type": "markdown",
   "id": "9b75df9b-34e4-4a92-bba4-acb71968c278",
   "metadata": {},
   "source": [
    "Здесь так же медианный опыт работы сотрудника составляет 3 года, а зарплата 30000 рублей. По департаментам распределение примерно схожее: 'sales' - 38%, 'technology' - 22%, остальные - от 11 до 14 процентов. По уровню сотрудников: примерно равное количество джуниоров (48%) и миддлов (42%). Сеньоры составляют меньшую часть (около 8%). По загруженности - большинсво сотрудников имеют среднюю (52%) или низкую (30%). Высокую имеет 18%. За последний год зарплата повышалась лишь у 3% сотрудников. Трудовой договор нарушало около 13% сотрудников.\n",
    "\n",
    "Данные в обучающей и тестовой выборке достаточно похожи."
   ]
  },
  {
   "cell_type": "markdown",
   "id": "c17cd1bf-e3a9-445e-8ab8-caae8888634b",
   "metadata": {},
   "source": [
    "#### 3.1.3 Датафрейм 'test_target_job_satisfaction_rate'"
   ]
  },
  {
   "cell_type": "code",
   "execution_count": 29,
   "id": "e0de37cc-f0a0-43c3-992f-50617e785da2",
   "metadata": {},
   "outputs": [
    {
     "data": {
      "text/html": [
       "<div>\n",
       "<style scoped>\n",
       "    .dataframe tbody tr th:only-of-type {\n",
       "        vertical-align: middle;\n",
       "    }\n",
       "\n",
       "    .dataframe tbody tr th {\n",
       "        vertical-align: top;\n",
       "    }\n",
       "\n",
       "    .dataframe thead th {\n",
       "        text-align: right;\n",
       "    }\n",
       "</style>\n",
       "<table border=\"1\" class=\"dataframe\">\n",
       "  <thead>\n",
       "    <tr style=\"text-align: right;\">\n",
       "      <th></th>\n",
       "      <th>job_satisfaction_rate</th>\n",
       "    </tr>\n",
       "  </thead>\n",
       "  <tbody>\n",
       "    <tr>\n",
       "      <th>count</th>\n",
       "      <td>2000.00000</td>\n",
       "    </tr>\n",
       "    <tr>\n",
       "      <th>mean</th>\n",
       "      <td>0.54878</td>\n",
       "    </tr>\n",
       "    <tr>\n",
       "      <th>std</th>\n",
       "      <td>0.22011</td>\n",
       "    </tr>\n",
       "    <tr>\n",
       "      <th>min</th>\n",
       "      <td>0.03000</td>\n",
       "    </tr>\n",
       "    <tr>\n",
       "      <th>25%</th>\n",
       "      <td>0.38000</td>\n",
       "    </tr>\n",
       "    <tr>\n",
       "      <th>50%</th>\n",
       "      <td>0.58000</td>\n",
       "    </tr>\n",
       "    <tr>\n",
       "      <th>75%</th>\n",
       "      <td>0.72000</td>\n",
       "    </tr>\n",
       "    <tr>\n",
       "      <th>max</th>\n",
       "      <td>1.00000</td>\n",
       "    </tr>\n",
       "  </tbody>\n",
       "</table>\n",
       "</div>"
      ],
      "text/plain": [
       "       job_satisfaction_rate\n",
       "count             2000.00000\n",
       "mean                 0.54878\n",
       "std                  0.22011\n",
       "min                  0.03000\n",
       "25%                  0.38000\n",
       "50%                  0.58000\n",
       "75%                  0.72000\n",
       "max                  1.00000"
      ]
     },
     "execution_count": 29,
     "metadata": {},
     "output_type": "execute_result"
    }
   ],
   "source": [
    "test_target_job_satisfaction_rate.describe()"
   ]
  },
  {
   "cell_type": "markdown",
   "id": "1679f84c-0cf3-4255-8ef4-05cc808a9b16",
   "metadata": {},
   "source": [
    "Медианный уровень удовлетворенности компанией у сотрудников составляет 0.58."
   ]
  },
  {
   "cell_type": "markdown",
   "id": "8ec5c051-9a51-404a-8b9f-0cee5c3ef352",
   "metadata": {},
   "source": [
    "### 3.2 Визуализация признаков"
   ]
  },
  {
   "cell_type": "markdown",
   "id": "875bbd36-7d16-49a8-ba20-620f415dfe64",
   "metadata": {},
   "source": [
    "Для большей наглядности визуализируем признаки, которые выше мы анализировали. Для этого нам понадобятся две функции: функция для визуализации числовых признаков и функция для визуализации строковых признаков. Создадим их."
   ]
  },
  {
   "cell_type": "code",
   "execution_count": 30,
   "id": "0c5ad317-3721-4fd6-8a59-eec697a1b10e",
   "metadata": {},
   "outputs": [],
   "source": [
    "def cat_feature_plot(df, cat_col):\n",
    "    '''\n",
    "    ФУНКЦИЯ ДЛЯ ОТРИСОВКИ КАТЕГОРИАЛЬНЫХ ПРИЗНАКОВ\n",
    "    на вход получает датафрейм и список категориальных колонок\n",
    "    и для каждой колонки строит график countplot()\n",
    "    если количество уникальных значений в колонке больше 4х, то переворачивает на 90 имена категорий, чтобы ничего не \n",
    "    накладывалось друг на друга\n",
    "    '''\n",
    "    plt.figure(figsize=(16, 16))\n",
    "    plt.suptitle('Распределение категориальных признаков таблицы', fontsize=14)\n",
    "    plt.subplots_adjust(left=0.13, \n",
    "                    right=0.93, \n",
    "                    top=0.93, \n",
    "                    bottom= 0.27, \n",
    "                    wspace= 0.3, \n",
    "                    hspace=0.3)\n",
    "    c = 1\n",
    "    for column in cat_col:\n",
    "        if (len(df[column].unique()) > 4) and (df[column].dtype == 'O'):\n",
    "            plt.subplot(4, 4, c)\n",
    "            plt.ylabel('количество')\n",
    "            plt.xticks(rotation=90)\n",
    "            plt.xlabel('')\n",
    "            sns.countplot(x=df[column])\n",
    "        else:\n",
    "            plt.subplot(4, 4, c)\n",
    "            plt.ylabel('количество')\n",
    "            plt.xticks(rotation=0)\n",
    "            plt.xlabel('')\n",
    "            sns.countplot(x=df[column])\n",
    "        c+=1\n",
    "    plt.show()  "
   ]
  },
  {
   "cell_type": "code",
   "execution_count": 31,
   "id": "45d67b95-14e6-4f56-b2ae-f62faf064ac5",
   "metadata": {},
   "outputs": [],
   "source": [
    "def num_feature_plot(df, num_col):\n",
    "    '''\n",
    "    ФУНКЦИЯ ДЛЯ ОТРИСОВКИ ЧИСЛОВЫХ ПРИЗНАКОВ\n",
    "    на вход получает датафрейм и список числовых колонок\n",
    "    и для каждой колонки строит график boxplot()\n",
    "    '''\n",
    "    plt.figure(figsize=(16, 16))\n",
    "    plt.suptitle('Распределение числовых признаков таблицы', fontsize=14)\n",
    "    plt.subplots_adjust(left=0.13, \n",
    "                    right=0.93, \n",
    "                    top=0.93, \n",
    "                    bottom= 0.27, \n",
    "                    wspace= 0.3, \n",
    "                    hspace=0.3)\n",
    "    c = 1\n",
    "    for column in num_col:\n",
    "        plt.subplot(4, 4, c)\n",
    "        sns.boxplot(data=df, x=column)\n",
    "        c+=1\n",
    "    plt.show() "
   ]
  },
  {
   "cell_type": "markdown",
   "id": "768da4f3-3b4d-4214-b65f-93efd4d5ebfc",
   "metadata": {},
   "source": [
    "#### 3.2.1 Таблица 'train_job_satisfaction_rate'"
   ]
  },
  {
   "cell_type": "code",
   "execution_count": 32,
   "id": "07a58523-f3a5-4e1c-9a17-ec4f62139566",
   "metadata": {},
   "outputs": [
    {
     "data": {
      "image/png": "[encoded data removed]",
      "text/plain": [
       "<Figure size 1152x1152 with 6 Axes>"
      ]
     },
     "metadata": {
      "needs_background": "light"
     },
     "output_type": "display_data"
    },
    {
     "data": {
      "image/png": "[encoded data removed]",
      "text/plain": [
       "<Figure size 1152x1152 with 3 Axes>"
      ]
     },
     "metadata": {
      "needs_background": "light"
     },
     "output_type": "display_data"
    }
   ],
   "source": [
    "cat_feature_plot(train_job_satisfaction_rate, cat_col_train)\n",
    "num_feature_plot(train_job_satisfaction_rate, num_col_train)"
   ]
  },
  {
   "cell_type": "markdown",
   "id": "36d8e64c-4733-495e-8eb3-7e1b449a7cc8",
   "metadata": {},
   "source": [
    "На графиках категориальных признаков отчетливо видны вышеописанные пропорции в данных. На графиках числовых признаков видно, что в колонке зарплата присутствуют выбросы - это зарплаты от 75000 рублей до 100000 рублей. Таких значений не очень много - порядка 20-30 штук. По остальным числовым признакам выбросов и аномалий нет."
   ]
  },
  {
   "cell_type": "markdown",
   "id": "415e1404-a591-4c5f-b6cf-260baecbbe9f",
   "metadata": {},
   "source": [
    "#### 3.2.2 Таблица 'test_features'"
   ]
  },
  {
   "cell_type": "code",
   "execution_count": 33,
   "id": "0dd00c34-6d16-4367-bc47-71660b46c9cf",
   "metadata": {},
   "outputs": [
    {
     "data": {
      "image/png": "[encoded data removed]",
      "text/plain": [
       "<Figure size 1152x1152 with 6 Axes>"
      ]
     },
     "metadata": {
      "needs_background": "light"
     },
     "output_type": "display_data"
    },
    {
     "data": {
      "image/png": "[encoded data removed]",
      "text/plain": [
       "<Figure size 1152x1152 with 2 Axes>"
      ]
     },
     "metadata": {
      "needs_background": "light"
     },
     "output_type": "display_data"
    }
   ],
   "source": [
    "cat_feature_plot(test_features, cat_col_test)\n",
    "num_feature_plot(test_features, num_col_test)"
   ]
  },
  {
   "cell_type": "markdown",
   "id": "9bfab4dc-2d97-4862-9f01-d60cdaf16ac7",
   "metadata": {},
   "source": [
    "Опять же, присутсвуют выбросы в колонке 'salary' - это зарплаты от 75000 рублей до 100000 рублей. Таких значений порядка 20 штук."
   ]
  },
  {
   "cell_type": "markdown",
   "id": "44321a86-4a2d-4d68-b7cc-001723adb566",
   "metadata": {},
   "source": [
    "#### 3.2.3 Таблица 'test_target_job_satisfaction_rate'"
   ]
  },
  {
   "cell_type": "code",
   "execution_count": 34,
   "id": "10f66a28-ee23-4360-bdbb-9b17c6dc5e74",
   "metadata": {},
   "outputs": [
    {
     "data": {
      "image/png": "[encoded data removed]",
      "text/plain": [
       "<Figure size 1152x1152 with 1 Axes>"
      ]
     },
     "metadata": {
      "needs_background": "light"
     },
     "output_type": "display_data"
    }
   ],
   "source": [
    "num_feature_plot(test_target_job_satisfaction_rate, ['job_satisfaction_rate'])"
   ]
  },
  {
   "cell_type": "markdown",
   "id": "7293ed30-89d5-4d3b-88d2-094c7f649208",
   "metadata": {},
   "source": [
    "Выбросы и аномалии отсутствуют."
   ]
  },
  {
   "cell_type": "markdown",
   "id": "3aa5de7e-c94f-498d-9aee-f2741e09b577",
   "metadata": {},
   "source": [
    "### 3.3 Матрица корреляции датафрейма 'train_job_satisfaction_rate'"
   ]
  },
  {
   "cell_type": "markdown",
   "id": "f4f1f0ae-47b5-47bc-af53-389b20a94816",
   "metadata": {},
   "source": [
    "Будущую модель мы будем обучать на датафрейме 'train_job_satisfaction_rate'. Поэтому рассмотрим матрицу корреляции между всеми признаками этой таблицы. Посколько присутсвтуют категориальные признаки, то для построения матрицы корреляции будем использовать библиотеку phik."
   ]
  },
  {
   "cell_type": "code",
   "execution_count": 35,
   "id": "cea36166-7eb6-414d-9b89-ebb1547dff29",
   "metadata": {},
   "outputs": [
    {
     "name": "stdout",
     "output_type": "stream",
     "text": [
      "(9, 9)\n"
     ]
    }
   ],
   "source": [
    "# считаем корреляции нашего датафрейма для всего кроме первой колонки (id)\n",
    "phik_overview = train_job_satisfaction_rate.phik_matrix(interval_cols=num_col_train)\n",
    "print(phik_overview.shape)"
   ]
  },
  {
   "cell_type": "code",
   "execution_count": 36,
   "id": "4dc41d57-1cd6-46b0-a463-ba0c562a080b",
   "metadata": {},
   "outputs": [
    {
     "data": {
      "image/png": "[encoded data removed]",
      "text/plain": [
       "<Figure size 1152x864 with 2 Axes>"
      ]
     },
     "metadata": {
      "needs_background": "light"
     },
     "output_type": "display_data"
    }
   ],
   "source": [
    "from phik.report import plot_correlation_matrix\n",
    "\n",
    "plot_correlation_matrix(\n",
    "    phik_overview.values,\n",
    "    x_labels=phik_overview.columns,\n",
    "    y_labels=phik_overview.index,\n",
    "    vmin=0, vmax=1, color_map='Greens',\n",
    "    title=r'correlation $\\phi_K$',\n",
    "    fontsize_factor=1.5,\n",
    "    figsize=(16, 12)\n",
    ") \n",
    "plt.title('Матрица корреляции всех признаков', fontsize = 20)\n",
    "plt.show()"
   ]
  },
  {
   "cell_type": "markdown",
   "id": "9bd6d65e-077e-4c19-9ea7-a87d42180ede",
   "metadata": {},
   "source": [
    "Мультиколлинеарность между признаками отсутствует. Присутсвует высокая корреляция (0.76) между уровнем удовлетворенности сотрудника и оценкой работы, которую дал руководитель. Чем сотрудник более удовлетворен, тем лучше он делает свою работу, а соответственно руководитель тем выше его оценивает, тут все логично. Также удовлетворенность коррелирует (0.56) с тем, нарушал ли сотрудник трудовой договор. Чем более удовлетворен сотрудник, тем с большей уверенностью можно предположить, что сотрудник не нарушал договор. Помимо этого, высокая корреляция присутсвует между зарплатой и загруженностью (0.79), а также зарплатой и уровнем сотрудника (0.72): чем выше уровень сотрудника и чем больше его занятость, тем больше зарплата. Также достаточно высокая корреляция (0.68) присутсвтует между количеством лет в компании и уровнем: чем дольше сотрудник в компании, тем выше его уровень."
   ]
  },
  {
   "cell_type": "markdown",
   "id": "02c80c7e-a85c-463c-b8d8-ca40aba7b0a1",
   "metadata": {},
   "source": [
    "### 3.4 Вывод"
   ]
  },
  {
   "cell_type": "markdown",
   "id": "4bc9ebdf-1754-449a-aabd-6dbf34095fa4",
   "metadata": {},
   "source": [
    "В ходе анализа данных были обнаружены сходства в таблицах 'train_job_satisfaction_rate'  и 'test_features'. Распределения признаков примерно равные:\n",
    "медианный опыт работы сотрудника составляет 3 года, а зарплата 30000 рублей. Распределение по департаментам: 'sales' - около 38%, 'technology' - около 22%, остальные - от 11 до 15 процентов. По уровню сотрудников: примерно равное количество джуниоров (48%) и миддлов (42%). Сеньоры составляют меньшую часть (около 8%). По загруженности - большинсво сотрудников имеют среднюю  или низкую (суммарно более 80%). Высокую имеет около 18%. За последний год зарплата повышалась лишь у 3% сотрудников. Трудовой договор нарушало около 13% сотрудников.\n",
    "\n",
    "Также были замечены выбросы в таблицах 'train_job_satisfaction_rate'  и 'test_features'. Они наблюдались в значениях зарплаты: это 20-30 значений зарплаты в диапозоне от 75000 до 100000 рублей, что объясняется тем, что в компании присутсвует низкий процент специалистов уровня сеньор, и их зарплаты выбиваются из зарплат всех сотрудников.\n",
    "\n",
    "Была построена матрица корреляция для таблицы 'train_job_satisfaction_rate'. Мультиколлинеарность между признаками отсутсвует. Присутсвуют логичные корреляции между некоторыми признаками (например: зарплата и загруженность, зарплата и уровень сотрудника)."
   ]
  },
  {
   "cell_type": "markdown",
   "id": "f6644fa6-4e99-44db-8fde-614441629587",
   "metadata": {},
   "source": [
    "## 4. Подготовка данных"
   ]
  },
  {
   "cell_type": "markdown",
   "id": "a8ec4f3b-e54e-4b79-8679-ceb31716893a",
   "metadata": {},
   "source": [
    "Для работы нашей будующей модели необходимо подготовить данные. Создадим пайплайн, который будет кодировать категориальные колонки и скалировать непрерывные. Наша модель будет обучаться на датасете 'train_job_satisfaction_rate'. Поэтому пока что будем работать с ним."
   ]
  },
  {
   "cell_type": "markdown",
   "id": "d8542e23-27dc-4a6b-9324-caa618f35c43",
   "metadata": {},
   "source": [
    "Для начала создадим тренировочную выборку.\n",
    "Затем создадим тестовую выборку."
   ]
  },
  {
   "cell_type": "code",
   "execution_count": 37,
   "id": "af784717-c61c-48c1-b96f-99b57dde44a0",
   "metadata": {},
   "outputs": [],
   "source": [
    "#создание тренировочной выборки\n",
    "X_train = train_job_satisfaction_rate.drop(['job_satisfaction_rate'], axis=1)\n",
    "y_train = train_job_satisfaction_rate['job_satisfaction_rate']\n",
    "#создание тестовой выборки\n",
    "X_test = test_features\n",
    "y_test = test_target_job_satisfaction_rate['job_satisfaction_rate']\n"
   ]
  },
  {
   "cell_type": "markdown",
   "id": "2e0d3452-2feb-4bf9-93ac-880940a74e21",
   "metadata": {},
   "source": [
    "Далее создадим пайплайн для обработки данных. Будем обрабатывать категориальную неранговую колонку при помощи OneHotEncoder(), категориальные ранговые с помощью OrdinalEncoder(), а непрерывные числовые при помощи MinMaxScaler(). Целовой признак обрабатывать не будем, так как он и так находится в пределах от 0 до 1."
   ]
  },
  {
   "cell_type": "code",
   "execution_count": 38,
   "id": "44520c71-7150-4b91-b7ec-f63583c1bc4f",
   "metadata": {},
   "outputs": [],
   "source": [
    "# создаём списки с названиями признаков\n",
    "ohe_columns = ['dept']\n",
    "ord_columns = ['level', 'workload', 'last_year_promo', 'last_year_violations', 'supervisor_evaluation']\n",
    "num_columns = ['employment_years', 'salary']\n",
    "\n",
    "# создаём пайплайн для подготовки признаков из списка ohe_columns: заполнение пропусков и OHE-кодирование\n",
    "# SimpleImputer + OHE\n",
    "ohe_pipe = Pipeline(\n",
    "    [('simpleImputer_ohe', SimpleImputer(missing_values=np.nan, strategy='most_frequent')),\n",
    "     ('ohe', OneHotEncoder(drop='first', handle_unknown='ignore', sparse_output=False))\n",
    "    ]\n",
    "    )\n",
    "# создаём пайплайн для подготовки признаков из списка ord_columns: заполнение пропусков и Ordinal-кодирование\n",
    "# SimpleImputer + OE\n",
    "ord_pipe = Pipeline(\n",
    "    [('simpleImputer_before_ord', SimpleImputer(missing_values=np.nan, strategy='most_frequent')),\n",
    "     ('ord',  OrdinalEncoder(\n",
    "                categories = [\n",
    "                    ['junior', 'middle', 'sinior'],\n",
    "                    ['low', 'medium', 'high'],\n",
    "                    ['no', 'yes'],\n",
    "                    ['yes', 'no'],\n",
    "                    [1, 2, 3, 4, 5]\n",
    "                ],                  \n",
    "                handle_unknown='use_encoded_value', unknown_value=np.nan\n",
    "            )\n",
    "        ),\n",
    "     ('simpleImputer_after_ord', SimpleImputer(missing_values=np.nan, strategy='most_frequent'))\n",
    "    ]\n",
    ")\n",
    "# создаём общий пайплайн для подготовки данных\n",
    "data_preprocessor = ColumnTransformer(\n",
    "    [('ohe', ohe_pipe, ohe_columns),  \n",
    "     ('ord', ord_pipe, ord_columns),   \n",
    "     ('num', MinMaxScaler(), num_columns)\n",
    "    ], \n",
    "    remainder='passthrough'\n",
    ")"
   ]
  },
  {
   "cell_type": "markdown",
   "id": "7f5a65bf-fe10-4b98-a87b-c8ca7e5a651f",
   "metadata": {},
   "source": [
    "Выборки подготовлены: присутсвуют тренировочная, валидационная и тестовая. Пайплайн 'data_preprocessor' для предобработки признаков готов. В дальнейшем он войдет в финальный пайплайн, в котором также будет и сама модель."
   ]
  },
  {
   "cell_type": "markdown",
   "id": "631355aa-63b5-4057-bc77-e587791fe8d7",
   "metadata": {},
   "source": [
    "## 5. Обучение моделей"
   ]
  },
  {
   "cell_type": "markdown",
   "id": "88fce9fd-4a5d-46b5-92ab-7d89b88f2d4d",
   "metadata": {},
   "source": [
    "В качестве моделей мы будем использовать две модели: LinearRegression() и RandomForestRegressor(), будем подбирать для них различные гиперпараметры и найдем лучшую при помощи RandomSearchCV() и метрики SMAPE. Критерием успеха будет считаться результат: SMAPE <= 15 на тестовых данных."
   ]
  },
  {
   "cell_type": "markdown",
   "id": "ce4bbe75-893c-4524-adf4-efc634e71780",
   "metadata": {},
   "source": [
    "Начнем с написания функции, для расчета метрики SMAPE."
   ]
  },
  {
   "cell_type": "code",
   "execution_count": 39,
   "id": "85973244-fe45-438a-9067-6269ca855f31",
   "metadata": {},
   "outputs": [],
   "source": [
    "def smape_metric(y_true, y_pred):\n",
    "    n = len(y_true)\n",
    "    metric = 100 / n * np.sum(np.abs(y_true - y_pred) / ((np.abs(y_true) + np.abs(y_pred)) / 2))\n",
    "    return metric\n",
    "\n",
    "# создаём пользовательскую метрику\n",
    "smape = make_scorer(smape_metric, greater_is_better=False)"
   ]
  },
  {
   "cell_type": "markdown",
   "id": "d7b19938-d6f2-4355-8128-862631494bba",
   "metadata": {},
   "source": [
    "Теперь создадим пайплайн 'pipe_final', который будет включать в себя пайплайн 'data_preprocessor' по предобработке входных признаков и этап моделирования. А дальше при помощи RandomSearchCV() найдем наиболее подходящую модель с лучшими гиперпараметрами, и высчитаем лучшую метрику SMAPE."
   ]
  },
  {
   "cell_type": "code",
   "execution_count": 40,
   "id": "3c3d04c1-40f6-4c18-9565-76c7f10f1c08",
   "metadata": {},
   "outputs": [
    {
     "name": "stdout",
     "output_type": "stream",
     "text": [
      "Лучшая модель и её параметры:\n",
      "\n",
      " Pipeline(steps=[('preprocessor',\n",
      "                 ColumnTransformer(remainder='passthrough',\n",
      "                                   transformers=[('ohe',\n",
      "                                                  Pipeline(steps=[('simpleImputer_ohe',\n",
      "                                                                   SimpleImputer(strategy='most_frequent')),\n",
      "                                                                  ('ohe',\n",
      "                                                                   OneHotEncoder(drop='first',\n",
      "                                                                                 handle_unknown='ignore',\n",
      "                                                                                 sparse_output=False))]),\n",
      "                                                  ['dept']),\n",
      "                                                 ('ord',\n",
      "                                                  Pipeline(steps=[('simpleImputer_before_ord',\n",
      "                                                                   SimpleImputer(strategy='most_frequ...\n",
      "                                                                                  handle_unknown='use_encoded_value',\n",
      "                                                                                  unknown_value=nan)),\n",
      "                                                                  ('simpleImputer_after_ord',\n",
      "                                                                   SimpleImputer(strategy='most_frequent'))]),\n",
      "                                                  ['level', 'workload',\n",
      "                                                   'last_year_promo',\n",
      "                                                   'last_year_violations',\n",
      "                                                   'supervisor_evaluation']),\n",
      "                                                 ('num', MinMaxScaler(),\n",
      "                                                  ['employment_years',\n",
      "                                                   'salary'])])),\n",
      "                ('models',\n",
      "                 RandomForestRegressor(max_depth=16, max_features=18,\n",
      "                                       min_samples_split=3, n_estimators=77,\n",
      "                                       random_state=42))])\n",
      "Метрика лучшей модели на тренировочной выборке: 13.250060318140049\n",
      "Метрика SMAPE на тестовой выборке: 12.374399795776867\n"
     ]
    }
   ],
   "source": [
    "pipe_final = Pipeline([\n",
    "    ('preprocessor', data_preprocessor),\n",
    "    ('models',  LinearRegression()\n",
    "    )\n",
    "])\n",
    "param_grid = [\n",
    "  \n",
    "    # словарь для модели LogisticRegression()\n",
    "    {\n",
    "        'models': [LinearRegression()],\n",
    "        'preprocessor__num': [StandardScaler(), MinMaxScaler(), 'passthrough']  \n",
    "    },\n",
    "    # словарь для модели  RandomForestRegressor()\n",
    "    {\n",
    "        'models': [RandomForestRegressor(random_state=RANDOM_STATE)],\n",
    "        'models__min_samples_split' : range(2, 20),\n",
    "        'models__max_depth': range(2, 20),\n",
    "        'models__max_features': range(2, 20),\n",
    "        'models__n_estimators': range(1, 100),\n",
    "        'preprocessor__num': [StandardScaler(), MinMaxScaler(), 'passthrough']\n",
    "    }\n",
    "]\n",
    "randomized_search = RandomizedSearchCV(\n",
    "    pipe_final, \n",
    "    param_grid, \n",
    "    cv=5,\n",
    "    n_iter=40,\n",
    "    scoring=smape,\n",
    "    random_state=RANDOM_STATE,\n",
    "    n_jobs=-1\n",
    ")\n",
    "randomized_search.fit(X_train, y_train)\n",
    "\n",
    "print('Лучшая модель и её параметры:\\n\\n', randomized_search.best_estimator_)\n",
    "print ('Метрика лучшей модели на тренировочной выборке:', np.abs(randomized_search.best_score_))\n",
    "\n",
    "#предсказания на валидационной выборке\n",
    "#y_valid_pred = randomized_search.predict(X_valid)\n",
    "#предсказания на тестовой выборке\n",
    "y_test_pred = randomized_search.predict(X_test)\n",
    "\n",
    "#print(f'Метрика SMAPE на валидационной выборке: {smape_metric(y_valid, y_valid_pred)}')\n",
    "print(f'Метрика SMAPE на тестовой выборке: {smape_metric(y_test, y_test_pred)}')"
   ]
  },
  {
   "cell_type": "markdown",
   "id": "aeefa62f-a2c5-49f9-9412-286657f436d5",
   "metadata": {},
   "source": [
    "## 6. Вывод"
   ]
  },
  {
   "cell_type": "markdown",
   "id": "b452fd93-b750-4831-ae98-737ecbbe3d40",
   "metadata": {},
   "source": [
    "Получилось, что лучше всего с задачей справилась модель RandomForestRegressor(max_depth=16, max_features=18, min_samples_split=3, n_estimators=77, random_state=42). На тренировочной выборке она показала значение метрики SMAPE = 13.2, а на тестовой еще лучше: SMAPE = 12.3.\n",
    "\n",
    "Это модель справилась лучше, чем LinearRegression(), так как среди признаков были нелинейные категориальные признаки, а модель LinearRegression() хорошо работает, когда признаки имеют близкую к линейной зависимость от целевого признака."
   ]
  },
  {
   "cell_type": "markdown",
   "id": "00170ded-c8aa-4863-8697-6b2d77ec519a",
   "metadata": {},
   "source": [
    "# Задача 2: предсказание увольнения сотрудника из компании"
   ]
  },
  {
   "cell_type": "markdown",
   "id": "33a2781a-db62-4b4b-a1ec-7fd61bd8ab0b",
   "metadata": {},
   "source": [
    "## 1. Загрузка данных"
   ]
  },
  {
   "cell_type": "markdown",
   "id": "5f379337-b46a-4d04-9465-cc66cbba19f9",
   "metadata": {},
   "source": [
    "Загрузим новые данные. Одна из таблиц у нас уже обработана в первой задаче - это 'test_features', поэтому ее мы пока не трогаем, а загружаем и работаем только с таблицами 'train_quit' и 'test_target_quit'"
   ]
  },
  {
   "cell_type": "code",
   "execution_count": 41,
   "id": "3e6c0c04-4477-4b7d-a584-d237573d8bbb",
   "metadata": {},
   "outputs": [],
   "source": [
    "try:\n",
    "    train_quit = pd.read_csv('/datasets/train_quit.csv')\n",
    "    test_target_quit = pd.read_csv('/datasets/test_target_quit.csv')\n",
    "except:\n",
    "    train_quit = pd.read_csv('C/datasets/train_quit.csv')\n",
    "    test_target_quit = pd.read_csv('C/datasets/test_target_quit.csv')"
   ]
  },
  {
   "cell_type": "markdown",
   "id": "0c96c6c2-4543-4c10-b739-0ddb5ade3f53",
   "metadata": {},
   "source": [
    "Посмотрим на наши датафреймы."
   ]
  },
  {
   "cell_type": "code",
   "execution_count": 42,
   "id": "dfbab81b-eec5-4910-979a-7ad0edb5014b",
   "metadata": {},
   "outputs": [
    {
     "name": "stdout",
     "output_type": "stream",
     "text": [
      "<class 'pandas.core.frame.DataFrame'>\n",
      "RangeIndex: 4000 entries, 0 to 3999\n",
      "Data columns (total 10 columns):\n",
      " #   Column                 Non-Null Count  Dtype \n",
      "---  ------                 --------------  ----- \n",
      " 0   id                     4000 non-null   int64 \n",
      " 1   dept                   4000 non-null   object\n",
      " 2   level                  4000 non-null   object\n",
      " 3   workload               4000 non-null   object\n",
      " 4   employment_years       4000 non-null   int64 \n",
      " 5   last_year_promo        4000 non-null   object\n",
      " 6   last_year_violations   4000 non-null   object\n",
      " 7   supervisor_evaluation  4000 non-null   int64 \n",
      " 8   salary                 4000 non-null   int64 \n",
      " 9   quit                   4000 non-null   object\n",
      "dtypes: int64(4), object(6)\n",
      "memory usage: 312.6+ KB\n"
     ]
    }
   ],
   "source": [
    "train_quit.info()"
   ]
  },
  {
   "cell_type": "code",
   "execution_count": 43,
   "id": "b885a68e-e24c-49e0-af70-719706a4c25a",
   "metadata": {},
   "outputs": [
    {
     "data": {
      "text/html": [
       "<div>\n",
       "<style scoped>\n",
       "    .dataframe tbody tr th:only-of-type {\n",
       "        vertical-align: middle;\n",
       "    }\n",
       "\n",
       "    .dataframe tbody tr th {\n",
       "        vertical-align: top;\n",
       "    }\n",
       "\n",
       "    .dataframe thead th {\n",
       "        text-align: right;\n",
       "    }\n",
       "</style>\n",
       "<table border=\"1\" class=\"dataframe\">\n",
       "  <thead>\n",
       "    <tr style=\"text-align: right;\">\n",
       "      <th></th>\n",
       "      <th>id</th>\n",
       "      <th>dept</th>\n",
       "      <th>level</th>\n",
       "      <th>workload</th>\n",
       "      <th>employment_years</th>\n",
       "      <th>last_year_promo</th>\n",
       "      <th>last_year_violations</th>\n",
       "      <th>supervisor_evaluation</th>\n",
       "      <th>salary</th>\n",
       "      <th>quit</th>\n",
       "    </tr>\n",
       "  </thead>\n",
       "  <tbody>\n",
       "    <tr>\n",
       "      <th>0</th>\n",
       "      <td>723290</td>\n",
       "      <td>sales</td>\n",
       "      <td>middle</td>\n",
       "      <td>high</td>\n",
       "      <td>2</td>\n",
       "      <td>no</td>\n",
       "      <td>no</td>\n",
       "      <td>4</td>\n",
       "      <td>54000</td>\n",
       "      <td>no</td>\n",
       "    </tr>\n",
       "    <tr>\n",
       "      <th>1</th>\n",
       "      <td>814010</td>\n",
       "      <td>sales</td>\n",
       "      <td>junior</td>\n",
       "      <td>medium</td>\n",
       "      <td>2</td>\n",
       "      <td>no</td>\n",
       "      <td>no</td>\n",
       "      <td>4</td>\n",
       "      <td>27600</td>\n",
       "      <td>no</td>\n",
       "    </tr>\n",
       "    <tr>\n",
       "      <th>2</th>\n",
       "      <td>155091</td>\n",
       "      <td>purchasing</td>\n",
       "      <td>middle</td>\n",
       "      <td>medium</td>\n",
       "      <td>5</td>\n",
       "      <td>no</td>\n",
       "      <td>no</td>\n",
       "      <td>1</td>\n",
       "      <td>37200</td>\n",
       "      <td>no</td>\n",
       "    </tr>\n",
       "    <tr>\n",
       "      <th>3</th>\n",
       "      <td>257132</td>\n",
       "      <td>sales</td>\n",
       "      <td>junior</td>\n",
       "      <td>medium</td>\n",
       "      <td>2</td>\n",
       "      <td>no</td>\n",
       "      <td>yes</td>\n",
       "      <td>3</td>\n",
       "      <td>24000</td>\n",
       "      <td>yes</td>\n",
       "    </tr>\n",
       "    <tr>\n",
       "      <th>4</th>\n",
       "      <td>910140</td>\n",
       "      <td>marketing</td>\n",
       "      <td>junior</td>\n",
       "      <td>medium</td>\n",
       "      <td>2</td>\n",
       "      <td>no</td>\n",
       "      <td>no</td>\n",
       "      <td>5</td>\n",
       "      <td>25200</td>\n",
       "      <td>no</td>\n",
       "    </tr>\n",
       "  </tbody>\n",
       "</table>\n",
       "</div>"
      ],
      "text/plain": [
       "       id        dept   level workload  employment_years last_year_promo  \\\n",
       "0  723290       sales  middle     high                 2              no   \n",
       "1  814010       sales  junior   medium                 2              no   \n",
       "2  155091  purchasing  middle   medium                 5              no   \n",
       "3  257132       sales  junior   medium                 2              no   \n",
       "4  910140   marketing  junior   medium                 2              no   \n",
       "\n",
       "  last_year_violations  supervisor_evaluation  salary quit  \n",
       "0                   no                      4   54000   no  \n",
       "1                   no                      4   27600   no  \n",
       "2                   no                      1   37200   no  \n",
       "3                  yes                      3   24000  yes  \n",
       "4                   no                      5   25200   no  "
      ]
     },
     "execution_count": 43,
     "metadata": {},
     "output_type": "execute_result"
    }
   ],
   "source": [
    "train_quit.head()"
   ]
  },
  {
   "cell_type": "code",
   "execution_count": 44,
   "id": "7f2e4e9b-e3a1-40ab-9333-29300ac4b4e0",
   "metadata": {},
   "outputs": [
    {
     "name": "stdout",
     "output_type": "stream",
     "text": [
      "<class 'pandas.core.frame.DataFrame'>\n",
      "RangeIndex: 2000 entries, 0 to 1999\n",
      "Data columns (total 2 columns):\n",
      " #   Column  Non-Null Count  Dtype \n",
      "---  ------  --------------  ----- \n",
      " 0   id      2000 non-null   int64 \n",
      " 1   quit    2000 non-null   object\n",
      "dtypes: int64(1), object(1)\n",
      "memory usage: 31.4+ KB\n"
     ]
    }
   ],
   "source": [
    "test_target_quit.info()"
   ]
  },
  {
   "cell_type": "code",
   "execution_count": 45,
   "id": "08b9a7bd-a7ca-4c35-9968-9fcb8a5a81db",
   "metadata": {},
   "outputs": [
    {
     "data": {
      "text/html": [
       "<div>\n",
       "<style scoped>\n",
       "    .dataframe tbody tr th:only-of-type {\n",
       "        vertical-align: middle;\n",
       "    }\n",
       "\n",
       "    .dataframe tbody tr th {\n",
       "        vertical-align: top;\n",
       "    }\n",
       "\n",
       "    .dataframe thead th {\n",
       "        text-align: right;\n",
       "    }\n",
       "</style>\n",
       "<table border=\"1\" class=\"dataframe\">\n",
       "  <thead>\n",
       "    <tr style=\"text-align: right;\">\n",
       "      <th></th>\n",
       "      <th>id</th>\n",
       "      <th>quit</th>\n",
       "    </tr>\n",
       "  </thead>\n",
       "  <tbody>\n",
       "    <tr>\n",
       "      <th>0</th>\n",
       "      <td>999029</td>\n",
       "      <td>yes</td>\n",
       "    </tr>\n",
       "    <tr>\n",
       "      <th>1</th>\n",
       "      <td>372846</td>\n",
       "      <td>no</td>\n",
       "    </tr>\n",
       "    <tr>\n",
       "      <th>2</th>\n",
       "      <td>726767</td>\n",
       "      <td>no</td>\n",
       "    </tr>\n",
       "    <tr>\n",
       "      <th>3</th>\n",
       "      <td>490105</td>\n",
       "      <td>no</td>\n",
       "    </tr>\n",
       "    <tr>\n",
       "      <th>4</th>\n",
       "      <td>416898</td>\n",
       "      <td>yes</td>\n",
       "    </tr>\n",
       "  </tbody>\n",
       "</table>\n",
       "</div>"
      ],
      "text/plain": [
       "       id quit\n",
       "0  999029  yes\n",
       "1  372846   no\n",
       "2  726767   no\n",
       "3  490105   no\n",
       "4  416898  yes"
      ]
     },
     "execution_count": 45,
     "metadata": {},
     "output_type": "execute_result"
    }
   ],
   "source": [
    "test_target_quit.head()"
   ]
  },
  {
   "cell_type": "markdown",
   "id": "7ca8bc26-839b-4e13-b429-4805cae16657",
   "metadata": {},
   "source": [
    "Данные в таблицах соответствуют описанию. Колонки в датафреймах правильно разделены, имена колонок приведены к змеиному регистру. Значения в колонках представлены подходящими типами данных."
   ]
  },
  {
   "cell_type": "markdown",
   "id": "1d851aa5-4121-4503-9f27-96dfcec9cff3",
   "metadata": {},
   "source": [
    "## 2. Предобработка данных"
   ]
  },
  {
   "cell_type": "markdown",
   "id": "2fa9ff0f-8be4-470f-b9af-fa550ec58a44",
   "metadata": {},
   "source": [
    "### 2.1 Пропуски и дубликаты"
   ]
  },
  {
   "cell_type": "markdown",
   "id": "e8d9dcd0-b8cc-4676-bd86-8f9236d95f36",
   "metadata": {},
   "source": [
    "Изучим информацию по каждому датафрейму и внесем изменения, если это нужно."
   ]
  },
  {
   "cell_type": "markdown",
   "id": "ba7e0050-f22e-4fe5-ae13-e08e14774400",
   "metadata": {},
   "source": [
    "#### 2.1.1 Датафрейм 'train_quit'"
   ]
  },
  {
   "cell_type": "code",
   "execution_count": 46,
   "id": "3c71f58a-cdd4-4171-af7f-90cf1b8d07f3",
   "metadata": {},
   "outputs": [
    {
     "data": {
      "text/plain": [
       "id                       0\n",
       "dept                     0\n",
       "level                    0\n",
       "workload                 0\n",
       "employment_years         0\n",
       "last_year_promo          0\n",
       "last_year_violations     0\n",
       "supervisor_evaluation    0\n",
       "salary                   0\n",
       "quit                     0\n",
       "dtype: int64"
      ]
     },
     "execution_count": 46,
     "metadata": {},
     "output_type": "execute_result"
    }
   ],
   "source": [
    "train_quit.isna().sum()"
   ]
  },
  {
   "cell_type": "markdown",
   "id": "4d900f82-1aa0-4914-8543-3f2a0a70f16b",
   "metadata": {},
   "source": [
    "Пропуски отсутствуют."
   ]
  },
  {
   "cell_type": "markdown",
   "id": "f3670e25-a617-4644-b8ef-d44876c22e80",
   "metadata": {},
   "source": [
    "Теперь посмотрим на значения в категориальных колонках, возможно там есть опечатки, и из-за этого создались новые классы. Создадим список из колонок со строковыми значениями и выведем уникальные значения для каждой колонки."
   ]
  },
  {
   "cell_type": "code",
   "execution_count": 47,
   "id": "7c12e4ca-1c06-4b3e-b759-78229cb17c26",
   "metadata": {},
   "outputs": [
    {
     "name": "stdout",
     "output_type": "stream",
     "text": [
      "dept : ['sales' 'purchasing' 'marketing' 'technology' 'hr']\n",
      "level : ['middle' 'junior' 'sinior']\n",
      "workload : ['high' 'medium' 'low']\n",
      "last_year_promo : ['no' 'yes']\n",
      "last_year_violations : ['no' 'yes']\n",
      "quit : ['no' 'yes']\n"
     ]
    }
   ],
   "source": [
    "columns = train_quit.select_dtypes(include='object').columns.tolist()\n",
    "for column in columns:\n",
    "    print(column, ':', train_quit[column].unique())"
   ]
  },
  {
   "cell_type": "markdown",
   "id": "cd15038e-db30-440b-af14-0f9ec127a77e",
   "metadata": {},
   "source": [
    "Все отлично, опечаток нет."
   ]
  },
  {
   "cell_type": "markdown",
   "id": "6b2321a7-f5ac-4fee-a861-b5c8a032dbb3",
   "metadata": {},
   "source": [
    "И теперь проверим наши данные на наличие дубликатов."
   ]
  },
  {
   "cell_type": "code",
   "execution_count": 48,
   "id": "686d55e7-688b-4a27-b4cd-d81f2c7e083a",
   "metadata": {},
   "outputs": [
    {
     "data": {
      "text/plain": [
       "0"
      ]
     },
     "execution_count": 48,
     "metadata": {},
     "output_type": "execute_result"
    }
   ],
   "source": [
    "train_quit.duplicated().sum()"
   ]
  },
  {
   "cell_type": "markdown",
   "id": "49dc1f42-ca4c-4a91-8869-3e217e5a454b",
   "metadata": {},
   "source": [
    "Дубликаты отсутствуют."
   ]
  },
  {
   "cell_type": "markdown",
   "id": "6f2b217c-720c-4933-a5e4-8069b6b55acc",
   "metadata": {},
   "source": [
    "#### 2.1.2 Датафрейм 'test_target_quit'"
   ]
  },
  {
   "cell_type": "code",
   "execution_count": 49,
   "id": "f5930a5a",
   "metadata": {},
   "outputs": [
    {
     "data": {
      "text/plain": [
       "id      0\n",
       "quit    0\n",
       "dtype: int64"
      ]
     },
     "execution_count": 49,
     "metadata": {},
     "output_type": "execute_result"
    }
   ],
   "source": [
    "test_target_quit.isna().sum()"
   ]
  },
  {
   "cell_type": "markdown",
   "id": "9ebfb221-f6d0-48fb-98f3-6eb4fcf854c6",
   "metadata": {},
   "source": [
    "Пропуски отсутствуют."
   ]
  },
  {
   "cell_type": "markdown",
   "id": "67c608b0-467c-491e-bffe-d65e51d6d7a2",
   "metadata": {},
   "source": [
    "Теперь посмотрим на значения в колонке 'quit', возможно там есть опечатки, и из-за этого создались новые классы."
   ]
  },
  {
   "cell_type": "code",
   "execution_count": 50,
   "id": "b043ffa8-2084-4b63-a0ae-bc3068b17029",
   "metadata": {},
   "outputs": [
    {
     "data": {
      "text/plain": [
       "no     1436\n",
       "yes     564\n",
       "Name: quit, dtype: int64"
      ]
     },
     "execution_count": 50,
     "metadata": {},
     "output_type": "execute_result"
    }
   ],
   "source": [
    "test_target_quit['quit'].value_counts()"
   ]
  },
  {
   "cell_type": "markdown",
   "id": "e21c00b3-20ef-43fc-b277-5173f86870ec",
   "metadata": {},
   "source": [
    "Опечаток нет."
   ]
  },
  {
   "cell_type": "code",
   "execution_count": 51,
   "id": "54b8bf65-3695-4954-aaa8-e377e903f096",
   "metadata": {},
   "outputs": [
    {
     "data": {
      "text/plain": [
       "0"
      ]
     },
     "execution_count": 51,
     "metadata": {},
     "output_type": "execute_result"
    }
   ],
   "source": [
    "test_target_quit.duplicated().sum()"
   ]
  },
  {
   "cell_type": "markdown",
   "id": "a42cb60a-6b50-4e3c-9dbc-a6e1bd865a4e",
   "metadata": {},
   "source": [
    "Дубликаты отсутствуют."
   ]
  },
  {
   "cell_type": "markdown",
   "id": "6ad38ef6-552f-428d-a97c-680461977ca3",
   "metadata": {},
   "source": [
    "### 2.2 Смена индексов"
   ]
  },
  {
   "cell_type": "markdown",
   "id": "8da1a925-3d29-4a70-9cfd-94946fb15bff",
   "metadata": {},
   "source": [
    "Для удобства в дальнейшей работе сделаем колонку 'id' индексом в датафреймах. И отсортируем датафреймы по индексу в порядке возрастания."
   ]
  },
  {
   "cell_type": "code",
   "execution_count": 52,
   "id": "07dbbe99-8f16-4c67-b26e-4de84d4bfbae",
   "metadata": {},
   "outputs": [],
   "source": [
    "train_quit = train_quit.set_index('id').sort_values(by='id')\n",
    "test_target_quit = test_target_quit.set_index('id').sort_values(by='id')"
   ]
  },
  {
   "cell_type": "markdown",
   "id": "8ffdfd0e-dd3b-4c10-a3d1-c5736515b705",
   "metadata": {},
   "source": [
    "### 2.3 Вывод"
   ]
  },
  {
   "cell_type": "markdown",
   "id": "48ce9086-6e1c-4a25-942d-63bdbcb5a577",
   "metadata": {},
   "source": [
    "Предобработка данных выполнена. Пропуски и дубликаты в датафреймах отсутствуют. Индексы в таблицах были изменены на колонку 'id'."
   ]
  },
  {
   "cell_type": "markdown",
   "id": "3566f9ac-e545-4a69-b17b-63141fcce048",
   "metadata": {},
   "source": [
    "## 3. Исследовательский анализ данных"
   ]
  },
  {
   "cell_type": "markdown",
   "id": "15849060-2240-428f-8be6-60d5a01a124a",
   "metadata": {},
   "source": [
    "Анализ мы проведем аналогично анализу в 1 задаче. Будем использовать функцию describe() для непрерывных признаков и value_count() для категориальных. А потом при помощи ранее написанных функций cat_feature_plot() и num_feature_plot() визуализируем данные."
   ]
  },
  {
   "cell_type": "markdown",
   "id": "47e007cf-e30e-4904-abe5-87fd2d04c78d",
   "metadata": {},
   "source": [
    "### 3.1 Статистический анализ данных"
   ]
  },
  {
   "cell_type": "markdown",
   "id": "bb8b144a-c2b0-419b-9252-00206b92cc8e",
   "metadata": {},
   "source": [
    "#### 3.1.1 Датафрейм 'train_quit'"
   ]
  },
  {
   "cell_type": "code",
   "execution_count": 55,
   "id": "91127e57-297b-4630-8d91-6be763e6b0f4",
   "metadata": {},
   "outputs": [
    {
     "data": {
      "text/html": [
       "<div>\n",
       "<style scoped>\n",
       "    .dataframe tbody tr th:only-of-type {\n",
       "        vertical-align: middle;\n",
       "    }\n",
       "\n",
       "    .dataframe tbody tr th {\n",
       "        vertical-align: top;\n",
       "    }\n",
       "\n",
       "    .dataframe thead th {\n",
       "        text-align: right;\n",
       "    }\n",
       "</style>\n",
       "<table border=\"1\" class=\"dataframe\">\n",
       "  <thead>\n",
       "    <tr style=\"text-align: right;\">\n",
       "      <th></th>\n",
       "      <th>dept</th>\n",
       "      <th>level</th>\n",
       "      <th>workload</th>\n",
       "      <th>employment_years</th>\n",
       "      <th>last_year_promo</th>\n",
       "      <th>last_year_violations</th>\n",
       "      <th>supervisor_evaluation</th>\n",
       "      <th>salary</th>\n",
       "      <th>quit</th>\n",
       "    </tr>\n",
       "    <tr>\n",
       "      <th>id</th>\n",
       "      <th></th>\n",
       "      <th></th>\n",
       "      <th></th>\n",
       "      <th></th>\n",
       "      <th></th>\n",
       "      <th></th>\n",
       "      <th></th>\n",
       "      <th></th>\n",
       "      <th></th>\n",
       "    </tr>\n",
       "  </thead>\n",
       "  <tbody>\n",
       "    <tr>\n",
       "      <th>100222</th>\n",
       "      <td>sales</td>\n",
       "      <td>junior</td>\n",
       "      <td>medium</td>\n",
       "      <td>3</td>\n",
       "      <td>no</td>\n",
       "      <td>no</td>\n",
       "      <td>2</td>\n",
       "      <td>20400</td>\n",
       "      <td>yes</td>\n",
       "    </tr>\n",
       "    <tr>\n",
       "      <th>100459</th>\n",
       "      <td>purchasing</td>\n",
       "      <td>junior</td>\n",
       "      <td>medium</td>\n",
       "      <td>3</td>\n",
       "      <td>no</td>\n",
       "      <td>no</td>\n",
       "      <td>3</td>\n",
       "      <td>21600</td>\n",
       "      <td>yes</td>\n",
       "    </tr>\n",
       "    <tr>\n",
       "      <th>100469</th>\n",
       "      <td>marketing</td>\n",
       "      <td>junior</td>\n",
       "      <td>medium</td>\n",
       "      <td>1</td>\n",
       "      <td>no</td>\n",
       "      <td>no</td>\n",
       "      <td>4</td>\n",
       "      <td>28800</td>\n",
       "      <td>no</td>\n",
       "    </tr>\n",
       "    <tr>\n",
       "      <th>100601</th>\n",
       "      <td>technology</td>\n",
       "      <td>middle</td>\n",
       "      <td>high</td>\n",
       "      <td>4</td>\n",
       "      <td>no</td>\n",
       "      <td>no</td>\n",
       "      <td>4</td>\n",
       "      <td>68400</td>\n",
       "      <td>no</td>\n",
       "    </tr>\n",
       "    <tr>\n",
       "      <th>100858</th>\n",
       "      <td>sales</td>\n",
       "      <td>junior</td>\n",
       "      <td>medium</td>\n",
       "      <td>2</td>\n",
       "      <td>no</td>\n",
       "      <td>no</td>\n",
       "      <td>4</td>\n",
       "      <td>25200</td>\n",
       "      <td>yes</td>\n",
       "    </tr>\n",
       "  </tbody>\n",
       "</table>\n",
       "</div>"
      ],
      "text/plain": [
       "              dept   level workload  employment_years last_year_promo  \\\n",
       "id                                                                      \n",
       "100222       sales  junior   medium                 3              no   \n",
       "100459  purchasing  junior   medium                 3              no   \n",
       "100469   marketing  junior   medium                 1              no   \n",
       "100601  technology  middle     high                 4              no   \n",
       "100858       sales  junior   medium                 2              no   \n",
       "\n",
       "       last_year_violations  supervisor_evaluation  salary quit  \n",
       "id                                                               \n",
       "100222                   no                      2   20400  yes  \n",
       "100459                   no                      3   21600  yes  \n",
       "100469                   no                      4   28800   no  \n",
       "100601                   no                      4   68400   no  \n",
       "100858                   no                      4   25200  yes  "
      ]
     },
     "execution_count": 55,
     "metadata": {},
     "output_type": "execute_result"
    }
   ],
   "source": [
    "train_quit.head()"
   ]
  },
  {
   "cell_type": "code",
   "execution_count": 56,
   "id": "86995bcd-1e53-45b0-a47a-b98db5af3fc0",
   "metadata": {},
   "outputs": [],
   "source": [
    "num_col_train = ['employment_years', 'salary']\n",
    "cat_col_train = ['dept', 'level', 'workload', 'last_year_promo', 'last_year_violations', 'supervisor_evaluation', 'quit']"
   ]
  },
  {
   "cell_type": "code",
   "execution_count": 57,
   "id": "91443a1b-5e4b-4811-9c8f-e3881e3961e0",
   "metadata": {},
   "outputs": [
    {
     "data": {
      "text/html": [
       "<div>\n",
       "<style scoped>\n",
       "    .dataframe tbody tr th:only-of-type {\n",
       "        vertical-align: middle;\n",
       "    }\n",
       "\n",
       "    .dataframe tbody tr th {\n",
       "        vertical-align: top;\n",
       "    }\n",
       "\n",
       "    .dataframe thead th {\n",
       "        text-align: right;\n",
       "    }\n",
       "</style>\n",
       "<table border=\"1\" class=\"dataframe\">\n",
       "  <thead>\n",
       "    <tr style=\"text-align: right;\">\n",
       "      <th></th>\n",
       "      <th>employment_years</th>\n",
       "      <th>salary</th>\n",
       "    </tr>\n",
       "  </thead>\n",
       "  <tbody>\n",
       "    <tr>\n",
       "      <th>count</th>\n",
       "      <td>4000.000000</td>\n",
       "      <td>4000.000000</td>\n",
       "    </tr>\n",
       "    <tr>\n",
       "      <th>mean</th>\n",
       "      <td>3.701500</td>\n",
       "      <td>33805.800000</td>\n",
       "    </tr>\n",
       "    <tr>\n",
       "      <th>std</th>\n",
       "      <td>2.541852</td>\n",
       "      <td>15152.415163</td>\n",
       "    </tr>\n",
       "    <tr>\n",
       "      <th>min</th>\n",
       "      <td>1.000000</td>\n",
       "      <td>12000.000000</td>\n",
       "    </tr>\n",
       "    <tr>\n",
       "      <th>25%</th>\n",
       "      <td>2.000000</td>\n",
       "      <td>22800.000000</td>\n",
       "    </tr>\n",
       "    <tr>\n",
       "      <th>50%</th>\n",
       "      <td>3.000000</td>\n",
       "      <td>30000.000000</td>\n",
       "    </tr>\n",
       "    <tr>\n",
       "      <th>75%</th>\n",
       "      <td>6.000000</td>\n",
       "      <td>43200.000000</td>\n",
       "    </tr>\n",
       "    <tr>\n",
       "      <th>max</th>\n",
       "      <td>10.000000</td>\n",
       "      <td>96000.000000</td>\n",
       "    </tr>\n",
       "  </tbody>\n",
       "</table>\n",
       "</div>"
      ],
      "text/plain": [
       "       employment_years        salary\n",
       "count       4000.000000   4000.000000\n",
       "mean           3.701500  33805.800000\n",
       "std            2.541852  15152.415163\n",
       "min            1.000000  12000.000000\n",
       "25%            2.000000  22800.000000\n",
       "50%            3.000000  30000.000000\n",
       "75%            6.000000  43200.000000\n",
       "max           10.000000  96000.000000"
      ]
     },
     "execution_count": 57,
     "metadata": {},
     "output_type": "execute_result"
    }
   ],
   "source": [
    "train_quit[num_col_train].describe()"
   ]
  },
  {
   "cell_type": "code",
   "execution_count": 58,
   "id": "7517b60c-def7-4b66-8abc-01426ea09574",
   "metadata": {},
   "outputs": [
    {
     "name": "stdout",
     "output_type": "stream",
     "text": [
      "sales         0.3595\n",
      "technology    0.2320\n",
      "purchasing    0.1470\n",
      "marketing     0.1455\n",
      "hr            0.1160\n",
      "Name: dept, dtype: float64\n",
      "\n",
      "junior    0.48725\n",
      "middle    0.42350\n",
      "sinior    0.08925\n",
      "Name: level, dtype: float64\n",
      "\n",
      "medium    0.5295\n",
      "low       0.3020\n",
      "high      0.1685\n",
      "Name: workload, dtype: float64\n",
      "\n",
      "no     0.97175\n",
      "yes    0.02825\n",
      "Name: last_year_promo, dtype: float64\n",
      "\n",
      "no     0.86375\n",
      "yes    0.13625\n",
      "Name: last_year_violations, dtype: float64\n",
      "\n",
      "4    0.41350\n",
      "3    0.30825\n",
      "5    0.13000\n",
      "2    0.09775\n",
      "1    0.05050\n",
      "Name: supervisor_evaluation, dtype: float64\n",
      "\n",
      "no     0.718\n",
      "yes    0.282\n",
      "Name: quit, dtype: float64\n",
      "\n"
     ]
    }
   ],
   "source": [
    "for column in cat_col_train:\n",
    "    print(train_quit[column].value_counts(normalize=True))\n",
    "    print()"
   ]
  },
  {
   "cell_type": "markdown",
   "id": "0c0cb481-3de2-4c46-8a85-56a8cf24ac36",
   "metadata": {},
   "source": [
    "Медианное время работы в компании составляет 3 года, медианная зарплата 30000 рублей. \n",
    "\n",
    "По депортаментам распределение выглядит следующим образом: самым популярным департаментом является 'sales' (36%), за ним идет 'technology' (23%), а на остальные департменты приходится от 11 до 15 процентов. По уровню сотрудников: примерно равное количество джуниоров (48%) и миддлов (42%). Сеньоры составляют меньшую часть (около 9%). По загруженности - большинсво сотрудников имеют среднюю (53%) или низкую (30%). Высокую имеет 17%. За последний год зарплата повышалась лишь у 3% сотрудников. Трудовой договор нарушало около 14% сотрудников. Самая частовстречаемая оценка сотрудников - 4."
   ]
  },
  {
   "cell_type": "markdown",
   "id": "6439e3d0-1fd3-4b1f-9207-3775a427a355",
   "metadata": {},
   "source": [
    "#### 3.1.2 Датафрейм 'test_target_quit'"
   ]
  },
  {
   "cell_type": "code",
   "execution_count": 59,
   "id": "e7d0c4be-695d-43cf-9ca0-b99288885bf1",
   "metadata": {},
   "outputs": [
    {
     "data": {
      "text/plain": [
       "quit\n",
       "no      0.718\n",
       "yes     0.282\n",
       "dtype: float64"
      ]
     },
     "execution_count": 59,
     "metadata": {},
     "output_type": "execute_result"
    }
   ],
   "source": [
    "test_target_quit.value_counts(normalize=True)"
   ]
  },
  {
   "cell_type": "markdown",
   "id": "0db48e0e-527a-4dba-aead-2240e21fc3ee",
   "metadata": {},
   "source": [
    "Уволившихся сотрудников меньшая часть от общего числа, и составляет 28%."
   ]
  },
  {
   "cell_type": "markdown",
   "id": "85c5d300-fba2-49bd-a202-52dca5ea6bac",
   "metadata": {},
   "source": [
    "### 3.2 Визуализация признаков"
   ]
  },
  {
   "cell_type": "markdown",
   "id": "881ecedd-3d69-453f-9b72-2d3af640bb9b",
   "metadata": {},
   "source": [
    "#### 3.2.1 Датафрейм 'train_quit'"
   ]
  },
  {
   "cell_type": "code",
   "execution_count": 60,
   "id": "fb1fc4da-ac30-4069-90d7-1f33ea2967ed",
   "metadata": {},
   "outputs": [
    {
     "data": {
      "image/png": "[encoded data removed]",
      "text/plain": [
       "<Figure size 1152x1152 with 7 Axes>"
      ]
     },
     "metadata": {
      "needs_background": "light"
     },
     "output_type": "display_data"
    },
    {
     "data": {
      "image/png": "[encoded data removed]",
      "text/plain": [
       "<Figure size 1152x1152 with 2 Axes>"
      ]
     },
     "metadata": {
      "needs_background": "light"
     },
     "output_type": "display_data"
    }
   ],
   "source": [
    "cat_feature_plot(train_quit, cat_col_train)\n",
    "num_feature_plot(train_quit, num_col_train)"
   ]
  },
  {
   "cell_type": "markdown",
   "id": "34e65680-a3d6-49c7-982e-34ab0a4eac1f",
   "metadata": {},
   "source": [
    "На графиках категориальных признаков отчетливо видны вышеописанные пропорции в данных. На графиках числовых признаков видно, что в колонке зарплата присутствуют выбросы - это зарплаты от 75000 рублей до 100000 рублей. Таких значений не очень много - порядка 20-30 штук. По остальным числовым признакам выбросов и аномалий нет."
   ]
  },
  {
   "cell_type": "markdown",
   "id": "4a73bd3f-c6f7-4131-b8ac-ecf9e567af88",
   "metadata": {},
   "source": [
    "#### 3.2.2 Датафрейм 'test_target_quit'"
   ]
  },
  {
   "cell_type": "code",
   "execution_count": 61,
   "id": "f1c9a7ee-7fc3-4ac2-b28c-626a5b83aee9",
   "metadata": {},
   "outputs": [
    {
     "data": {
      "image/png": "[encoded data removed]",
      "text/plain": [
       "<Figure size 1152x1152 with 1 Axes>"
      ]
     },
     "metadata": {
      "needs_background": "light"
     },
     "output_type": "display_data"
    }
   ],
   "source": [
    "cat_feature_plot(test_target_quit, ['quit'])"
   ]
  },
  {
   "cell_type": "markdown",
   "id": "1fd024f1-21e5-423d-8d67-d1d6e1a78181",
   "metadata": {},
   "source": [
    "### 3.3 Матрица корреляции датафрейма 'train_quit'"
   ]
  },
  {
   "cell_type": "markdown",
   "id": "5f91a339-2ca5-486a-bfad-505ec9749233",
   "metadata": {},
   "source": [
    "Будущую модель мы будем обучать на датафрейме 'train_quit'. Поэтому рассмотрим матрицу корреляции между всеми признаками этой таблицы. Посколько присутсвтуют категориальные признаки, то для построения матрицы корреляции будем использовать библиотеку phik."
   ]
  },
  {
   "cell_type": "code",
   "execution_count": 62,
   "id": "c3057411-499d-4018-a4d2-303ef9eaa2a8",
   "metadata": {},
   "outputs": [
    {
     "name": "stdout",
     "output_type": "stream",
     "text": [
      "(9, 9)\n"
     ]
    }
   ],
   "source": [
    "# считаем корреляции нашего датафрейма для всего кроме первой колонки (id)\n",
    "phik_overview = train_quit.phik_matrix(interval_cols=num_col_train)\n",
    "print(phik_overview.shape)"
   ]
  },
  {
   "cell_type": "code",
   "execution_count": 63,
   "id": "778b38df-b82e-425c-8b70-5e3632ed8447",
   "metadata": {},
   "outputs": [
    {
     "data": {
      "image/png": "[encoded data removed]",
      "text/plain": [
       "<Figure size 1152x864 with 2 Axes>"
      ]
     },
     "metadata": {
      "needs_background": "light"
     },
     "output_type": "display_data"
    }
   ],
   "source": [
    "from phik.report import plot_correlation_matrix\n",
    "\n",
    "plot_correlation_matrix(\n",
    "    phik_overview.values,\n",
    "    x_labels=phik_overview.columns,\n",
    "    y_labels=phik_overview.index,\n",
    "    vmin=0, vmax=1, color_map='Greens',\n",
    "    title=r'correlation $\\phi_K$',\n",
    "    fontsize_factor=1.5,\n",
    "    figsize=(16, 12)\n",
    ") \n",
    "plt.title('Матрица корреляции всех признаков', fontsize = 20)\n",
    "plt.show()"
   ]
  },
  {
   "cell_type": "markdown",
   "id": "df04416c-ccf0-435e-bc4f-46e5798a4266",
   "metadata": {},
   "source": [
    "Мультиколлинеарность между признаками отсутствует. Высокая корреляция присутсвует между зарплатой и загруженностью (0.79), а также зарплатой и уровнем сотрудника (0.75): чем выше уровень сотрудника и чем больше его занятость, тем больше зарплата. Также достаточно высокая корреляция (0.69) присутсвтует между количеством лет в компании и уровнем: чем дольше сотрудник в компании, тем выше его уровень."
   ]
  },
  {
   "cell_type": "markdown",
   "id": "52093ccd-70c8-4eae-9d47-7d6e189ed750",
   "metadata": {},
   "source": [
    "### 3.4 Портрет \"уволившегося сотрудника\""
   ]
  },
  {
   "cell_type": "markdown",
   "id": "39113866-9428-4192-9660-a85a18290d46",
   "metadata": {},
   "source": [
    "Составим портрет «уволившегося сотрудника». Посмотрим какой отдел преобладает среди уволившихся сотрудников, какая загруженность у них была, какая оценка от руководства. Создадим новый датафрейм на основе 'train_quit', где будут только уволившиеся сотрудники."
   ]
  },
  {
   "cell_type": "code",
   "execution_count": 64,
   "id": "788d1504-440d-4cd2-9d4c-b2809b67005e",
   "metadata": {},
   "outputs": [
    {
     "data": {
      "text/html": [
       "<div>\n",
       "<style scoped>\n",
       "    .dataframe tbody tr th:only-of-type {\n",
       "        vertical-align: middle;\n",
       "    }\n",
       "\n",
       "    .dataframe tbody tr th {\n",
       "        vertical-align: top;\n",
       "    }\n",
       "\n",
       "    .dataframe thead th {\n",
       "        text-align: right;\n",
       "    }\n",
       "</style>\n",
       "<table border=\"1\" class=\"dataframe\">\n",
       "  <thead>\n",
       "    <tr style=\"text-align: right;\">\n",
       "      <th></th>\n",
       "      <th>dept</th>\n",
       "      <th>level</th>\n",
       "      <th>workload</th>\n",
       "      <th>employment_years</th>\n",
       "      <th>last_year_promo</th>\n",
       "      <th>last_year_violations</th>\n",
       "      <th>supervisor_evaluation</th>\n",
       "      <th>salary</th>\n",
       "      <th>quit</th>\n",
       "    </tr>\n",
       "    <tr>\n",
       "      <th>id</th>\n",
       "      <th></th>\n",
       "      <th></th>\n",
       "      <th></th>\n",
       "      <th></th>\n",
       "      <th></th>\n",
       "      <th></th>\n",
       "      <th></th>\n",
       "      <th></th>\n",
       "      <th></th>\n",
       "    </tr>\n",
       "  </thead>\n",
       "  <tbody>\n",
       "    <tr>\n",
       "      <th>100222</th>\n",
       "      <td>sales</td>\n",
       "      <td>junior</td>\n",
       "      <td>medium</td>\n",
       "      <td>3</td>\n",
       "      <td>no</td>\n",
       "      <td>no</td>\n",
       "      <td>2</td>\n",
       "      <td>20400</td>\n",
       "      <td>yes</td>\n",
       "    </tr>\n",
       "    <tr>\n",
       "      <th>100459</th>\n",
       "      <td>purchasing</td>\n",
       "      <td>junior</td>\n",
       "      <td>medium</td>\n",
       "      <td>3</td>\n",
       "      <td>no</td>\n",
       "      <td>no</td>\n",
       "      <td>3</td>\n",
       "      <td>21600</td>\n",
       "      <td>yes</td>\n",
       "    </tr>\n",
       "    <tr>\n",
       "      <th>100858</th>\n",
       "      <td>sales</td>\n",
       "      <td>junior</td>\n",
       "      <td>medium</td>\n",
       "      <td>2</td>\n",
       "      <td>no</td>\n",
       "      <td>no</td>\n",
       "      <td>4</td>\n",
       "      <td>25200</td>\n",
       "      <td>yes</td>\n",
       "    </tr>\n",
       "    <tr>\n",
       "      <th>100969</th>\n",
       "      <td>marketing</td>\n",
       "      <td>junior</td>\n",
       "      <td>medium</td>\n",
       "      <td>2</td>\n",
       "      <td>no</td>\n",
       "      <td>no</td>\n",
       "      <td>3</td>\n",
       "      <td>26400</td>\n",
       "      <td>yes</td>\n",
       "    </tr>\n",
       "    <tr>\n",
       "      <th>102630</th>\n",
       "      <td>technology</td>\n",
       "      <td>junior</td>\n",
       "      <td>medium</td>\n",
       "      <td>2</td>\n",
       "      <td>no</td>\n",
       "      <td>no</td>\n",
       "      <td>2</td>\n",
       "      <td>30000</td>\n",
       "      <td>yes</td>\n",
       "    </tr>\n",
       "  </tbody>\n",
       "</table>\n",
       "</div>"
      ],
      "text/plain": [
       "              dept   level workload  employment_years last_year_promo  \\\n",
       "id                                                                      \n",
       "100222       sales  junior   medium                 3              no   \n",
       "100459  purchasing  junior   medium                 3              no   \n",
       "100858       sales  junior   medium                 2              no   \n",
       "100969   marketing  junior   medium                 2              no   \n",
       "102630  technology  junior   medium                 2              no   \n",
       "\n",
       "       last_year_violations  supervisor_evaluation  salary quit  \n",
       "id                                                               \n",
       "100222                   no                      2   20400  yes  \n",
       "100459                   no                      3   21600  yes  \n",
       "100858                   no                      4   25200  yes  \n",
       "100969                   no                      3   26400  yes  \n",
       "102630                   no                      2   30000  yes  "
      ]
     },
     "execution_count": 64,
     "metadata": {},
     "output_type": "execute_result"
    }
   ],
   "source": [
    "quit = train_quit[train_quit['quit'] == 'yes']\n",
    "quit.head()"
   ]
  },
  {
   "cell_type": "markdown",
   "id": "98b0a6d7-c9a3-4854-b530-1ca944b72c3d",
   "metadata": {},
   "source": [
    "Проведем анализ данных нового датафрейма."
   ]
  },
  {
   "cell_type": "code",
   "execution_count": 65,
   "id": "dd55a2b2-836f-4d8e-8df7-58d62ba2ec56",
   "metadata": {},
   "outputs": [
    {
     "data": {
      "text/html": [
       "<div>\n",
       "<style scoped>\n",
       "    .dataframe tbody tr th:only-of-type {\n",
       "        vertical-align: middle;\n",
       "    }\n",
       "\n",
       "    .dataframe tbody tr th {\n",
       "        vertical-align: top;\n",
       "    }\n",
       "\n",
       "    .dataframe thead th {\n",
       "        text-align: right;\n",
       "    }\n",
       "</style>\n",
       "<table border=\"1\" class=\"dataframe\">\n",
       "  <thead>\n",
       "    <tr style=\"text-align: right;\">\n",
       "      <th></th>\n",
       "      <th>employment_years</th>\n",
       "      <th>supervisor_evaluation</th>\n",
       "      <th>salary</th>\n",
       "    </tr>\n",
       "  </thead>\n",
       "  <tbody>\n",
       "    <tr>\n",
       "      <th>count</th>\n",
       "      <td>1128.000000</td>\n",
       "      <td>1128.000000</td>\n",
       "      <td>1128.000000</td>\n",
       "    </tr>\n",
       "    <tr>\n",
       "      <th>mean</th>\n",
       "      <td>1.844858</td>\n",
       "      <td>3.046099</td>\n",
       "      <td>23885.106383</td>\n",
       "    </tr>\n",
       "    <tr>\n",
       "      <th>std</th>\n",
       "      <td>1.274920</td>\n",
       "      <td>0.973291</td>\n",
       "      <td>9351.599505</td>\n",
       "    </tr>\n",
       "    <tr>\n",
       "      <th>min</th>\n",
       "      <td>1.000000</td>\n",
       "      <td>1.000000</td>\n",
       "      <td>12000.000000</td>\n",
       "    </tr>\n",
       "    <tr>\n",
       "      <th>25%</th>\n",
       "      <td>1.000000</td>\n",
       "      <td>3.000000</td>\n",
       "      <td>16800.000000</td>\n",
       "    </tr>\n",
       "    <tr>\n",
       "      <th>50%</th>\n",
       "      <td>1.000000</td>\n",
       "      <td>3.000000</td>\n",
       "      <td>22800.000000</td>\n",
       "    </tr>\n",
       "    <tr>\n",
       "      <th>75%</th>\n",
       "      <td>2.000000</td>\n",
       "      <td>4.000000</td>\n",
       "      <td>27600.000000</td>\n",
       "    </tr>\n",
       "    <tr>\n",
       "      <th>max</th>\n",
       "      <td>10.000000</td>\n",
       "      <td>5.000000</td>\n",
       "      <td>79200.000000</td>\n",
       "    </tr>\n",
       "  </tbody>\n",
       "</table>\n",
       "</div>"
      ],
      "text/plain": [
       "       employment_years  supervisor_evaluation        salary\n",
       "count       1128.000000            1128.000000   1128.000000\n",
       "mean           1.844858               3.046099  23885.106383\n",
       "std            1.274920               0.973291   9351.599505\n",
       "min            1.000000               1.000000  12000.000000\n",
       "25%            1.000000               3.000000  16800.000000\n",
       "50%            1.000000               3.000000  22800.000000\n",
       "75%            2.000000               4.000000  27600.000000\n",
       "max           10.000000               5.000000  79200.000000"
      ]
     },
     "execution_count": 65,
     "metadata": {},
     "output_type": "execute_result"
    }
   ],
   "source": [
    "quit.describe()"
   ]
  },
  {
   "cell_type": "code",
   "execution_count": 66,
   "id": "de616c5b-5023-40aa-b0bb-c70de1f49259",
   "metadata": {},
   "outputs": [
    {
     "name": "stdout",
     "output_type": "stream",
     "text": [
      "sales         0.3595\n",
      "technology    0.2320\n",
      "purchasing    0.1470\n",
      "marketing     0.1455\n",
      "hr            0.1160\n",
      "Name: dept, dtype: float64\n",
      "\n",
      "junior    0.48725\n",
      "middle    0.42350\n",
      "sinior    0.08925\n",
      "Name: level, dtype: float64\n",
      "\n",
      "medium    0.5295\n",
      "low       0.3020\n",
      "high      0.1685\n",
      "Name: workload, dtype: float64\n",
      "\n",
      "no     0.97175\n",
      "yes    0.02825\n",
      "Name: last_year_promo, dtype: float64\n",
      "\n",
      "no     0.86375\n",
      "yes    0.13625\n",
      "Name: last_year_violations, dtype: float64\n",
      "\n",
      "4    0.41350\n",
      "3    0.30825\n",
      "5    0.13000\n",
      "2    0.09775\n",
      "1    0.05050\n",
      "Name: supervisor_evaluation, dtype: float64\n",
      "\n",
      "no     0.718\n",
      "yes    0.282\n",
      "Name: quit, dtype: float64\n",
      "\n"
     ]
    }
   ],
   "source": [
    "for column in cat_col_train:\n",
    "    print(train_quit[column].value_counts(normalize=True))\n",
    "    print()"
   ]
  },
  {
   "cell_type": "code",
   "execution_count": 67,
   "id": "e16d4610-e4f8-4d00-ba19-e8e8a79b0366",
   "metadata": {},
   "outputs": [
    {
     "data": {
      "image/png": "[encoded data removed]",
      "text/plain": [
       "<Figure size 1152x1152 with 7 Axes>"
      ]
     },
     "metadata": {
      "needs_background": "light"
     },
     "output_type": "display_data"
    },
    {
     "data": {
      "image/png": "[encoded data removed]",
      "text/plain": [
       "<Figure size 1152x1152 with 2 Axes>"
      ]
     },
     "metadata": {
      "needs_background": "light"
     },
     "output_type": "display_data"
    }
   ],
   "source": [
    "cat_feature_plot(quit, cat_col_train)\n",
    "num_feature_plot(quit, num_col_train)"
   ]
  },
  {
   "cell_type": "markdown",
   "id": "930c69c2-8e5a-4100-91f6-0159256baf15",
   "metadata": {},
   "source": [
    "Получилось, что от отдела увольнения не зависят. В абсолютных значениях лидирует отдел 'sales', а за ним идет 'technology', но эта пропорция примерно равно общему распределению всех сотрудников по отделам. Так же не зависит увольнение от загруженности, примерно равное количество людей со малой и средней загруженностью (пропорция аналогичная как в датафрейме train_quit). Различия наблюдаются во времени работы и зарплате. Уволившиеся люди, это люди, как правило проработавшие в компании 1 год и имеющие зарплату 22800 рублей. То есть такие, кто только устроился, не понравилось / не справились и они ушли. Присутсвуют некоторые выбросы, т.е. бывает увольняются люди и с зарплатой от 40000 до 80000, люди проработвашие более 4 лет, но это исключения."
   ]
  },
  {
   "cell_type": "markdown",
   "id": "c9997a39-0871-45d8-a3fb-d350f3427dc0",
   "metadata": {},
   "source": [
    "### 3.5 Распределения признака 'job_satisfaction_rate' для ушедших и оставшихся сотрудников"
   ]
  },
  {
   "cell_type": "markdown",
   "id": "18e8deb7-b697-45f9-b4a8-4ba11b4af823",
   "metadata": {},
   "source": [
    "Аналитики утверждают, что уровень удовлетворённости сотрудника работой в компании влияет на то, уволится ли сотрудник. Проверим это утверждение: визуализируем и сравнним распределения признака 'job_satisfaction_rate' для ушедших и оставшихся сотрудников. Для проверки будем использовать данные с обоими целевыми признаками тестовой выборки."
   ]
  },
  {
   "cell_type": "code",
   "execution_count": 68,
   "id": "e09a9cdc-9c24-401e-ab13-9395aeaf7617",
   "metadata": {},
   "outputs": [],
   "source": [
    "quit_rate = test_target_job_satisfaction_rate.merge(test_target_quit, on='id', how='inner')"
   ]
  },
  {
   "cell_type": "code",
   "execution_count": 69,
   "id": "6080c50c-634b-4145-8957-13aed556bef0",
   "metadata": {},
   "outputs": [
    {
     "data": {
      "text/plain": [
       "job_satisfaction_rate    0\n",
       "quit                     0\n",
       "dtype: int64"
      ]
     },
     "execution_count": 69,
     "metadata": {},
     "output_type": "execute_result"
    }
   ],
   "source": [
    "quit_rate.isna().sum()"
   ]
  },
  {
   "cell_type": "markdown",
   "id": "bc61d928-7dd1-473d-8896-b6cbad69e0ee",
   "metadata": {},
   "source": [
    "Данные объединили, пропуски отсутсвуют. Теперь посмотрим на распределение рейтинга между теми кто уволился, и теми, кто работает."
   ]
  },
  {
   "cell_type": "code",
   "execution_count": 70,
   "id": "fa9346fc",
   "metadata": {},
   "outputs": [
    {
     "data": {
      "text/html": [
       "<div>\n",
       "<style scoped>\n",
       "    .dataframe tbody tr th:only-of-type {\n",
       "        vertical-align: middle;\n",
       "    }\n",
       "\n",
       "    .dataframe tbody tr th {\n",
       "        vertical-align: top;\n",
       "    }\n",
       "\n",
       "    .dataframe thead th {\n",
       "        text-align: right;\n",
       "    }\n",
       "</style>\n",
       "<table border=\"1\" class=\"dataframe\">\n",
       "  <thead>\n",
       "    <tr style=\"text-align: right;\">\n",
       "      <th></th>\n",
       "      <th>job_satisfaction_rate</th>\n",
       "      <th>quit</th>\n",
       "    </tr>\n",
       "    <tr>\n",
       "      <th>id</th>\n",
       "      <th></th>\n",
       "      <th></th>\n",
       "    </tr>\n",
       "  </thead>\n",
       "  <tbody>\n",
       "    <tr>\n",
       "      <th>100298</th>\n",
       "      <td>0.80</td>\n",
       "      <td>no</td>\n",
       "    </tr>\n",
       "    <tr>\n",
       "      <th>100480</th>\n",
       "      <td>0.84</td>\n",
       "      <td>no</td>\n",
       "    </tr>\n",
       "    <tr>\n",
       "      <th>100503</th>\n",
       "      <td>0.79</td>\n",
       "      <td>no</td>\n",
       "    </tr>\n",
       "    <tr>\n",
       "      <th>100610</th>\n",
       "      <td>0.75</td>\n",
       "      <td>no</td>\n",
       "    </tr>\n",
       "    <tr>\n",
       "      <th>100692</th>\n",
       "      <td>0.69</td>\n",
       "      <td>no</td>\n",
       "    </tr>\n",
       "  </tbody>\n",
       "</table>\n",
       "</div>"
      ],
      "text/plain": [
       "        job_satisfaction_rate quit\n",
       "id                                \n",
       "100298                   0.80   no\n",
       "100480                   0.84   no\n",
       "100503                   0.79   no\n",
       "100610                   0.75   no\n",
       "100692                   0.69   no"
      ]
     },
     "execution_count": 70,
     "metadata": {},
     "output_type": "execute_result"
    }
   ],
   "source": [
    "quit_rate.head()"
   ]
  },
  {
   "cell_type": "code",
   "execution_count": 71,
   "id": "3d165ab8",
   "metadata": {},
   "outputs": [
    {
     "data": {
      "image/png": "[encoded data removed]",
      "text/plain": [
       "<Figure size 432x288 with 1 Axes>"
      ]
     },
     "metadata": {
      "needs_background": "light"
     },
     "output_type": "display_data"
    },
    {
     "data": {
      "image/png": "[encoded data removed]",
      "text/plain": [
       "<Figure size 432x288 with 1 Axes>"
      ]
     },
     "metadata": {
      "needs_background": "light"
     },
     "output_type": "display_data"
    }
   ],
   "source": [
    "sns.boxplot(data=quit_rate[quit_rate['quit'] == 'yes'], x='job_satisfaction_rate')\n",
    "plt.title('Распределениe рейтинга удовлетворенности уволенных сотрудников')\n",
    "plt.show()\n",
    "sns.boxplot(data=quit_rate[quit_rate['quit'] == 'no'], x='job_satisfaction_rate')\n",
    "plt.title('Распределениe рейтинга удовлетворенности работающих сотрудников')\n",
    "plt.show()"
   ]
  },
  {
   "cell_type": "markdown",
   "id": "a4f60a63-9115-4fac-b943-b46a743e876e",
   "metadata": {},
   "source": [
    "Аналитики были правы: уровень удовлетворённости сотрудника работой в компании влияет на то, уволится ли сотрудник. Медианный рейтинг удовлетворенности уволенных сотрудников составляет чуть менее 0.4. А все значения находятся между 0.2 и 0.5. Есть 3 выброса, но это не критично. У сотрудников же, которые не уволились, медианный рейтинг составяет порядка 0.7, а большинство значений находится между 0.5 и 0.8. То есть разница между группами по рейтингу составляет порядка 0.3, что довольно таки много."
   ]
  },
  {
   "cell_type": "markdown",
   "id": "a7ef8ac7-3bf5-4c27-a238-ff039bc4c2a8",
   "metadata": {},
   "source": [
    "## 4. Добавление нового входного признака"
   ]
  },
  {
   "cell_type": "markdown",
   "id": "246512a3-b74e-49a6-8671-8a859011ca35",
   "metadata": {},
   "source": [
    "Так как мы выяснили, что признак 'job_satisfaction_rate' влияет на то, уволится сотрудник или нет, добавим этот признак к тренировочному датафрейму 'train_quit' для более точного предсказания. Этот признак был предсказан моделью RandomForestRegressor(max_depth=16, max_features=18, min_samples_split=3, n_estimators=77, random_state=42) в задании 1. Возьмем эту лучшую модель и предскажим на аналогичных данных этот признак для датафрейма 'train_quit' и 'test_features' (чтобы были одинаковые признаки для будущий предсказаний)."
   ]
  },
  {
   "cell_type": "code",
   "execution_count": 72,
   "id": "e9c1c7f7",
   "metadata": {},
   "outputs": [
    {
     "data": {
      "text/html": [
       "<div>\n",
       "<style scoped>\n",
       "    .dataframe tbody tr th:only-of-type {\n",
       "        vertical-align: middle;\n",
       "    }\n",
       "\n",
       "    .dataframe tbody tr th {\n",
       "        vertical-align: top;\n",
       "    }\n",
       "\n",
       "    .dataframe thead th {\n",
       "        text-align: right;\n",
       "    }\n",
       "</style>\n",
       "<table border=\"1\" class=\"dataframe\">\n",
       "  <thead>\n",
       "    <tr style=\"text-align: right;\">\n",
       "      <th></th>\n",
       "      <th>dept</th>\n",
       "      <th>level</th>\n",
       "      <th>workload</th>\n",
       "      <th>employment_years</th>\n",
       "      <th>last_year_promo</th>\n",
       "      <th>last_year_violations</th>\n",
       "      <th>supervisor_evaluation</th>\n",
       "      <th>salary</th>\n",
       "      <th>quit</th>\n",
       "    </tr>\n",
       "    <tr>\n",
       "      <th>id</th>\n",
       "      <th></th>\n",
       "      <th></th>\n",
       "      <th></th>\n",
       "      <th></th>\n",
       "      <th></th>\n",
       "      <th></th>\n",
       "      <th></th>\n",
       "      <th></th>\n",
       "      <th></th>\n",
       "    </tr>\n",
       "  </thead>\n",
       "  <tbody>\n",
       "    <tr>\n",
       "      <th>100222</th>\n",
       "      <td>sales</td>\n",
       "      <td>junior</td>\n",
       "      <td>medium</td>\n",
       "      <td>3</td>\n",
       "      <td>no</td>\n",
       "      <td>no</td>\n",
       "      <td>2</td>\n",
       "      <td>20400</td>\n",
       "      <td>yes</td>\n",
       "    </tr>\n",
       "    <tr>\n",
       "      <th>100459</th>\n",
       "      <td>purchasing</td>\n",
       "      <td>junior</td>\n",
       "      <td>medium</td>\n",
       "      <td>3</td>\n",
       "      <td>no</td>\n",
       "      <td>no</td>\n",
       "      <td>3</td>\n",
       "      <td>21600</td>\n",
       "      <td>yes</td>\n",
       "    </tr>\n",
       "    <tr>\n",
       "      <th>100469</th>\n",
       "      <td>marketing</td>\n",
       "      <td>junior</td>\n",
       "      <td>medium</td>\n",
       "      <td>1</td>\n",
       "      <td>no</td>\n",
       "      <td>no</td>\n",
       "      <td>4</td>\n",
       "      <td>28800</td>\n",
       "      <td>no</td>\n",
       "    </tr>\n",
       "    <tr>\n",
       "      <th>100601</th>\n",
       "      <td>technology</td>\n",
       "      <td>middle</td>\n",
       "      <td>high</td>\n",
       "      <td>4</td>\n",
       "      <td>no</td>\n",
       "      <td>no</td>\n",
       "      <td>4</td>\n",
       "      <td>68400</td>\n",
       "      <td>no</td>\n",
       "    </tr>\n",
       "    <tr>\n",
       "      <th>100858</th>\n",
       "      <td>sales</td>\n",
       "      <td>junior</td>\n",
       "      <td>medium</td>\n",
       "      <td>2</td>\n",
       "      <td>no</td>\n",
       "      <td>no</td>\n",
       "      <td>4</td>\n",
       "      <td>25200</td>\n",
       "      <td>yes</td>\n",
       "    </tr>\n",
       "    <tr>\n",
       "      <th>...</th>\n",
       "      <td>...</td>\n",
       "      <td>...</td>\n",
       "      <td>...</td>\n",
       "      <td>...</td>\n",
       "      <td>...</td>\n",
       "      <td>...</td>\n",
       "      <td>...</td>\n",
       "      <td>...</td>\n",
       "      <td>...</td>\n",
       "    </tr>\n",
       "    <tr>\n",
       "      <th>998517</th>\n",
       "      <td>purchasing</td>\n",
       "      <td>middle</td>\n",
       "      <td>low</td>\n",
       "      <td>5</td>\n",
       "      <td>no</td>\n",
       "      <td>no</td>\n",
       "      <td>3</td>\n",
       "      <td>19200</td>\n",
       "      <td>no</td>\n",
       "    </tr>\n",
       "    <tr>\n",
       "      <th>999003</th>\n",
       "      <td>hr</td>\n",
       "      <td>middle</td>\n",
       "      <td>low</td>\n",
       "      <td>3</td>\n",
       "      <td>no</td>\n",
       "      <td>no</td>\n",
       "      <td>2</td>\n",
       "      <td>24000</td>\n",
       "      <td>yes</td>\n",
       "    </tr>\n",
       "    <tr>\n",
       "      <th>999158</th>\n",
       "      <td>purchasing</td>\n",
       "      <td>junior</td>\n",
       "      <td>medium</td>\n",
       "      <td>1</td>\n",
       "      <td>no</td>\n",
       "      <td>yes</td>\n",
       "      <td>1</td>\n",
       "      <td>21600</td>\n",
       "      <td>yes</td>\n",
       "    </tr>\n",
       "    <tr>\n",
       "      <th>999835</th>\n",
       "      <td>sales</td>\n",
       "      <td>junior</td>\n",
       "      <td>low</td>\n",
       "      <td>5</td>\n",
       "      <td>no</td>\n",
       "      <td>no</td>\n",
       "      <td>4</td>\n",
       "      <td>18000</td>\n",
       "      <td>no</td>\n",
       "    </tr>\n",
       "    <tr>\n",
       "      <th>999915</th>\n",
       "      <td>hr</td>\n",
       "      <td>middle</td>\n",
       "      <td>low</td>\n",
       "      <td>5</td>\n",
       "      <td>no</td>\n",
       "      <td>no</td>\n",
       "      <td>3</td>\n",
       "      <td>20400</td>\n",
       "      <td>no</td>\n",
       "    </tr>\n",
       "  </tbody>\n",
       "</table>\n",
       "<p>4000 rows × 9 columns</p>\n",
       "</div>"
      ],
      "text/plain": [
       "              dept   level workload  employment_years last_year_promo  \\\n",
       "id                                                                      \n",
       "100222       sales  junior   medium                 3              no   \n",
       "100459  purchasing  junior   medium                 3              no   \n",
       "100469   marketing  junior   medium                 1              no   \n",
       "100601  technology  middle     high                 4              no   \n",
       "100858       sales  junior   medium                 2              no   \n",
       "...            ...     ...      ...               ...             ...   \n",
       "998517  purchasing  middle      low                 5              no   \n",
       "999003          hr  middle      low                 3              no   \n",
       "999158  purchasing  junior   medium                 1              no   \n",
       "999835       sales  junior      low                 5              no   \n",
       "999915          hr  middle      low                 5              no   \n",
       "\n",
       "       last_year_violations  supervisor_evaluation  salary quit  \n",
       "id                                                               \n",
       "100222                   no                      2   20400  yes  \n",
       "100459                   no                      3   21600  yes  \n",
       "100469                   no                      4   28800   no  \n",
       "100601                   no                      4   68400   no  \n",
       "100858                   no                      4   25200  yes  \n",
       "...                     ...                    ...     ...  ...  \n",
       "998517                   no                      3   19200   no  \n",
       "999003                   no                      2   24000  yes  \n",
       "999158                  yes                      1   21600  yes  \n",
       "999835                   no                      4   18000   no  \n",
       "999915                   no                      3   20400   no  \n",
       "\n",
       "[4000 rows x 9 columns]"
      ]
     },
     "execution_count": 72,
     "metadata": {},
     "output_type": "execute_result"
    }
   ],
   "source": [
    "train_quit"
   ]
  },
  {
   "cell_type": "code",
   "execution_count": 73,
   "id": "c5974ff8",
   "metadata": {},
   "outputs": [
    {
     "data": {
      "text/html": [
       "<div>\n",
       "<style scoped>\n",
       "    .dataframe tbody tr th:only-of-type {\n",
       "        vertical-align: middle;\n",
       "    }\n",
       "\n",
       "    .dataframe tbody tr th {\n",
       "        vertical-align: top;\n",
       "    }\n",
       "\n",
       "    .dataframe thead th {\n",
       "        text-align: right;\n",
       "    }\n",
       "</style>\n",
       "<table border=\"1\" class=\"dataframe\">\n",
       "  <thead>\n",
       "    <tr style=\"text-align: right;\">\n",
       "      <th></th>\n",
       "      <th>dept</th>\n",
       "      <th>level</th>\n",
       "      <th>workload</th>\n",
       "      <th>employment_years</th>\n",
       "      <th>last_year_promo</th>\n",
       "      <th>last_year_violations</th>\n",
       "      <th>supervisor_evaluation</th>\n",
       "      <th>salary</th>\n",
       "      <th>job_satisfaction_rate</th>\n",
       "    </tr>\n",
       "    <tr>\n",
       "      <th>id</th>\n",
       "      <th></th>\n",
       "      <th></th>\n",
       "      <th></th>\n",
       "      <th></th>\n",
       "      <th></th>\n",
       "      <th></th>\n",
       "      <th></th>\n",
       "      <th></th>\n",
       "      <th></th>\n",
       "    </tr>\n",
       "  </thead>\n",
       "  <tbody>\n",
       "    <tr>\n",
       "      <th>100954</th>\n",
       "      <td>purchasing</td>\n",
       "      <td>junior</td>\n",
       "      <td>low</td>\n",
       "      <td>1</td>\n",
       "      <td>no</td>\n",
       "      <td>no</td>\n",
       "      <td>4</td>\n",
       "      <td>15600</td>\n",
       "      <td>0.60</td>\n",
       "    </tr>\n",
       "    <tr>\n",
       "      <th>101057</th>\n",
       "      <td>sales</td>\n",
       "      <td>junior</td>\n",
       "      <td>low</td>\n",
       "      <td>1</td>\n",
       "      <td>no</td>\n",
       "      <td>yes</td>\n",
       "      <td>4</td>\n",
       "      <td>19200</td>\n",
       "      <td>0.45</td>\n",
       "    </tr>\n",
       "    <tr>\n",
       "      <th>101074</th>\n",
       "      <td>sales</td>\n",
       "      <td>junior</td>\n",
       "      <td>medium</td>\n",
       "      <td>2</td>\n",
       "      <td>no</td>\n",
       "      <td>no</td>\n",
       "      <td>2</td>\n",
       "      <td>20400</td>\n",
       "      <td>0.36</td>\n",
       "    </tr>\n",
       "    <tr>\n",
       "      <th>101081</th>\n",
       "      <td>sales</td>\n",
       "      <td>middle</td>\n",
       "      <td>low</td>\n",
       "      <td>2</td>\n",
       "      <td>no</td>\n",
       "      <td>no</td>\n",
       "      <td>4</td>\n",
       "      <td>28800</td>\n",
       "      <td>0.66</td>\n",
       "    </tr>\n",
       "    <tr>\n",
       "      <th>101129</th>\n",
       "      <td>technology</td>\n",
       "      <td>junior</td>\n",
       "      <td>medium</td>\n",
       "      <td>1</td>\n",
       "      <td>no</td>\n",
       "      <td>no</td>\n",
       "      <td>4</td>\n",
       "      <td>34800</td>\n",
       "      <td>0.71</td>\n",
       "    </tr>\n",
       "    <tr>\n",
       "      <th>...</th>\n",
       "      <td>...</td>\n",
       "      <td>...</td>\n",
       "      <td>...</td>\n",
       "      <td>...</td>\n",
       "      <td>...</td>\n",
       "      <td>...</td>\n",
       "      <td>...</td>\n",
       "      <td>...</td>\n",
       "      <td>...</td>\n",
       "    </tr>\n",
       "    <tr>\n",
       "      <th>998223</th>\n",
       "      <td>purchasing</td>\n",
       "      <td>junior</td>\n",
       "      <td>medium</td>\n",
       "      <td>1</td>\n",
       "      <td>no</td>\n",
       "      <td>no</td>\n",
       "      <td>4</td>\n",
       "      <td>28800</td>\n",
       "      <td>0.60</td>\n",
       "    </tr>\n",
       "    <tr>\n",
       "      <th>998838</th>\n",
       "      <td>sales</td>\n",
       "      <td>NaN</td>\n",
       "      <td>medium</td>\n",
       "      <td>1</td>\n",
       "      <td>no</td>\n",
       "      <td>no</td>\n",
       "      <td>5</td>\n",
       "      <td>27600</td>\n",
       "      <td>0.71</td>\n",
       "    </tr>\n",
       "    <tr>\n",
       "      <th>999264</th>\n",
       "      <td>technology</td>\n",
       "      <td>junior</td>\n",
       "      <td>low</td>\n",
       "      <td>2</td>\n",
       "      <td>no</td>\n",
       "      <td>yes</td>\n",
       "      <td>4</td>\n",
       "      <td>22800</td>\n",
       "      <td>0.73</td>\n",
       "    </tr>\n",
       "    <tr>\n",
       "      <th>999348</th>\n",
       "      <td>technology</td>\n",
       "      <td>junior</td>\n",
       "      <td>high</td>\n",
       "      <td>2</td>\n",
       "      <td>no</td>\n",
       "      <td>no</td>\n",
       "      <td>4</td>\n",
       "      <td>46800</td>\n",
       "      <td>0.80</td>\n",
       "    </tr>\n",
       "    <tr>\n",
       "      <th>999521</th>\n",
       "      <td>sales</td>\n",
       "      <td>middle</td>\n",
       "      <td>low</td>\n",
       "      <td>5</td>\n",
       "      <td>yes</td>\n",
       "      <td>no</td>\n",
       "      <td>4</td>\n",
       "      <td>19200</td>\n",
       "      <td>0.87</td>\n",
       "    </tr>\n",
       "  </tbody>\n",
       "</table>\n",
       "<p>4000 rows × 9 columns</p>\n",
       "</div>"
      ],
      "text/plain": [
       "              dept   level workload  employment_years last_year_promo  \\\n",
       "id                                                                      \n",
       "100954  purchasing  junior      low                 1              no   \n",
       "101057       sales  junior      low                 1              no   \n",
       "101074       sales  junior   medium                 2              no   \n",
       "101081       sales  middle      low                 2              no   \n",
       "101129  technology  junior   medium                 1              no   \n",
       "...            ...     ...      ...               ...             ...   \n",
       "998223  purchasing  junior   medium                 1              no   \n",
       "998838       sales     NaN   medium                 1              no   \n",
       "999264  technology  junior      low                 2              no   \n",
       "999348  technology  junior     high                 2              no   \n",
       "999521       sales  middle      low                 5             yes   \n",
       "\n",
       "       last_year_violations  supervisor_evaluation  salary  \\\n",
       "id                                                           \n",
       "100954                   no                      4   15600   \n",
       "101057                  yes                      4   19200   \n",
       "101074                   no                      2   20400   \n",
       "101081                   no                      4   28800   \n",
       "101129                   no                      4   34800   \n",
       "...                     ...                    ...     ...   \n",
       "998223                   no                      4   28800   \n",
       "998838                   no                      5   27600   \n",
       "999264                  yes                      4   22800   \n",
       "999348                   no                      4   46800   \n",
       "999521                   no                      4   19200   \n",
       "\n",
       "        job_satisfaction_rate  \n",
       "id                             \n",
       "100954                   0.60  \n",
       "101057                   0.45  \n",
       "101074                   0.36  \n",
       "101081                   0.66  \n",
       "101129                   0.71  \n",
       "...                       ...  \n",
       "998223                   0.60  \n",
       "998838                   0.71  \n",
       "999264                   0.73  \n",
       "999348                   0.80  \n",
       "999521                   0.87  \n",
       "\n",
       "[4000 rows x 9 columns]"
      ]
     },
     "execution_count": 73,
     "metadata": {},
     "output_type": "execute_result"
    }
   ],
   "source": [
    "train_job_satisfaction_rate"
   ]
  },
  {
   "cell_type": "code",
   "execution_count": 74,
   "id": "0f9cca64-dffb-409e-850b-0c3446a6bb8f",
   "metadata": {},
   "outputs": [],
   "source": [
    "X_test_2 = train_quit.drop(['quit'], axis=1)\n",
    "train_quit['job_satisfaction_rate'] = randomized_search.best_estimator_.predict(X_test_2)"
   ]
  },
  {
   "cell_type": "code",
   "execution_count": 75,
   "id": "35417af9-a576-4f9c-9838-4fedd615145c",
   "metadata": {},
   "outputs": [],
   "source": [
    "X_test_3 = test_features\n",
    "test_features['job_satisfaction_rate'] = randomized_search.best_estimator_.predict(X_test_3)"
   ]
  },
  {
   "cell_type": "code",
   "execution_count": 76,
   "id": "5d874dce",
   "metadata": {
    "scrolled": true
   },
   "outputs": [
    {
     "data": {
      "text/html": [
       "<div>\n",
       "<style scoped>\n",
       "    .dataframe tbody tr th:only-of-type {\n",
       "        vertical-align: middle;\n",
       "    }\n",
       "\n",
       "    .dataframe tbody tr th {\n",
       "        vertical-align: top;\n",
       "    }\n",
       "\n",
       "    .dataframe thead th {\n",
       "        text-align: right;\n",
       "    }\n",
       "</style>\n",
       "<table border=\"1\" class=\"dataframe\">\n",
       "  <thead>\n",
       "    <tr style=\"text-align: right;\">\n",
       "      <th></th>\n",
       "      <th>dept</th>\n",
       "      <th>level</th>\n",
       "      <th>workload</th>\n",
       "      <th>employment_years</th>\n",
       "      <th>last_year_promo</th>\n",
       "      <th>last_year_violations</th>\n",
       "      <th>supervisor_evaluation</th>\n",
       "      <th>salary</th>\n",
       "      <th>quit</th>\n",
       "      <th>job_satisfaction_rate</th>\n",
       "    </tr>\n",
       "    <tr>\n",
       "      <th>id</th>\n",
       "      <th></th>\n",
       "      <th></th>\n",
       "      <th></th>\n",
       "      <th></th>\n",
       "      <th></th>\n",
       "      <th></th>\n",
       "      <th></th>\n",
       "      <th></th>\n",
       "      <th></th>\n",
       "      <th></th>\n",
       "    </tr>\n",
       "  </thead>\n",
       "  <tbody>\n",
       "    <tr>\n",
       "      <th>100222</th>\n",
       "      <td>sales</td>\n",
       "      <td>junior</td>\n",
       "      <td>medium</td>\n",
       "      <td>3</td>\n",
       "      <td>no</td>\n",
       "      <td>no</td>\n",
       "      <td>2</td>\n",
       "      <td>20400</td>\n",
       "      <td>yes</td>\n",
       "      <td>0.341947</td>\n",
       "    </tr>\n",
       "    <tr>\n",
       "      <th>100459</th>\n",
       "      <td>purchasing</td>\n",
       "      <td>junior</td>\n",
       "      <td>medium</td>\n",
       "      <td>3</td>\n",
       "      <td>no</td>\n",
       "      <td>no</td>\n",
       "      <td>3</td>\n",
       "      <td>21600</td>\n",
       "      <td>yes</td>\n",
       "      <td>0.327662</td>\n",
       "    </tr>\n",
       "    <tr>\n",
       "      <th>100469</th>\n",
       "      <td>marketing</td>\n",
       "      <td>junior</td>\n",
       "      <td>medium</td>\n",
       "      <td>1</td>\n",
       "      <td>no</td>\n",
       "      <td>no</td>\n",
       "      <td>4</td>\n",
       "      <td>28800</td>\n",
       "      <td>no</td>\n",
       "      <td>0.645102</td>\n",
       "    </tr>\n",
       "    <tr>\n",
       "      <th>100601</th>\n",
       "      <td>technology</td>\n",
       "      <td>middle</td>\n",
       "      <td>high</td>\n",
       "      <td>4</td>\n",
       "      <td>no</td>\n",
       "      <td>no</td>\n",
       "      <td>4</td>\n",
       "      <td>68400</td>\n",
       "      <td>no</td>\n",
       "      <td>0.666149</td>\n",
       "    </tr>\n",
       "    <tr>\n",
       "      <th>100858</th>\n",
       "      <td>sales</td>\n",
       "      <td>junior</td>\n",
       "      <td>medium</td>\n",
       "      <td>2</td>\n",
       "      <td>no</td>\n",
       "      <td>no</td>\n",
       "      <td>4</td>\n",
       "      <td>25200</td>\n",
       "      <td>yes</td>\n",
       "      <td>0.825984</td>\n",
       "    </tr>\n",
       "    <tr>\n",
       "      <th>...</th>\n",
       "      <td>...</td>\n",
       "      <td>...</td>\n",
       "      <td>...</td>\n",
       "      <td>...</td>\n",
       "      <td>...</td>\n",
       "      <td>...</td>\n",
       "      <td>...</td>\n",
       "      <td>...</td>\n",
       "      <td>...</td>\n",
       "      <td>...</td>\n",
       "    </tr>\n",
       "    <tr>\n",
       "      <th>998517</th>\n",
       "      <td>purchasing</td>\n",
       "      <td>middle</td>\n",
       "      <td>low</td>\n",
       "      <td>5</td>\n",
       "      <td>no</td>\n",
       "      <td>no</td>\n",
       "      <td>3</td>\n",
       "      <td>19200</td>\n",
       "      <td>no</td>\n",
       "      <td>0.370795</td>\n",
       "    </tr>\n",
       "    <tr>\n",
       "      <th>999003</th>\n",
       "      <td>hr</td>\n",
       "      <td>middle</td>\n",
       "      <td>low</td>\n",
       "      <td>3</td>\n",
       "      <td>no</td>\n",
       "      <td>no</td>\n",
       "      <td>2</td>\n",
       "      <td>24000</td>\n",
       "      <td>yes</td>\n",
       "      <td>0.237673</td>\n",
       "    </tr>\n",
       "    <tr>\n",
       "      <th>999158</th>\n",
       "      <td>purchasing</td>\n",
       "      <td>junior</td>\n",
       "      <td>medium</td>\n",
       "      <td>1</td>\n",
       "      <td>no</td>\n",
       "      <td>yes</td>\n",
       "      <td>1</td>\n",
       "      <td>21600</td>\n",
       "      <td>yes</td>\n",
       "      <td>0.084721</td>\n",
       "    </tr>\n",
       "    <tr>\n",
       "      <th>999835</th>\n",
       "      <td>sales</td>\n",
       "      <td>junior</td>\n",
       "      <td>low</td>\n",
       "      <td>5</td>\n",
       "      <td>no</td>\n",
       "      <td>no</td>\n",
       "      <td>4</td>\n",
       "      <td>18000</td>\n",
       "      <td>no</td>\n",
       "      <td>0.836551</td>\n",
       "    </tr>\n",
       "    <tr>\n",
       "      <th>999915</th>\n",
       "      <td>hr</td>\n",
       "      <td>middle</td>\n",
       "      <td>low</td>\n",
       "      <td>5</td>\n",
       "      <td>no</td>\n",
       "      <td>no</td>\n",
       "      <td>3</td>\n",
       "      <td>20400</td>\n",
       "      <td>no</td>\n",
       "      <td>0.329861</td>\n",
       "    </tr>\n",
       "  </tbody>\n",
       "</table>\n",
       "<p>4000 rows × 10 columns</p>\n",
       "</div>"
      ],
      "text/plain": [
       "              dept   level workload  employment_years last_year_promo  \\\n",
       "id                                                                      \n",
       "100222       sales  junior   medium                 3              no   \n",
       "100459  purchasing  junior   medium                 3              no   \n",
       "100469   marketing  junior   medium                 1              no   \n",
       "100601  technology  middle     high                 4              no   \n",
       "100858       sales  junior   medium                 2              no   \n",
       "...            ...     ...      ...               ...             ...   \n",
       "998517  purchasing  middle      low                 5              no   \n",
       "999003          hr  middle      low                 3              no   \n",
       "999158  purchasing  junior   medium                 1              no   \n",
       "999835       sales  junior      low                 5              no   \n",
       "999915          hr  middle      low                 5              no   \n",
       "\n",
       "       last_year_violations  supervisor_evaluation  salary quit  \\\n",
       "id                                                                \n",
       "100222                   no                      2   20400  yes   \n",
       "100459                   no                      3   21600  yes   \n",
       "100469                   no                      4   28800   no   \n",
       "100601                   no                      4   68400   no   \n",
       "100858                   no                      4   25200  yes   \n",
       "...                     ...                    ...     ...  ...   \n",
       "998517                   no                      3   19200   no   \n",
       "999003                   no                      2   24000  yes   \n",
       "999158                  yes                      1   21600  yes   \n",
       "999835                   no                      4   18000   no   \n",
       "999915                   no                      3   20400   no   \n",
       "\n",
       "        job_satisfaction_rate  \n",
       "id                             \n",
       "100222               0.341947  \n",
       "100459               0.327662  \n",
       "100469               0.645102  \n",
       "100601               0.666149  \n",
       "100858               0.825984  \n",
       "...                       ...  \n",
       "998517               0.370795  \n",
       "999003               0.237673  \n",
       "999158               0.084721  \n",
       "999835               0.836551  \n",
       "999915               0.329861  \n",
       "\n",
       "[4000 rows x 10 columns]"
      ]
     },
     "execution_count": 76,
     "metadata": {},
     "output_type": "execute_result"
    }
   ],
   "source": [
    "train_quit"
   ]
  },
  {
   "cell_type": "code",
   "execution_count": 77,
   "id": "3db3d8ab",
   "metadata": {},
   "outputs": [
    {
     "data": {
      "text/html": [
       "<div>\n",
       "<style scoped>\n",
       "    .dataframe tbody tr th:only-of-type {\n",
       "        vertical-align: middle;\n",
       "    }\n",
       "\n",
       "    .dataframe tbody tr th {\n",
       "        vertical-align: top;\n",
       "    }\n",
       "\n",
       "    .dataframe thead th {\n",
       "        text-align: right;\n",
       "    }\n",
       "</style>\n",
       "<table border=\"1\" class=\"dataframe\">\n",
       "  <thead>\n",
       "    <tr style=\"text-align: right;\">\n",
       "      <th></th>\n",
       "      <th>dept</th>\n",
       "      <th>level</th>\n",
       "      <th>workload</th>\n",
       "      <th>employment_years</th>\n",
       "      <th>last_year_promo</th>\n",
       "      <th>last_year_violations</th>\n",
       "      <th>supervisor_evaluation</th>\n",
       "      <th>salary</th>\n",
       "      <th>job_satisfaction_rate</th>\n",
       "    </tr>\n",
       "    <tr>\n",
       "      <th>id</th>\n",
       "      <th></th>\n",
       "      <th></th>\n",
       "      <th></th>\n",
       "      <th></th>\n",
       "      <th></th>\n",
       "      <th></th>\n",
       "      <th></th>\n",
       "      <th></th>\n",
       "      <th></th>\n",
       "    </tr>\n",
       "  </thead>\n",
       "  <tbody>\n",
       "    <tr>\n",
       "      <th>100954</th>\n",
       "      <td>purchasing</td>\n",
       "      <td>junior</td>\n",
       "      <td>low</td>\n",
       "      <td>1</td>\n",
       "      <td>no</td>\n",
       "      <td>no</td>\n",
       "      <td>4</td>\n",
       "      <td>15600</td>\n",
       "      <td>0.60</td>\n",
       "    </tr>\n",
       "    <tr>\n",
       "      <th>101057</th>\n",
       "      <td>sales</td>\n",
       "      <td>junior</td>\n",
       "      <td>low</td>\n",
       "      <td>1</td>\n",
       "      <td>no</td>\n",
       "      <td>yes</td>\n",
       "      <td>4</td>\n",
       "      <td>19200</td>\n",
       "      <td>0.45</td>\n",
       "    </tr>\n",
       "    <tr>\n",
       "      <th>101074</th>\n",
       "      <td>sales</td>\n",
       "      <td>junior</td>\n",
       "      <td>medium</td>\n",
       "      <td>2</td>\n",
       "      <td>no</td>\n",
       "      <td>no</td>\n",
       "      <td>2</td>\n",
       "      <td>20400</td>\n",
       "      <td>0.36</td>\n",
       "    </tr>\n",
       "    <tr>\n",
       "      <th>101081</th>\n",
       "      <td>sales</td>\n",
       "      <td>middle</td>\n",
       "      <td>low</td>\n",
       "      <td>2</td>\n",
       "      <td>no</td>\n",
       "      <td>no</td>\n",
       "      <td>4</td>\n",
       "      <td>28800</td>\n",
       "      <td>0.66</td>\n",
       "    </tr>\n",
       "    <tr>\n",
       "      <th>101129</th>\n",
       "      <td>technology</td>\n",
       "      <td>junior</td>\n",
       "      <td>medium</td>\n",
       "      <td>1</td>\n",
       "      <td>no</td>\n",
       "      <td>no</td>\n",
       "      <td>4</td>\n",
       "      <td>34800</td>\n",
       "      <td>0.71</td>\n",
       "    </tr>\n",
       "    <tr>\n",
       "      <th>...</th>\n",
       "      <td>...</td>\n",
       "      <td>...</td>\n",
       "      <td>...</td>\n",
       "      <td>...</td>\n",
       "      <td>...</td>\n",
       "      <td>...</td>\n",
       "      <td>...</td>\n",
       "      <td>...</td>\n",
       "      <td>...</td>\n",
       "    </tr>\n",
       "    <tr>\n",
       "      <th>998223</th>\n",
       "      <td>purchasing</td>\n",
       "      <td>junior</td>\n",
       "      <td>medium</td>\n",
       "      <td>1</td>\n",
       "      <td>no</td>\n",
       "      <td>no</td>\n",
       "      <td>4</td>\n",
       "      <td>28800</td>\n",
       "      <td>0.60</td>\n",
       "    </tr>\n",
       "    <tr>\n",
       "      <th>998838</th>\n",
       "      <td>sales</td>\n",
       "      <td>NaN</td>\n",
       "      <td>medium</td>\n",
       "      <td>1</td>\n",
       "      <td>no</td>\n",
       "      <td>no</td>\n",
       "      <td>5</td>\n",
       "      <td>27600</td>\n",
       "      <td>0.71</td>\n",
       "    </tr>\n",
       "    <tr>\n",
       "      <th>999264</th>\n",
       "      <td>technology</td>\n",
       "      <td>junior</td>\n",
       "      <td>low</td>\n",
       "      <td>2</td>\n",
       "      <td>no</td>\n",
       "      <td>yes</td>\n",
       "      <td>4</td>\n",
       "      <td>22800</td>\n",
       "      <td>0.73</td>\n",
       "    </tr>\n",
       "    <tr>\n",
       "      <th>999348</th>\n",
       "      <td>technology</td>\n",
       "      <td>junior</td>\n",
       "      <td>high</td>\n",
       "      <td>2</td>\n",
       "      <td>no</td>\n",
       "      <td>no</td>\n",
       "      <td>4</td>\n",
       "      <td>46800</td>\n",
       "      <td>0.80</td>\n",
       "    </tr>\n",
       "    <tr>\n",
       "      <th>999521</th>\n",
       "      <td>sales</td>\n",
       "      <td>middle</td>\n",
       "      <td>low</td>\n",
       "      <td>5</td>\n",
       "      <td>yes</td>\n",
       "      <td>no</td>\n",
       "      <td>4</td>\n",
       "      <td>19200</td>\n",
       "      <td>0.87</td>\n",
       "    </tr>\n",
       "  </tbody>\n",
       "</table>\n",
       "<p>4000 rows × 9 columns</p>\n",
       "</div>"
      ],
      "text/plain": [
       "              dept   level workload  employment_years last_year_promo  \\\n",
       "id                                                                      \n",
       "100954  purchasing  junior      low                 1              no   \n",
       "101057       sales  junior      low                 1              no   \n",
       "101074       sales  junior   medium                 2              no   \n",
       "101081       sales  middle      low                 2              no   \n",
       "101129  technology  junior   medium                 1              no   \n",
       "...            ...     ...      ...               ...             ...   \n",
       "998223  purchasing  junior   medium                 1              no   \n",
       "998838       sales     NaN   medium                 1              no   \n",
       "999264  technology  junior      low                 2              no   \n",
       "999348  technology  junior     high                 2              no   \n",
       "999521       sales  middle      low                 5             yes   \n",
       "\n",
       "       last_year_violations  supervisor_evaluation  salary  \\\n",
       "id                                                           \n",
       "100954                   no                      4   15600   \n",
       "101057                  yes                      4   19200   \n",
       "101074                   no                      2   20400   \n",
       "101081                   no                      4   28800   \n",
       "101129                   no                      4   34800   \n",
       "...                     ...                    ...     ...   \n",
       "998223                   no                      4   28800   \n",
       "998838                   no                      5   27600   \n",
       "999264                  yes                      4   22800   \n",
       "999348                   no                      4   46800   \n",
       "999521                   no                      4   19200   \n",
       "\n",
       "        job_satisfaction_rate  \n",
       "id                             \n",
       "100954                   0.60  \n",
       "101057                   0.45  \n",
       "101074                   0.36  \n",
       "101081                   0.66  \n",
       "101129                   0.71  \n",
       "...                       ...  \n",
       "998223                   0.60  \n",
       "998838                   0.71  \n",
       "999264                   0.73  \n",
       "999348                   0.80  \n",
       "999521                   0.87  \n",
       "\n",
       "[4000 rows x 9 columns]"
      ]
     },
     "execution_count": 77,
     "metadata": {},
     "output_type": "execute_result"
    }
   ],
   "source": [
    "train_job_satisfaction_rate"
   ]
  },
  {
   "cell_type": "markdown",
   "id": "dd9bbc49-1d10-4e39-b00b-3978ed8ee70b",
   "metadata": {},
   "source": [
    "## 5. Подготовка данных"
   ]
  },
  {
   "cell_type": "markdown",
   "id": "34d628c0-ed3f-412c-b929-0081a9fb3c7e",
   "metadata": {},
   "source": [
    "Создадим наши проверочную и тестовую выборки."
   ]
  },
  {
   "cell_type": "code",
   "execution_count": 78,
   "id": "b2db630f-e88f-4d5d-988e-eded15b82fda",
   "metadata": {},
   "outputs": [],
   "source": [
    "#создание тренировочной выборки\n",
    "X_train_final = train_quit.drop(['quit'], axis=1)\n",
    "y_train_final = train_quit['quit']\n",
    "#создание тестовой выборки\n",
    "X_test_final = test_features\n",
    "y_test_final = test_target_quit['quit']\n"
   ]
  },
  {
   "cell_type": "markdown",
   "id": "4b1a97e3-40b8-425f-b11c-8d866bd70858",
   "metadata": {},
   "source": [
    "Будем использовать пайплайн предобработки 'data_preprocessor' из первой задачи, только обновим списки с типами колонок, так как теперь добавился признак 'job_satisfaction_rate'."
   ]
  },
  {
   "cell_type": "code",
   "execution_count": 79,
   "id": "b1688401-3898-48ec-808c-f013097cdac7",
   "metadata": {},
   "outputs": [],
   "source": [
    "# создаём списки с названиями признаков\n",
    "ohe_columns = ['dept']\n",
    "ord_columns = ['level', 'workload', 'last_year_promo', 'last_year_violations', 'supervisor_evaluation']\n",
    "num_columns = ['employment_years', 'salary', 'job_satisfaction_rate']"
   ]
  },
  {
   "cell_type": "markdown",
   "id": "01a00064-92da-456c-9b53-58393565efee",
   "metadata": {},
   "source": [
    "## 6. Обучение модели"
   ]
  },
  {
   "cell_type": "markdown",
   "id": "8c5d9187-2413-45b1-9ec9-6418db3c1900",
   "metadata": {},
   "source": [
    "В качестве моделей мы будем использовать три модели: DecisionTreeClassifier(), KNeighborsClassifier() и LogisticRegression(). Мы будем подбирать для них различные гиперпараметры и найдем лучшую при помощи RandomSearchCV() и метрики ROC-AUC. Критерием успеха будет считаться результат: ROC-AUC > 91 на тестовых данных.\n",
    "\n",
    "Теперь создадим пайплайн 'pipe_final_2', который будет включать в себя пайплайн 'data_preprocessor' по предобработке входных признаков и этап моделирования. А дальше при помощи RandomSearchCV() найдем наиболее подходящую модель с лучшими гиперпараметрами, и высчитаем лучшую метрику ROC-AUC."
   ]
  },
  {
   "cell_type": "code",
   "execution_count": 80,
   "id": "b8a45e80-57be-4006-a3c1-f83692d31504",
   "metadata": {},
   "outputs": [
    {
     "name": "stdout",
     "output_type": "stream",
     "text": [
      "Лучшая модель и её параметры:\n",
      "\n",
      " Pipeline(steps=[('preprocessor',\n",
      "                 ColumnTransformer(remainder='passthrough',\n",
      "                                   transformers=[('ohe',\n",
      "                                                  Pipeline(steps=[('simpleImputer_ohe',\n",
      "                                                                   SimpleImputer(strategy='most_frequent')),\n",
      "                                                                  ('ohe',\n",
      "                                                                   OneHotEncoder(drop='first',\n",
      "                                                                                 handle_unknown='ignore',\n",
      "                                                                                 sparse_output=False))]),\n",
      "                                                  ['dept']),\n",
      "                                                 ('ord',\n",
      "                                                  Pipeline(steps=[('simpleImputer_before_ord',\n",
      "                                                                   SimpleImputer(strategy='most_frequ...\n",
      "                                                                                               5]],\n",
      "                                                                                  handle_unknown='use_encoded_value',\n",
      "                                                                                  unknown_value=nan)),\n",
      "                                                                  ('simpleImputer_after_ord',\n",
      "                                                                   SimpleImputer(strategy='most_frequent'))]),\n",
      "                                                  ['level', 'workload',\n",
      "                                                   'last_year_promo',\n",
      "                                                   'last_year_violations',\n",
      "                                                   'supervisor_evaluation']),\n",
      "                                                 ('num', MinMaxScaler(),\n",
      "                                                  ['employment_years',\n",
      "                                                   'salary'])])),\n",
      "                ('models',\n",
      "                 DecisionTreeClassifier(max_depth=5, max_features=12,\n",
      "                                        random_state=42))])\n",
      "Метрика лучшей модели на тренировочной выборке: 0.92680628493314\n",
      "Метрика ROC-AUC на тестовой выборке: 0.9183322961733735\n"
     ]
    }
   ],
   "source": [
    "pipe_final_2 = Pipeline([\n",
    "    ('preprocessor', data_preprocessor),\n",
    "    ('models', DecisionTreeClassifier(random_state=RANDOM_STATE))\n",
    "])\n",
    "\n",
    "param_grid_2 = [\n",
    "     # словарь для модели KNeighborsClassifier() \n",
    "    {\n",
    "        'models': [KNeighborsClassifier()],\n",
    "        'models__n_neighbors': range(3, 20),\n",
    "        'preprocessor__num': [StandardScaler(), MinMaxScaler(), 'passthrough']   \n",
    "    },\n",
    "\n",
    "    # словарь для модели DecisionTreeClassifier()\n",
    "    {\n",
    "        'models': [DecisionTreeClassifier(random_state=RANDOM_STATE)],\n",
    "        'models__max_depth': range(2, 20),\n",
    "        'models__max_features': range(2, 20),\n",
    "        'preprocessor__num': [StandardScaler(), MinMaxScaler(), 'passthrough']  \n",
    "    },    \n",
    "   \n",
    "    # словарь для модели LogisticRegression()\n",
    "    {\n",
    "        'models': [LogisticRegression(\n",
    "            random_state=RANDOM_STATE, \n",
    "            solver='liblinear', \n",
    "            penalty='l1'\n",
    "        )],\n",
    "        'models__C': range(1, 5),\n",
    "        'preprocessor__num': [StandardScaler(), MinMaxScaler(), 'passthrough']  \n",
    "    }\n",
    "]\n",
    "\n",
    "randomized_search_2 = RandomizedSearchCV(\n",
    "    pipe_final_2, \n",
    "    param_grid_2, \n",
    "    cv=5,\n",
    "    n_iter=40,\n",
    "    scoring='roc_auc',\n",
    "    random_state=RANDOM_STATE,\n",
    "    n_jobs=-1\n",
    ")\n",
    "\n",
    "randomized_search_2.fit(X_train_final, y_train_final)\n",
    "\n",
    "print('Лучшая модель и её параметры:\\n\\n', randomized_search_2.best_estimator_)\n",
    "print ('Метрика лучшей модели на тренировочной выборке:', randomized_search_2.best_score_)\n",
    "\n",
    "# проверьте работу модели на тестовой выборке\n",
    "# рассчитайте прогноз на тестовых данных\n",
    "y_test_pred = randomized_search_2.predict(X_test_final)\n",
    "y_test_proba = randomized_search_2.predict_proba(X_test_final)[:, 1]\n",
    "print(f'Метрика ROC-AUC на тестовой выборке: {roc_auc_score(y_test_final, y_test_proba)}')"
   ]
  },
  {
   "cell_type": "markdown",
   "id": "1a878b35-02c7-43ea-9add-9b2e663e14e0",
   "metadata": {},
   "source": [
    "## 7. Вывод"
   ]
  },
  {
   "cell_type": "markdown",
   "id": "e47d16e5-5202-45d9-89ac-89801f9465c7",
   "metadata": {},
   "source": [
    "Получилось, что лучше всего с задачей справилась модель DecisionTreeClassifier(max_depth=5, max_features=8, random_state=42). На тренировочной выборке она показала значение метрики ROC-AUC = 0.926, а на тестовой 0.917, что считается успехом.\n",
    "\n",
    "Это модель справилась лучше, чем KNeighborsClassifier() и LogisticRegression(), так как среди признаков преобладали категориальные. А при такой структуре дерево решений хорошо себя показывает."
   ]
  },
  {
   "cell_type": "markdown",
   "id": "a52be9eb-eb05-4f47-a90c-afe2b6991f60",
   "metadata": {},
   "source": [
    "# Общий вывод"
   ]
  },
  {
   "cell_type": "markdown",
   "id": "fbb210cf-7e06-43b1-b27f-4a3383a4a70e",
   "metadata": {},
   "source": [
    "## 1. Задача"
   ]
  },
  {
   "cell_type": "markdown",
   "id": "d9b20542-a1e1-4570-b920-aa5832671896",
   "metadata": {},
   "source": [
    "Перед нами было поставлено две задачи: предсказать уровень удовлетворенности сотрудников компании, а также определить уволится ли сотрудник или нет."
   ]
  },
  {
   "cell_type": "markdown",
   "id": "b38d5e74-ee3d-425b-b1fe-53965bdae7d0",
   "metadata": {},
   "source": [
    "## 2. Этапы работы"
   ]
  },
  {
   "cell_type": "markdown",
   "id": "3036d36c-6237-4663-9be5-aaf65eca34b8",
   "metadata": {},
   "source": [
    "Задачи выполнялись поочередно, и в обоих задачах использовались примерно одни и те же этапы.\n",
    "\n",
    "В начале это загрузка и предобработка данных: мы проверили наличие пропусков, дубликатов, опечаток.\n",
    "\n",
    "Следующий этап - исследовательский анализ данных. Мы исследовали все признаки в таблицах, посмотрели их распределение, визуализировали их для наглядности. А так же построили матрицу корреляции, чтобы убедиться, что мультиколлинеарность отуствует, а так же для того, чтобы понять как одни признаки влияют на другие.\n",
    "\n",
    "После этого был создан пайплайн для подготовки данных для дальнейшего моделирования: он включал в себя этапы кодирования категориальных признаков при помощи OneHotEncoder и OrdinalEnocder, а также кодирования непрерывных признаков при помощи MinMaxScaler.\n",
    "\n",
    "Далее мы подбирали модели и их гиперпараметры, чтобы найти самую лучшую. Качество моделей мы определяли разными метриками. В первой задаче - задаче регрессии - мы использовали модели  LinearRegression и RandomForestRegressor, а метрикой качества служила SMAPE <= 15. Во второй задаче - задаче определения категории - мы использовали модели DecisionTreeClassifier, KNeighborsClassifier и LogisticRegression, а метрикой качества служила ROC-AUC >= 0.91.\n",
    "\n",
    "После того как были найдены найдены наилучшие модели, мы сделали прогнозы на тестовых данных, и решили задачу заказчика."
   ]
  },
  {
   "cell_type": "markdown",
   "id": "4bf55cdc-1f78-4467-9618-947e049ca2c6",
   "metadata": {},
   "source": [
    "## 3. Дополнительные предложения"
   ]
  },
  {
   "cell_type": "markdown",
   "id": "2d5cfd95-eb29-4b6f-9215-5d373085bab9",
   "metadata": {},
   "source": [
    "В ходе анализа данных были найдены закономерности, что увольняются те люди, чей рейтинг удовлетворенности работой составляет около 0.4. А люди же с рейтингом 0.7 остаются на работе. Необходимо работать с сегментом людей с низким рейтингом, чтобы предупредить попытки увольнения. Низкий рейтинг имеют люди с малым опытом работы (1 год) и с медианной зарплатой 22800 рублей. То есть самый тяжелый этап сохранения сотрудника - это первый год. Можно дать рекомендацию, что нужно смотреть именно за молодыми сотрудниками, использоватать различные корпоративы, тимбилдинги и тд."
   ]
  }
 ],
 "metadata": {
  "ExecuteTimeLog": [
   {
    "duration": 1675,
    "start_time": "2024-12-07T14:05:32.047Z"
   },
   {
    "duration": 0,
    "start_time": "2024-12-07T14:05:33.725Z"
   },
   {
    "duration": 0,
    "start_time": "2024-12-07T14:05:33.727Z"
   },
   {
    "duration": 0,
    "start_time": "2024-12-07T14:05:33.728Z"
   },
   {
    "duration": 0,
    "start_time": "2024-12-07T14:05:33.729Z"
   },
   {
    "duration": 0,
    "start_time": "2024-12-07T14:05:33.730Z"
   },
   {
    "duration": 0,
    "start_time": "2024-12-07T14:05:33.732Z"
   },
   {
    "duration": 0,
    "start_time": "2024-12-07T14:05:33.734Z"
   },
   {
    "duration": 0,
    "start_time": "2024-12-07T14:05:33.734Z"
   },
   {
    "duration": 0,
    "start_time": "2024-12-07T14:05:33.736Z"
   },
   {
    "duration": 0,
    "start_time": "2024-12-07T14:05:33.737Z"
   },
   {
    "duration": 0,
    "start_time": "2024-12-07T14:05:33.737Z"
   },
   {
    "duration": 0,
    "start_time": "2024-12-07T14:05:33.739Z"
   },
   {
    "duration": 0,
    "start_time": "2024-12-07T14:05:33.739Z"
   },
   {
    "duration": 0,
    "start_time": "2024-12-07T14:05:33.740Z"
   },
   {
    "duration": 0,
    "start_time": "2024-12-07T14:05:33.741Z"
   },
   {
    "duration": 0,
    "start_time": "2024-12-07T14:05:33.742Z"
   },
   {
    "duration": 0,
    "start_time": "2024-12-07T14:05:33.743Z"
   },
   {
    "duration": 0,
    "start_time": "2024-12-07T14:05:33.744Z"
   },
   {
    "duration": 0,
    "start_time": "2024-12-07T14:05:33.745Z"
   },
   {
    "duration": 0,
    "start_time": "2024-12-07T14:05:33.746Z"
   },
   {
    "duration": 0,
    "start_time": "2024-12-07T14:05:33.747Z"
   },
   {
    "duration": 0,
    "start_time": "2024-12-07T14:05:33.748Z"
   },
   {
    "duration": 0,
    "start_time": "2024-12-07T14:05:33.749Z"
   },
   {
    "duration": 0,
    "start_time": "2024-12-07T14:05:33.750Z"
   },
   {
    "duration": 0,
    "start_time": "2024-12-07T14:05:33.751Z"
   },
   {
    "duration": 0,
    "start_time": "2024-12-07T14:05:33.752Z"
   },
   {
    "duration": 0,
    "start_time": "2024-12-07T14:05:33.753Z"
   },
   {
    "duration": 0,
    "start_time": "2024-12-07T14:05:33.754Z"
   },
   {
    "duration": 0,
    "start_time": "2024-12-07T14:05:33.755Z"
   },
   {
    "duration": 0,
    "start_time": "2024-12-07T14:05:33.756Z"
   },
   {
    "duration": 0,
    "start_time": "2024-12-07T14:05:33.757Z"
   },
   {
    "duration": 0,
    "start_time": "2024-12-07T14:05:33.758Z"
   },
   {
    "duration": 0,
    "start_time": "2024-12-07T14:05:33.759Z"
   },
   {
    "duration": 0,
    "start_time": "2024-12-07T14:05:33.760Z"
   },
   {
    "duration": 0,
    "start_time": "2024-12-07T14:05:33.820Z"
   },
   {
    "duration": 0,
    "start_time": "2024-12-07T14:05:33.822Z"
   },
   {
    "duration": 0,
    "start_time": "2024-12-07T14:05:33.824Z"
   },
   {
    "duration": 0,
    "start_time": "2024-12-07T14:05:33.825Z"
   },
   {
    "duration": 0,
    "start_time": "2024-12-07T14:05:33.826Z"
   },
   {
    "duration": 0,
    "start_time": "2024-12-07T14:05:33.827Z"
   },
   {
    "duration": 0,
    "start_time": "2024-12-07T14:05:33.828Z"
   },
   {
    "duration": 0,
    "start_time": "2024-12-07T14:05:33.829Z"
   },
   {
    "duration": 0,
    "start_time": "2024-12-07T14:05:33.830Z"
   },
   {
    "duration": 0,
    "start_time": "2024-12-07T14:05:33.831Z"
   },
   {
    "duration": 0,
    "start_time": "2024-12-07T14:05:33.832Z"
   },
   {
    "duration": 0,
    "start_time": "2024-12-07T14:05:33.833Z"
   },
   {
    "duration": 0,
    "start_time": "2024-12-07T14:05:33.834Z"
   },
   {
    "duration": 0,
    "start_time": "2024-12-07T14:05:33.835Z"
   },
   {
    "duration": 0,
    "start_time": "2024-12-07T14:05:33.836Z"
   },
   {
    "duration": 0,
    "start_time": "2024-12-07T14:05:33.837Z"
   },
   {
    "duration": 0,
    "start_time": "2024-12-07T14:05:33.838Z"
   },
   {
    "duration": 0,
    "start_time": "2024-12-07T14:05:33.839Z"
   },
   {
    "duration": 0,
    "start_time": "2024-12-07T14:05:33.840Z"
   },
   {
    "duration": 0,
    "start_time": "2024-12-07T14:05:33.841Z"
   },
   {
    "duration": 0,
    "start_time": "2024-12-07T14:05:33.842Z"
   },
   {
    "duration": 0,
    "start_time": "2024-12-07T14:05:33.843Z"
   },
   {
    "duration": 0,
    "start_time": "2024-12-07T14:05:33.844Z"
   },
   {
    "duration": 0,
    "start_time": "2024-12-07T14:05:33.845Z"
   },
   {
    "duration": 0,
    "start_time": "2024-12-07T14:05:33.846Z"
   },
   {
    "duration": 0,
    "start_time": "2024-12-07T14:05:33.847Z"
   },
   {
    "duration": 0,
    "start_time": "2024-12-07T14:05:33.848Z"
   },
   {
    "duration": 0,
    "start_time": "2024-12-07T14:05:33.849Z"
   },
   {
    "duration": 0,
    "start_time": "2024-12-07T14:05:33.850Z"
   },
   {
    "duration": 0,
    "start_time": "2024-12-07T14:05:33.851Z"
   },
   {
    "duration": 0,
    "start_time": "2024-12-07T14:05:33.852Z"
   },
   {
    "duration": 0,
    "start_time": "2024-12-07T14:05:33.853Z"
   },
   {
    "duration": 0,
    "start_time": "2024-12-07T14:05:33.855Z"
   },
   {
    "duration": 0,
    "start_time": "2024-12-07T14:05:33.855Z"
   },
   {
    "duration": 0,
    "start_time": "2024-12-07T14:05:33.921Z"
   },
   {
    "duration": 0,
    "start_time": "2024-12-07T14:05:33.923Z"
   },
   {
    "duration": 0,
    "start_time": "2024-12-07T14:05:33.925Z"
   },
   {
    "duration": 0,
    "start_time": "2024-12-07T14:05:33.926Z"
   },
   {
    "duration": 7094,
    "start_time": "2024-12-07T14:06:16.487Z"
   },
   {
    "duration": 1826,
    "start_time": "2024-12-07T14:06:23.583Z"
   },
   {
    "duration": 10,
    "start_time": "2024-12-07T14:06:25.410Z"
   },
   {
    "duration": 297,
    "start_time": "2024-12-07T14:06:25.422Z"
   },
   {
    "duration": 13,
    "start_time": "2024-12-07T14:06:25.720Z"
   },
   {
    "duration": 22,
    "start_time": "2024-12-07T14:06:25.735Z"
   },
   {
    "duration": 9,
    "start_time": "2024-12-07T14:06:25.759Z"
   },
   {
    "duration": 16,
    "start_time": "2024-12-07T14:06:25.770Z"
   },
   {
    "duration": 12,
    "start_time": "2024-12-07T14:06:25.788Z"
   },
   {
    "duration": 8,
    "start_time": "2024-12-07T14:06:25.802Z"
   },
   {
    "duration": 6,
    "start_time": "2024-12-07T14:06:25.820Z"
   },
   {
    "duration": 11,
    "start_time": "2024-12-07T14:06:25.827Z"
   },
   {
    "duration": 9,
    "start_time": "2024-12-07T14:06:25.839Z"
   },
   {
    "duration": 7,
    "start_time": "2024-12-07T14:06:25.849Z"
   },
   {
    "duration": 11,
    "start_time": "2024-12-07T14:06:25.857Z"
   },
   {
    "duration": 16,
    "start_time": "2024-12-07T14:06:25.869Z"
   },
   {
    "duration": 10,
    "start_time": "2024-12-07T14:06:25.886Z"
   },
   {
    "duration": 14,
    "start_time": "2024-12-07T14:06:25.897Z"
   },
   {
    "duration": 11,
    "start_time": "2024-12-07T14:06:25.912Z"
   },
   {
    "duration": 18,
    "start_time": "2024-12-07T14:06:25.925Z"
   },
   {
    "duration": 5,
    "start_time": "2024-12-07T14:06:25.944Z"
   },
   {
    "duration": 14,
    "start_time": "2024-12-07T14:06:25.950Z"
   },
   {
    "duration": 7,
    "start_time": "2024-12-07T14:06:25.965Z"
   },
   {
    "duration": 3,
    "start_time": "2024-12-07T14:06:25.973Z"
   },
   {
    "duration": 17,
    "start_time": "2024-12-07T14:06:25.977Z"
   },
   {
    "duration": 31,
    "start_time": "2024-12-07T14:06:25.995Z"
   },
   {
    "duration": 3,
    "start_time": "2024-12-07T14:06:26.027Z"
   },
   {
    "duration": 16,
    "start_time": "2024-12-07T14:06:26.034Z"
   },
   {
    "duration": 13,
    "start_time": "2024-12-07T14:06:26.051Z"
   },
   {
    "duration": 10,
    "start_time": "2024-12-07T14:06:26.066Z"
   },
   {
    "duration": 5,
    "start_time": "2024-12-07T14:06:26.078Z"
   },
   {
    "duration": 36,
    "start_time": "2024-12-07T14:06:26.085Z"
   },
   {
    "duration": 742,
    "start_time": "2024-12-07T14:06:26.123Z"
   },
   {
    "duration": 784,
    "start_time": "2024-12-07T14:06:26.867Z"
   },
   {
    "duration": 104,
    "start_time": "2024-12-07T14:06:27.653Z"
   },
   {
    "duration": 225,
    "start_time": "2024-12-07T14:06:27.758Z"
   },
   {
    "duration": 1101,
    "start_time": "2024-12-07T14:06:27.985Z"
   },
   {
    "duration": 4,
    "start_time": "2024-12-07T14:06:29.087Z"
   },
   {
    "duration": 135,
    "start_time": "2024-12-07T14:06:29.093Z"
   },
   {
    "duration": 0,
    "start_time": "2024-12-07T14:06:29.229Z"
   },
   {
    "duration": 0,
    "start_time": "2024-12-07T14:06:29.230Z"
   },
   {
    "duration": 0,
    "start_time": "2024-12-07T14:06:29.231Z"
   },
   {
    "duration": 0,
    "start_time": "2024-12-07T14:06:29.232Z"
   },
   {
    "duration": 0,
    "start_time": "2024-12-07T14:06:29.233Z"
   },
   {
    "duration": 0,
    "start_time": "2024-12-07T14:06:29.234Z"
   },
   {
    "duration": 0,
    "start_time": "2024-12-07T14:06:29.235Z"
   },
   {
    "duration": 0,
    "start_time": "2024-12-07T14:06:29.236Z"
   },
   {
    "duration": 0,
    "start_time": "2024-12-07T14:06:29.237Z"
   },
   {
    "duration": 0,
    "start_time": "2024-12-07T14:06:29.238Z"
   },
   {
    "duration": 0,
    "start_time": "2024-12-07T14:06:29.239Z"
   },
   {
    "duration": 0,
    "start_time": "2024-12-07T14:06:29.240Z"
   },
   {
    "duration": 0,
    "start_time": "2024-12-07T14:06:29.241Z"
   },
   {
    "duration": 0,
    "start_time": "2024-12-07T14:06:29.242Z"
   },
   {
    "duration": 0,
    "start_time": "2024-12-07T14:06:29.243Z"
   },
   {
    "duration": 0,
    "start_time": "2024-12-07T14:06:29.244Z"
   },
   {
    "duration": 0,
    "start_time": "2024-12-07T14:06:29.245Z"
   },
   {
    "duration": 0,
    "start_time": "2024-12-07T14:06:29.246Z"
   },
   {
    "duration": 0,
    "start_time": "2024-12-07T14:06:29.247Z"
   },
   {
    "duration": 0,
    "start_time": "2024-12-07T14:06:29.248Z"
   },
   {
    "duration": 0,
    "start_time": "2024-12-07T14:06:29.249Z"
   },
   {
    "duration": 0,
    "start_time": "2024-12-07T14:06:29.250Z"
   },
   {
    "duration": 0,
    "start_time": "2024-12-07T14:06:29.251Z"
   },
   {
    "duration": 0,
    "start_time": "2024-12-07T14:06:29.252Z"
   },
   {
    "duration": 0,
    "start_time": "2024-12-07T14:06:29.254Z"
   },
   {
    "duration": 0,
    "start_time": "2024-12-07T14:06:29.255Z"
   },
   {
    "duration": 0,
    "start_time": "2024-12-07T14:06:29.256Z"
   },
   {
    "duration": 0,
    "start_time": "2024-12-07T14:06:29.257Z"
   },
   {
    "duration": 0,
    "start_time": "2024-12-07T14:06:29.258Z"
   },
   {
    "duration": 0,
    "start_time": "2024-12-07T14:06:29.259Z"
   },
   {
    "duration": 0,
    "start_time": "2024-12-07T14:06:29.260Z"
   },
   {
    "duration": 0,
    "start_time": "2024-12-07T14:06:29.261Z"
   },
   {
    "duration": 0,
    "start_time": "2024-12-07T14:06:29.262Z"
   },
   {
    "duration": 0,
    "start_time": "2024-12-07T14:06:29.263Z"
   },
   {
    "duration": 0,
    "start_time": "2024-12-07T14:06:29.264Z"
   },
   {
    "duration": 19517,
    "start_time": "2024-12-07T14:06:58.022Z"
   },
   {
    "duration": 2096,
    "start_time": "2024-12-07T14:07:17.541Z"
   },
   {
    "duration": 2,
    "start_time": "2024-12-07T14:07:19.639Z"
   },
   {
    "duration": 83,
    "start_time": "2024-12-07T14:07:19.643Z"
   },
   {
    "duration": 12,
    "start_time": "2024-12-07T14:07:19.727Z"
   },
   {
    "duration": 18,
    "start_time": "2024-12-07T14:07:19.740Z"
   },
   {
    "duration": 11,
    "start_time": "2024-12-07T14:07:19.759Z"
   },
   {
    "duration": 9,
    "start_time": "2024-12-07T14:07:19.771Z"
   },
   {
    "duration": 12,
    "start_time": "2024-12-07T14:07:19.781Z"
   },
   {
    "duration": 6,
    "start_time": "2024-12-07T14:07:19.795Z"
   },
   {
    "duration": 22,
    "start_time": "2024-12-07T14:07:19.802Z"
   },
   {
    "duration": 8,
    "start_time": "2024-12-07T14:07:19.825Z"
   },
   {
    "duration": 6,
    "start_time": "2024-12-07T14:07:19.834Z"
   },
   {
    "duration": 7,
    "start_time": "2024-12-07T14:07:19.842Z"
   },
   {
    "duration": 6,
    "start_time": "2024-12-07T14:07:19.850Z"
   },
   {
    "duration": 10,
    "start_time": "2024-12-07T14:07:19.858Z"
   },
   {
    "duration": 9,
    "start_time": "2024-12-07T14:07:19.869Z"
   },
   {
    "duration": 7,
    "start_time": "2024-12-07T14:07:19.879Z"
   },
   {
    "duration": 38,
    "start_time": "2024-12-07T14:07:19.887Z"
   },
   {
    "duration": 5,
    "start_time": "2024-12-07T14:07:19.926Z"
   },
   {
    "duration": 6,
    "start_time": "2024-12-07T14:07:19.932Z"
   },
   {
    "duration": 23,
    "start_time": "2024-12-07T14:07:19.939Z"
   },
   {
    "duration": 43,
    "start_time": "2024-12-07T14:07:19.964Z"
   },
   {
    "duration": 20,
    "start_time": "2024-12-07T14:07:20.009Z"
   },
   {
    "duration": 29,
    "start_time": "2024-12-07T14:07:20.030Z"
   },
   {
    "duration": 20,
    "start_time": "2024-12-07T14:07:20.060Z"
   },
   {
    "duration": 3,
    "start_time": "2024-12-07T14:07:20.081Z"
   },
   {
    "duration": 13,
    "start_time": "2024-12-07T14:07:20.088Z"
   },
   {
    "duration": 12,
    "start_time": "2024-12-07T14:07:20.103Z"
   },
   {
    "duration": 14,
    "start_time": "2024-12-07T14:07:20.116Z"
   },
   {
    "duration": 6,
    "start_time": "2024-12-07T14:07:20.131Z"
   },
   {
    "duration": 5,
    "start_time": "2024-12-07T14:07:20.138Z"
   },
   {
    "duration": 976,
    "start_time": "2024-12-07T14:07:20.145Z"
   },
   {
    "duration": 752,
    "start_time": "2024-12-07T14:07:21.122Z"
   },
   {
    "duration": 245,
    "start_time": "2024-12-07T14:07:21.876Z"
   },
   {
    "duration": 206,
    "start_time": "2024-12-07T14:07:22.123Z"
   },
   {
    "duration": 919,
    "start_time": "2024-12-07T14:07:22.331Z"
   },
   {
    "duration": 4,
    "start_time": "2024-12-07T14:07:23.251Z"
   },
   {
    "duration": 7,
    "start_time": "2024-12-07T14:07:23.256Z"
   },
   {
    "duration": 11,
    "start_time": "2024-12-07T14:07:23.265Z"
   },
   {
    "duration": 39530,
    "start_time": "2024-12-07T14:07:23.277Z"
   },
   {
    "duration": 216,
    "start_time": "2024-12-07T14:08:02.809Z"
   },
   {
    "duration": 11,
    "start_time": "2024-12-07T14:08:03.026Z"
   },
   {
    "duration": 48,
    "start_time": "2024-12-07T14:08:03.038Z"
   },
   {
    "duration": 40,
    "start_time": "2024-12-07T14:08:03.088Z"
   },
   {
    "duration": 55,
    "start_time": "2024-12-07T14:08:03.129Z"
   },
   {
    "duration": 59,
    "start_time": "2024-12-07T14:08:03.186Z"
   },
   {
    "duration": 42,
    "start_time": "2024-12-07T14:08:03.246Z"
   },
   {
    "duration": 48,
    "start_time": "2024-12-07T14:08:03.290Z"
   },
   {
    "duration": 91,
    "start_time": "2024-12-07T14:08:03.340Z"
   },
   {
    "duration": 43,
    "start_time": "2024-12-07T14:08:03.432Z"
   },
   {
    "duration": 20,
    "start_time": "2024-12-07T14:08:03.476Z"
   },
   {
    "duration": 39,
    "start_time": "2024-12-07T14:08:03.497Z"
   },
   {
    "duration": 33,
    "start_time": "2024-12-07T14:08:03.538Z"
   },
   {
    "duration": 62,
    "start_time": "2024-12-07T14:08:03.572Z"
   },
   {
    "duration": 38,
    "start_time": "2024-12-07T14:08:03.636Z"
   },
   {
    "duration": 31,
    "start_time": "2024-12-07T14:08:03.675Z"
   },
   {
    "duration": 1047,
    "start_time": "2024-12-07T14:08:03.708Z"
   },
   {
    "duration": 205,
    "start_time": "2024-12-07T14:08:04.757Z"
   },
   {
    "duration": 207,
    "start_time": "2024-12-07T14:08:04.963Z"
   },
   {
    "duration": 844,
    "start_time": "2024-12-07T14:08:05.171Z"
   },
   {
    "duration": 11,
    "start_time": "2024-12-07T14:08:06.020Z"
   },
   {
    "duration": 53,
    "start_time": "2024-12-07T14:08:06.033Z"
   },
   {
    "duration": 32,
    "start_time": "2024-12-07T14:08:06.087Z"
   },
   {
    "duration": 856,
    "start_time": "2024-12-07T14:08:06.121Z"
   },
   {
    "duration": 6,
    "start_time": "2024-12-07T14:08:06.978Z"
   },
   {
    "duration": 60,
    "start_time": "2024-12-07T14:08:06.985Z"
   },
   {
    "duration": 186,
    "start_time": "2024-12-07T14:08:07.047Z"
   },
   {
    "duration": 67,
    "start_time": "2024-12-07T14:08:07.234Z"
   },
   {
    "duration": 61,
    "start_time": "2024-12-07T14:08:07.303Z"
   },
   {
    "duration": 4,
    "start_time": "2024-12-07T14:08:07.366Z"
   },
   {
    "duration": 91,
    "start_time": "2024-12-07T14:08:07.371Z"
   },
   {
    "duration": 9092,
    "start_time": "2024-12-07T14:08:07.463Z"
   },
   {
    "duration": 83,
    "start_time": "2024-12-07T14:08:16.557Z"
   },
   {
    "duration": 11286,
    "start_time": "2024-12-07T14:13:09.061Z"
   },
   {
    "duration": 2180,
    "start_time": "2024-12-07T14:13:20.350Z"
   },
   {
    "duration": 2,
    "start_time": "2024-12-07T14:13:22.532Z"
   },
   {
    "duration": 110,
    "start_time": "2024-12-07T14:13:22.536Z"
   },
   {
    "duration": 14,
    "start_time": "2024-12-07T14:13:22.648Z"
   },
   {
    "duration": 38,
    "start_time": "2024-12-07T14:13:22.664Z"
   },
   {
    "duration": 38,
    "start_time": "2024-12-07T14:13:22.704Z"
   },
   {
    "duration": 32,
    "start_time": "2024-12-07T14:13:22.744Z"
   },
   {
    "duration": 42,
    "start_time": "2024-12-07T14:13:22.777Z"
   },
   {
    "duration": 28,
    "start_time": "2024-12-07T14:13:22.821Z"
   },
   {
    "duration": 51,
    "start_time": "2024-12-07T14:13:22.851Z"
   },
   {
    "duration": 36,
    "start_time": "2024-12-07T14:13:22.903Z"
   },
   {
    "duration": 30,
    "start_time": "2024-12-07T14:13:22.941Z"
   },
   {
    "duration": 61,
    "start_time": "2024-12-07T14:13:22.973Z"
   },
   {
    "duration": 54,
    "start_time": "2024-12-07T14:13:23.036Z"
   },
   {
    "duration": 19,
    "start_time": "2024-12-07T14:13:23.092Z"
   },
   {
    "duration": 47,
    "start_time": "2024-12-07T14:13:23.112Z"
   },
   {
    "duration": 28,
    "start_time": "2024-12-07T14:13:23.160Z"
   },
   {
    "duration": 31,
    "start_time": "2024-12-07T14:13:23.190Z"
   },
   {
    "duration": 24,
    "start_time": "2024-12-07T14:13:23.223Z"
   },
   {
    "duration": 31,
    "start_time": "2024-12-07T14:13:23.249Z"
   },
   {
    "duration": 40,
    "start_time": "2024-12-07T14:13:23.282Z"
   },
   {
    "duration": 23,
    "start_time": "2024-12-07T14:13:23.323Z"
   },
   {
    "duration": 16,
    "start_time": "2024-12-07T14:13:23.348Z"
   },
   {
    "duration": 88,
    "start_time": "2024-12-07T14:13:23.366Z"
   },
   {
    "duration": 19,
    "start_time": "2024-12-07T14:13:23.456Z"
   },
   {
    "duration": 8,
    "start_time": "2024-12-07T14:13:23.476Z"
   },
   {
    "duration": 25,
    "start_time": "2024-12-07T14:13:23.488Z"
   },
   {
    "duration": 22,
    "start_time": "2024-12-07T14:13:23.514Z"
   },
   {
    "duration": 15,
    "start_time": "2024-12-07T14:13:23.537Z"
   },
   {
    "duration": 14,
    "start_time": "2024-12-07T14:13:23.554Z"
   },
   {
    "duration": 25,
    "start_time": "2024-12-07T14:13:23.569Z"
   },
   {
    "duration": 1035,
    "start_time": "2024-12-07T14:13:23.596Z"
   },
   {
    "duration": 843,
    "start_time": "2024-12-07T14:13:24.632Z"
   },
   {
    "duration": 174,
    "start_time": "2024-12-07T14:13:25.477Z"
   },
   {
    "duration": 237,
    "start_time": "2024-12-07T14:13:25.653Z"
   },
   {
    "duration": 973,
    "start_time": "2024-12-07T14:13:25.892Z"
   },
   {
    "duration": 4,
    "start_time": "2024-12-07T14:13:26.867Z"
   },
   {
    "duration": 13,
    "start_time": "2024-12-07T14:13:26.872Z"
   },
   {
    "duration": 11,
    "start_time": "2024-12-07T14:13:26.886Z"
   },
   {
    "duration": 40256,
    "start_time": "2024-12-07T14:13:26.899Z"
   },
   {
    "duration": 63,
    "start_time": "2024-12-07T14:14:07.157Z"
   },
   {
    "duration": 17,
    "start_time": "2024-12-07T14:14:07.222Z"
   },
   {
    "duration": 50,
    "start_time": "2024-12-07T14:14:07.240Z"
   },
   {
    "duration": 32,
    "start_time": "2024-12-07T14:14:07.293Z"
   },
   {
    "duration": 23,
    "start_time": "2024-12-07T14:14:07.327Z"
   },
   {
    "duration": 39,
    "start_time": "2024-12-07T14:14:07.352Z"
   },
   {
    "duration": 25,
    "start_time": "2024-12-07T14:14:07.393Z"
   },
   {
    "duration": 33,
    "start_time": "2024-12-07T14:14:07.420Z"
   },
   {
    "duration": 33,
    "start_time": "2024-12-07T14:14:07.454Z"
   },
   {
    "duration": 37,
    "start_time": "2024-12-07T14:14:07.489Z"
   },
   {
    "duration": 43,
    "start_time": "2024-12-07T14:14:07.527Z"
   },
   {
    "duration": 29,
    "start_time": "2024-12-07T14:14:07.572Z"
   },
   {
    "duration": 17,
    "start_time": "2024-12-07T14:14:07.602Z"
   },
   {
    "duration": 18,
    "start_time": "2024-12-07T14:14:07.621Z"
   },
   {
    "duration": 27,
    "start_time": "2024-12-07T14:14:07.641Z"
   },
   {
    "duration": 8,
    "start_time": "2024-12-07T14:14:07.670Z"
   },
   {
    "duration": 1005,
    "start_time": "2024-12-07T14:14:07.679Z"
   },
   {
    "duration": 262,
    "start_time": "2024-12-07T14:14:08.686Z"
   },
   {
    "duration": 209,
    "start_time": "2024-12-07T14:14:08.950Z"
   },
   {
    "duration": 848,
    "start_time": "2024-12-07T14:14:09.161Z"
   },
   {
    "duration": 19,
    "start_time": "2024-12-07T14:14:10.011Z"
   },
   {
    "duration": 21,
    "start_time": "2024-12-07T14:14:10.032Z"
   },
   {
    "duration": 15,
    "start_time": "2024-12-07T14:14:10.054Z"
   },
   {
    "duration": 859,
    "start_time": "2024-12-07T14:14:10.071Z"
   },
   {
    "duration": 9,
    "start_time": "2024-12-07T14:14:10.932Z"
   },
   {
    "duration": 18,
    "start_time": "2024-12-07T14:14:10.943Z"
   },
   {
    "duration": 192,
    "start_time": "2024-12-07T14:14:10.962Z"
   },
   {
    "duration": 78,
    "start_time": "2024-12-07T14:14:11.156Z"
   },
   {
    "duration": 43,
    "start_time": "2024-12-07T14:14:11.235Z"
   },
   {
    "duration": 3,
    "start_time": "2024-12-07T14:14:11.280Z"
   },
   {
    "duration": 12,
    "start_time": "2024-12-07T14:14:11.285Z"
   },
   {
    "duration": 9365,
    "start_time": "2024-12-07T14:14:11.299Z"
   },
   {
    "duration": 86,
    "start_time": "2024-12-07T14:14:20.666Z"
   },
   {
    "duration": 222,
    "start_time": "2024-12-07T14:19:27.416Z"
   },
   {
    "duration": 10,
    "start_time": "2024-12-07T14:19:40.929Z"
   },
   {
    "duration": 142,
    "start_time": "2024-12-07T14:20:25.756Z"
   },
   {
    "duration": 233,
    "start_time": "2024-12-07T14:21:15.314Z"
   },
   {
    "duration": 360,
    "start_time": "2024-12-07T14:21:29.161Z"
   },
   {
    "duration": 22,
    "start_time": "2024-12-07T14:21:36.772Z"
   },
   {
    "duration": 204,
    "start_time": "2024-12-07T14:21:46.933Z"
   },
   {
    "duration": 11,
    "start_time": "2024-12-07T14:22:07.626Z"
   },
   {
    "duration": 10,
    "start_time": "2024-12-07T14:22:14.110Z"
   },
   {
    "duration": 1273,
    "start_time": "2024-12-07T14:22:33.875Z"
   },
   {
    "duration": 340,
    "start_time": "2024-12-07T14:22:52.799Z"
   },
   {
    "duration": 224,
    "start_time": "2024-12-07T14:23:00.722Z"
   },
   {
    "duration": 12,
    "start_time": "2024-12-07T14:23:23.169Z"
   },
   {
    "duration": 311,
    "start_time": "2024-12-07T14:23:26.222Z"
   },
   {
    "duration": 10846,
    "start_time": "2024-12-07T14:24:13.255Z"
   },
   {
    "duration": 2128,
    "start_time": "2024-12-07T14:24:24.103Z"
   },
   {
    "duration": 2,
    "start_time": "2024-12-07T14:24:26.233Z"
   },
   {
    "duration": 84,
    "start_time": "2024-12-07T14:24:26.237Z"
   },
   {
    "duration": 16,
    "start_time": "2024-12-07T14:24:26.323Z"
   },
   {
    "duration": 14,
    "start_time": "2024-12-07T14:24:26.341Z"
   },
   {
    "duration": 11,
    "start_time": "2024-12-07T14:24:26.357Z"
   },
   {
    "duration": 65,
    "start_time": "2024-12-07T14:24:26.370Z"
   },
   {
    "duration": 20,
    "start_time": "2024-12-07T14:24:26.437Z"
   },
   {
    "duration": 29,
    "start_time": "2024-12-07T14:24:26.461Z"
   },
   {
    "duration": 30,
    "start_time": "2024-12-07T14:24:26.492Z"
   },
   {
    "duration": 30,
    "start_time": "2024-12-07T14:24:26.524Z"
   },
   {
    "duration": 49,
    "start_time": "2024-12-07T14:24:26.556Z"
   },
   {
    "duration": 33,
    "start_time": "2024-12-07T14:24:26.607Z"
   },
   {
    "duration": 32,
    "start_time": "2024-12-07T14:24:26.642Z"
   },
   {
    "duration": 30,
    "start_time": "2024-12-07T14:24:26.676Z"
   },
   {
    "duration": 21,
    "start_time": "2024-12-07T14:24:26.707Z"
   },
   {
    "duration": 65,
    "start_time": "2024-12-07T14:24:26.729Z"
   },
   {
    "duration": 19,
    "start_time": "2024-12-07T14:24:26.795Z"
   },
   {
    "duration": 23,
    "start_time": "2024-12-07T14:24:26.815Z"
   },
   {
    "duration": 26,
    "start_time": "2024-12-07T14:24:26.839Z"
   },
   {
    "duration": 23,
    "start_time": "2024-12-07T14:24:26.867Z"
   },
   {
    "duration": 18,
    "start_time": "2024-12-07T14:24:26.891Z"
   },
   {
    "duration": 8,
    "start_time": "2024-12-07T14:24:26.910Z"
   },
   {
    "duration": 31,
    "start_time": "2024-12-07T14:24:26.919Z"
   },
   {
    "duration": 13,
    "start_time": "2024-12-07T14:24:26.952Z"
   },
   {
    "duration": 11,
    "start_time": "2024-12-07T14:24:26.967Z"
   },
   {
    "duration": 17,
    "start_time": "2024-12-07T14:24:26.981Z"
   },
   {
    "duration": 25,
    "start_time": "2024-12-07T14:24:26.999Z"
   },
   {
    "duration": 78,
    "start_time": "2024-12-07T14:24:27.026Z"
   },
   {
    "duration": 15,
    "start_time": "2024-12-07T14:24:27.106Z"
   },
   {
    "duration": 23,
    "start_time": "2024-12-07T14:24:27.122Z"
   },
   {
    "duration": 978,
    "start_time": "2024-12-07T14:24:27.147Z"
   },
   {
    "duration": 847,
    "start_time": "2024-12-07T14:24:28.127Z"
   },
   {
    "duration": 176,
    "start_time": "2024-12-07T14:24:28.975Z"
   },
   {
    "duration": 228,
    "start_time": "2024-12-07T14:24:29.153Z"
   },
   {
    "duration": 923,
    "start_time": "2024-12-07T14:24:29.382Z"
   },
   {
    "duration": 4,
    "start_time": "2024-12-07T14:24:30.307Z"
   },
   {
    "duration": 39,
    "start_time": "2024-12-07T14:24:30.312Z"
   },
   {
    "duration": 125,
    "start_time": "2024-12-07T14:24:30.352Z"
   },
   {
    "duration": 40337,
    "start_time": "2024-12-07T14:24:30.479Z"
   },
   {
    "duration": 60,
    "start_time": "2024-12-07T14:25:10.821Z"
   },
   {
    "duration": 11,
    "start_time": "2024-12-07T14:25:10.882Z"
   },
   {
    "duration": 29,
    "start_time": "2024-12-07T14:25:10.895Z"
   },
   {
    "duration": 14,
    "start_time": "2024-12-07T14:25:10.927Z"
   },
   {
    "duration": 7,
    "start_time": "2024-12-07T14:25:10.942Z"
   },
   {
    "duration": 13,
    "start_time": "2024-12-07T14:25:10.950Z"
   },
   {
    "duration": 9,
    "start_time": "2024-12-07T14:25:10.964Z"
   },
   {
    "duration": 13,
    "start_time": "2024-12-07T14:25:10.974Z"
   },
   {
    "duration": 5,
    "start_time": "2024-12-07T14:25:10.989Z"
   },
   {
    "duration": 28,
    "start_time": "2024-12-07T14:25:10.995Z"
   },
   {
    "duration": 9,
    "start_time": "2024-12-07T14:25:11.025Z"
   },
   {
    "duration": 8,
    "start_time": "2024-12-07T14:25:11.036Z"
   },
   {
    "duration": 10,
    "start_time": "2024-12-07T14:25:11.045Z"
   },
   {
    "duration": 3,
    "start_time": "2024-12-07T14:25:11.057Z"
   },
   {
    "duration": 15,
    "start_time": "2024-12-07T14:25:11.062Z"
   },
   {
    "duration": 54,
    "start_time": "2024-12-07T14:25:11.079Z"
   },
   {
    "duration": 7,
    "start_time": "2024-12-07T14:25:11.135Z"
   },
   {
    "duration": 1132,
    "start_time": "2024-12-07T14:25:11.144Z"
   },
   {
    "duration": 206,
    "start_time": "2024-12-07T14:25:12.278Z"
   },
   {
    "duration": 216,
    "start_time": "2024-12-07T14:25:12.485Z"
   },
   {
    "duration": 899,
    "start_time": "2024-12-07T14:25:12.703Z"
   },
   {
    "duration": 25,
    "start_time": "2024-12-07T14:25:13.604Z"
   },
   {
    "duration": 118,
    "start_time": "2024-12-07T14:25:13.630Z"
   },
   {
    "duration": 14,
    "start_time": "2024-12-07T14:25:13.750Z"
   },
   {
    "duration": 904,
    "start_time": "2024-12-07T14:25:13.766Z"
   },
   {
    "duration": 7,
    "start_time": "2024-12-07T14:25:14.671Z"
   },
   {
    "duration": 42,
    "start_time": "2024-12-07T14:25:14.679Z"
   },
   {
    "duration": 83,
    "start_time": "2024-12-07T14:25:14.723Z"
   },
   {
    "duration": 338,
    "start_time": "2024-12-07T14:25:14.808Z"
   },
   {
    "duration": 75,
    "start_time": "2024-12-07T14:25:15.148Z"
   },
   {
    "duration": 44,
    "start_time": "2024-12-07T14:25:15.224Z"
   },
   {
    "duration": 14,
    "start_time": "2024-12-07T14:25:15.269Z"
   },
   {
    "duration": 40,
    "start_time": "2024-12-07T14:25:15.284Z"
   },
   {
    "duration": 9176,
    "start_time": "2024-12-07T14:25:15.325Z"
   },
   {
    "duration": 83,
    "start_time": "2024-12-07T14:25:24.503Z"
   },
   {
    "duration": 249,
    "start_time": "2024-12-07T14:26:13.436Z"
   },
   {
    "duration": 333,
    "start_time": "2024-12-07T14:26:20.128Z"
   },
   {
    "duration": 211,
    "start_time": "2024-12-07T14:26:55.423Z"
   },
   {
    "duration": 185,
    "start_time": "2024-12-07T14:27:12.138Z"
   },
   {
    "duration": 170,
    "start_time": "2024-12-07T14:27:51.384Z"
   },
   {
    "duration": 411,
    "start_time": "2024-12-07T14:28:10.422Z"
   },
   {
    "duration": 11309,
    "start_time": "2024-12-07T14:28:22.278Z"
   },
   {
    "duration": 2157,
    "start_time": "2024-12-07T14:28:33.590Z"
   },
   {
    "duration": 2,
    "start_time": "2024-12-07T14:28:35.749Z"
   },
   {
    "duration": 97,
    "start_time": "2024-12-07T14:28:35.753Z"
   },
   {
    "duration": 14,
    "start_time": "2024-12-07T14:28:35.852Z"
   },
   {
    "duration": 25,
    "start_time": "2024-12-07T14:28:35.867Z"
   },
   {
    "duration": 10,
    "start_time": "2024-12-07T14:28:35.894Z"
   },
   {
    "duration": 11,
    "start_time": "2024-12-07T14:28:35.906Z"
   },
   {
    "duration": 37,
    "start_time": "2024-12-07T14:28:35.919Z"
   },
   {
    "duration": 39,
    "start_time": "2024-12-07T14:28:35.959Z"
   },
   {
    "duration": 7,
    "start_time": "2024-12-07T14:28:36.000Z"
   },
   {
    "duration": 11,
    "start_time": "2024-12-07T14:28:36.009Z"
   },
   {
    "duration": 17,
    "start_time": "2024-12-07T14:28:36.022Z"
   },
   {
    "duration": 27,
    "start_time": "2024-12-07T14:28:36.040Z"
   },
   {
    "duration": 15,
    "start_time": "2024-12-07T14:28:36.069Z"
   },
   {
    "duration": 12,
    "start_time": "2024-12-07T14:28:36.086Z"
   },
   {
    "duration": 5,
    "start_time": "2024-12-07T14:28:36.099Z"
   },
   {
    "duration": 6,
    "start_time": "2024-12-07T14:28:36.105Z"
   },
   {
    "duration": 23,
    "start_time": "2024-12-07T14:28:36.113Z"
   },
   {
    "duration": 5,
    "start_time": "2024-12-07T14:28:36.138Z"
   },
   {
    "duration": 11,
    "start_time": "2024-12-07T14:28:36.145Z"
   },
   {
    "duration": 15,
    "start_time": "2024-12-07T14:28:36.158Z"
   },
   {
    "duration": 6,
    "start_time": "2024-12-07T14:28:36.174Z"
   },
   {
    "duration": 3,
    "start_time": "2024-12-07T14:28:36.182Z"
   },
   {
    "duration": 23,
    "start_time": "2024-12-07T14:28:36.187Z"
   },
   {
    "duration": 15,
    "start_time": "2024-12-07T14:28:36.221Z"
   },
   {
    "duration": 7,
    "start_time": "2024-12-07T14:28:36.237Z"
   },
   {
    "duration": 36,
    "start_time": "2024-12-07T14:28:36.248Z"
   },
   {
    "duration": 12,
    "start_time": "2024-12-07T14:28:36.286Z"
   },
   {
    "duration": 38,
    "start_time": "2024-12-07T14:28:36.300Z"
   },
   {
    "duration": 10,
    "start_time": "2024-12-07T14:28:36.339Z"
   },
   {
    "duration": 15,
    "start_time": "2024-12-07T14:28:36.350Z"
   },
   {
    "duration": 1136,
    "start_time": "2024-12-07T14:28:36.367Z"
   },
   {
    "duration": 888,
    "start_time": "2024-12-07T14:28:37.505Z"
   },
   {
    "duration": 234,
    "start_time": "2024-12-07T14:28:38.394Z"
   },
   {
    "duration": 219,
    "start_time": "2024-12-07T14:28:38.629Z"
   },
   {
    "duration": 983,
    "start_time": "2024-12-07T14:28:38.850Z"
   },
   {
    "duration": 4,
    "start_time": "2024-12-07T14:28:39.835Z"
   },
   {
    "duration": 6,
    "start_time": "2024-12-07T14:28:39.841Z"
   },
   {
    "duration": 6,
    "start_time": "2024-12-07T14:28:39.848Z"
   },
   {
    "duration": 40403,
    "start_time": "2024-12-07T14:28:39.856Z"
   },
   {
    "duration": 60,
    "start_time": "2024-12-07T14:29:20.261Z"
   },
   {
    "duration": 13,
    "start_time": "2024-12-07T14:29:20.322Z"
   },
   {
    "duration": 15,
    "start_time": "2024-12-07T14:29:20.337Z"
   },
   {
    "duration": 48,
    "start_time": "2024-12-07T14:29:20.353Z"
   },
   {
    "duration": 47,
    "start_time": "2024-12-07T14:29:20.402Z"
   },
   {
    "duration": 31,
    "start_time": "2024-12-07T14:29:20.451Z"
   },
   {
    "duration": 46,
    "start_time": "2024-12-07T14:29:20.484Z"
   },
   {
    "duration": 14,
    "start_time": "2024-12-07T14:29:20.532Z"
   },
   {
    "duration": 25,
    "start_time": "2024-12-07T14:29:20.547Z"
   },
   {
    "duration": 18,
    "start_time": "2024-12-07T14:29:20.574Z"
   },
   {
    "duration": 34,
    "start_time": "2024-12-07T14:29:20.594Z"
   },
   {
    "duration": 26,
    "start_time": "2024-12-07T14:29:20.630Z"
   },
   {
    "duration": 19,
    "start_time": "2024-12-07T14:29:20.658Z"
   },
   {
    "duration": 8,
    "start_time": "2024-12-07T14:29:20.679Z"
   },
   {
    "duration": 24,
    "start_time": "2024-12-07T14:29:20.689Z"
   },
   {
    "duration": 24,
    "start_time": "2024-12-07T14:29:20.714Z"
   },
   {
    "duration": 60,
    "start_time": "2024-12-07T14:29:20.740Z"
   },
   {
    "duration": 1075,
    "start_time": "2024-12-07T14:29:20.802Z"
   },
   {
    "duration": 204,
    "start_time": "2024-12-07T14:29:21.879Z"
   },
   {
    "duration": 225,
    "start_time": "2024-12-07T14:29:22.085Z"
   },
   {
    "duration": 831,
    "start_time": "2024-12-07T14:29:22.312Z"
   },
   {
    "duration": 12,
    "start_time": "2024-12-07T14:29:23.144Z"
   },
   {
    "duration": 26,
    "start_time": "2024-12-07T14:29:23.157Z"
   },
   {
    "duration": 14,
    "start_time": "2024-12-07T14:29:23.184Z"
   },
   {
    "duration": 876,
    "start_time": "2024-12-07T14:29:23.199Z"
   },
   {
    "duration": 6,
    "start_time": "2024-12-07T14:29:24.077Z"
   },
   {
    "duration": 35,
    "start_time": "2024-12-07T14:29:24.084Z"
   },
   {
    "duration": 17,
    "start_time": "2024-12-07T14:29:24.120Z"
   },
   {
    "duration": 393,
    "start_time": "2024-12-07T14:29:24.138Z"
   },
   {
    "duration": 88,
    "start_time": "2024-12-07T14:29:24.533Z"
   },
   {
    "duration": 48,
    "start_time": "2024-12-07T14:29:24.623Z"
   },
   {
    "duration": 5,
    "start_time": "2024-12-07T14:29:24.672Z"
   },
   {
    "duration": 11,
    "start_time": "2024-12-07T14:29:24.678Z"
   },
   {
    "duration": 9375,
    "start_time": "2024-12-07T14:29:24.691Z"
   },
   {
    "duration": 82,
    "start_time": "2024-12-07T14:29:34.068Z"
   },
   {
    "duration": 23809,
    "start_time": "2024-12-07T14:54:29.857Z"
   },
   {
    "duration": 2548,
    "start_time": "2024-12-07T14:54:53.669Z"
   },
   {
    "duration": 3,
    "start_time": "2024-12-07T14:54:56.219Z"
   },
   {
    "duration": 288,
    "start_time": "2024-12-07T14:54:56.224Z"
   },
   {
    "duration": 16,
    "start_time": "2024-12-07T14:54:56.514Z"
   },
   {
    "duration": 15,
    "start_time": "2024-12-07T14:54:56.531Z"
   },
   {
    "duration": 11,
    "start_time": "2024-12-07T14:54:56.548Z"
   },
   {
    "duration": 10,
    "start_time": "2024-12-07T14:54:56.560Z"
   },
   {
    "duration": 13,
    "start_time": "2024-12-07T14:54:56.572Z"
   },
   {
    "duration": 7,
    "start_time": "2024-12-07T14:54:56.587Z"
   },
   {
    "duration": 7,
    "start_time": "2024-12-07T14:54:56.595Z"
   },
   {
    "duration": 9,
    "start_time": "2024-12-07T14:54:56.604Z"
   },
   {
    "duration": 42,
    "start_time": "2024-12-07T14:54:56.615Z"
   },
   {
    "duration": 7,
    "start_time": "2024-12-07T14:54:56.660Z"
   },
   {
    "duration": 12,
    "start_time": "2024-12-07T14:54:56.668Z"
   },
   {
    "duration": 4,
    "start_time": "2024-12-07T14:54:56.682Z"
   },
   {
    "duration": 6,
    "start_time": "2024-12-07T14:54:56.687Z"
   },
   {
    "duration": 9,
    "start_time": "2024-12-07T14:54:56.694Z"
   },
   {
    "duration": 9,
    "start_time": "2024-12-07T14:54:56.704Z"
   },
   {
    "duration": 38,
    "start_time": "2024-12-07T14:54:56.715Z"
   },
   {
    "duration": 6,
    "start_time": "2024-12-07T14:54:56.754Z"
   },
   {
    "duration": 16,
    "start_time": "2024-12-07T14:54:56.762Z"
   },
   {
    "duration": 9,
    "start_time": "2024-12-07T14:54:56.780Z"
   },
   {
    "duration": 12,
    "start_time": "2024-12-07T14:54:56.790Z"
   },
   {
    "duration": 46,
    "start_time": "2024-12-07T14:54:56.804Z"
   },
   {
    "duration": 38,
    "start_time": "2024-12-07T14:54:56.852Z"
   },
   {
    "duration": 3,
    "start_time": "2024-12-07T14:54:56.892Z"
   },
   {
    "duration": 27,
    "start_time": "2024-12-07T14:54:56.897Z"
   },
   {
    "duration": 15,
    "start_time": "2024-12-07T14:54:56.926Z"
   },
   {
    "duration": 11,
    "start_time": "2024-12-07T14:54:56.942Z"
   },
   {
    "duration": 6,
    "start_time": "2024-12-07T14:54:56.955Z"
   },
   {
    "duration": 6,
    "start_time": "2024-12-07T14:54:56.962Z"
   },
   {
    "duration": 1122,
    "start_time": "2024-12-07T14:54:56.969Z"
   },
   {
    "duration": 869,
    "start_time": "2024-12-07T14:54:58.093Z"
   },
   {
    "duration": 207,
    "start_time": "2024-12-07T14:54:58.964Z"
   },
   {
    "duration": 252,
    "start_time": "2024-12-07T14:54:59.173Z"
   },
   {
    "duration": 1034,
    "start_time": "2024-12-07T14:54:59.427Z"
   },
   {
    "duration": 5,
    "start_time": "2024-12-07T14:55:00.463Z"
   },
   {
    "duration": 17,
    "start_time": "2024-12-07T14:55:00.469Z"
   },
   {
    "duration": 19,
    "start_time": "2024-12-07T14:55:00.488Z"
   },
   {
    "duration": 44571,
    "start_time": "2024-12-07T14:55:00.511Z"
   },
   {
    "duration": 210,
    "start_time": "2024-12-07T14:55:45.083Z"
   },
   {
    "duration": 13,
    "start_time": "2024-12-07T14:55:45.295Z"
   },
   {
    "duration": 29,
    "start_time": "2024-12-07T14:55:45.310Z"
   },
   {
    "duration": 39,
    "start_time": "2024-12-07T14:55:45.341Z"
   },
   {
    "duration": 30,
    "start_time": "2024-12-07T14:55:45.382Z"
   },
   {
    "duration": 20,
    "start_time": "2024-12-07T14:55:45.414Z"
   },
   {
    "duration": 24,
    "start_time": "2024-12-07T14:55:45.436Z"
   },
   {
    "duration": 14,
    "start_time": "2024-12-07T14:55:45.462Z"
   },
   {
    "duration": 6,
    "start_time": "2024-12-07T14:55:45.478Z"
   },
   {
    "duration": 11,
    "start_time": "2024-12-07T14:55:45.486Z"
   },
   {
    "duration": 8,
    "start_time": "2024-12-07T14:55:45.499Z"
   },
   {
    "duration": 7,
    "start_time": "2024-12-07T14:55:45.508Z"
   },
   {
    "duration": 11,
    "start_time": "2024-12-07T14:55:45.516Z"
   },
   {
    "duration": 3,
    "start_time": "2024-12-07T14:55:45.553Z"
   },
   {
    "duration": 36,
    "start_time": "2024-12-07T14:55:45.558Z"
   },
   {
    "duration": 18,
    "start_time": "2024-12-07T14:55:45.595Z"
   },
   {
    "duration": 20,
    "start_time": "2024-12-07T14:55:45.615Z"
   },
   {
    "duration": 1188,
    "start_time": "2024-12-07T14:55:45.636Z"
   },
   {
    "duration": 255,
    "start_time": "2024-12-07T14:55:46.825Z"
   },
   {
    "duration": 245,
    "start_time": "2024-12-07T14:55:47.081Z"
   },
   {
    "duration": 892,
    "start_time": "2024-12-07T14:55:47.328Z"
   },
   {
    "duration": 13,
    "start_time": "2024-12-07T14:55:48.222Z"
   },
   {
    "duration": 31,
    "start_time": "2024-12-07T14:55:48.236Z"
   },
   {
    "duration": 16,
    "start_time": "2024-12-07T14:55:48.269Z"
   },
   {
    "duration": 934,
    "start_time": "2024-12-07T14:55:48.287Z"
   },
   {
    "duration": 8,
    "start_time": "2024-12-07T14:55:49.223Z"
   },
   {
    "duration": 49,
    "start_time": "2024-12-07T14:55:49.232Z"
   },
   {
    "duration": 13,
    "start_time": "2024-12-07T14:55:49.283Z"
   },
   {
    "duration": 379,
    "start_time": "2024-12-07T14:55:49.298Z"
   },
   {
    "duration": 78,
    "start_time": "2024-12-07T14:55:49.678Z"
   },
   {
    "duration": 45,
    "start_time": "2024-12-07T14:55:49.758Z"
   },
   {
    "duration": 5,
    "start_time": "2024-12-07T14:55:49.804Z"
   },
   {
    "duration": 88,
    "start_time": "2024-12-07T14:55:49.810Z"
   },
   {
    "duration": 10147,
    "start_time": "2024-12-07T14:55:49.900Z"
   },
   {
    "duration": 11530,
    "start_time": "2024-12-07T16:24:24.867Z"
   },
   {
    "duration": 2163,
    "start_time": "2024-12-07T16:24:36.399Z"
   },
   {
    "duration": 2,
    "start_time": "2024-12-07T16:24:38.564Z"
   },
   {
    "duration": 98,
    "start_time": "2024-12-07T16:24:38.568Z"
   },
   {
    "duration": 12,
    "start_time": "2024-12-07T16:24:38.668Z"
   },
   {
    "duration": 13,
    "start_time": "2024-12-07T16:24:38.682Z"
   },
   {
    "duration": 17,
    "start_time": "2024-12-07T16:24:38.696Z"
   },
   {
    "duration": 23,
    "start_time": "2024-12-07T16:24:38.714Z"
   },
   {
    "duration": 36,
    "start_time": "2024-12-07T16:24:38.739Z"
   },
   {
    "duration": 9,
    "start_time": "2024-12-07T16:24:38.778Z"
   },
   {
    "duration": 22,
    "start_time": "2024-12-07T16:24:38.789Z"
   },
   {
    "duration": 24,
    "start_time": "2024-12-07T16:24:38.813Z"
   },
   {
    "duration": 24,
    "start_time": "2024-12-07T16:24:38.838Z"
   },
   {
    "duration": 20,
    "start_time": "2024-12-07T16:24:38.863Z"
   },
   {
    "duration": 55,
    "start_time": "2024-12-07T16:24:38.884Z"
   },
   {
    "duration": 23,
    "start_time": "2024-12-07T16:24:38.940Z"
   },
   {
    "duration": 24,
    "start_time": "2024-12-07T16:24:38.964Z"
   },
   {
    "duration": 26,
    "start_time": "2024-12-07T16:24:38.989Z"
   },
   {
    "duration": 21,
    "start_time": "2024-12-07T16:24:39.016Z"
   },
   {
    "duration": 16,
    "start_time": "2024-12-07T16:24:39.039Z"
   },
   {
    "duration": 17,
    "start_time": "2024-12-07T16:24:39.056Z"
   },
   {
    "duration": 13,
    "start_time": "2024-12-07T16:24:39.074Z"
   },
   {
    "duration": 11,
    "start_time": "2024-12-07T16:24:39.089Z"
   },
   {
    "duration": 10,
    "start_time": "2024-12-07T16:24:39.101Z"
   },
   {
    "duration": 48,
    "start_time": "2024-12-07T16:24:39.112Z"
   },
   {
    "duration": 25,
    "start_time": "2024-12-07T16:24:39.161Z"
   },
   {
    "duration": 3,
    "start_time": "2024-12-07T16:24:39.187Z"
   },
   {
    "duration": 14,
    "start_time": "2024-12-07T16:24:39.194Z"
   },
   {
    "duration": 14,
    "start_time": "2024-12-07T16:24:39.209Z"
   },
   {
    "duration": 15,
    "start_time": "2024-12-07T16:24:39.226Z"
   },
   {
    "duration": 33,
    "start_time": "2024-12-07T16:24:39.243Z"
   },
   {
    "duration": 3,
    "start_time": "2024-12-07T16:24:39.278Z"
   },
   {
    "duration": 1053,
    "start_time": "2024-12-07T16:24:39.283Z"
   },
   {
    "duration": 834,
    "start_time": "2024-12-07T16:24:40.338Z"
   },
   {
    "duration": 175,
    "start_time": "2024-12-07T16:24:41.174Z"
   },
   {
    "duration": 231,
    "start_time": "2024-12-07T16:24:41.351Z"
   },
   {
    "duration": 1021,
    "start_time": "2024-12-07T16:24:41.584Z"
   },
   {
    "duration": 4,
    "start_time": "2024-12-07T16:24:42.607Z"
   },
   {
    "duration": 51,
    "start_time": "2024-12-07T16:24:42.612Z"
   },
   {
    "duration": 48,
    "start_time": "2024-12-07T16:24:42.664Z"
   },
   {
    "duration": 40684,
    "start_time": "2024-12-07T16:24:42.714Z"
   },
   {
    "duration": 59,
    "start_time": "2024-12-07T16:25:23.399Z"
   },
   {
    "duration": 11,
    "start_time": "2024-12-07T16:25:23.460Z"
   },
   {
    "duration": 13,
    "start_time": "2024-12-07T16:25:23.472Z"
   },
   {
    "duration": 9,
    "start_time": "2024-12-07T16:25:23.486Z"
   },
   {
    "duration": 6,
    "start_time": "2024-12-07T16:25:23.496Z"
   },
   {
    "duration": 6,
    "start_time": "2024-12-07T16:25:23.504Z"
   },
   {
    "duration": 8,
    "start_time": "2024-12-07T16:25:23.511Z"
   },
   {
    "duration": 6,
    "start_time": "2024-12-07T16:25:23.521Z"
   },
   {
    "duration": 5,
    "start_time": "2024-12-07T16:25:23.528Z"
   },
   {
    "duration": 9,
    "start_time": "2024-12-07T16:25:23.534Z"
   },
   {
    "duration": 5,
    "start_time": "2024-12-07T16:25:23.544Z"
   },
   {
    "duration": 6,
    "start_time": "2024-12-07T16:25:23.550Z"
   },
   {
    "duration": 9,
    "start_time": "2024-12-07T16:25:23.557Z"
   },
   {
    "duration": 3,
    "start_time": "2024-12-07T16:25:23.568Z"
   },
   {
    "duration": 15,
    "start_time": "2024-12-07T16:25:23.572Z"
   },
   {
    "duration": 44,
    "start_time": "2024-12-07T16:25:23.588Z"
   },
   {
    "duration": 6,
    "start_time": "2024-12-07T16:25:23.634Z"
   },
   {
    "duration": 1033,
    "start_time": "2024-12-07T16:25:23.641Z"
   },
   {
    "duration": 187,
    "start_time": "2024-12-07T16:25:24.676Z"
   },
   {
    "duration": 225,
    "start_time": "2024-12-07T16:25:24.865Z"
   },
   {
    "duration": 832,
    "start_time": "2024-12-07T16:25:25.092Z"
   },
   {
    "duration": 11,
    "start_time": "2024-12-07T16:25:25.925Z"
   },
   {
    "duration": 18,
    "start_time": "2024-12-07T16:25:25.937Z"
   },
   {
    "duration": 17,
    "start_time": "2024-12-07T16:25:25.956Z"
   },
   {
    "duration": 896,
    "start_time": "2024-12-07T16:25:25.974Z"
   },
   {
    "duration": 7,
    "start_time": "2024-12-07T16:25:26.872Z"
   },
   {
    "duration": 6,
    "start_time": "2024-12-07T16:25:26.881Z"
   },
   {
    "duration": 77,
    "start_time": "2024-12-07T16:25:26.889Z"
   },
   {
    "duration": 363,
    "start_time": "2024-12-07T16:25:26.968Z"
   },
   {
    "duration": 65,
    "start_time": "2024-12-07T16:25:27.332Z"
   },
   {
    "duration": 56,
    "start_time": "2024-12-07T16:25:27.399Z"
   },
   {
    "duration": 3,
    "start_time": "2024-12-07T16:25:27.457Z"
   },
   {
    "duration": 4,
    "start_time": "2024-12-07T16:25:27.462Z"
   },
   {
    "duration": 8566,
    "start_time": "2024-12-07T16:25:27.468Z"
   },
   {
    "duration": 11188,
    "start_time": "2024-12-07T16:30:34.695Z"
   },
   {
    "duration": 2042,
    "start_time": "2024-12-07T16:30:45.885Z"
   },
   {
    "duration": 2,
    "start_time": "2024-12-07T16:30:47.929Z"
   },
   {
    "duration": 89,
    "start_time": "2024-12-07T16:30:47.932Z"
   },
   {
    "duration": 15,
    "start_time": "2024-12-07T16:30:48.023Z"
   },
   {
    "duration": 17,
    "start_time": "2024-12-07T16:30:48.040Z"
   },
   {
    "duration": 24,
    "start_time": "2024-12-07T16:30:48.058Z"
   },
   {
    "duration": 18,
    "start_time": "2024-12-07T16:30:48.083Z"
   },
   {
    "duration": 21,
    "start_time": "2024-12-07T16:30:48.102Z"
   },
   {
    "duration": 33,
    "start_time": "2024-12-07T16:30:48.125Z"
   },
   {
    "duration": 25,
    "start_time": "2024-12-07T16:30:48.159Z"
   },
   {
    "duration": 31,
    "start_time": "2024-12-07T16:30:48.185Z"
   },
   {
    "duration": 28,
    "start_time": "2024-12-07T16:30:48.218Z"
   },
   {
    "duration": 23,
    "start_time": "2024-12-07T16:30:48.250Z"
   },
   {
    "duration": 28,
    "start_time": "2024-12-07T16:30:48.274Z"
   },
   {
    "duration": 12,
    "start_time": "2024-12-07T16:30:48.303Z"
   },
   {
    "duration": 29,
    "start_time": "2024-12-07T16:30:48.317Z"
   },
   {
    "duration": 21,
    "start_time": "2024-12-07T16:30:48.348Z"
   },
   {
    "duration": 22,
    "start_time": "2024-12-07T16:30:48.370Z"
   },
   {
    "duration": 5,
    "start_time": "2024-12-07T16:30:48.394Z"
   },
   {
    "duration": 5,
    "start_time": "2024-12-07T16:30:48.400Z"
   },
   {
    "duration": 8,
    "start_time": "2024-12-07T16:30:48.406Z"
   },
   {
    "duration": 8,
    "start_time": "2024-12-07T16:30:48.415Z"
   },
   {
    "duration": 2,
    "start_time": "2024-12-07T16:30:48.424Z"
   },
   {
    "duration": 18,
    "start_time": "2024-12-07T16:30:48.427Z"
   },
   {
    "duration": 14,
    "start_time": "2024-12-07T16:30:48.446Z"
   },
   {
    "duration": 2,
    "start_time": "2024-12-07T16:30:48.461Z"
   },
   {
    "duration": 16,
    "start_time": "2024-12-07T16:30:48.465Z"
   },
   {
    "duration": 11,
    "start_time": "2024-12-07T16:30:48.483Z"
   },
   {
    "duration": 10,
    "start_time": "2024-12-07T16:30:48.521Z"
   },
   {
    "duration": 14,
    "start_time": "2024-12-07T16:30:48.532Z"
   },
   {
    "duration": 5,
    "start_time": "2024-12-07T16:30:48.548Z"
   },
   {
    "duration": 980,
    "start_time": "2024-12-07T16:30:48.554Z"
   },
   {
    "duration": 840,
    "start_time": "2024-12-07T16:30:49.536Z"
   },
   {
    "duration": 174,
    "start_time": "2024-12-07T16:30:50.378Z"
   },
   {
    "duration": 240,
    "start_time": "2024-12-07T16:30:50.554Z"
   },
   {
    "duration": 949,
    "start_time": "2024-12-07T16:30:50.796Z"
   },
   {
    "duration": 4,
    "start_time": "2024-12-07T16:30:51.747Z"
   },
   {
    "duration": 63,
    "start_time": "2024-12-07T16:30:51.752Z"
   },
   {
    "duration": 24,
    "start_time": "2024-12-07T16:30:51.817Z"
   },
   {
    "duration": 40436,
    "start_time": "2024-12-07T16:30:51.845Z"
   },
   {
    "duration": 59,
    "start_time": "2024-12-07T16:31:32.283Z"
   },
   {
    "duration": 11,
    "start_time": "2024-12-07T16:31:32.343Z"
   },
   {
    "duration": 30,
    "start_time": "2024-12-07T16:31:32.355Z"
   },
   {
    "duration": 31,
    "start_time": "2024-12-07T16:31:32.387Z"
   },
   {
    "duration": 39,
    "start_time": "2024-12-07T16:31:32.420Z"
   },
   {
    "duration": 10,
    "start_time": "2024-12-07T16:31:32.460Z"
   },
   {
    "duration": 16,
    "start_time": "2024-12-07T16:31:32.472Z"
   },
   {
    "duration": 9,
    "start_time": "2024-12-07T16:31:32.489Z"
   },
   {
    "duration": 7,
    "start_time": "2024-12-07T16:31:32.499Z"
   },
   {
    "duration": 20,
    "start_time": "2024-12-07T16:31:32.507Z"
   },
   {
    "duration": 18,
    "start_time": "2024-12-07T16:31:32.529Z"
   },
   {
    "duration": 24,
    "start_time": "2024-12-07T16:31:32.548Z"
   },
   {
    "duration": 9,
    "start_time": "2024-12-07T16:31:32.573Z"
   },
   {
    "duration": 10,
    "start_time": "2024-12-07T16:31:32.584Z"
   },
   {
    "duration": 18,
    "start_time": "2024-12-07T16:31:32.595Z"
   },
   {
    "duration": 20,
    "start_time": "2024-12-07T16:31:32.614Z"
   },
   {
    "duration": 20,
    "start_time": "2024-12-07T16:31:32.635Z"
   },
   {
    "duration": 1008,
    "start_time": "2024-12-07T16:31:32.656Z"
   },
   {
    "duration": 193,
    "start_time": "2024-12-07T16:31:33.666Z"
   },
   {
    "duration": 200,
    "start_time": "2024-12-07T16:31:33.861Z"
   },
   {
    "duration": 876,
    "start_time": "2024-12-07T16:31:34.063Z"
   },
   {
    "duration": 11,
    "start_time": "2024-12-07T16:31:34.941Z"
   },
   {
    "duration": 17,
    "start_time": "2024-12-07T16:31:34.953Z"
   },
   {
    "duration": 16,
    "start_time": "2024-12-07T16:31:34.971Z"
   },
   {
    "duration": 893,
    "start_time": "2024-12-07T16:31:34.989Z"
   },
   {
    "duration": 7,
    "start_time": "2024-12-07T16:31:35.884Z"
   },
   {
    "duration": 30,
    "start_time": "2024-12-07T16:31:35.892Z"
   },
   {
    "duration": 7,
    "start_time": "2024-12-07T16:31:35.923Z"
   },
   {
    "duration": 399,
    "start_time": "2024-12-07T16:31:35.931Z"
   },
   {
    "duration": 14,
    "start_time": "2024-12-07T16:31:53.857Z"
   },
   {
    "duration": 14,
    "start_time": "2024-12-07T16:36:10.723Z"
   },
   {
    "duration": 16,
    "start_time": "2024-12-07T16:38:32.037Z"
   },
   {
    "duration": 14,
    "start_time": "2024-12-07T16:38:34.030Z"
   },
   {
    "duration": 13,
    "start_time": "2024-12-07T16:41:39.000Z"
   },
   {
    "duration": 18,
    "start_time": "2024-12-07T16:50:07.159Z"
   },
   {
    "duration": 11728,
    "start_time": "2024-12-07T16:50:49.085Z"
   },
   {
    "duration": 2119,
    "start_time": "2024-12-07T16:51:00.815Z"
   },
   {
    "duration": 3,
    "start_time": "2024-12-07T16:51:02.936Z"
   },
   {
    "duration": 99,
    "start_time": "2024-12-07T16:51:02.941Z"
   },
   {
    "duration": 13,
    "start_time": "2024-12-07T16:51:03.042Z"
   },
   {
    "duration": 13,
    "start_time": "2024-12-07T16:51:03.057Z"
   },
   {
    "duration": 10,
    "start_time": "2024-12-07T16:51:03.072Z"
   },
   {
    "duration": 10,
    "start_time": "2024-12-07T16:51:03.084Z"
   },
   {
    "duration": 27,
    "start_time": "2024-12-07T16:51:03.096Z"
   },
   {
    "duration": 7,
    "start_time": "2024-12-07T16:51:03.125Z"
   },
   {
    "duration": 30,
    "start_time": "2024-12-07T16:51:03.133Z"
   },
   {
    "duration": 8,
    "start_time": "2024-12-07T16:51:03.165Z"
   },
   {
    "duration": 11,
    "start_time": "2024-12-07T16:51:03.174Z"
   },
   {
    "duration": 5,
    "start_time": "2024-12-07T16:51:03.187Z"
   },
   {
    "duration": 14,
    "start_time": "2024-12-07T16:51:03.194Z"
   },
   {
    "duration": 14,
    "start_time": "2024-12-07T16:51:03.209Z"
   },
   {
    "duration": 23,
    "start_time": "2024-12-07T16:51:03.225Z"
   },
   {
    "duration": 10,
    "start_time": "2024-12-07T16:51:03.249Z"
   },
   {
    "duration": 9,
    "start_time": "2024-12-07T16:51:03.261Z"
   },
   {
    "duration": 7,
    "start_time": "2024-12-07T16:51:03.271Z"
   },
   {
    "duration": 14,
    "start_time": "2024-12-07T16:51:03.281Z"
   },
   {
    "duration": 3,
    "start_time": "2024-12-07T16:51:03.297Z"
   },
   {
    "duration": 24,
    "start_time": "2024-12-07T16:51:03.302Z"
   },
   {
    "duration": 3,
    "start_time": "2024-12-07T16:51:03.328Z"
   },
   {
    "duration": 94,
    "start_time": "2024-12-07T16:51:03.333Z"
   },
   {
    "duration": 21,
    "start_time": "2024-12-07T16:51:03.430Z"
   },
   {
    "duration": 3,
    "start_time": "2024-12-07T16:51:03.452Z"
   },
   {
    "duration": 25,
    "start_time": "2024-12-07T16:51:03.460Z"
   },
   {
    "duration": 13,
    "start_time": "2024-12-07T16:51:03.486Z"
   },
   {
    "duration": 17,
    "start_time": "2024-12-07T16:51:03.521Z"
   },
   {
    "duration": 17,
    "start_time": "2024-12-07T16:51:03.540Z"
   },
   {
    "duration": 10,
    "start_time": "2024-12-07T16:51:03.559Z"
   },
   {
    "duration": 999,
    "start_time": "2024-12-07T16:51:03.571Z"
   },
   {
    "duration": 807,
    "start_time": "2024-12-07T16:51:04.571Z"
   },
   {
    "duration": 171,
    "start_time": "2024-12-07T16:51:05.380Z"
   },
   {
    "duration": 260,
    "start_time": "2024-12-07T16:51:05.553Z"
   },
   {
    "duration": 934,
    "start_time": "2024-12-07T16:51:05.815Z"
   },
   {
    "duration": 4,
    "start_time": "2024-12-07T16:51:06.751Z"
   },
   {
    "duration": 41,
    "start_time": "2024-12-07T16:51:06.756Z"
   },
   {
    "duration": 14,
    "start_time": "2024-12-07T16:51:06.799Z"
   },
   {
    "duration": 39994,
    "start_time": "2024-12-07T16:51:06.814Z"
   },
   {
    "duration": 59,
    "start_time": "2024-12-07T16:51:46.810Z"
   },
   {
    "duration": 12,
    "start_time": "2024-12-07T16:51:46.871Z"
   },
   {
    "duration": 13,
    "start_time": "2024-12-07T16:51:46.884Z"
   },
   {
    "duration": 13,
    "start_time": "2024-12-07T16:51:46.898Z"
   },
   {
    "duration": 6,
    "start_time": "2024-12-07T16:51:46.913Z"
   },
   {
    "duration": 7,
    "start_time": "2024-12-07T16:51:46.921Z"
   },
   {
    "duration": 20,
    "start_time": "2024-12-07T16:51:46.930Z"
   },
   {
    "duration": 9,
    "start_time": "2024-12-07T16:51:46.952Z"
   },
   {
    "duration": 6,
    "start_time": "2024-12-07T16:51:46.963Z"
   },
   {
    "duration": 6,
    "start_time": "2024-12-07T16:51:46.971Z"
   },
   {
    "duration": 6,
    "start_time": "2024-12-07T16:51:46.978Z"
   },
   {
    "duration": 39,
    "start_time": "2024-12-07T16:51:46.986Z"
   },
   {
    "duration": 12,
    "start_time": "2024-12-07T16:51:47.027Z"
   },
   {
    "duration": 3,
    "start_time": "2024-12-07T16:51:47.040Z"
   },
   {
    "duration": 18,
    "start_time": "2024-12-07T16:51:47.045Z"
   },
   {
    "duration": 15,
    "start_time": "2024-12-07T16:51:47.064Z"
   },
   {
    "duration": 8,
    "start_time": "2024-12-07T16:51:47.080Z"
   },
   {
    "duration": 1059,
    "start_time": "2024-12-07T16:51:47.121Z"
   },
   {
    "duration": 195,
    "start_time": "2024-12-07T16:51:48.181Z"
   },
   {
    "duration": 224,
    "start_time": "2024-12-07T16:51:48.378Z"
   },
   {
    "duration": 833,
    "start_time": "2024-12-07T16:51:48.603Z"
   },
   {
    "duration": 11,
    "start_time": "2024-12-07T16:51:49.438Z"
   },
   {
    "duration": 17,
    "start_time": "2024-12-07T16:51:49.451Z"
   },
   {
    "duration": 15,
    "start_time": "2024-12-07T16:51:49.469Z"
   },
   {
    "duration": 857,
    "start_time": "2024-12-07T16:51:49.521Z"
   },
   {
    "duration": 5,
    "start_time": "2024-12-07T16:51:50.380Z"
   },
   {
    "duration": 6,
    "start_time": "2024-12-07T16:51:50.387Z"
   },
   {
    "duration": 29,
    "start_time": "2024-12-07T16:51:50.395Z"
   },
   {
    "duration": 409,
    "start_time": "2024-12-07T16:51:50.426Z"
   },
   {
    "duration": 18,
    "start_time": "2024-12-07T16:51:50.836Z"
   },
   {
    "duration": 40,
    "start_time": "2024-12-07T16:51:50.856Z"
   },
   {
    "duration": 73,
    "start_time": "2024-12-07T16:51:50.897Z"
   },
   {
    "duration": 49,
    "start_time": "2024-12-07T16:51:50.972Z"
   },
   {
    "duration": 16,
    "start_time": "2024-12-07T16:51:51.023Z"
   },
   {
    "duration": 24,
    "start_time": "2024-12-07T16:51:51.041Z"
   },
   {
    "duration": 162,
    "start_time": "2024-12-07T16:51:51.067Z"
   },
   {
    "duration": 0,
    "start_time": "2024-12-07T16:51:51.231Z"
   },
   {
    "duration": 0,
    "start_time": "2024-12-07T16:51:51.232Z"
   },
   {
    "duration": 0,
    "start_time": "2024-12-07T16:51:51.233Z"
   },
   {
    "duration": 17,
    "start_time": "2024-12-07T16:54:10.290Z"
   },
   {
    "duration": 11192,
    "start_time": "2024-12-07T16:54:28.937Z"
   },
   {
    "duration": 2084,
    "start_time": "2024-12-07T16:54:40.132Z"
   },
   {
    "duration": 3,
    "start_time": "2024-12-07T16:54:42.220Z"
   },
   {
    "duration": 92,
    "start_time": "2024-12-07T16:54:42.225Z"
   },
   {
    "duration": 16,
    "start_time": "2024-12-07T16:54:42.318Z"
   },
   {
    "duration": 37,
    "start_time": "2024-12-07T16:54:42.335Z"
   },
   {
    "duration": 18,
    "start_time": "2024-12-07T16:54:42.373Z"
   },
   {
    "duration": 32,
    "start_time": "2024-12-07T16:54:42.392Z"
   },
   {
    "duration": 26,
    "start_time": "2024-12-07T16:54:42.425Z"
   },
   {
    "duration": 26,
    "start_time": "2024-12-07T16:54:42.454Z"
   },
   {
    "duration": 26,
    "start_time": "2024-12-07T16:54:42.482Z"
   },
   {
    "duration": 24,
    "start_time": "2024-12-07T16:54:42.510Z"
   },
   {
    "duration": 31,
    "start_time": "2024-12-07T16:54:42.535Z"
   },
   {
    "duration": 30,
    "start_time": "2024-12-07T16:54:42.568Z"
   },
   {
    "duration": 39,
    "start_time": "2024-12-07T16:54:42.599Z"
   },
   {
    "duration": 70,
    "start_time": "2024-12-07T16:54:42.640Z"
   },
   {
    "duration": 26,
    "start_time": "2024-12-07T16:54:42.711Z"
   },
   {
    "duration": 37,
    "start_time": "2024-12-07T16:54:42.739Z"
   },
   {
    "duration": 23,
    "start_time": "2024-12-07T16:54:42.778Z"
   },
   {
    "duration": 25,
    "start_time": "2024-12-07T16:54:42.802Z"
   },
   {
    "duration": 48,
    "start_time": "2024-12-07T16:54:42.829Z"
   },
   {
    "duration": 48,
    "start_time": "2024-12-07T16:54:42.878Z"
   },
   {
    "duration": 20,
    "start_time": "2024-12-07T16:54:42.927Z"
   },
   {
    "duration": 35,
    "start_time": "2024-12-07T16:54:42.949Z"
   },
   {
    "duration": 49,
    "start_time": "2024-12-07T16:54:42.985Z"
   },
   {
    "duration": 78,
    "start_time": "2024-12-07T16:54:43.035Z"
   },
   {
    "duration": 66,
    "start_time": "2024-12-07T16:54:43.114Z"
   },
   {
    "duration": 31,
    "start_time": "2024-12-07T16:54:43.184Z"
   },
   {
    "duration": 12,
    "start_time": "2024-12-07T16:54:43.217Z"
   },
   {
    "duration": 13,
    "start_time": "2024-12-07T16:54:43.231Z"
   },
   {
    "duration": 21,
    "start_time": "2024-12-07T16:54:43.245Z"
   },
   {
    "duration": 1067,
    "start_time": "2024-12-07T16:54:43.268Z"
   },
   {
    "duration": 835,
    "start_time": "2024-12-07T16:54:44.337Z"
   },
   {
    "duration": 173,
    "start_time": "2024-12-07T16:54:45.174Z"
   },
   {
    "duration": 241,
    "start_time": "2024-12-07T16:54:45.349Z"
   },
   {
    "duration": 953,
    "start_time": "2024-12-07T16:54:45.592Z"
   },
   {
    "duration": 5,
    "start_time": "2024-12-07T16:54:46.547Z"
   },
   {
    "duration": 11,
    "start_time": "2024-12-07T16:54:46.553Z"
   },
   {
    "duration": 5,
    "start_time": "2024-12-07T16:54:46.566Z"
   },
   {
    "duration": 40031,
    "start_time": "2024-12-07T16:54:46.572Z"
   },
   {
    "duration": 58,
    "start_time": "2024-12-07T16:55:26.605Z"
   },
   {
    "duration": 11,
    "start_time": "2024-12-07T16:55:26.665Z"
   },
   {
    "duration": 10,
    "start_time": "2024-12-07T16:55:26.678Z"
   },
   {
    "duration": 14,
    "start_time": "2024-12-07T16:55:26.690Z"
   },
   {
    "duration": 9,
    "start_time": "2024-12-07T16:55:26.706Z"
   },
   {
    "duration": 6,
    "start_time": "2024-12-07T16:55:26.717Z"
   },
   {
    "duration": 9,
    "start_time": "2024-12-07T16:55:26.724Z"
   },
   {
    "duration": 6,
    "start_time": "2024-12-07T16:55:26.735Z"
   },
   {
    "duration": 8,
    "start_time": "2024-12-07T16:55:26.742Z"
   },
   {
    "duration": 6,
    "start_time": "2024-12-07T16:55:26.751Z"
   },
   {
    "duration": 5,
    "start_time": "2024-12-07T16:55:26.759Z"
   },
   {
    "duration": 5,
    "start_time": "2024-12-07T16:55:26.766Z"
   },
   {
    "duration": 55,
    "start_time": "2024-12-07T16:55:26.772Z"
   },
   {
    "duration": 3,
    "start_time": "2024-12-07T16:55:26.828Z"
   },
   {
    "duration": 21,
    "start_time": "2024-12-07T16:55:26.833Z"
   },
   {
    "duration": 15,
    "start_time": "2024-12-07T16:55:26.855Z"
   },
   {
    "duration": 6,
    "start_time": "2024-12-07T16:55:26.871Z"
   },
   {
    "duration": 1084,
    "start_time": "2024-12-07T16:55:26.879Z"
   },
   {
    "duration": 200,
    "start_time": "2024-12-07T16:55:27.964Z"
   },
   {
    "duration": 221,
    "start_time": "2024-12-07T16:55:28.165Z"
   },
   {
    "duration": 864,
    "start_time": "2024-12-07T16:55:28.388Z"
   },
   {
    "duration": 11,
    "start_time": "2024-12-07T16:55:29.253Z"
   },
   {
    "duration": 24,
    "start_time": "2024-12-07T16:55:29.266Z"
   },
   {
    "duration": 35,
    "start_time": "2024-12-07T16:55:29.291Z"
   },
   {
    "duration": 849,
    "start_time": "2024-12-07T16:55:29.327Z"
   },
   {
    "duration": 6,
    "start_time": "2024-12-07T16:55:30.177Z"
   },
   {
    "duration": 39,
    "start_time": "2024-12-07T16:55:30.185Z"
   },
   {
    "duration": 28,
    "start_time": "2024-12-07T16:55:30.225Z"
   },
   {
    "duration": 380,
    "start_time": "2024-12-07T16:55:30.254Z"
   },
   {
    "duration": 15,
    "start_time": "2024-12-07T16:55:30.635Z"
   },
   {
    "duration": 25,
    "start_time": "2024-12-07T16:55:30.651Z"
   },
   {
    "duration": 75,
    "start_time": "2024-12-07T16:55:30.677Z"
   },
   {
    "duration": 41,
    "start_time": "2024-12-07T16:55:30.753Z"
   },
   {
    "duration": 31,
    "start_time": "2024-12-07T16:55:30.795Z"
   },
   {
    "duration": 34,
    "start_time": "2024-12-07T16:55:30.827Z"
   },
   {
    "duration": 15,
    "start_time": "2024-12-07T16:55:30.862Z"
   },
   {
    "duration": 24,
    "start_time": "2024-12-07T16:55:30.879Z"
   },
   {
    "duration": 8748,
    "start_time": "2024-12-07T16:55:30.904Z"
   },
   {
    "duration": 13550,
    "start_time": "2024-12-08T16:15:27.476Z"
   },
   {
    "duration": 3003,
    "start_time": "2024-12-08T16:15:41.029Z"
   },
   {
    "duration": 3,
    "start_time": "2024-12-08T16:15:44.034Z"
   },
   {
    "duration": 318,
    "start_time": "2024-12-08T16:15:44.038Z"
   },
   {
    "duration": 14,
    "start_time": "2024-12-08T16:15:44.358Z"
   },
   {
    "duration": 15,
    "start_time": "2024-12-08T16:15:44.374Z"
   },
   {
    "duration": 11,
    "start_time": "2024-12-08T16:15:44.390Z"
   },
   {
    "duration": 11,
    "start_time": "2024-12-08T16:15:44.403Z"
   },
   {
    "duration": 36,
    "start_time": "2024-12-08T16:15:44.416Z"
   },
   {
    "duration": 7,
    "start_time": "2024-12-08T16:15:44.454Z"
   },
   {
    "duration": 11,
    "start_time": "2024-12-08T16:15:44.463Z"
   },
   {
    "duration": 9,
    "start_time": "2024-12-08T16:15:44.476Z"
   },
   {
    "duration": 9,
    "start_time": "2024-12-08T16:15:44.487Z"
   },
   {
    "duration": 8,
    "start_time": "2024-12-08T16:15:44.499Z"
   },
   {
    "duration": 10,
    "start_time": "2024-12-08T16:15:44.508Z"
   },
   {
    "duration": 34,
    "start_time": "2024-12-08T16:15:44.519Z"
   },
   {
    "duration": 9,
    "start_time": "2024-12-08T16:15:44.555Z"
   },
   {
    "duration": 9,
    "start_time": "2024-12-08T16:15:44.566Z"
   },
   {
    "duration": 14,
    "start_time": "2024-12-08T16:15:44.577Z"
   },
   {
    "duration": 24,
    "start_time": "2024-12-08T16:15:44.593Z"
   },
   {
    "duration": 10,
    "start_time": "2024-12-08T16:15:44.619Z"
   },
   {
    "duration": 7,
    "start_time": "2024-12-08T16:15:44.631Z"
   },
   {
    "duration": 13,
    "start_time": "2024-12-08T16:15:44.639Z"
   },
   {
    "duration": 31,
    "start_time": "2024-12-08T16:15:44.653Z"
   },
   {
    "duration": 15,
    "start_time": "2024-12-08T16:15:44.686Z"
   },
   {
    "duration": 3,
    "start_time": "2024-12-08T16:15:44.702Z"
   },
   {
    "duration": 72,
    "start_time": "2024-12-08T16:15:44.707Z"
   },
   {
    "duration": 110,
    "start_time": "2024-12-08T16:15:44.780Z"
   },
   {
    "duration": 11,
    "start_time": "2024-12-08T16:15:44.892Z"
   },
   {
    "duration": 6,
    "start_time": "2024-12-08T16:15:44.905Z"
   },
   {
    "duration": 11,
    "start_time": "2024-12-08T16:15:44.912Z"
   },
   {
    "duration": 1153,
    "start_time": "2024-12-08T16:15:44.925Z"
   },
   {
    "duration": 890,
    "start_time": "2024-12-08T16:15:46.080Z"
   },
   {
    "duration": 207,
    "start_time": "2024-12-08T16:15:46.971Z"
   },
   {
    "duration": 251,
    "start_time": "2024-12-08T16:15:47.179Z"
   },
   {
    "duration": 1022,
    "start_time": "2024-12-08T16:15:47.432Z"
   },
   {
    "duration": 5,
    "start_time": "2024-12-08T16:15:48.455Z"
   },
   {
    "duration": 21,
    "start_time": "2024-12-08T16:15:48.461Z"
   },
   {
    "duration": 33,
    "start_time": "2024-12-08T16:15:48.483Z"
   },
   {
    "duration": 44290,
    "start_time": "2024-12-08T16:15:48.518Z"
   },
   {
    "duration": 209,
    "start_time": "2024-12-08T16:16:32.813Z"
   },
   {
    "duration": 12,
    "start_time": "2024-12-08T16:16:33.024Z"
   },
   {
    "duration": 18,
    "start_time": "2024-12-08T16:16:33.038Z"
   },
   {
    "duration": 19,
    "start_time": "2024-12-08T16:16:33.057Z"
   },
   {
    "duration": 18,
    "start_time": "2024-12-08T16:16:33.078Z"
   },
   {
    "duration": 23,
    "start_time": "2024-12-08T16:16:33.098Z"
   },
   {
    "duration": 23,
    "start_time": "2024-12-08T16:16:33.123Z"
   },
   {
    "duration": 8,
    "start_time": "2024-12-08T16:16:33.148Z"
   },
   {
    "duration": 16,
    "start_time": "2024-12-08T16:16:33.158Z"
   },
   {
    "duration": 7,
    "start_time": "2024-12-08T16:16:33.176Z"
   },
   {
    "duration": 28,
    "start_time": "2024-12-08T16:16:33.185Z"
   },
   {
    "duration": 6,
    "start_time": "2024-12-08T16:16:33.215Z"
   },
   {
    "duration": 41,
    "start_time": "2024-12-08T16:16:33.222Z"
   },
   {
    "duration": 14,
    "start_time": "2024-12-08T16:16:33.265Z"
   },
   {
    "duration": 19,
    "start_time": "2024-12-08T16:16:33.281Z"
   },
   {
    "duration": 13,
    "start_time": "2024-12-08T16:16:33.302Z"
   },
   {
    "duration": 54,
    "start_time": "2024-12-08T16:16:33.317Z"
   },
   {
    "duration": 16,
    "start_time": "2024-12-08T16:16:33.373Z"
   },
   {
    "duration": 22,
    "start_time": "2024-12-08T16:16:33.391Z"
   },
   {
    "duration": 1190,
    "start_time": "2024-12-08T16:16:33.415Z"
   },
   {
    "duration": 199,
    "start_time": "2024-12-08T16:16:34.607Z"
   },
   {
    "duration": 244,
    "start_time": "2024-12-08T16:16:34.808Z"
   },
   {
    "duration": 863,
    "start_time": "2024-12-08T16:16:35.053Z"
   },
   {
    "duration": 14,
    "start_time": "2024-12-08T16:16:35.917Z"
   },
   {
    "duration": 35,
    "start_time": "2024-12-08T16:16:35.933Z"
   },
   {
    "duration": 15,
    "start_time": "2024-12-08T16:16:35.970Z"
   },
   {
    "duration": 925,
    "start_time": "2024-12-08T16:16:35.987Z"
   },
   {
    "duration": 6,
    "start_time": "2024-12-08T16:16:36.914Z"
   },
   {
    "duration": 23,
    "start_time": "2024-12-08T16:16:36.922Z"
   },
   {
    "duration": 19,
    "start_time": "2024-12-08T16:16:36.947Z"
   },
   {
    "duration": 401,
    "start_time": "2024-12-08T16:16:36.968Z"
   },
   {
    "duration": 16,
    "start_time": "2024-12-08T16:16:37.371Z"
   },
   {
    "duration": 21,
    "start_time": "2024-12-08T16:16:37.389Z"
   },
   {
    "duration": 90,
    "start_time": "2024-12-08T16:16:37.411Z"
   },
   {
    "duration": 50,
    "start_time": "2024-12-08T16:16:37.503Z"
   },
   {
    "duration": 20,
    "start_time": "2024-12-08T16:16:37.555Z"
   },
   {
    "duration": 27,
    "start_time": "2024-12-08T16:16:37.578Z"
   },
   {
    "duration": 23,
    "start_time": "2024-12-08T16:16:37.607Z"
   },
   {
    "duration": 4,
    "start_time": "2024-12-08T16:16:37.632Z"
   },
   {
    "duration": 9701,
    "start_time": "2024-12-08T16:16:37.638Z"
   },
   {
    "duration": 16,
    "start_time": "2024-12-08T16:17:29.894Z"
   },
   {
    "duration": 17,
    "start_time": "2024-12-08T16:17:36.612Z"
   }
  ],
  "kernelspec": {
   "display_name": "Python 3 (ipykernel)",
   "language": "python",
   "name": "python3"
  },
  "language_info": {
   "codemirror_mode": {
    "name": "ipython",
    "version": 3
   },
   "file_extension": ".py",
   "mimetype": "text/x-python",
   "name": "python",
   "nbconvert_exporter": "python",
   "pygments_lexer": "ipython3",
   "version": "3.12.4"
  },
  "toc": {
   "base_numbering": 1,
   "nav_menu": {},
   "number_sections": true,
   "sideBar": true,
   "skip_h1_title": true,
   "title_cell": "Table of Contents",
   "title_sidebar": "Contents",
   "toc_cell": false,
   "toc_position": {},
   "toc_section_display": true,
   "toc_window_display": false
  }
 },
 "nbformat": 4,
 "nbformat_minor": 5
}
