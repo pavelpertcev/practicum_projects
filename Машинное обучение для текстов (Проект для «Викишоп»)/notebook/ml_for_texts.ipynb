{
 "cells": [
  {
   "cell_type": "markdown",
   "metadata": {
    "toc": true
   },
   "source": [
    "<h1>Содержание<span class=\"tocSkip\"></span></h1>\n",
    "<div class=\"toc\"><ul class=\"toc-item\"><li><span><a href=\"#Подготовка\" data-toc-modified-id=\"Подготовка-1\"><span class=\"toc-item-num\">1&nbsp;&nbsp;</span>Подготовка</a></span><ul class=\"toc-item\"><li><span><a href=\"#1.1-Обработка-строк-и-лемматизация\" data-toc-modified-id=\"1.1-Обработка-строк-и-лемматизация-1.1\"><span class=\"toc-item-num\">1.1&nbsp;&nbsp;</span>1.1 Обработка строк и лемматизация</a></span></li></ul></li><li><span><a href=\"#Обучение\" data-toc-modified-id=\"Обучение-2\"><span class=\"toc-item-num\">2&nbsp;&nbsp;</span>Обучение</a></span></li><li><span><a href=\"#Выводы\" data-toc-modified-id=\"Выводы-3\"><span class=\"toc-item-num\">3&nbsp;&nbsp;</span>Выводы</a></span></li><li><span><a href=\"#Чек-лист-проверки\" data-toc-modified-id=\"Чек-лист-проверки-4\"><span class=\"toc-item-num\">4&nbsp;&nbsp;</span>Чек-лист проверки</a></span></li></ul></div>"
   ]
  },
  {
   "cell_type": "markdown",
   "metadata": {},
   "source": [
    "# Проект для «Викишоп»"
   ]
  },
  {
   "cell_type": "markdown",
   "metadata": {},
   "source": [
    "В данном проекте нам предстоит помочь интернет-магазину 'Викишоп' классифицировать комментарии на позитивные и негативные.\n",
    "\n",
    "Мы будем работать с датафреймом, состоящим из двух колонок - сам комментарий и его оценка - позитивный/негативный.\n",
    "\n",
    "Для начала изучим данные и проведем их подготовку: проверим на пропуски и дубликаты, и при необходимости исправим. После этого удалим все лишние знаки, оставив только буквы. И в конце лемматизируем комментарии.\n",
    "\n",
    "После этого мы разобьем наши данные на выборки. Закодируем признак (сами комментарии) и при помощи различных моделей проведем моделирование. В качестве метрики качества будем использовать метрику f1. Ее значение должно быть не менее 0.75.\n",
    "\n"
   ]
  },
  {
   "cell_type": "code",
   "execution_count": 1,
   "metadata": {},
   "outputs": [
    {
     "name": "stdout",
     "output_type": "stream",
     "text": [
      "Requirement already satisfied: nltk in /opt/conda/lib/python3.9/site-packages (3.6.1)\n",
      "Requirement already satisfied: regex in /opt/conda/lib/python3.9/site-packages (from nltk) (2022.8.17)\n",
      "Requirement already satisfied: click in /opt/conda/lib/python3.9/site-packages (from nltk) (8.1.3)\n",
      "Requirement already satisfied: joblib in /opt/conda/lib/python3.9/site-packages (from nltk) (1.1.0)\n",
      "Requirement already satisfied: tqdm in /opt/conda/lib/python3.9/site-packages (from nltk) (4.61.2)\n"
     ]
    }
   ],
   "source": [
    "!pip install nltk"
   ]
  },
  {
   "cell_type": "code",
   "execution_count": 2,
   "metadata": {},
   "outputs": [],
   "source": [
    "import numpy as np\n",
    "import pandas as pd\n",
    "import re\n",
    "\n",
    "from tqdm import tqdm\n",
    "tqdm.pandas()\n",
    "\n",
    "import spacy\n",
    "from spacy.lang.en import stop_words\n",
    "\n",
    "\n",
    "from sklearn.feature_extraction.text import TfidfVectorizer\n",
    "from sklearn.model_selection import train_test_split, RandomizedSearchCV\n",
    "from sklearn.metrics import f1_score\n",
    "\n",
    "from sklearn.linear_model import LogisticRegression\n",
    "from sklearn.neighbors import KNeighborsClassifier\n",
    "from sklearn.tree import DecisionTreeClassifier\n",
    "\n",
    "from sklearn.pipeline import Pipeline"
   ]
  },
  {
   "cell_type": "code",
   "execution_count": 3,
   "metadata": {},
   "outputs": [],
   "source": [
    "RANDOM_STATE = 42"
   ]
  },
  {
   "cell_type": "markdown",
   "metadata": {},
   "source": [
    "## Подготовка"
   ]
  },
  {
   "cell_type": "markdown",
   "metadata": {},
   "source": [
    "Загрузим наш датасет. И посмотрим информацию о нем."
   ]
  },
  {
   "cell_type": "code",
   "execution_count": 4,
   "metadata": {},
   "outputs": [],
   "source": [
    "try:\n",
    "    toxic_comments = pd.read_csv('/datasets/toxic_comments.csv', index_col='Unnamed: 0')\n",
    "except:\n",
    "    toxic_comments = pd.read_csv('C/datasets/toxic_comments.csv', index_col='Unnamed: 0')"
   ]
  },
  {
   "cell_type": "code",
   "execution_count": 5,
   "metadata": {},
   "outputs": [
    {
     "name": "stdout",
     "output_type": "stream",
     "text": [
      "<class 'pandas.core.frame.DataFrame'>\n",
      "Int64Index: 159292 entries, 0 to 159450\n",
      "Data columns (total 2 columns):\n",
      " #   Column  Non-Null Count   Dtype \n",
      "---  ------  --------------   ----- \n",
      " 0   text    159292 non-null  object\n",
      " 1   toxic   159292 non-null  int64 \n",
      "dtypes: int64(1), object(1)\n",
      "memory usage: 3.6+ MB\n"
     ]
    }
   ],
   "source": [
    "toxic_comments.info()"
   ]
  },
  {
   "cell_type": "code",
   "execution_count": 6,
   "metadata": {},
   "outputs": [
    {
     "data": {
      "text/html": [
       "<div>\n",
       "<style scoped>\n",
       "    .dataframe tbody tr th:only-of-type {\n",
       "        vertical-align: middle;\n",
       "    }\n",
       "\n",
       "    .dataframe tbody tr th {\n",
       "        vertical-align: top;\n",
       "    }\n",
       "\n",
       "    .dataframe thead th {\n",
       "        text-align: right;\n",
       "    }\n",
       "</style>\n",
       "<table border=\"1\" class=\"dataframe\">\n",
       "  <thead>\n",
       "    <tr style=\"text-align: right;\">\n",
       "      <th></th>\n",
       "      <th>text</th>\n",
       "      <th>toxic</th>\n",
       "    </tr>\n",
       "  </thead>\n",
       "  <tbody>\n",
       "    <tr>\n",
       "      <th>0</th>\n",
       "      <td>Explanation\\nWhy the edits made under my usern...</td>\n",
       "      <td>0</td>\n",
       "    </tr>\n",
       "    <tr>\n",
       "      <th>1</th>\n",
       "      <td>D'aww! He matches this background colour I'm s...</td>\n",
       "      <td>0</td>\n",
       "    </tr>\n",
       "    <tr>\n",
       "      <th>2</th>\n",
       "      <td>Hey man, I'm really not trying to edit war. It...</td>\n",
       "      <td>0</td>\n",
       "    </tr>\n",
       "    <tr>\n",
       "      <th>3</th>\n",
       "      <td>\"\\nMore\\nI can't make any real suggestions on ...</td>\n",
       "      <td>0</td>\n",
       "    </tr>\n",
       "    <tr>\n",
       "      <th>4</th>\n",
       "      <td>You, sir, are my hero. Any chance you remember...</td>\n",
       "      <td>0</td>\n",
       "    </tr>\n",
       "  </tbody>\n",
       "</table>\n",
       "</div>"
      ],
      "text/plain": [
       "                                                text  toxic\n",
       "0  Explanation\\nWhy the edits made under my usern...      0\n",
       "1  D'aww! He matches this background colour I'm s...      0\n",
       "2  Hey man, I'm really not trying to edit war. It...      0\n",
       "3  \"\\nMore\\nI can't make any real suggestions on ...      0\n",
       "4  You, sir, are my hero. Any chance you remember...      0"
      ]
     },
     "execution_count": 6,
     "metadata": {},
     "output_type": "execute_result"
    }
   ],
   "source": [
    "toxic_comments.head()"
   ]
  },
  {
   "cell_type": "markdown",
   "metadata": {},
   "source": [
    "Датафрейм содержит две колонки, целевой признак представлен типом int64, названия колонок соответствуют змеиному регистру. Пропуски отсутствтуют. Данные успешно загружены."
   ]
  },
  {
   "cell_type": "markdown",
   "metadata": {},
   "source": [
    "Теперь проверим наши данные на наличие дубликатов, и если такие есть, то удалим их."
   ]
  },
  {
   "cell_type": "code",
   "execution_count": 7,
   "metadata": {},
   "outputs": [
    {
     "data": {
      "text/plain": [
       "0"
      ]
     },
     "execution_count": 7,
     "metadata": {},
     "output_type": "execute_result"
    }
   ],
   "source": [
    "toxic_comments.duplicated().sum()"
   ]
  },
  {
   "cell_type": "markdown",
   "metadata": {},
   "source": [
    "Дубликаты отсутствуют."
   ]
  },
  {
   "cell_type": "markdown",
   "metadata": {},
   "source": [
    "Также посмотрим на пропорцию наших данных, сколько комментариев токсичных, а сколько нет. Это нам поможет в дальнейшем при создании модели и разбиении данных на выборки."
   ]
  },
  {
   "cell_type": "code",
   "execution_count": 8,
   "metadata": {},
   "outputs": [
    {
     "data": {
      "text/plain": [
       "0    0.898388\n",
       "1    0.101612\n",
       "Name: toxic, dtype: float64"
      ]
     },
     "execution_count": 8,
     "metadata": {},
     "output_type": "execute_result"
    }
   ],
   "source": [
    "toxic_comments['toxic'].value_counts(normalize=True)"
   ]
  },
  {
   "cell_type": "markdown",
   "metadata": {},
   "source": [
    "Получается, что только 10% комментатриев токсичные, а большинсвто нет. Тк одного класса намного больше, чем другого, то при разбиении данных на выборки будем использовать стратификацию по целевому признаку. "
   ]
  },
  {
   "cell_type": "markdown",
   "metadata": {},
   "source": [
    "### 1.1 Обработка строк и лемматизация "
   ]
  },
  {
   "cell_type": "markdown",
   "metadata": {},
   "source": [
    "Напишем функцию 'clear_text', которая оставит в тексте только буквы, а также переведет все символы в нижний регистр. Также уберем лишние пробелы."
   ]
  },
  {
   "cell_type": "code",
   "execution_count": 9,
   "metadata": {},
   "outputs": [],
   "source": [
    "def clear_text(text):\n",
    "    text = re.sub(r'[^a-zA-Z]', ' ', text)\n",
    "    text = text.lower()\n",
    "    text = text.split()\n",
    "    return ' '.join(text)"
   ]
  },
  {
   "cell_type": "markdown",
   "metadata": {},
   "source": [
    "Теперь напишем функцию для лемматизации. Будем использовать библиотеку SpaCy и модель \"en_core_web_sm\", тк текст у нас на английском языке. Разобьем строку на токены, далее лемматизируем каждое слово. И удалим из списка стоп-слова. Далее все соберем назад в одну строку и вернем."
   ]
  },
  {
   "cell_type": "code",
   "execution_count": 10,
   "metadata": {},
   "outputs": [],
   "source": [
    "# Загрузка модели\n",
    "nlp = spacy.load(\"en_core_web_sm\")\n",
    "#загрузка стоп-слов\n",
    "stop_words = stop_words.STOP_WORDS"
   ]
  },
  {
   "cell_type": "code",
   "execution_count": 11,
   "metadata": {},
   "outputs": [],
   "source": [
    "def lemm(text):\n",
    "    sentence = nlp(text)\n",
    "    #лемматизация\n",
    "    sentence = [word.lemma_ for word in sentence]\n",
    "    #удаление стоп-слов\n",
    "    sentence = [word for word in sentence if word not in stop_words]      \n",
    "    return ' '.join(sentence)"
   ]
  },
  {
   "cell_type": "markdown",
   "metadata": {},
   "source": [
    "Теперь применим наши функции к комментариям. Результат запишем в новой колонке 'lemm_text'"
   ]
  },
  {
   "cell_type": "code",
   "execution_count": 12,
   "metadata": {},
   "outputs": [
    {
     "name": "stderr",
     "output_type": "stream",
     "text": [
      "100%|██████████| 159292/159292 [00:04<00:00, 38650.07it/s]\n",
      "100%|██████████| 159292/159292 [35:34<00:00, 74.63it/s] \n"
     ]
    }
   ],
   "source": [
    "toxic_comments['lemm_text'] = toxic_comments['text'].progress_apply(clear_text)\n",
    "toxic_comments['lemm_text'] = toxic_comments['lemm_text'].progress_apply(lemm)"
   ]
  },
  {
   "cell_type": "markdown",
   "metadata": {},
   "source": [
    "Комментарии подготовлены, слова в них лемматезированы и удалены стоп-слова. Далее можно переходить к энкодингу и обучению."
   ]
  },
  {
   "cell_type": "markdown",
   "metadata": {},
   "source": [
    "## Обучение"
   ]
  },
  {
   "cell_type": "markdown",
   "metadata": {},
   "source": [
    "Для начала разобьем наши данные, на тренировочную и тестовую выборки, учитывая стратификацию"
   ]
  },
  {
   "cell_type": "code",
   "execution_count": 13,
   "metadata": {},
   "outputs": [],
   "source": [
    "X_train, X_test, y_train, y_test = train_test_split(\n",
    "    toxic_comments['lemm_text'], \n",
    "    toxic_comments['toxic'], \n",
    "    random_state = RANDOM_STATE,\n",
    "    stratify = toxic_comments['toxic']\n",
    ")"
   ]
  },
  {
   "cell_type": "markdown",
   "metadata": {},
   "source": [
    "После того, как данные разделены, нужно векторизировать лемматизированный текст (признак). Для этого воспользуемся TfidfVectorizer()."
   ]
  },
  {
   "cell_type": "code",
   "execution_count": 14,
   "metadata": {},
   "outputs": [],
   "source": [
    "#count_tf_idf = TfidfVectorizer(stop_words=list(stopwords))\n",
    "#tfidf_train = count_tf_idf.fit_transform(X_train)\n",
    "#tfidf_test = count_tf_idf.transform(X_test)"
   ]
  },
  {
   "cell_type": "markdown",
   "metadata": {},
   "source": [
    "Теперь создадим пайплайн с различными моделями и параметрами, и при помощи RandomizedSearchCV() и метрики 'f1' найдем наилучшую модель. Так как перед нами задача классификации, то в качестве моделей будем использовать DecisionTreeClassifier(), KNeighborsClassifier() и LogisticRegression(). Условием прохождения будет являться метрика 'f1' >= 0.75"
   ]
  },
  {
   "cell_type": "code",
   "execution_count": 15,
   "metadata": {},
   "outputs": [
    {
     "name": "stdout",
     "output_type": "stream",
     "text": [
      "Лучшая модель и её параметры:\n",
      "\n",
      " Pipeline(steps=[('vect', TfidfVectorizer()),\n",
      "                ('models',\n",
      "                 LogisticRegression(C=13, random_state=42,\n",
      "                                    solver='liblinear'))])\n",
      "Метрика лучшей модели на тренировочной выборке: 0.7764700623258702\n"
     ]
    }
   ],
   "source": [
    "pipe_final = Pipeline([\n",
    "    ('vect', TfidfVectorizer()),\n",
    "    ('models', DecisionTreeClassifier(random_state=RANDOM_STATE))\n",
    "])\n",
    "\n",
    "param_grid = [\n",
    "     # словарь для модели KNeighborsClassifier() \n",
    "    {\n",
    "        'models': [KNeighborsClassifier()],\n",
    "        'models__n_neighbors': range(3, 20)\n",
    "    },\n",
    "\n",
    "    # словарь для модели DecisionTreeClassifier()\n",
    "    {\n",
    "        'models': [DecisionTreeClassifier(random_state=RANDOM_STATE)],\n",
    "        'models__max_depth': range(2, 20),\n",
    "        'models__max_features': range(2, 20) \n",
    "    },    \n",
    "   \n",
    "    # словарь для модели LogisticRegression()\n",
    "    {\n",
    "        'models': [LogisticRegression(\n",
    "            random_state=RANDOM_STATE, \n",
    "            solver='liblinear'\n",
    "        )],\n",
    "        'models__penalty': ['l1', 'l2'],\n",
    "        'models__C': range(1, 20)\n",
    "    }\n",
    "]\n",
    "\n",
    "randomized_search = RandomizedSearchCV(\n",
    "    pipe_final, \n",
    "    param_grid, \n",
    "    cv=5,\n",
    "    n_iter=20,\n",
    "    scoring='f1',\n",
    "    random_state=RANDOM_STATE,\n",
    "    n_jobs=-1\n",
    ")\n",
    "\n",
    "randomized_search.fit(X_train, y_train)\n",
    "\n",
    "print('Лучшая модель и её параметры:\\n\\n', randomized_search.best_estimator_)\n",
    "print ('Метрика лучшей модели на тренировочной выборке:', randomized_search.best_score_)"
   ]
  },
  {
   "cell_type": "markdown",
   "metadata": {},
   "source": [
    "Качество модели допустимое, поэтому теперь проверим нашу модель на тестовых данных."
   ]
  },
  {
   "cell_type": "code",
   "execution_count": 16,
   "metadata": {},
   "outputs": [
    {
     "name": "stdout",
     "output_type": "stream",
     "text": [
      "Метрика F1 на тестовой выборке: 0.7773812791655229\n"
     ]
    }
   ],
   "source": [
    "y_test_pred = randomized_search.predict(X_test)\n",
    "print(f'Метрика F1 на тестовой выборке: {f1_score(y_test, y_test_pred)}')"
   ]
  },
  {
   "cell_type": "markdown",
   "metadata": {},
   "source": [
    "## Выводы"
   ]
  },
  {
   "cell_type": "markdown",
   "metadata": {},
   "source": [
    "Мы успешно создали модель для классификации комментариев на позитивные и негативные. Метрика f1 составила 0.77, что является допуском. \n",
    "Лучше всего с данной задачей справилась модель LogisticRegression(C=13, random_state=42,  solver='liblinear')"
   ]
  },
  {
   "cell_type": "markdown",
   "metadata": {},
   "source": [
    "## Чек-лист проверки"
   ]
  },
  {
   "cell_type": "markdown",
   "metadata": {},
   "source": [
    "- [x]  Jupyter Notebook открыт\n",
    "- [x]  Весь код выполняется без ошибок\n",
    "- [x]  Ячейки с кодом расположены в порядке исполнения\n",
    "- [x]  Данные загружены и подготовлены\n",
    "- [x]  Модели обучены\n",
    "- [x]  Значение метрики *F1* не меньше 0.75\n",
    "- [x]  Выводы написаны"
   ]
  }
 ],
 "metadata": {
  "ExecuteTimeLog": [
   {
    "duration": 3109,
    "start_time": "2025-03-19T18:27:23.046Z"
   },
   {
    "duration": 3856,
    "start_time": "2025-03-19T18:27:26.158Z"
   },
   {
    "duration": 3,
    "start_time": "2025-03-19T18:27:30.015Z"
   },
   {
    "duration": 1348,
    "start_time": "2025-03-19T18:27:30.020Z"
   },
   {
    "duration": 32,
    "start_time": "2025-03-19T18:27:31.371Z"
   },
   {
    "duration": 17,
    "start_time": "2025-03-19T18:27:31.404Z"
   },
   {
    "duration": 248,
    "start_time": "2025-03-19T18:27:31.423Z"
   },
   {
    "duration": 9,
    "start_time": "2025-03-19T18:27:31.672Z"
   },
   {
    "duration": 15,
    "start_time": "2025-03-19T18:27:31.682Z"
   },
   {
    "duration": 15,
    "start_time": "2025-03-19T18:27:31.699Z"
   },
   {
    "duration": 91130,
    "start_time": "2025-03-19T18:27:31.716Z"
   },
   {
    "duration": 88,
    "start_time": "2025-03-19T18:29:02.850Z"
   },
   {
    "duration": 5472,
    "start_time": "2025-03-19T18:29:02.940Z"
   },
   {
    "duration": 185864,
    "start_time": "2025-03-19T18:29:08.417Z"
   },
   {
    "duration": 40,
    "start_time": "2025-03-19T18:32:14.284Z"
   },
   {
    "duration": 1279,
    "start_time": "2025-03-19T19:25:42.438Z"
   },
   {
    "duration": 2246,
    "start_time": "2025-03-20T05:11:49.775Z"
   },
   {
    "duration": 129,
    "start_time": "2025-03-20T05:14:13.530Z"
   },
   {
    "duration": 2645,
    "start_time": "2025-03-20T05:14:28.707Z"
   },
   {
    "duration": 1681,
    "start_time": "2025-03-20T05:14:31.355Z"
   },
   {
    "duration": 3,
    "start_time": "2025-03-20T05:14:33.038Z"
   },
   {
    "duration": 996,
    "start_time": "2025-03-20T05:14:33.043Z"
   },
   {
    "duration": 40,
    "start_time": "2025-03-20T05:14:34.041Z"
   },
   {
    "duration": 13,
    "start_time": "2025-03-20T05:14:34.083Z"
   },
   {
    "duration": 240,
    "start_time": "2025-03-20T05:14:34.098Z"
   },
   {
    "duration": 8,
    "start_time": "2025-03-20T05:14:34.340Z"
   },
   {
    "duration": 3,
    "start_time": "2025-03-20T05:14:37.559Z"
   },
   {
    "duration": 2,
    "start_time": "2025-03-20T05:14:44.429Z"
   },
   {
    "duration": 6,
    "start_time": "2025-03-20T05:14:56.900Z"
   },
   {
    "duration": 135,
    "start_time": "2025-03-20T05:14:57.557Z"
   },
   {
    "duration": 482,
    "start_time": "2025-03-20T05:15:33.799Z"
   },
   {
    "duration": 1412,
    "start_time": "2025-03-20T05:15:36.247Z"
   },
   {
    "duration": 2417,
    "start_time": "2025-03-20T05:20:16.620Z"
   },
   {
    "duration": 7,
    "start_time": "2025-03-20T05:25:01.544Z"
   },
   {
    "duration": 17,
    "start_time": "2025-03-20T05:25:18.318Z"
   },
   {
    "duration": 9,
    "start_time": "2025-03-20T05:25:40.432Z"
   },
   {
    "duration": 3149,
    "start_time": "2025-03-20T05:37:26.575Z"
   },
   {
    "duration": 17,
    "start_time": "2025-03-20T05:37:56.672Z"
   },
   {
    "duration": 4,
    "start_time": "2025-03-20T05:44:57.076Z"
   },
   {
    "duration": 30,
    "start_time": "2025-03-20T05:45:05.907Z"
   },
   {
    "duration": 4,
    "start_time": "2025-03-20T05:45:55.780Z"
   },
   {
    "duration": 22,
    "start_time": "2025-03-20T05:45:59.953Z"
   },
   {
    "duration": 2,
    "start_time": "2025-03-20T05:50:53.532Z"
   },
   {
    "duration": 3,
    "start_time": "2025-03-20T05:55:07.607Z"
   },
   {
    "duration": 21,
    "start_time": "2025-03-20T05:55:10.341Z"
   },
   {
    "duration": 4,
    "start_time": "2025-03-20T05:55:58.877Z"
   },
   {
    "duration": 23,
    "start_time": "2025-03-20T05:56:00.877Z"
   },
   {
    "duration": 7,
    "start_time": "2025-03-20T05:56:29.936Z"
   },
   {
    "duration": 3717,
    "start_time": "2025-03-20T07:59:11.161Z"
   },
   {
    "duration": 3,
    "start_time": "2025-03-20T08:07:48.018Z"
   },
   {
    "duration": 516,
    "start_time": "2025-03-20T08:09:02.673Z"
   },
   {
    "duration": 293,
    "start_time": "2025-03-20T08:09:34.298Z"
   },
   {
    "duration": 3,
    "start_time": "2025-03-20T08:09:37.562Z"
   },
   {
    "duration": 23,
    "start_time": "2025-03-20T08:09:39.625Z"
   },
   {
    "duration": 2594,
    "start_time": "2025-03-20T08:09:51.778Z"
   },
   {
    "duration": 3608,
    "start_time": "2025-03-20T08:09:54.374Z"
   },
   {
    "duration": 3,
    "start_time": "2025-03-20T08:09:57.983Z"
   },
   {
    "duration": 859,
    "start_time": "2025-03-20T08:09:57.988Z"
   },
   {
    "duration": 33,
    "start_time": "2025-03-20T08:09:58.849Z"
   },
   {
    "duration": 13,
    "start_time": "2025-03-20T08:09:58.883Z"
   },
   {
    "duration": 236,
    "start_time": "2025-03-20T08:09:58.898Z"
   },
   {
    "duration": 8,
    "start_time": "2025-03-20T08:09:59.136Z"
   },
   {
    "duration": 19,
    "start_time": "2025-03-20T08:09:59.145Z"
   },
   {
    "duration": 481,
    "start_time": "2025-03-20T08:09:59.165Z"
   },
   {
    "duration": 3,
    "start_time": "2025-03-20T08:09:59.648Z"
   },
   {
    "duration": 376,
    "start_time": "2025-03-20T08:09:59.652Z"
   },
   {
    "duration": 0,
    "start_time": "2025-03-20T08:10:00.030Z"
   },
   {
    "duration": 0,
    "start_time": "2025-03-20T08:10:00.031Z"
   },
   {
    "duration": 0,
    "start_time": "2025-03-20T08:10:00.032Z"
   },
   {
    "duration": 0,
    "start_time": "2025-03-20T08:10:00.035Z"
   },
   {
    "duration": 0,
    "start_time": "2025-03-20T08:10:00.036Z"
   },
   {
    "duration": 3,
    "start_time": "2025-03-20T08:11:49.266Z"
   },
   {
    "duration": 37044,
    "start_time": "2025-03-20T08:11:50.402Z"
   },
   {
    "duration": 22,
    "start_time": "2025-03-20T08:12:28.418Z"
   },
   {
    "duration": 2337,
    "start_time": "2025-03-20T08:14:21.976Z"
   },
   {
    "duration": 3692,
    "start_time": "2025-03-20T08:14:24.315Z"
   },
   {
    "duration": 3,
    "start_time": "2025-03-20T08:14:28.009Z"
   },
   {
    "duration": 882,
    "start_time": "2025-03-20T08:14:28.013Z"
   },
   {
    "duration": 45,
    "start_time": "2025-03-20T08:14:28.897Z"
   },
   {
    "duration": 14,
    "start_time": "2025-03-20T08:14:28.943Z"
   },
   {
    "duration": 230,
    "start_time": "2025-03-20T08:14:28.959Z"
   },
   {
    "duration": 8,
    "start_time": "2025-03-20T08:14:29.190Z"
   },
   {
    "duration": 3,
    "start_time": "2025-03-20T08:14:29.199Z"
   },
   {
    "duration": 481,
    "start_time": "2025-03-20T08:14:29.204Z"
   },
   {
    "duration": 3,
    "start_time": "2025-03-20T08:14:29.687Z"
   },
   {
    "duration": 5,
    "start_time": "2025-03-20T08:14:29.691Z"
   },
   {
    "duration": 241231,
    "start_time": "2025-03-20T08:14:29.698Z"
   },
   {
    "duration": 0,
    "start_time": "2025-03-20T08:18:30.931Z"
   },
   {
    "duration": 0,
    "start_time": "2025-03-20T08:18:30.932Z"
   },
   {
    "duration": 0,
    "start_time": "2025-03-20T08:18:30.933Z"
   },
   {
    "duration": 0,
    "start_time": "2025-03-20T08:18:30.934Z"
   },
   {
    "duration": 2335,
    "start_time": "2025-03-20T08:19:11.200Z"
   },
   {
    "duration": 3583,
    "start_time": "2025-03-20T08:19:13.537Z"
   },
   {
    "duration": 2,
    "start_time": "2025-03-20T08:19:17.122Z"
   },
   {
    "duration": 845,
    "start_time": "2025-03-20T08:19:17.126Z"
   },
   {
    "duration": 16,
    "start_time": "2025-03-20T08:19:17.973Z"
   },
   {
    "duration": 12,
    "start_time": "2025-03-20T08:19:17.991Z"
   },
   {
    "duration": 31,
    "start_time": "2025-03-20T08:19:18.005Z"
   },
   {
    "duration": 21,
    "start_time": "2025-03-20T08:19:18.037Z"
   },
   {
    "duration": 8,
    "start_time": "2025-03-20T08:19:18.059Z"
   },
   {
    "duration": 3,
    "start_time": "2025-03-20T08:19:18.069Z"
   },
   {
    "duration": 487,
    "start_time": "2025-03-20T08:19:18.073Z"
   },
   {
    "duration": 3,
    "start_time": "2025-03-20T08:19:18.561Z"
   },
   {
    "duration": 17,
    "start_time": "2025-03-20T08:19:18.566Z"
   },
   {
    "duration": 141838,
    "start_time": "2025-03-20T08:19:18.584Z"
   },
   {
    "duration": 18,
    "start_time": "2025-03-20T08:21:40.424Z"
   },
   {
    "duration": 320,
    "start_time": "2025-03-20T08:21:40.444Z"
   },
   {
    "duration": 0,
    "start_time": "2025-03-20T08:21:40.766Z"
   },
   {
    "duration": 19,
    "start_time": "2025-03-20T08:21:53.533Z"
   },
   {
    "duration": 294,
    "start_time": "2025-03-20T08:22:05.605Z"
   },
   {
    "duration": 311,
    "start_time": "2025-03-20T08:25:33.896Z"
   },
   {
    "duration": 2261,
    "start_time": "2025-03-20T08:31:41.016Z"
   },
   {
    "duration": 3575,
    "start_time": "2025-03-20T08:31:43.279Z"
   },
   {
    "duration": 3,
    "start_time": "2025-03-20T08:31:46.855Z"
   },
   {
    "duration": 850,
    "start_time": "2025-03-20T08:31:46.859Z"
   },
   {
    "duration": 25,
    "start_time": "2025-03-20T08:31:47.710Z"
   },
   {
    "duration": 45,
    "start_time": "2025-03-20T08:31:47.737Z"
   },
   {
    "duration": 20,
    "start_time": "2025-03-20T08:31:47.783Z"
   },
   {
    "duration": 19,
    "start_time": "2025-03-20T08:31:47.804Z"
   },
   {
    "duration": 7,
    "start_time": "2025-03-20T08:31:47.824Z"
   },
   {
    "duration": 2,
    "start_time": "2025-03-20T08:31:47.833Z"
   },
   {
    "duration": 464,
    "start_time": "2025-03-20T08:31:47.836Z"
   },
   {
    "duration": 3,
    "start_time": "2025-03-20T08:31:48.302Z"
   },
   {
    "duration": 3,
    "start_time": "2025-03-20T08:31:48.307Z"
   },
   {
    "duration": 143599,
    "start_time": "2025-03-20T08:31:48.311Z"
   },
   {
    "duration": 8,
    "start_time": "2025-03-20T08:34:11.911Z"
   },
   {
    "duration": 634,
    "start_time": "2025-03-20T08:34:11.920Z"
   },
   {
    "duration": 0,
    "start_time": "2025-03-20T08:34:12.556Z"
   },
   {
    "duration": 7,
    "start_time": "2025-03-20T08:38:08.777Z"
   },
   {
    "duration": 5,
    "start_time": "2025-03-20T08:38:21.361Z"
   },
   {
    "duration": 290,
    "start_time": "2025-03-20T08:38:28.929Z"
   },
   {
    "duration": 287,
    "start_time": "2025-03-20T08:41:27.435Z"
   },
   {
    "duration": 289,
    "start_time": "2025-03-20T08:41:35.563Z"
   },
   {
    "duration": 1070,
    "start_time": "2025-03-20T08:43:31.707Z"
   },
   {
    "duration": 6,
    "start_time": "2025-03-20T08:43:36.386Z"
   },
   {
    "duration": 295,
    "start_time": "2025-03-20T08:43:46.523Z"
   },
   {
    "duration": 7,
    "start_time": "2025-03-20T08:43:52.195Z"
   },
   {
    "duration": 7,
    "start_time": "2025-03-20T08:44:05.450Z"
   },
   {
    "duration": 6,
    "start_time": "2025-03-20T08:44:11.083Z"
   },
   {
    "duration": 6,
    "start_time": "2025-03-20T08:44:18.947Z"
   },
   {
    "duration": 45477,
    "start_time": "2025-03-20T08:45:12.379Z"
   },
   {
    "duration": 3,
    "start_time": "2025-03-20T08:51:19.317Z"
   },
   {
    "duration": 78183,
    "start_time": "2025-03-20T08:51:32.357Z"
   },
   {
    "duration": 2310,
    "start_time": "2025-03-20T08:52:55.016Z"
   },
   {
    "duration": 3516,
    "start_time": "2025-03-20T08:52:57.329Z"
   },
   {
    "duration": 2,
    "start_time": "2025-03-20T08:53:00.847Z"
   },
   {
    "duration": 862,
    "start_time": "2025-03-20T08:53:00.851Z"
   },
   {
    "duration": 24,
    "start_time": "2025-03-20T08:53:01.715Z"
   },
   {
    "duration": 13,
    "start_time": "2025-03-20T08:53:01.741Z"
   },
   {
    "duration": 54,
    "start_time": "2025-03-20T08:53:01.755Z"
   },
   {
    "duration": 22,
    "start_time": "2025-03-20T08:53:01.811Z"
   },
   {
    "duration": 7,
    "start_time": "2025-03-20T08:53:01.835Z"
   },
   {
    "duration": 3,
    "start_time": "2025-03-20T08:53:01.844Z"
   },
   {
    "duration": 483,
    "start_time": "2025-03-20T08:53:01.848Z"
   },
   {
    "duration": 4,
    "start_time": "2025-03-20T08:53:02.334Z"
   },
   {
    "duration": 8,
    "start_time": "2025-03-20T08:53:02.339Z"
   },
   {
    "duration": 145774,
    "start_time": "2025-03-20T08:53:02.348Z"
   },
   {
    "duration": 12,
    "start_time": "2025-03-20T08:55:28.124Z"
   },
   {
    "duration": 4,
    "start_time": "2025-03-20T08:55:28.138Z"
   },
   {
    "duration": 26394,
    "start_time": "2025-03-20T08:55:28.143Z"
   },
   {
    "duration": 313,
    "start_time": "2025-03-20T08:55:54.539Z"
   },
   {
    "duration": 3,
    "start_time": "2025-03-20T08:56:33.406Z"
   },
   {
    "duration": 23,
    "start_time": "2025-03-20T08:58:45.376Z"
   },
   {
    "duration": 5,
    "start_time": "2025-03-20T08:59:01.191Z"
   },
   {
    "duration": 5,
    "start_time": "2025-03-20T08:59:07.519Z"
   },
   {
    "duration": 65,
    "start_time": "2025-03-20T08:59:31.656Z"
   },
   {
    "duration": 2290,
    "start_time": "2025-03-20T08:59:48.931Z"
   },
   {
    "duration": 3666,
    "start_time": "2025-03-20T08:59:51.224Z"
   },
   {
    "duration": 3,
    "start_time": "2025-03-20T08:59:54.892Z"
   },
   {
    "duration": 898,
    "start_time": "2025-03-20T08:59:54.898Z"
   },
   {
    "duration": 39,
    "start_time": "2025-03-20T08:59:55.798Z"
   },
   {
    "duration": 29,
    "start_time": "2025-03-20T08:59:55.838Z"
   },
   {
    "duration": 236,
    "start_time": "2025-03-20T08:59:55.868Z"
   },
   {
    "duration": 7,
    "start_time": "2025-03-20T08:59:56.105Z"
   },
   {
    "duration": 2,
    "start_time": "2025-03-20T08:59:56.114Z"
   },
   {
    "duration": 508,
    "start_time": "2025-03-20T08:59:56.118Z"
   },
   {
    "duration": 3,
    "start_time": "2025-03-20T08:59:56.628Z"
   },
   {
    "duration": 2138567,
    "start_time": "2025-03-20T08:59:56.632Z"
   },
   {
    "duration": 73,
    "start_time": "2025-03-20T09:35:35.200Z"
   },
   {
    "duration": 2,
    "start_time": "2025-03-20T09:35:35.275Z"
   },
   {
    "duration": 493177,
    "start_time": "2025-03-20T09:35:35.279Z"
   },
   {
    "duration": 950,
    "start_time": "2025-03-20T09:43:48.457Z"
   }
  ],
  "kernelspec": {
   "display_name": "Python 3 (ipykernel)",
   "language": "python",
   "name": "python3"
  },
  "language_info": {
   "codemirror_mode": {
    "name": "ipython",
    "version": 3
   },
   "file_extension": ".py",
   "mimetype": "text/x-python",
   "name": "python",
   "nbconvert_exporter": "python",
   "pygments_lexer": "ipython3",
   "version": "3.12.4"
  },
  "toc": {
   "base_numbering": 1,
   "nav_menu": {},
   "number_sections": true,
   "sideBar": true,
   "skip_h1_title": true,
   "title_cell": "Содержание",
   "title_sidebar": "Contents",
   "toc_cell": true,
   "toc_position": {
    "height": "calc(100% - 180px)",
    "left": "10px",
    "top": "150px",
    "width": "165px"
   },
   "toc_section_display": true,
   "toc_window_display": true
  }
 },
 "nbformat": 4,
 "nbformat_minor": 4
}
