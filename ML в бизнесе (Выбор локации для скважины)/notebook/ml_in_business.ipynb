{
 "cells": [
  {
   "cell_type": "markdown",
   "metadata": {},
   "source": [
    "# Выбор локации для скважины"
   ]
  },
  {
   "cell_type": "markdown",
   "metadata": {},
   "source": [
    "В данном проекте мы будем помогать добывающей компании «ГлавРосГосНефть» с выбором региона, в котором бурить новые скважины.\n",
    "\n",
    "Нам предоставлены пробы нефти в трёх регионах: в каждом 10 000 месторождений, где измерили качество нефти и объём её запасов. Для начала изучим данные и проведем их подготовку: проверим на пропуски и дубликаты, и при необходимости исправим. \n",
    "\n",
    "После этого разобьем данных регионов на тренировочную и тестовую выборки и создадим модель линейной регрессии для предсказания объема нефти в скважинах. \n",
    "\n",
    "После этого проведем моделирование и расчитаем, какую прибыль нам может принести каждый из регионов, и какие риски при этом будут. \n",
    "\n",
    "После всех расчетов, проанализируем значения и выберем наиболее экономически выгодных регион для бурения."
   ]
  },
  {
   "cell_type": "markdown",
   "metadata": {},
   "source": [
    "## Загрузка и подготовка данных"
   ]
  },
  {
   "cell_type": "markdown",
   "metadata": {},
   "source": [
    "### Загрузка данных"
   ]
  },
  {
   "cell_type": "code",
   "execution_count": 1,
   "metadata": {},
   "outputs": [],
   "source": [
    "import pandas as pd\n",
    "import numpy as np\n",
    "\n",
    "\n",
    "from sklearn.model_selection import train_test_split\n",
    "from sklearn.linear_model import LinearRegression\n",
    "from sklearn.metrics import mean_squared_error\n",
    "\n",
    "RANDOM_STATE = 42\n",
    "TEST_SIZE = 0.75\n",
    "state = np.random.RandomState(12345)"
   ]
  },
  {
   "cell_type": "code",
   "execution_count": 2,
   "metadata": {
    "scrolled": true
   },
   "outputs": [],
   "source": [
    "try:\n",
    "    geo_data_0 = pd.read_csv('/datasets/geo_data_0.csv')\n",
    "    geo_data_1 = pd.read_csv('/datasets/geo_data_1.csv')\n",
    "    geo_data_2 = pd.read_csv('/datasets/geo_data_2.csv')\n",
    "except:\n",
    "    geo_data_0 = pd.read_csv('C/datasets/geo_data_0.csv')\n",
    "    geo_data_1 = pd.read_csv('C/datasets/geo_data_1.csv')\n",
    "    geo_data_2 = pd.read_csv('C/datasets/geo_data_2.csv')   \n",
    "    "
   ]
  },
  {
   "cell_type": "markdown",
   "metadata": {},
   "source": [
    "Посмотрим на наши датафреймы."
   ]
  },
  {
   "cell_type": "code",
   "execution_count": 3,
   "metadata": {},
   "outputs": [
    {
     "name": "stdout",
     "output_type": "stream",
     "text": [
      "<class 'pandas.core.frame.DataFrame'>\n",
      "RangeIndex: 100000 entries, 0 to 99999\n",
      "Data columns (total 5 columns):\n",
      " #   Column   Non-Null Count   Dtype  \n",
      "---  ------   --------------   -----  \n",
      " 0   id       100000 non-null  object \n",
      " 1   f0       100000 non-null  float64\n",
      " 2   f1       100000 non-null  float64\n",
      " 3   f2       100000 non-null  float64\n",
      " 4   product  100000 non-null  float64\n",
      "dtypes: float64(4), object(1)\n",
      "memory usage: 3.8+ MB\n"
     ]
    }
   ],
   "source": [
    "geo_data_0.info()"
   ]
  },
  {
   "cell_type": "code",
   "execution_count": 4,
   "metadata": {},
   "outputs": [
    {
     "data": {
      "text/html": [
       "<div>\n",
       "<style scoped>\n",
       "    .dataframe tbody tr th:only-of-type {\n",
       "        vertical-align: middle;\n",
       "    }\n",
       "\n",
       "    .dataframe tbody tr th {\n",
       "        vertical-align: top;\n",
       "    }\n",
       "\n",
       "    .dataframe thead th {\n",
       "        text-align: right;\n",
       "    }\n",
       "</style>\n",
       "<table border=\"1\" class=\"dataframe\">\n",
       "  <thead>\n",
       "    <tr style=\"text-align: right;\">\n",
       "      <th></th>\n",
       "      <th>f0</th>\n",
       "      <th>f1</th>\n",
       "      <th>f2</th>\n",
       "      <th>product</th>\n",
       "    </tr>\n",
       "  </thead>\n",
       "  <tbody>\n",
       "    <tr>\n",
       "      <th>f0</th>\n",
       "      <td>1.000000</td>\n",
       "      <td>-0.440723</td>\n",
       "      <td>-0.003153</td>\n",
       "      <td>0.143536</td>\n",
       "    </tr>\n",
       "    <tr>\n",
       "      <th>f1</th>\n",
       "      <td>-0.440723</td>\n",
       "      <td>1.000000</td>\n",
       "      <td>0.001724</td>\n",
       "      <td>-0.192356</td>\n",
       "    </tr>\n",
       "    <tr>\n",
       "      <th>f2</th>\n",
       "      <td>-0.003153</td>\n",
       "      <td>0.001724</td>\n",
       "      <td>1.000000</td>\n",
       "      <td>0.483663</td>\n",
       "    </tr>\n",
       "    <tr>\n",
       "      <th>product</th>\n",
       "      <td>0.143536</td>\n",
       "      <td>-0.192356</td>\n",
       "      <td>0.483663</td>\n",
       "      <td>1.000000</td>\n",
       "    </tr>\n",
       "  </tbody>\n",
       "</table>\n",
       "</div>"
      ],
      "text/plain": [
       "               f0        f1        f2   product\n",
       "f0       1.000000 -0.440723 -0.003153  0.143536\n",
       "f1      -0.440723  1.000000  0.001724 -0.192356\n",
       "f2      -0.003153  0.001724  1.000000  0.483663\n",
       "product  0.143536 -0.192356  0.483663  1.000000"
      ]
     },
     "execution_count": 4,
     "metadata": {},
     "output_type": "execute_result"
    }
   ],
   "source": [
    "geo_data_0.iloc[:, 1:].corr()"
   ]
  },
  {
   "cell_type": "code",
   "execution_count": 5,
   "metadata": {},
   "outputs": [
    {
     "data": {
      "text/html": [
       "<div>\n",
       "<style scoped>\n",
       "    .dataframe tbody tr th:only-of-type {\n",
       "        vertical-align: middle;\n",
       "    }\n",
       "\n",
       "    .dataframe tbody tr th {\n",
       "        vertical-align: top;\n",
       "    }\n",
       "\n",
       "    .dataframe thead th {\n",
       "        text-align: right;\n",
       "    }\n",
       "</style>\n",
       "<table border=\"1\" class=\"dataframe\">\n",
       "  <thead>\n",
       "    <tr style=\"text-align: right;\">\n",
       "      <th></th>\n",
       "      <th>id</th>\n",
       "      <th>f0</th>\n",
       "      <th>f1</th>\n",
       "      <th>f2</th>\n",
       "      <th>product</th>\n",
       "    </tr>\n",
       "  </thead>\n",
       "  <tbody>\n",
       "    <tr>\n",
       "      <th>0</th>\n",
       "      <td>txEyH</td>\n",
       "      <td>0.705745</td>\n",
       "      <td>-0.497823</td>\n",
       "      <td>1.221170</td>\n",
       "      <td>105.280062</td>\n",
       "    </tr>\n",
       "    <tr>\n",
       "      <th>1</th>\n",
       "      <td>2acmU</td>\n",
       "      <td>1.334711</td>\n",
       "      <td>-0.340164</td>\n",
       "      <td>4.365080</td>\n",
       "      <td>73.037750</td>\n",
       "    </tr>\n",
       "    <tr>\n",
       "      <th>2</th>\n",
       "      <td>409Wp</td>\n",
       "      <td>1.022732</td>\n",
       "      <td>0.151990</td>\n",
       "      <td>1.419926</td>\n",
       "      <td>85.265647</td>\n",
       "    </tr>\n",
       "    <tr>\n",
       "      <th>3</th>\n",
       "      <td>iJLyR</td>\n",
       "      <td>-0.032172</td>\n",
       "      <td>0.139033</td>\n",
       "      <td>2.978566</td>\n",
       "      <td>168.620776</td>\n",
       "    </tr>\n",
       "    <tr>\n",
       "      <th>4</th>\n",
       "      <td>Xdl7t</td>\n",
       "      <td>1.988431</td>\n",
       "      <td>0.155413</td>\n",
       "      <td>4.751769</td>\n",
       "      <td>154.036647</td>\n",
       "    </tr>\n",
       "  </tbody>\n",
       "</table>\n",
       "</div>"
      ],
      "text/plain": [
       "      id        f0        f1        f2     product\n",
       "0  txEyH  0.705745 -0.497823  1.221170  105.280062\n",
       "1  2acmU  1.334711 -0.340164  4.365080   73.037750\n",
       "2  409Wp  1.022732  0.151990  1.419926   85.265647\n",
       "3  iJLyR -0.032172  0.139033  2.978566  168.620776\n",
       "4  Xdl7t  1.988431  0.155413  4.751769  154.036647"
      ]
     },
     "execution_count": 5,
     "metadata": {},
     "output_type": "execute_result"
    }
   ],
   "source": [
    "geo_data_0.head()"
   ]
  },
  {
   "cell_type": "code",
   "execution_count": 6,
   "metadata": {},
   "outputs": [
    {
     "name": "stdout",
     "output_type": "stream",
     "text": [
      "<class 'pandas.core.frame.DataFrame'>\n",
      "RangeIndex: 100000 entries, 0 to 99999\n",
      "Data columns (total 5 columns):\n",
      " #   Column   Non-Null Count   Dtype  \n",
      "---  ------   --------------   -----  \n",
      " 0   id       100000 non-null  object \n",
      " 1   f0       100000 non-null  float64\n",
      " 2   f1       100000 non-null  float64\n",
      " 3   f2       100000 non-null  float64\n",
      " 4   product  100000 non-null  float64\n",
      "dtypes: float64(4), object(1)\n",
      "memory usage: 3.8+ MB\n"
     ]
    }
   ],
   "source": [
    "geo_data_1.info()"
   ]
  },
  {
   "cell_type": "code",
   "execution_count": 7,
   "metadata": {},
   "outputs": [
    {
     "data": {
      "text/html": [
       "<div>\n",
       "<style scoped>\n",
       "    .dataframe tbody tr th:only-of-type {\n",
       "        vertical-align: middle;\n",
       "    }\n",
       "\n",
       "    .dataframe tbody tr th {\n",
       "        vertical-align: top;\n",
       "    }\n",
       "\n",
       "    .dataframe thead th {\n",
       "        text-align: right;\n",
       "    }\n",
       "</style>\n",
       "<table border=\"1\" class=\"dataframe\">\n",
       "  <thead>\n",
       "    <tr style=\"text-align: right;\">\n",
       "      <th></th>\n",
       "      <th>f0</th>\n",
       "      <th>f1</th>\n",
       "      <th>f2</th>\n",
       "      <th>product</th>\n",
       "    </tr>\n",
       "  </thead>\n",
       "  <tbody>\n",
       "    <tr>\n",
       "      <th>f0</th>\n",
       "      <td>1.000000</td>\n",
       "      <td>0.182287</td>\n",
       "      <td>-0.001777</td>\n",
       "      <td>-0.030491</td>\n",
       "    </tr>\n",
       "    <tr>\n",
       "      <th>f1</th>\n",
       "      <td>0.182287</td>\n",
       "      <td>1.000000</td>\n",
       "      <td>-0.002595</td>\n",
       "      <td>-0.010155</td>\n",
       "    </tr>\n",
       "    <tr>\n",
       "      <th>f2</th>\n",
       "      <td>-0.001777</td>\n",
       "      <td>-0.002595</td>\n",
       "      <td>1.000000</td>\n",
       "      <td>0.999397</td>\n",
       "    </tr>\n",
       "    <tr>\n",
       "      <th>product</th>\n",
       "      <td>-0.030491</td>\n",
       "      <td>-0.010155</td>\n",
       "      <td>0.999397</td>\n",
       "      <td>1.000000</td>\n",
       "    </tr>\n",
       "  </tbody>\n",
       "</table>\n",
       "</div>"
      ],
      "text/plain": [
       "               f0        f1        f2   product\n",
       "f0       1.000000  0.182287 -0.001777 -0.030491\n",
       "f1       0.182287  1.000000 -0.002595 -0.010155\n",
       "f2      -0.001777 -0.002595  1.000000  0.999397\n",
       "product -0.030491 -0.010155  0.999397  1.000000"
      ]
     },
     "execution_count": 7,
     "metadata": {},
     "output_type": "execute_result"
    }
   ],
   "source": [
    "geo_data_1.iloc[:, 1:].corr()"
   ]
  },
  {
   "cell_type": "code",
   "execution_count": 8,
   "metadata": {},
   "outputs": [
    {
     "data": {
      "text/html": [
       "<div>\n",
       "<style scoped>\n",
       "    .dataframe tbody tr th:only-of-type {\n",
       "        vertical-align: middle;\n",
       "    }\n",
       "\n",
       "    .dataframe tbody tr th {\n",
       "        vertical-align: top;\n",
       "    }\n",
       "\n",
       "    .dataframe thead th {\n",
       "        text-align: right;\n",
       "    }\n",
       "</style>\n",
       "<table border=\"1\" class=\"dataframe\">\n",
       "  <thead>\n",
       "    <tr style=\"text-align: right;\">\n",
       "      <th></th>\n",
       "      <th>id</th>\n",
       "      <th>f0</th>\n",
       "      <th>f1</th>\n",
       "      <th>f2</th>\n",
       "      <th>product</th>\n",
       "    </tr>\n",
       "  </thead>\n",
       "  <tbody>\n",
       "    <tr>\n",
       "      <th>0</th>\n",
       "      <td>kBEdx</td>\n",
       "      <td>-15.001348</td>\n",
       "      <td>-8.276000</td>\n",
       "      <td>-0.005876</td>\n",
       "      <td>3.179103</td>\n",
       "    </tr>\n",
       "    <tr>\n",
       "      <th>1</th>\n",
       "      <td>62mP7</td>\n",
       "      <td>14.272088</td>\n",
       "      <td>-3.475083</td>\n",
       "      <td>0.999183</td>\n",
       "      <td>26.953261</td>\n",
       "    </tr>\n",
       "    <tr>\n",
       "      <th>2</th>\n",
       "      <td>vyE1P</td>\n",
       "      <td>6.263187</td>\n",
       "      <td>-5.948386</td>\n",
       "      <td>5.001160</td>\n",
       "      <td>134.766305</td>\n",
       "    </tr>\n",
       "    <tr>\n",
       "      <th>3</th>\n",
       "      <td>KcrkZ</td>\n",
       "      <td>-13.081196</td>\n",
       "      <td>-11.506057</td>\n",
       "      <td>4.999415</td>\n",
       "      <td>137.945408</td>\n",
       "    </tr>\n",
       "    <tr>\n",
       "      <th>4</th>\n",
       "      <td>AHL4O</td>\n",
       "      <td>12.702195</td>\n",
       "      <td>-8.147433</td>\n",
       "      <td>5.004363</td>\n",
       "      <td>134.766305</td>\n",
       "    </tr>\n",
       "  </tbody>\n",
       "</table>\n",
       "</div>"
      ],
      "text/plain": [
       "      id         f0         f1        f2     product\n",
       "0  kBEdx -15.001348  -8.276000 -0.005876    3.179103\n",
       "1  62mP7  14.272088  -3.475083  0.999183   26.953261\n",
       "2  vyE1P   6.263187  -5.948386  5.001160  134.766305\n",
       "3  KcrkZ -13.081196 -11.506057  4.999415  137.945408\n",
       "4  AHL4O  12.702195  -8.147433  5.004363  134.766305"
      ]
     },
     "execution_count": 8,
     "metadata": {},
     "output_type": "execute_result"
    }
   ],
   "source": [
    "geo_data_1.head()"
   ]
  },
  {
   "cell_type": "code",
   "execution_count": 9,
   "metadata": {},
   "outputs": [
    {
     "name": "stdout",
     "output_type": "stream",
     "text": [
      "<class 'pandas.core.frame.DataFrame'>\n",
      "RangeIndex: 100000 entries, 0 to 99999\n",
      "Data columns (total 5 columns):\n",
      " #   Column   Non-Null Count   Dtype  \n",
      "---  ------   --------------   -----  \n",
      " 0   id       100000 non-null  object \n",
      " 1   f0       100000 non-null  float64\n",
      " 2   f1       100000 non-null  float64\n",
      " 3   f2       100000 non-null  float64\n",
      " 4   product  100000 non-null  float64\n",
      "dtypes: float64(4), object(1)\n",
      "memory usage: 3.8+ MB\n"
     ]
    }
   ],
   "source": [
    "geo_data_2.info()"
   ]
  },
  {
   "cell_type": "code",
   "execution_count": 10,
   "metadata": {},
   "outputs": [
    {
     "data": {
      "text/html": [
       "<div>\n",
       "<style scoped>\n",
       "    .dataframe tbody tr th:only-of-type {\n",
       "        vertical-align: middle;\n",
       "    }\n",
       "\n",
       "    .dataframe tbody tr th {\n",
       "        vertical-align: top;\n",
       "    }\n",
       "\n",
       "    .dataframe thead th {\n",
       "        text-align: right;\n",
       "    }\n",
       "</style>\n",
       "<table border=\"1\" class=\"dataframe\">\n",
       "  <thead>\n",
       "    <tr style=\"text-align: right;\">\n",
       "      <th></th>\n",
       "      <th>f0</th>\n",
       "      <th>f1</th>\n",
       "      <th>f2</th>\n",
       "      <th>product</th>\n",
       "    </tr>\n",
       "  </thead>\n",
       "  <tbody>\n",
       "    <tr>\n",
       "      <th>f0</th>\n",
       "      <td>1.000000</td>\n",
       "      <td>0.000528</td>\n",
       "      <td>-0.000448</td>\n",
       "      <td>-0.001987</td>\n",
       "    </tr>\n",
       "    <tr>\n",
       "      <th>f1</th>\n",
       "      <td>0.000528</td>\n",
       "      <td>1.000000</td>\n",
       "      <td>0.000779</td>\n",
       "      <td>-0.001012</td>\n",
       "    </tr>\n",
       "    <tr>\n",
       "      <th>f2</th>\n",
       "      <td>-0.000448</td>\n",
       "      <td>0.000779</td>\n",
       "      <td>1.000000</td>\n",
       "      <td>0.445871</td>\n",
       "    </tr>\n",
       "    <tr>\n",
       "      <th>product</th>\n",
       "      <td>-0.001987</td>\n",
       "      <td>-0.001012</td>\n",
       "      <td>0.445871</td>\n",
       "      <td>1.000000</td>\n",
       "    </tr>\n",
       "  </tbody>\n",
       "</table>\n",
       "</div>"
      ],
      "text/plain": [
       "               f0        f1        f2   product\n",
       "f0       1.000000  0.000528 -0.000448 -0.001987\n",
       "f1       0.000528  1.000000  0.000779 -0.001012\n",
       "f2      -0.000448  0.000779  1.000000  0.445871\n",
       "product -0.001987 -0.001012  0.445871  1.000000"
      ]
     },
     "execution_count": 10,
     "metadata": {},
     "output_type": "execute_result"
    }
   ],
   "source": [
    "geo_data_2.iloc[:, 1:].corr()"
   ]
  },
  {
   "cell_type": "code",
   "execution_count": 11,
   "metadata": {},
   "outputs": [
    {
     "data": {
      "text/html": [
       "<div>\n",
       "<style scoped>\n",
       "    .dataframe tbody tr th:only-of-type {\n",
       "        vertical-align: middle;\n",
       "    }\n",
       "\n",
       "    .dataframe tbody tr th {\n",
       "        vertical-align: top;\n",
       "    }\n",
       "\n",
       "    .dataframe thead th {\n",
       "        text-align: right;\n",
       "    }\n",
       "</style>\n",
       "<table border=\"1\" class=\"dataframe\">\n",
       "  <thead>\n",
       "    <tr style=\"text-align: right;\">\n",
       "      <th></th>\n",
       "      <th>id</th>\n",
       "      <th>f0</th>\n",
       "      <th>f1</th>\n",
       "      <th>f2</th>\n",
       "      <th>product</th>\n",
       "    </tr>\n",
       "  </thead>\n",
       "  <tbody>\n",
       "    <tr>\n",
       "      <th>0</th>\n",
       "      <td>fwXo0</td>\n",
       "      <td>-1.146987</td>\n",
       "      <td>0.963328</td>\n",
       "      <td>-0.828965</td>\n",
       "      <td>27.758673</td>\n",
       "    </tr>\n",
       "    <tr>\n",
       "      <th>1</th>\n",
       "      <td>WJtFt</td>\n",
       "      <td>0.262778</td>\n",
       "      <td>0.269839</td>\n",
       "      <td>-2.530187</td>\n",
       "      <td>56.069697</td>\n",
       "    </tr>\n",
       "    <tr>\n",
       "      <th>2</th>\n",
       "      <td>ovLUW</td>\n",
       "      <td>0.194587</td>\n",
       "      <td>0.289035</td>\n",
       "      <td>-5.586433</td>\n",
       "      <td>62.871910</td>\n",
       "    </tr>\n",
       "    <tr>\n",
       "      <th>3</th>\n",
       "      <td>q6cA6</td>\n",
       "      <td>2.236060</td>\n",
       "      <td>-0.553760</td>\n",
       "      <td>0.930038</td>\n",
       "      <td>114.572842</td>\n",
       "    </tr>\n",
       "    <tr>\n",
       "      <th>4</th>\n",
       "      <td>WPMUX</td>\n",
       "      <td>-0.515993</td>\n",
       "      <td>1.716266</td>\n",
       "      <td>5.899011</td>\n",
       "      <td>149.600746</td>\n",
       "    </tr>\n",
       "  </tbody>\n",
       "</table>\n",
       "</div>"
      ],
      "text/plain": [
       "      id        f0        f1        f2     product\n",
       "0  fwXo0 -1.146987  0.963328 -0.828965   27.758673\n",
       "1  WJtFt  0.262778  0.269839 -2.530187   56.069697\n",
       "2  ovLUW  0.194587  0.289035 -5.586433   62.871910\n",
       "3  q6cA6  2.236060 -0.553760  0.930038  114.572842\n",
       "4  WPMUX -0.515993  1.716266  5.899011  149.600746"
      ]
     },
     "execution_count": 11,
     "metadata": {},
     "output_type": "execute_result"
    }
   ],
   "source": [
    "geo_data_2.head()"
   ]
  },
  {
   "cell_type": "markdown",
   "metadata": {},
   "source": [
    "Данные в таблицах соответствуют описанию. Колонки в датафреймах правильно разделены, названия колонок написаны в змеином регистре, числовые колонки представлены числами. Датафреймы одинакового размера: по 100000 строк в каждом. Корреляция между входными признаками практически отсутствует."
   ]
  },
  {
   "cell_type": "markdown",
   "metadata": {},
   "source": [
    "### Предобработка данных"
   ]
  },
  {
   "cell_type": "markdown",
   "metadata": {},
   "source": [
    "Посмотрим, есть ли пропуски в наших датафреймах."
   ]
  },
  {
   "cell_type": "code",
   "execution_count": 12,
   "metadata": {},
   "outputs": [
    {
     "data": {
      "text/plain": [
       "id         0\n",
       "f0         0\n",
       "f1         0\n",
       "f2         0\n",
       "product    0\n",
       "dtype: int64"
      ]
     },
     "execution_count": 12,
     "metadata": {},
     "output_type": "execute_result"
    }
   ],
   "source": [
    "geo_data_0.isna().sum()"
   ]
  },
  {
   "cell_type": "code",
   "execution_count": 13,
   "metadata": {},
   "outputs": [
    {
     "data": {
      "text/plain": [
       "id         0\n",
       "f0         0\n",
       "f1         0\n",
       "f2         0\n",
       "product    0\n",
       "dtype: int64"
      ]
     },
     "execution_count": 13,
     "metadata": {},
     "output_type": "execute_result"
    }
   ],
   "source": [
    "geo_data_1.isna().sum()"
   ]
  },
  {
   "cell_type": "code",
   "execution_count": 14,
   "metadata": {},
   "outputs": [
    {
     "data": {
      "text/plain": [
       "id         0\n",
       "f0         0\n",
       "f1         0\n",
       "f2         0\n",
       "product    0\n",
       "dtype: int64"
      ]
     },
     "execution_count": 14,
     "metadata": {},
     "output_type": "execute_result"
    }
   ],
   "source": [
    "geo_data_2.isna().sum()"
   ]
  },
  {
   "cell_type": "markdown",
   "metadata": {},
   "source": [
    "Пропуски отсутсвтуют."
   ]
  },
  {
   "cell_type": "markdown",
   "metadata": {},
   "source": [
    "Теперь проверим наши таблицы на наличие дубликатов."
   ]
  },
  {
   "cell_type": "code",
   "execution_count": 15,
   "metadata": {},
   "outputs": [
    {
     "data": {
      "text/plain": [
       "0"
      ]
     },
     "execution_count": 15,
     "metadata": {},
     "output_type": "execute_result"
    }
   ],
   "source": [
    "geo_data_0.duplicated().sum()"
   ]
  },
  {
   "cell_type": "code",
   "execution_count": 16,
   "metadata": {},
   "outputs": [
    {
     "data": {
      "text/plain": [
       "0"
      ]
     },
     "execution_count": 16,
     "metadata": {},
     "output_type": "execute_result"
    }
   ],
   "source": [
    "geo_data_1.duplicated().sum()"
   ]
  },
  {
   "cell_type": "code",
   "execution_count": 17,
   "metadata": {},
   "outputs": [
    {
     "data": {
      "text/plain": [
       "0"
      ]
     },
     "execution_count": 17,
     "metadata": {},
     "output_type": "execute_result"
    }
   ],
   "source": [
    "geo_data_2.duplicated().sum()"
   ]
  },
  {
   "cell_type": "markdown",
   "metadata": {},
   "source": [
    "Явные дубликаты отсутствуют."
   ]
  },
  {
   "cell_type": "markdown",
   "metadata": {},
   "source": [
    "Теперь посмотрим, есть ли среди наших скважин повторяющиеся - то есть строки с одинаковыми значениями в колонке 'id'. И если такие есть, то удалим такие строки, оставив лишь последнюю встречающуюся."
   ]
  },
  {
   "cell_type": "code",
   "execution_count": 18,
   "metadata": {},
   "outputs": [
    {
     "data": {
      "text/plain": [
       "10"
      ]
     },
     "execution_count": 18,
     "metadata": {},
     "output_type": "execute_result"
    }
   ],
   "source": [
    "geo_data_0.duplicated(subset='id').sum()"
   ]
  },
  {
   "cell_type": "code",
   "execution_count": 19,
   "metadata": {},
   "outputs": [
    {
     "data": {
      "text/plain": [
       "4"
      ]
     },
     "execution_count": 19,
     "metadata": {},
     "output_type": "execute_result"
    }
   ],
   "source": [
    "geo_data_1.duplicated(subset='id').sum()"
   ]
  },
  {
   "cell_type": "code",
   "execution_count": 20,
   "metadata": {},
   "outputs": [
    {
     "data": {
      "text/plain": [
       "4"
      ]
     },
     "execution_count": 20,
     "metadata": {},
     "output_type": "execute_result"
    }
   ],
   "source": [
    "geo_data_2.duplicated(subset='id').sum()"
   ]
  },
  {
   "cell_type": "code",
   "execution_count": 21,
   "metadata": {},
   "outputs": [],
   "source": [
    "geo_data_0.drop_duplicates(subset='id', keep='last', inplace=True)\n",
    "geo_data_1.drop_duplicates(subset='id', keep='last', inplace=True)\n",
    "geo_data_2.drop_duplicates(subset='id', keep='last', inplace=True)"
   ]
  },
  {
   "cell_type": "markdown",
   "metadata": {},
   "source": [
    "Неявные дубликаты удалены."
   ]
  },
  {
   "cell_type": "markdown",
   "metadata": {},
   "source": [
    "Теперь сделаем индексом колонку с id скважин."
   ]
  },
  {
   "cell_type": "code",
   "execution_count": 22,
   "metadata": {},
   "outputs": [],
   "source": [
    "geo_data_0 = geo_data_0.reset_index(drop=True)\n",
    "geo_data_1 = geo_data_1.reset_index(drop=True)\n",
    "geo_data_2 = geo_data_2.reset_index(drop=True)"
   ]
  },
  {
   "cell_type": "markdown",
   "metadata": {},
   "source": [
    "geo_data_0.set_index('id', inplace=True)\n",
    "geo_data_1.set_index('id', inplace=True)\n",
    "geo_data_2.set_index('id', inplace=True)"
   ]
  },
  {
   "cell_type": "markdown",
   "metadata": {},
   "source": [
    "### Вывод"
   ]
  },
  {
   "cell_type": "markdown",
   "metadata": {},
   "source": [
    "Данные успешно загружены. Из каждого датафрейма было удалены неявные дубликаты. Они могли возникнуть из-за того, что характеристики некоторых скважин мерили несколько раз. Поэтому были оставлены лишь последние встречающиеся значения повторящихся скважин. Колонки с id скважин были сделаны инексами для удобства в дальнейшей работе."
   ]
  },
  {
   "cell_type": "markdown",
   "metadata": {},
   "source": [
    "## Обучение и проверка модели"
   ]
  },
  {
   "cell_type": "markdown",
   "metadata": {},
   "source": [
    "### Создание функции для предсказания"
   ]
  },
  {
   "cell_type": "markdown",
   "metadata": {},
   "source": [
    "В качестве модели предскзаания будем использовать модель линейной регрессии, так как все признаки, в том числе и целовой у нас непрерывные числа. В качестве тренировочной выборки будем использовать 75% данных, а в качестве валидационной - оставшиеся 25%.\n",
    "Напишем функцию, которая для каждого региона будет разделять данные на выборки. После этого обучать модель, делать предсказание и высчитывать среднеквадратичную ошибку."
   ]
  },
  {
   "cell_type": "code",
   "execution_count": 23,
   "metadata": {},
   "outputs": [],
   "source": [
    "def prediction(data):\n",
    "    X_train, X_valid, y_train, y_valid = train_test_split(\n",
    "        data.drop(['id', 'product'], axis=1),\n",
    "        data['product'],\n",
    "        test_size = TEST_SIZE, \n",
    "        random_state = RANDOM_STATE)\n",
    "    model = LinearRegression()\n",
    "    model.fit(X_train, y_train)\n",
    "    y_pred = model.predict(X_valid)\n",
    "    df_pred = pd.DataFrame(y_valid)\n",
    "    df_pred['y_pred'] = y_pred\n",
    "    rmse = mean_squared_error(y_valid, y_pred) ** 0.5\n",
    "    return y_pred, rmse, df_pred"
   ]
  },
  {
   "cell_type": "code",
   "execution_count": 24,
   "metadata": {},
   "outputs": [],
   "source": [
    "y_pred_0, rmse_0, df_pred_0 =  prediction(geo_data_0)\n",
    "y_pred_1, rmse_1, df_pred_1 =  prediction(geo_data_1)\n",
    "y_pred_2, rmse_2, df_pred_2 =  prediction(geo_data_2)"
   ]
  },
  {
   "cell_type": "markdown",
   "metadata": {},
   "source": [
    "### Результаты"
   ]
  },
  {
   "cell_type": "code",
   "execution_count": 25,
   "metadata": {},
   "outputs": [
    {
     "name": "stdout",
     "output_type": "stream",
     "text": [
      "Средний запас предсказанного сырья в 1 регионе: 92.99989216855128\n",
      "RMSE модели: 37.70274696966289\n",
      "\n",
      "Средний запас предсказанного сырья во 2 регионе: 68.90262191309118\n",
      "RMSE модели: 0.8905400869521801\n",
      "\n",
      "Средний запас предсказанного сырья в 3 регионе: 95.01673763271201\n",
      "RMSE модели: 40.015930218197234\n"
     ]
    }
   ],
   "source": [
    "print('Средний запас предсказанного сырья в 1 регионе:', y_pred_0.mean())\n",
    "print('RMSE модели:', rmse_0)\n",
    "print()\n",
    "print('Средний запас предсказанного сырья во 2 регионе:', y_pred_1.mean())\n",
    "print('RMSE модели:', rmse_1)\n",
    "print()\n",
    "print('Средний запас предсказанного сырья в 3 регионе:', y_pred_2.mean())\n",
    "print('RMSE модели:', rmse_2)"
   ]
  },
  {
   "cell_type": "markdown",
   "metadata": {},
   "source": [
    "### Вывод"
   ]
  },
  {
   "cell_type": "markdown",
   "metadata": {},
   "source": [
    "Хуже всего обстоят дела во 2 регионе: средний запас предсказанного сырья в скважине составляет 68.9 тысяч баррелей. При этом уровень точности модели достаточно высок и RMSE составляет меньше 1. \n",
    "\n",
    "В 1 и 3 же регионе дела куда лучше: средний запас предсказанного сырья в скважине составляет 93 и 95 тысяч баррелей соотвественно. При этом RMSE уже гораздо выше: около 38 в 1 регионе, и около 40 в 3. То есть могут быть скважины, где переваливает за 100 баррелей, но есть и такие, где объем нефти будет порядка 60. Но даже такой низкий объем сопоставим со значениями во 2 регионе. Поэтому имеет смысл рассматривать 1 и 3 регионы для добычи нефти. \n",
    "\n",
    "Но так как нам нужно выбрать лишь 1 регион, то логично выбрать регион с наибольшим средним, т.е. 3 регион."
   ]
  },
  {
   "cell_type": "markdown",
   "metadata": {},
   "source": [
    "## Подготовка к расчёту прибыли"
   ]
  },
  {
   "cell_type": "markdown",
   "metadata": {},
   "source": [
    "Запишем все ключевые значения в отдельных переменных. А именно: количество скважен для измерений - 500 штук, количество лучших скважин для дальнейшей разработки - 200 штук. Бюджет, выделенный на разработку - 10 млрд. рублей. И доход с каждый единицы (тыс. баррелей) продукта - 450000 рублей."
   ]
  },
  {
   "cell_type": "code",
   "execution_count": 26,
   "metadata": {},
   "outputs": [],
   "source": [
    "N_WELLS = 500\n",
    "N_BEST_WELLS = 200\n",
    "BUDGET = 10_000_000_000\n",
    "REVENUE_PER_BARREL = 450_000"
   ]
  },
  {
   "cell_type": "markdown",
   "metadata": {},
   "source": [
    "Так как мы знаем выделенных бюджет и количество скважин, которые будем разрабатывать, можем посчитать затраты на 1 скважину"
   ]
  },
  {
   "cell_type": "code",
   "execution_count": 27,
   "metadata": {},
   "outputs": [
    {
     "name": "stdout",
     "output_type": "stream",
     "text": [
      "Затраты на одну скважину: 50.0 млн. рублей\n"
     ]
    }
   ],
   "source": [
    "cost_per_well = BUDGET / N_BEST_WELLS\n",
    "print(f'Затраты на одну скважину: {cost_per_well / 1000000} млн. рублей')"
   ]
  },
  {
   "cell_type": "markdown",
   "metadata": {},
   "source": [
    "Так как нам известна стоимость единицы продукции, то мы можем посчитать, какое количество единиц нам нужно добыть, чтобы разработка скважины не ушла в минус."
   ]
  },
  {
   "cell_type": "code",
   "execution_count": 28,
   "metadata": {},
   "outputs": [
    {
     "name": "stdout",
     "output_type": "stream",
     "text": [
      "Достаточный объем сырья для безубыточной разработки: 111.11 тыс. баррелей\n"
     ]
    }
   ],
   "source": [
    "print(f'Достаточный объем сырья для безубыточной разработки: {round(cost_per_well / REVENUE_PER_BARREL, 2)} тыс. баррелей')"
   ]
  },
  {
   "cell_type": "markdown",
   "metadata": {},
   "source": [
    "Теперь посмотрим, каков средний запас нефти в скважинах в каждом из регионов."
   ]
  },
  {
   "cell_type": "code",
   "execution_count": 29,
   "metadata": {},
   "outputs": [
    {
     "name": "stdout",
     "output_type": "stream",
     "text": [
      "Средний запас нефти (в тыс. баррелей) в каждом регионе (92.49948184460142, 68.82523184270339, 95.00042479767433)\n"
     ]
    }
   ],
   "source": [
    "print(f\"Средний запас нефти (в тыс. баррелей) в каждом регионе {geo_data_0['product'].mean(), geo_data_1['product'].mean(), geo_data_2['product'].mean()}\")"
   ]
  },
  {
   "cell_type": "markdown",
   "metadata": {},
   "source": [
    "### Вывод"
   ]
  },
  {
   "cell_type": "markdown",
   "metadata": {},
   "source": [
    "Для безубыточной разработки с одной скважины нужно добыть минимум 111.11 тыс. баррелей. Среднее же по регионам составляет 92, 69 и 95 тыс. баррелей соответсвенно. Поэтому для безубыточного производста произвольные скважины нам не подойдут, нужно отбирать самые лучшие."
   ]
  },
  {
   "cell_type": "markdown",
   "metadata": {},
   "source": [
    "## Расчёт прибыли и рисков "
   ]
  },
  {
   "cell_type": "markdown",
   "metadata": {},
   "source": [
    "### Расчет прибыли"
   ]
  },
  {
   "cell_type": "markdown",
   "metadata": {},
   "source": [
    "Отберем по 200 лучших скважин из каждого региона, и посмотрим среднее значение объема нефти."
   ]
  },
  {
   "cell_type": "code",
   "execution_count": 30,
   "metadata": {},
   "outputs": [
    {
     "name": "stdout",
     "output_type": "stream",
     "text": [
      "Средний объем 200 лучших скважин 1 региона 161.6 тыс. баррелей\n",
      "Средний объем 200 лучших скважин 2 региона 139.09 тыс. баррелей\n",
      "Средний объем 200 лучших скважин 3 региона 153.62 тыс. баррелей\n"
     ]
    }
   ],
   "source": [
    "best_wells_0 = pd.Series(y_pred_0).sort_values(ascending=False)[:200]\n",
    "best_wells_1 = pd.Series(y_pred_1).sort_values(ascending=False)[:200]\n",
    "best_wells_2 = pd.Series(y_pred_2).sort_values(ascending=False)[:200]\n",
    "best_wells_0.mean()\n",
    "print(f'Средний объем 200 лучших скважин 1 региона {round(best_wells_0.mean(), 2)} тыс. баррелей')\n",
    "print(f'Средний объем 200 лучших скважин 2 региона {round(best_wells_1.mean(), 2)} тыс. баррелей')\n",
    "print(f'Средний объем 200 лучших скважин 3 региона {round(best_wells_2.mean(), 2)} тыс. баррелей')"
   ]
  },
  {
   "cell_type": "markdown",
   "metadata": {},
   "source": [
    "Получается, что если брать 200 лучших скважин из каждого региона, то все они принесут прибыль, так как их средний объем привышает 111.11 тыс. баррелей. Теперь расчитаем суммарный объем этих скважин в каждом из регионов."
   ]
  },
  {
   "cell_type": "code",
   "execution_count": 31,
   "metadata": {
    "scrolled": true
   },
   "outputs": [
    {
     "name": "stdout",
     "output_type": "stream",
     "text": [
      "Суммарный объем 200 лучших скважин 1 региона 32319.6 тыс. баррелей\n",
      "Суммарный объем 200 лучших скважин 2 региона 27817.99 тыс. баррелей\n",
      "Суммарный объем 200 лучших скважин 3 региона 30723.94 тыс. баррелей\n"
     ]
    }
   ],
   "source": [
    "print(f'Суммарный объем 200 лучших скважин 1 региона {round(best_wells_0.sum(), 2)} тыс. баррелей')\n",
    "print(f'Суммарный объем 200 лучших скважин 2 региона {round(best_wells_1.sum(), 2)} тыс. баррелей')\n",
    "print(f'Суммарный объем 200 лучших скважин 3 региона {round(best_wells_2.sum(), 2)} тыс. баррелей')"
   ]
  },
  {
   "cell_type": "markdown",
   "metadata": {},
   "source": [
    "Теперь рассчитаем, какую прибыль нам принесет каждый регион. Для этого посчитаем доходы и расходы. Расходы - это 10 млрд. рублей на разработку. А доходы - это вся вырученная нефть по стоимости в 450 тыс. рублей за единицу измерения."
   ]
  },
  {
   "cell_type": "code",
   "execution_count": 32,
   "metadata": {},
   "outputs": [
    {
     "name": "stdout",
     "output_type": "stream",
     "text": [
      "Возможная прибыль в 1 регионе: 4543.82 млн. рублей\n",
      "Возможная прибыль во 2 регионе: 2518.09 млн. рублей\n",
      "Возможная прибыль в 3 регионе: 3825.77 млн. рублей\n"
     ]
    }
   ],
   "source": [
    "profit_0 = best_wells_0.sum() * REVENUE_PER_BARREL - BUDGET\n",
    "profit_1 = best_wells_1.sum() * REVENUE_PER_BARREL - BUDGET\n",
    "profit_2 = best_wells_2.sum() * REVENUE_PER_BARREL - BUDGET\n",
    "print(f'Возможная прибыль в 1 регионе: {round(profit_0 / 1000000, 2)} млн. рублей')\n",
    "print(f'Возможная прибыль во 2 регионе: {round(profit_1 / 1000000, 2)} млн. рублей')\n",
    "print(f'Возможная прибыль в 3 регионе: {round(profit_2 / 1000000, 2)} млн. рублей')"
   ]
  },
  {
   "cell_type": "markdown",
   "metadata": {},
   "source": [
    "### Расчет рисков"
   ]
  },
  {
   "cell_type": "markdown",
   "metadata": {},
   "source": [
    "Напишем функцию для расчета распределения прибыли. Мы можем взять на анализ 500 точек и выбрать из них 200 лучших.\n",
    "Будем использовать bootstrap с 1000 повторений для расчетов. Каждый раз мы будем брать 500 точек, находить 200 лучших (по предсказанным значениям) и считать нашу прибыль (но уже по заведомо известным значениям). И потом посмотрим, какая средняя прибыль получилась. А также найдем 95% доверительный интервал и риск убытков. Риск убытков - это отношение количества исходов с отрицательной прибылью к общему количеству исходов (1000 шт.), выраженное в процентах. С помощью функции исследуем все 3 региона."
   ]
  },
  {
   "cell_type": "code",
   "execution_count": 33,
   "metadata": {},
   "outputs": [],
   "source": [
    "def profit(df_pred):   \n",
    "    state = np.random.RandomState(12345)\n",
    "    values = []\n",
    "    loss = 0\n",
    "    for i in range(1000):\n",
    "        #создаем выборку предсказанных значений размером N_WELLS\n",
    "        subsample = df_pred['y_pred'].sample(n=N_WELLS, replace=True, random_state=state)\n",
    "        #сортируем значения по убыванию и берем 200 самых больших значений\n",
    "        subsample_200 = subsample.sort_values(ascending=False)[:200]\n",
    "        #находим настоящие значения выбраных скважин. для этого берем индексы предсказаний и соотносим их с реальными значениями.\n",
    "        true_values = df_pred['product'][subsample_200.index]\n",
    "        #считаем прибыль\n",
    "        revenue = true_values.sum() * REVENUE_PER_BARREL - BUDGET\n",
    "        values.append(revenue / 1000000)\n",
    "\n",
    "    values = pd.Series(values)\n",
    "    loss = len(values[values < 0]) / len(values)\n",
    "    lower = values.quantile(0.025)\n",
    "    higher = values.quantile(0.975)\n",
    "\n",
    "    mean = values.mean()\n",
    "    print(f'Средняя выручка: {round(mean, 2)} млн. рублей')\n",
    "    print(f'95%-й доверительный интервал: от {round(lower, 2)} млн. рублей до {round(higher, 2)} млн. рублей')\n",
    "    print(f'Риск убытков: {round(loss*100, 2)}%')"
   ]
  },
  {
   "cell_type": "markdown",
   "metadata": {},
   "source": [
    "Применим функцию к каждому из регионов"
   ]
  },
  {
   "cell_type": "code",
   "execution_count": 34,
   "metadata": {},
   "outputs": [
    {
     "name": "stdout",
     "output_type": "stream",
     "text": [
      "1 регион\n",
      "\n",
      "Средняя выручка: 409.08 млн. рублей\n",
      "95%-й доверительный интервал: от -134.18 млн. рублей до 887.57 млн. рублей\n",
      "Риск убытков: 5.9%\n"
     ]
    }
   ],
   "source": [
    "print('1 регион')\n",
    "print()\n",
    "profit(df_pred_0)"
   ]
  },
  {
   "cell_type": "code",
   "execution_count": 35,
   "metadata": {},
   "outputs": [
    {
     "name": "stdout",
     "output_type": "stream",
     "text": [
      "2 регион\n",
      "\n",
      "Средняя выручка: 454.6 млн. рублей\n",
      "95%-й доверительный интервал: от 48.18 млн. рублей до 843.8 млн. рублей\n",
      "Риск убытков: 1.1%\n"
     ]
    }
   ],
   "source": [
    "print('2 регион')\n",
    "print()\n",
    "profit(df_pred_1)"
   ]
  },
  {
   "cell_type": "code",
   "execution_count": 36,
   "metadata": {},
   "outputs": [
    {
     "name": "stdout",
     "output_type": "stream",
     "text": [
      "3 регион\n",
      "\n",
      "Средняя выручка: 381.19 млн. рублей\n",
      "95%-й доверительный интервал: от -136.45 млн. рублей до 908.52 млн. рублей\n",
      "Риск убытков: 7.9%\n"
     ]
    }
   ],
   "source": [
    "print('3 регион')\n",
    "print()\n",
    "profit(df_pred_2)"
   ]
  },
  {
   "cell_type": "markdown",
   "metadata": {},
   "source": [
    "### Вывод"
   ]
  },
  {
   "cell_type": "markdown",
   "metadata": {},
   "source": [
    "Несмотря на наименьший средний объем нефти в скважинах (около 69 тыс. баррелей) во 2 регионе, наибольшая средняя выручка получается именно в нем. Она составляет 454.6 млн. рублей. При этом вероятность получить убытки составляет 1.1%. \n",
    "\n",
    "Наименьшая средняя выручка получилась в 3 регионе, она составляет 381.19 млн. рублей. А риск убытков - 7.9%.\n",
    "\n",
    "В 1 регионе средняя выручка равна 409.08 млн. рублей, а риск убытков 5.9%.\n",
    "\n",
    "Мне кажется, что для разработки нужно использовать 2 регион. В нем самая большая средняя выручка, при этом самый низкий риск убытков в 5-8 раз меньше, чем в других регионах. Верхняя граница доверительного интервала у него самая низкая из всех регионов, но при этом нижняя граница - положительная в отличии от других регионов. То есть это регион самый безопасный, что касается рисков, при этом по прибыли он самый высокий."
   ]
  }
 ],
 "metadata": {
  "ExecuteTimeLog": [
   {
    "duration": 412,
    "start_time": "2025-01-10T14:29:59.888Z"
   },
   {
    "duration": 68,
    "start_time": "2025-01-10T14:33:36.520Z"
   },
   {
    "duration": 773,
    "start_time": "2025-01-10T14:34:32.393Z"
   },
   {
    "duration": 19,
    "start_time": "2025-01-10T14:41:18.723Z"
   },
   {
    "duration": 44,
    "start_time": "2025-01-10T14:41:44.012Z"
   },
   {
    "duration": 11,
    "start_time": "2025-01-10T14:41:47.819Z"
   },
   {
    "duration": 3,
    "start_time": "2025-01-10T14:50:48.599Z"
   },
   {
    "duration": 352,
    "start_time": "2025-01-10T14:50:49.110Z"
   },
   {
    "duration": 9,
    "start_time": "2025-01-10T14:51:40.103Z"
   },
   {
    "duration": 8,
    "start_time": "2025-01-10T14:51:40.814Z"
   },
   {
    "duration": 9,
    "start_time": "2025-01-10T14:51:41.246Z"
   },
   {
    "duration": 10,
    "start_time": "2025-01-10T14:59:30.034Z"
   },
   {
    "duration": 15,
    "start_time": "2025-01-10T15:00:10.986Z"
   },
   {
    "duration": 10,
    "start_time": "2025-01-10T15:00:11.353Z"
   },
   {
    "duration": 10,
    "start_time": "2025-01-10T15:00:11.753Z"
   },
   {
    "duration": 2,
    "start_time": "2025-01-10T15:01:45.166Z"
   },
   {
    "duration": 380,
    "start_time": "2025-01-10T15:01:45.170Z"
   },
   {
    "duration": 15,
    "start_time": "2025-01-10T15:01:45.552Z"
   },
   {
    "duration": 26,
    "start_time": "2025-01-10T15:01:45.568Z"
   },
   {
    "duration": 89,
    "start_time": "2025-01-10T15:01:45.597Z"
   },
   {
    "duration": 8,
    "start_time": "2025-01-10T15:01:45.688Z"
   },
   {
    "duration": 31,
    "start_time": "2025-01-10T15:01:45.698Z"
   },
   {
    "duration": 18,
    "start_time": "2025-01-10T15:01:45.730Z"
   },
   {
    "duration": 66,
    "start_time": "2025-01-10T15:01:45.750Z"
   },
   {
    "duration": 0,
    "start_time": "2025-01-10T15:01:45.818Z"
   },
   {
    "duration": 0,
    "start_time": "2025-01-10T15:01:45.819Z"
   },
   {
    "duration": 0,
    "start_time": "2025-01-10T15:01:45.820Z"
   },
   {
    "duration": 0,
    "start_time": "2025-01-10T15:01:45.821Z"
   },
   {
    "duration": 10,
    "start_time": "2025-01-10T15:03:55.403Z"
   },
   {
    "duration": 10,
    "start_time": "2025-01-10T15:03:55.810Z"
   },
   {
    "duration": 10,
    "start_time": "2025-01-10T15:03:56.202Z"
   },
   {
    "duration": 44,
    "start_time": "2025-01-10T15:06:36.044Z"
   },
   {
    "duration": 40,
    "start_time": "2025-01-10T15:06:36.691Z"
   },
   {
    "duration": 40,
    "start_time": "2025-01-10T15:06:37.116Z"
   },
   {
    "duration": 71,
    "start_time": "2025-01-10T15:06:51.708Z"
   },
   {
    "duration": 397,
    "start_time": "2025-01-10T20:29:14.263Z"
   },
   {
    "duration": 460,
    "start_time": "2025-01-10T20:29:14.662Z"
   },
   {
    "duration": 21,
    "start_time": "2025-01-10T20:29:15.124Z"
   },
   {
    "duration": 35,
    "start_time": "2025-01-10T20:29:15.146Z"
   },
   {
    "duration": 36,
    "start_time": "2025-01-10T20:29:15.183Z"
   },
   {
    "duration": 22,
    "start_time": "2025-01-10T20:29:15.221Z"
   },
   {
    "duration": 27,
    "start_time": "2025-01-10T20:29:15.245Z"
   },
   {
    "duration": 15,
    "start_time": "2025-01-10T20:29:15.274Z"
   },
   {
    "duration": 39,
    "start_time": "2025-01-10T20:29:15.291Z"
   },
   {
    "duration": 15,
    "start_time": "2025-01-10T20:29:15.332Z"
   },
   {
    "duration": 15,
    "start_time": "2025-01-10T20:29:15.349Z"
   },
   {
    "duration": 80,
    "start_time": "2025-01-10T20:29:15.366Z"
   },
   {
    "duration": 0,
    "start_time": "2025-01-10T20:29:15.447Z"
   },
   {
    "duration": 0,
    "start_time": "2025-01-10T20:29:15.449Z"
   },
   {
    "duration": 0,
    "start_time": "2025-01-10T20:29:15.450Z"
   },
   {
    "duration": 0,
    "start_time": "2025-01-10T20:29:15.450Z"
   },
   {
    "duration": 70,
    "start_time": "2025-01-10T20:29:54.527Z"
   },
   {
    "duration": 35,
    "start_time": "2025-01-10T20:30:41.835Z"
   },
   {
    "duration": 14,
    "start_time": "2025-01-10T20:30:54.378Z"
   },
   {
    "duration": 45,
    "start_time": "2025-01-10T20:31:08.947Z"
   },
   {
    "duration": 46,
    "start_time": "2025-01-10T20:31:11.592Z"
   },
   {
    "duration": 13,
    "start_time": "2025-01-10T20:31:18.184Z"
   },
   {
    "duration": 36,
    "start_time": "2025-01-10T20:31:34.194Z"
   },
   {
    "duration": 50,
    "start_time": "2025-01-10T20:31:42.350Z"
   },
   {
    "duration": 38,
    "start_time": "2025-01-10T20:31:45.634Z"
   },
   {
    "duration": 52,
    "start_time": "2025-01-10T20:31:46.040Z"
   },
   {
    "duration": 3,
    "start_time": "2025-01-10T20:32:21.119Z"
   },
   {
    "duration": 419,
    "start_time": "2025-01-10T20:32:21.124Z"
   },
   {
    "duration": 17,
    "start_time": "2025-01-10T20:32:21.546Z"
   },
   {
    "duration": 16,
    "start_time": "2025-01-10T20:32:21.566Z"
   },
   {
    "duration": 20,
    "start_time": "2025-01-10T20:32:21.585Z"
   },
   {
    "duration": 38,
    "start_time": "2025-01-10T20:32:21.606Z"
   },
   {
    "duration": 16,
    "start_time": "2025-01-10T20:32:21.646Z"
   },
   {
    "duration": 26,
    "start_time": "2025-01-10T20:32:21.664Z"
   },
   {
    "duration": 18,
    "start_time": "2025-01-10T20:32:21.692Z"
   },
   {
    "duration": 34,
    "start_time": "2025-01-10T20:32:21.711Z"
   },
   {
    "duration": 23,
    "start_time": "2025-01-10T20:32:21.748Z"
   },
   {
    "duration": 131,
    "start_time": "2025-01-10T20:32:21.773Z"
   },
   {
    "duration": 0,
    "start_time": "2025-01-10T20:32:21.906Z"
   },
   {
    "duration": 0,
    "start_time": "2025-01-10T20:32:21.907Z"
   },
   {
    "duration": 0,
    "start_time": "2025-01-10T20:32:21.908Z"
   },
   {
    "duration": 0,
    "start_time": "2025-01-10T20:32:21.909Z"
   },
   {
    "duration": 393,
    "start_time": "2025-01-10T20:32:40.155Z"
   },
   {
    "duration": 379,
    "start_time": "2025-01-10T20:32:40.550Z"
   },
   {
    "duration": 15,
    "start_time": "2025-01-10T20:32:40.931Z"
   },
   {
    "duration": 15,
    "start_time": "2025-01-10T20:32:40.948Z"
   },
   {
    "duration": 13,
    "start_time": "2025-01-10T20:32:40.965Z"
   },
   {
    "duration": 9,
    "start_time": "2025-01-10T20:32:40.980Z"
   },
   {
    "duration": 46,
    "start_time": "2025-01-10T20:32:40.991Z"
   },
   {
    "duration": 9,
    "start_time": "2025-01-10T20:32:41.039Z"
   },
   {
    "duration": 16,
    "start_time": "2025-01-10T20:32:41.049Z"
   },
   {
    "duration": 10,
    "start_time": "2025-01-10T20:32:41.067Z"
   },
   {
    "duration": 14,
    "start_time": "2025-01-10T20:32:41.078Z"
   },
   {
    "duration": 66,
    "start_time": "2025-01-10T20:32:41.094Z"
   },
   {
    "duration": 48,
    "start_time": "2025-01-10T20:32:41.161Z"
   },
   {
    "duration": 61,
    "start_time": "2025-01-10T20:32:41.210Z"
   },
   {
    "duration": 12,
    "start_time": "2025-01-10T20:32:41.273Z"
   },
   {
    "duration": 750,
    "start_time": "2025-01-10T20:35:48.188Z"
   },
   {
    "duration": 3,
    "start_time": "2025-01-10T20:38:04.586Z"
   },
   {
    "duration": 28,
    "start_time": "2025-01-10T20:52:03.863Z"
   },
   {
    "duration": 25,
    "start_time": "2025-01-10T20:52:19.510Z"
   },
   {
    "duration": 24,
    "start_time": "2025-01-10T20:52:20.100Z"
   },
   {
    "duration": 97,
    "start_time": "2025-01-10T20:54:05.946Z"
   },
   {
    "duration": 0,
    "start_time": "2025-01-10T20:54:06.045Z"
   },
   {
    "duration": 0,
    "start_time": "2025-01-10T20:54:06.046Z"
   },
   {
    "duration": 0,
    "start_time": "2025-01-10T20:54:06.048Z"
   },
   {
    "duration": 0,
    "start_time": "2025-01-10T20:54:06.049Z"
   },
   {
    "duration": 0,
    "start_time": "2025-01-10T20:54:06.050Z"
   },
   {
    "duration": 0,
    "start_time": "2025-01-10T20:54:06.051Z"
   },
   {
    "duration": 0,
    "start_time": "2025-01-10T20:54:06.052Z"
   },
   {
    "duration": 0,
    "start_time": "2025-01-10T20:54:06.053Z"
   },
   {
    "duration": 0,
    "start_time": "2025-01-10T20:54:06.054Z"
   },
   {
    "duration": 0,
    "start_time": "2025-01-10T20:54:06.055Z"
   },
   {
    "duration": 0,
    "start_time": "2025-01-10T20:54:06.056Z"
   },
   {
    "duration": 0,
    "start_time": "2025-01-10T20:54:06.057Z"
   },
   {
    "duration": 0,
    "start_time": "2025-01-10T20:54:06.058Z"
   },
   {
    "duration": 0,
    "start_time": "2025-01-10T20:54:06.059Z"
   },
   {
    "duration": 0,
    "start_time": "2025-01-10T20:54:06.060Z"
   },
   {
    "duration": 0,
    "start_time": "2025-01-10T20:54:06.061Z"
   },
   {
    "duration": 0,
    "start_time": "2025-01-10T20:54:06.062Z"
   },
   {
    "duration": 0,
    "start_time": "2025-01-10T20:54:06.063Z"
   },
   {
    "duration": 0,
    "start_time": "2025-01-10T20:54:06.064Z"
   },
   {
    "duration": 3,
    "start_time": "2025-01-10T20:54:22.553Z"
   },
   {
    "duration": 394,
    "start_time": "2025-01-10T20:54:22.558Z"
   },
   {
    "duration": 14,
    "start_time": "2025-01-10T20:54:22.953Z"
   },
   {
    "duration": 18,
    "start_time": "2025-01-10T20:54:22.968Z"
   },
   {
    "duration": 24,
    "start_time": "2025-01-10T20:54:22.988Z"
   },
   {
    "duration": 10,
    "start_time": "2025-01-10T20:54:23.013Z"
   },
   {
    "duration": 22,
    "start_time": "2025-01-10T20:54:23.024Z"
   },
   {
    "duration": 9,
    "start_time": "2025-01-10T20:54:23.047Z"
   },
   {
    "duration": 18,
    "start_time": "2025-01-10T20:54:23.058Z"
   },
   {
    "duration": 19,
    "start_time": "2025-01-10T20:54:23.077Z"
   },
   {
    "duration": 10,
    "start_time": "2025-01-10T20:54:23.097Z"
   },
   {
    "duration": 63,
    "start_time": "2025-01-10T20:54:23.108Z"
   },
   {
    "duration": 44,
    "start_time": "2025-01-10T20:54:23.173Z"
   },
   {
    "duration": 59,
    "start_time": "2025-01-10T20:54:23.220Z"
   },
   {
    "duration": 19,
    "start_time": "2025-01-10T20:54:23.281Z"
   },
   {
    "duration": 42,
    "start_time": "2025-01-10T20:54:23.301Z"
   },
   {
    "duration": 19,
    "start_time": "2025-01-10T20:54:23.344Z"
   },
   {
    "duration": 89,
    "start_time": "2025-01-10T20:54:23.365Z"
   },
   {
    "duration": 10,
    "start_time": "2025-01-10T20:54:23.455Z"
   },
   {
    "duration": 0,
    "start_time": "2025-01-10T20:54:23.466Z"
   },
   {
    "duration": 26,
    "start_time": "2025-01-10T20:54:35.012Z"
   },
   {
    "duration": 3,
    "start_time": "2025-01-10T20:55:08.217Z"
   },
   {
    "duration": 421,
    "start_time": "2025-01-10T20:55:08.223Z"
   },
   {
    "duration": 17,
    "start_time": "2025-01-10T20:55:08.646Z"
   },
   {
    "duration": 10,
    "start_time": "2025-01-10T20:55:08.666Z"
   },
   {
    "duration": 56,
    "start_time": "2025-01-10T20:55:08.678Z"
   },
   {
    "duration": 25,
    "start_time": "2025-01-10T20:55:08.736Z"
   },
   {
    "duration": 18,
    "start_time": "2025-01-10T20:55:08.762Z"
   },
   {
    "duration": 8,
    "start_time": "2025-01-10T20:55:08.782Z"
   },
   {
    "duration": 17,
    "start_time": "2025-01-10T20:55:08.792Z"
   },
   {
    "duration": 9,
    "start_time": "2025-01-10T20:55:08.813Z"
   },
   {
    "duration": 21,
    "start_time": "2025-01-10T20:55:08.824Z"
   },
   {
    "duration": 43,
    "start_time": "2025-01-10T20:55:08.847Z"
   },
   {
    "duration": 61,
    "start_time": "2025-01-10T20:55:08.892Z"
   },
   {
    "duration": 41,
    "start_time": "2025-01-10T20:55:08.955Z"
   },
   {
    "duration": 20,
    "start_time": "2025-01-10T20:55:08.997Z"
   },
   {
    "duration": 20,
    "start_time": "2025-01-10T20:55:09.037Z"
   },
   {
    "duration": 19,
    "start_time": "2025-01-10T20:55:09.058Z"
   },
   {
    "duration": 81,
    "start_time": "2025-01-10T20:55:09.079Z"
   },
   {
    "duration": 10,
    "start_time": "2025-01-10T20:55:09.161Z"
   },
   {
    "duration": 0,
    "start_time": "2025-01-10T20:55:09.172Z"
   },
   {
    "duration": 3,
    "start_time": "2025-01-10T21:02:43.178Z"
   },
   {
    "duration": 10,
    "start_time": "2025-01-10T21:05:57.083Z"
   },
   {
    "duration": 11,
    "start_time": "2025-01-10T21:06:21.429Z"
   },
   {
    "duration": 4,
    "start_time": "2025-01-10T21:06:46.531Z"
   },
   {
    "duration": 3,
    "start_time": "2025-01-10T21:06:49.088Z"
   },
   {
    "duration": 396,
    "start_time": "2025-01-10T21:06:49.093Z"
   },
   {
    "duration": 15,
    "start_time": "2025-01-10T21:06:49.491Z"
   },
   {
    "duration": 10,
    "start_time": "2025-01-10T21:06:49.507Z"
   },
   {
    "duration": 24,
    "start_time": "2025-01-10T21:06:49.539Z"
   },
   {
    "duration": 19,
    "start_time": "2025-01-10T21:06:49.566Z"
   },
   {
    "duration": 24,
    "start_time": "2025-01-10T21:06:49.587Z"
   },
   {
    "duration": 34,
    "start_time": "2025-01-10T21:06:49.613Z"
   },
   {
    "duration": 11,
    "start_time": "2025-01-10T21:06:49.649Z"
   },
   {
    "duration": 10,
    "start_time": "2025-01-10T21:06:49.662Z"
   },
   {
    "duration": 12,
    "start_time": "2025-01-10T21:06:49.674Z"
   },
   {
    "duration": 73,
    "start_time": "2025-01-10T21:06:49.687Z"
   },
   {
    "duration": 43,
    "start_time": "2025-01-10T21:06:49.762Z"
   },
   {
    "duration": 54,
    "start_time": "2025-01-10T21:06:49.808Z"
   },
   {
    "duration": 21,
    "start_time": "2025-01-10T21:06:49.863Z"
   },
   {
    "duration": 19,
    "start_time": "2025-01-10T21:06:49.886Z"
   },
   {
    "duration": 45,
    "start_time": "2025-01-10T21:06:49.907Z"
   },
   {
    "duration": 64,
    "start_time": "2025-01-10T21:06:49.954Z"
   },
   {
    "duration": 32,
    "start_time": "2025-01-10T21:06:50.020Z"
   },
   {
    "duration": 15,
    "start_time": "2025-01-10T21:06:50.053Z"
   },
   {
    "duration": 23,
    "start_time": "2025-01-10T21:07:11.459Z"
   },
   {
    "duration": 18,
    "start_time": "2025-01-10T21:10:11.846Z"
   },
   {
    "duration": 15,
    "start_time": "2025-01-10T21:10:19.867Z"
   },
   {
    "duration": 8,
    "start_time": "2025-01-10T21:10:33.856Z"
   },
   {
    "duration": 12,
    "start_time": "2025-01-10T21:10:35.053Z"
   },
   {
    "duration": 3,
    "start_time": "2025-01-10T21:10:58.720Z"
   },
   {
    "duration": 408,
    "start_time": "2025-01-10T21:10:58.726Z"
   },
   {
    "duration": 21,
    "start_time": "2025-01-10T21:10:59.137Z"
   },
   {
    "duration": 10,
    "start_time": "2025-01-10T21:10:59.160Z"
   },
   {
    "duration": 17,
    "start_time": "2025-01-10T21:10:59.172Z"
   },
   {
    "duration": 10,
    "start_time": "2025-01-10T21:10:59.190Z"
   },
   {
    "duration": 44,
    "start_time": "2025-01-10T21:10:59.202Z"
   },
   {
    "duration": 9,
    "start_time": "2025-01-10T21:10:59.248Z"
   },
   {
    "duration": 15,
    "start_time": "2025-01-10T21:10:59.260Z"
   },
   {
    "duration": 11,
    "start_time": "2025-01-10T21:10:59.276Z"
   },
   {
    "duration": 14,
    "start_time": "2025-01-10T21:10:59.288Z"
   },
   {
    "duration": 68,
    "start_time": "2025-01-10T21:10:59.303Z"
   },
   {
    "duration": 45,
    "start_time": "2025-01-10T21:10:59.373Z"
   },
   {
    "duration": 57,
    "start_time": "2025-01-10T21:10:59.419Z"
   },
   {
    "duration": 34,
    "start_time": "2025-01-10T21:10:59.477Z"
   },
   {
    "duration": 27,
    "start_time": "2025-01-10T21:10:59.513Z"
   },
   {
    "duration": 20,
    "start_time": "2025-01-10T21:10:59.541Z"
   },
   {
    "duration": 74,
    "start_time": "2025-01-10T21:10:59.563Z"
   },
   {
    "duration": 10,
    "start_time": "2025-01-10T21:10:59.639Z"
   },
   {
    "duration": 52,
    "start_time": "2025-01-10T21:10:59.650Z"
   },
   {
    "duration": 8,
    "start_time": "2025-01-10T21:10:59.704Z"
   },
   {
    "duration": 32,
    "start_time": "2025-01-10T21:12:34.265Z"
   },
   {
    "duration": 8,
    "start_time": "2025-01-10T21:12:35.222Z"
   },
   {
    "duration": 12,
    "start_time": "2025-01-10T21:13:05.543Z"
   },
   {
    "duration": 11,
    "start_time": "2025-01-10T21:18:48.443Z"
   },
   {
    "duration": 9,
    "start_time": "2025-01-10T21:18:52.079Z"
   },
   {
    "duration": 18,
    "start_time": "2025-01-10T21:18:52.732Z"
   },
   {
    "duration": 5,
    "start_time": "2025-01-10T21:18:58.727Z"
   },
   {
    "duration": 3,
    "start_time": "2025-01-10T21:25:49.462Z"
   },
   {
    "duration": 3,
    "start_time": "2025-01-10T21:27:18.945Z"
   },
   {
    "duration": 165,
    "start_time": "2025-01-10T21:27:47.473Z"
   },
   {
    "duration": 8,
    "start_time": "2025-01-10T21:27:51.142Z"
   },
   {
    "duration": 5,
    "start_time": "2025-01-10T21:28:01.291Z"
   },
   {
    "duration": 3,
    "start_time": "2025-01-10T21:28:20.203Z"
   },
   {
    "duration": 517,
    "start_time": "2025-01-10T21:28:53.728Z"
   },
   {
    "duration": 5,
    "start_time": "2025-01-10T21:29:03.886Z"
   },
   {
    "duration": 1095,
    "start_time": "2025-01-10T21:29:26.946Z"
   },
   {
    "duration": 436,
    "start_time": "2025-01-10T21:29:28.042Z"
   },
   {
    "duration": 19,
    "start_time": "2025-01-10T21:29:28.480Z"
   },
   {
    "duration": 18,
    "start_time": "2025-01-10T21:29:28.501Z"
   },
   {
    "duration": 15,
    "start_time": "2025-01-10T21:29:28.538Z"
   },
   {
    "duration": 9,
    "start_time": "2025-01-10T21:29:28.555Z"
   },
   {
    "duration": 15,
    "start_time": "2025-01-10T21:29:28.566Z"
   },
   {
    "duration": 9,
    "start_time": "2025-01-10T21:29:28.582Z"
   },
   {
    "duration": 24,
    "start_time": "2025-01-10T21:29:28.593Z"
   },
   {
    "duration": 11,
    "start_time": "2025-01-10T21:29:28.636Z"
   },
   {
    "duration": 11,
    "start_time": "2025-01-10T21:29:28.649Z"
   },
   {
    "duration": 50,
    "start_time": "2025-01-10T21:29:28.661Z"
   },
   {
    "duration": 67,
    "start_time": "2025-01-10T21:29:28.713Z"
   },
   {
    "duration": 60,
    "start_time": "2025-01-10T21:29:28.781Z"
   },
   {
    "duration": 21,
    "start_time": "2025-01-10T21:29:28.842Z"
   },
   {
    "duration": 22,
    "start_time": "2025-01-10T21:29:28.864Z"
   },
   {
    "duration": 21,
    "start_time": "2025-01-10T21:29:28.888Z"
   },
   {
    "duration": 91,
    "start_time": "2025-01-10T21:29:28.910Z"
   },
   {
    "duration": 10,
    "start_time": "2025-01-10T21:29:29.003Z"
   },
   {
    "duration": 3,
    "start_time": "2025-01-10T21:29:29.015Z"
   },
   {
    "duration": 600,
    "start_time": "2025-01-10T21:29:29.037Z"
   },
   {
    "duration": 4,
    "start_time": "2025-01-10T21:29:29.639Z"
   },
   {
    "duration": 3,
    "start_time": "2025-01-10T21:29:43.835Z"
   },
   {
    "duration": 4,
    "start_time": "2025-01-10T21:31:18.385Z"
   },
   {
    "duration": 631,
    "start_time": "2025-01-10T21:31:19.206Z"
   },
   {
    "duration": 5,
    "start_time": "2025-01-10T21:31:26.124Z"
   },
   {
    "duration": 4,
    "start_time": "2025-01-10T21:32:36.313Z"
   },
   {
    "duration": 613,
    "start_time": "2025-01-10T21:32:37.227Z"
   },
   {
    "duration": 4,
    "start_time": "2025-01-10T21:32:38.384Z"
   },
   {
    "duration": 5,
    "start_time": "2025-01-10T21:33:16.390Z"
   },
   {
    "duration": 4,
    "start_time": "2025-01-10T21:33:16.922Z"
   },
   {
    "duration": 1189,
    "start_time": "2025-01-10T21:33:48.499Z"
   },
   {
    "duration": 590,
    "start_time": "2025-01-10T21:33:49.690Z"
   },
   {
    "duration": 15,
    "start_time": "2025-01-10T21:33:50.282Z"
   },
   {
    "duration": 33,
    "start_time": "2025-01-10T21:33:50.299Z"
   },
   {
    "duration": 17,
    "start_time": "2025-01-10T21:33:50.334Z"
   },
   {
    "duration": 9,
    "start_time": "2025-01-10T21:33:50.353Z"
   },
   {
    "duration": 48,
    "start_time": "2025-01-10T21:33:50.364Z"
   },
   {
    "duration": 9,
    "start_time": "2025-01-10T21:33:50.414Z"
   },
   {
    "duration": 12,
    "start_time": "2025-01-10T21:33:50.425Z"
   },
   {
    "duration": 23,
    "start_time": "2025-01-10T21:33:50.438Z"
   },
   {
    "duration": 25,
    "start_time": "2025-01-10T21:33:50.463Z"
   },
   {
    "duration": 54,
    "start_time": "2025-01-10T21:33:50.489Z"
   },
   {
    "duration": 48,
    "start_time": "2025-01-10T21:33:50.545Z"
   },
   {
    "duration": 63,
    "start_time": "2025-01-10T21:33:50.596Z"
   },
   {
    "duration": 24,
    "start_time": "2025-01-10T21:33:50.662Z"
   },
   {
    "duration": 25,
    "start_time": "2025-01-10T21:33:50.688Z"
   },
   {
    "duration": 31,
    "start_time": "2025-01-10T21:33:50.736Z"
   },
   {
    "duration": 83,
    "start_time": "2025-01-10T21:33:50.769Z"
   },
   {
    "duration": 11,
    "start_time": "2025-01-10T21:33:50.854Z"
   },
   {
    "duration": 8,
    "start_time": "2025-01-10T21:33:50.867Z"
   },
   {
    "duration": 563,
    "start_time": "2025-01-10T21:33:50.877Z"
   },
   {
    "duration": 7,
    "start_time": "2025-01-10T21:33:51.444Z"
   },
   {
    "duration": 47,
    "start_time": "2025-01-10T21:33:51.537Z"
   },
   {
    "duration": 16,
    "start_time": "2025-01-10T21:33:51.586Z"
   },
   {
    "duration": 7,
    "start_time": "2025-01-10T21:33:51.603Z"
   },
   {
    "duration": 3,
    "start_time": "2025-01-10T21:34:21.761Z"
   },
   {
    "duration": 455,
    "start_time": "2025-01-10T21:34:21.766Z"
   },
   {
    "duration": 20,
    "start_time": "2025-01-10T21:34:22.223Z"
   },
   {
    "duration": 32,
    "start_time": "2025-01-10T21:34:22.245Z"
   },
   {
    "duration": 16,
    "start_time": "2025-01-10T21:34:22.279Z"
   },
   {
    "duration": 9,
    "start_time": "2025-01-10T21:34:22.297Z"
   },
   {
    "duration": 27,
    "start_time": "2025-01-10T21:34:22.307Z"
   },
   {
    "duration": 10,
    "start_time": "2025-01-10T21:34:22.336Z"
   },
   {
    "duration": 20,
    "start_time": "2025-01-10T21:34:22.348Z"
   },
   {
    "duration": 12,
    "start_time": "2025-01-10T21:34:22.369Z"
   },
   {
    "duration": 12,
    "start_time": "2025-01-10T21:34:22.384Z"
   },
   {
    "duration": 74,
    "start_time": "2025-01-10T21:34:22.398Z"
   },
   {
    "duration": 45,
    "start_time": "2025-01-10T21:34:22.474Z"
   },
   {
    "duration": 59,
    "start_time": "2025-01-10T21:34:22.521Z"
   },
   {
    "duration": 21,
    "start_time": "2025-01-10T21:34:22.582Z"
   },
   {
    "duration": 48,
    "start_time": "2025-01-10T21:34:22.605Z"
   },
   {
    "duration": 22,
    "start_time": "2025-01-10T21:34:22.655Z"
   },
   {
    "duration": 96,
    "start_time": "2025-01-10T21:34:22.678Z"
   },
   {
    "duration": 12,
    "start_time": "2025-01-10T21:34:22.775Z"
   },
   {
    "duration": 6,
    "start_time": "2025-01-10T21:34:22.788Z"
   },
   {
    "duration": 648,
    "start_time": "2025-01-10T21:34:22.795Z"
   },
   {
    "duration": 4,
    "start_time": "2025-01-10T21:34:23.445Z"
   },
   {
    "duration": 8,
    "start_time": "2025-01-10T21:34:23.451Z"
   },
   {
    "duration": 12,
    "start_time": "2025-01-10T21:34:23.460Z"
   },
   {
    "duration": 12,
    "start_time": "2025-01-10T21:34:23.474Z"
   },
   {
    "duration": 4,
    "start_time": "2025-01-10T21:35:45.011Z"
   },
   {
    "duration": 458,
    "start_time": "2025-01-10T21:35:45.017Z"
   },
   {
    "duration": 15,
    "start_time": "2025-01-10T21:35:45.477Z"
   },
   {
    "duration": 14,
    "start_time": "2025-01-10T21:35:45.494Z"
   },
   {
    "duration": 68,
    "start_time": "2025-01-10T21:35:45.511Z"
   },
   {
    "duration": 10,
    "start_time": "2025-01-10T21:35:45.580Z"
   },
   {
    "duration": 21,
    "start_time": "2025-01-10T21:35:45.592Z"
   },
   {
    "duration": 10,
    "start_time": "2025-01-10T21:35:45.615Z"
   },
   {
    "duration": 12,
    "start_time": "2025-01-10T21:35:45.627Z"
   },
   {
    "duration": 11,
    "start_time": "2025-01-10T21:35:45.641Z"
   },
   {
    "duration": 13,
    "start_time": "2025-01-10T21:35:45.656Z"
   },
   {
    "duration": 67,
    "start_time": "2025-01-10T21:35:45.671Z"
   },
   {
    "duration": 44,
    "start_time": "2025-01-10T21:35:45.740Z"
   },
   {
    "duration": 64,
    "start_time": "2025-01-10T21:35:45.786Z"
   },
   {
    "duration": 24,
    "start_time": "2025-01-10T21:35:45.851Z"
   },
   {
    "duration": 22,
    "start_time": "2025-01-10T21:35:45.876Z"
   },
   {
    "duration": 47,
    "start_time": "2025-01-10T21:35:45.900Z"
   },
   {
    "duration": 71,
    "start_time": "2025-01-10T21:35:45.949Z"
   },
   {
    "duration": 23,
    "start_time": "2025-01-10T21:35:46.022Z"
   },
   {
    "duration": 9,
    "start_time": "2025-01-10T21:35:46.047Z"
   },
   {
    "duration": 681,
    "start_time": "2025-01-10T21:35:46.058Z"
   },
   {
    "duration": 4,
    "start_time": "2025-01-10T21:35:46.740Z"
   },
   {
    "duration": 13,
    "start_time": "2025-01-10T21:35:46.745Z"
   },
   {
    "duration": 12,
    "start_time": "2025-01-10T21:35:46.760Z"
   },
   {
    "duration": 5,
    "start_time": "2025-01-10T21:35:46.773Z"
   },
   {
    "duration": 105,
    "start_time": "2025-01-10T21:36:39.636Z"
   },
   {
    "duration": 5,
    "start_time": "2025-01-10T21:36:54.444Z"
   },
   {
    "duration": 5,
    "start_time": "2025-01-10T21:36:55.095Z"
   },
   {
    "duration": 5,
    "start_time": "2025-01-10T21:36:57.575Z"
   },
   {
    "duration": 5,
    "start_time": "2025-01-10T21:36:57.978Z"
   },
   {
    "duration": 5,
    "start_time": "2025-01-10T21:36:58.479Z"
   },
   {
    "duration": 4,
    "start_time": "2025-01-10T21:37:11.576Z"
   },
   {
    "duration": 1186,
    "start_time": "2025-01-10T21:37:47.298Z"
   },
   {
    "duration": 438,
    "start_time": "2025-01-10T21:37:48.486Z"
   },
   {
    "duration": 19,
    "start_time": "2025-01-10T21:37:48.926Z"
   },
   {
    "duration": 15,
    "start_time": "2025-01-10T21:37:48.947Z"
   },
   {
    "duration": 15,
    "start_time": "2025-01-10T21:37:48.964Z"
   },
   {
    "duration": 9,
    "start_time": "2025-01-10T21:37:48.981Z"
   },
   {
    "duration": 19,
    "start_time": "2025-01-10T21:37:48.992Z"
   },
   {
    "duration": 9,
    "start_time": "2025-01-10T21:37:49.038Z"
   },
   {
    "duration": 21,
    "start_time": "2025-01-10T21:37:49.049Z"
   },
   {
    "duration": 10,
    "start_time": "2025-01-10T21:37:49.072Z"
   },
   {
    "duration": 28,
    "start_time": "2025-01-10T21:37:49.083Z"
   },
   {
    "duration": 66,
    "start_time": "2025-01-10T21:37:49.112Z"
   },
   {
    "duration": 57,
    "start_time": "2025-01-10T21:37:49.180Z"
   },
   {
    "duration": 47,
    "start_time": "2025-01-10T21:37:49.241Z"
   },
   {
    "duration": 22,
    "start_time": "2025-01-10T21:37:49.290Z"
   },
   {
    "duration": 43,
    "start_time": "2025-01-10T21:37:49.314Z"
   },
   {
    "duration": 20,
    "start_time": "2025-01-10T21:37:49.359Z"
   },
   {
    "duration": 92,
    "start_time": "2025-01-10T21:37:49.381Z"
   },
   {
    "duration": 13,
    "start_time": "2025-01-10T21:37:49.475Z"
   },
   {
    "duration": 9,
    "start_time": "2025-01-10T21:37:49.490Z"
   },
   {
    "duration": 638,
    "start_time": "2025-01-10T21:37:49.502Z"
   },
   {
    "duration": 4,
    "start_time": "2025-01-10T21:37:50.142Z"
   },
   {
    "duration": 9,
    "start_time": "2025-01-10T21:37:50.148Z"
   },
   {
    "duration": 12,
    "start_time": "2025-01-10T21:37:50.158Z"
   },
   {
    "duration": 17,
    "start_time": "2025-01-10T21:37:50.171Z"
   },
   {
    "duration": 10,
    "start_time": "2025-01-10T21:41:01.840Z"
   },
   {
    "duration": 6,
    "start_time": "2025-01-10T21:41:47.752Z"
   },
   {
    "duration": 6,
    "start_time": "2025-01-10T21:41:58.356Z"
   },
   {
    "duration": 4,
    "start_time": "2025-01-10T21:45:05.202Z"
   },
   {
    "duration": 4,
    "start_time": "2025-01-10T21:45:15.345Z"
   },
   {
    "duration": 2,
    "start_time": "2025-01-10T21:59:36.269Z"
   },
   {
    "duration": 1217,
    "start_time": "2025-01-14T17:25:19.001Z"
   },
   {
    "duration": 748,
    "start_time": "2025-01-14T17:25:20.220Z"
   },
   {
    "duration": 35,
    "start_time": "2025-01-14T17:25:20.969Z"
   },
   {
    "duration": 18,
    "start_time": "2025-01-14T17:25:21.006Z"
   },
   {
    "duration": 25,
    "start_time": "2025-01-14T17:25:21.026Z"
   },
   {
    "duration": 8,
    "start_time": "2025-01-14T17:25:21.053Z"
   },
   {
    "duration": 24,
    "start_time": "2025-01-14T17:25:21.078Z"
   },
   {
    "duration": 8,
    "start_time": "2025-01-14T17:25:21.104Z"
   },
   {
    "duration": 27,
    "start_time": "2025-01-14T17:25:21.114Z"
   },
   {
    "duration": 10,
    "start_time": "2025-01-14T17:25:21.142Z"
   },
   {
    "duration": 29,
    "start_time": "2025-01-14T17:25:21.154Z"
   },
   {
    "duration": 54,
    "start_time": "2025-01-14T17:25:21.186Z"
   },
   {
    "duration": 63,
    "start_time": "2025-01-14T17:25:21.242Z"
   },
   {
    "duration": 43,
    "start_time": "2025-01-14T17:25:21.307Z"
   },
   {
    "duration": 51,
    "start_time": "2025-01-14T17:25:21.352Z"
   },
   {
    "duration": 20,
    "start_time": "2025-01-14T17:25:21.404Z"
   },
   {
    "duration": 31,
    "start_time": "2025-01-14T17:25:21.426Z"
   },
   {
    "duration": 84,
    "start_time": "2025-01-14T17:25:21.459Z"
   },
   {
    "duration": 11,
    "start_time": "2025-01-14T17:25:21.544Z"
   },
   {
    "duration": 34,
    "start_time": "2025-01-14T17:25:21.556Z"
   },
   {
    "duration": 486,
    "start_time": "2025-01-14T17:25:21.595Z"
   },
   {
    "duration": 14,
    "start_time": "2025-01-14T17:25:22.082Z"
   },
   {
    "duration": 47,
    "start_time": "2025-01-14T17:25:22.172Z"
   },
   {
    "duration": 133,
    "start_time": "2025-01-14T17:43:48.763Z"
   },
   {
    "duration": 2,
    "start_time": "2025-01-14T17:43:52.135Z"
   },
   {
    "duration": 3,
    "start_time": "2025-01-14T17:43:52.843Z"
   },
   {
    "duration": 6,
    "start_time": "2025-01-14T17:44:08.972Z"
   },
   {
    "duration": 2,
    "start_time": "2025-01-14T17:44:58.463Z"
   },
   {
    "duration": 8,
    "start_time": "2025-01-14T17:44:58.887Z"
   },
   {
    "duration": 4,
    "start_time": "2025-01-14T17:45:06.760Z"
   },
   {
    "duration": 3,
    "start_time": "2025-01-14T17:45:09.327Z"
   },
   {
    "duration": 15,
    "start_time": "2025-01-14T17:45:09.972Z"
   },
   {
    "duration": 3,
    "start_time": "2025-01-14T17:45:25.125Z"
   },
   {
    "duration": 4,
    "start_time": "2025-01-14T17:45:32.605Z"
   },
   {
    "duration": 4,
    "start_time": "2025-01-14T17:57:41.423Z"
   },
   {
    "duration": 4,
    "start_time": "2025-01-14T17:57:55.981Z"
   },
   {
    "duration": 3,
    "start_time": "2025-01-14T17:58:11.791Z"
   },
   {
    "duration": 3,
    "start_time": "2025-01-14T17:58:18.228Z"
   },
   {
    "duration": 3,
    "start_time": "2025-01-14T17:58:20.612Z"
   },
   {
    "duration": 4,
    "start_time": "2025-01-14T18:07:08.971Z"
   },
   {
    "duration": 4,
    "start_time": "2025-01-14T18:07:21.895Z"
   },
   {
    "duration": 4,
    "start_time": "2025-01-14T18:08:08.403Z"
   },
   {
    "duration": 11,
    "start_time": "2025-01-14T18:14:38.345Z"
   },
   {
    "duration": 81,
    "start_time": "2025-01-14T18:14:52.614Z"
   },
   {
    "duration": 119,
    "start_time": "2025-01-14T18:16:00.054Z"
   },
   {
    "duration": 75,
    "start_time": "2025-01-14T18:16:12.467Z"
   },
   {
    "duration": 4,
    "start_time": "2025-01-14T18:16:28.244Z"
   },
   {
    "duration": 84,
    "start_time": "2025-01-14T18:21:41.911Z"
   },
   {
    "duration": 82,
    "start_time": "2025-01-14T18:21:47.285Z"
   },
   {
    "duration": 106,
    "start_time": "2025-01-14T18:21:53.834Z"
   },
   {
    "duration": 83,
    "start_time": "2025-01-14T18:22:03.934Z"
   },
   {
    "duration": 83,
    "start_time": "2025-01-14T18:22:10.577Z"
   },
   {
    "duration": 76,
    "start_time": "2025-01-14T18:22:16.262Z"
   },
   {
    "duration": 109,
    "start_time": "2025-01-14T18:22:21.889Z"
   },
   {
    "duration": 5,
    "start_time": "2025-01-14T18:22:29.831Z"
   },
   {
    "duration": 8,
    "start_time": "2025-01-14T18:34:26.119Z"
   },
   {
    "duration": 9,
    "start_time": "2025-01-14T18:36:34.511Z"
   },
   {
    "duration": 14,
    "start_time": "2025-01-14T18:36:39.093Z"
   },
   {
    "duration": 21,
    "start_time": "2025-01-14T18:36:47.383Z"
   },
   {
    "duration": 30,
    "start_time": "2025-01-14T18:37:14.731Z"
   },
   {
    "duration": 35,
    "start_time": "2025-01-14T18:37:26.941Z"
   },
   {
    "duration": 32,
    "start_time": "2025-01-14T18:37:55.933Z"
   },
   {
    "duration": 5,
    "start_time": "2025-01-14T18:38:24.163Z"
   },
   {
    "duration": 5,
    "start_time": "2025-01-14T18:38:24.494Z"
   },
   {
    "duration": 5,
    "start_time": "2025-01-14T18:38:24.826Z"
   },
   {
    "duration": 5,
    "start_time": "2025-01-14T18:38:59.759Z"
   },
   {
    "duration": 41,
    "start_time": "2025-01-14T18:39:40.877Z"
   },
   {
    "duration": 34,
    "start_time": "2025-01-14T18:39:50.185Z"
   },
   {
    "duration": 35,
    "start_time": "2025-01-14T18:40:07.363Z"
   },
   {
    "duration": 84,
    "start_time": "2025-01-14T18:41:23.121Z"
   },
   {
    "duration": 33,
    "start_time": "2025-01-14T18:41:39.823Z"
   },
   {
    "duration": 33,
    "start_time": "2025-01-14T18:42:08.869Z"
   },
   {
    "duration": 5,
    "start_time": "2025-01-14T18:45:18.928Z"
   },
   {
    "duration": 7,
    "start_time": "2025-01-14T18:54:14.389Z"
   },
   {
    "duration": 10,
    "start_time": "2025-01-14T18:55:18.233Z"
   },
   {
    "duration": 10,
    "start_time": "2025-01-14T18:55:31.904Z"
   },
   {
    "duration": 9,
    "start_time": "2025-01-14T18:56:07.991Z"
   },
   {
    "duration": 6,
    "start_time": "2025-01-14T18:56:35.849Z"
   },
   {
    "duration": 5,
    "start_time": "2025-01-14T18:57:26.406Z"
   },
   {
    "duration": 88,
    "start_time": "2025-01-14T19:15:12.530Z"
   },
   {
    "duration": 10,
    "start_time": "2025-01-14T19:18:50.693Z"
   },
   {
    "duration": 4,
    "start_time": "2025-01-14T19:19:10.735Z"
   },
   {
    "duration": 12,
    "start_time": "2025-01-14T19:19:21.066Z"
   },
   {
    "duration": 1727,
    "start_time": "2025-01-14T19:20:00.089Z"
   },
   {
    "duration": 1719,
    "start_time": "2025-01-14T19:20:09.984Z"
   },
   {
    "duration": 1736,
    "start_time": "2025-01-14T19:20:43.872Z"
   },
   {
    "duration": 1702,
    "start_time": "2025-01-14T19:20:50.397Z"
   },
   {
    "duration": 1809,
    "start_time": "2025-01-14T19:22:08.906Z"
   },
   {
    "duration": 1742,
    "start_time": "2025-01-14T19:22:18.680Z"
   },
   {
    "duration": 1800,
    "start_time": "2025-01-14T19:22:24.150Z"
   },
   {
    "duration": 1802,
    "start_time": "2025-01-14T19:22:44.021Z"
   },
   {
    "duration": 1763,
    "start_time": "2025-01-14T19:22:56.526Z"
   },
   {
    "duration": 4,
    "start_time": "2025-01-14T19:28:20.534Z"
   },
   {
    "duration": 5,
    "start_time": "2025-01-14T19:28:45.335Z"
   },
   {
    "duration": 6,
    "start_time": "2025-01-14T19:29:11.808Z"
   },
   {
    "duration": 1763,
    "start_time": "2025-01-14T19:29:37.790Z"
   },
   {
    "duration": 1769,
    "start_time": "2025-01-14T19:29:44.353Z"
   },
   {
    "duration": 4,
    "start_time": "2025-01-14T19:30:22.956Z"
   },
   {
    "duration": 1793,
    "start_time": "2025-01-14T19:30:23.637Z"
   },
   {
    "duration": 1766,
    "start_time": "2025-01-14T19:30:28.128Z"
   },
   {
    "duration": 1762,
    "start_time": "2025-01-14T19:30:29.896Z"
   },
   {
    "duration": 4,
    "start_time": "2025-01-14T19:34:22.029Z"
   },
   {
    "duration": 4,
    "start_time": "2025-01-14T19:34:45.201Z"
   },
   {
    "duration": 1822,
    "start_time": "2025-01-14T19:34:45.702Z"
   },
   {
    "duration": 1760,
    "start_time": "2025-01-14T19:34:47.526Z"
   },
   {
    "duration": 1774,
    "start_time": "2025-01-14T19:34:49.288Z"
   },
   {
    "duration": 5,
    "start_time": "2025-01-14T19:35:01.623Z"
   },
   {
    "duration": 1839,
    "start_time": "2025-01-14T19:35:02.435Z"
   },
   {
    "duration": 1809,
    "start_time": "2025-01-14T19:35:04.275Z"
   },
   {
    "duration": 1817,
    "start_time": "2025-01-14T19:35:06.085Z"
   },
   {
    "duration": 5,
    "start_time": "2025-01-14T19:37:20.682Z"
   },
   {
    "duration": 1845,
    "start_time": "2025-01-14T19:37:21.140Z"
   },
   {
    "duration": 1869,
    "start_time": "2025-01-14T19:37:22.987Z"
   },
   {
    "duration": 1908,
    "start_time": "2025-01-14T19:37:24.858Z"
   },
   {
    "duration": 5,
    "start_time": "2025-01-14T19:37:35.634Z"
   },
   {
    "duration": 1851,
    "start_time": "2025-01-14T19:37:38.602Z"
   },
   {
    "duration": 1865,
    "start_time": "2025-01-14T19:37:40.455Z"
   },
   {
    "duration": 1876,
    "start_time": "2025-01-14T19:37:42.322Z"
   },
   {
    "duration": 6,
    "start_time": "2025-01-14T19:38:09.805Z"
   },
   {
    "duration": 1868,
    "start_time": "2025-01-14T19:38:12.847Z"
   },
   {
    "duration": 1904,
    "start_time": "2025-01-14T19:38:14.717Z"
   },
   {
    "duration": 1862,
    "start_time": "2025-01-14T19:38:16.623Z"
   },
   {
    "duration": 4,
    "start_time": "2025-01-14T19:38:54.696Z"
   },
   {
    "duration": 1867,
    "start_time": "2025-01-14T19:39:00.760Z"
   },
   {
    "duration": 1883,
    "start_time": "2025-01-14T19:39:02.629Z"
   },
   {
    "duration": 1893,
    "start_time": "2025-01-14T19:39:04.514Z"
   },
   {
    "duration": 5,
    "start_time": "2025-01-14T19:42:47.966Z"
   },
   {
    "duration": 1859,
    "start_time": "2025-01-14T19:42:48.568Z"
   },
   {
    "duration": 1882,
    "start_time": "2025-01-14T19:42:50.429Z"
   },
   {
    "duration": 1850,
    "start_time": "2025-01-14T19:42:52.312Z"
   },
   {
    "duration": 1902,
    "start_time": "2025-01-14T19:44:05.705Z"
   },
   {
    "duration": 3683,
    "start_time": "2025-01-14T19:44:38.177Z"
   },
   {
    "duration": 1923,
    "start_time": "2025-01-14T19:45:11.984Z"
   },
   {
    "duration": 1991,
    "start_time": "2025-01-14T19:45:14.195Z"
   },
   {
    "duration": 1142,
    "start_time": "2025-01-14T19:45:31.584Z"
   },
   {
    "duration": 429,
    "start_time": "2025-01-14T19:45:32.728Z"
   },
   {
    "duration": 21,
    "start_time": "2025-01-14T19:45:33.158Z"
   },
   {
    "duration": 46,
    "start_time": "2025-01-14T19:45:33.181Z"
   },
   {
    "duration": 15,
    "start_time": "2025-01-14T19:45:33.229Z"
   },
   {
    "duration": 9,
    "start_time": "2025-01-14T19:45:33.245Z"
   },
   {
    "duration": 13,
    "start_time": "2025-01-14T19:45:33.255Z"
   },
   {
    "duration": 12,
    "start_time": "2025-01-14T19:45:33.270Z"
   },
   {
    "duration": 11,
    "start_time": "2025-01-14T19:45:33.284Z"
   },
   {
    "duration": 17,
    "start_time": "2025-01-14T19:45:33.297Z"
   },
   {
    "duration": 11,
    "start_time": "2025-01-14T19:45:33.315Z"
   },
   {
    "duration": 75,
    "start_time": "2025-01-14T19:45:33.327Z"
   },
   {
    "duration": 42,
    "start_time": "2025-01-14T19:45:33.403Z"
   },
   {
    "duration": 63,
    "start_time": "2025-01-14T19:45:33.448Z"
   },
   {
    "duration": 20,
    "start_time": "2025-01-14T19:45:33.513Z"
   },
   {
    "duration": 45,
    "start_time": "2025-01-14T19:45:33.535Z"
   },
   {
    "duration": 20,
    "start_time": "2025-01-14T19:45:33.583Z"
   },
   {
    "duration": 92,
    "start_time": "2025-01-14T19:45:33.605Z"
   },
   {
    "duration": 11,
    "start_time": "2025-01-14T19:45:33.699Z"
   },
   {
    "duration": 5,
    "start_time": "2025-01-14T19:45:33.712Z"
   },
   {
    "duration": 560,
    "start_time": "2025-01-14T19:45:33.719Z"
   },
   {
    "duration": 8,
    "start_time": "2025-01-14T19:45:34.282Z"
   },
   {
    "duration": 54,
    "start_time": "2025-01-14T19:45:34.371Z"
   },
   {
    "duration": 10,
    "start_time": "2025-01-14T19:45:34.427Z"
   },
   {
    "duration": 7,
    "start_time": "2025-01-14T19:45:34.439Z"
   },
   {
    "duration": 6,
    "start_time": "2025-01-14T19:45:34.447Z"
   },
   {
    "duration": 39,
    "start_time": "2025-01-14T19:45:34.454Z"
   },
   {
    "duration": 4,
    "start_time": "2025-01-14T19:45:34.495Z"
   },
   {
    "duration": 9,
    "start_time": "2025-01-14T19:45:34.500Z"
   },
   {
    "duration": 9,
    "start_time": "2025-01-14T19:45:34.511Z"
   },
   {
    "duration": 1924,
    "start_time": "2025-01-14T19:45:34.522Z"
   },
   {
    "duration": 1895,
    "start_time": "2025-01-14T19:45:36.448Z"
   },
   {
    "duration": 1867,
    "start_time": "2025-01-14T19:45:38.345Z"
   },
   {
    "duration": 5,
    "start_time": "2025-01-14T19:54:34.396Z"
   },
   {
    "duration": 1918,
    "start_time": "2025-01-14T19:54:35.464Z"
   },
   {
    "duration": 1870,
    "start_time": "2025-01-14T19:54:37.385Z"
   },
   {
    "duration": 1899,
    "start_time": "2025-01-14T19:54:39.257Z"
   },
   {
    "duration": 1161,
    "start_time": "2025-01-14T20:00:38.801Z"
   },
   {
    "duration": 449,
    "start_time": "2025-01-14T20:00:39.964Z"
   },
   {
    "duration": 18,
    "start_time": "2025-01-14T20:00:40.415Z"
   },
   {
    "duration": 90,
    "start_time": "2025-01-14T20:00:40.435Z"
   },
   {
    "duration": 16,
    "start_time": "2025-01-14T20:00:40.528Z"
   },
   {
    "duration": 9,
    "start_time": "2025-01-14T20:00:40.546Z"
   },
   {
    "duration": 15,
    "start_time": "2025-01-14T20:00:40.556Z"
   },
   {
    "duration": 14,
    "start_time": "2025-01-14T20:00:40.573Z"
   },
   {
    "duration": 11,
    "start_time": "2025-01-14T20:00:40.589Z"
   },
   {
    "duration": 10,
    "start_time": "2025-01-14T20:00:40.601Z"
   },
   {
    "duration": 10,
    "start_time": "2025-01-14T20:00:40.613Z"
   },
   {
    "duration": 88,
    "start_time": "2025-01-14T20:00:40.624Z"
   },
   {
    "duration": 41,
    "start_time": "2025-01-14T20:00:40.714Z"
   },
   {
    "duration": 62,
    "start_time": "2025-01-14T20:00:40.758Z"
   },
   {
    "duration": 20,
    "start_time": "2025-01-14T20:00:40.822Z"
   },
   {
    "duration": 56,
    "start_time": "2025-01-14T20:00:40.844Z"
   },
   {
    "duration": 21,
    "start_time": "2025-01-14T20:00:40.901Z"
   },
   {
    "duration": 88,
    "start_time": "2025-01-14T20:00:40.923Z"
   },
   {
    "duration": 10,
    "start_time": "2025-01-14T20:00:41.012Z"
   },
   {
    "duration": 17,
    "start_time": "2025-01-14T20:00:41.023Z"
   },
   {
    "duration": 532,
    "start_time": "2025-01-14T20:00:41.041Z"
   },
   {
    "duration": 12,
    "start_time": "2025-01-14T20:00:41.576Z"
   },
   {
    "duration": 86,
    "start_time": "2025-01-14T20:00:41.591Z"
   },
   {
    "duration": 5,
    "start_time": "2025-01-14T20:00:41.681Z"
   },
   {
    "duration": 4,
    "start_time": "2025-01-14T20:00:41.688Z"
   },
   {
    "duration": 5,
    "start_time": "2025-01-14T20:00:41.693Z"
   },
   {
    "duration": 52,
    "start_time": "2025-01-14T20:00:41.700Z"
   },
   {
    "duration": 20,
    "start_time": "2025-01-14T20:00:41.754Z"
   },
   {
    "duration": 7,
    "start_time": "2025-01-14T20:00:41.778Z"
   },
   {
    "duration": 5,
    "start_time": "2025-01-14T20:00:41.787Z"
   },
   {
    "duration": 1881,
    "start_time": "2025-01-14T20:00:41.793Z"
   },
   {
    "duration": 1872,
    "start_time": "2025-01-14T20:00:43.677Z"
   },
   {
    "duration": 1914,
    "start_time": "2025-01-14T20:00:45.550Z"
   },
   {
    "duration": 1088,
    "start_time": "2025-01-14T20:08:11.718Z"
   },
   {
    "duration": 427,
    "start_time": "2025-01-14T20:08:12.808Z"
   },
   {
    "duration": 16,
    "start_time": "2025-01-14T20:08:13.237Z"
   },
   {
    "duration": 29,
    "start_time": "2025-01-14T20:08:13.255Z"
   },
   {
    "duration": 16,
    "start_time": "2025-01-14T20:08:13.286Z"
   },
   {
    "duration": 9,
    "start_time": "2025-01-14T20:08:13.304Z"
   },
   {
    "duration": 17,
    "start_time": "2025-01-14T20:08:13.314Z"
   },
   {
    "duration": 9,
    "start_time": "2025-01-14T20:08:13.332Z"
   },
   {
    "duration": 12,
    "start_time": "2025-01-14T20:08:13.371Z"
   },
   {
    "duration": 11,
    "start_time": "2025-01-14T20:08:13.388Z"
   },
   {
    "duration": 10,
    "start_time": "2025-01-14T20:08:13.401Z"
   },
   {
    "duration": 77,
    "start_time": "2025-01-14T20:08:13.412Z"
   },
   {
    "duration": 43,
    "start_time": "2025-01-14T20:08:13.491Z"
   },
   {
    "duration": 67,
    "start_time": "2025-01-14T20:08:13.536Z"
   },
   {
    "duration": 18,
    "start_time": "2025-01-14T20:08:13.605Z"
   },
   {
    "duration": 19,
    "start_time": "2025-01-14T20:08:13.624Z"
   },
   {
    "duration": 45,
    "start_time": "2025-01-14T20:08:13.644Z"
   },
   {
    "duration": 63,
    "start_time": "2025-01-14T20:08:13.691Z"
   },
   {
    "duration": 30,
    "start_time": "2025-01-14T20:08:13.756Z"
   },
   {
    "duration": 4,
    "start_time": "2025-01-14T20:08:13.787Z"
   },
   {
    "duration": 488,
    "start_time": "2025-01-14T20:08:13.793Z"
   },
   {
    "duration": 93,
    "start_time": "2025-01-14T20:08:14.283Z"
   },
   {
    "duration": 23,
    "start_time": "2025-01-14T20:08:14.379Z"
   },
   {
    "duration": 106,
    "start_time": "2025-01-14T20:08:14.403Z"
   },
   {
    "duration": 14,
    "start_time": "2025-01-14T20:08:14.512Z"
   },
   {
    "duration": 5,
    "start_time": "2025-01-14T20:08:14.527Z"
   },
   {
    "duration": 33,
    "start_time": "2025-01-14T20:08:14.534Z"
   },
   {
    "duration": 10,
    "start_time": "2025-01-14T20:08:14.571Z"
   },
   {
    "duration": 6,
    "start_time": "2025-01-14T20:08:14.583Z"
   },
   {
    "duration": 8,
    "start_time": "2025-01-14T20:08:14.590Z"
   },
   {
    "duration": 1917,
    "start_time": "2025-01-14T20:08:14.600Z"
   },
   {
    "duration": 1870,
    "start_time": "2025-01-14T20:08:16.518Z"
   },
   {
    "duration": 1859,
    "start_time": "2025-01-14T20:08:18.390Z"
   },
   {
    "duration": 1155,
    "start_time": "2025-01-14T20:13:07.241Z"
   },
   {
    "duration": 446,
    "start_time": "2025-01-14T20:13:08.397Z"
   },
   {
    "duration": 16,
    "start_time": "2025-01-14T20:13:08.845Z"
   },
   {
    "duration": 26,
    "start_time": "2025-01-14T20:13:08.863Z"
   },
   {
    "duration": 14,
    "start_time": "2025-01-14T20:13:08.891Z"
   },
   {
    "duration": 9,
    "start_time": "2025-01-14T20:13:08.906Z"
   },
   {
    "duration": 21,
    "start_time": "2025-01-14T20:13:08.916Z"
   },
   {
    "duration": 34,
    "start_time": "2025-01-14T20:13:08.938Z"
   },
   {
    "duration": 27,
    "start_time": "2025-01-14T20:13:08.975Z"
   },
   {
    "duration": 10,
    "start_time": "2025-01-14T20:13:09.004Z"
   },
   {
    "duration": 20,
    "start_time": "2025-01-14T20:13:09.015Z"
   },
   {
    "duration": 57,
    "start_time": "2025-01-14T20:13:09.037Z"
   },
   {
    "duration": 41,
    "start_time": "2025-01-14T20:13:09.095Z"
   },
   {
    "duration": 88,
    "start_time": "2025-01-14T20:13:09.137Z"
   },
   {
    "duration": 20,
    "start_time": "2025-01-14T20:13:09.227Z"
   },
   {
    "duration": 21,
    "start_time": "2025-01-14T20:13:09.249Z"
   },
   {
    "duration": 26,
    "start_time": "2025-01-14T20:13:09.272Z"
   },
   {
    "duration": 84,
    "start_time": "2025-01-14T20:13:09.300Z"
   },
   {
    "duration": 10,
    "start_time": "2025-01-14T20:13:09.386Z"
   },
   {
    "duration": 17,
    "start_time": "2025-01-14T20:13:09.398Z"
   },
   {
    "duration": 568,
    "start_time": "2025-01-14T20:13:09.417Z"
   },
   {
    "duration": 84,
    "start_time": "2025-01-14T20:13:09.987Z"
   },
   {
    "duration": 23,
    "start_time": "2025-01-14T20:13:10.075Z"
   },
   {
    "duration": 4,
    "start_time": "2025-01-14T20:13:10.099Z"
   },
   {
    "duration": 8,
    "start_time": "2025-01-14T20:13:10.105Z"
   },
   {
    "duration": 11,
    "start_time": "2025-01-14T20:13:10.115Z"
   },
   {
    "duration": 53,
    "start_time": "2025-01-14T20:13:10.128Z"
   },
   {
    "duration": 4,
    "start_time": "2025-01-14T20:13:10.187Z"
   },
   {
    "duration": 6,
    "start_time": "2025-01-14T20:13:10.193Z"
   },
   {
    "duration": 12,
    "start_time": "2025-01-14T20:13:10.201Z"
   },
   {
    "duration": 1873,
    "start_time": "2025-01-14T20:13:10.214Z"
   },
   {
    "duration": 1849,
    "start_time": "2025-01-14T20:13:12.088Z"
   },
   {
    "duration": 1928,
    "start_time": "2025-01-14T20:13:13.938Z"
   },
   {
    "duration": 1115,
    "start_time": "2025-01-14T20:58:19.763Z"
   },
   {
    "duration": 418,
    "start_time": "2025-01-14T20:58:20.880Z"
   },
   {
    "duration": 17,
    "start_time": "2025-01-14T20:58:21.299Z"
   },
   {
    "duration": 40,
    "start_time": "2025-01-14T20:58:21.317Z"
   },
   {
    "duration": 15,
    "start_time": "2025-01-14T20:58:21.359Z"
   },
   {
    "duration": 9,
    "start_time": "2025-01-14T20:58:21.375Z"
   },
   {
    "duration": 28,
    "start_time": "2025-01-14T20:58:21.385Z"
   },
   {
    "duration": 8,
    "start_time": "2025-01-14T20:58:21.415Z"
   },
   {
    "duration": 11,
    "start_time": "2025-01-14T20:58:21.424Z"
   },
   {
    "duration": 10,
    "start_time": "2025-01-14T20:58:21.436Z"
   },
   {
    "duration": 41,
    "start_time": "2025-01-14T20:58:21.447Z"
   },
   {
    "duration": 50,
    "start_time": "2025-01-14T20:58:21.489Z"
   },
   {
    "duration": 52,
    "start_time": "2025-01-14T20:58:21.540Z"
   },
   {
    "duration": 44,
    "start_time": "2025-01-14T20:58:21.595Z"
   },
   {
    "duration": 34,
    "start_time": "2025-01-14T20:58:21.640Z"
   },
   {
    "duration": 20,
    "start_time": "2025-01-14T20:58:21.675Z"
   },
   {
    "duration": 20,
    "start_time": "2025-01-14T20:58:21.696Z"
   },
   {
    "duration": 95,
    "start_time": "2025-01-14T20:58:21.717Z"
   },
   {
    "duration": 11,
    "start_time": "2025-01-14T20:58:21.813Z"
   },
   {
    "duration": 7,
    "start_time": "2025-01-14T20:58:21.825Z"
   },
   {
    "duration": 538,
    "start_time": "2025-01-14T20:58:21.833Z"
   },
   {
    "duration": 98,
    "start_time": "2025-01-14T20:58:22.373Z"
   },
   {
    "duration": 3,
    "start_time": "2025-01-14T20:58:22.473Z"
   },
   {
    "duration": 54,
    "start_time": "2025-01-14T20:58:22.477Z"
   },
   {
    "duration": 6,
    "start_time": "2025-01-14T20:58:22.533Z"
   },
   {
    "duration": 5,
    "start_time": "2025-01-14T20:58:22.541Z"
   },
   {
    "duration": 31,
    "start_time": "2025-01-14T20:58:22.547Z"
   },
   {
    "duration": 4,
    "start_time": "2025-01-14T20:58:22.580Z"
   },
   {
    "duration": 6,
    "start_time": "2025-01-14T20:58:22.585Z"
   },
   {
    "duration": 4,
    "start_time": "2025-01-14T20:58:22.593Z"
   },
   {
    "duration": 1804,
    "start_time": "2025-01-14T20:58:22.599Z"
   },
   {
    "duration": 1768,
    "start_time": "2025-01-14T20:58:24.405Z"
   },
   {
    "duration": 1777,
    "start_time": "2025-01-14T20:58:26.175Z"
   },
   {
    "duration": 102,
    "start_time": "2025-01-14T20:58:39.520Z"
   },
   {
    "duration": 41326,
    "start_time": "2025-01-14T20:59:06.412Z"
   },
   {
    "duration": 1261,
    "start_time": "2025-01-14T21:01:14.922Z"
   },
   {
    "duration": 427,
    "start_time": "2025-01-14T21:01:18.058Z"
   },
   {
    "duration": 68,
    "start_time": "2025-01-14T21:01:19.166Z"
   },
   {
    "duration": 16,
    "start_time": "2025-01-14T21:01:19.867Z"
   },
   {
    "duration": 109,
    "start_time": "2025-01-14T21:01:28.300Z"
   },
   {
    "duration": 4,
    "start_time": "2025-01-14T21:01:41.458Z"
   },
   {
    "duration": 4,
    "start_time": "2025-01-14T21:01:46.049Z"
   },
   {
    "duration": 426,
    "start_time": "2025-01-14T21:01:46.433Z"
   },
   {
    "duration": 14,
    "start_time": "2025-01-14T21:01:46.861Z"
   },
   {
    "duration": 8,
    "start_time": "2025-01-14T21:01:46.918Z"
   },
   {
    "duration": 13,
    "start_time": "2025-01-14T21:01:47.056Z"
   },
   {
    "duration": 9,
    "start_time": "2025-01-14T21:01:47.175Z"
   },
   {
    "duration": 13,
    "start_time": "2025-01-14T21:01:47.323Z"
   },
   {
    "duration": 9,
    "start_time": "2025-01-14T21:01:47.470Z"
   },
   {
    "duration": 10,
    "start_time": "2025-01-14T21:01:48.621Z"
   },
   {
    "duration": 10,
    "start_time": "2025-01-14T21:01:48.787Z"
   },
   {
    "duration": 10,
    "start_time": "2025-01-14T21:01:48.934Z"
   },
   {
    "duration": 45,
    "start_time": "2025-01-14T21:01:50.266Z"
   },
   {
    "duration": 37,
    "start_time": "2025-01-14T21:01:50.439Z"
   },
   {
    "duration": 39,
    "start_time": "2025-01-14T21:01:50.601Z"
   },
   {
    "duration": 18,
    "start_time": "2025-01-14T21:01:51.507Z"
   },
   {
    "duration": 18,
    "start_time": "2025-01-14T21:01:51.699Z"
   },
   {
    "duration": 19,
    "start_time": "2025-01-14T21:01:52.148Z"
   },
   {
    "duration": 46,
    "start_time": "2025-01-14T21:01:54.824Z"
   },
   {
    "duration": 5,
    "start_time": "2025-01-14T21:01:56.215Z"
   },
   {
    "duration": 13,
    "start_time": "2025-01-14T21:02:04.278Z"
   },
   {
    "duration": 12,
    "start_time": "2025-01-14T21:02:44.297Z"
   },
   {
    "duration": 12,
    "start_time": "2025-01-14T21:03:04.279Z"
   },
   {
    "duration": 12,
    "start_time": "2025-01-14T21:03:15.591Z"
   },
   {
    "duration": 12,
    "start_time": "2025-01-14T21:03:23.624Z"
   },
   {
    "duration": 1316,
    "start_time": "2025-01-14T21:03:38.047Z"
   },
   {
    "duration": 434,
    "start_time": "2025-01-14T21:03:39.365Z"
   },
   {
    "duration": 74,
    "start_time": "2025-01-14T21:03:39.801Z"
   },
   {
    "duration": 23,
    "start_time": "2025-01-14T21:03:39.877Z"
   },
   {
    "duration": 9,
    "start_time": "2025-01-14T21:03:39.902Z"
   },
   {
    "duration": 21,
    "start_time": "2025-01-14T21:03:39.913Z"
   },
   {
    "duration": 34,
    "start_time": "2025-01-14T21:03:39.936Z"
   },
   {
    "duration": 9,
    "start_time": "2025-01-14T21:03:39.972Z"
   },
   {
    "duration": 12,
    "start_time": "2025-01-14T21:03:39.982Z"
   },
   {
    "duration": 14,
    "start_time": "2025-01-14T21:03:39.997Z"
   },
   {
    "duration": 8,
    "start_time": "2025-01-14T21:03:40.014Z"
   },
   {
    "duration": 23,
    "start_time": "2025-01-14T21:03:40.024Z"
   },
   {
    "duration": 32,
    "start_time": "2025-01-14T21:03:40.048Z"
   },
   {
    "duration": 14,
    "start_time": "2025-01-14T21:03:40.082Z"
   },
   {
    "duration": 42,
    "start_time": "2025-01-14T21:03:40.097Z"
   },
   {
    "duration": 71,
    "start_time": "2025-01-14T21:03:40.141Z"
   },
   {
    "duration": 57,
    "start_time": "2025-01-14T21:03:40.213Z"
   },
   {
    "duration": 17,
    "start_time": "2025-01-14T21:03:40.272Z"
   },
   {
    "duration": 17,
    "start_time": "2025-01-14T21:03:40.291Z"
   },
   {
    "duration": 25,
    "start_time": "2025-01-14T21:03:40.309Z"
   },
   {
    "duration": 51,
    "start_time": "2025-01-14T21:03:40.335Z"
   },
   {
    "duration": 4,
    "start_time": "2025-01-14T21:03:40.388Z"
   },
   {
    "duration": 5,
    "start_time": "2025-01-14T21:03:40.394Z"
   },
   {
    "duration": 478,
    "start_time": "2025-01-14T21:03:40.401Z"
   },
   {
    "duration": 6,
    "start_time": "2025-01-14T21:03:40.971Z"
   },
   {
    "duration": 16,
    "start_time": "2025-01-14T21:03:40.978Z"
   },
   {
    "duration": 25,
    "start_time": "2025-01-14T21:03:40.995Z"
   },
   {
    "duration": 8,
    "start_time": "2025-01-14T21:03:41.023Z"
   },
   {
    "duration": 5,
    "start_time": "2025-01-14T21:03:41.032Z"
   },
   {
    "duration": 35,
    "start_time": "2025-01-14T21:03:41.039Z"
   },
   {
    "duration": 4,
    "start_time": "2025-01-14T21:03:41.076Z"
   },
   {
    "duration": 5,
    "start_time": "2025-01-14T21:03:41.081Z"
   },
   {
    "duration": 5,
    "start_time": "2025-01-14T21:03:41.087Z"
   },
   {
    "duration": 1877,
    "start_time": "2025-01-14T21:03:41.094Z"
   },
   {
    "duration": 1744,
    "start_time": "2025-01-14T21:03:42.973Z"
   },
   {
    "duration": 1777,
    "start_time": "2025-01-14T21:03:44.719Z"
   },
   {
    "duration": 1274,
    "start_time": "2025-01-14T21:05:57.780Z"
   },
   {
    "duration": 426,
    "start_time": "2025-01-14T21:05:59.057Z"
   },
   {
    "duration": 70,
    "start_time": "2025-01-14T21:05:59.484Z"
   },
   {
    "duration": 30,
    "start_time": "2025-01-14T21:05:59.556Z"
   },
   {
    "duration": 9,
    "start_time": "2025-01-14T21:05:59.588Z"
   },
   {
    "duration": 14,
    "start_time": "2025-01-14T21:05:59.598Z"
   },
   {
    "duration": 15,
    "start_time": "2025-01-14T21:05:59.614Z"
   },
   {
    "duration": 8,
    "start_time": "2025-01-14T21:05:59.631Z"
   },
   {
    "duration": 41,
    "start_time": "2025-01-14T21:05:59.641Z"
   },
   {
    "duration": 14,
    "start_time": "2025-01-14T21:05:59.684Z"
   },
   {
    "duration": 8,
    "start_time": "2025-01-14T21:05:59.700Z"
   },
   {
    "duration": 9,
    "start_time": "2025-01-14T21:05:59.710Z"
   },
   {
    "duration": 10,
    "start_time": "2025-01-14T21:05:59.721Z"
   },
   {
    "duration": 42,
    "start_time": "2025-01-14T21:05:59.734Z"
   },
   {
    "duration": 50,
    "start_time": "2025-01-14T21:05:59.777Z"
   },
   {
    "duration": 54,
    "start_time": "2025-01-14T21:05:59.829Z"
   },
   {
    "duration": 40,
    "start_time": "2025-01-14T21:05:59.885Z"
   },
   {
    "duration": 18,
    "start_time": "2025-01-14T21:05:59.927Z"
   },
   {
    "duration": 36,
    "start_time": "2025-01-14T21:05:59.947Z"
   },
   {
    "duration": 18,
    "start_time": "2025-01-14T21:05:59.985Z"
   },
   {
    "duration": 102,
    "start_time": "2025-01-14T21:06:00.004Z"
   },
   {
    "duration": 4,
    "start_time": "2025-01-14T21:06:00.108Z"
   },
   {
    "duration": 22,
    "start_time": "2025-01-14T21:06:00.114Z"
   },
   {
    "duration": 633,
    "start_time": "2025-01-14T21:06:00.138Z"
   },
   {
    "duration": 6,
    "start_time": "2025-01-14T21:06:00.772Z"
   },
   {
    "duration": 22,
    "start_time": "2025-01-14T21:06:00.780Z"
   },
   {
    "duration": 24,
    "start_time": "2025-01-14T21:06:00.803Z"
   },
   {
    "duration": 94,
    "start_time": "2025-01-14T21:06:00.829Z"
   },
   {
    "duration": 24,
    "start_time": "2025-01-14T21:06:00.925Z"
   },
   {
    "duration": 67,
    "start_time": "2025-01-14T21:06:00.950Z"
   },
   {
    "duration": 4,
    "start_time": "2025-01-14T21:06:01.019Z"
   },
   {
    "duration": 17,
    "start_time": "2025-01-14T21:06:01.024Z"
   },
   {
    "duration": 10,
    "start_time": "2025-01-14T21:06:01.042Z"
   },
   {
    "duration": 1749,
    "start_time": "2025-01-14T21:06:01.053Z"
   },
   {
    "duration": 1751,
    "start_time": "2025-01-14T21:06:02.804Z"
   },
   {
    "duration": 1773,
    "start_time": "2025-01-14T21:06:04.556Z"
   },
   {
    "duration": 1257,
    "start_time": "2025-01-14T21:18:50.590Z"
   },
   {
    "duration": 424,
    "start_time": "2025-01-14T21:18:51.849Z"
   },
   {
    "duration": 68,
    "start_time": "2025-01-14T21:18:52.275Z"
   },
   {
    "duration": 38,
    "start_time": "2025-01-14T21:18:52.346Z"
   },
   {
    "duration": 9,
    "start_time": "2025-01-14T21:18:52.386Z"
   },
   {
    "duration": 44,
    "start_time": "2025-01-14T21:18:52.396Z"
   },
   {
    "duration": 15,
    "start_time": "2025-01-14T21:18:52.442Z"
   },
   {
    "duration": 13,
    "start_time": "2025-01-14T21:18:52.459Z"
   },
   {
    "duration": 25,
    "start_time": "2025-01-14T21:18:52.474Z"
   },
   {
    "duration": 37,
    "start_time": "2025-01-14T21:18:52.502Z"
   },
   {
    "duration": 15,
    "start_time": "2025-01-14T21:18:52.541Z"
   },
   {
    "duration": 24,
    "start_time": "2025-01-14T21:18:52.558Z"
   },
   {
    "duration": 9,
    "start_time": "2025-01-14T21:18:52.584Z"
   },
   {
    "duration": 9,
    "start_time": "2025-01-14T21:18:52.595Z"
   },
   {
    "duration": 60,
    "start_time": "2025-01-14T21:18:52.605Z"
   },
   {
    "duration": 37,
    "start_time": "2025-01-14T21:18:52.671Z"
   },
   {
    "duration": 37,
    "start_time": "2025-01-14T21:18:52.710Z"
   },
   {
    "duration": 33,
    "start_time": "2025-01-14T21:18:52.749Z"
   },
   {
    "duration": 80,
    "start_time": "2025-01-14T21:18:52.784Z"
   },
   {
    "duration": 85,
    "start_time": "2025-01-14T21:18:52.866Z"
   },
   {
    "duration": 42,
    "start_time": "2025-01-14T21:18:52.953Z"
   },
   {
    "duration": 5,
    "start_time": "2025-01-14T21:18:52.998Z"
   },
   {
    "duration": 5,
    "start_time": "2025-01-14T21:18:53.004Z"
   },
   {
    "duration": 663,
    "start_time": "2025-01-14T21:18:53.011Z"
   },
   {
    "duration": 6,
    "start_time": "2025-01-14T21:18:53.676Z"
   },
   {
    "duration": 5,
    "start_time": "2025-01-14T21:18:53.684Z"
   },
   {
    "duration": 4,
    "start_time": "2025-01-14T21:18:53.691Z"
   },
   {
    "duration": 9,
    "start_time": "2025-01-14T21:18:53.699Z"
   },
   {
    "duration": 12,
    "start_time": "2025-01-14T21:18:53.710Z"
   },
   {
    "duration": 64,
    "start_time": "2025-01-14T21:18:53.724Z"
   },
   {
    "duration": 5,
    "start_time": "2025-01-14T21:18:53.790Z"
   },
   {
    "duration": 6,
    "start_time": "2025-01-14T21:18:53.797Z"
   },
   {
    "duration": 6,
    "start_time": "2025-01-14T21:18:53.804Z"
   },
   {
    "duration": 1772,
    "start_time": "2025-01-14T21:18:53.812Z"
   },
   {
    "duration": 1734,
    "start_time": "2025-01-14T21:18:55.586Z"
   },
   {
    "duration": 1674,
    "start_time": "2025-01-14T21:18:57.322Z"
   },
   {
    "duration": 10,
    "start_time": "2025-01-14T21:28:43.511Z"
   },
   {
    "duration": 1233,
    "start_time": "2025-01-14T21:30:14.205Z"
   },
   {
    "duration": 440,
    "start_time": "2025-01-14T21:30:15.439Z"
   },
   {
    "duration": 73,
    "start_time": "2025-01-14T21:30:15.880Z"
   },
   {
    "duration": 23,
    "start_time": "2025-01-14T21:30:15.971Z"
   },
   {
    "duration": 9,
    "start_time": "2025-01-14T21:30:15.995Z"
   },
   {
    "duration": 14,
    "start_time": "2025-01-14T21:30:16.005Z"
   },
   {
    "duration": 16,
    "start_time": "2025-01-14T21:30:16.021Z"
   },
   {
    "duration": 32,
    "start_time": "2025-01-14T21:30:16.039Z"
   },
   {
    "duration": 18,
    "start_time": "2025-01-14T21:30:16.073Z"
   },
   {
    "duration": 14,
    "start_time": "2025-01-14T21:30:16.094Z"
   },
   {
    "duration": 9,
    "start_time": "2025-01-14T21:30:16.109Z"
   },
   {
    "duration": 20,
    "start_time": "2025-01-14T21:30:16.119Z"
   },
   {
    "duration": 30,
    "start_time": "2025-01-14T21:30:16.141Z"
   },
   {
    "duration": 10,
    "start_time": "2025-01-14T21:30:16.173Z"
   },
   {
    "duration": 46,
    "start_time": "2025-01-14T21:30:16.185Z"
   },
   {
    "duration": 54,
    "start_time": "2025-01-14T21:30:16.233Z"
   },
   {
    "duration": 41,
    "start_time": "2025-01-14T21:30:16.289Z"
   },
   {
    "duration": 39,
    "start_time": "2025-01-14T21:30:16.332Z"
   },
   {
    "duration": 19,
    "start_time": "2025-01-14T21:30:16.372Z"
   },
   {
    "duration": 19,
    "start_time": "2025-01-14T21:30:16.393Z"
   },
   {
    "duration": 60,
    "start_time": "2025-01-14T21:30:16.414Z"
   },
   {
    "duration": 6,
    "start_time": "2025-01-14T21:30:16.476Z"
   },
   {
    "duration": 10,
    "start_time": "2025-01-14T21:30:16.483Z"
   },
   {
    "duration": 578,
    "start_time": "2025-01-14T21:30:16.495Z"
   },
   {
    "duration": 6,
    "start_time": "2025-01-14T21:30:17.075Z"
   },
   {
    "duration": 9,
    "start_time": "2025-01-14T21:30:17.082Z"
   },
   {
    "duration": 16,
    "start_time": "2025-01-14T21:30:17.092Z"
   },
   {
    "duration": 12,
    "start_time": "2025-01-14T21:30:17.111Z"
   },
   {
    "duration": 15,
    "start_time": "2025-01-14T21:30:17.124Z"
   },
   {
    "duration": 44,
    "start_time": "2025-01-14T21:30:17.141Z"
   },
   {
    "duration": 4,
    "start_time": "2025-01-14T21:30:17.186Z"
   },
   {
    "duration": 18,
    "start_time": "2025-01-14T21:30:17.191Z"
   },
   {
    "duration": 8,
    "start_time": "2025-01-14T21:30:17.210Z"
   },
   {
    "duration": 88,
    "start_time": "2025-01-14T21:30:17.219Z"
   },
   {
    "duration": 5,
    "start_time": "2025-01-14T21:30:27.638Z"
   },
   {
    "duration": 113,
    "start_time": "2025-01-14T21:30:58.841Z"
   },
   {
    "duration": 8,
    "start_time": "2025-01-14T21:32:10.631Z"
   },
   {
    "duration": 6,
    "start_time": "2025-01-14T21:32:20.694Z"
   },
   {
    "duration": 3,
    "start_time": "2025-01-14T21:32:53.892Z"
   },
   {
    "duration": 424,
    "start_time": "2025-01-14T21:32:54.226Z"
   },
   {
    "duration": 13,
    "start_time": "2025-01-14T21:32:54.652Z"
   },
   {
    "duration": 15,
    "start_time": "2025-01-14T21:32:54.701Z"
   },
   {
    "duration": 8,
    "start_time": "2025-01-14T21:32:54.834Z"
   },
   {
    "duration": 13,
    "start_time": "2025-01-14T21:32:54.979Z"
   },
   {
    "duration": 15,
    "start_time": "2025-01-14T21:32:55.138Z"
   },
   {
    "duration": 10,
    "start_time": "2025-01-14T21:32:55.300Z"
   },
   {
    "duration": 12,
    "start_time": "2025-01-14T21:32:55.448Z"
   },
   {
    "duration": 14,
    "start_time": "2025-01-14T21:32:55.595Z"
   },
   {
    "duration": 13,
    "start_time": "2025-01-14T21:32:55.746Z"
   },
   {
    "duration": 10,
    "start_time": "2025-01-14T21:32:59.586Z"
   },
   {
    "duration": 10,
    "start_time": "2025-01-14T21:32:59.877Z"
   },
   {
    "duration": 9,
    "start_time": "2025-01-14T21:33:00.127Z"
   },
   {
    "duration": 40,
    "start_time": "2025-01-14T21:33:00.742Z"
   },
   {
    "duration": 36,
    "start_time": "2025-01-14T21:33:01.092Z"
   },
   {
    "duration": 40,
    "start_time": "2025-01-14T21:33:01.560Z"
   },
   {
    "duration": 27,
    "start_time": "2025-01-14T21:33:05.752Z"
   },
   {
    "duration": 17,
    "start_time": "2025-01-14T21:33:06.106Z"
   },
   {
    "duration": 18,
    "start_time": "2025-01-14T21:33:06.460Z"
   },
   {
    "duration": 41,
    "start_time": "2025-01-14T21:33:09.240Z"
   },
   {
    "duration": 15,
    "start_time": "2025-01-14T21:33:56.411Z"
   },
   {
    "duration": 4,
    "start_time": "2025-01-14T21:33:58.767Z"
   },
   {
    "duration": 41,
    "start_time": "2025-01-14T21:33:58.908Z"
   },
   {
    "duration": 1248,
    "start_time": "2025-01-14T21:34:32.232Z"
   },
   {
    "duration": 412,
    "start_time": "2025-01-14T21:34:33.482Z"
   },
   {
    "duration": 69,
    "start_time": "2025-01-14T21:34:33.896Z"
   },
   {
    "duration": 22,
    "start_time": "2025-01-14T21:34:33.970Z"
   },
   {
    "duration": 8,
    "start_time": "2025-01-14T21:34:33.994Z"
   },
   {
    "duration": 14,
    "start_time": "2025-01-14T21:34:34.004Z"
   },
   {
    "duration": 16,
    "start_time": "2025-01-14T21:34:34.019Z"
   },
   {
    "duration": 36,
    "start_time": "2025-01-14T21:34:34.036Z"
   },
   {
    "duration": 18,
    "start_time": "2025-01-14T21:34:34.073Z"
   },
   {
    "duration": 39,
    "start_time": "2025-01-14T21:34:34.093Z"
   },
   {
    "duration": 12,
    "start_time": "2025-01-14T21:34:34.134Z"
   },
   {
    "duration": 35,
    "start_time": "2025-01-14T21:34:34.147Z"
   },
   {
    "duration": 21,
    "start_time": "2025-01-14T21:34:34.184Z"
   },
   {
    "duration": 34,
    "start_time": "2025-01-14T21:34:34.208Z"
   },
   {
    "duration": 42,
    "start_time": "2025-01-14T21:34:34.244Z"
   },
   {
    "duration": 36,
    "start_time": "2025-01-14T21:34:34.287Z"
   },
   {
    "duration": 58,
    "start_time": "2025-01-14T21:34:34.324Z"
   },
   {
    "duration": 16,
    "start_time": "2025-01-14T21:34:34.383Z"
   },
   {
    "duration": 48,
    "start_time": "2025-01-14T21:34:34.401Z"
   },
   {
    "duration": 17,
    "start_time": "2025-01-14T21:34:34.451Z"
   },
   {
    "duration": 42,
    "start_time": "2025-01-14T21:34:34.470Z"
   },
   {
    "duration": 15,
    "start_time": "2025-01-14T21:34:34.514Z"
   },
   {
    "duration": 4,
    "start_time": "2025-01-14T21:34:34.531Z"
   },
   {
    "duration": 152,
    "start_time": "2025-01-14T21:34:34.536Z"
   },
   {
    "duration": 0,
    "start_time": "2025-01-14T21:34:34.690Z"
   },
   {
    "duration": 0,
    "start_time": "2025-01-14T21:34:34.691Z"
   },
   {
    "duration": 0,
    "start_time": "2025-01-14T21:34:34.693Z"
   },
   {
    "duration": 0,
    "start_time": "2025-01-14T21:34:34.694Z"
   },
   {
    "duration": 0,
    "start_time": "2025-01-14T21:34:34.695Z"
   },
   {
    "duration": 0,
    "start_time": "2025-01-14T21:34:34.697Z"
   },
   {
    "duration": 0,
    "start_time": "2025-01-14T21:34:34.698Z"
   },
   {
    "duration": 0,
    "start_time": "2025-01-14T21:34:34.700Z"
   },
   {
    "duration": 0,
    "start_time": "2025-01-14T21:34:34.701Z"
   },
   {
    "duration": 0,
    "start_time": "2025-01-14T21:34:34.702Z"
   },
   {
    "duration": 0,
    "start_time": "2025-01-14T21:34:34.703Z"
   },
   {
    "duration": 0,
    "start_time": "2025-01-14T21:34:34.705Z"
   },
   {
    "duration": 0,
    "start_time": "2025-01-14T21:34:34.706Z"
   },
   {
    "duration": 3,
    "start_time": "2025-01-14T21:35:06.600Z"
   },
   {
    "duration": 317,
    "start_time": "2025-01-14T21:35:08.858Z"
   },
   {
    "duration": 6,
    "start_time": "2025-01-14T21:35:11.603Z"
   },
   {
    "duration": 3,
    "start_time": "2025-01-14T21:35:18.472Z"
   },
   {
    "duration": 3,
    "start_time": "2025-01-14T21:35:19.402Z"
   },
   {
    "duration": 3,
    "start_time": "2025-01-14T21:35:19.929Z"
   },
   {
    "duration": 5,
    "start_time": "2025-01-14T21:35:20.755Z"
   },
   {
    "duration": 34,
    "start_time": "2025-01-14T21:35:26.838Z"
   },
   {
    "duration": 5,
    "start_time": "2025-01-14T21:35:28.768Z"
   },
   {
    "duration": 6,
    "start_time": "2025-01-14T21:35:29.884Z"
   },
   {
    "duration": 6,
    "start_time": "2025-01-14T21:35:37.075Z"
   },
   {
    "duration": 21,
    "start_time": "2025-01-14T21:35:38.840Z"
   },
   {
    "duration": 5,
    "start_time": "2025-01-14T21:36:23.156Z"
   },
   {
    "duration": 17,
    "start_time": "2025-01-14T21:36:24.831Z"
   },
   {
    "duration": 11,
    "start_time": "2025-01-14T21:36:41.094Z"
   },
   {
    "duration": 6,
    "start_time": "2025-01-14T21:37:52.403Z"
   },
   {
    "duration": 10,
    "start_time": "2025-01-14T21:37:53.167Z"
   },
   {
    "duration": 18,
    "start_time": "2025-01-14T21:37:57.223Z"
   },
   {
    "duration": 13,
    "start_time": "2025-01-14T21:38:26.415Z"
   },
   {
    "duration": 12,
    "start_time": "2025-01-14T21:38:31.116Z"
   },
   {
    "duration": 1527,
    "start_time": "2025-01-14T21:38:38.620Z"
   },
   {
    "duration": 1282,
    "start_time": "2025-01-14T21:38:50.622Z"
   },
   {
    "duration": 3,
    "start_time": "2025-01-14T21:38:57.809Z"
   },
   {
    "duration": 9,
    "start_time": "2025-01-14T21:39:07.864Z"
   },
   {
    "duration": 4,
    "start_time": "2025-01-14T21:40:29.013Z"
   },
   {
    "duration": 12,
    "start_time": "2025-01-14T21:40:34.585Z"
   },
   {
    "duration": 6,
    "start_time": "2025-01-14T21:40:53.698Z"
   },
   {
    "duration": 801,
    "start_time": "2025-01-14T21:40:59.872Z"
   },
   {
    "duration": 9,
    "start_time": "2025-01-14T21:41:05.349Z"
   },
   {
    "duration": 758,
    "start_time": "2025-01-14T21:41:21.721Z"
   },
   {
    "duration": 777,
    "start_time": "2025-01-14T21:41:22.586Z"
   },
   {
    "duration": 1288,
    "start_time": "2025-01-14T21:42:39.079Z"
   },
   {
    "duration": 433,
    "start_time": "2025-01-14T21:42:40.370Z"
   },
   {
    "duration": 69,
    "start_time": "2025-01-14T21:42:40.805Z"
   },
   {
    "duration": 21,
    "start_time": "2025-01-14T21:42:40.876Z"
   },
   {
    "duration": 122,
    "start_time": "2025-01-14T21:42:40.899Z"
   },
   {
    "duration": 13,
    "start_time": "2025-01-14T21:42:41.023Z"
   },
   {
    "duration": 15,
    "start_time": "2025-01-14T21:42:41.038Z"
   },
   {
    "duration": 8,
    "start_time": "2025-01-14T21:42:41.055Z"
   },
   {
    "duration": 15,
    "start_time": "2025-01-14T21:42:41.064Z"
   },
   {
    "duration": 16,
    "start_time": "2025-01-14T21:42:41.082Z"
   },
   {
    "duration": 8,
    "start_time": "2025-01-14T21:42:41.099Z"
   },
   {
    "duration": 22,
    "start_time": "2025-01-14T21:42:41.108Z"
   },
   {
    "duration": 22,
    "start_time": "2025-01-14T21:42:41.131Z"
   },
   {
    "duration": 16,
    "start_time": "2025-01-14T21:42:41.155Z"
   },
   {
    "duration": 39,
    "start_time": "2025-01-14T21:42:41.173Z"
   },
   {
    "duration": 36,
    "start_time": "2025-01-14T21:42:41.214Z"
   },
   {
    "duration": 58,
    "start_time": "2025-01-14T21:42:41.252Z"
   },
   {
    "duration": 16,
    "start_time": "2025-01-14T21:42:41.312Z"
   },
   {
    "duration": 22,
    "start_time": "2025-01-14T21:42:41.329Z"
   },
   {
    "duration": 29,
    "start_time": "2025-01-14T21:42:41.353Z"
   },
   {
    "duration": 41,
    "start_time": "2025-01-14T21:42:41.384Z"
   },
   {
    "duration": 14,
    "start_time": "2025-01-14T21:42:41.427Z"
   },
   {
    "duration": 28,
    "start_time": "2025-01-14T21:42:41.443Z"
   },
   {
    "duration": 304,
    "start_time": "2025-01-14T21:42:41.473Z"
   },
   {
    "duration": 94,
    "start_time": "2025-01-14T21:42:41.780Z"
   },
   {
    "duration": 94,
    "start_time": "2025-01-14T21:42:41.876Z"
   },
   {
    "duration": 7,
    "start_time": "2025-01-14T21:42:41.972Z"
   },
   {
    "duration": 5,
    "start_time": "2025-01-14T21:42:41.982Z"
   },
   {
    "duration": 36,
    "start_time": "2025-01-14T21:42:41.988Z"
   },
   {
    "duration": 33,
    "start_time": "2025-01-14T21:42:42.026Z"
   },
   {
    "duration": 4,
    "start_time": "2025-01-14T21:42:42.060Z"
   },
   {
    "duration": 14,
    "start_time": "2025-01-14T21:42:42.066Z"
   },
   {
    "duration": 5,
    "start_time": "2025-01-14T21:42:42.081Z"
   },
   {
    "duration": 5,
    "start_time": "2025-01-14T21:42:42.088Z"
   },
   {
    "duration": 115,
    "start_time": "2025-01-14T21:42:42.094Z"
   },
   {
    "duration": 0,
    "start_time": "2025-01-14T21:42:42.210Z"
   },
   {
    "duration": 0,
    "start_time": "2025-01-14T21:42:42.212Z"
   },
   {
    "duration": 0,
    "start_time": "2025-01-14T21:42:42.213Z"
   },
   {
    "duration": 784,
    "start_time": "2025-01-14T21:42:52.137Z"
   },
   {
    "duration": 751,
    "start_time": "2025-01-14T21:42:54.581Z"
   },
   {
    "duration": 778,
    "start_time": "2025-01-14T21:42:55.483Z"
   },
   {
    "duration": 5,
    "start_time": "2025-01-14T21:45:44.828Z"
   },
   {
    "duration": 21,
    "start_time": "2025-01-14T21:45:50.279Z"
   },
   {
    "duration": 9,
    "start_time": "2025-01-14T21:46:19.303Z"
   },
   {
    "duration": 13,
    "start_time": "2025-01-14T21:46:35.807Z"
   },
   {
    "duration": 5,
    "start_time": "2025-01-14T21:46:51.837Z"
   },
   {
    "duration": 10,
    "start_time": "2025-01-14T21:47:12.813Z"
   },
   {
    "duration": 13,
    "start_time": "2025-01-14T21:47:19.735Z"
   },
   {
    "duration": 676,
    "start_time": "2025-01-14T21:47:36.852Z"
   },
   {
    "duration": 10,
    "start_time": "2025-01-14T21:47:49.071Z"
   },
   {
    "duration": 15,
    "start_time": "2025-01-14T21:49:45.733Z"
   },
   {
    "duration": 17,
    "start_time": "2025-01-14T21:49:51.009Z"
   },
   {
    "duration": 5,
    "start_time": "2025-01-14T21:55:24.029Z"
   },
   {
    "duration": 16,
    "start_time": "2025-01-14T21:55:29.495Z"
   },
   {
    "duration": 5,
    "start_time": "2025-01-14T21:57:20.817Z"
   },
   {
    "duration": 20,
    "start_time": "2025-01-14T21:57:22.242Z"
   },
   {
    "duration": 6,
    "start_time": "2025-01-14T21:58:31.879Z"
   },
   {
    "duration": 21,
    "start_time": "2025-01-14T21:58:56.290Z"
   },
   {
    "duration": 100,
    "start_time": "2025-01-14T22:01:04.523Z"
   },
   {
    "duration": 5,
    "start_time": "2025-01-14T22:01:19.079Z"
   },
   {
    "duration": 20,
    "start_time": "2025-01-14T22:01:39.373Z"
   },
   {
    "duration": 5,
    "start_time": "2025-01-14T22:01:55.718Z"
   },
   {
    "duration": 17,
    "start_time": "2025-01-14T22:02:05.713Z"
   },
   {
    "duration": 8,
    "start_time": "2025-01-14T22:02:24.106Z"
   },
   {
    "duration": 8,
    "start_time": "2025-01-14T22:02:41.016Z"
   },
   {
    "duration": 16,
    "start_time": "2025-01-14T22:02:47.062Z"
   },
   {
    "duration": 4,
    "start_time": "2025-01-14T22:03:24.357Z"
   },
   {
    "duration": 13,
    "start_time": "2025-01-14T22:03:31.719Z"
   },
   {
    "duration": 4,
    "start_time": "2025-01-14T22:03:51.051Z"
   },
   {
    "duration": 6,
    "start_time": "2025-01-14T22:05:04.216Z"
   },
   {
    "duration": 5,
    "start_time": "2025-01-14T22:05:22.454Z"
   },
   {
    "duration": 5,
    "start_time": "2025-01-14T22:07:45.477Z"
   },
   {
    "duration": 9,
    "start_time": "2025-01-14T22:07:54.441Z"
   },
   {
    "duration": 13,
    "start_time": "2025-01-14T22:08:00.977Z"
   },
   {
    "duration": 9,
    "start_time": "2025-01-15T14:33:42.344Z"
   },
   {
    "duration": 1088,
    "start_time": "2025-01-15T14:33:50.233Z"
   },
   {
    "duration": 642,
    "start_time": "2025-01-15T14:33:51.323Z"
   },
   {
    "duration": 15,
    "start_time": "2025-01-15T14:33:51.966Z"
   },
   {
    "duration": 39,
    "start_time": "2025-01-15T14:33:51.983Z"
   },
   {
    "duration": 33,
    "start_time": "2025-01-15T14:33:52.023Z"
   },
   {
    "duration": 55,
    "start_time": "2025-01-15T14:33:52.057Z"
   },
   {
    "duration": 36,
    "start_time": "2025-01-15T14:33:52.114Z"
   },
   {
    "duration": 28,
    "start_time": "2025-01-15T14:33:52.152Z"
   },
   {
    "duration": 54,
    "start_time": "2025-01-15T14:33:52.182Z"
   },
   {
    "duration": 31,
    "start_time": "2025-01-15T14:33:52.240Z"
   },
   {
    "duration": 28,
    "start_time": "2025-01-15T14:33:52.273Z"
   },
   {
    "duration": 30,
    "start_time": "2025-01-15T14:33:52.303Z"
   },
   {
    "duration": 11,
    "start_time": "2025-01-15T14:33:52.334Z"
   },
   {
    "duration": 9,
    "start_time": "2025-01-15T14:33:52.346Z"
   },
   {
    "duration": 67,
    "start_time": "2025-01-15T14:33:52.356Z"
   },
   {
    "duration": 55,
    "start_time": "2025-01-15T14:33:52.426Z"
   },
   {
    "duration": 60,
    "start_time": "2025-01-15T14:33:52.483Z"
   },
   {
    "duration": 19,
    "start_time": "2025-01-15T14:33:52.545Z"
   },
   {
    "duration": 47,
    "start_time": "2025-01-15T14:33:52.565Z"
   },
   {
    "duration": 19,
    "start_time": "2025-01-15T14:33:52.614Z"
   },
   {
    "duration": 58,
    "start_time": "2025-01-15T14:33:52.635Z"
   },
   {
    "duration": 34,
    "start_time": "2025-01-15T14:33:52.695Z"
   },
   {
    "duration": 5,
    "start_time": "2025-01-15T14:33:52.730Z"
   },
   {
    "duration": 292,
    "start_time": "2025-01-15T14:33:52.737Z"
   },
   {
    "duration": 191,
    "start_time": "2025-01-15T14:33:53.031Z"
   },
   {
    "duration": 3,
    "start_time": "2025-01-15T14:33:53.223Z"
   },
   {
    "duration": 21,
    "start_time": "2025-01-15T14:33:53.227Z"
   },
   {
    "duration": 28,
    "start_time": "2025-01-15T14:33:53.250Z"
   },
   {
    "duration": 34,
    "start_time": "2025-01-15T14:33:53.279Z"
   },
   {
    "duration": 63,
    "start_time": "2025-01-15T14:33:53.314Z"
   },
   {
    "duration": 4,
    "start_time": "2025-01-15T14:33:53.379Z"
   },
   {
    "duration": 26,
    "start_time": "2025-01-15T14:33:53.385Z"
   },
   {
    "duration": 6,
    "start_time": "2025-01-15T14:33:53.413Z"
   },
   {
    "duration": 36,
    "start_time": "2025-01-15T14:33:53.421Z"
   },
   {
    "duration": 8,
    "start_time": "2025-01-15T14:33:53.458Z"
   },
   {
    "duration": 5,
    "start_time": "2025-01-15T14:33:53.468Z"
   },
   {
    "duration": 120,
    "start_time": "2025-01-15T14:33:53.474Z"
   },
   {
    "duration": 0,
    "start_time": "2025-01-15T14:33:53.596Z"
   },
   {
    "duration": 0,
    "start_time": "2025-01-15T14:33:53.597Z"
   },
   {
    "duration": 0,
    "start_time": "2025-01-15T14:33:53.598Z"
   },
   {
    "duration": 0,
    "start_time": "2025-01-15T14:33:53.599Z"
   },
   {
    "duration": 4,
    "start_time": "2025-01-15T14:34:15.399Z"
   },
   {
    "duration": 5,
    "start_time": "2025-01-15T14:34:16.967Z"
   },
   {
    "duration": 5,
    "start_time": "2025-01-15T14:36:58.721Z"
   },
   {
    "duration": 7,
    "start_time": "2025-01-15T14:37:22.929Z"
   },
   {
    "duration": 4,
    "start_time": "2025-01-15T14:38:01.602Z"
   },
   {
    "duration": 22,
    "start_time": "2025-01-15T14:38:13.385Z"
   },
   {
    "duration": 5,
    "start_time": "2025-01-15T14:38:33.690Z"
   },
   {
    "duration": 5,
    "start_time": "2025-01-15T14:38:44.081Z"
   },
   {
    "duration": 6,
    "start_time": "2025-01-15T14:38:52.303Z"
   },
   {
    "duration": 5,
    "start_time": "2025-01-15T14:38:57.314Z"
   },
   {
    "duration": 11,
    "start_time": "2025-01-15T14:42:55.195Z"
   },
   {
    "duration": 26,
    "start_time": "2025-01-15T14:43:07.187Z"
   },
   {
    "duration": 6,
    "start_time": "2025-01-15T14:52:19.541Z"
   },
   {
    "duration": 4,
    "start_time": "2025-01-15T14:52:21.014Z"
   },
   {
    "duration": 4,
    "start_time": "2025-01-15T14:54:03.350Z"
   },
   {
    "duration": 3,
    "start_time": "2025-01-15T14:54:03.927Z"
   },
   {
    "duration": 5,
    "start_time": "2025-01-15T14:54:10.846Z"
   },
   {
    "duration": 4,
    "start_time": "2025-01-15T14:54:11.118Z"
   },
   {
    "duration": 10,
    "start_time": "2025-01-15T14:55:54.143Z"
   },
   {
    "duration": 3,
    "start_time": "2025-01-15T14:56:17.048Z"
   },
   {
    "duration": 9,
    "start_time": "2025-01-15T14:56:22.623Z"
   },
   {
    "duration": 3,
    "start_time": "2025-01-15T14:58:28.376Z"
   },
   {
    "duration": 11,
    "start_time": "2025-01-15T14:58:31.639Z"
   },
   {
    "duration": 6,
    "start_time": "2025-01-15T15:01:05.689Z"
   },
   {
    "duration": 4,
    "start_time": "2025-01-15T15:08:02.980Z"
   },
   {
    "duration": 319,
    "start_time": "2025-01-15T15:08:03.611Z"
   },
   {
    "duration": 7,
    "start_time": "2025-01-15T15:08:06.923Z"
   },
   {
    "duration": 4,
    "start_time": "2025-01-15T15:08:12.395Z"
   },
   {
    "duration": 3,
    "start_time": "2025-01-15T15:08:13.674Z"
   },
   {
    "duration": 3,
    "start_time": "2025-01-15T15:08:16.275Z"
   },
   {
    "duration": 5,
    "start_time": "2025-01-15T15:09:14.988Z"
   },
   {
    "duration": 31,
    "start_time": "2025-01-15T15:09:19.675Z"
   },
   {
    "duration": 4,
    "start_time": "2025-01-15T15:09:23.556Z"
   },
   {
    "duration": 5,
    "start_time": "2025-01-15T15:09:24.339Z"
   },
   {
    "duration": 8,
    "start_time": "2025-01-15T15:09:35.940Z"
   },
   {
    "duration": 289,
    "start_time": "2025-01-15T15:09:50.340Z"
   },
   {
    "duration": 9,
    "start_time": "2025-01-15T15:09:59.828Z"
   },
   {
    "duration": 5,
    "start_time": "2025-01-15T15:10:11.318Z"
   },
   {
    "duration": 4,
    "start_time": "2025-01-15T15:10:19.603Z"
   },
   {
    "duration": 5,
    "start_time": "2025-01-15T15:13:41.445Z"
   },
   {
    "duration": 24,
    "start_time": "2025-01-15T15:13:51.558Z"
   },
   {
    "duration": 5,
    "start_time": "2025-01-15T15:14:17.462Z"
   },
   {
    "duration": 5,
    "start_time": "2025-01-15T15:14:31.413Z"
   },
   {
    "duration": 8,
    "start_time": "2025-01-15T15:15:07.790Z"
   },
   {
    "duration": 11,
    "start_time": "2025-01-15T15:15:21.663Z"
   },
   {
    "duration": 12,
    "start_time": "2025-01-15T15:15:27.102Z"
   },
   {
    "duration": 4,
    "start_time": "2025-01-15T15:15:39.718Z"
   },
   {
    "duration": 8,
    "start_time": "2025-01-15T15:16:06.319Z"
   },
   {
    "duration": 6,
    "start_time": "2025-01-15T15:16:24.174Z"
   },
   {
    "duration": 663,
    "start_time": "2025-01-15T15:16:30.798Z"
   },
   {
    "duration": 5,
    "start_time": "2025-01-15T15:22:21.281Z"
   },
   {
    "duration": 662,
    "start_time": "2025-01-15T15:23:16.129Z"
   },
   {
    "duration": 668,
    "start_time": "2025-01-15T15:23:16.793Z"
   },
   {
    "duration": 673,
    "start_time": "2025-01-15T15:23:17.462Z"
   },
   {
    "duration": 1135,
    "start_time": "2025-01-15T15:23:27.391Z"
   },
   {
    "duration": 387,
    "start_time": "2025-01-15T15:23:28.528Z"
   },
   {
    "duration": 16,
    "start_time": "2025-01-15T15:23:28.917Z"
   },
   {
    "duration": 73,
    "start_time": "2025-01-15T15:23:28.935Z"
   },
   {
    "duration": 9,
    "start_time": "2025-01-15T15:23:29.009Z"
   },
   {
    "duration": 14,
    "start_time": "2025-01-15T15:23:29.019Z"
   },
   {
    "duration": 22,
    "start_time": "2025-01-15T15:23:29.034Z"
   },
   {
    "duration": 8,
    "start_time": "2025-01-15T15:23:29.058Z"
   },
   {
    "duration": 31,
    "start_time": "2025-01-15T15:23:29.067Z"
   },
   {
    "duration": 21,
    "start_time": "2025-01-15T15:23:29.101Z"
   },
   {
    "duration": 8,
    "start_time": "2025-01-15T15:23:29.124Z"
   },
   {
    "duration": 12,
    "start_time": "2025-01-15T15:23:29.134Z"
   },
   {
    "duration": 9,
    "start_time": "2025-01-15T15:23:29.147Z"
   },
   {
    "duration": 8,
    "start_time": "2025-01-15T15:23:29.158Z"
   },
   {
    "duration": 67,
    "start_time": "2025-01-15T15:23:29.168Z"
   },
   {
    "duration": 40,
    "start_time": "2025-01-15T15:23:29.236Z"
   },
   {
    "duration": 57,
    "start_time": "2025-01-15T15:23:29.278Z"
   },
   {
    "duration": 51,
    "start_time": "2025-01-15T15:23:29.337Z"
   },
   {
    "duration": 20,
    "start_time": "2025-01-15T15:23:29.389Z"
   },
   {
    "duration": 18,
    "start_time": "2025-01-15T15:23:29.411Z"
   },
   {
    "duration": 60,
    "start_time": "2025-01-15T15:23:29.431Z"
   },
   {
    "duration": 10,
    "start_time": "2025-01-15T15:23:29.493Z"
   },
   {
    "duration": 17,
    "start_time": "2025-01-15T15:23:29.505Z"
   },
   {
    "duration": 399,
    "start_time": "2025-01-15T15:23:29.523Z"
   },
   {
    "duration": 8,
    "start_time": "2025-01-15T15:23:29.924Z"
   },
   {
    "duration": 4,
    "start_time": "2025-01-15T15:23:30.022Z"
   },
   {
    "duration": 34,
    "start_time": "2025-01-15T15:23:30.027Z"
   },
   {
    "duration": 57,
    "start_time": "2025-01-15T15:23:30.063Z"
   },
   {
    "duration": 19,
    "start_time": "2025-01-15T15:23:30.121Z"
   },
   {
    "duration": 57,
    "start_time": "2025-01-15T15:23:30.141Z"
   },
   {
    "duration": 27,
    "start_time": "2025-01-15T15:23:30.199Z"
   },
   {
    "duration": 25,
    "start_time": "2025-01-15T15:23:30.228Z"
   },
   {
    "duration": 29,
    "start_time": "2025-01-15T15:23:30.255Z"
   },
   {
    "duration": 719,
    "start_time": "2025-01-15T15:23:30.286Z"
   },
   {
    "duration": 653,
    "start_time": "2025-01-15T15:23:31.007Z"
   },
   {
    "duration": 649,
    "start_time": "2025-01-15T15:23:31.662Z"
   },
   {
    "duration": 6,
    "start_time": "2025-01-15T15:28:11.291Z"
   },
   {
    "duration": 645,
    "start_time": "2025-01-15T15:28:12.594Z"
   },
   {
    "duration": 648,
    "start_time": "2025-01-15T15:28:23.787Z"
   },
   {
    "duration": 642,
    "start_time": "2025-01-15T15:28:24.954Z"
   },
   {
    "duration": 5,
    "start_time": "2025-01-15T15:29:41.989Z"
   },
   {
    "duration": 645,
    "start_time": "2025-01-15T15:29:43.211Z"
   },
   {
    "duration": 680,
    "start_time": "2025-01-15T15:29:46.051Z"
   },
   {
    "duration": 666,
    "start_time": "2025-01-15T15:29:46.733Z"
   },
   {
    "duration": 1129,
    "start_time": "2025-01-15T15:41:48.688Z"
   },
   {
    "duration": 394,
    "start_time": "2025-01-15T15:41:49.819Z"
   },
   {
    "duration": 18,
    "start_time": "2025-01-15T15:41:50.215Z"
   },
   {
    "duration": 35,
    "start_time": "2025-01-15T15:41:50.235Z"
   },
   {
    "duration": 8,
    "start_time": "2025-01-15T15:41:50.271Z"
   },
   {
    "duration": 29,
    "start_time": "2025-01-15T15:41:50.281Z"
   },
   {
    "duration": 18,
    "start_time": "2025-01-15T15:41:50.311Z"
   },
   {
    "duration": 8,
    "start_time": "2025-01-15T15:41:50.330Z"
   },
   {
    "duration": 47,
    "start_time": "2025-01-15T15:41:50.339Z"
   },
   {
    "duration": 19,
    "start_time": "2025-01-15T15:41:50.388Z"
   },
   {
    "duration": 24,
    "start_time": "2025-01-15T15:41:50.408Z"
   },
   {
    "duration": 19,
    "start_time": "2025-01-15T15:41:50.434Z"
   },
   {
    "duration": 9,
    "start_time": "2025-01-15T15:41:50.455Z"
   },
   {
    "duration": 9,
    "start_time": "2025-01-15T15:41:50.465Z"
   },
   {
    "duration": 52,
    "start_time": "2025-01-15T15:41:50.476Z"
   },
   {
    "duration": 39,
    "start_time": "2025-01-15T15:41:50.529Z"
   },
   {
    "duration": 59,
    "start_time": "2025-01-15T15:41:50.570Z"
   },
   {
    "duration": 20,
    "start_time": "2025-01-15T15:41:50.630Z"
   },
   {
    "duration": 28,
    "start_time": "2025-01-15T15:41:50.651Z"
   },
   {
    "duration": 30,
    "start_time": "2025-01-15T15:41:50.681Z"
   },
   {
    "duration": 60,
    "start_time": "2025-01-15T15:41:50.712Z"
   },
   {
    "duration": 11,
    "start_time": "2025-01-15T15:41:50.773Z"
   },
   {
    "duration": 64,
    "start_time": "2025-01-15T15:41:50.786Z"
   },
   {
    "duration": 276,
    "start_time": "2025-01-15T15:41:50.852Z"
   },
   {
    "duration": 93,
    "start_time": "2025-01-15T15:41:51.131Z"
   },
   {
    "duration": 108,
    "start_time": "2025-01-15T15:41:51.226Z"
   },
   {
    "duration": 8,
    "start_time": "2025-01-15T15:41:51.335Z"
   },
   {
    "duration": 5,
    "start_time": "2025-01-15T15:41:51.346Z"
   },
   {
    "duration": 113,
    "start_time": "2025-01-15T15:41:51.352Z"
   },
   {
    "duration": 30,
    "start_time": "2025-01-15T15:41:51.466Z"
   },
   {
    "duration": 5,
    "start_time": "2025-01-15T15:41:51.497Z"
   },
   {
    "duration": 13,
    "start_time": "2025-01-15T15:41:51.503Z"
   },
   {
    "duration": 5,
    "start_time": "2025-01-15T15:41:51.518Z"
   },
   {
    "duration": 670,
    "start_time": "2025-01-15T15:41:51.524Z"
   },
   {
    "duration": 675,
    "start_time": "2025-01-15T15:41:52.196Z"
   },
   {
    "duration": 646,
    "start_time": "2025-01-15T15:41:52.873Z"
   },
   {
    "duration": 1060,
    "start_time": "2025-01-15T15:42:28.930Z"
   },
   {
    "duration": 407,
    "start_time": "2025-01-15T15:42:29.991Z"
   },
   {
    "duration": 15,
    "start_time": "2025-01-15T15:42:30.400Z"
   },
   {
    "duration": 55,
    "start_time": "2025-01-15T15:42:30.422Z"
   },
   {
    "duration": 17,
    "start_time": "2025-01-15T15:42:30.478Z"
   },
   {
    "duration": 54,
    "start_time": "2025-01-15T15:42:30.497Z"
   },
   {
    "duration": 19,
    "start_time": "2025-01-15T15:42:30.553Z"
   },
   {
    "duration": 17,
    "start_time": "2025-01-15T15:42:30.574Z"
   },
   {
    "duration": 32,
    "start_time": "2025-01-15T15:42:30.593Z"
   },
   {
    "duration": 19,
    "start_time": "2025-01-15T15:42:30.628Z"
   },
   {
    "duration": 9,
    "start_time": "2025-01-15T15:42:30.648Z"
   },
   {
    "duration": 38,
    "start_time": "2025-01-15T15:42:30.659Z"
   },
   {
    "duration": 12,
    "start_time": "2025-01-15T15:42:30.698Z"
   },
   {
    "duration": 25,
    "start_time": "2025-01-15T15:42:30.711Z"
   },
   {
    "duration": 63,
    "start_time": "2025-01-15T15:42:30.738Z"
   },
   {
    "duration": 78,
    "start_time": "2025-01-15T15:42:30.802Z"
   },
   {
    "duration": 43,
    "start_time": "2025-01-15T15:42:30.882Z"
   },
   {
    "duration": 20,
    "start_time": "2025-01-15T15:42:30.927Z"
   },
   {
    "duration": 20,
    "start_time": "2025-01-15T15:42:30.949Z"
   },
   {
    "duration": 53,
    "start_time": "2025-01-15T15:42:30.971Z"
   },
   {
    "duration": 81,
    "start_time": "2025-01-15T15:42:31.025Z"
   },
   {
    "duration": 11,
    "start_time": "2025-01-15T15:42:31.107Z"
   },
   {
    "duration": 4,
    "start_time": "2025-01-15T15:42:31.120Z"
   },
   {
    "duration": 397,
    "start_time": "2025-01-15T15:42:31.125Z"
   },
   {
    "duration": 98,
    "start_time": "2025-01-15T15:42:31.524Z"
   },
   {
    "duration": 28,
    "start_time": "2025-01-15T15:42:31.624Z"
   },
   {
    "duration": 6,
    "start_time": "2025-01-15T15:42:31.653Z"
   },
   {
    "duration": 3,
    "start_time": "2025-01-15T15:42:31.661Z"
   },
   {
    "duration": 11,
    "start_time": "2025-01-15T15:42:31.666Z"
   },
   {
    "duration": 41,
    "start_time": "2025-01-15T15:42:31.679Z"
   },
   {
    "duration": 4,
    "start_time": "2025-01-15T15:42:31.721Z"
   },
   {
    "duration": 8,
    "start_time": "2025-01-15T15:42:31.727Z"
   },
   {
    "duration": 10,
    "start_time": "2025-01-15T15:42:31.737Z"
   },
   {
    "duration": 712,
    "start_time": "2025-01-15T15:42:31.748Z"
   },
   {
    "duration": 660,
    "start_time": "2025-01-15T15:42:32.462Z"
   },
   {
    "duration": 665,
    "start_time": "2025-01-15T15:42:33.123Z"
   },
   {
    "duration": 1128,
    "start_time": "2025-01-15T15:43:06.305Z"
   },
   {
    "duration": 401,
    "start_time": "2025-01-15T15:43:07.434Z"
   },
   {
    "duration": 14,
    "start_time": "2025-01-15T15:43:07.836Z"
   },
   {
    "duration": 43,
    "start_time": "2025-01-15T15:43:07.852Z"
   },
   {
    "duration": 54,
    "start_time": "2025-01-15T15:43:07.897Z"
   },
   {
    "duration": 16,
    "start_time": "2025-01-15T15:43:07.953Z"
   },
   {
    "duration": 18,
    "start_time": "2025-01-15T15:43:07.970Z"
   },
   {
    "duration": 58,
    "start_time": "2025-01-15T15:43:07.990Z"
   },
   {
    "duration": 68,
    "start_time": "2025-01-15T15:43:08.050Z"
   },
   {
    "duration": 23,
    "start_time": "2025-01-15T15:43:08.121Z"
   },
   {
    "duration": 16,
    "start_time": "2025-01-15T15:43:08.146Z"
   },
   {
    "duration": 49,
    "start_time": "2025-01-15T15:43:08.163Z"
   },
   {
    "duration": 48,
    "start_time": "2025-01-15T15:43:08.213Z"
   },
   {
    "duration": 17,
    "start_time": "2025-01-15T15:43:08.263Z"
   },
   {
    "duration": 81,
    "start_time": "2025-01-15T15:43:08.282Z"
   },
   {
    "duration": 42,
    "start_time": "2025-01-15T15:43:08.365Z"
   },
   {
    "duration": 54,
    "start_time": "2025-01-15T15:43:08.408Z"
   },
   {
    "duration": 19,
    "start_time": "2025-01-15T15:43:08.464Z"
   },
   {
    "duration": 25,
    "start_time": "2025-01-15T15:43:08.485Z"
   },
   {
    "duration": 19,
    "start_time": "2025-01-15T15:43:08.522Z"
   },
   {
    "duration": 67,
    "start_time": "2025-01-15T15:43:08.542Z"
   },
   {
    "duration": 19,
    "start_time": "2025-01-15T15:43:08.610Z"
   },
   {
    "duration": 33,
    "start_time": "2025-01-15T15:43:08.630Z"
   },
   {
    "duration": 366,
    "start_time": "2025-01-15T15:43:08.664Z"
   },
   {
    "duration": 90,
    "start_time": "2025-01-15T15:43:09.033Z"
   },
   {
    "duration": 101,
    "start_time": "2025-01-15T15:43:09.126Z"
   },
   {
    "duration": 5,
    "start_time": "2025-01-15T15:43:09.229Z"
   },
   {
    "duration": 3,
    "start_time": "2025-01-15T15:43:09.237Z"
   },
   {
    "duration": 6,
    "start_time": "2025-01-15T15:43:09.242Z"
   },
   {
    "duration": 31,
    "start_time": "2025-01-15T15:43:09.249Z"
   },
   {
    "duration": 3,
    "start_time": "2025-01-15T15:43:09.282Z"
   },
   {
    "duration": 8,
    "start_time": "2025-01-15T15:43:09.287Z"
   },
   {
    "duration": 27,
    "start_time": "2025-01-15T15:43:09.297Z"
   },
   {
    "duration": 696,
    "start_time": "2025-01-15T15:43:09.326Z"
   },
   {
    "duration": 653,
    "start_time": "2025-01-15T15:43:10.025Z"
   },
   {
    "duration": 644,
    "start_time": "2025-01-15T15:43:10.679Z"
   },
   {
    "duration": 1048,
    "start_time": "2025-01-15T15:50:34.962Z"
   },
   {
    "duration": 407,
    "start_time": "2025-01-15T15:50:36.011Z"
   },
   {
    "duration": 15,
    "start_time": "2025-01-15T15:50:36.422Z"
   },
   {
    "duration": 35,
    "start_time": "2025-01-15T15:50:36.439Z"
   },
   {
    "duration": 8,
    "start_time": "2025-01-15T15:50:36.476Z"
   },
   {
    "duration": 31,
    "start_time": "2025-01-15T15:50:36.486Z"
   },
   {
    "duration": 32,
    "start_time": "2025-01-15T15:50:36.518Z"
   },
   {
    "duration": 9,
    "start_time": "2025-01-15T15:50:36.551Z"
   },
   {
    "duration": 45,
    "start_time": "2025-01-15T15:50:36.562Z"
   },
   {
    "duration": 46,
    "start_time": "2025-01-15T15:50:36.609Z"
   },
   {
    "duration": 8,
    "start_time": "2025-01-15T15:50:36.657Z"
   },
   {
    "duration": 68,
    "start_time": "2025-01-15T15:50:36.667Z"
   },
   {
    "duration": 10,
    "start_time": "2025-01-15T15:50:36.737Z"
   },
   {
    "duration": 10,
    "start_time": "2025-01-15T15:50:36.749Z"
   },
   {
    "duration": 62,
    "start_time": "2025-01-15T15:50:36.761Z"
   },
   {
    "duration": 41,
    "start_time": "2025-01-15T15:50:36.825Z"
   },
   {
    "duration": 71,
    "start_time": "2025-01-15T15:50:36.868Z"
   },
   {
    "duration": 21,
    "start_time": "2025-01-15T15:50:36.940Z"
   },
   {
    "duration": 18,
    "start_time": "2025-01-15T15:50:36.963Z"
   },
   {
    "duration": 54,
    "start_time": "2025-01-15T15:50:36.983Z"
   },
   {
    "duration": 118,
    "start_time": "2025-01-15T15:50:37.039Z"
   },
   {
    "duration": 12,
    "start_time": "2025-01-15T15:50:37.159Z"
   },
   {
    "duration": 28,
    "start_time": "2025-01-15T15:50:37.173Z"
   },
   {
    "duration": 329,
    "start_time": "2025-01-15T15:50:37.203Z"
   },
   {
    "duration": 91,
    "start_time": "2025-01-15T15:50:37.534Z"
   },
   {
    "duration": 96,
    "start_time": "2025-01-15T15:50:37.627Z"
   },
   {
    "duration": 6,
    "start_time": "2025-01-15T15:50:37.725Z"
   },
   {
    "duration": 6,
    "start_time": "2025-01-15T15:50:37.735Z"
   },
   {
    "duration": 13,
    "start_time": "2025-01-15T15:50:37.743Z"
   },
   {
    "duration": 35,
    "start_time": "2025-01-15T15:50:37.758Z"
   },
   {
    "duration": 27,
    "start_time": "2025-01-15T15:50:37.795Z"
   },
   {
    "duration": 13,
    "start_time": "2025-01-15T15:50:37.824Z"
   },
   {
    "duration": 5,
    "start_time": "2025-01-15T15:50:37.839Z"
   },
   {
    "duration": 726,
    "start_time": "2025-01-15T15:50:37.845Z"
   },
   {
    "duration": 687,
    "start_time": "2025-01-15T15:50:38.573Z"
   },
   {
    "duration": 684,
    "start_time": "2025-01-15T15:50:39.261Z"
   }
  ],
  "kernelspec": {
   "display_name": "Python 3 (ipykernel)",
   "language": "python",
   "name": "python3"
  },
  "language_info": {
   "codemirror_mode": {
    "name": "ipython",
    "version": 3
   },
   "file_extension": ".py",
   "mimetype": "text/x-python",
   "name": "python",
   "nbconvert_exporter": "python",
   "pygments_lexer": "ipython3",
   "version": "3.12.4"
  },
  "toc": {
   "base_numbering": 1,
   "nav_menu": {},
   "number_sections": true,
   "sideBar": true,
   "skip_h1_title": true,
   "title_cell": "Table of Contents",
   "title_sidebar": "Contents",
   "toc_cell": false,
   "toc_position": {},
   "toc_section_display": true,
   "toc_window_display": false
  }
 },
 "nbformat": 4,
 "nbformat_minor": 4
}
