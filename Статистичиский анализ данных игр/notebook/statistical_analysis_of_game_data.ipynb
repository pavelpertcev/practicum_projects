{
 "cells": [
  {
   "cell_type": "markdown",
   "id": "0c75bbc2",
   "metadata": {},
   "source": [
    "# Статистический анализ данных игр (сборный проект - 1)"
   ]
  },
  {
   "cell_type": "markdown",
   "id": "b32ba88a",
   "metadata": {},
   "source": [
    "В данном проекте мы изучим данные о различных играх. Для начала мы загрузим и обработаем данные, посмотрим правильно ли называются колонки, посмотрим есть ли пропуски в данных, если ли дубликаты. Если есть пропуски, то выясним причину возникновения и решим, оставлять их или нет. Дубликаты удалим. Далее с обработанными данными мы проведем анализ: посмотрим, сколько игр выпускалось в разные годы, выясним, важны ли для нас данные за все периоды. Посмотрим как менялись продажи по платформам за различные периоды, определим актульный для нас период и платформы. Выясним, как складываются продажи у популярных платформ за последние годы, растут или падают. Изучим, как рейтинг пользователей и критиков влияет на продажи игр. Посмотрим, какие жанры являются самыми прибыльными. После этого составим портрет пользователя каждого региона: топ-5 платформ, топ-5 жанров, влияение рейтинга ESRB на продажи. Далее проверим некоторые гипотезы и подведем общий итог."
   ]
  },
  {
   "cell_type": "code",
   "execution_count": 1,
   "id": "a8e055ce",
   "metadata": {},
   "outputs": [],
   "source": [
    "import pandas as pd\n",
    "import numpy as np\n",
    "import matplotlib.pyplot as plt\n",
    "import seaborn as sns\n",
    "from scipy import stats as st\n",
    "from math import sqrt"
   ]
  },
  {
   "cell_type": "markdown",
   "id": "79e911b5",
   "metadata": {},
   "source": [
    "### Шаг 1. Загрузка данных"
   ]
  },
  {
   "cell_type": "code",
   "execution_count": 2,
   "id": "f282dc75",
   "metadata": {},
   "outputs": [],
   "source": [
    "try:\n",
    "    games = pd.read_csv('/datasets/games.csv')\n",
    "except:\n",
    "    games = pd.read_csv('C:/datasets/games.csv')"
   ]
  },
  {
   "cell_type": "code",
   "execution_count": 3,
   "id": "6adfe6a8",
   "metadata": {},
   "outputs": [
    {
     "data": {
      "text/html": [
       "<div>\n",
       "<style scoped>\n",
       "    .dataframe tbody tr th:only-of-type {\n",
       "        vertical-align: middle;\n",
       "    }\n",
       "\n",
       "    .dataframe tbody tr th {\n",
       "        vertical-align: top;\n",
       "    }\n",
       "\n",
       "    .dataframe thead th {\n",
       "        text-align: right;\n",
       "    }\n",
       "</style>\n",
       "<table border=\"1\" class=\"dataframe\">\n",
       "  <thead>\n",
       "    <tr style=\"text-align: right;\">\n",
       "      <th></th>\n",
       "      <th>Name</th>\n",
       "      <th>Platform</th>\n",
       "      <th>Year_of_Release</th>\n",
       "      <th>Genre</th>\n",
       "      <th>NA_sales</th>\n",
       "      <th>EU_sales</th>\n",
       "      <th>JP_sales</th>\n",
       "      <th>Other_sales</th>\n",
       "      <th>Critic_Score</th>\n",
       "      <th>User_Score</th>\n",
       "      <th>Rating</th>\n",
       "    </tr>\n",
       "  </thead>\n",
       "  <tbody>\n",
       "    <tr>\n",
       "      <th>0</th>\n",
       "      <td>Wii Sports</td>\n",
       "      <td>Wii</td>\n",
       "      <td>2006.0</td>\n",
       "      <td>Sports</td>\n",
       "      <td>41.36</td>\n",
       "      <td>28.96</td>\n",
       "      <td>3.77</td>\n",
       "      <td>8.45</td>\n",
       "      <td>76.0</td>\n",
       "      <td>8</td>\n",
       "      <td>E</td>\n",
       "    </tr>\n",
       "    <tr>\n",
       "      <th>1</th>\n",
       "      <td>Super Mario Bros.</td>\n",
       "      <td>NES</td>\n",
       "      <td>1985.0</td>\n",
       "      <td>Platform</td>\n",
       "      <td>29.08</td>\n",
       "      <td>3.58</td>\n",
       "      <td>6.81</td>\n",
       "      <td>0.77</td>\n",
       "      <td>NaN</td>\n",
       "      <td>NaN</td>\n",
       "      <td>NaN</td>\n",
       "    </tr>\n",
       "    <tr>\n",
       "      <th>2</th>\n",
       "      <td>Mario Kart Wii</td>\n",
       "      <td>Wii</td>\n",
       "      <td>2008.0</td>\n",
       "      <td>Racing</td>\n",
       "      <td>15.68</td>\n",
       "      <td>12.76</td>\n",
       "      <td>3.79</td>\n",
       "      <td>3.29</td>\n",
       "      <td>82.0</td>\n",
       "      <td>8.3</td>\n",
       "      <td>E</td>\n",
       "    </tr>\n",
       "    <tr>\n",
       "      <th>3</th>\n",
       "      <td>Wii Sports Resort</td>\n",
       "      <td>Wii</td>\n",
       "      <td>2009.0</td>\n",
       "      <td>Sports</td>\n",
       "      <td>15.61</td>\n",
       "      <td>10.93</td>\n",
       "      <td>3.28</td>\n",
       "      <td>2.95</td>\n",
       "      <td>80.0</td>\n",
       "      <td>8</td>\n",
       "      <td>E</td>\n",
       "    </tr>\n",
       "    <tr>\n",
       "      <th>4</th>\n",
       "      <td>Pokemon Red/Pokemon Blue</td>\n",
       "      <td>GB</td>\n",
       "      <td>1996.0</td>\n",
       "      <td>Role-Playing</td>\n",
       "      <td>11.27</td>\n",
       "      <td>8.89</td>\n",
       "      <td>10.22</td>\n",
       "      <td>1.00</td>\n",
       "      <td>NaN</td>\n",
       "      <td>NaN</td>\n",
       "      <td>NaN</td>\n",
       "    </tr>\n",
       "    <tr>\n",
       "      <th>5</th>\n",
       "      <td>Tetris</td>\n",
       "      <td>GB</td>\n",
       "      <td>1989.0</td>\n",
       "      <td>Puzzle</td>\n",
       "      <td>23.20</td>\n",
       "      <td>2.26</td>\n",
       "      <td>4.22</td>\n",
       "      <td>0.58</td>\n",
       "      <td>NaN</td>\n",
       "      <td>NaN</td>\n",
       "      <td>NaN</td>\n",
       "    </tr>\n",
       "    <tr>\n",
       "      <th>6</th>\n",
       "      <td>New Super Mario Bros.</td>\n",
       "      <td>DS</td>\n",
       "      <td>2006.0</td>\n",
       "      <td>Platform</td>\n",
       "      <td>11.28</td>\n",
       "      <td>9.14</td>\n",
       "      <td>6.50</td>\n",
       "      <td>2.88</td>\n",
       "      <td>89.0</td>\n",
       "      <td>8.5</td>\n",
       "      <td>E</td>\n",
       "    </tr>\n",
       "    <tr>\n",
       "      <th>7</th>\n",
       "      <td>Wii Play</td>\n",
       "      <td>Wii</td>\n",
       "      <td>2006.0</td>\n",
       "      <td>Misc</td>\n",
       "      <td>13.96</td>\n",
       "      <td>9.18</td>\n",
       "      <td>2.93</td>\n",
       "      <td>2.84</td>\n",
       "      <td>58.0</td>\n",
       "      <td>6.6</td>\n",
       "      <td>E</td>\n",
       "    </tr>\n",
       "    <tr>\n",
       "      <th>8</th>\n",
       "      <td>New Super Mario Bros. Wii</td>\n",
       "      <td>Wii</td>\n",
       "      <td>2009.0</td>\n",
       "      <td>Platform</td>\n",
       "      <td>14.44</td>\n",
       "      <td>6.94</td>\n",
       "      <td>4.70</td>\n",
       "      <td>2.24</td>\n",
       "      <td>87.0</td>\n",
       "      <td>8.4</td>\n",
       "      <td>E</td>\n",
       "    </tr>\n",
       "    <tr>\n",
       "      <th>9</th>\n",
       "      <td>Duck Hunt</td>\n",
       "      <td>NES</td>\n",
       "      <td>1984.0</td>\n",
       "      <td>Shooter</td>\n",
       "      <td>26.93</td>\n",
       "      <td>0.63</td>\n",
       "      <td>0.28</td>\n",
       "      <td>0.47</td>\n",
       "      <td>NaN</td>\n",
       "      <td>NaN</td>\n",
       "      <td>NaN</td>\n",
       "    </tr>\n",
       "  </tbody>\n",
       "</table>\n",
       "</div>"
      ],
      "text/plain": [
       "                        Name Platform  Year_of_Release         Genre  \\\n",
       "0                 Wii Sports      Wii           2006.0        Sports   \n",
       "1          Super Mario Bros.      NES           1985.0      Platform   \n",
       "2             Mario Kart Wii      Wii           2008.0        Racing   \n",
       "3          Wii Sports Resort      Wii           2009.0        Sports   \n",
       "4   Pokemon Red/Pokemon Blue       GB           1996.0  Role-Playing   \n",
       "5                     Tetris       GB           1989.0        Puzzle   \n",
       "6      New Super Mario Bros.       DS           2006.0      Platform   \n",
       "7                   Wii Play      Wii           2006.0          Misc   \n",
       "8  New Super Mario Bros. Wii      Wii           2009.0      Platform   \n",
       "9                  Duck Hunt      NES           1984.0       Shooter   \n",
       "\n",
       "   NA_sales  EU_sales  JP_sales  Other_sales  Critic_Score User_Score Rating  \n",
       "0     41.36     28.96      3.77         8.45          76.0          8      E  \n",
       "1     29.08      3.58      6.81         0.77           NaN        NaN    NaN  \n",
       "2     15.68     12.76      3.79         3.29          82.0        8.3      E  \n",
       "3     15.61     10.93      3.28         2.95          80.0          8      E  \n",
       "4     11.27      8.89     10.22         1.00           NaN        NaN    NaN  \n",
       "5     23.20      2.26      4.22         0.58           NaN        NaN    NaN  \n",
       "6     11.28      9.14      6.50         2.88          89.0        8.5      E  \n",
       "7     13.96      9.18      2.93         2.84          58.0        6.6      E  \n",
       "8     14.44      6.94      4.70         2.24          87.0        8.4      E  \n",
       "9     26.93      0.63      0.28         0.47           NaN        NaN    NaN  "
      ]
     },
     "execution_count": 3,
     "metadata": {},
     "output_type": "execute_result"
    }
   ],
   "source": [
    "games.head(10)"
   ]
  },
  {
   "cell_type": "code",
   "execution_count": 4,
   "id": "262330b1",
   "metadata": {},
   "outputs": [
    {
     "name": "stdout",
     "output_type": "stream",
     "text": [
      "<class 'pandas.core.frame.DataFrame'>\n",
      "RangeIndex: 16715 entries, 0 to 16714\n",
      "Data columns (total 11 columns):\n",
      " #   Column           Non-Null Count  Dtype  \n",
      "---  ------           --------------  -----  \n",
      " 0   Name             16713 non-null  object \n",
      " 1   Platform         16715 non-null  object \n",
      " 2   Year_of_Release  16446 non-null  float64\n",
      " 3   Genre            16713 non-null  object \n",
      " 4   NA_sales         16715 non-null  float64\n",
      " 5   EU_sales         16715 non-null  float64\n",
      " 6   JP_sales         16715 non-null  float64\n",
      " 7   Other_sales      16715 non-null  float64\n",
      " 8   Critic_Score     8137 non-null   float64\n",
      " 9   User_Score       10014 non-null  object \n",
      " 10  Rating           9949 non-null   object \n",
      "dtypes: float64(6), object(5)\n",
      "memory usage: 1.4+ MB\n"
     ]
    }
   ],
   "source": [
    "games.info()"
   ]
  },
  {
   "cell_type": "code",
   "execution_count": 5,
   "id": "fbb4b34c",
   "metadata": {},
   "outputs": [
    {
     "data": {
      "text/plain": [
       "Name                  2\n",
       "Platform              0\n",
       "Year_of_Release     269\n",
       "Genre                 2\n",
       "NA_sales              0\n",
       "EU_sales              0\n",
       "JP_sales              0\n",
       "Other_sales           0\n",
       "Critic_Score       8578\n",
       "User_Score         6701\n",
       "Rating             6766\n",
       "dtype: int64"
      ]
     },
     "execution_count": 5,
     "metadata": {},
     "output_type": "execute_result"
    }
   ],
   "source": [
    "games.isna().sum()"
   ]
  },
  {
   "cell_type": "code",
   "execution_count": 6,
   "id": "15a784d4",
   "metadata": {},
   "outputs": [
    {
     "data": {
      "text/plain": [
       "0"
      ]
     },
     "execution_count": 6,
     "metadata": {},
     "output_type": "execute_result"
    }
   ],
   "source": [
    "games.duplicated().sum()"
   ]
  },
  {
   "cell_type": "code",
   "execution_count": 7,
   "id": "eb17f6a9",
   "metadata": {},
   "outputs": [
    {
     "data": {
      "text/plain": [
       "2"
      ]
     },
     "execution_count": 7,
     "metadata": {},
     "output_type": "execute_result"
    }
   ],
   "source": [
    "games.duplicated(subset=['Name', 'Platform', 'Year_of_Release']).sum()"
   ]
  },
  {
   "cell_type": "code",
   "execution_count": 8,
   "id": "f299dacc",
   "metadata": {},
   "outputs": [
    {
     "data": {
      "text/plain": [
       "2"
      ]
     },
     "execution_count": 8,
     "metadata": {},
     "output_type": "execute_result"
    }
   ],
   "source": [
    "#проверим датасет на неявные дубликаты\n",
    "games.duplicated(subset=['Name', 'Platform', 'Year_of_Release']).sum()"
   ]
  },
  {
   "cell_type": "markdown",
   "id": "9d803f3a",
   "metadata": {},
   "source": [
    "Датасет содержит 16715 строк, среди которых есть 2 дубликата, и 11 столбцов. В названиях колонок встречаются заглавные буквы. Эти колонки необходимо будет привести к змеиному регистру. В данных имеются пропуски: сильнее всего это наблюдается в колонках 'Critic_Score', '\n",
    "User_Scor', '\n",
    "Rati', порядка 40-50%. Не все колонки представлены оптимальными типами данных: колонки 'Year_of_Release' и 'Critic_Score' имеет смысл преобразовать к типу 'int', так как в них содержатся целые числа, а колонку 'User_Score' к типу данных float, так как там содержится оценка пользвателей, выраженная в вещественных числах.   "
   ]
  },
  {
   "cell_type": "markdown",
   "id": "2478ba6c",
   "metadata": {},
   "source": [
    "### Шаг 2. Предобработка данных"
   ]
  },
  {
   "cell_type": "code",
   "execution_count": 9,
   "id": "79d97038",
   "metadata": {},
   "outputs": [],
   "source": [
    "# удалим неявные дубликаты\n",
    "games.drop_duplicates(subset=['Name', 'Platform', 'Year_of_Release'], inplace=True)"
   ]
  },
  {
   "cell_type": "code",
   "execution_count": 10,
   "id": "de8ac5ab",
   "metadata": {},
   "outputs": [],
   "source": [
    "#приведем названия столбцов к нижнему регистру\n",
    "games.columns = games.columns.str.lower()"
   ]
  },
  {
   "cell_type": "code",
   "execution_count": 11,
   "id": "c9978460",
   "metadata": {},
   "outputs": [],
   "source": [
    "#удалим строки, где не указаны названия игр и их год\n",
    "games.dropna(subset=['name', 'year_of_release', 'genre'], inplace=True)"
   ]
  },
  {
   "cell_type": "code",
   "execution_count": 12,
   "id": "afae0baf",
   "metadata": {},
   "outputs": [
    {
     "data": {
      "text/plain": [
       "(16443, 11)"
      ]
     },
     "execution_count": 12,
     "metadata": {},
     "output_type": "execute_result"
    }
   ],
   "source": [
    "games.shape"
   ]
  },
  {
   "cell_type": "code",
   "execution_count": 13,
   "id": "dbdf5169",
   "metadata": {},
   "outputs": [
    {
     "data": {
      "text/plain": [
       "array([2006., 1985., 2008., 2009., 1996., 1989., 1984., 2005., 1999.,\n",
       "       2007., 2010., 2013., 2004., 1990., 1988., 2002., 2001., 2011.,\n",
       "       1998., 2015., 2012., 2014., 1992., 1997., 1993., 1994., 1982.,\n",
       "       2016., 2003., 1986., 2000., 1995., 1991., 1981., 1987., 1980.,\n",
       "       1983.])"
      ]
     },
     "execution_count": 13,
     "metadata": {},
     "output_type": "execute_result"
    }
   ],
   "source": [
    "games['year_of_release'].unique()"
   ]
  },
  {
   "cell_type": "code",
   "execution_count": 14,
   "id": "d29154b6",
   "metadata": {},
   "outputs": [],
   "source": [
    "#заменим тип значения в колонке 'year_of_release' на 'int' тк там содержатся целые числа - год выпуска игры\n",
    "games['year_of_release'] = games['year_of_release'].astype('int')"
   ]
  },
  {
   "cell_type": "code",
   "execution_count": 15,
   "id": "7a54e206",
   "metadata": {},
   "outputs": [
    {
     "data": {
      "text/plain": [
       "array([76., nan, 82., 80., 89., 58., 87., 91., 61., 97., 95., 77., 88.,\n",
       "       83., 94., 93., 85., 86., 98., 96., 90., 84., 73., 74., 78., 92.,\n",
       "       71., 72., 68., 62., 49., 67., 81., 66., 56., 79., 70., 59., 64.,\n",
       "       75., 60., 63., 69., 50., 25., 42., 44., 55., 48., 57., 29., 47.,\n",
       "       65., 54., 20., 53., 37., 38., 33., 52., 30., 32., 43., 45., 51.,\n",
       "       40., 46., 39., 34., 41., 36., 31., 27., 35., 26., 19., 28., 23.,\n",
       "       24., 21., 17., 13.])"
      ]
     },
     "execution_count": 15,
     "metadata": {},
     "output_type": "execute_result"
    }
   ],
   "source": [
    "games['critic_score'].unique()"
   ]
  },
  {
   "cell_type": "code",
   "execution_count": 16,
   "id": "9008f8c6",
   "metadata": {},
   "outputs": [],
   "source": [
    "#заменим тип значения в колонке 'critic_score' на 'Int64' тк там содержатся целые числа и NAN\n",
    "games['critic_score'] = games['critic_score'].astype('Int64')"
   ]
  },
  {
   "cell_type": "code",
   "execution_count": 17,
   "id": "d5a114ee",
   "metadata": {},
   "outputs": [
    {
     "data": {
      "text/plain": [
       "array(['8', nan, '8.3', '8.5', '6.6', '8.4', '8.6', '7.7', '6.3', '7.4',\n",
       "       '8.2', '9', '7.9', '8.1', '8.7', '7.1', '3.4', '5.3', '4.8', '3.2',\n",
       "       '8.9', '6.4', '7.8', '7.5', '2.6', '7.2', '9.2', '7', '7.3', '4.3',\n",
       "       '7.6', '5.7', '5', '9.1', '6.5', 'tbd', '8.8', '6.9', '9.4', '6.8',\n",
       "       '6.1', '6.7', '5.4', '4', '4.9', '4.5', '9.3', '6.2', '4.2', '6',\n",
       "       '3.7', '4.1', '5.8', '5.6', '5.5', '4.4', '4.6', '5.9', '3.9',\n",
       "       '3.1', '2.9', '5.2', '3.3', '4.7', '5.1', '3.5', '2.5', '1.9', '3',\n",
       "       '2.7', '2.2', '2', '9.5', '2.1', '3.6', '2.8', '1.8', '3.8', '0',\n",
       "       '1.6', '9.6', '2.4', '1.7', '1.1', '0.3', '1.5', '0.7', '1.2',\n",
       "       '2.3', '0.5', '1.3', '0.2', '0.6', '1.4', '0.9', '1', '9.7'],\n",
       "      dtype=object)"
      ]
     },
     "execution_count": 17,
     "metadata": {},
     "output_type": "execute_result"
    }
   ],
   "source": [
    "games['user_score'].unique()"
   ]
  },
  {
   "cell_type": "code",
   "execution_count": 18,
   "id": "e275376b",
   "metadata": {},
   "outputs": [
    {
     "data": {
      "text/plain": [
       "2376"
      ]
     },
     "execution_count": 18,
     "metadata": {},
     "output_type": "execute_result"
    }
   ],
   "source": [
    "#посмотрим на количество строк со значением колонки 'user_score' = 'tbd'\n",
    "games[games['user_score'] == 'tbd']['user_score'].count()"
   ]
  },
  {
   "cell_type": "markdown",
   "id": "888ec1b9",
   "metadata": {},
   "source": [
    "'tbd' означает что рейтинг игры не определен. Таких строк достаточно много в масштабах нашего датасета (порядка 15%), поэтому удаление такого количество строк может исказить наш анализ. Если 'tbd' превратить в 0, то это так же может поменять наши данные, так как из-за этого исказиться значение среднего и прочее. Поэтому оставим строки содержащие 'tbd', но переведем такие значения в колонке 'user_score' в NAN (пропуски). А все колонку приведем к типу данных 'float' для удобства в дальнейшей работе с данными."
   ]
  },
  {
   "cell_type": "code",
   "execution_count": 19,
   "id": "3c96de2a",
   "metadata": {},
   "outputs": [],
   "source": [
    "games.loc[games['user_score'] == 'tbd', 'user_score'] = np.nan"
   ]
  },
  {
   "cell_type": "code",
   "execution_count": 20,
   "id": "f3705925",
   "metadata": {},
   "outputs": [],
   "source": [
    "#заменим тип значения в колонке 'user_score' на 'float' тк там содержатся вещесвтенные числа и NAN\n",
    "games['user_score'] = games['user_score'].astype('float')"
   ]
  },
  {
   "cell_type": "code",
   "execution_count": 21,
   "id": "e955b887",
   "metadata": {},
   "outputs": [
    {
     "name": "stdout",
     "output_type": "stream",
     "text": [
      "<class 'pandas.core.frame.DataFrame'>\n",
      "Int64Index: 16443 entries, 0 to 16714\n",
      "Data columns (total 11 columns):\n",
      " #   Column           Non-Null Count  Dtype  \n",
      "---  ------           --------------  -----  \n",
      " 0   name             16443 non-null  object \n",
      " 1   platform         16443 non-null  object \n",
      " 2   year_of_release  16443 non-null  int64  \n",
      " 3   genre            16443 non-null  object \n",
      " 4   na_sales         16443 non-null  float64\n",
      " 5   eu_sales         16443 non-null  float64\n",
      " 6   jp_sales         16443 non-null  float64\n",
      " 7   other_sales      16443 non-null  float64\n",
      " 8   critic_score     7982 non-null   Int64  \n",
      " 9   user_score       7462 non-null   float64\n",
      " 10  rating           9767 non-null   object \n",
      "dtypes: Int64(1), float64(5), int64(1), object(4)\n",
      "memory usage: 1.5+ MB\n"
     ]
    }
   ],
   "source": [
    "#взглянем на информацию об обновленной таблице\n",
    "games.info()"
   ]
  },
  {
   "cell_type": "markdown",
   "id": "7f9299c5",
   "metadata": {},
   "source": [
    "Типы данных колонок стали более удобными для работы с ними. Так же убавилось количество пропусков, за исключением трех последних столбцов. Эти пропуски могли возникнуть в результате того, что игры могли выходить давно, и данные о рейтингах не сохранились, либо игры были непопулярными и не были оценены, либо сами компании, выпускающие игры, не присваилали никакой рейтинг (возрастной) для того, чтобы больше пользователей захотели купить ее игру."
   ]
  },
  {
   "cell_type": "code",
   "execution_count": 22,
   "id": "d2df7492",
   "metadata": {},
   "outputs": [],
   "source": [
    "#посчитаем суммарные продажи во всех регионах и занесем их в новую колонку 'total_sales'\n",
    "games['total_sales'] = games['na_sales'] + games['eu_sales'] + games['jp_sales'] + games['other_sales']"
   ]
  },
  {
   "cell_type": "code",
   "execution_count": 23,
   "id": "6f1f7e82",
   "metadata": {},
   "outputs": [
    {
     "data": {
      "text/plain": [
       "1.6272808854322474"
      ]
     },
     "execution_count": 23,
     "metadata": {},
     "output_type": "execute_result"
    }
   ],
   "source": [
    "(1 - games.shape[0] / 16715) * 100"
   ]
  },
  {
   "cell_type": "code",
   "execution_count": 24,
   "id": "a78a203a",
   "metadata": {
    "scrolled": true
   },
   "outputs": [
    {
     "data": {
      "text/html": [
       "<div>\n",
       "<style scoped>\n",
       "    .dataframe tbody tr th:only-of-type {\n",
       "        vertical-align: middle;\n",
       "    }\n",
       "\n",
       "    .dataframe tbody tr th {\n",
       "        vertical-align: top;\n",
       "    }\n",
       "\n",
       "    .dataframe thead th {\n",
       "        text-align: right;\n",
       "    }\n",
       "</style>\n",
       "<table border=\"1\" class=\"dataframe\">\n",
       "  <thead>\n",
       "    <tr style=\"text-align: right;\">\n",
       "      <th></th>\n",
       "      <th>name</th>\n",
       "      <th>platform</th>\n",
       "      <th>year_of_release</th>\n",
       "      <th>genre</th>\n",
       "      <th>na_sales</th>\n",
       "      <th>eu_sales</th>\n",
       "      <th>jp_sales</th>\n",
       "      <th>other_sales</th>\n",
       "      <th>critic_score</th>\n",
       "      <th>user_score</th>\n",
       "      <th>rating</th>\n",
       "      <th>total_sales</th>\n",
       "    </tr>\n",
       "  </thead>\n",
       "  <tbody>\n",
       "    <tr>\n",
       "      <th>0</th>\n",
       "      <td>Wii Sports</td>\n",
       "      <td>Wii</td>\n",
       "      <td>2006</td>\n",
       "      <td>Sports</td>\n",
       "      <td>41.36</td>\n",
       "      <td>28.96</td>\n",
       "      <td>3.77</td>\n",
       "      <td>8.45</td>\n",
       "      <td>76</td>\n",
       "      <td>8.0</td>\n",
       "      <td>E</td>\n",
       "      <td>82.54</td>\n",
       "    </tr>\n",
       "    <tr>\n",
       "      <th>1</th>\n",
       "      <td>Super Mario Bros.</td>\n",
       "      <td>NES</td>\n",
       "      <td>1985</td>\n",
       "      <td>Platform</td>\n",
       "      <td>29.08</td>\n",
       "      <td>3.58</td>\n",
       "      <td>6.81</td>\n",
       "      <td>0.77</td>\n",
       "      <td>&lt;NA&gt;</td>\n",
       "      <td>NaN</td>\n",
       "      <td>NaN</td>\n",
       "      <td>40.24</td>\n",
       "    </tr>\n",
       "    <tr>\n",
       "      <th>2</th>\n",
       "      <td>Mario Kart Wii</td>\n",
       "      <td>Wii</td>\n",
       "      <td>2008</td>\n",
       "      <td>Racing</td>\n",
       "      <td>15.68</td>\n",
       "      <td>12.76</td>\n",
       "      <td>3.79</td>\n",
       "      <td>3.29</td>\n",
       "      <td>82</td>\n",
       "      <td>8.3</td>\n",
       "      <td>E</td>\n",
       "      <td>35.52</td>\n",
       "    </tr>\n",
       "    <tr>\n",
       "      <th>3</th>\n",
       "      <td>Wii Sports Resort</td>\n",
       "      <td>Wii</td>\n",
       "      <td>2009</td>\n",
       "      <td>Sports</td>\n",
       "      <td>15.61</td>\n",
       "      <td>10.93</td>\n",
       "      <td>3.28</td>\n",
       "      <td>2.95</td>\n",
       "      <td>80</td>\n",
       "      <td>8.0</td>\n",
       "      <td>E</td>\n",
       "      <td>32.77</td>\n",
       "    </tr>\n",
       "    <tr>\n",
       "      <th>4</th>\n",
       "      <td>Pokemon Red/Pokemon Blue</td>\n",
       "      <td>GB</td>\n",
       "      <td>1996</td>\n",
       "      <td>Role-Playing</td>\n",
       "      <td>11.27</td>\n",
       "      <td>8.89</td>\n",
       "      <td>10.22</td>\n",
       "      <td>1.00</td>\n",
       "      <td>&lt;NA&gt;</td>\n",
       "      <td>NaN</td>\n",
       "      <td>NaN</td>\n",
       "      <td>31.38</td>\n",
       "    </tr>\n",
       "  </tbody>\n",
       "</table>\n",
       "</div>"
      ],
      "text/plain": [
       "                       name platform  year_of_release         genre  na_sales  \\\n",
       "0                Wii Sports      Wii             2006        Sports     41.36   \n",
       "1         Super Mario Bros.      NES             1985      Platform     29.08   \n",
       "2            Mario Kart Wii      Wii             2008        Racing     15.68   \n",
       "3         Wii Sports Resort      Wii             2009        Sports     15.61   \n",
       "4  Pokemon Red/Pokemon Blue       GB             1996  Role-Playing     11.27   \n",
       "\n",
       "   eu_sales  jp_sales  other_sales  critic_score  user_score rating  \\\n",
       "0     28.96      3.77         8.45            76         8.0      E   \n",
       "1      3.58      6.81         0.77          <NA>         NaN    NaN   \n",
       "2     12.76      3.79         3.29            82         8.3      E   \n",
       "3     10.93      3.28         2.95            80         8.0      E   \n",
       "4      8.89     10.22         1.00          <NA>         NaN    NaN   \n",
       "\n",
       "   total_sales  \n",
       "0        82.54  \n",
       "1        40.24  \n",
       "2        35.52  \n",
       "3        32.77  \n",
       "4        31.38  "
      ]
     },
     "execution_count": 24,
     "metadata": {},
     "output_type": "execute_result"
    }
   ],
   "source": [
    "games.head()"
   ]
  },
  {
   "cell_type": "markdown",
   "id": "354b17a2",
   "metadata": {},
   "source": [
    "Были удалены неявные дубликаты в количестве 2 шт. Названия колонок были преобразованы к змеиному регистру. Были удалены строки, где не указаны названия игр и их год, так как эти данные являются основополагающими, и без них не остается смысла в оставшейся строке. В результате таблица убавилась меньше чем на 2%, что не превышает допустимого размера в 10%. Были заменены типы данных у некоторых колонок для удобства в дальнейшей работе. Также мы добавили новую колонку 'total_sales', в которой записаны суммарные продажи по каждой игре. Эта информация пригодится нам для дальнейшего анализа."
   ]
  },
  {
   "cell_type": "markdown",
   "id": "4b21299f",
   "metadata": {},
   "source": [
    "### Шаг 3. Исследовательский анализ данных"
   ]
  },
  {
   "cell_type": "markdown",
   "id": "a16ad795",
   "metadata": {},
   "source": [
    "Посмотрим, сколько игр выпускалось за каждый год."
   ]
  },
  {
   "cell_type": "code",
   "execution_count": 25,
   "id": "4509f744",
   "metadata": {},
   "outputs": [
    {
     "data": {
      "text/plain": [
       "Text(0.5, 1.0, 'Количество выпущенных игр по годам')"
      ]
     },
     "execution_count": 25,
     "metadata": {},
     "output_type": "execute_result"
    },
    {
     "data": {
      "image/png": "[encoded data removed]",
      "text/plain": [
       "<Figure size 720x360 with 1 Axes>"
      ]
     },
     "metadata": {
      "needs_background": "light"
     },
     "output_type": "display_data"
    }
   ],
   "source": [
    "plt.figure(figsize=(10, 5))\n",
    "games['year_of_release'].value_counts().sort_index().plot(kind='bar')\n",
    "plt.xlabel('год релиза')\n",
    "plt.ylabel('количество')\n",
    "plt.title('Количество выпущенных игр по годам')"
   ]
  },
  {
   "cell_type": "markdown",
   "id": "171225e3",
   "metadata": {},
   "source": [
    "Получилось, что до 1994 года выходило порядка 20-50 игр в год, а после этого пошло развитие этой индустрии с пиком в 2008-2009 годах (по 1400 игр в год). В дальнейшем стал происходить спад, и в 2016 году вышло порядка 500 игр. Это может быть связано с тем, что игры стали более сложными в разработке, и на выпуск игры стало требоваться больше времени. "
   ]
  },
  {
   "cell_type": "code",
   "execution_count": 26,
   "id": "78fbee76",
   "metadata": {},
   "outputs": [
    {
     "data": {
      "text/plain": [
       "365"
      ]
     },
     "execution_count": 26,
     "metadata": {},
     "output_type": "execute_result"
    }
   ],
   "source": [
    "#кол-во игр  выпущенных до 1993 года\n",
    "games[games['year_of_release'] < 1994]['name'].count()"
   ]
  },
  {
   "cell_type": "markdown",
   "id": "12fda3c4",
   "metadata": {},
   "source": [
    "Думаю, информация об играх, вышедших до 1994 года, не представляет для нас ценности. Во-первых, в каждый год их выходило очень мало. Во-вторых, многие платформы, на которых они выходили, уже не актуальны."
   ]
  },
  {
   "cell_type": "markdown",
   "id": "358cff22",
   "metadata": {},
   "source": [
    "Посмотрите, как менялись продажи по платформам. Выберите платформы с наибольшими суммарными продажами и постройте распределение по годам. За какой характерный срок появляются новые и исчезают старые платформы?"
   ]
  },
  {
   "cell_type": "markdown",
   "id": "fa568f40",
   "metadata": {},
   "source": [
    "Посмотрим, как менялись продажи по платформам. Платформ достаточно много, поэтому будем рассматривать платформы с наибольшими суммарными продажами. Так же нас интересуют актуальные платформы, поэтому посмотроим на средний срок жизни платформ, и возьмем информации от нашего текущего (2016) года до (текущего года - срок жизни платформы)."
   ]
  },
  {
   "cell_type": "code",
   "execution_count": 27,
   "id": "d6371f18",
   "metadata": {},
   "outputs": [
    {
     "name": "stdout",
     "output_type": "stream",
     "text": [
      "Среднее время жизни платформы: 7.6\n"
     ]
    }
   ],
   "source": [
    "# срок жизни платформы\n",
    "#сделаем сводную таблицу, где индекс это платформа, а колонки это минимальный год релиза и максимальный год релиза на этой платформе\n",
    "games_pt1 = games.pivot_table(index='platform', values=['year_of_release'], aggfunc=['min', 'max'])\n",
    "#вычтем из максимального года минимальный и посчитаем среднее по всем платформам.\n",
    "print('Среднее время жизни платформы:', round((games_pt1[('max', 'year_of_release')] - games_pt1[('min', 'year_of_release')]).mean(), 1))"
   ]
  },
  {
   "cell_type": "code",
   "execution_count": 28,
   "id": "478950a6",
   "metadata": {},
   "outputs": [
    {
     "data": {
      "text/plain": [
       "7.67741935483871"
      ]
     },
     "execution_count": 28,
     "metadata": {},
     "output_type": "execute_result"
    }
   ],
   "source": [
    "# код ревьюера\n",
    "games.groupby('platform')['year_of_release'].nunique().mean()"
   ]
  },
  {
   "cell_type": "code",
   "execution_count": 29,
   "id": "43a1c762",
   "metadata": {
    "scrolled": true
   },
   "outputs": [
    {
     "data": {
      "text/plain": [
       "Text(0, 0.5, 'суммарные продажи, млн')"
      ]
     },
     "execution_count": 29,
     "metadata": {},
     "output_type": "execute_result"
    },
    {
     "data": {
      "image/png": "[encoded data removed]",
      "text/plain": [
       "<Figure size 720x360 with 1 Axes>"
      ]
     },
     "metadata": {
      "needs_background": "light"
     },
     "output_type": "display_data"
    }
   ],
   "source": [
    "#посмотрим на распределение по продажам для различных платформ \n",
    "plt.figure(figsize=(10, 5))\n",
    "games.groupby('platform')['total_sales'].sum().sort_values(ascending=False).plot(kind='bar')\n",
    "plt.title('Распределение продаж игр по платформам')\n",
    "plt.xlabel('платформа')\n",
    "plt.ylabel('суммарные продажи, млн')"
   ]
  },
  {
   "cell_type": "code",
   "execution_count": 30,
   "id": "144b8efd",
   "metadata": {},
   "outputs": [],
   "source": [
    "#возьмем самые популярные из них\n",
    "platforms = ['PS2', 'X360', 'PS3', 'Wii', 'DS', 'PS', 'PS4', 'GBA', 'PSP', '3DS','PC', 'GB', 'XB', 'NES', 'N64', 'SNES', 'GC', 'XOne']"
   ]
  },
  {
   "cell_type": "code",
   "execution_count": 31,
   "id": "9914e82f",
   "metadata": {},
   "outputs": [
    {
     "data": {
      "text/plain": [
       "['PS2', 'X360', 'PS3', 'Wii', 'DS', 'PS']"
      ]
     },
     "execution_count": 31,
     "metadata": {},
     "output_type": "execute_result"
    }
   ],
   "source": [
    "# код ревьюера\n",
    "games.groupby('platform').agg({'total_sales': 'sum'}).sort_values(by='total_sales', ascending=False).head(6).index.to_list()"
   ]
  },
  {
   "cell_type": "code",
   "execution_count": 32,
   "id": "64da3b31",
   "metadata": {},
   "outputs": [],
   "source": [
    "#создадим новый датафрейм, где будут самые популярные по продажам платформы и год выпуска будет = текущему - средний срок жизни\n",
    "popular_platforms = games[(games['platform'].isin(platforms)) & (games['year_of_release'] > 2008)]"
   ]
  },
  {
   "cell_type": "code",
   "execution_count": 33,
   "id": "4cf849bf",
   "metadata": {
    "scrolled": true
   },
   "outputs": [
    {
     "data": {
      "text/plain": [
       "Text(0, 0.5, 'суммарные продажи, млн')"
      ]
     },
     "execution_count": 33,
     "metadata": {},
     "output_type": "execute_result"
    },
    {
     "data": {
      "image/png": "[encoded data removed]",
      "text/plain": [
       "<Figure size 864x432 with 1 Axes>"
      ]
     },
     "metadata": {
      "needs_background": "light"
     },
     "output_type": "display_data"
    }
   ],
   "source": [
    "plt.figure(figsize=(12,6))\n",
    "games_pt2 = popular_platforms.pivot_table(index=['year_of_release', 'platform'], values='total_sales', aggfunc='sum').sort_values(by=['year_of_release', 'total_sales'], ascending=[True, False])\n",
    "sns.barplot(data=games_pt2.reset_index(), x='year_of_release', y='total_sales', hue='platform')\n",
    "plt.title('Распределение продаж игр по платформам за 2009-2016 года')\n",
    "plt.xlabel('год релиза')\n",
    "plt.ylabel('суммарные продажи, млн')"
   ]
  },
  {
   "cell_type": "markdown",
   "id": "945c0daf",
   "metadata": {},
   "source": [
    "На графике видно, что самые популярные плтаформы в 2009 году - Wii, PS3, X360, DS, к 2014 году практически исчезли. А с 2013 начали активно расти PS4, XOne, 3DS. Хотя наблюдается общая динамика снижения количества продаж игр на всех платформах. Для прогнозирования продаж на 2017 год имеет смысл рассматривать акутальный период - [2014, 2016] года, где рынок перераспределился между новыми игровыми платформами."
   ]
  },
  {
   "cell_type": "code",
   "execution_count": 34,
   "id": "7df6024e",
   "metadata": {},
   "outputs": [],
   "source": [
    "#новый датафрейм с играми вышедшими с 2014 года\n",
    "games_df = games[(games['year_of_release'] >= 2014)].reset_index(drop=True)"
   ]
  },
  {
   "cell_type": "markdown",
   "id": "0d478062",
   "metadata": {},
   "source": [
    "Построим график «ящик с усами» по глобальным продажам игр в разбивке по платформам"
   ]
  },
  {
   "cell_type": "code",
   "execution_count": 35,
   "id": "c2f756aa",
   "metadata": {},
   "outputs": [
    {
     "data": {
      "text/plain": [
       "Text(0, 0.5, 'продажи, млн')"
      ]
     },
     "execution_count": 35,
     "metadata": {},
     "output_type": "execute_result"
    },
    {
     "data": {
      "image/png": "[encoded data removed]",
      "text/plain": [
       "<Figure size 720x360 with 1 Axes>"
      ]
     },
     "metadata": {
      "needs_background": "light"
     },
     "output_type": "display_data"
    }
   ],
   "source": [
    "plt.figure(figsize=(10, 5))\n",
    "sns.boxplot(x='platform', y='total_sales', data=games_df)\n",
    "plt.title('Продажи игр по платформам')\n",
    "plt.xlabel('платформа')\n",
    "plt.ylabel('продажи, млн')"
   ]
  },
  {
   "cell_type": "markdown",
   "id": "875fe0f7",
   "metadata": {},
   "source": [
    "Выбросы выше ящика говорят нам о количестве игр, с очень высокими относительно других игр, продажами. Такие игры можно назвать хитами.Видно, что наибольшее количество хитов выходит на акутальных платформах - PS4, 3DS, XOne. Рекордсменом является PS4. Чуть меньше на PS3, X360 - платформах предыдущего поколения. "
   ]
  },
  {
   "cell_type": "markdown",
   "id": "ac943f63",
   "metadata": {},
   "source": [
    "Посмотрим, как влияют на продажи внутри одной популярной платформы отзывы пользователей и критиков. В качестве платформы возьмем PS4, так как она является самой популярной за последние годы.\n",
    "Постройте диаграмму рассеяния и посчитайте корреляцию между отзывами и продажами. Сформулируйте выводы."
   ]
  },
  {
   "cell_type": "code",
   "execution_count": 36,
   "id": "1b87e72d",
   "metadata": {},
   "outputs": [],
   "source": [
    "games_ps4 = games_df[games_df['platform'] == 'PS4'].reset_index()"
   ]
  },
  {
   "cell_type": "code",
   "execution_count": 37,
   "id": "450d9135",
   "metadata": {},
   "outputs": [
    {
     "data": {
      "text/html": [
       "<div>\n",
       "<style scoped>\n",
       "    .dataframe tbody tr th:only-of-type {\n",
       "        vertical-align: middle;\n",
       "    }\n",
       "\n",
       "    .dataframe tbody tr th {\n",
       "        vertical-align: top;\n",
       "    }\n",
       "\n",
       "    .dataframe thead th {\n",
       "        text-align: right;\n",
       "    }\n",
       "</style>\n",
       "<table border=\"1\" class=\"dataframe\">\n",
       "  <thead>\n",
       "    <tr style=\"text-align: right;\">\n",
       "      <th></th>\n",
       "      <th>index</th>\n",
       "      <th>name</th>\n",
       "      <th>platform</th>\n",
       "      <th>year_of_release</th>\n",
       "      <th>genre</th>\n",
       "      <th>na_sales</th>\n",
       "      <th>eu_sales</th>\n",
       "      <th>jp_sales</th>\n",
       "      <th>other_sales</th>\n",
       "      <th>critic_score</th>\n",
       "      <th>user_score</th>\n",
       "      <th>rating</th>\n",
       "      <th>total_sales</th>\n",
       "    </tr>\n",
       "  </thead>\n",
       "  <tbody>\n",
       "    <tr>\n",
       "      <th>0</th>\n",
       "      <td>0</td>\n",
       "      <td>Call of Duty: Black Ops 3</td>\n",
       "      <td>PS4</td>\n",
       "      <td>2015</td>\n",
       "      <td>Shooter</td>\n",
       "      <td>6.03</td>\n",
       "      <td>5.86</td>\n",
       "      <td>0.36</td>\n",
       "      <td>2.38</td>\n",
       "      <td>&lt;NA&gt;</td>\n",
       "      <td>NaN</td>\n",
       "      <td>NaN</td>\n",
       "      <td>14.63</td>\n",
       "    </tr>\n",
       "    <tr>\n",
       "      <th>1</th>\n",
       "      <td>1</td>\n",
       "      <td>Grand Theft Auto V</td>\n",
       "      <td>PS4</td>\n",
       "      <td>2014</td>\n",
       "      <td>Action</td>\n",
       "      <td>3.96</td>\n",
       "      <td>6.31</td>\n",
       "      <td>0.38</td>\n",
       "      <td>1.97</td>\n",
       "      <td>97</td>\n",
       "      <td>8.3</td>\n",
       "      <td>M</td>\n",
       "      <td>12.62</td>\n",
       "    </tr>\n",
       "    <tr>\n",
       "      <th>2</th>\n",
       "      <td>3</td>\n",
       "      <td>FIFA 16</td>\n",
       "      <td>PS4</td>\n",
       "      <td>2015</td>\n",
       "      <td>Sports</td>\n",
       "      <td>1.12</td>\n",
       "      <td>6.12</td>\n",
       "      <td>0.06</td>\n",
       "      <td>1.28</td>\n",
       "      <td>82</td>\n",
       "      <td>4.3</td>\n",
       "      <td>E</td>\n",
       "      <td>8.58</td>\n",
       "    </tr>\n",
       "    <tr>\n",
       "      <th>3</th>\n",
       "      <td>4</td>\n",
       "      <td>Star Wars Battlefront (2015)</td>\n",
       "      <td>PS4</td>\n",
       "      <td>2015</td>\n",
       "      <td>Shooter</td>\n",
       "      <td>2.99</td>\n",
       "      <td>3.49</td>\n",
       "      <td>0.22</td>\n",
       "      <td>1.28</td>\n",
       "      <td>&lt;NA&gt;</td>\n",
       "      <td>NaN</td>\n",
       "      <td>NaN</td>\n",
       "      <td>7.98</td>\n",
       "    </tr>\n",
       "    <tr>\n",
       "      <th>4</th>\n",
       "      <td>5</td>\n",
       "      <td>Call of Duty: Advanced Warfare</td>\n",
       "      <td>PS4</td>\n",
       "      <td>2014</td>\n",
       "      <td>Shooter</td>\n",
       "      <td>2.81</td>\n",
       "      <td>3.48</td>\n",
       "      <td>0.14</td>\n",
       "      <td>1.23</td>\n",
       "      <td>83</td>\n",
       "      <td>5.7</td>\n",
       "      <td>M</td>\n",
       "      <td>7.66</td>\n",
       "    </tr>\n",
       "  </tbody>\n",
       "</table>\n",
       "</div>"
      ],
      "text/plain": [
       "   index                            name platform  year_of_release    genre  \\\n",
       "0      0       Call of Duty: Black Ops 3      PS4             2015  Shooter   \n",
       "1      1              Grand Theft Auto V      PS4             2014   Action   \n",
       "2      3                         FIFA 16      PS4             2015   Sports   \n",
       "3      4    Star Wars Battlefront (2015)      PS4             2015  Shooter   \n",
       "4      5  Call of Duty: Advanced Warfare      PS4             2014  Shooter   \n",
       "\n",
       "   na_sales  eu_sales  jp_sales  other_sales  critic_score  user_score rating  \\\n",
       "0      6.03      5.86      0.36         2.38          <NA>         NaN    NaN   \n",
       "1      3.96      6.31      0.38         1.97            97         8.3      M   \n",
       "2      1.12      6.12      0.06         1.28            82         4.3      E   \n",
       "3      2.99      3.49      0.22         1.28          <NA>         NaN    NaN   \n",
       "4      2.81      3.48      0.14         1.23            83         5.7      M   \n",
       "\n",
       "   total_sales  \n",
       "0        14.63  \n",
       "1        12.62  \n",
       "2         8.58  \n",
       "3         7.98  \n",
       "4         7.66  "
      ]
     },
     "execution_count": 37,
     "metadata": {},
     "output_type": "execute_result"
    }
   ],
   "source": [
    "games_ps4.head()"
   ]
  },
  {
   "cell_type": "code",
   "execution_count": 38,
   "id": "b6971d3c",
   "metadata": {},
   "outputs": [
    {
     "data": {
      "image/png": "[encoded data removed]",
      "text/plain": [
       "<Figure size 864x288 with 2 Axes>"
      ]
     },
     "metadata": {
      "needs_background": "light"
     },
     "output_type": "display_data"
    },
    {
     "name": "stdout",
     "output_type": "stream",
     "text": [
      "Корреляция между отзывами критиков и продажами = 0.40190287811475334\n",
      "Корреляция между отзывами пользователями и продажами = -0.04318585997193634\n"
     ]
    }
   ],
   "source": [
    "#удалим строки, где нет оценок пользователей и критиков\n",
    "new_games_ps4 = games_ps4.dropna(subset =['critic_score', 'user_score'])\n",
    "plt.figure(figsize=(12, 4))\n",
    "plt.subplots_adjust(left=0.13, \n",
    "                    right=0.93, \n",
    "                    top=1.0, \n",
    "                    bottom= 0.27, \n",
    "                    wspace= 0.3, \n",
    "                    hspace=0.3)\n",
    "\n",
    "plt.subplot(1, 2, 1)\n",
    "plt.xlabel('рейтинг критиков')\n",
    "plt.ylabel('количество, млн')\n",
    "plt.title('Зависимость продаж от рейтинга критиков (PS4)')\n",
    "plt.plot(new_games_ps4['critic_score'].to_numpy(), new_games_ps4['total_sales'].to_numpy(), 'o')\n",
    "\n",
    "plt.subplot(1, 2, 2)\n",
    "plt.xlabel('рейтинг пользователей')\n",
    "plt.ylabel('количество, млн')\n",
    "plt.title('Зависимость продаж от рейтинга пользователей (PS4)')\n",
    "plt.plot(new_games_ps4['user_score'].to_numpy(), new_games_ps4['total_sales'].to_numpy(), 'o')\n",
    "plt.show()\n",
    "\n",
    "print(f'Корреляция между отзывами критиков и продажами = {new_games_ps4[\"critic_score\"].astype(\"float\").corr(new_games_ps4[\"total_sales\"])}')\n",
    "print(f'Корреляция между отзывами пользователями и продажами = {new_games_ps4[\"user_score\"].corr(new_games_ps4[\"total_sales\"])}')"
   ]
  },
  {
   "cell_type": "markdown",
   "id": "a23ccbe6",
   "metadata": {},
   "source": [
    "Присутсвует корреляция между рейтингом критиков и продажами игры на PS4. Это можно объяснить тем, что критики при оценке используют некоторые парамерты, которые является объективными, не опираясь только на свой субъективный опыт. Также своей оценкой критики могут формировать отношение к игре у потенциальных покупателей. Поэтому высокие оценки, побуждают покупателя приобрести игру, а низкие - нет.\n",
    "Что касается зависимости отзывов пользователей от продаж - то тут корреляция около нуля, это значит что зависимости нет. И пользователи сильно не опираются на мнение друг друга при покупке игр."
   ]
  },
  {
   "cell_type": "markdown",
   "id": "c1469c3f",
   "metadata": {},
   "source": [
    "Посмотрим на топ-4 популярные платформы. "
   ]
  },
  {
   "cell_type": "code",
   "execution_count": 39,
   "id": "36f6f39e",
   "metadata": {},
   "outputs": [
    {
     "data": {
      "text/plain": [
       "['PS4', 'XOne', '3DS', 'PS3']"
      ]
     },
     "execution_count": 39,
     "metadata": {},
     "output_type": "execute_result"
    }
   ],
   "source": [
    "popular_platforms = games_df.groupby('platform').agg({'total_sales': 'sum'}).sort_values(by='total_sales', ascending=False).head(4).index.to_list()\n",
    "popular_platforms"
   ]
  },
  {
   "cell_type": "markdown",
   "id": "508676e5",
   "metadata": {},
   "source": [
    "Влияние продаж от рейтингов критиков и пользвателей на PS4 мы рассмотрели. Посмотрим, как складывается ситуация на других популярных платформах."
   ]
  },
  {
   "cell_type": "code",
   "execution_count": 40,
   "id": "b69e8068",
   "metadata": {},
   "outputs": [
    {
     "data": {
      "image/png": "[encoded data removed]",
      "text/plain": [
       "<Figure size 864x288 with 2 Axes>"
      ]
     },
     "metadata": {
      "needs_background": "light"
     },
     "output_type": "display_data"
    },
    {
     "name": "stdout",
     "output_type": "stream",
     "text": [
      "Корреляция между отзывами критиков и продажами на XOne = 0.42211185105557647\n",
      "Корреляция между отзывами пользователями и продажами на XOne = -0.0917343450331075\n"
     ]
    },
    {
     "data": {
      "image/png": "[encoded data removed]",
      "text/plain": [
       "<Figure size 864x288 with 2 Axes>"
      ]
     },
     "metadata": {
      "needs_background": "light"
     },
     "output_type": "display_data"
    },
    {
     "name": "stdout",
     "output_type": "stream",
     "text": [
      "Корреляция между отзывами критиков и продажами на 3DS = 0.28468579095782925\n",
      "Корреляция между отзывами пользователями и продажами на 3DS = 0.2798498792503281\n"
     ]
    },
    {
     "data": {
      "image/png": "[encoded data removed]",
      "text/plain": [
       "<Figure size 864x288 with 2 Axes>"
      ]
     },
     "metadata": {
      "needs_background": "light"
     },
     "output_type": "display_data"
    },
    {
     "name": "stdout",
     "output_type": "stream",
     "text": [
      "Корреляция между отзывами критиков и продажами на PS3 = 0.44657460493190704\n",
      "Корреляция между отзывами пользователями и продажами на PS3 = 0.15659516181359956\n"
     ]
    }
   ],
   "source": [
    "popular_platforms_without_ps4 = popular_platforms[1:]\n",
    "for i in popular_platforms_without_ps4:\n",
    "    massiv = games_df[games_df['platform'] == i].dropna(subset =['critic_score', 'user_score']).reset_index()\n",
    "    plt.figure(figsize=(12, 4))\n",
    "    plt.title(f'Зависимость продаж на {i}')\n",
    "    plt.subplots_adjust(left=0.13, \n",
    "                    right=0.93, \n",
    "                    top=1.0, \n",
    "                    bottom= 0.27, \n",
    "                    wspace= 0.3, \n",
    "                    hspace=0.3)\n",
    "\n",
    "    plt.subplot(1, 2, 1)\n",
    "    plt.xlabel('рейтинг критиков')\n",
    "    plt.ylabel('количество, млн')\n",
    "    plt.title(f'Зависимость продаж от рейтинга критиков ({i})')\n",
    "    plt.plot(massiv['critic_score'].to_numpy(), massiv['total_sales'].to_numpy(), 'o')\n",
    "\n",
    "    plt.subplot(1, 2, 2)\n",
    "    plt.xlabel('рейтинг пользователей')\n",
    "    plt.ylabel('количество, млн')\n",
    "    plt.title(f'Зависимость продаж от рейтинга пользователей ({i})')\n",
    "    plt.plot(massiv['user_score'].to_numpy(), massiv['total_sales'].to_numpy(), 'o')\n",
    "    plt.show()\n",
    "\n",
    "    print(f'Корреляция между отзывами критиков и продажами на {i} = {massiv[\"critic_score\"].astype(\"float\").corr(massiv[\"total_sales\"])}')\n",
    "    print(f'Корреляция между отзывами пользователями и продажами на {i} = {massiv[\"user_score\"].corr(massiv[\"total_sales\"])}')"
   ]
  },
  {
   "cell_type": "markdown",
   "id": "9e24d320",
   "metadata": {},
   "source": [
    "Присутсвтует корреляция между оценками критиков и продажами игры. Так, корреляция присутствует на всех ислледуемых платформах, меняется только ее значение. На стационарных приставках (PS4, PS3, XOne) она состявляет порядка 0.4, а на портативной (3DS) чуть меньше, 0.28. Это можно объяснить тем, что критики при оценке используют некоторые парамерты, которые является объективными, не опираясь только на свой субъективный опыт. Также своей оценкой критики могут формировать отношение к игре у потенциальных покупателей. Поэтому высокие оценки, побуждают покупателя приобрести игру, а низкие - нет.\n",
    "Корреляция же  между оценками пользвателей и продажами игры различается среди популярных приставок. У PS4 и XOne она около нуля, то есть зависимости нет. Возможно из-за того, что это новые приставки, не сформировано много отзывов об играх на них, и пользователи предпочитают опираться только на мнение критиков. В приставках PS3 и 3DS дело обстоит иначе, там присутсвует корреляция, на PS3 - 0.16, а на 3DS - 0.28. Можно сказать, что пользователи портавтиной приставки, сильнее опираются на мнение других игроков, чем пользователи стационарных приставок."
   ]
  },
  {
   "cell_type": "markdown",
   "id": "e76074aa",
   "metadata": {},
   "source": [
    "Такая ситуация не связана с конкретной платформой, скорее она связана с поведением пользователя, поэтому корреляция между рейтингами и продажами на других платформах будут аналогичными."
   ]
  },
  {
   "cell_type": "markdown",
   "id": "01fdc578",
   "metadata": {},
   "source": [
    "Посмотрим на общее распределение продаж игр по жанрам."
   ]
  },
  {
   "cell_type": "code",
   "execution_count": 41,
   "id": "27716587",
   "metadata": {},
   "outputs": [
    {
     "data": {
      "text/plain": [
       "Text(0, 0.5, 'суммарные продажи, млн')"
      ]
     },
     "execution_count": 41,
     "metadata": {},
     "output_type": "execute_result"
    },
    {
     "data": {
      "image/png": "[encoded data removed]",
      "text/plain": [
       "<Figure size 720x360 with 1 Axes>"
      ]
     },
     "metadata": {
      "needs_background": "light"
     },
     "output_type": "display_data"
    }
   ],
   "source": [
    "plt.figure(figsize=(10, 5))\n",
    "games_df.groupby('genre')['total_sales'].median().sort_values(ascending=False).plot(kind='bar')\n",
    "plt.title('Распределение продаж игр по жанрам')\n",
    "plt.xlabel('жанр')\n",
    "plt.ylabel('суммарные продажи, млн')"
   ]
  },
  {
   "cell_type": "markdown",
   "id": "c04dfa8f",
   "metadata": {},
   "source": [
    "Самым популярным жанром является 'shooter'. В среднем игра такого жанра расходится тиражом в 0.5 млн копий. За ним идет 'sports', с продажами около 0.2 млн копий за игру. Дальше жанры расоплагаются в следующем порядке: 'Platform', 'Fighting', 'Role-Playing', 'Simulation', 'Action', 'Misc', 'Racing', с продажами в среднем 100000-130000 копий за игру. Замыкают список жанры: 'Strategy', 'Puzzle', 'Adventure'. На игры этих жанров продаж в среднем приходится по 50000 копий."
   ]
  },
  {
   "cell_type": "markdown",
   "id": "8c1cc2fd",
   "metadata": {},
   "source": [
    "### Шаг 4. Составление портрета пользователя каждого региона"
   ]
  },
  {
   "cell_type": "markdown",
   "id": "462b7f5e",
   "metadata": {},
   "source": [
    "У нас имееются данные для пользователей из трех регионов: Северной Америки, Европы и Японии. Определим для пользователей каждого региона топ-5 популряных игровы платформ, топ-5 популярных жанров и посмотрим влияет ли рейтинг ESRB на продажи."
   ]
  },
  {
   "cell_type": "code",
   "execution_count": 42,
   "id": "1b5971ce",
   "metadata": {},
   "outputs": [
    {
     "data": {
      "text/html": [
       "<div>\n",
       "<style scoped>\n",
       "    .dataframe tbody tr th:only-of-type {\n",
       "        vertical-align: middle;\n",
       "    }\n",
       "\n",
       "    .dataframe tbody tr th {\n",
       "        vertical-align: top;\n",
       "    }\n",
       "\n",
       "    .dataframe thead th {\n",
       "        text-align: right;\n",
       "    }\n",
       "</style>\n",
       "<table border=\"1\" class=\"dataframe\">\n",
       "  <thead>\n",
       "    <tr style=\"text-align: right;\">\n",
       "      <th></th>\n",
       "      <th>name</th>\n",
       "      <th>platform</th>\n",
       "      <th>year_of_release</th>\n",
       "      <th>genre</th>\n",
       "      <th>na_sales</th>\n",
       "      <th>eu_sales</th>\n",
       "      <th>jp_sales</th>\n",
       "      <th>other_sales</th>\n",
       "      <th>critic_score</th>\n",
       "      <th>user_score</th>\n",
       "      <th>rating</th>\n",
       "      <th>total_sales</th>\n",
       "    </tr>\n",
       "  </thead>\n",
       "  <tbody>\n",
       "    <tr>\n",
       "      <th>0</th>\n",
       "      <td>Call of Duty: Black Ops 3</td>\n",
       "      <td>PS4</td>\n",
       "      <td>2015</td>\n",
       "      <td>Shooter</td>\n",
       "      <td>6.03</td>\n",
       "      <td>5.86</td>\n",
       "      <td>0.36</td>\n",
       "      <td>2.38</td>\n",
       "      <td>&lt;NA&gt;</td>\n",
       "      <td>NaN</td>\n",
       "      <td>NaN</td>\n",
       "      <td>14.63</td>\n",
       "    </tr>\n",
       "    <tr>\n",
       "      <th>1</th>\n",
       "      <td>Grand Theft Auto V</td>\n",
       "      <td>PS4</td>\n",
       "      <td>2014</td>\n",
       "      <td>Action</td>\n",
       "      <td>3.96</td>\n",
       "      <td>6.31</td>\n",
       "      <td>0.38</td>\n",
       "      <td>1.97</td>\n",
       "      <td>97</td>\n",
       "      <td>8.3</td>\n",
       "      <td>M</td>\n",
       "      <td>12.62</td>\n",
       "    </tr>\n",
       "    <tr>\n",
       "      <th>2</th>\n",
       "      <td>Pokemon Omega Ruby/Pokemon Alpha Sapphire</td>\n",
       "      <td>3DS</td>\n",
       "      <td>2014</td>\n",
       "      <td>Role-Playing</td>\n",
       "      <td>4.35</td>\n",
       "      <td>3.49</td>\n",
       "      <td>3.10</td>\n",
       "      <td>0.74</td>\n",
       "      <td>&lt;NA&gt;</td>\n",
       "      <td>NaN</td>\n",
       "      <td>NaN</td>\n",
       "      <td>11.68</td>\n",
       "    </tr>\n",
       "    <tr>\n",
       "      <th>3</th>\n",
       "      <td>FIFA 16</td>\n",
       "      <td>PS4</td>\n",
       "      <td>2015</td>\n",
       "      <td>Sports</td>\n",
       "      <td>1.12</td>\n",
       "      <td>6.12</td>\n",
       "      <td>0.06</td>\n",
       "      <td>1.28</td>\n",
       "      <td>82</td>\n",
       "      <td>4.3</td>\n",
       "      <td>E</td>\n",
       "      <td>8.58</td>\n",
       "    </tr>\n",
       "    <tr>\n",
       "      <th>4</th>\n",
       "      <td>Star Wars Battlefront (2015)</td>\n",
       "      <td>PS4</td>\n",
       "      <td>2015</td>\n",
       "      <td>Shooter</td>\n",
       "      <td>2.99</td>\n",
       "      <td>3.49</td>\n",
       "      <td>0.22</td>\n",
       "      <td>1.28</td>\n",
       "      <td>&lt;NA&gt;</td>\n",
       "      <td>NaN</td>\n",
       "      <td>NaN</td>\n",
       "      <td>7.98</td>\n",
       "    </tr>\n",
       "  </tbody>\n",
       "</table>\n",
       "</div>"
      ],
      "text/plain": [
       "                                        name platform  year_of_release  \\\n",
       "0                  Call of Duty: Black Ops 3      PS4             2015   \n",
       "1                         Grand Theft Auto V      PS4             2014   \n",
       "2  Pokemon Omega Ruby/Pokemon Alpha Sapphire      3DS             2014   \n",
       "3                                    FIFA 16      PS4             2015   \n",
       "4               Star Wars Battlefront (2015)      PS4             2015   \n",
       "\n",
       "          genre  na_sales  eu_sales  jp_sales  other_sales  critic_score  \\\n",
       "0       Shooter      6.03      5.86      0.36         2.38          <NA>   \n",
       "1        Action      3.96      6.31      0.38         1.97            97   \n",
       "2  Role-Playing      4.35      3.49      3.10         0.74          <NA>   \n",
       "3        Sports      1.12      6.12      0.06         1.28            82   \n",
       "4       Shooter      2.99      3.49      0.22         1.28          <NA>   \n",
       "\n",
       "   user_score rating  total_sales  \n",
       "0         NaN    NaN        14.63  \n",
       "1         8.3      M        12.62  \n",
       "2         NaN    NaN        11.68  \n",
       "3         4.3      E         8.58  \n",
       "4         NaN    NaN         7.98  "
      ]
     },
     "execution_count": 42,
     "metadata": {},
     "output_type": "execute_result"
    }
   ],
   "source": [
    "games_df.head()"
   ]
  },
  {
   "cell_type": "markdown",
   "id": "c1c9fa39",
   "metadata": {},
   "source": [
    "#### Топ-5 популярных платформ для разных регионов"
   ]
  },
  {
   "cell_type": "code",
   "execution_count": 43,
   "id": "5ce585a2",
   "metadata": {},
   "outputs": [
    {
     "data": {
      "text/html": [
       "<div>\n",
       "<style scoped>\n",
       "    .dataframe tbody tr th:only-of-type {\n",
       "        vertical-align: middle;\n",
       "    }\n",
       "\n",
       "    .dataframe tbody tr th {\n",
       "        vertical-align: top;\n",
       "    }\n",
       "\n",
       "    .dataframe thead th {\n",
       "        text-align: right;\n",
       "    }\n",
       "</style>\n",
       "<table border=\"1\" class=\"dataframe\">\n",
       "  <thead>\n",
       "    <tr style=\"text-align: right;\">\n",
       "      <th></th>\n",
       "      <th>na_sales</th>\n",
       "    </tr>\n",
       "    <tr>\n",
       "      <th>platform</th>\n",
       "      <th></th>\n",
       "    </tr>\n",
       "  </thead>\n",
       "  <tbody>\n",
       "    <tr>\n",
       "      <th>PS4</th>\n",
       "      <td>98.61</td>\n",
       "    </tr>\n",
       "    <tr>\n",
       "      <th>XOne</th>\n",
       "      <td>81.27</td>\n",
       "    </tr>\n",
       "    <tr>\n",
       "      <th>X360</th>\n",
       "      <td>28.30</td>\n",
       "    </tr>\n",
       "    <tr>\n",
       "      <th>3DS</th>\n",
       "      <td>22.64</td>\n",
       "    </tr>\n",
       "    <tr>\n",
       "      <th>PS3</th>\n",
       "      <td>22.05</td>\n",
       "    </tr>\n",
       "  </tbody>\n",
       "</table>\n",
       "</div>"
      ],
      "text/plain": [
       "          na_sales\n",
       "platform          \n",
       "PS4          98.61\n",
       "XOne         81.27\n",
       "X360         28.30\n",
       "3DS          22.64\n",
       "PS3          22.05"
      ]
     },
     "execution_count": 43,
     "metadata": {},
     "output_type": "execute_result"
    }
   ],
   "source": [
    "na_users_platform = games_df.pivot_table(index='platform', values=['na_sales'], aggfunc='sum').sort_values(by='na_sales', ascending=False)\n",
    "na_users_platform[:5]"
   ]
  },
  {
   "cell_type": "code",
   "execution_count": 44,
   "id": "b5a6e758",
   "metadata": {},
   "outputs": [
    {
     "data": {
      "text/html": [
       "<div>\n",
       "<style scoped>\n",
       "    .dataframe tbody tr th:only-of-type {\n",
       "        vertical-align: middle;\n",
       "    }\n",
       "\n",
       "    .dataframe tbody tr th {\n",
       "        vertical-align: top;\n",
       "    }\n",
       "\n",
       "    .dataframe thead th {\n",
       "        text-align: right;\n",
       "    }\n",
       "</style>\n",
       "<table border=\"1\" class=\"dataframe\">\n",
       "  <thead>\n",
       "    <tr style=\"text-align: right;\">\n",
       "      <th></th>\n",
       "      <th>eu_sales</th>\n",
       "    </tr>\n",
       "    <tr>\n",
       "      <th>platform</th>\n",
       "      <th></th>\n",
       "    </tr>\n",
       "  </thead>\n",
       "  <tbody>\n",
       "    <tr>\n",
       "      <th>PS4</th>\n",
       "      <td>130.04</td>\n",
       "    </tr>\n",
       "    <tr>\n",
       "      <th>XOne</th>\n",
       "      <td>46.25</td>\n",
       "    </tr>\n",
       "    <tr>\n",
       "      <th>PS3</th>\n",
       "      <td>25.54</td>\n",
       "    </tr>\n",
       "    <tr>\n",
       "      <th>PC</th>\n",
       "      <td>17.97</td>\n",
       "    </tr>\n",
       "    <tr>\n",
       "      <th>3DS</th>\n",
       "      <td>16.12</td>\n",
       "    </tr>\n",
       "  </tbody>\n",
       "</table>\n",
       "</div>"
      ],
      "text/plain": [
       "          eu_sales\n",
       "platform          \n",
       "PS4         130.04\n",
       "XOne         46.25\n",
       "PS3          25.54\n",
       "PC           17.97\n",
       "3DS          16.12"
      ]
     },
     "execution_count": 44,
     "metadata": {},
     "output_type": "execute_result"
    }
   ],
   "source": [
    "eu_users_platform = games_df.pivot_table(index='platform', values=['eu_sales'], aggfunc='sum').sort_values(by='eu_sales', ascending=False)\n",
    "eu_users_platform[:5]"
   ]
  },
  {
   "cell_type": "code",
   "execution_count": 45,
   "id": "3c4a0e30",
   "metadata": {
    "scrolled": true
   },
   "outputs": [
    {
     "data": {
      "text/html": [
       "<div>\n",
       "<style scoped>\n",
       "    .dataframe tbody tr th:only-of-type {\n",
       "        vertical-align: middle;\n",
       "    }\n",
       "\n",
       "    .dataframe tbody tr th {\n",
       "        vertical-align: top;\n",
       "    }\n",
       "\n",
       "    .dataframe thead th {\n",
       "        text-align: right;\n",
       "    }\n",
       "</style>\n",
       "<table border=\"1\" class=\"dataframe\">\n",
       "  <thead>\n",
       "    <tr style=\"text-align: right;\">\n",
       "      <th></th>\n",
       "      <th>jp_sales</th>\n",
       "    </tr>\n",
       "    <tr>\n",
       "      <th>platform</th>\n",
       "      <th></th>\n",
       "    </tr>\n",
       "  </thead>\n",
       "  <tbody>\n",
       "    <tr>\n",
       "      <th>3DS</th>\n",
       "      <td>44.24</td>\n",
       "    </tr>\n",
       "    <tr>\n",
       "      <th>PS4</th>\n",
       "      <td>15.02</td>\n",
       "    </tr>\n",
       "    <tr>\n",
       "      <th>PSV</th>\n",
       "      <td>14.54</td>\n",
       "    </tr>\n",
       "    <tr>\n",
       "      <th>PS3</th>\n",
       "      <td>11.22</td>\n",
       "    </tr>\n",
       "    <tr>\n",
       "      <th>WiiU</th>\n",
       "      <td>7.31</td>\n",
       "    </tr>\n",
       "  </tbody>\n",
       "</table>\n",
       "</div>"
      ],
      "text/plain": [
       "          jp_sales\n",
       "platform          \n",
       "3DS          44.24\n",
       "PS4          15.02\n",
       "PSV          14.54\n",
       "PS3          11.22\n",
       "WiiU          7.31"
      ]
     },
     "execution_count": 45,
     "metadata": {},
     "output_type": "execute_result"
    }
   ],
   "source": [
    "jp_users_platform = games_df.pivot_table(index='platform', values=['jp_sales'], aggfunc='sum').sort_values(by='jp_sales', ascending=False)\n",
    "jp_users_platform[:5]"
   ]
  },
  {
   "cell_type": "code",
   "execution_count": 46,
   "id": "6092ca67",
   "metadata": {},
   "outputs": [
    {
     "data": {
      "image/png": "[encoded data removed]",
      "text/plain": [
       "<Figure size 432x288 with 1 Axes>"
      ]
     },
     "metadata": {},
     "output_type": "display_data"
    },
    {
     "data": {
      "image/png": "[encoded data removed]",
      "text/plain": [
       "<Figure size 432x288 with 1 Axes>"
      ]
     },
     "metadata": {},
     "output_type": "display_data"
    },
    {
     "data": {
      "image/png": "[encoded data removed]",
      "text/plain": [
       "<Figure size 432x288 with 1 Axes>"
      ]
     },
     "metadata": {},
     "output_type": "display_data"
    }
   ],
   "source": [
    "fig1, ax1 = plt.subplots()\n",
    "ax1.pie(na_users_platform[:5].reset_index()['na_sales'], labels=na_users_platform[:5].reset_index()['platform'], autopct='%1.1f%%')\n",
    "ax1.axis('equal')\n",
    "plt.title('Распределение по платформам в Северной Америке')\n",
    "\n",
    "fig2, ax2 = plt.subplots()\n",
    "ax2.pie(eu_users_platform[:5].reset_index()['eu_sales'], labels=eu_users_platform[:5].reset_index()['platform'], autopct='%1.1f%%')\n",
    "ax2.axis('equal')\n",
    "plt.title('Распределение по платформам в Европе')\n",
    "\n",
    "fig3, ax3 = plt.subplots()\n",
    "ax3.pie(jp_users_platform[:5].reset_index()['jp_sales'], labels=jp_users_platform[:5].reset_index()['platform'], autopct='%1.1f%%')\n",
    "ax3.axis('equal')\n",
    "plt.title('Распределение по платформам в Японии')\n",
    "plt.show()\n",
    "\n"
   ]
  },
  {
   "cell_type": "markdown",
   "id": "56cb2786",
   "metadata": {},
   "source": [
    "В разных регионах преобладают различные игровые платформы. \n",
    "В Северной Америке большую часть рынка занимают PS4 и XOne, занимая 39% и 32% соответственно. Так же представлены эти приставки, но прошлого поколения PS3 и X360, а также 3DS, каждая из которых занимает порядка 10% рынка. Это объясняется тем, что PS и XBox - принадлежат американским компаниям, соотвественно, они хорошо работают на свой рынок, как самый понятный.\n",
    "В Европе преобладает PS4, занимая большую часть рынка (около 55%). Меньше представлена приставка XOne (~20%) и оставшийся рынок делится между PS3, 3DS и PC. Здесь всплыли PC, и стационарные приставки занимают большую часть рынка. Можно предположить, что европейцы привыкли играть в непереносные устройства, поэтому такое распределение по платформам. И к тому же маркетинг, PS лучше работает в европе, чем XBox'а.\n",
    "В Японии наибольшее распространение получила приставка 3DS, которая занимает половину рынка. Это объясняется тем, что компания Nintendo, которая ее производит - японская, и она лучше знает свой родной рынок, чем американские компании. По мимо этого присутствуют WiiU и PSV. Выходит, что в Японии в целом отдают предпочтения портативным приставкам, суммарно они занимают около 70% рынка. Оставшаяся же часть отдается стационарным приставкам PS4 и PS3."
   ]
  },
  {
   "cell_type": "markdown",
   "id": "68ce5ca0",
   "metadata": {},
   "source": [
    "#### Топ-5 популярных жанров для разных регионов"
   ]
  },
  {
   "cell_type": "code",
   "execution_count": 47,
   "id": "cf37dab5",
   "metadata": {},
   "outputs": [
    {
     "data": {
      "text/html": [
       "<div>\n",
       "<style scoped>\n",
       "    .dataframe tbody tr th:only-of-type {\n",
       "        vertical-align: middle;\n",
       "    }\n",
       "\n",
       "    .dataframe tbody tr th {\n",
       "        vertical-align: top;\n",
       "    }\n",
       "\n",
       "    .dataframe thead th {\n",
       "        text-align: right;\n",
       "    }\n",
       "</style>\n",
       "<table border=\"1\" class=\"dataframe\">\n",
       "  <thead>\n",
       "    <tr style=\"text-align: right;\">\n",
       "      <th></th>\n",
       "      <th>na_sales</th>\n",
       "    </tr>\n",
       "    <tr>\n",
       "      <th>genre</th>\n",
       "      <th></th>\n",
       "    </tr>\n",
       "  </thead>\n",
       "  <tbody>\n",
       "    <tr>\n",
       "      <th>Shooter</th>\n",
       "      <td>79.02</td>\n",
       "    </tr>\n",
       "    <tr>\n",
       "      <th>Action</th>\n",
       "      <td>72.53</td>\n",
       "    </tr>\n",
       "    <tr>\n",
       "      <th>Sports</th>\n",
       "      <td>46.13</td>\n",
       "    </tr>\n",
       "    <tr>\n",
       "      <th>Role-Playing</th>\n",
       "      <td>33.47</td>\n",
       "    </tr>\n",
       "    <tr>\n",
       "      <th>Misc</th>\n",
       "      <td>15.05</td>\n",
       "    </tr>\n",
       "  </tbody>\n",
       "</table>\n",
       "</div>"
      ],
      "text/plain": [
       "              na_sales\n",
       "genre                 \n",
       "Shooter          79.02\n",
       "Action           72.53\n",
       "Sports           46.13\n",
       "Role-Playing     33.47\n",
       "Misc             15.05"
      ]
     },
     "execution_count": 47,
     "metadata": {},
     "output_type": "execute_result"
    }
   ],
   "source": [
    "na_users_genre = games_df.pivot_table(index='genre', values=['na_sales'], aggfunc='sum').sort_values(by='na_sales', ascending=False)\n",
    "na_users_genre[:5]"
   ]
  },
  {
   "cell_type": "code",
   "execution_count": 48,
   "id": "fdb6bde7",
   "metadata": {},
   "outputs": [
    {
     "data": {
      "text/html": [
       "<div>\n",
       "<style scoped>\n",
       "    .dataframe tbody tr th:only-of-type {\n",
       "        vertical-align: middle;\n",
       "    }\n",
       "\n",
       "    .dataframe tbody tr th {\n",
       "        vertical-align: top;\n",
       "    }\n",
       "\n",
       "    .dataframe thead th {\n",
       "        text-align: right;\n",
       "    }\n",
       "</style>\n",
       "<table border=\"1\" class=\"dataframe\">\n",
       "  <thead>\n",
       "    <tr style=\"text-align: right;\">\n",
       "      <th></th>\n",
       "      <th>eu_sales</th>\n",
       "    </tr>\n",
       "    <tr>\n",
       "      <th>genre</th>\n",
       "      <th></th>\n",
       "    </tr>\n",
       "  </thead>\n",
       "  <tbody>\n",
       "    <tr>\n",
       "      <th>Action</th>\n",
       "      <td>74.68</td>\n",
       "    </tr>\n",
       "    <tr>\n",
       "      <th>Shooter</th>\n",
       "      <td>65.52</td>\n",
       "    </tr>\n",
       "    <tr>\n",
       "      <th>Sports</th>\n",
       "      <td>45.73</td>\n",
       "    </tr>\n",
       "    <tr>\n",
       "      <th>Role-Playing</th>\n",
       "      <td>28.17</td>\n",
       "    </tr>\n",
       "    <tr>\n",
       "      <th>Racing</th>\n",
       "      <td>14.13</td>\n",
       "    </tr>\n",
       "  </tbody>\n",
       "</table>\n",
       "</div>"
      ],
      "text/plain": [
       "              eu_sales\n",
       "genre                 \n",
       "Action           74.68\n",
       "Shooter          65.52\n",
       "Sports           45.73\n",
       "Role-Playing     28.17\n",
       "Racing           14.13"
      ]
     },
     "execution_count": 48,
     "metadata": {},
     "output_type": "execute_result"
    }
   ],
   "source": [
    "eu_users_genre = games_df.pivot_table(index='genre', values=['eu_sales'], aggfunc='sum').sort_values(by='eu_sales', ascending=False)\n",
    "eu_users_genre[:5]"
   ]
  },
  {
   "cell_type": "code",
   "execution_count": 49,
   "id": "23994e93",
   "metadata": {},
   "outputs": [
    {
     "data": {
      "text/html": [
       "<div>\n",
       "<style scoped>\n",
       "    .dataframe tbody tr th:only-of-type {\n",
       "        vertical-align: middle;\n",
       "    }\n",
       "\n",
       "    .dataframe tbody tr th {\n",
       "        vertical-align: top;\n",
       "    }\n",
       "\n",
       "    .dataframe thead th {\n",
       "        text-align: right;\n",
       "    }\n",
       "</style>\n",
       "<table border=\"1\" class=\"dataframe\">\n",
       "  <thead>\n",
       "    <tr style=\"text-align: right;\">\n",
       "      <th></th>\n",
       "      <th>jp_sales</th>\n",
       "    </tr>\n",
       "    <tr>\n",
       "      <th>genre</th>\n",
       "      <th></th>\n",
       "    </tr>\n",
       "  </thead>\n",
       "  <tbody>\n",
       "    <tr>\n",
       "      <th>Role-Playing</th>\n",
       "      <td>31.16</td>\n",
       "    </tr>\n",
       "    <tr>\n",
       "      <th>Action</th>\n",
       "      <td>29.58</td>\n",
       "    </tr>\n",
       "    <tr>\n",
       "      <th>Fighting</th>\n",
       "      <td>6.37</td>\n",
       "    </tr>\n",
       "    <tr>\n",
       "      <th>Misc</th>\n",
       "      <td>5.61</td>\n",
       "    </tr>\n",
       "    <tr>\n",
       "      <th>Shooter</th>\n",
       "      <td>4.87</td>\n",
       "    </tr>\n",
       "  </tbody>\n",
       "</table>\n",
       "</div>"
      ],
      "text/plain": [
       "              jp_sales\n",
       "genre                 \n",
       "Role-Playing     31.16\n",
       "Action           29.58\n",
       "Fighting          6.37\n",
       "Misc              5.61\n",
       "Shooter           4.87"
      ]
     },
     "execution_count": 49,
     "metadata": {},
     "output_type": "execute_result"
    }
   ],
   "source": [
    "jp_users_genre = games_df.pivot_table(index='genre', values=['jp_sales'], aggfunc='sum').sort_values(by='jp_sales', ascending=False)\n",
    "jp_users_genre[:5]"
   ]
  },
  {
   "cell_type": "code",
   "execution_count": 50,
   "id": "94acf328",
   "metadata": {},
   "outputs": [
    {
     "data": {
      "image/png": "[encoded data removed]",
      "text/plain": [
       "<Figure size 432x288 with 1 Axes>"
      ]
     },
     "metadata": {},
     "output_type": "display_data"
    },
    {
     "data": {
      "image/png": "[encoded data removed]",
      "text/plain": [
       "<Figure size 432x288 with 1 Axes>"
      ]
     },
     "metadata": {},
     "output_type": "display_data"
    },
    {
     "data": {
      "image/png": "[encoded data removed]",
      "text/plain": [
       "<Figure size 432x288 with 1 Axes>"
      ]
     },
     "metadata": {},
     "output_type": "display_data"
    }
   ],
   "source": [
    "fig1, ax1 = plt.subplots()\n",
    "ax1.pie(na_users_genre[:5].reset_index()['na_sales'], labels=na_users_genre[:5].reset_index()['genre'], autopct='%1.1f%%')\n",
    "ax1.axis('equal')\n",
    "plt.title('Распределение по жанрам в Северной Америке')\n",
    "\n",
    "fig2, ax2 = plt.subplots()\n",
    "ax2.pie(eu_users_genre[:5].reset_index()['eu_sales'], labels=eu_users_genre[:5].reset_index()['genre'], autopct='%1.1f%%')\n",
    "ax2.axis('equal')\n",
    "plt.title('Распределение по жанрам в Европе')\n",
    "\n",
    "fig3, ax3 = plt.subplots()\n",
    "ax3.pie(jp_users_genre[:5].reset_index()['jp_sales'], labels=jp_users_genre[:5].reset_index()['genre'], autopct='%1.1f%%')\n",
    "ax3.axis('equal')\n",
    "plt.title('Распределение по жанрам в Японии')\n",
    "plt.show()\n"
   ]
  },
  {
   "cell_type": "markdown",
   "id": "4f9ed1db",
   "metadata": {},
   "source": [
    "В Америке и Европе схожее распределение игр по жанрам. Большую часть занимают игры в жанрах 'shooter' и 'action' (порядка 60%). Около 20% занимает жанр 'sport', около 13% жанр 'role-playing'.\n",
    "В Японии же имеются различия. Так, жанр 'action' остается таким же популярным, но наряду с ним стоит жанр 'role-playing', занимая 40% рынка. А жанр 'shooter', который имеет широкое распространение в други регионах, в Японии занимаешь лишь 6%."
   ]
  },
  {
   "cell_type": "markdown",
   "id": "5687e10a",
   "metadata": {},
   "source": [
    "Проверим, влияет ли рейтинг ESRB на продажи в отдельном регионе"
   ]
  },
  {
   "cell_type": "code",
   "execution_count": 51,
   "id": "75a64cf7",
   "metadata": {},
   "outputs": [
    {
     "data": {
      "text/html": [
       "<div>\n",
       "<style scoped>\n",
       "    .dataframe tbody tr th:only-of-type {\n",
       "        vertical-align: middle;\n",
       "    }\n",
       "\n",
       "    .dataframe tbody tr th {\n",
       "        vertical-align: top;\n",
       "    }\n",
       "\n",
       "    .dataframe thead th {\n",
       "        text-align: right;\n",
       "    }\n",
       "</style>\n",
       "<table border=\"1\" class=\"dataframe\">\n",
       "  <thead>\n",
       "    <tr style=\"text-align: right;\">\n",
       "      <th></th>\n",
       "      <th>name</th>\n",
       "      <th>platform</th>\n",
       "      <th>year_of_release</th>\n",
       "      <th>genre</th>\n",
       "      <th>na_sales</th>\n",
       "      <th>eu_sales</th>\n",
       "      <th>jp_sales</th>\n",
       "      <th>other_sales</th>\n",
       "      <th>critic_score</th>\n",
       "      <th>user_score</th>\n",
       "      <th>rating</th>\n",
       "      <th>total_sales</th>\n",
       "    </tr>\n",
       "  </thead>\n",
       "  <tbody>\n",
       "    <tr>\n",
       "      <th>0</th>\n",
       "      <td>Call of Duty: Black Ops 3</td>\n",
       "      <td>PS4</td>\n",
       "      <td>2015</td>\n",
       "      <td>Shooter</td>\n",
       "      <td>6.03</td>\n",
       "      <td>5.86</td>\n",
       "      <td>0.36</td>\n",
       "      <td>2.38</td>\n",
       "      <td>&lt;NA&gt;</td>\n",
       "      <td>NaN</td>\n",
       "      <td>NaN</td>\n",
       "      <td>14.63</td>\n",
       "    </tr>\n",
       "    <tr>\n",
       "      <th>1</th>\n",
       "      <td>Grand Theft Auto V</td>\n",
       "      <td>PS4</td>\n",
       "      <td>2014</td>\n",
       "      <td>Action</td>\n",
       "      <td>3.96</td>\n",
       "      <td>6.31</td>\n",
       "      <td>0.38</td>\n",
       "      <td>1.97</td>\n",
       "      <td>97</td>\n",
       "      <td>8.3</td>\n",
       "      <td>M</td>\n",
       "      <td>12.62</td>\n",
       "    </tr>\n",
       "    <tr>\n",
       "      <th>2</th>\n",
       "      <td>Pokemon Omega Ruby/Pokemon Alpha Sapphire</td>\n",
       "      <td>3DS</td>\n",
       "      <td>2014</td>\n",
       "      <td>Role-Playing</td>\n",
       "      <td>4.35</td>\n",
       "      <td>3.49</td>\n",
       "      <td>3.10</td>\n",
       "      <td>0.74</td>\n",
       "      <td>&lt;NA&gt;</td>\n",
       "      <td>NaN</td>\n",
       "      <td>NaN</td>\n",
       "      <td>11.68</td>\n",
       "    </tr>\n",
       "    <tr>\n",
       "      <th>3</th>\n",
       "      <td>FIFA 16</td>\n",
       "      <td>PS4</td>\n",
       "      <td>2015</td>\n",
       "      <td>Sports</td>\n",
       "      <td>1.12</td>\n",
       "      <td>6.12</td>\n",
       "      <td>0.06</td>\n",
       "      <td>1.28</td>\n",
       "      <td>82</td>\n",
       "      <td>4.3</td>\n",
       "      <td>E</td>\n",
       "      <td>8.58</td>\n",
       "    </tr>\n",
       "    <tr>\n",
       "      <th>4</th>\n",
       "      <td>Star Wars Battlefront (2015)</td>\n",
       "      <td>PS4</td>\n",
       "      <td>2015</td>\n",
       "      <td>Shooter</td>\n",
       "      <td>2.99</td>\n",
       "      <td>3.49</td>\n",
       "      <td>0.22</td>\n",
       "      <td>1.28</td>\n",
       "      <td>&lt;NA&gt;</td>\n",
       "      <td>NaN</td>\n",
       "      <td>NaN</td>\n",
       "      <td>7.98</td>\n",
       "    </tr>\n",
       "  </tbody>\n",
       "</table>\n",
       "</div>"
      ],
      "text/plain": [
       "                                        name platform  year_of_release  \\\n",
       "0                  Call of Duty: Black Ops 3      PS4             2015   \n",
       "1                         Grand Theft Auto V      PS4             2014   \n",
       "2  Pokemon Omega Ruby/Pokemon Alpha Sapphire      3DS             2014   \n",
       "3                                    FIFA 16      PS4             2015   \n",
       "4               Star Wars Battlefront (2015)      PS4             2015   \n",
       "\n",
       "          genre  na_sales  eu_sales  jp_sales  other_sales  critic_score  \\\n",
       "0       Shooter      6.03      5.86      0.36         2.38          <NA>   \n",
       "1        Action      3.96      6.31      0.38         1.97            97   \n",
       "2  Role-Playing      4.35      3.49      3.10         0.74          <NA>   \n",
       "3        Sports      1.12      6.12      0.06         1.28            82   \n",
       "4       Shooter      2.99      3.49      0.22         1.28          <NA>   \n",
       "\n",
       "   user_score rating  total_sales  \n",
       "0         NaN    NaN        14.63  \n",
       "1         8.3      M        12.62  \n",
       "2         NaN    NaN        11.68  \n",
       "3         4.3      E         8.58  \n",
       "4         NaN    NaN         7.98  "
      ]
     },
     "execution_count": 51,
     "metadata": {},
     "output_type": "execute_result"
    }
   ],
   "source": [
    "games_df.head()"
   ]
  },
  {
   "cell_type": "code",
   "execution_count": 52,
   "id": "e387fd25",
   "metadata": {},
   "outputs": [
    {
     "data": {
      "image/png": "[encoded data removed]",
      "text/plain": [
       "<Figure size 864x288 with 3 Axes>"
      ]
     },
     "metadata": {
      "needs_background": "light"
     },
     "output_type": "display_data"
    }
   ],
   "source": [
    "#удалим строки, где нет оценок пользователей и критиков\n",
    "plt.figure(figsize=(12, 4))\n",
    "plt.subplots_adjust(left=0.13, \n",
    "                    right=0.93, \n",
    "                    top=1.0, \n",
    "                    bottom= 0.27, \n",
    "                    wspace= 0.3, \n",
    "                    hspace=0.3)\n",
    "\n",
    "plt.subplot(1, 3, 1)\n",
    "plt.xlabel('рейтинг ESRB')\n",
    "plt.ylabel('количество, млн')\n",
    "plt.title('Северная Америка')\n",
    "sns.barplot(data = games_df, x = 'rating', y= 'na_sales', estimator=sum)\n",
    "\n",
    "plt.subplot(1, 3, 2)\n",
    "plt.xlabel('рейтинг ESRB')\n",
    "plt.ylabel('количество, млн')\n",
    "plt.title('Европа')\n",
    "sns.barplot(data = games_df, x = 'rating', y= 'eu_sales', estimator=sum)\n",
    "\n",
    "plt.subplot(1, 3, 3)\n",
    "plt.xlabel('рейтинг ESRB')\n",
    "plt.ylabel('количество, млн')\n",
    "plt.title('Япония')\n",
    "sns.barplot(data = games_df, x = 'rating', y= 'jp_sales', estimator=sum)\n",
    "plt.show()"
   ]
  },
  {
   "cell_type": "markdown",
   "id": "53d27892",
   "metadata": {},
   "source": [
    "Получилось, что рейтинг не влият на продажи. В Северной Америке и Европе больше всего продаются игр с рейтингом M, в то время, как в японии больше всего с рейтингом T (без рейтинга)."
   ]
  },
  {
   "cell_type": "markdown",
   "id": "9b7e927b",
   "metadata": {},
   "source": [
    "### Шаг 5. Проверка гипотез"
   ]
  },
  {
   "cell_type": "markdown",
   "id": "18673ee0",
   "metadata": {},
   "source": [
    "Проверим, являются ли средние пользовательские рейтинги платформ Xbox One и PC одинаковыми.\n",
    "\n",
    "Нулевая гипотеза: средние пользовательские рейтинги платформ Xbox One и PC одинаковые.\n",
    "\n",
    "Альтернативная гипотеза: средние пользовательские рейтинги платформ Xbox One и PC разные."
   ]
  },
  {
   "cell_type": "code",
   "execution_count": 53,
   "id": "27283cca",
   "metadata": {},
   "outputs": [
    {
     "name": "stdout",
     "output_type": "stream",
     "text": [
      "p-value: 0.10450507919348415\n"
     ]
    }
   ],
   "source": [
    "xbox_one = games_df[games_df['platform'] == 'XOne'].dropna(subset=['user_score']).reset_index(drop=True)\n",
    "pc = games_df[games_df['platform'] == 'PC'].dropna(subset=['user_score']).reset_index(drop=True)\n",
    "#выборка оценок пользователей на xbox\n",
    "xbox_one_users_rating  = xbox_one['user_score']\n",
    "#выборка оценок пользователей на pc\n",
    "pc_users_rating  = pc['user_score']\n",
    "\n",
    "# задаём уровень значимости\n",
    "alpha = 0.05\n",
    "# проводим ttest для двух выборок, в качестве альтернативной используем одностороннюю гипотезу «больше»\n",
    "results = st.ttest_ind(xbox_one_users_rating, pc_users_rating)\n",
    "\n",
    "print(f'p-value: {results.pvalue}')\n",
    "\n",
    "# проверяем p-value\n",
    "if results.pvalue < alpha:\n",
    "    print('Отвергаем нулевую гипотезу')"
   ]
  },
  {
   "cell_type": "markdown",
   "id": "99dec704",
   "metadata": {},
   "source": [
    "Значение p-value получилось порядка 10%, что выше уровня значимости, поэтому мы не можем отвергнуть нулевую гипотезу. Имеет смысл преподлагать, что средние пользовательские рейтинги платформ Xbox One и PC не различаются."
   ]
  },
  {
   "cell_type": "markdown",
   "id": "b4317ed2",
   "metadata": {},
   "source": [
    "Проверим, явлюяются ли средние пользовательские рейтинги жанров 'Action' и 'Sports' разными.\n",
    "\n",
    "Нулевая гипотеза: средние пользовательские рейтинги жанров 'Action' и 'Sports' одинаковые.\n",
    "\n",
    "Альтернативная гипотеза: средние пользовательские рейтинги жанров 'Action' и 'Sports' разные."
   ]
  },
  {
   "cell_type": "code",
   "execution_count": 54,
   "id": "fa84053d",
   "metadata": {},
   "outputs": [
    {
     "name": "stdout",
     "output_type": "stream",
     "text": [
      "p-value: 2.8711147985105864e-19\n",
      "Отвергаем нулевую гипотезу\n"
     ]
    }
   ],
   "source": [
    "genre_action = games_df[games_df['genre'] == 'Action'].dropna(subset=['user_score']).reset_index(drop=True)\n",
    "genre_sports = games_df[games_df['genre'] == 'Sports'].dropna(subset=['user_score']).reset_index(drop=True)\n",
    "#выборка оценок пользователей в жанре 'action'\n",
    "action_users_rating  = genre_action['user_score']\n",
    "#выборка оценок пользователей в жанре 'sports'\n",
    "sports_users_rating  = genre_sports['user_score']\n",
    "\n",
    "# задаём уровень значимости\n",
    "alpha = 0.05\n",
    "# проводим ttest для двух выборок, в качестве альтернативной используем одностороннюю гипотезу «больше»\n",
    "results = st.ttest_ind(action_users_rating, sports_users_rating)\n",
    "\n",
    "print(f'p-value: {results.pvalue}')\n",
    "\n",
    "# проверяем p-value\n",
    "if results.pvalue < alpha:\n",
    "    print('Отвергаем нулевую гипотезу')"
   ]
  },
  {
   "cell_type": "markdown",
   "id": "9485df50",
   "metadata": {},
   "source": [
    "Значение p-value получилось намного меньше уровня значимости, поэтому мы отвергаем нулевую гипотезу. Можно говорить о том что средние пользовательские рейтинги жанров 'Action' и 'Sports' различаются."
   ]
  },
  {
   "cell_type": "markdown",
   "id": "de8c1be2",
   "metadata": {},
   "source": [
    "### Шаг 6. Вывод"
   ]
  },
  {
   "cell_type": "markdown",
   "id": "8abd0c7a",
   "metadata": {},
   "source": [
    "По исходным данным мы узнали, как развивался рынок игр и что на нем сейчас происходит. До 1994 года выходило порядка 20-50 игр в год, а после этого пошло развитие этой индустрии с пиком в 2008-2009 годах (по 1400 игр в год). В дальнейшем стал происходить спад, и в 2016 году вышло порядка 500 игр. Это может быть связано с тем, что игры стали более сложными в разработке, и на выпуск игры требуется больше времени. \n",
    "\n",
    "За время развития игровой индустрии поменялось больше количество платформ. Средний срок жизни платформы составляет порядка 7.5 лет. Так например, самые популярные плтаформы в 2009 году - Wii, PS3, X360, DS, к 2014 году практически исчезли. А с 2013 начали активно расти PS4, XOne, 3DS. Для прогнозирования продаж на 2017 год имеет смысл рассматривать акутальный период - 2014-2016 года, где рынок перераспределился между новыми игровыми платформами.\n",
    "\n",
    "Мы проверили, как рейтинг критиков и пользователей влияет на продажи игр. Присутсвует корреляция между рейтингом критиков и продажами игры (порядка 0.4). Это можно объяснить тем, что критики при оценке используют некоторые парамерты, которые является объективными, не опираясь только на свой субъективный опыт. Также своей оценкой критики могут формировать отношение к игре у потенциальных покупателей. Поэтому высокие оценки, побуждают покупателя приобрести игру, а низкие - нет. Что касается зависимости отзывов пользователей от продаж - то тут корреляция около нуля для стационарных приставок последнего поколения, но корреляция присутсвует, хоть и небольшая (около 0.2) среди приставок, который вышли раньше. Видимо там достаточно пользовательских отзывов, чтобы опираться на них при выборе игры.\n",
    "\n",
    "Самым популярным жанром является 'shooter'. В среднем игра такого жанра расходится тиражом в 0.5 млн копий. За ним идет 'sports', с продажами около 0.2 млн копий за игру. Дальше жанры расоплагаются в следующем порядке: 'Platform', 'Fighting', 'Role-Playing', 'Simulation', 'Action', 'Misc', 'Racing', с продажами в среднем 100000-130000 копий за игру. Замыкают список жанры: 'Strategy', 'Puzzle', 'Adventure'. На игры этих жанров продаж в среднем приходится по 50000 копий.\n",
    "\n",
    "В нашей таблице имеется информация о продаже игр в различных регионах: Северной Америке, Европе и Японии. В каждом регионе есть свои особенности. В разных регионах преобладают различные игровые платформы. \n",
    "\n",
    "В Северной Америке большую часть рынка занимают PS4 и XOne, занимая 39% и 32% соответственно. Так же представлены эти приставки, но прошлого поколения PS3 и X360, а также 3DS, каждая из которых занимает порядка 10% рынка. Это объясняется тем, что PS и XBox - принадлежат американским компаниям, соотвественно, они хорошо работают на свой рынок, как самый понятный.\n",
    "\n",
    "В Европе преобладает PS4, занимая большую часть рынка (около 55%). Меньше представлена приставка XOne (~20%) и оставшийся рынок делится между PS3, 3DS и PC. Здесь всплыли PC, и стационарные приставки занимают большую часть рынка. Можно предположить, что европейцы привыкли играть в непереносные устройства, поэтому такое распределение по платформам. И к тому же маркетинг, PS лучше работает в европе, чем XBox'а.\n",
    "\n",
    "В Японии наибольшее распространение получила приставка 3DS, которая занимает половину рынка. Это объясняется тем, что компания Nintendo, которая ее производит - японская, и она лучше знает свой родной рынок, чем американские компании. По мимо этого присутствуют WiiU и PSV. Выходит, что в Японии в целом отдают предпочтения портативным приставкам, суммарно они занимают около 70% рынка. Оставшаяся же часть отдается стационарным приставкам PS4 и PS3.\n",
    "\n",
    "Помимо различий в платформах, в разных регионах отдаются предпочтения различным игровым жанрам. В Америке и Европе схожее распределение игр по жанрам. Большую часть занимают игры в жанрах 'shooter' и 'action' (порядка 60%). Около 20% занимает жанр 'sport', около 13% жанр 'role-playing'.\n",
    "В Японии же имеются различия. Так, жанр 'action' остается таким же популярным, но наряду с ним стоит жанр 'role-playing', занимая 40% рынка. А жанр 'shooter', который имеет широкое распространение в други регионах, в Японии занимаешь лишь 6%.\n",
    "\n",
    "Для того, чтобы выяснить, какие игры стоит закупать в следующем году, мы проверили пару гипотез: являются ли средние пользовательские рейтинги платформ Xbox One и PC одинаковыми и явлюяются ли средние пользовательские рейтинги жанров 'Action' и 'Sports' разными. Имеет смысл преподлагать, что средние пользовательские рейтинги платформ Xbox One и PC не различаются, поэтому при закупке игр, не стоит отдавать предпочтение только одной из двух платформ. А вот что касается жанра, можно говорить о том, что средние пользовательские рейтинги жанров 'Action' и 'Sports' различаются, но как мы выяснили ранее, это не повлияет на продажи игры."
   ]
  }
 ],
 "metadata": {
  "ExecuteTimeLog": [
   {
    "duration": 1224,
    "start_time": "2024-10-11T16:40:34.637Z"
   },
   {
    "duration": 57,
    "start_time": "2024-10-11T16:40:35.863Z"
   },
   {
    "duration": 22,
    "start_time": "2024-10-11T16:40:35.921Z"
   },
   {
    "duration": 49,
    "start_time": "2024-10-11T16:40:35.945Z"
   },
   {
    "duration": 11,
    "start_time": "2024-10-11T16:40:35.997Z"
   },
   {
    "duration": 36,
    "start_time": "2024-10-11T16:40:36.010Z"
   },
   {
    "duration": 3,
    "start_time": "2024-10-11T16:40:36.048Z"
   },
   {
    "duration": 16,
    "start_time": "2024-10-11T16:40:36.053Z"
   },
   {
    "duration": 5,
    "start_time": "2024-10-11T16:40:36.070Z"
   },
   {
    "duration": 24,
    "start_time": "2024-10-11T16:40:36.076Z"
   },
   {
    "duration": 14,
    "start_time": "2024-10-11T16:40:36.102Z"
   },
   {
    "duration": 19,
    "start_time": "2024-10-11T16:40:36.117Z"
   },
   {
    "duration": 14,
    "start_time": "2024-10-11T16:40:36.139Z"
   },
   {
    "duration": 7,
    "start_time": "2024-10-11T16:40:36.156Z"
   },
   {
    "duration": 7,
    "start_time": "2024-10-11T16:40:36.165Z"
   },
   {
    "duration": 6,
    "start_time": "2024-10-11T16:40:36.174Z"
   },
   {
    "duration": 15,
    "start_time": "2024-10-11T16:40:36.182Z"
   },
   {
    "duration": 41,
    "start_time": "2024-10-11T16:40:36.199Z"
   },
   {
    "duration": 8,
    "start_time": "2024-10-11T16:40:36.242Z"
   },
   {
    "duration": 14,
    "start_time": "2024-10-11T16:40:36.251Z"
   },
   {
    "duration": 351,
    "start_time": "2024-10-11T16:40:36.267Z"
   },
   {
    "duration": 7,
    "start_time": "2024-10-11T16:40:36.619Z"
   },
   {
    "duration": 34,
    "start_time": "2024-10-11T16:40:36.627Z"
   },
   {
    "duration": 266,
    "start_time": "2024-10-11T16:40:36.663Z"
   },
   {
    "duration": 3,
    "start_time": "2024-10-11T16:40:36.931Z"
   },
   {
    "duration": 20,
    "start_time": "2024-10-11T16:40:36.935Z"
   },
   {
    "duration": 119,
    "start_time": "2024-10-11T16:40:36.956Z"
   },
   {
    "duration": 0,
    "start_time": "2024-10-11T16:40:37.076Z"
   },
   {
    "duration": 0,
    "start_time": "2024-10-11T16:40:37.078Z"
   },
   {
    "duration": 0,
    "start_time": "2024-10-11T16:40:37.079Z"
   },
   {
    "duration": 0,
    "start_time": "2024-10-11T16:40:37.080Z"
   },
   {
    "duration": 0,
    "start_time": "2024-10-11T16:40:37.080Z"
   },
   {
    "duration": 0,
    "start_time": "2024-10-11T16:40:37.082Z"
   },
   {
    "duration": 0,
    "start_time": "2024-10-11T16:40:37.083Z"
   },
   {
    "duration": 0,
    "start_time": "2024-10-11T16:40:37.083Z"
   },
   {
    "duration": 0,
    "start_time": "2024-10-11T16:40:37.084Z"
   },
   {
    "duration": 0,
    "start_time": "2024-10-11T16:40:37.085Z"
   },
   {
    "duration": 0,
    "start_time": "2024-10-11T16:40:37.086Z"
   },
   {
    "duration": 0,
    "start_time": "2024-10-11T16:40:37.087Z"
   },
   {
    "duration": 0,
    "start_time": "2024-10-11T16:40:37.088Z"
   },
   {
    "duration": 0,
    "start_time": "2024-10-11T16:40:37.089Z"
   },
   {
    "duration": 0,
    "start_time": "2024-10-11T16:40:37.090Z"
   },
   {
    "duration": 0,
    "start_time": "2024-10-11T16:40:37.092Z"
   },
   {
    "duration": 0,
    "start_time": "2024-10-11T16:40:37.092Z"
   },
   {
    "duration": 0,
    "start_time": "2024-10-11T16:40:37.093Z"
   },
   {
    "duration": 0,
    "start_time": "2024-10-11T16:40:37.095Z"
   },
   {
    "duration": 1143,
    "start_time": "2024-10-11T16:41:21.319Z"
   },
   {
    "duration": 55,
    "start_time": "2024-10-11T16:41:22.464Z"
   },
   {
    "duration": 19,
    "start_time": "2024-10-11T16:41:22.520Z"
   },
   {
    "duration": 14,
    "start_time": "2024-10-11T16:41:22.541Z"
   },
   {
    "duration": 9,
    "start_time": "2024-10-11T16:41:22.556Z"
   },
   {
    "duration": 15,
    "start_time": "2024-10-11T16:41:22.567Z"
   },
   {
    "duration": 4,
    "start_time": "2024-10-11T16:41:22.584Z"
   },
   {
    "duration": 9,
    "start_time": "2024-10-11T16:41:22.589Z"
   },
   {
    "duration": 4,
    "start_time": "2024-10-11T16:41:22.599Z"
   },
   {
    "duration": 48,
    "start_time": "2024-10-11T16:41:22.606Z"
   },
   {
    "duration": 4,
    "start_time": "2024-10-11T16:41:22.655Z"
   },
   {
    "duration": 5,
    "start_time": "2024-10-11T16:41:22.661Z"
   },
   {
    "duration": 10,
    "start_time": "2024-10-11T16:41:22.668Z"
   },
   {
    "duration": 5,
    "start_time": "2024-10-11T16:41:22.679Z"
   },
   {
    "duration": 6,
    "start_time": "2024-10-11T16:41:22.686Z"
   },
   {
    "duration": 10,
    "start_time": "2024-10-11T16:41:22.693Z"
   },
   {
    "duration": 8,
    "start_time": "2024-10-11T16:41:22.704Z"
   },
   {
    "duration": 46,
    "start_time": "2024-10-11T16:41:22.714Z"
   },
   {
    "duration": 4,
    "start_time": "2024-10-11T16:41:22.762Z"
   },
   {
    "duration": 16,
    "start_time": "2024-10-11T16:41:22.768Z"
   },
   {
    "duration": 345,
    "start_time": "2024-10-11T16:41:22.786Z"
   },
   {
    "duration": 7,
    "start_time": "2024-10-11T16:41:23.132Z"
   },
   {
    "duration": 27,
    "start_time": "2024-10-11T16:41:23.140Z"
   },
   {
    "duration": 265,
    "start_time": "2024-10-11T16:41:23.169Z"
   },
   {
    "duration": 3,
    "start_time": "2024-10-11T16:41:23.435Z"
   },
   {
    "duration": 25,
    "start_time": "2024-10-11T16:41:23.440Z"
   },
   {
    "duration": 123,
    "start_time": "2024-10-11T16:41:23.467Z"
   },
   {
    "duration": 0,
    "start_time": "2024-10-11T16:41:23.592Z"
   },
   {
    "duration": 0,
    "start_time": "2024-10-11T16:41:23.593Z"
   },
   {
    "duration": 0,
    "start_time": "2024-10-11T16:41:23.594Z"
   },
   {
    "duration": 0,
    "start_time": "2024-10-11T16:41:23.596Z"
   },
   {
    "duration": 0,
    "start_time": "2024-10-11T16:41:23.597Z"
   },
   {
    "duration": 0,
    "start_time": "2024-10-11T16:41:23.598Z"
   },
   {
    "duration": 0,
    "start_time": "2024-10-11T16:41:23.598Z"
   },
   {
    "duration": 0,
    "start_time": "2024-10-11T16:41:23.600Z"
   },
   {
    "duration": 0,
    "start_time": "2024-10-11T16:41:23.600Z"
   },
   {
    "duration": 0,
    "start_time": "2024-10-11T16:41:23.601Z"
   },
   {
    "duration": 0,
    "start_time": "2024-10-11T16:41:23.602Z"
   },
   {
    "duration": 0,
    "start_time": "2024-10-11T16:41:23.603Z"
   },
   {
    "duration": 0,
    "start_time": "2024-10-11T16:41:23.604Z"
   },
   {
    "duration": 0,
    "start_time": "2024-10-11T16:41:23.605Z"
   },
   {
    "duration": 0,
    "start_time": "2024-10-11T16:41:23.607Z"
   },
   {
    "duration": 0,
    "start_time": "2024-10-11T16:41:23.607Z"
   },
   {
    "duration": 0,
    "start_time": "2024-10-11T16:41:23.608Z"
   },
   {
    "duration": 0,
    "start_time": "2024-10-11T16:41:23.610Z"
   },
   {
    "duration": 0,
    "start_time": "2024-10-11T16:41:23.611Z"
   },
   {
    "duration": 1054,
    "start_time": "2024-10-11T16:41:50.599Z"
   },
   {
    "duration": 54,
    "start_time": "2024-10-11T16:41:51.655Z"
   },
   {
    "duration": 19,
    "start_time": "2024-10-11T16:41:51.711Z"
   },
   {
    "duration": 20,
    "start_time": "2024-10-11T16:41:51.731Z"
   },
   {
    "duration": 9,
    "start_time": "2024-10-11T16:41:51.753Z"
   },
   {
    "duration": 16,
    "start_time": "2024-10-11T16:41:51.763Z"
   },
   {
    "duration": 4,
    "start_time": "2024-10-11T16:41:51.780Z"
   },
   {
    "duration": 9,
    "start_time": "2024-10-11T16:41:51.785Z"
   },
   {
    "duration": 5,
    "start_time": "2024-10-11T16:41:51.795Z"
   },
   {
    "duration": 5,
    "start_time": "2024-10-11T16:41:51.801Z"
   },
   {
    "duration": 3,
    "start_time": "2024-10-11T16:41:51.808Z"
   },
   {
    "duration": 41,
    "start_time": "2024-10-11T16:41:51.813Z"
   },
   {
    "duration": 4,
    "start_time": "2024-10-11T16:41:51.855Z"
   },
   {
    "duration": 5,
    "start_time": "2024-10-11T16:41:51.862Z"
   },
   {
    "duration": 6,
    "start_time": "2024-10-11T16:41:51.868Z"
   },
   {
    "duration": 7,
    "start_time": "2024-10-11T16:41:51.876Z"
   },
   {
    "duration": 8,
    "start_time": "2024-10-11T16:41:51.884Z"
   },
   {
    "duration": 13,
    "start_time": "2024-10-11T16:41:51.894Z"
   },
   {
    "duration": 4,
    "start_time": "2024-10-11T16:41:51.909Z"
   },
   {
    "duration": 53,
    "start_time": "2024-10-11T16:41:51.914Z"
   },
   {
    "duration": 331,
    "start_time": "2024-10-11T16:41:51.969Z"
   },
   {
    "duration": 8,
    "start_time": "2024-10-11T16:41:52.302Z"
   },
   {
    "duration": 24,
    "start_time": "2024-10-11T16:41:52.312Z"
   },
   {
    "duration": 238,
    "start_time": "2024-10-11T16:41:52.337Z"
   },
   {
    "duration": 4,
    "start_time": "2024-10-11T16:41:52.576Z"
   },
   {
    "duration": 31,
    "start_time": "2024-10-11T16:41:52.582Z"
   },
   {
    "duration": 115,
    "start_time": "2024-10-11T16:41:52.615Z"
   },
   {
    "duration": 0,
    "start_time": "2024-10-11T16:41:52.732Z"
   },
   {
    "duration": 0,
    "start_time": "2024-10-11T16:41:52.734Z"
   },
   {
    "duration": 0,
    "start_time": "2024-10-11T16:41:52.735Z"
   },
   {
    "duration": 0,
    "start_time": "2024-10-11T16:41:52.737Z"
   },
   {
    "duration": 0,
    "start_time": "2024-10-11T16:41:52.738Z"
   },
   {
    "duration": 1,
    "start_time": "2024-10-11T16:41:52.753Z"
   },
   {
    "duration": 0,
    "start_time": "2024-10-11T16:41:52.755Z"
   },
   {
    "duration": 0,
    "start_time": "2024-10-11T16:41:52.756Z"
   },
   {
    "duration": 0,
    "start_time": "2024-10-11T16:41:52.758Z"
   },
   {
    "duration": 0,
    "start_time": "2024-10-11T16:41:52.759Z"
   },
   {
    "duration": 0,
    "start_time": "2024-10-11T16:41:52.760Z"
   },
   {
    "duration": 0,
    "start_time": "2024-10-11T16:41:52.762Z"
   },
   {
    "duration": 0,
    "start_time": "2024-10-11T16:41:52.763Z"
   },
   {
    "duration": 0,
    "start_time": "2024-10-11T16:41:52.764Z"
   },
   {
    "duration": 0,
    "start_time": "2024-10-11T16:41:52.766Z"
   },
   {
    "duration": 0,
    "start_time": "2024-10-11T16:41:52.767Z"
   },
   {
    "duration": 0,
    "start_time": "2024-10-11T16:41:52.769Z"
   },
   {
    "duration": 0,
    "start_time": "2024-10-11T16:41:52.770Z"
   },
   {
    "duration": 0,
    "start_time": "2024-10-11T16:41:52.771Z"
   },
   {
    "duration": 9,
    "start_time": "2024-10-11T16:43:52.783Z"
   },
   {
    "duration": 7,
    "start_time": "2024-10-11T16:44:12.647Z"
   },
   {
    "duration": 16,
    "start_time": "2024-10-11T16:44:15.214Z"
   },
   {
    "duration": 10,
    "start_time": "2024-10-11T16:47:42.425Z"
   },
   {
    "duration": 9,
    "start_time": "2024-10-11T16:47:49.434Z"
   },
   {
    "duration": 48,
    "start_time": "2024-10-11T22:33:45.702Z"
   },
   {
    "duration": 1297,
    "start_time": "2024-10-11T22:33:57.019Z"
   },
   {
    "duration": 194,
    "start_time": "2024-10-11T22:33:58.318Z"
   },
   {
    "duration": 18,
    "start_time": "2024-10-11T22:33:58.514Z"
   },
   {
    "duration": 14,
    "start_time": "2024-10-11T22:33:58.534Z"
   },
   {
    "duration": 8,
    "start_time": "2024-10-11T22:33:58.550Z"
   },
   {
    "duration": 18,
    "start_time": "2024-10-11T22:33:58.560Z"
   },
   {
    "duration": 9,
    "start_time": "2024-10-11T22:34:07.127Z"
   },
   {
    "duration": 8,
    "start_time": "2024-10-11T22:34:24.620Z"
   },
   {
    "duration": 9,
    "start_time": "2024-10-11T22:34:35.504Z"
   },
   {
    "duration": 6,
    "start_time": "2024-10-11T22:34:48.668Z"
   },
   {
    "duration": 7,
    "start_time": "2024-10-11T22:35:02.843Z"
   },
   {
    "duration": 9,
    "start_time": "2024-10-11T22:35:19.094Z"
   },
   {
    "duration": 4,
    "start_time": "2024-10-11T22:37:44.281Z"
   },
   {
    "duration": 68,
    "start_time": "2024-10-11T22:37:45.062Z"
   },
   {
    "duration": 4,
    "start_time": "2024-10-11T22:39:01.577Z"
   },
   {
    "duration": 81,
    "start_time": "2024-10-11T22:39:01.583Z"
   },
   {
    "duration": 16,
    "start_time": "2024-10-11T22:39:01.666Z"
   },
   {
    "duration": 82,
    "start_time": "2024-10-11T22:39:01.683Z"
   },
   {
    "duration": 10,
    "start_time": "2024-10-11T22:39:01.767Z"
   },
   {
    "duration": 37,
    "start_time": "2024-10-11T22:39:01.778Z"
   },
   {
    "duration": 18,
    "start_time": "2024-10-11T22:39:01.817Z"
   },
   {
    "duration": 73,
    "start_time": "2024-10-11T22:39:01.836Z"
   },
   {
    "duration": 90,
    "start_time": "2024-10-11T22:39:01.911Z"
   },
   {
    "duration": 10,
    "start_time": "2024-10-11T22:40:08.463Z"
   },
   {
    "duration": 4,
    "start_time": "2024-10-11T22:40:15.771Z"
   },
   {
    "duration": 4,
    "start_time": "2024-10-11T22:48:40.212Z"
   },
   {
    "duration": 3,
    "start_time": "2024-10-11T22:49:04.396Z"
   },
   {
    "duration": 63,
    "start_time": "2024-10-11T22:49:04.401Z"
   },
   {
    "duration": 16,
    "start_time": "2024-10-11T22:49:04.465Z"
   },
   {
    "duration": 20,
    "start_time": "2024-10-11T22:49:04.483Z"
   },
   {
    "duration": 9,
    "start_time": "2024-10-11T22:49:04.505Z"
   },
   {
    "duration": 18,
    "start_time": "2024-10-11T22:49:04.515Z"
   },
   {
    "duration": 8,
    "start_time": "2024-10-11T22:49:04.535Z"
   },
   {
    "duration": 36,
    "start_time": "2024-10-11T22:49:04.545Z"
   },
   {
    "duration": 9,
    "start_time": "2024-10-11T22:49:04.583Z"
   },
   {
    "duration": 8,
    "start_time": "2024-10-11T22:49:04.593Z"
   },
   {
    "duration": 23,
    "start_time": "2024-10-11T22:49:04.603Z"
   },
   {
    "duration": 3,
    "start_time": "2024-10-11T22:49:04.628Z"
   },
   {
    "duration": 17,
    "start_time": "2024-10-11T22:49:04.632Z"
   },
   {
    "duration": 5,
    "start_time": "2024-10-11T22:49:04.651Z"
   },
   {
    "duration": 6,
    "start_time": "2024-10-11T22:49:04.657Z"
   },
   {
    "duration": 4,
    "start_time": "2024-10-11T22:49:04.664Z"
   },
   {
    "duration": 11,
    "start_time": "2024-10-11T22:49:04.669Z"
   },
   {
    "duration": 28,
    "start_time": "2024-10-11T22:49:04.681Z"
   },
   {
    "duration": 12,
    "start_time": "2024-10-11T22:49:04.711Z"
   },
   {
    "duration": 31,
    "start_time": "2024-10-11T22:49:04.724Z"
   },
   {
    "duration": 15,
    "start_time": "2024-10-11T22:49:04.756Z"
   },
   {
    "duration": 4,
    "start_time": "2024-10-11T22:49:04.772Z"
   },
   {
    "duration": 17,
    "start_time": "2024-10-11T22:49:04.777Z"
   },
   {
    "duration": 24,
    "start_time": "2024-10-11T22:49:04.796Z"
   },
   {
    "duration": 3,
    "start_time": "2024-10-11T22:49:29.160Z"
   },
   {
    "duration": 58,
    "start_time": "2024-10-11T22:49:29.166Z"
   },
   {
    "duration": 16,
    "start_time": "2024-10-11T22:49:29.225Z"
   },
   {
    "duration": 20,
    "start_time": "2024-10-11T22:49:29.243Z"
   },
   {
    "duration": 14,
    "start_time": "2024-10-11T22:49:29.266Z"
   },
   {
    "duration": 21,
    "start_time": "2024-10-11T22:49:29.282Z"
   },
   {
    "duration": 8,
    "start_time": "2024-10-11T22:49:29.304Z"
   },
   {
    "duration": 8,
    "start_time": "2024-10-11T22:49:29.314Z"
   },
   {
    "duration": 7,
    "start_time": "2024-10-11T22:49:29.323Z"
   },
   {
    "duration": 8,
    "start_time": "2024-10-11T22:49:29.332Z"
   },
   {
    "duration": 35,
    "start_time": "2024-10-11T22:49:29.341Z"
   },
   {
    "duration": 4,
    "start_time": "2024-10-11T22:49:29.377Z"
   },
   {
    "duration": 10,
    "start_time": "2024-10-11T22:49:29.383Z"
   },
   {
    "duration": 4,
    "start_time": "2024-10-11T22:49:29.395Z"
   },
   {
    "duration": 6,
    "start_time": "2024-10-11T22:49:29.400Z"
   },
   {
    "duration": 5,
    "start_time": "2024-10-11T22:49:29.407Z"
   },
   {
    "duration": 6,
    "start_time": "2024-10-11T22:49:29.413Z"
   },
   {
    "duration": 7,
    "start_time": "2024-10-11T22:49:29.420Z"
   },
   {
    "duration": 50,
    "start_time": "2024-10-11T22:49:29.428Z"
   },
   {
    "duration": 5,
    "start_time": "2024-10-11T22:49:29.480Z"
   },
   {
    "duration": 13,
    "start_time": "2024-10-11T22:49:29.486Z"
   },
   {
    "duration": 4,
    "start_time": "2024-10-11T22:49:29.500Z"
   },
   {
    "duration": 5,
    "start_time": "2024-10-11T22:49:29.505Z"
   },
   {
    "duration": 13,
    "start_time": "2024-10-11T22:49:29.512Z"
   },
   {
    "duration": 4,
    "start_time": "2024-10-11T22:50:14.040Z"
   },
   {
    "duration": 4,
    "start_time": "2024-10-11T22:51:02.415Z"
   },
   {
    "duration": 3,
    "start_time": "2024-10-11T22:51:04.689Z"
   },
   {
    "duration": 4,
    "start_time": "2024-10-11T22:51:09.990Z"
   },
   {
    "duration": 304,
    "start_time": "2024-10-11T22:53:31.575Z"
   },
   {
    "duration": 297,
    "start_time": "2024-10-11T22:53:39.148Z"
   },
   {
    "duration": 241,
    "start_time": "2024-10-11T22:58:39.016Z"
   },
   {
    "duration": 241,
    "start_time": "2024-10-11T22:58:44.723Z"
   },
   {
    "duration": 324,
    "start_time": "2024-10-11T22:59:38.504Z"
   },
   {
    "duration": 265,
    "start_time": "2024-10-11T23:00:44.147Z"
   },
   {
    "duration": 258,
    "start_time": "2024-10-11T23:00:57.667Z"
   },
   {
    "duration": 8,
    "start_time": "2024-10-11T23:01:04.106Z"
   },
   {
    "duration": 253,
    "start_time": "2024-10-11T23:01:05.507Z"
   },
   {
    "duration": 1111,
    "start_time": "2024-10-11T23:02:56.580Z"
   },
   {
    "duration": 55,
    "start_time": "2024-10-11T23:02:57.693Z"
   },
   {
    "duration": 21,
    "start_time": "2024-10-11T23:02:57.750Z"
   },
   {
    "duration": 16,
    "start_time": "2024-10-11T23:02:57.772Z"
   },
   {
    "duration": 49,
    "start_time": "2024-10-11T23:02:57.790Z"
   },
   {
    "duration": 16,
    "start_time": "2024-10-11T23:02:57.840Z"
   },
   {
    "duration": 8,
    "start_time": "2024-10-11T23:02:57.858Z"
   },
   {
    "duration": 9,
    "start_time": "2024-10-11T23:02:57.867Z"
   },
   {
    "duration": 9,
    "start_time": "2024-10-11T23:02:57.877Z"
   },
   {
    "duration": 11,
    "start_time": "2024-10-11T23:02:57.887Z"
   },
   {
    "duration": 10,
    "start_time": "2024-10-11T23:02:57.899Z"
   },
   {
    "duration": 7,
    "start_time": "2024-10-11T23:02:57.910Z"
   },
   {
    "duration": 100,
    "start_time": "2024-10-11T23:02:57.919Z"
   },
   {
    "duration": 11,
    "start_time": "2024-10-11T23:02:58.021Z"
   },
   {
    "duration": 5,
    "start_time": "2024-10-11T23:02:58.033Z"
   },
   {
    "duration": 5,
    "start_time": "2024-10-11T23:02:58.040Z"
   },
   {
    "duration": 16,
    "start_time": "2024-10-11T23:02:58.046Z"
   },
   {
    "duration": 6,
    "start_time": "2024-10-11T23:02:58.064Z"
   },
   {
    "duration": 5,
    "start_time": "2024-10-11T23:02:58.072Z"
   },
   {
    "duration": 5,
    "start_time": "2024-10-11T23:02:58.078Z"
   },
   {
    "duration": 16,
    "start_time": "2024-10-11T23:02:58.084Z"
   },
   {
    "duration": 5,
    "start_time": "2024-10-11T23:02:58.101Z"
   },
   {
    "duration": 6,
    "start_time": "2024-10-11T23:02:58.107Z"
   },
   {
    "duration": 26,
    "start_time": "2024-10-11T23:02:58.114Z"
   },
   {
    "duration": 355,
    "start_time": "2024-10-11T23:02:58.141Z"
   },
   {
    "duration": 7,
    "start_time": "2024-10-11T23:02:58.498Z"
   },
   {
    "duration": 17,
    "start_time": "2024-10-11T23:02:58.506Z"
   },
   {
    "duration": 9,
    "start_time": "2024-10-11T23:02:58.524Z"
   },
   {
    "duration": 289,
    "start_time": "2024-10-11T23:02:58.534Z"
   },
   {
    "duration": 3,
    "start_time": "2024-10-11T23:02:58.825Z"
   },
   {
    "duration": 11,
    "start_time": "2024-10-11T23:02:58.830Z"
   },
   {
    "duration": 6,
    "start_time": "2024-10-11T23:02:58.843Z"
   },
   {
    "duration": 132,
    "start_time": "2024-10-11T23:02:58.850Z"
   },
   {
    "duration": 0,
    "start_time": "2024-10-11T23:02:58.984Z"
   },
   {
    "duration": 0,
    "start_time": "2024-10-11T23:02:58.985Z"
   },
   {
    "duration": 0,
    "start_time": "2024-10-11T23:02:58.986Z"
   },
   {
    "duration": 0,
    "start_time": "2024-10-11T23:02:58.987Z"
   },
   {
    "duration": 0,
    "start_time": "2024-10-11T23:02:58.988Z"
   },
   {
    "duration": 0,
    "start_time": "2024-10-11T23:02:58.989Z"
   },
   {
    "duration": 0,
    "start_time": "2024-10-11T23:02:58.990Z"
   },
   {
    "duration": 0,
    "start_time": "2024-10-11T23:02:58.991Z"
   },
   {
    "duration": 0,
    "start_time": "2024-10-11T23:02:58.992Z"
   },
   {
    "duration": 0,
    "start_time": "2024-10-11T23:02:58.993Z"
   },
   {
    "duration": 0,
    "start_time": "2024-10-11T23:02:58.994Z"
   },
   {
    "duration": 0,
    "start_time": "2024-10-11T23:02:58.995Z"
   },
   {
    "duration": 0,
    "start_time": "2024-10-11T23:02:58.996Z"
   },
   {
    "duration": 0,
    "start_time": "2024-10-11T23:02:58.997Z"
   },
   {
    "duration": 0,
    "start_time": "2024-10-11T23:02:58.998Z"
   },
   {
    "duration": 0,
    "start_time": "2024-10-11T23:02:58.999Z"
   },
   {
    "duration": 0,
    "start_time": "2024-10-11T23:02:59.000Z"
   },
   {
    "duration": 0,
    "start_time": "2024-10-11T23:02:59.001Z"
   },
   {
    "duration": 0,
    "start_time": "2024-10-11T23:02:59.002Z"
   },
   {
    "duration": 30,
    "start_time": "2024-10-11T23:05:38.163Z"
   },
   {
    "duration": 23,
    "start_time": "2024-10-11T23:08:56.825Z"
   },
   {
    "duration": 22,
    "start_time": "2024-10-11T23:09:17.152Z"
   },
   {
    "duration": 14,
    "start_time": "2024-10-11T23:09:38.978Z"
   },
   {
    "duration": 11,
    "start_time": "2024-10-11T23:09:46.197Z"
   },
   {
    "duration": 13,
    "start_time": "2024-10-11T23:09:55.554Z"
   },
   {
    "duration": 709,
    "start_time": "2024-10-11T23:10:36.880Z"
   },
   {
    "duration": 1121,
    "start_time": "2024-10-11T23:12:13.377Z"
   },
   {
    "duration": 56,
    "start_time": "2024-10-11T23:12:14.500Z"
   },
   {
    "duration": 20,
    "start_time": "2024-10-11T23:12:14.558Z"
   },
   {
    "duration": 14,
    "start_time": "2024-10-11T23:12:14.580Z"
   },
   {
    "duration": 14,
    "start_time": "2024-10-11T23:12:14.596Z"
   },
   {
    "duration": 25,
    "start_time": "2024-10-11T23:12:14.611Z"
   },
   {
    "duration": 8,
    "start_time": "2024-10-11T23:12:14.637Z"
   },
   {
    "duration": 9,
    "start_time": "2024-10-11T23:12:14.646Z"
   },
   {
    "duration": 24,
    "start_time": "2024-10-11T23:12:14.656Z"
   },
   {
    "duration": 10,
    "start_time": "2024-10-11T23:12:14.682Z"
   },
   {
    "duration": 17,
    "start_time": "2024-10-11T23:12:14.694Z"
   },
   {
    "duration": 3,
    "start_time": "2024-10-11T23:12:14.713Z"
   },
   {
    "duration": 7,
    "start_time": "2024-10-11T23:12:14.717Z"
   },
   {
    "duration": 5,
    "start_time": "2024-10-11T23:12:14.726Z"
   },
   {
    "duration": 6,
    "start_time": "2024-10-11T23:12:14.733Z"
   },
   {
    "duration": 5,
    "start_time": "2024-10-11T23:12:14.740Z"
   },
   {
    "duration": 6,
    "start_time": "2024-10-11T23:12:14.746Z"
   },
   {
    "duration": 23,
    "start_time": "2024-10-11T23:12:14.753Z"
   },
   {
    "duration": 4,
    "start_time": "2024-10-11T23:12:14.778Z"
   },
   {
    "duration": 5,
    "start_time": "2024-10-11T23:12:14.784Z"
   },
   {
    "duration": 14,
    "start_time": "2024-10-11T23:12:14.790Z"
   },
   {
    "duration": 3,
    "start_time": "2024-10-11T23:12:14.806Z"
   },
   {
    "duration": 9,
    "start_time": "2024-10-11T23:12:14.811Z"
   },
   {
    "duration": 19,
    "start_time": "2024-10-11T23:12:14.821Z"
   },
   {
    "duration": 339,
    "start_time": "2024-10-11T23:12:14.842Z"
   },
   {
    "duration": 6,
    "start_time": "2024-10-11T23:12:15.183Z"
   },
   {
    "duration": 39,
    "start_time": "2024-10-11T23:12:15.191Z"
   },
   {
    "duration": 30,
    "start_time": "2024-10-11T23:12:15.232Z"
   },
   {
    "duration": 284,
    "start_time": "2024-10-11T23:12:15.263Z"
   },
   {
    "duration": 3,
    "start_time": "2024-10-11T23:12:15.549Z"
   },
   {
    "duration": 35,
    "start_time": "2024-10-11T23:12:15.553Z"
   },
   {
    "duration": 6,
    "start_time": "2024-10-11T23:12:15.589Z"
   },
   {
    "duration": 643,
    "start_time": "2024-10-11T23:12:15.596Z"
   },
   {
    "duration": 5,
    "start_time": "2024-10-11T23:12:16.241Z"
   },
   {
    "duration": 308,
    "start_time": "2024-10-11T23:12:16.247Z"
   },
   {
    "duration": 5,
    "start_time": "2024-10-11T23:12:16.557Z"
   },
   {
    "duration": 25,
    "start_time": "2024-10-11T23:12:16.564Z"
   },
   {
    "duration": 58,
    "start_time": "2024-10-11T23:12:16.591Z"
   },
   {
    "duration": 0,
    "start_time": "2024-10-11T23:12:16.651Z"
   },
   {
    "duration": 0,
    "start_time": "2024-10-11T23:12:16.652Z"
   },
   {
    "duration": 0,
    "start_time": "2024-10-11T23:12:16.653Z"
   },
   {
    "duration": 0,
    "start_time": "2024-10-11T23:12:16.654Z"
   },
   {
    "duration": 0,
    "start_time": "2024-10-11T23:12:16.655Z"
   },
   {
    "duration": 0,
    "start_time": "2024-10-11T23:12:16.656Z"
   },
   {
    "duration": 0,
    "start_time": "2024-10-11T23:12:16.657Z"
   },
   {
    "duration": 0,
    "start_time": "2024-10-11T23:12:16.658Z"
   },
   {
    "duration": 0,
    "start_time": "2024-10-11T23:12:16.659Z"
   },
   {
    "duration": 0,
    "start_time": "2024-10-11T23:12:16.660Z"
   },
   {
    "duration": 0,
    "start_time": "2024-10-11T23:12:16.661Z"
   },
   {
    "duration": 0,
    "start_time": "2024-10-11T23:12:16.662Z"
   },
   {
    "duration": 0,
    "start_time": "2024-10-11T23:12:16.662Z"
   },
   {
    "duration": 0,
    "start_time": "2024-10-11T23:12:16.663Z"
   },
   {
    "duration": 64,
    "start_time": "2024-10-11T23:13:15.399Z"
   },
   {
    "duration": 57,
    "start_time": "2024-10-11T23:13:52.610Z"
   },
   {
    "duration": 233,
    "start_time": "2024-10-11T23:14:22.402Z"
   },
   {
    "duration": 142,
    "start_time": "2024-10-11T23:14:36.778Z"
   },
   {
    "duration": 134,
    "start_time": "2024-10-11T23:15:35.514Z"
   },
   {
    "duration": 244,
    "start_time": "2024-10-11T23:17:09.091Z"
   },
   {
    "duration": 404,
    "start_time": "2024-10-11T23:17:16.205Z"
   },
   {
    "duration": 412,
    "start_time": "2024-10-11T23:17:29.629Z"
   },
   {
    "duration": 248,
    "start_time": "2024-10-11T23:17:50.342Z"
   },
   {
    "duration": 393,
    "start_time": "2024-10-11T23:18:12.831Z"
   },
   {
    "duration": 159,
    "start_time": "2024-10-11T23:18:36.342Z"
   },
   {
    "duration": 4,
    "start_time": "2024-10-11T23:20:26.966Z"
   },
   {
    "duration": 4,
    "start_time": "2024-10-11T23:20:48.594Z"
   },
   {
    "duration": 6,
    "start_time": "2024-10-11T23:20:58.513Z"
   },
   {
    "duration": 213,
    "start_time": "2024-10-11T23:21:31.877Z"
   },
   {
    "duration": 4,
    "start_time": "2024-10-11T23:21:51.730Z"
   },
   {
    "duration": 4,
    "start_time": "2024-10-11T23:22:13.777Z"
   },
   {
    "duration": 55,
    "start_time": "2024-10-11T23:23:19.696Z"
   },
   {
    "duration": 260,
    "start_time": "2024-10-11T23:23:32.304Z"
   },
   {
    "duration": 253,
    "start_time": "2024-10-11T23:23:37.553Z"
   },
   {
    "duration": 1148,
    "start_time": "2024-10-11T23:23:44.132Z"
   },
   {
    "duration": 55,
    "start_time": "2024-10-11T23:23:45.281Z"
   },
   {
    "duration": 19,
    "start_time": "2024-10-11T23:23:45.338Z"
   },
   {
    "duration": 15,
    "start_time": "2024-10-11T23:23:45.359Z"
   },
   {
    "duration": 9,
    "start_time": "2024-10-11T23:23:45.377Z"
   },
   {
    "duration": 17,
    "start_time": "2024-10-11T23:23:45.387Z"
   },
   {
    "duration": 8,
    "start_time": "2024-10-11T23:23:45.405Z"
   },
   {
    "duration": 16,
    "start_time": "2024-10-11T23:23:45.414Z"
   },
   {
    "duration": 7,
    "start_time": "2024-10-11T23:23:45.432Z"
   },
   {
    "duration": 4,
    "start_time": "2024-10-11T23:23:45.440Z"
   },
   {
    "duration": 33,
    "start_time": "2024-10-11T23:23:45.446Z"
   },
   {
    "duration": 4,
    "start_time": "2024-10-11T23:23:45.481Z"
   },
   {
    "duration": 12,
    "start_time": "2024-10-11T23:23:45.486Z"
   },
   {
    "duration": 17,
    "start_time": "2024-10-11T23:23:45.501Z"
   },
   {
    "duration": 7,
    "start_time": "2024-10-11T23:23:45.520Z"
   },
   {
    "duration": 21,
    "start_time": "2024-10-11T23:23:45.528Z"
   },
   {
    "duration": 6,
    "start_time": "2024-10-11T23:23:45.551Z"
   },
   {
    "duration": 27,
    "start_time": "2024-10-11T23:23:45.558Z"
   },
   {
    "duration": 4,
    "start_time": "2024-10-11T23:23:45.587Z"
   },
   {
    "duration": 17,
    "start_time": "2024-10-11T23:23:45.593Z"
   },
   {
    "duration": 25,
    "start_time": "2024-10-11T23:23:45.612Z"
   },
   {
    "duration": 26,
    "start_time": "2024-10-11T23:23:45.638Z"
   },
   {
    "duration": 7,
    "start_time": "2024-10-11T23:23:45.666Z"
   },
   {
    "duration": 15,
    "start_time": "2024-10-11T23:23:45.675Z"
   },
   {
    "duration": 323,
    "start_time": "2024-10-11T23:23:45.692Z"
   },
   {
    "duration": 6,
    "start_time": "2024-10-11T23:23:46.016Z"
   },
   {
    "duration": 97,
    "start_time": "2024-10-11T23:23:46.024Z"
   },
   {
    "duration": 8,
    "start_time": "2024-10-11T23:23:46.122Z"
   },
   {
    "duration": 262,
    "start_time": "2024-10-11T23:23:46.131Z"
   },
   {
    "duration": 4,
    "start_time": "2024-10-11T23:23:46.395Z"
   },
   {
    "duration": 11,
    "start_time": "2024-10-11T23:23:46.401Z"
   },
   {
    "duration": 9,
    "start_time": "2024-10-11T23:23:46.414Z"
   },
   {
    "duration": 643,
    "start_time": "2024-10-11T23:23:46.424Z"
   },
   {
    "duration": 9,
    "start_time": "2024-10-11T23:23:47.069Z"
   },
   {
    "duration": 293,
    "start_time": "2024-10-11T23:23:47.080Z"
   },
   {
    "duration": 5,
    "start_time": "2024-10-11T23:23:47.375Z"
   },
   {
    "duration": 17,
    "start_time": "2024-10-11T23:23:47.381Z"
   },
   {
    "duration": 258,
    "start_time": "2024-10-11T23:23:47.400Z"
   },
   {
    "duration": 5,
    "start_time": "2024-10-11T23:23:47.659Z"
   },
   {
    "duration": 13,
    "start_time": "2024-10-11T23:23:47.665Z"
   },
   {
    "duration": 174,
    "start_time": "2024-10-11T23:23:47.683Z"
   },
   {
    "duration": 19,
    "start_time": "2024-10-11T23:23:47.858Z"
   },
   {
    "duration": 43,
    "start_time": "2024-10-11T23:23:47.879Z"
   },
   {
    "duration": 13,
    "start_time": "2024-10-11T23:23:47.923Z"
   },
   {
    "duration": 13,
    "start_time": "2024-10-11T23:23:47.937Z"
   },
   {
    "duration": 313,
    "start_time": "2024-10-11T23:23:47.951Z"
   },
   {
    "duration": 19,
    "start_time": "2024-10-11T23:23:48.266Z"
   },
   {
    "duration": 30,
    "start_time": "2024-10-11T23:23:48.286Z"
   },
   {
    "duration": 12,
    "start_time": "2024-10-11T23:23:48.318Z"
   },
   {
    "duration": 298,
    "start_time": "2024-10-11T23:23:48.332Z"
   },
   {
    "duration": 14,
    "start_time": "2024-10-11T23:23:48.632Z"
   },
   {
    "duration": 218,
    "start_time": "2024-10-11T23:23:48.648Z"
   },
   {
    "duration": 0,
    "start_time": "2024-10-11T23:23:48.875Z"
   },
   {
    "duration": 0,
    "start_time": "2024-10-11T23:23:48.876Z"
   },
   {
    "duration": 185,
    "start_time": "2024-10-11T23:25:14.372Z"
   },
   {
    "duration": 183,
    "start_time": "2024-10-11T23:25:54.842Z"
   },
   {
    "duration": 269,
    "start_time": "2024-10-11T23:26:25.937Z"
   },
   {
    "duration": 745,
    "start_time": "2024-10-11T23:27:36.233Z"
   },
   {
    "duration": 244,
    "start_time": "2024-10-11T23:29:22.739Z"
   },
   {
    "duration": 1065,
    "start_time": "2024-10-11T23:30:43.421Z"
   },
   {
    "duration": 53,
    "start_time": "2024-10-11T23:30:44.488Z"
   },
   {
    "duration": 20,
    "start_time": "2024-10-11T23:30:44.545Z"
   },
   {
    "duration": 14,
    "start_time": "2024-10-11T23:30:44.568Z"
   },
   {
    "duration": 23,
    "start_time": "2024-10-11T23:30:44.583Z"
   },
   {
    "duration": 25,
    "start_time": "2024-10-11T23:30:44.608Z"
   },
   {
    "duration": 14,
    "start_time": "2024-10-11T23:30:44.634Z"
   },
   {
    "duration": 15,
    "start_time": "2024-10-11T23:30:44.650Z"
   },
   {
    "duration": 11,
    "start_time": "2024-10-11T23:30:44.667Z"
   },
   {
    "duration": 5,
    "start_time": "2024-10-11T23:30:44.679Z"
   },
   {
    "duration": 10,
    "start_time": "2024-10-11T23:30:44.685Z"
   },
   {
    "duration": 11,
    "start_time": "2024-10-11T23:30:44.697Z"
   },
   {
    "duration": 25,
    "start_time": "2024-10-11T23:30:44.710Z"
   },
   {
    "duration": 7,
    "start_time": "2024-10-11T23:30:44.737Z"
   },
   {
    "duration": 5,
    "start_time": "2024-10-11T23:30:44.745Z"
   },
   {
    "duration": 20,
    "start_time": "2024-10-11T23:30:44.751Z"
   },
   {
    "duration": 17,
    "start_time": "2024-10-11T23:30:44.772Z"
   },
   {
    "duration": 11,
    "start_time": "2024-10-11T23:30:44.791Z"
   },
   {
    "duration": 7,
    "start_time": "2024-10-11T23:30:44.804Z"
   },
   {
    "duration": 6,
    "start_time": "2024-10-11T23:30:44.812Z"
   },
   {
    "duration": 19,
    "start_time": "2024-10-11T23:30:44.819Z"
   },
   {
    "duration": 4,
    "start_time": "2024-10-11T23:30:44.839Z"
   },
   {
    "duration": 5,
    "start_time": "2024-10-11T23:30:44.844Z"
   },
   {
    "duration": 20,
    "start_time": "2024-10-11T23:30:44.851Z"
   },
   {
    "duration": 321,
    "start_time": "2024-10-11T23:30:44.872Z"
   },
   {
    "duration": 6,
    "start_time": "2024-10-11T23:30:45.195Z"
   },
   {
    "duration": 116,
    "start_time": "2024-10-11T23:30:45.202Z"
   },
   {
    "duration": 40,
    "start_time": "2024-10-11T23:30:45.320Z"
   },
   {
    "duration": 293,
    "start_time": "2024-10-11T23:30:45.361Z"
   },
   {
    "duration": 3,
    "start_time": "2024-10-11T23:30:45.656Z"
   },
   {
    "duration": 19,
    "start_time": "2024-10-11T23:30:45.660Z"
   },
   {
    "duration": 6,
    "start_time": "2024-10-11T23:30:45.680Z"
   },
   {
    "duration": 669,
    "start_time": "2024-10-11T23:30:45.687Z"
   },
   {
    "duration": 4,
    "start_time": "2024-10-11T23:30:46.358Z"
   },
   {
    "duration": 318,
    "start_time": "2024-10-11T23:30:46.364Z"
   },
   {
    "duration": 5,
    "start_time": "2024-10-11T23:30:46.684Z"
   },
   {
    "duration": 16,
    "start_time": "2024-10-11T23:30:46.690Z"
   },
   {
    "duration": 261,
    "start_time": "2024-10-11T23:30:46.708Z"
   },
   {
    "duration": 205,
    "start_time": "2024-10-11T23:30:46.970Z"
   },
   {
    "duration": 14,
    "start_time": "2024-10-11T23:30:47.179Z"
   },
   {
    "duration": 50,
    "start_time": "2024-10-11T23:30:47.195Z"
   },
   {
    "duration": 12,
    "start_time": "2024-10-11T23:30:47.247Z"
   },
   {
    "duration": 20,
    "start_time": "2024-10-11T23:30:47.261Z"
   },
   {
    "duration": 284,
    "start_time": "2024-10-11T23:30:47.283Z"
   },
   {
    "duration": 17,
    "start_time": "2024-10-11T23:30:47.569Z"
   },
   {
    "duration": 49,
    "start_time": "2024-10-11T23:30:47.587Z"
   },
   {
    "duration": 13,
    "start_time": "2024-10-11T23:30:47.638Z"
   },
   {
    "duration": 291,
    "start_time": "2024-10-11T23:30:47.652Z"
   },
   {
    "duration": 13,
    "start_time": "2024-10-11T23:30:47.945Z"
   },
   {
    "duration": 241,
    "start_time": "2024-10-11T23:30:47.960Z"
   },
   {
    "duration": 0,
    "start_time": "2024-10-11T23:30:48.203Z"
   },
   {
    "duration": 0,
    "start_time": "2024-10-11T23:30:48.205Z"
   },
   {
    "duration": 661,
    "start_time": "2024-10-11T23:32:22.705Z"
   },
   {
    "duration": 1195,
    "start_time": "2024-10-11T23:32:38.242Z"
   },
   {
    "duration": 54,
    "start_time": "2024-10-11T23:32:39.439Z"
   },
   {
    "duration": 19,
    "start_time": "2024-10-11T23:32:39.495Z"
   },
   {
    "duration": 15,
    "start_time": "2024-10-11T23:32:39.516Z"
   },
   {
    "duration": 11,
    "start_time": "2024-10-11T23:32:39.533Z"
   },
   {
    "duration": 36,
    "start_time": "2024-10-11T23:32:39.545Z"
   },
   {
    "duration": 9,
    "start_time": "2024-10-11T23:32:39.582Z"
   },
   {
    "duration": 34,
    "start_time": "2024-10-11T23:32:39.593Z"
   },
   {
    "duration": 11,
    "start_time": "2024-10-11T23:32:39.629Z"
   },
   {
    "duration": 3,
    "start_time": "2024-10-11T23:32:39.642Z"
   },
   {
    "duration": 9,
    "start_time": "2024-10-11T23:32:39.646Z"
   },
   {
    "duration": 3,
    "start_time": "2024-10-11T23:32:39.657Z"
   },
   {
    "duration": 16,
    "start_time": "2024-10-11T23:32:39.661Z"
   },
   {
    "duration": 4,
    "start_time": "2024-10-11T23:32:39.680Z"
   },
   {
    "duration": 6,
    "start_time": "2024-10-11T23:32:39.685Z"
   },
   {
    "duration": 4,
    "start_time": "2024-10-11T23:32:39.693Z"
   },
   {
    "duration": 5,
    "start_time": "2024-10-11T23:32:39.698Z"
   },
   {
    "duration": 6,
    "start_time": "2024-10-11T23:32:39.704Z"
   },
   {
    "duration": 4,
    "start_time": "2024-10-11T23:32:39.712Z"
   },
   {
    "duration": 5,
    "start_time": "2024-10-11T23:32:39.718Z"
   },
   {
    "duration": 54,
    "start_time": "2024-10-11T23:32:39.724Z"
   },
   {
    "duration": 4,
    "start_time": "2024-10-11T23:32:39.780Z"
   },
   {
    "duration": 4,
    "start_time": "2024-10-11T23:32:39.786Z"
   },
   {
    "duration": 16,
    "start_time": "2024-10-11T23:32:39.792Z"
   },
   {
    "duration": 338,
    "start_time": "2024-10-11T23:32:39.809Z"
   },
   {
    "duration": 6,
    "start_time": "2024-10-11T23:32:40.149Z"
   },
   {
    "duration": 32,
    "start_time": "2024-10-11T23:32:40.157Z"
   },
   {
    "duration": 8,
    "start_time": "2024-10-11T23:32:40.190Z"
   },
   {
    "duration": 292,
    "start_time": "2024-10-11T23:32:40.199Z"
   },
   {
    "duration": 3,
    "start_time": "2024-10-11T23:32:40.493Z"
   },
   {
    "duration": 41,
    "start_time": "2024-10-11T23:32:40.497Z"
   },
   {
    "duration": 6,
    "start_time": "2024-10-11T23:32:40.539Z"
   },
   {
    "duration": 681,
    "start_time": "2024-10-11T23:32:40.546Z"
   },
   {
    "duration": 5,
    "start_time": "2024-10-11T23:32:41.229Z"
   },
   {
    "duration": 342,
    "start_time": "2024-10-11T23:32:41.235Z"
   },
   {
    "duration": 5,
    "start_time": "2024-10-11T23:32:41.579Z"
   },
   {
    "duration": 21,
    "start_time": "2024-10-11T23:32:41.585Z"
   },
   {
    "duration": 258,
    "start_time": "2024-10-11T23:32:41.607Z"
   },
   {
    "duration": 203,
    "start_time": "2024-10-11T23:32:41.866Z"
   },
   {
    "duration": 21,
    "start_time": "2024-10-11T23:32:42.075Z"
   },
   {
    "duration": 44,
    "start_time": "2024-10-11T23:32:42.099Z"
   },
   {
    "duration": 12,
    "start_time": "2024-10-11T23:32:42.145Z"
   },
   {
    "duration": 12,
    "start_time": "2024-10-11T23:32:42.159Z"
   },
   {
    "duration": 309,
    "start_time": "2024-10-11T23:32:42.172Z"
   },
   {
    "duration": 15,
    "start_time": "2024-10-11T23:32:42.483Z"
   },
   {
    "duration": 14,
    "start_time": "2024-10-11T23:32:42.500Z"
   },
   {
    "duration": 15,
    "start_time": "2024-10-11T23:32:42.516Z"
   },
   {
    "duration": 364,
    "start_time": "2024-10-11T23:32:42.532Z"
   },
   {
    "duration": 15,
    "start_time": "2024-10-11T23:32:42.897Z"
   },
   {
    "duration": 701,
    "start_time": "2024-10-11T23:32:42.914Z"
   },
   {
    "duration": 111,
    "start_time": "2024-10-11T23:32:43.617Z"
   },
   {
    "duration": 0,
    "start_time": "2024-10-11T23:32:43.729Z"
   },
   {
    "duration": 16,
    "start_time": "2024-10-11T23:33:20.264Z"
   },
   {
    "duration": 12,
    "start_time": "2024-10-11T23:34:24.392Z"
   },
   {
    "duration": 13,
    "start_time": "2024-10-11T23:34:38.317Z"
   },
   {
    "duration": 1149,
    "start_time": "2024-10-11T23:36:52.027Z"
   },
   {
    "duration": 55,
    "start_time": "2024-10-11T23:36:53.178Z"
   },
   {
    "duration": 19,
    "start_time": "2024-10-11T23:36:53.235Z"
   },
   {
    "duration": 34,
    "start_time": "2024-10-11T23:36:53.255Z"
   },
   {
    "duration": 9,
    "start_time": "2024-10-11T23:36:53.291Z"
   },
   {
    "duration": 16,
    "start_time": "2024-10-11T23:36:53.301Z"
   },
   {
    "duration": 9,
    "start_time": "2024-10-11T23:36:53.319Z"
   },
   {
    "duration": 8,
    "start_time": "2024-10-11T23:36:53.330Z"
   },
   {
    "duration": 37,
    "start_time": "2024-10-11T23:36:53.340Z"
   },
   {
    "duration": 3,
    "start_time": "2024-10-11T23:36:53.379Z"
   },
   {
    "duration": 12,
    "start_time": "2024-10-11T23:36:53.384Z"
   },
   {
    "duration": 5,
    "start_time": "2024-10-11T23:36:53.398Z"
   },
   {
    "duration": 6,
    "start_time": "2024-10-11T23:36:53.404Z"
   },
   {
    "duration": 3,
    "start_time": "2024-10-11T23:36:53.413Z"
   },
   {
    "duration": 4,
    "start_time": "2024-10-11T23:36:53.417Z"
   },
   {
    "duration": 4,
    "start_time": "2024-10-11T23:36:53.422Z"
   },
   {
    "duration": 6,
    "start_time": "2024-10-11T23:36:53.428Z"
   },
   {
    "duration": 44,
    "start_time": "2024-10-11T23:36:53.435Z"
   },
   {
    "duration": 5,
    "start_time": "2024-10-11T23:36:53.480Z"
   },
   {
    "duration": 5,
    "start_time": "2024-10-11T23:36:53.486Z"
   },
   {
    "duration": 14,
    "start_time": "2024-10-11T23:36:53.493Z"
   },
   {
    "duration": 4,
    "start_time": "2024-10-11T23:36:53.508Z"
   },
   {
    "duration": 7,
    "start_time": "2024-10-11T23:36:53.513Z"
   },
   {
    "duration": 14,
    "start_time": "2024-10-11T23:36:53.522Z"
   },
   {
    "duration": 343,
    "start_time": "2024-10-11T23:36:53.537Z"
   },
   {
    "duration": 5,
    "start_time": "2024-10-11T23:36:53.882Z"
   },
   {
    "duration": 53,
    "start_time": "2024-10-11T23:36:53.888Z"
   },
   {
    "duration": 7,
    "start_time": "2024-10-11T23:36:53.942Z"
   },
   {
    "duration": 269,
    "start_time": "2024-10-11T23:36:53.950Z"
   },
   {
    "duration": 3,
    "start_time": "2024-10-11T23:36:54.220Z"
   },
   {
    "duration": 10,
    "start_time": "2024-10-11T23:36:54.225Z"
   },
   {
    "duration": 5,
    "start_time": "2024-10-11T23:36:54.236Z"
   },
   {
    "duration": 657,
    "start_time": "2024-10-11T23:36:54.242Z"
   },
   {
    "duration": 5,
    "start_time": "2024-10-11T23:36:54.900Z"
   },
   {
    "duration": 320,
    "start_time": "2024-10-11T23:36:54.906Z"
   },
   {
    "duration": 5,
    "start_time": "2024-10-11T23:36:55.227Z"
   },
   {
    "duration": 43,
    "start_time": "2024-10-11T23:36:55.233Z"
   },
   {
    "duration": 252,
    "start_time": "2024-10-11T23:36:55.277Z"
   },
   {
    "duration": 196,
    "start_time": "2024-10-11T23:36:55.531Z"
   },
   {
    "duration": 15,
    "start_time": "2024-10-11T23:36:55.728Z"
   },
   {
    "duration": 13,
    "start_time": "2024-10-11T23:36:55.747Z"
   },
   {
    "duration": 13,
    "start_time": "2024-10-11T23:36:55.776Z"
   },
   {
    "duration": 16,
    "start_time": "2024-10-11T23:36:55.791Z"
   },
   {
    "duration": 297,
    "start_time": "2024-10-11T23:36:55.809Z"
   },
   {
    "duration": 14,
    "start_time": "2024-10-11T23:36:56.107Z"
   },
   {
    "duration": 34,
    "start_time": "2024-10-11T23:36:56.123Z"
   },
   {
    "duration": 18,
    "start_time": "2024-10-11T23:36:56.158Z"
   },
   {
    "duration": 303,
    "start_time": "2024-10-11T23:36:56.177Z"
   },
   {
    "duration": 14,
    "start_time": "2024-10-11T23:36:56.482Z"
   },
   {
    "duration": 667,
    "start_time": "2024-10-11T23:36:56.497Z"
   },
   {
    "duration": 19,
    "start_time": "2024-10-11T23:36:57.165Z"
   },
   {
    "duration": 15,
    "start_time": "2024-10-11T23:36:57.185Z"
   },
   {
    "duration": 1005,
    "start_time": "2024-10-12T06:43:00.866Z"
   },
   {
    "duration": 51,
    "start_time": "2024-10-12T06:43:01.873Z"
   },
   {
    "duration": 16,
    "start_time": "2024-10-12T06:43:01.927Z"
   },
   {
    "duration": 166,
    "start_time": "2024-10-12T06:43:01.945Z"
   },
   {
    "duration": 46,
    "start_time": "2024-10-12T06:43:02.112Z"
   },
   {
    "duration": 52,
    "start_time": "2024-10-12T06:43:02.160Z"
   },
   {
    "duration": 39,
    "start_time": "2024-10-12T06:43:02.213Z"
   },
   {
    "duration": 61,
    "start_time": "2024-10-12T06:43:02.253Z"
   },
   {
    "duration": 25,
    "start_time": "2024-10-12T06:43:02.315Z"
   },
   {
    "duration": 23,
    "start_time": "2024-10-12T06:43:02.342Z"
   },
   {
    "duration": 17,
    "start_time": "2024-10-12T06:43:02.366Z"
   },
   {
    "duration": 26,
    "start_time": "2024-10-12T06:43:02.384Z"
   },
   {
    "duration": 80,
    "start_time": "2024-10-12T06:43:02.411Z"
   },
   {
    "duration": 40,
    "start_time": "2024-10-12T06:43:02.492Z"
   },
   {
    "duration": 40,
    "start_time": "2024-10-12T06:43:02.533Z"
   },
   {
    "duration": 39,
    "start_time": "2024-10-12T06:43:02.574Z"
   },
   {
    "duration": 37,
    "start_time": "2024-10-12T06:43:02.614Z"
   },
   {
    "duration": 42,
    "start_time": "2024-10-12T06:43:02.653Z"
   },
   {
    "duration": 61,
    "start_time": "2024-10-12T06:43:02.696Z"
   },
   {
    "duration": 96,
    "start_time": "2024-10-12T06:43:02.758Z"
   },
   {
    "duration": 78,
    "start_time": "2024-10-12T06:43:02.856Z"
   },
   {
    "duration": 39,
    "start_time": "2024-10-12T06:43:02.935Z"
   },
   {
    "duration": 46,
    "start_time": "2024-10-12T06:43:02.976Z"
   },
   {
    "duration": 31,
    "start_time": "2024-10-12T06:43:03.023Z"
   },
   {
    "duration": 290,
    "start_time": "2024-10-12T06:43:03.055Z"
   },
   {
    "duration": 6,
    "start_time": "2024-10-12T06:43:03.346Z"
   },
   {
    "duration": 30,
    "start_time": "2024-10-12T06:43:03.353Z"
   },
   {
    "duration": 14,
    "start_time": "2024-10-12T06:43:03.386Z"
   },
   {
    "duration": 225,
    "start_time": "2024-10-12T06:43:03.402Z"
   },
   {
    "duration": 3,
    "start_time": "2024-10-12T06:43:03.628Z"
   },
   {
    "duration": 34,
    "start_time": "2024-10-12T06:43:03.632Z"
   },
   {
    "duration": 5,
    "start_time": "2024-10-12T06:43:03.667Z"
   },
   {
    "duration": 540,
    "start_time": "2024-10-12T06:43:03.673Z"
   },
   {
    "duration": 4,
    "start_time": "2024-10-12T06:43:04.214Z"
   },
   {
    "duration": 261,
    "start_time": "2024-10-12T06:43:04.220Z"
   },
   {
    "duration": 4,
    "start_time": "2024-10-12T06:43:04.482Z"
   },
   {
    "duration": 26,
    "start_time": "2024-10-12T06:43:04.488Z"
   },
   {
    "duration": 220,
    "start_time": "2024-10-12T06:43:04.515Z"
   },
   {
    "duration": 178,
    "start_time": "2024-10-12T06:43:04.737Z"
   },
   {
    "duration": 12,
    "start_time": "2024-10-12T06:43:04.917Z"
   },
   {
    "duration": 45,
    "start_time": "2024-10-12T06:43:04.930Z"
   },
   {
    "duration": 31,
    "start_time": "2024-10-12T06:43:04.976Z"
   },
   {
    "duration": 11,
    "start_time": "2024-10-12T06:43:05.008Z"
   },
   {
    "duration": 273,
    "start_time": "2024-10-12T06:43:05.020Z"
   },
   {
    "duration": 10,
    "start_time": "2024-10-12T06:43:05.294Z"
   },
   {
    "duration": 21,
    "start_time": "2024-10-12T06:43:05.311Z"
   },
   {
    "duration": 18,
    "start_time": "2024-10-12T06:43:05.333Z"
   },
   {
    "duration": 261,
    "start_time": "2024-10-12T06:43:05.353Z"
   },
   {
    "duration": 11,
    "start_time": "2024-10-12T06:43:05.615Z"
   },
   {
    "duration": 636,
    "start_time": "2024-10-12T06:43:05.627Z"
   },
   {
    "duration": 10,
    "start_time": "2024-10-12T06:43:06.264Z"
   },
   {
    "duration": 21,
    "start_time": "2024-10-12T06:43:06.275Z"
   },
   {
    "duration": 1035,
    "start_time": "2024-10-12T06:48:32.433Z"
   },
   {
    "duration": 53,
    "start_time": "2024-10-12T06:48:33.470Z"
   },
   {
    "duration": 16,
    "start_time": "2024-10-12T06:48:33.524Z"
   },
   {
    "duration": 12,
    "start_time": "2024-10-12T06:48:33.542Z"
   },
   {
    "duration": 16,
    "start_time": "2024-10-12T06:48:33.555Z"
   },
   {
    "duration": 15,
    "start_time": "2024-10-12T06:48:33.572Z"
   },
   {
    "duration": 7,
    "start_time": "2024-10-12T06:48:33.588Z"
   },
   {
    "duration": 18,
    "start_time": "2024-10-12T06:48:33.596Z"
   },
   {
    "duration": 9,
    "start_time": "2024-10-12T06:48:33.615Z"
   },
   {
    "duration": 6,
    "start_time": "2024-10-12T06:48:33.626Z"
   },
   {
    "duration": 27,
    "start_time": "2024-10-12T06:48:33.633Z"
   },
   {
    "duration": 11,
    "start_time": "2024-10-12T06:48:33.661Z"
   },
   {
    "duration": 4,
    "start_time": "2024-10-12T06:48:33.673Z"
   },
   {
    "duration": 5,
    "start_time": "2024-10-12T06:48:33.678Z"
   },
   {
    "duration": 19,
    "start_time": "2024-10-12T06:48:33.684Z"
   },
   {
    "duration": 7,
    "start_time": "2024-10-12T06:48:33.704Z"
   },
   {
    "duration": 41,
    "start_time": "2024-10-12T06:48:33.713Z"
   },
   {
    "duration": 39,
    "start_time": "2024-10-12T06:48:33.755Z"
   },
   {
    "duration": 14,
    "start_time": "2024-10-12T06:48:33.795Z"
   },
   {
    "duration": 31,
    "start_time": "2024-10-12T06:48:33.810Z"
   },
   {
    "duration": 20,
    "start_time": "2024-10-12T06:48:33.843Z"
   },
   {
    "duration": 15,
    "start_time": "2024-10-12T06:48:33.864Z"
   },
   {
    "duration": 18,
    "start_time": "2024-10-12T06:48:33.881Z"
   },
   {
    "duration": 63,
    "start_time": "2024-10-12T06:48:33.900Z"
   },
   {
    "duration": 308,
    "start_time": "2024-10-12T06:48:33.965Z"
   },
   {
    "duration": 5,
    "start_time": "2024-10-12T06:48:34.274Z"
   },
   {
    "duration": 33,
    "start_time": "2024-10-12T06:48:34.281Z"
   },
   {
    "duration": 13,
    "start_time": "2024-10-12T06:48:34.317Z"
   },
   {
    "duration": 234,
    "start_time": "2024-10-12T06:48:34.331Z"
   },
   {
    "duration": 3,
    "start_time": "2024-10-12T06:48:34.566Z"
   },
   {
    "duration": 17,
    "start_time": "2024-10-12T06:48:34.570Z"
   },
   {
    "duration": 12,
    "start_time": "2024-10-12T06:48:34.589Z"
   },
   {
    "duration": 550,
    "start_time": "2024-10-12T06:48:34.603Z"
   },
   {
    "duration": 6,
    "start_time": "2024-10-12T06:48:35.155Z"
   },
   {
    "duration": 259,
    "start_time": "2024-10-12T06:48:35.162Z"
   },
   {
    "duration": 5,
    "start_time": "2024-10-12T06:48:35.422Z"
   },
   {
    "duration": 19,
    "start_time": "2024-10-12T06:48:35.428Z"
   },
   {
    "duration": 216,
    "start_time": "2024-10-12T06:48:35.448Z"
   },
   {
    "duration": 178,
    "start_time": "2024-10-12T06:48:35.666Z"
   },
   {
    "duration": 12,
    "start_time": "2024-10-12T06:48:35.846Z"
   },
   {
    "duration": 12,
    "start_time": "2024-10-12T06:48:35.860Z"
   },
   {
    "duration": 12,
    "start_time": "2024-10-12T06:48:35.874Z"
   },
   {
    "duration": 35,
    "start_time": "2024-10-12T06:48:35.887Z"
   },
   {
    "duration": 328,
    "start_time": "2024-10-12T06:48:35.923Z"
   },
   {
    "duration": 13,
    "start_time": "2024-10-12T06:48:36.252Z"
   },
   {
    "duration": 13,
    "start_time": "2024-10-12T06:48:36.267Z"
   },
   {
    "duration": 32,
    "start_time": "2024-10-12T06:48:36.281Z"
   },
   {
    "duration": 277,
    "start_time": "2024-10-12T06:48:36.314Z"
   },
   {
    "duration": 19,
    "start_time": "2024-10-12T06:48:36.593Z"
   },
   {
    "duration": 625,
    "start_time": "2024-10-12T06:48:36.614Z"
   },
   {
    "duration": 9,
    "start_time": "2024-10-12T06:48:37.241Z"
   },
   {
    "duration": 62,
    "start_time": "2024-10-12T06:48:37.252Z"
   },
   {
    "duration": 1396,
    "start_time": "2024-10-12T07:50:05.442Z"
   },
   {
    "duration": 217,
    "start_time": "2024-10-12T07:50:06.840Z"
   },
   {
    "duration": 22,
    "start_time": "2024-10-12T07:50:07.059Z"
   },
   {
    "duration": 17,
    "start_time": "2024-10-12T07:50:07.083Z"
   },
   {
    "duration": 25,
    "start_time": "2024-10-12T07:50:07.102Z"
   },
   {
    "duration": 26,
    "start_time": "2024-10-12T07:50:07.129Z"
   },
   {
    "duration": 9,
    "start_time": "2024-10-12T07:50:07.157Z"
   },
   {
    "duration": 8,
    "start_time": "2024-10-12T07:50:07.168Z"
   },
   {
    "duration": 31,
    "start_time": "2024-10-12T07:50:07.178Z"
   },
   {
    "duration": 66,
    "start_time": "2024-10-12T07:50:07.212Z"
   },
   {
    "duration": 22,
    "start_time": "2024-10-12T07:50:07.280Z"
   },
   {
    "duration": 16,
    "start_time": "2024-10-12T07:50:07.304Z"
   },
   {
    "duration": 7,
    "start_time": "2024-10-12T07:50:07.322Z"
   },
   {
    "duration": 15,
    "start_time": "2024-10-12T07:50:07.331Z"
   },
   {
    "duration": 8,
    "start_time": "2024-10-12T07:50:07.348Z"
   },
   {
    "duration": 24,
    "start_time": "2024-10-12T07:50:07.358Z"
   },
   {
    "duration": 54,
    "start_time": "2024-10-12T07:50:07.384Z"
   },
   {
    "duration": 11,
    "start_time": "2024-10-12T07:50:07.440Z"
   },
   {
    "duration": 83,
    "start_time": "2024-10-12T07:50:07.452Z"
   },
   {
    "duration": 38,
    "start_time": "2024-10-12T07:50:07.537Z"
   },
   {
    "duration": 54,
    "start_time": "2024-10-12T07:50:07.578Z"
   },
   {
    "duration": 8,
    "start_time": "2024-10-12T07:50:07.634Z"
   },
   {
    "duration": 6,
    "start_time": "2024-10-12T07:50:07.644Z"
   },
   {
    "duration": 20,
    "start_time": "2024-10-12T07:50:07.651Z"
   },
   {
    "duration": 341,
    "start_time": "2024-10-12T07:50:07.674Z"
   },
   {
    "duration": 6,
    "start_time": "2024-10-12T07:50:08.017Z"
   },
   {
    "duration": 28,
    "start_time": "2024-10-12T07:50:08.024Z"
   },
   {
    "duration": 8,
    "start_time": "2024-10-12T07:50:08.056Z"
   },
   {
    "duration": 324,
    "start_time": "2024-10-12T07:50:08.065Z"
   },
   {
    "duration": 9,
    "start_time": "2024-10-12T07:50:08.391Z"
   },
   {
    "duration": 52,
    "start_time": "2024-10-12T07:50:08.402Z"
   },
   {
    "duration": 31,
    "start_time": "2024-10-12T07:50:08.456Z"
   },
   {
    "duration": 717,
    "start_time": "2024-10-12T07:50:08.488Z"
   },
   {
    "duration": 6,
    "start_time": "2024-10-12T07:50:09.207Z"
   },
   {
    "duration": 372,
    "start_time": "2024-10-12T07:50:09.215Z"
   },
   {
    "duration": 9,
    "start_time": "2024-10-12T07:50:09.589Z"
   },
   {
    "duration": 16,
    "start_time": "2024-10-12T07:50:09.599Z"
   },
   {
    "duration": 283,
    "start_time": "2024-10-12T07:50:09.616Z"
   },
   {
    "duration": 208,
    "start_time": "2024-10-12T07:50:09.901Z"
   },
   {
    "duration": 15,
    "start_time": "2024-10-12T07:50:10.111Z"
   },
   {
    "duration": 23,
    "start_time": "2024-10-12T07:50:10.127Z"
   },
   {
    "duration": 33,
    "start_time": "2024-10-12T07:50:10.151Z"
   },
   {
    "duration": 105,
    "start_time": "2024-10-12T07:50:10.185Z"
   },
   {
    "duration": 310,
    "start_time": "2024-10-12T07:50:10.291Z"
   },
   {
    "duration": 14,
    "start_time": "2024-10-12T07:50:10.603Z"
   },
   {
    "duration": 35,
    "start_time": "2024-10-12T07:50:10.619Z"
   },
   {
    "duration": 14,
    "start_time": "2024-10-12T07:50:10.656Z"
   },
   {
    "duration": 318,
    "start_time": "2024-10-12T07:50:10.672Z"
   },
   {
    "duration": 20,
    "start_time": "2024-10-12T07:50:10.991Z"
   },
   {
    "duration": 718,
    "start_time": "2024-10-12T07:50:11.012Z"
   },
   {
    "duration": 14,
    "start_time": "2024-10-12T07:50:11.732Z"
   },
   {
    "duration": 15,
    "start_time": "2024-10-12T07:50:11.749Z"
   },
   {
    "duration": 8,
    "start_time": "2024-10-12T07:56:11.675Z"
   },
   {
    "duration": 8,
    "start_time": "2024-10-12T08:00:45.255Z"
   },
   {
    "duration": 9,
    "start_time": "2024-10-12T08:00:56.840Z"
   },
   {
    "duration": 9,
    "start_time": "2024-10-12T08:01:20.615Z"
   },
   {
    "duration": 3,
    "start_time": "2024-10-12T08:01:51.011Z"
   },
   {
    "duration": 100,
    "start_time": "2024-10-12T08:06:31.975Z"
   },
   {
    "duration": 932,
    "start_time": "2024-10-12T08:06:54.432Z"
   },
   {
    "duration": 833,
    "start_time": "2024-10-12T08:07:38.622Z"
   },
   {
    "duration": 822,
    "start_time": "2024-10-12T08:08:43.826Z"
   },
   {
    "duration": 937,
    "start_time": "2024-10-12T08:09:15.680Z"
   },
   {
    "duration": 897,
    "start_time": "2024-10-12T08:09:27.669Z"
   },
   {
    "duration": 189,
    "start_time": "2024-10-12T08:22:09.882Z"
   },
   {
    "duration": 187,
    "start_time": "2024-10-12T08:22:47.210Z"
   },
   {
    "duration": 105,
    "start_time": "2024-10-12T08:27:58.894Z"
   },
   {
    "duration": 13,
    "start_time": "2024-10-12T08:28:05.871Z"
   },
   {
    "duration": 10,
    "start_time": "2024-10-12T08:28:13.187Z"
   },
   {
    "duration": 7,
    "start_time": "2024-10-12T08:28:41.127Z"
   },
   {
    "duration": 7,
    "start_time": "2024-10-12T08:28:50.720Z"
   },
   {
    "duration": 671,
    "start_time": "2024-10-12T08:31:52.016Z"
   },
   {
    "duration": 577,
    "start_time": "2024-10-12T08:32:17.648Z"
   },
   {
    "duration": 311,
    "start_time": "2024-10-12T08:32:34.431Z"
   },
   {
    "duration": 1309,
    "start_time": "2024-10-12T08:33:18.714Z"
   },
   {
    "duration": 62,
    "start_time": "2024-10-12T08:33:20.025Z"
   },
   {
    "duration": 22,
    "start_time": "2024-10-12T08:33:20.088Z"
   },
   {
    "duration": 15,
    "start_time": "2024-10-12T08:33:20.112Z"
   },
   {
    "duration": 13,
    "start_time": "2024-10-12T08:33:20.128Z"
   },
   {
    "duration": 19,
    "start_time": "2024-10-12T08:33:20.142Z"
   },
   {
    "duration": 35,
    "start_time": "2024-10-12T08:33:20.163Z"
   },
   {
    "duration": 11,
    "start_time": "2024-10-12T08:33:20.200Z"
   },
   {
    "duration": 11,
    "start_time": "2024-10-12T08:33:20.213Z"
   },
   {
    "duration": 4,
    "start_time": "2024-10-12T08:33:20.227Z"
   },
   {
    "duration": 15,
    "start_time": "2024-10-12T08:33:20.233Z"
   },
   {
    "duration": 5,
    "start_time": "2024-10-12T08:33:20.250Z"
   },
   {
    "duration": 42,
    "start_time": "2024-10-12T08:33:20.257Z"
   },
   {
    "duration": 5,
    "start_time": "2024-10-12T08:33:20.301Z"
   },
   {
    "duration": 7,
    "start_time": "2024-10-12T08:33:20.307Z"
   },
   {
    "duration": 5,
    "start_time": "2024-10-12T08:33:20.315Z"
   },
   {
    "duration": 6,
    "start_time": "2024-10-12T08:33:20.322Z"
   },
   {
    "duration": 8,
    "start_time": "2024-10-12T08:33:20.330Z"
   },
   {
    "duration": 6,
    "start_time": "2024-10-12T08:33:20.340Z"
   },
   {
    "duration": 10,
    "start_time": "2024-10-12T08:33:20.348Z"
   },
   {
    "duration": 16,
    "start_time": "2024-10-12T08:33:20.397Z"
   },
   {
    "duration": 5,
    "start_time": "2024-10-12T08:33:20.414Z"
   },
   {
    "duration": 10,
    "start_time": "2024-10-12T08:33:20.420Z"
   },
   {
    "duration": 17,
    "start_time": "2024-10-12T08:33:20.431Z"
   },
   {
    "duration": 385,
    "start_time": "2024-10-12T08:33:20.450Z"
   },
   {
    "duration": 7,
    "start_time": "2024-10-12T08:33:20.837Z"
   },
   {
    "duration": 19,
    "start_time": "2024-10-12T08:33:20.846Z"
   },
   {
    "duration": 30,
    "start_time": "2024-10-12T08:33:20.868Z"
   },
   {
    "duration": 293,
    "start_time": "2024-10-12T08:33:20.900Z"
   },
   {
    "duration": 3,
    "start_time": "2024-10-12T08:33:21.198Z"
   },
   {
    "duration": 30,
    "start_time": "2024-10-12T08:33:21.202Z"
   },
   {
    "duration": 20,
    "start_time": "2024-10-12T08:33:21.234Z"
   },
   {
    "duration": 738,
    "start_time": "2024-10-12T08:33:21.256Z"
   },
   {
    "duration": 5,
    "start_time": "2024-10-12T08:33:21.998Z"
   },
   {
    "duration": 341,
    "start_time": "2024-10-12T08:33:22.004Z"
   },
   {
    "duration": 5,
    "start_time": "2024-10-12T08:33:22.346Z"
   },
   {
    "duration": 19,
    "start_time": "2024-10-12T08:33:22.353Z"
   },
   {
    "duration": 281,
    "start_time": "2024-10-12T08:33:22.373Z"
   },
   {
    "duration": 8,
    "start_time": "2024-10-12T08:33:22.655Z"
   },
   {
    "duration": 824,
    "start_time": "2024-10-12T08:33:22.665Z"
   },
   {
    "duration": 203,
    "start_time": "2024-10-12T08:33:23.497Z"
   },
   {
    "duration": 14,
    "start_time": "2024-10-12T08:33:23.702Z"
   },
   {
    "duration": 15,
    "start_time": "2024-10-12T08:33:23.718Z"
   },
   {
    "duration": 18,
    "start_time": "2024-10-12T08:33:23.734Z"
   },
   {
    "duration": 13,
    "start_time": "2024-10-12T08:33:23.753Z"
   },
   {
    "duration": 332,
    "start_time": "2024-10-12T08:33:23.768Z"
   },
   {
    "duration": 14,
    "start_time": "2024-10-12T08:33:24.101Z"
   },
   {
    "duration": 13,
    "start_time": "2024-10-12T08:33:24.117Z"
   },
   {
    "duration": 16,
    "start_time": "2024-10-12T08:33:24.131Z"
   },
   {
    "duration": 432,
    "start_time": "2024-10-12T08:33:24.148Z"
   },
   {
    "duration": 25,
    "start_time": "2024-10-12T08:33:24.581Z"
   },
   {
    "duration": 694,
    "start_time": "2024-10-12T08:33:24.608Z"
   },
   {
    "duration": 13,
    "start_time": "2024-10-12T08:33:25.303Z"
   },
   {
    "duration": 21,
    "start_time": "2024-10-12T08:33:25.318Z"
   },
   {
    "duration": 1203,
    "start_time": "2024-10-12T08:37:50.215Z"
   },
   {
    "duration": 59,
    "start_time": "2024-10-12T08:37:51.419Z"
   },
   {
    "duration": 21,
    "start_time": "2024-10-12T08:37:51.479Z"
   },
   {
    "duration": 15,
    "start_time": "2024-10-12T08:37:51.502Z"
   },
   {
    "duration": 12,
    "start_time": "2024-10-12T08:37:51.518Z"
   },
   {
    "duration": 21,
    "start_time": "2024-10-12T08:37:51.531Z"
   },
   {
    "duration": 9,
    "start_time": "2024-10-12T08:37:51.553Z"
   },
   {
    "duration": 34,
    "start_time": "2024-10-12T08:37:51.564Z"
   },
   {
    "duration": 66,
    "start_time": "2024-10-12T08:37:51.600Z"
   },
   {
    "duration": 9,
    "start_time": "2024-10-12T08:37:51.669Z"
   },
   {
    "duration": 17,
    "start_time": "2024-10-12T08:37:51.680Z"
   },
   {
    "duration": 21,
    "start_time": "2024-10-12T08:37:51.698Z"
   },
   {
    "duration": 14,
    "start_time": "2024-10-12T08:37:51.720Z"
   },
   {
    "duration": 12,
    "start_time": "2024-10-12T08:37:51.735Z"
   },
   {
    "duration": 10,
    "start_time": "2024-10-12T08:37:51.749Z"
   },
   {
    "duration": 4,
    "start_time": "2024-10-12T08:37:51.760Z"
   },
   {
    "duration": 14,
    "start_time": "2024-10-12T08:37:51.765Z"
   },
   {
    "duration": 8,
    "start_time": "2024-10-12T08:37:51.780Z"
   },
   {
    "duration": 12,
    "start_time": "2024-10-12T08:37:51.789Z"
   },
   {
    "duration": 24,
    "start_time": "2024-10-12T08:37:51.803Z"
   },
   {
    "duration": 25,
    "start_time": "2024-10-12T08:37:51.829Z"
   },
   {
    "duration": 11,
    "start_time": "2024-10-12T08:37:51.856Z"
   },
   {
    "duration": 9,
    "start_time": "2024-10-12T08:37:51.869Z"
   },
   {
    "duration": 16,
    "start_time": "2024-10-12T08:37:51.879Z"
   },
   {
    "duration": 340,
    "start_time": "2024-10-12T08:37:51.896Z"
   },
   {
    "duration": 6,
    "start_time": "2024-10-12T08:37:52.238Z"
   },
   {
    "duration": 49,
    "start_time": "2024-10-12T08:37:52.245Z"
   },
   {
    "duration": 11,
    "start_time": "2024-10-12T08:37:52.298Z"
   },
   {
    "duration": 290,
    "start_time": "2024-10-12T08:37:52.310Z"
   },
   {
    "duration": 4,
    "start_time": "2024-10-12T08:37:52.602Z"
   },
   {
    "duration": 16,
    "start_time": "2024-10-12T08:37:52.608Z"
   },
   {
    "duration": 6,
    "start_time": "2024-10-12T08:37:52.626Z"
   },
   {
    "duration": 719,
    "start_time": "2024-10-12T08:37:52.633Z"
   },
   {
    "duration": 4,
    "start_time": "2024-10-12T08:37:53.354Z"
   },
   {
    "duration": 371,
    "start_time": "2024-10-12T08:37:53.359Z"
   },
   {
    "duration": 5,
    "start_time": "2024-10-12T08:37:53.731Z"
   },
   {
    "duration": 27,
    "start_time": "2024-10-12T08:37:53.738Z"
   },
   {
    "duration": 283,
    "start_time": "2024-10-12T08:37:53.767Z"
   },
   {
    "duration": 8,
    "start_time": "2024-10-12T08:37:54.051Z"
   },
   {
    "duration": 806,
    "start_time": "2024-10-12T08:37:54.060Z"
   },
   {
    "duration": 204,
    "start_time": "2024-10-12T08:37:54.867Z"
   },
   {
    "duration": 15,
    "start_time": "2024-10-12T08:37:55.073Z"
   },
   {
    "duration": 20,
    "start_time": "2024-10-12T08:37:55.098Z"
   },
   {
    "duration": 13,
    "start_time": "2024-10-12T08:37:55.120Z"
   },
   {
    "duration": 25,
    "start_time": "2024-10-12T08:37:55.135Z"
   },
   {
    "duration": 310,
    "start_time": "2024-10-12T08:37:55.161Z"
   },
   {
    "duration": 13,
    "start_time": "2024-10-12T08:37:55.473Z"
   },
   {
    "duration": 14,
    "start_time": "2024-10-12T08:37:55.497Z"
   },
   {
    "duration": 13,
    "start_time": "2024-10-12T08:37:55.512Z"
   },
   {
    "duration": 436,
    "start_time": "2024-10-12T08:37:55.526Z"
   },
   {
    "duration": 15,
    "start_time": "2024-10-12T08:37:55.964Z"
   },
   {
    "duration": 676,
    "start_time": "2024-10-12T08:37:55.982Z"
   },
   {
    "duration": 13,
    "start_time": "2024-10-12T08:37:56.660Z"
   },
   {
    "duration": 31,
    "start_time": "2024-10-12T08:37:56.675Z"
   },
   {
    "duration": 990,
    "start_time": "2024-10-12T17:06:40.076Z"
   },
   {
    "duration": 173,
    "start_time": "2024-10-12T17:06:41.068Z"
   },
   {
    "duration": 15,
    "start_time": "2024-10-12T17:06:41.242Z"
   },
   {
    "duration": 12,
    "start_time": "2024-10-12T17:06:41.259Z"
   },
   {
    "duration": 9,
    "start_time": "2024-10-12T17:06:41.272Z"
   },
   {
    "duration": 30,
    "start_time": "2024-10-12T17:06:41.282Z"
   },
   {
    "duration": 6,
    "start_time": "2024-10-12T17:06:41.314Z"
   },
   {
    "duration": 6,
    "start_time": "2024-10-12T17:06:41.322Z"
   },
   {
    "duration": 7,
    "start_time": "2024-10-12T17:06:41.329Z"
   },
   {
    "duration": 3,
    "start_time": "2024-10-12T17:06:41.338Z"
   },
   {
    "duration": 8,
    "start_time": "2024-10-12T17:06:41.342Z"
   },
   {
    "duration": 3,
    "start_time": "2024-10-12T17:06:41.352Z"
   },
   {
    "duration": 4,
    "start_time": "2024-10-12T17:06:41.356Z"
   },
   {
    "duration": 3,
    "start_time": "2024-10-12T17:06:41.361Z"
   },
   {
    "duration": 7,
    "start_time": "2024-10-12T17:06:41.365Z"
   },
   {
    "duration": 40,
    "start_time": "2024-10-12T17:06:41.373Z"
   },
   {
    "duration": 4,
    "start_time": "2024-10-12T17:06:41.414Z"
   },
   {
    "duration": 16,
    "start_time": "2024-10-12T17:06:41.420Z"
   },
   {
    "duration": 5,
    "start_time": "2024-10-12T17:06:41.438Z"
   },
   {
    "duration": 7,
    "start_time": "2024-10-12T17:06:41.444Z"
   },
   {
    "duration": 26,
    "start_time": "2024-10-12T17:06:41.453Z"
   },
   {
    "duration": 3,
    "start_time": "2024-10-12T17:06:41.480Z"
   },
   {
    "duration": 15,
    "start_time": "2024-10-12T17:06:41.484Z"
   },
   {
    "duration": 14,
    "start_time": "2024-10-12T17:06:41.500Z"
   },
   {
    "duration": 276,
    "start_time": "2024-10-12T17:06:41.515Z"
   },
   {
    "duration": 5,
    "start_time": "2024-10-12T17:06:41.792Z"
   },
   {
    "duration": 22,
    "start_time": "2024-10-12T17:06:41.798Z"
   },
   {
    "duration": 6,
    "start_time": "2024-10-12T17:06:41.823Z"
   },
   {
    "duration": 236,
    "start_time": "2024-10-12T17:06:41.830Z"
   },
   {
    "duration": 2,
    "start_time": "2024-10-12T17:06:42.067Z"
   },
   {
    "duration": 8,
    "start_time": "2024-10-12T17:06:42.070Z"
   },
   {
    "duration": 4,
    "start_time": "2024-10-12T17:06:42.080Z"
   },
   {
    "duration": 531,
    "start_time": "2024-10-12T17:06:42.085Z"
   },
   {
    "duration": 4,
    "start_time": "2024-10-12T17:06:42.618Z"
   },
   {
    "duration": 245,
    "start_time": "2024-10-12T17:06:42.623Z"
   },
   {
    "duration": 4,
    "start_time": "2024-10-12T17:06:42.869Z"
   },
   {
    "duration": 22,
    "start_time": "2024-10-12T17:06:42.875Z"
   },
   {
    "duration": 215,
    "start_time": "2024-10-12T17:06:42.898Z"
   },
   {
    "duration": 7,
    "start_time": "2024-10-12T17:06:43.114Z"
   },
   {
    "duration": 668,
    "start_time": "2024-10-12T17:06:43.123Z"
   },
   {
    "duration": 159,
    "start_time": "2024-10-12T17:06:43.793Z"
   },
   {
    "duration": 13,
    "start_time": "2024-10-12T17:06:43.953Z"
   },
   {
    "duration": 57,
    "start_time": "2024-10-12T17:06:43.967Z"
   },
   {
    "duration": 10,
    "start_time": "2024-10-12T17:06:44.026Z"
   },
   {
    "duration": 13,
    "start_time": "2024-10-12T17:06:44.038Z"
   },
   {
    "duration": 255,
    "start_time": "2024-10-12T17:06:44.053Z"
   },
   {
    "duration": 11,
    "start_time": "2024-10-12T17:06:44.309Z"
   },
   {
    "duration": 14,
    "start_time": "2024-10-12T17:06:44.321Z"
   },
   {
    "duration": 11,
    "start_time": "2024-10-12T17:06:44.336Z"
   },
   {
    "duration": 317,
    "start_time": "2024-10-12T17:06:44.348Z"
   },
   {
    "duration": 11,
    "start_time": "2024-10-12T17:06:44.667Z"
   },
   {
    "duration": 587,
    "start_time": "2024-10-12T17:06:44.680Z"
   },
   {
    "duration": 13,
    "start_time": "2024-10-12T17:06:45.269Z"
   },
   {
    "duration": 27,
    "start_time": "2024-10-12T17:06:45.283Z"
   }
  ],
  "kernelspec": {
   "display_name": "Python 3 (ipykernel)",
   "language": "python",
   "name": "python3"
  },
  "language_info": {
   "codemirror_mode": {
    "name": "ipython",
    "version": 3
   },
   "file_extension": ".py",
   "mimetype": "text/x-python",
   "name": "python",
   "nbconvert_exporter": "python",
   "pygments_lexer": "ipython3",
   "version": "3.12.4"
  },
  "toc": {
   "base_numbering": 1,
   "nav_menu": {},
   "number_sections": true,
   "sideBar": true,
   "skip_h1_title": true,
   "title_cell": "Table of Contents",
   "title_sidebar": "Contents",
   "toc_cell": false,
   "toc_position": {},
   "toc_section_display": true,
   "toc_window_display": false
  }
 },
 "nbformat": 4,
 "nbformat_minor": 5
}
